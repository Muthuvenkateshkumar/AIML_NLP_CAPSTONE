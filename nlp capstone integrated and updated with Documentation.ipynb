{
 "cells": [
  {
   "cell_type": "markdown",
   "metadata": {},
   "source": [
    "# AIML Capstone Project - NLP - 1 - Automatic Ticket Assignment\n",
    "\n",
    "- Status :- Interim Report - Draft for Team Review"
   ]
  },
  {
   "cell_type": "markdown",
   "metadata": {},
   "source": [
    "In this capstone project, the goal is to build a classifier that can classify the tickets by analyzing text.\n",
    "\n",
    "Details about the data and dataset files are given in below link, https://drive.google.com/open?id=1OZNJm81JXucV3HmZroMq6qCT2m7ez7IJ\n",
    "    \n",
    "Note : The above link is inaccessible @ Request Shyam's views for the same    \n",
    "\n",
    "## Pre-Processing, Data Visualization and EDA\n",
    "\n",
    "● Exploring the given Data files\n",
    "● Understanding the structure of data\n",
    "● Missing points in data\n",
    "● Finding inconsistencies in the data\n",
    "● Visualizing different patterns\n",
    "● Visualizing different text features\n",
    "● Dealing with missing values\n",
    "● Text preprocessing\n",
    "● Creating word vocabulary from the corpus of report text data\n",
    "● Creating tokens as required"
   ]
  },
  {
   "cell_type": "markdown",
   "metadata": {},
   "source": [
    "## Project Objectives\n",
    "\n",
    "The objective of the project is,\n",
    "\n",
    " Learn how to use different classification models.\n",
    " Use transfer learning to use pre-built models.  Learn to set the optimizers, loss functions, epochs, learning rate, batch size, checkpointing, early stopping etc.\n",
    " Read different research papers of given domain to obtain the knowledge of advanced models for the given problem."
   ]
  },
  {
   "cell_type": "markdown",
   "metadata": {},
   "source": [
    "## Project submissions and Evaluation Criteria\n",
    "\n",
    "Submit the project as given below.\n",
    "\n",
    " Report with Problem Statement, Related Work, Your Approach and comparison of results with other models written in Latex.\n",
    "\n",
    " Github link of where the model is hosted\n"
   ]
  },
  {
   "cell_type": "markdown",
   "metadata": {},
   "source": [
    "##  Problem Statement\n",
    "\n",
    "An Incident is something that is unplanned interruption to an IT service or reduction in the quality of an IT service that \n",
    "affects the Users and the Business. The main goal of Incident Management process is to provide a quick fix / workarounds \n",
    "or solutions\n",
    "\n",
    "In most of the organizations, incidents are created by various Business and IT Users, End Users/ Vendors through Ticketting \n",
    "systems if available or manually assigning the incidents to the appropriate person or unit for fix and support. \n",
    "\n",
    "The assignment of incidents to appropriate IT groups through manual processes having many challenges like the effort/cost & time \n",
    "spent on this manual ticketing system is fairly high and the required fix turn around time mostly not within the expected timeline. \n",
    "\n",
    "##### All these above said points are due to inappropriate manual processing and allocation of incident Tickets to L3 support teams. \n",
    "\n"
   ]
  },
  {
   "cell_type": "markdown",
   "metadata": {},
   "source": [
    "## Related Work\n",
    "\n",
    "\n"
   ]
  },
  {
   "cell_type": "markdown",
   "metadata": {},
   "source": [
    "## Solution Approach\n",
    "\n",
    "As per our Review and Analysis on the given problem statment, we would like to provide solution as given below\n",
    "\n",
    "### Pre-Processing Data\n",
    "    ### Manipulation or dropping of data in order to ensure enhance performance\n",
    "    ### Technics - Data Cleaning / Clencing / Data Integration / Data transformation & reduction\n",
    "    \n",
    "    ### Ticket classification with machine learning solves this problem. \n",
    "    ### AI tools using 'NLP - Natural language processing' are able to learn, adapt, and determine actions to take, \n",
    "    ### without human input\n",
    "    ### So here NLP is being used to understrand Text content and define rules accordingly to solve the problem\n",
    "    ### For the given Problem statement, 'Ticket classification (Topic & Sentiment)' is the key to streamline \n",
    "    ### Unstructed data to structed Data\n",
    "    ### and setup the right data platform for the right fixes in quick turn around time in orderly manner\n",
    "    \n",
    "\n",
    "\n"
   ]
  },
  {
   "cell_type": "code",
   "execution_count": null,
   "metadata": {
    "id": "P7gqsfEbRts0"
   },
   "outputs": [],
   "source": [
    "# Imports"
   ]
  },
  {
   "cell_type": "code",
   "execution_count": 2,
   "metadata": {
    "executionInfo": {
     "elapsed": 766,
     "status": "ok",
     "timestamp": 1637422362101,
     "user": {
      "displayName": "shikha sharma",
      "photoUrl": "https://lh3.googleusercontent.com/a-/AOh14Gi7-MZ8BB7Qmx-tZ4fMVMWE32u_g_Wo7RIqAY8HaA=s64",
      "userId": "18236534953658718874"
     },
     "user_tz": -330
    },
    "id": "MdP9Kh_yPPQ-",
    "scrolled": true
   },
   "outputs": [
    {
     "name": "stdout",
     "output_type": "stream",
     "text": [
      "Requirement already satisfied: spacy in c:\\users\\dell\\anaconda6\\lib\\site-packages (3.2.2)\n",
      "Requirement already satisfied: wasabi<1.1.0,>=0.8.1 in c:\\users\\dell\\anaconda6\\lib\\site-packages (from spacy) (0.9.0)\n",
      "Requirement already satisfied: srsly<3.0.0,>=2.4.1 in c:\\users\\dell\\anaconda6\\lib\\site-packages (from spacy) (2.4.2)\n",
      "Requirement already satisfied: preshed<3.1.0,>=3.0.2 in c:\\users\\dell\\anaconda6\\lib\\site-packages (from spacy) (3.0.6)\n",
      "Requirement already satisfied: tqdm<5.0.0,>=4.38.0 in c:\\users\\dell\\anaconda6\\lib\\site-packages (from spacy) (4.62.3)\n",
      "Requirement already satisfied: pydantic!=1.8,!=1.8.1,<1.9.0,>=1.7.4 in c:\\users\\dell\\anaconda6\\lib\\site-packages (from spacy) (1.8.2)\n",
      "Requirement already satisfied: setuptools in c:\\users\\dell\\anaconda6\\lib\\site-packages (from spacy) (58.0.4)\n",
      "Requirement already satisfied: blis<0.8.0,>=0.4.0 in c:\\users\\dell\\anaconda6\\lib\\site-packages (from spacy) (0.7.5)\n",
      "Requirement already satisfied: thinc<8.1.0,>=8.0.12 in c:\\users\\dell\\anaconda6\\lib\\site-packages (from spacy) (8.0.13)\n",
      "Requirement already satisfied: numpy>=1.15.0 in c:\\users\\dell\\anaconda6\\lib\\site-packages (from spacy) (1.20.3)\n",
      "Requirement already satisfied: langcodes<4.0.0,>=3.2.0 in c:\\users\\dell\\anaconda6\\lib\\site-packages (from spacy) (3.3.0)\n",
      "Requirement already satisfied: spacy-loggers<2.0.0,>=1.0.0 in c:\\users\\dell\\anaconda6\\lib\\site-packages (from spacy) (1.0.1)\n",
      "Requirement already satisfied: jinja2 in c:\\users\\dell\\appdata\\roaming\\python\\python39\\site-packages (from spacy) (3.0.3)\n",
      "Requirement already satisfied: catalogue<2.1.0,>=2.0.6 in c:\\users\\dell\\anaconda6\\lib\\site-packages (from spacy) (2.0.6)\n",
      "Requirement already satisfied: typer<0.5.0,>=0.3.0 in c:\\users\\dell\\anaconda6\\lib\\site-packages (from spacy) (0.4.0)\n",
      "Requirement already satisfied: requests<3.0.0,>=2.13.0 in c:\\users\\dell\\anaconda6\\lib\\site-packages (from spacy) (2.27.1)\n",
      "Requirement already satisfied: spacy-legacy<3.1.0,>=3.0.8 in c:\\users\\dell\\anaconda6\\lib\\site-packages (from spacy) (3.0.8)\n",
      "Requirement already satisfied: packaging>=20.0 in c:\\users\\dell\\appdata\\roaming\\python\\python39\\site-packages (from spacy) (21.3)\n",
      "Requirement already satisfied: cymem<2.1.0,>=2.0.2 in c:\\users\\dell\\anaconda6\\lib\\site-packages (from spacy) (2.0.6)\n",
      "Requirement already satisfied: pathy>=0.3.5 in c:\\users\\dell\\anaconda6\\lib\\site-packages (from spacy) (0.6.1)\n",
      "Requirement already satisfied: murmurhash<1.1.0,>=0.28.0 in c:\\users\\dell\\anaconda6\\lib\\site-packages (from spacy) (1.0.6)\n",
      "Requirement already satisfied: pyparsing!=3.0.5,>=2.0.2 in c:\\users\\dell\\appdata\\roaming\\python\\python39\\site-packages (from packaging>=20.0->spacy) (3.0.7)\n",
      "Requirement already satisfied: smart-open<6.0.0,>=5.0.0 in c:\\users\\dell\\anaconda6\\lib\\site-packages (from pathy>=0.3.5->spacy) (5.2.1)\n",
      "Requirement already satisfied: typing-extensions>=3.7.4.3 in c:\\users\\dell\\appdata\\roaming\\python\\python39\\site-packages (from pydantic!=1.8,!=1.8.1,<1.9.0,>=1.7.4->spacy) (4.0.1)\n",
      "Requirement already satisfied: certifi>=2017.4.17 in c:\\users\\dell\\anaconda6\\lib\\site-packages (from requests<3.0.0,>=2.13.0->spacy) (2021.10.8)\n",
      "Requirement already satisfied: urllib3<1.27,>=1.21.1 in c:\\users\\dell\\anaconda6\\lib\\site-packages (from requests<3.0.0,>=2.13.0->spacy) (1.26.8)\n",
      "Requirement already satisfied: charset-normalizer~=2.0.0 in c:\\users\\dell\\anaconda6\\lib\\site-packages (from requests<3.0.0,>=2.13.0->spacy) (2.0.4)\n",
      "Requirement already satisfied: idna<4,>=2.5 in c:\\users\\dell\\anaconda6\\lib\\site-packages (from requests<3.0.0,>=2.13.0->spacy) (2.10)\n",
      "Requirement already satisfied: colorama in c:\\users\\dell\\appdata\\roaming\\python\\python39\\site-packages (from tqdm<5.0.0,>=4.38.0->spacy) (0.4.4)\n",
      "Requirement already satisfied: click<9.0.0,>=7.1.1 in c:\\users\\dell\\appdata\\roaming\\python\\python39\\site-packages (from typer<0.5.0,>=0.3.0->spacy) (8.0.3)\n",
      "Requirement already satisfied: MarkupSafe>=2.0 in c:\\users\\dell\\appdata\\roaming\\python\\python39\\site-packages (from jinja2->spacy) (2.0.1)\n"
     ]
    },
    {
     "name": "stderr",
     "output_type": "stream",
     "text": [
      "WARNING: You are using pip version 22.0.3; however, version 22.0.4 is available.\n",
      "You should consider upgrading via the 'C:\\Users\\DELL\\anaconda6\\python.exe -m pip install --upgrade pip' command.\n"
     ]
    }
   ],
   "source": [
    "import pandas as pd\n",
    "import numpy as np\n",
    "!pip install spacy\n",
    "import spacy\n",
    "from spacy.lang.en.stop_words import STOP_WORDS as stop_words\n",
    "import os\n",
    "import regex as re\n",
    "import nltk\n",
    "#nltk.download('stopwords')\n",
    "from nltk.corpus import stopwords"
   ]
  },
  {
   "cell_type": "code",
   "execution_count": 8,
   "metadata": {
    "executionInfo": {
     "elapsed": 48,
     "status": "ok",
     "timestamp": 1637422363550,
     "user": {
      "displayName": "shikha sharma",
      "photoUrl": "https://lh3.googleusercontent.com/a-/AOh14Gi7-MZ8BB7Qmx-tZ4fMVMWE32u_g_Wo7RIqAY8HaA=s64",
      "userId": "18236534953658718874"
     },
     "user_tz": -330
    },
    "id": "XfnFHBQPlB2I"
   },
   "outputs": [
    {
     "name": "stdout",
     "output_type": "stream",
     "text": [
      "Requirement already satisfied: contractions in c:\\users\\dell\\anaconda6\\lib\\site-packages (0.1.66)"
     ]
    },
    {
     "name": "stderr",
     "output_type": "stream",
     "text": [
      "WARNING: You are using pip version 22.0.3; however, version 22.0.4 is available.\n",
      "You should consider upgrading via the 'C:\\Users\\DELL\\anaconda6\\python.exe -m pip install --upgrade pip' command.\n"
     ]
    },
    {
     "name": "stdout",
     "output_type": "stream",
     "text": [
      "\n",
      "Requirement already satisfied: textsearch>=0.0.21 in c:\\users\\dell\\anaconda6\\lib\\site-packages (from contractions) (0.0.21)\n",
      "Requirement already satisfied: anyascii in c:\\users\\dell\\anaconda6\\lib\\site-packages (from textsearch>=0.0.21->contractions) (0.3.0)\n",
      "Requirement already satisfied: pyahocorasick in c:\\users\\dell\\anaconda6\\lib\\site-packages (from textsearch>=0.0.21->contractions) (1.4.4)\n",
      "Requirement already satisfied: langdetect in c:\\users\\dell\\anaconda6\\lib\\site-packages (1.0.9)\n",
      "Requirement already satisfied: six in c:\\users\\dell\\appdata\\roaming\\python\\python39\\site-packages (from langdetect) (1.16.0)\n"
     ]
    },
    {
     "name": "stderr",
     "output_type": "stream",
     "text": [
      "WARNING: You are using pip version 22.0.3; however, version 22.0.4 is available.\n",
      "You should consider upgrading via the 'C:\\Users\\DELL\\anaconda6\\python.exe -m pip install --upgrade pip' command.\n"
     ]
    }
   ],
   "source": [
    "!pip install contractions\n",
    "import contractions\n",
    "import unicodedata\n",
    "!pip install langdetect\n",
    "from langdetect import detect\n",
    "import matplotlib.pyplot as plt # data visualization library\n",
    "%matplotlib inline\n",
    "import seaborn as sns"
   ]
  },
  {
   "cell_type": "markdown",
   "metadata": {
    "id": "y8UqYaMKRzRz"
   },
   "source": [
    "# Reading the data into df"
   ]
  },
  {
   "cell_type": "code",
   "execution_count": 9,
   "metadata": {
    "executionInfo": {
     "elapsed": 462,
     "status": "ok",
     "timestamp": 1637422364002,
     "user": {
      "displayName": "shikha sharma",
      "photoUrl": "https://lh3.googleusercontent.com/a-/AOh14Gi7-MZ8BB7Qmx-tZ4fMVMWE32u_g_Wo7RIqAY8HaA=s64",
      "userId": "18236534953658718874"
     },
     "user_tz": -330
    },
    "id": "8XvXQXiJQZN4",
    "scrolled": true
   },
   "outputs": [
    {
     "data": {
      "text/html": [
       "<div>\n",
       "<style scoped>\n",
       "    .dataframe tbody tr th:only-of-type {\n",
       "        vertical-align: middle;\n",
       "    }\n",
       "\n",
       "    .dataframe tbody tr th {\n",
       "        vertical-align: top;\n",
       "    }\n",
       "\n",
       "    .dataframe thead th {\n",
       "        text-align: right;\n",
       "    }\n",
       "</style>\n",
       "<table border=\"1\" class=\"dataframe\">\n",
       "  <thead>\n",
       "    <tr style=\"text-align: right;\">\n",
       "      <th></th>\n",
       "      <th>Short description</th>\n",
       "      <th>Description</th>\n",
       "      <th>Caller</th>\n",
       "      <th>Assignment group</th>\n",
       "    </tr>\n",
       "  </thead>\n",
       "  <tbody>\n",
       "    <tr>\n",
       "      <th>0</th>\n",
       "      <td>login issue</td>\n",
       "      <td>-verified user details.(employee# &amp; manager na...</td>\n",
       "      <td>spxjnwir pjlcoqds</td>\n",
       "      <td>GRP_0</td>\n",
       "    </tr>\n",
       "    <tr>\n",
       "      <th>1</th>\n",
       "      <td>outlook</td>\n",
       "      <td>_x000D_\\n_x000D_\\nreceived from: hmjdrvpb.komu...</td>\n",
       "      <td>hmjdrvpb komuaywn</td>\n",
       "      <td>GRP_0</td>\n",
       "    </tr>\n",
       "    <tr>\n",
       "      <th>2</th>\n",
       "      <td>cant log in to vpn</td>\n",
       "      <td>_x000D_\\n_x000D_\\nreceived from: eylqgodm.ybqk...</td>\n",
       "      <td>eylqgodm ybqkwiam</td>\n",
       "      <td>GRP_0</td>\n",
       "    </tr>\n",
       "    <tr>\n",
       "      <th>3</th>\n",
       "      <td>unable to access hr_tool page</td>\n",
       "      <td>unable to access hr_tool page</td>\n",
       "      <td>xbkucsvz gcpydteq</td>\n",
       "      <td>GRP_0</td>\n",
       "    </tr>\n",
       "    <tr>\n",
       "      <th>4</th>\n",
       "      <td>skype error</td>\n",
       "      <td>skype error</td>\n",
       "      <td>owlgqjme qhcozdfx</td>\n",
       "      <td>GRP_0</td>\n",
       "    </tr>\n",
       "    <tr>\n",
       "      <th>...</th>\n",
       "      <td>...</td>\n",
       "      <td>...</td>\n",
       "      <td>...</td>\n",
       "      <td>...</td>\n",
       "    </tr>\n",
       "    <tr>\n",
       "      <th>8495</th>\n",
       "      <td>emails not coming in from zz mail</td>\n",
       "      <td>_x000D_\\n_x000D_\\nreceived from: avglmrts.vhqm...</td>\n",
       "      <td>avglmrts vhqmtiua</td>\n",
       "      <td>GRP_29</td>\n",
       "    </tr>\n",
       "    <tr>\n",
       "      <th>8496</th>\n",
       "      <td>telephony_software issue</td>\n",
       "      <td>telephony_software issue</td>\n",
       "      <td>rbozivdq gmlhrtvp</td>\n",
       "      <td>GRP_0</td>\n",
       "    </tr>\n",
       "    <tr>\n",
       "      <th>8497</th>\n",
       "      <td>vip2: windows password reset for tifpdchb pedx...</td>\n",
       "      <td>vip2: windows password reset for tifpdchb pedx...</td>\n",
       "      <td>oybwdsgx oxyhwrfz</td>\n",
       "      <td>GRP_0</td>\n",
       "    </tr>\n",
       "    <tr>\n",
       "      <th>8498</th>\n",
       "      <td>machine nÃ£o estÃ¡ funcionando</td>\n",
       "      <td>i am unable to access the machine utilities to...</td>\n",
       "      <td>ufawcgob aowhxjky</td>\n",
       "      <td>GRP_62</td>\n",
       "    </tr>\n",
       "    <tr>\n",
       "      <th>8499</th>\n",
       "      <td>an mehreren pc`s lassen sich verschiedene prgr...</td>\n",
       "      <td>an mehreren pc`s lassen sich verschiedene prgr...</td>\n",
       "      <td>kqvbrspl jyzoklfx</td>\n",
       "      <td>GRP_49</td>\n",
       "    </tr>\n",
       "  </tbody>\n",
       "</table>\n",
       "<p>8500 rows × 4 columns</p>\n",
       "</div>"
      ],
      "text/plain": [
       "                                      Short description  \\\n",
       "0                                           login issue   \n",
       "1                                               outlook   \n",
       "2                                    cant log in to vpn   \n",
       "3                         unable to access hr_tool page   \n",
       "4                                          skype error    \n",
       "...                                                 ...   \n",
       "8495                  emails not coming in from zz mail   \n",
       "8496                           telephony_software issue   \n",
       "8497  vip2: windows password reset for tifpdchb pedx...   \n",
       "8498                     machine nÃ£o estÃ¡ funcionando   \n",
       "8499  an mehreren pc`s lassen sich verschiedene prgr...   \n",
       "\n",
       "                                            Description             Caller  \\\n",
       "0     -verified user details.(employee# & manager na...  spxjnwir pjlcoqds   \n",
       "1     _x000D_\\n_x000D_\\nreceived from: hmjdrvpb.komu...  hmjdrvpb komuaywn   \n",
       "2     _x000D_\\n_x000D_\\nreceived from: eylqgodm.ybqk...  eylqgodm ybqkwiam   \n",
       "3                         unable to access hr_tool page  xbkucsvz gcpydteq   \n",
       "4                                          skype error   owlgqjme qhcozdfx   \n",
       "...                                                 ...                ...   \n",
       "8495  _x000D_\\n_x000D_\\nreceived from: avglmrts.vhqm...  avglmrts vhqmtiua   \n",
       "8496                           telephony_software issue  rbozivdq gmlhrtvp   \n",
       "8497  vip2: windows password reset for tifpdchb pedx...  oybwdsgx oxyhwrfz   \n",
       "8498  i am unable to access the machine utilities to...  ufawcgob aowhxjky   \n",
       "8499  an mehreren pc`s lassen sich verschiedene prgr...  kqvbrspl jyzoklfx   \n",
       "\n",
       "     Assignment group  \n",
       "0               GRP_0  \n",
       "1               GRP_0  \n",
       "2               GRP_0  \n",
       "3               GRP_0  \n",
       "4               GRP_0  \n",
       "...               ...  \n",
       "8495           GRP_29  \n",
       "8496            GRP_0  \n",
       "8497            GRP_0  \n",
       "8498           GRP_62  \n",
       "8499           GRP_49  \n",
       "\n",
       "[8500 rows x 4 columns]"
      ]
     },
     "execution_count": 9,
     "metadata": {},
     "output_type": "execute_result"
    }
   ],
   "source": [
    "#Reading the excel into data frame\n",
    "df = pd.read_excel('Data file.xlsx')\n",
    "df"
   ]
  },
  {
   "cell_type": "markdown",
   "metadata": {},
   "source": [
    "### Pre-Processing Data \n",
    "- Exploring the given Data files\n",
    "- Technics - Structure of Dataset, Identify data relationship & Distribution of data pattern and Points \n"
   ]
  },
  {
   "cell_type": "markdown",
   "metadata": {},
   "source": [
    "# To Check unique Assignment Group"
   ]
  },
  {
   "cell_type": "code",
   "execution_count": 10,
   "metadata": {
    "colab": {
     "base_uri": "https://localhost:8080/"
    },
    "executionInfo": {
     "elapsed": 39,
     "status": "ok",
     "timestamp": 1637422364011,
     "user": {
      "displayName": "shikha sharma",
      "photoUrl": "https://lh3.googleusercontent.com/a-/AOh14Gi7-MZ8BB7Qmx-tZ4fMVMWE32u_g_Wo7RIqAY8HaA=s64",
      "userId": "18236534953658718874"
     },
     "user_tz": -330
    },
    "id": "yxs-ob6LcMfM",
    "outputId": "402597c8-21c1-4447-8781-8f177b1f3cb1"
   },
   "outputs": [
    {
     "data": {
      "text/plain": [
       "array(['GRP_0', 'GRP_1', 'GRP_3', 'GRP_4', 'GRP_5', 'GRP_6', 'GRP_7',\n",
       "       'GRP_8', 'GRP_9', 'GRP_10', 'GRP_11', 'GRP_12', 'GRP_13', 'GRP_14',\n",
       "       'GRP_15', 'GRP_16', 'GRP_17', 'GRP_18', 'GRP_19', 'GRP_2',\n",
       "       'GRP_20', 'GRP_21', 'GRP_22', 'GRP_23', 'GRP_24', 'GRP_25',\n",
       "       'GRP_26', 'GRP_27', 'GRP_28', 'GRP_29', 'GRP_30', 'GRP_31',\n",
       "       'GRP_33', 'GRP_34', 'GRP_35', 'GRP_36', 'GRP_37', 'GRP_38',\n",
       "       'GRP_39', 'GRP_40', 'GRP_41', 'GRP_42', 'GRP_43', 'GRP_44',\n",
       "       'GRP_45', 'GRP_46', 'GRP_47', 'GRP_48', 'GRP_49', 'GRP_50',\n",
       "       'GRP_51', 'GRP_52', 'GRP_53', 'GRP_54', 'GRP_55', 'GRP_56',\n",
       "       'GRP_57', 'GRP_58', 'GRP_59', 'GRP_60', 'GRP_61', 'GRP_32',\n",
       "       'GRP_62', 'GRP_63', 'GRP_64', 'GRP_65', 'GRP_66', 'GRP_67',\n",
       "       'GRP_68', 'GRP_69', 'GRP_70', 'GRP_71', 'GRP_72', 'GRP_73'],\n",
       "      dtype=object)"
      ]
     },
     "execution_count": 10,
     "metadata": {},
     "output_type": "execute_result"
    }
   ],
   "source": [
    "#checking number of assignment groups\n",
    "df['Assignment group'].unique()"
   ]
  },
  {
   "cell_type": "markdown",
   "metadata": {
    "id": "uT5XU5rWcT87"
   },
   "source": [
    "There are total 74 groups"
   ]
  },
  {
   "cell_type": "markdown",
   "metadata": {
    "id": "uT5XU5rWcT87"
   },
   "source": [
    "Assignment Group Percentage"
   ]
  },
  {
   "cell_type": "code",
   "execution_count": 11,
   "metadata": {
    "colab": {
     "base_uri": "https://localhost:8080/",
     "height": 204
    },
    "executionInfo": {
     "elapsed": 29,
     "status": "ok",
     "timestamp": 1637422364018,
     "user": {
      "displayName": "shikha sharma",
      "photoUrl": "https://lh3.googleusercontent.com/a-/AOh14Gi7-MZ8BB7Qmx-tZ4fMVMWE32u_g_Wo7RIqAY8HaA=s64",
      "userId": "18236534953658718874"
     },
     "user_tz": -330
    },
    "id": "JKb3WorLcXWA",
    "outputId": "165cc3e8-98ff-4ef4-c6d2-cde76264d8d5"
   },
   "outputs": [
    {
     "data": {
      "text/html": [
       "<div>\n",
       "<style scoped>\n",
       "    .dataframe tbody tr th:only-of-type {\n",
       "        vertical-align: middle;\n",
       "    }\n",
       "\n",
       "    .dataframe tbody tr th {\n",
       "        vertical-align: top;\n",
       "    }\n",
       "\n",
       "    .dataframe thead th {\n",
       "        text-align: right;\n",
       "    }\n",
       "</style>\n",
       "<table border=\"1\" class=\"dataframe\">\n",
       "  <thead>\n",
       "    <tr style=\"text-align: right;\">\n",
       "      <th></th>\n",
       "      <th>index</th>\n",
       "      <th>Assignment group</th>\n",
       "      <th>percentage</th>\n",
       "    </tr>\n",
       "  </thead>\n",
       "  <tbody>\n",
       "    <tr>\n",
       "      <th>0</th>\n",
       "      <td>GRP_0</td>\n",
       "      <td>3976</td>\n",
       "      <td>46.776471</td>\n",
       "    </tr>\n",
       "    <tr>\n",
       "      <th>1</th>\n",
       "      <td>GRP_8</td>\n",
       "      <td>661</td>\n",
       "      <td>7.776471</td>\n",
       "    </tr>\n",
       "    <tr>\n",
       "      <th>2</th>\n",
       "      <td>GRP_24</td>\n",
       "      <td>289</td>\n",
       "      <td>3.400000</td>\n",
       "    </tr>\n",
       "    <tr>\n",
       "      <th>3</th>\n",
       "      <td>GRP_12</td>\n",
       "      <td>257</td>\n",
       "      <td>3.023529</td>\n",
       "    </tr>\n",
       "    <tr>\n",
       "      <th>4</th>\n",
       "      <td>GRP_9</td>\n",
       "      <td>252</td>\n",
       "      <td>2.964706</td>\n",
       "    </tr>\n",
       "  </tbody>\n",
       "</table>\n",
       "</div>"
      ],
      "text/plain": [
       "    index  Assignment group  percentage\n",
       "0   GRP_0              3976   46.776471\n",
       "1   GRP_8               661    7.776471\n",
       "2  GRP_24               289    3.400000\n",
       "3  GRP_12               257    3.023529\n",
       "4   GRP_9               252    2.964706"
      ]
     },
     "execution_count": 11,
     "metadata": {},
     "output_type": "execute_result"
    }
   ],
   "source": [
    "df_inc = df['Assignment group'].value_counts().reset_index()\n",
    "df_inc['percentage'] = (df_inc['Assignment group']/df_inc['Assignment group'].sum())*100\n",
    "df_inc.head()"
   ]
  },
  {
   "cell_type": "markdown",
   "metadata": {},
   "source": [
    "## Data Visualization\n",
    "- Plot to visualize the percentage data distribution across different groups\n",
    "- Benefits - Reconize to rapidly. Visually representation help to identify storgly corelated parameters.\n",
    "- In this below processing - We identify that overall 46% of ticketing are tagged to \"GRP_0\"\n",
    "- Plus the comparison view of GRP_0 Vs other Groups "
   ]
  },
  {
   "cell_type": "code",
   "execution_count": 12,
   "metadata": {
    "colab": {
     "base_uri": "https://localhost:8080/",
     "height": 414
    },
    "executionInfo": {
     "elapsed": 4343,
     "status": "ok",
     "timestamp": 1637422368334,
     "user": {
      "displayName": "shikha sharma",
      "photoUrl": "https://lh3.googleusercontent.com/a-/AOh14Gi7-MZ8BB7Qmx-tZ4fMVMWE32u_g_Wo7RIqAY8HaA=s64",
      "userId": "18236534953658718874"
     },
     "user_tz": -330
    },
    "id": "JeI6Vlsr9Bdk",
    "outputId": "0c8d97e9-21fc-4e35-c58b-d7136d3e2e40"
   },
   "outputs": [
    {
     "data": {
      "image/png": "[encoded data removed]",
      "text/plain": [
       "<Figure size 1440x360 with 1 Axes>"
      ]
     },
     "metadata": {},
     "output_type": "display_data"
    }
   ],
   "source": [
    "# Plot to visualize the percentage data distribution across different groups\n",
    "sns.set(style=\"darkgrid\")\n",
    "plt.figure(figsize=(20,5))\n",
    "ax = sns.countplot(x=\"Assignment group\", data=df, order=df[\"Assignment group\"].value_counts().index)\n",
    "ax.set_xticklabels(ax.get_xticklabels(), rotation=90)\n",
    "for p in ax.patches:\n",
    "  ax.annotate(str(format(p.get_height()/len(df.index)*100, '.2f')+\"%\"), (p.get_x() + p.get_width() / 2., p.get_height()), ha = 'center', va = 'bottom', rotation=90, xytext = (0, 10), textcoords = 'offset points')\n",
    "#augmentation"
   ]
  },
  {
   "cell_type": "markdown",
   "metadata": {
    "id": "8bh5Izv0cjIl"
   },
   "source": [
    "Checking the most repeated top 10 groups"
   ]
  },
  {
   "cell_type": "code",
   "execution_count": 13,
   "metadata": {
    "colab": {
     "base_uri": "https://localhost:8080/",
     "height": 359
    },
    "executionInfo": {
     "elapsed": 446,
     "status": "ok",
     "timestamp": 1637422368337,
     "user": {
      "displayName": "shikha sharma",
      "photoUrl": "https://lh3.googleusercontent.com/a-/AOh14Gi7-MZ8BB7Qmx-tZ4fMVMWE32u_g_Wo7RIqAY8HaA=s64",
      "userId": "18236534953658718874"
     },
     "user_tz": -330
    },
    "id": "hIOLE0hKcsp5",
    "outputId": "9f767629-2c19-417c-a9f9-e8fa2aa5861a"
   },
   "outputs": [
    {
     "data": {
      "text/html": [
       "<div>\n",
       "<style scoped>\n",
       "    .dataframe tbody tr th:only-of-type {\n",
       "        vertical-align: middle;\n",
       "    }\n",
       "\n",
       "    .dataframe tbody tr th {\n",
       "        vertical-align: top;\n",
       "    }\n",
       "\n",
       "    .dataframe thead th {\n",
       "        text-align: right;\n",
       "    }\n",
       "</style>\n",
       "<table border=\"1\" class=\"dataframe\">\n",
       "  <thead>\n",
       "    <tr style=\"text-align: right;\">\n",
       "      <th></th>\n",
       "      <th>index</th>\n",
       "      <th>Assignment group</th>\n",
       "    </tr>\n",
       "  </thead>\n",
       "  <tbody>\n",
       "    <tr>\n",
       "      <th>0</th>\n",
       "      <td>GRP_0</td>\n",
       "      <td>3976</td>\n",
       "    </tr>\n",
       "    <tr>\n",
       "      <th>1</th>\n",
       "      <td>GRP_8</td>\n",
       "      <td>661</td>\n",
       "    </tr>\n",
       "    <tr>\n",
       "      <th>2</th>\n",
       "      <td>GRP_24</td>\n",
       "      <td>289</td>\n",
       "    </tr>\n",
       "    <tr>\n",
       "      <th>3</th>\n",
       "      <td>GRP_12</td>\n",
       "      <td>257</td>\n",
       "    </tr>\n",
       "    <tr>\n",
       "      <th>4</th>\n",
       "      <td>GRP_9</td>\n",
       "      <td>252</td>\n",
       "    </tr>\n",
       "    <tr>\n",
       "      <th>5</th>\n",
       "      <td>GRP_2</td>\n",
       "      <td>241</td>\n",
       "    </tr>\n",
       "    <tr>\n",
       "      <th>6</th>\n",
       "      <td>GRP_19</td>\n",
       "      <td>215</td>\n",
       "    </tr>\n",
       "    <tr>\n",
       "      <th>7</th>\n",
       "      <td>GRP_3</td>\n",
       "      <td>200</td>\n",
       "    </tr>\n",
       "    <tr>\n",
       "      <th>8</th>\n",
       "      <td>GRP_6</td>\n",
       "      <td>184</td>\n",
       "    </tr>\n",
       "    <tr>\n",
       "      <th>9</th>\n",
       "      <td>GRP_13</td>\n",
       "      <td>145</td>\n",
       "    </tr>\n",
       "  </tbody>\n",
       "</table>\n",
       "</div>"
      ],
      "text/plain": [
       "    index  Assignment group\n",
       "0   GRP_0              3976\n",
       "1   GRP_8               661\n",
       "2  GRP_24               289\n",
       "3  GRP_12               257\n",
       "4   GRP_9               252\n",
       "5   GRP_2               241\n",
       "6  GRP_19               215\n",
       "7   GRP_3               200\n",
       "8   GRP_6               184\n",
       "9  GRP_13               145"
      ]
     },
     "execution_count": 13,
     "metadata": {},
     "output_type": "execute_result"
    }
   ],
   "source": [
    "df_top_10 = df['Assignment group'].value_counts().nlargest(10).reset_index()\n",
    "df_top_10"
   ]
  },
  {
   "cell_type": "markdown",
   "metadata": {
    "id": "N4rRxKTSc1QX"
   },
   "source": [
    "Checking the last 10 assignment groups"
   ]
  },
  {
   "cell_type": "code",
   "execution_count": 14,
   "metadata": {
    "colab": {
     "base_uri": "https://localhost:8080/",
     "height": 359
    },
    "executionInfo": {
     "elapsed": 445,
     "status": "ok",
     "timestamp": 1637422368339,
     "user": {
      "displayName": "shikha sharma",
      "photoUrl": "https://lh3.googleusercontent.com/a-/AOh14Gi7-MZ8BB7Qmx-tZ4fMVMWE32u_g_Wo7RIqAY8HaA=s64",
      "userId": "18236534953658718874"
     },
     "user_tz": -330
    },
    "id": "jIyFMAa1c4bG",
    "outputId": "46af4245-8afd-4b51-ea86-23b8dcfe95f6"
   },
   "outputs": [
    {
     "data": {
      "text/html": [
       "<div>\n",
       "<style scoped>\n",
       "    .dataframe tbody tr th:only-of-type {\n",
       "        vertical-align: middle;\n",
       "    }\n",
       "\n",
       "    .dataframe tbody tr th {\n",
       "        vertical-align: top;\n",
       "    }\n",
       "\n",
       "    .dataframe thead th {\n",
       "        text-align: right;\n",
       "    }\n",
       "</style>\n",
       "<table border=\"1\" class=\"dataframe\">\n",
       "  <thead>\n",
       "    <tr style=\"text-align: right;\">\n",
       "      <th></th>\n",
       "      <th>index</th>\n",
       "      <th>Assignment group</th>\n",
       "    </tr>\n",
       "  </thead>\n",
       "  <tbody>\n",
       "    <tr>\n",
       "      <th>0</th>\n",
       "      <td>GRP_61</td>\n",
       "      <td>1</td>\n",
       "    </tr>\n",
       "    <tr>\n",
       "      <th>1</th>\n",
       "      <td>GRP_64</td>\n",
       "      <td>1</td>\n",
       "    </tr>\n",
       "    <tr>\n",
       "      <th>2</th>\n",
       "      <td>GRP_67</td>\n",
       "      <td>1</td>\n",
       "    </tr>\n",
       "    <tr>\n",
       "      <th>3</th>\n",
       "      <td>GRP_35</td>\n",
       "      <td>1</td>\n",
       "    </tr>\n",
       "    <tr>\n",
       "      <th>4</th>\n",
       "      <td>GRP_70</td>\n",
       "      <td>1</td>\n",
       "    </tr>\n",
       "    <tr>\n",
       "      <th>5</th>\n",
       "      <td>GRP_73</td>\n",
       "      <td>1</td>\n",
       "    </tr>\n",
       "    <tr>\n",
       "      <th>6</th>\n",
       "      <td>GRP_57</td>\n",
       "      <td>2</td>\n",
       "    </tr>\n",
       "    <tr>\n",
       "      <th>7</th>\n",
       "      <td>GRP_54</td>\n",
       "      <td>2</td>\n",
       "    </tr>\n",
       "    <tr>\n",
       "      <th>8</th>\n",
       "      <td>GRP_69</td>\n",
       "      <td>2</td>\n",
       "    </tr>\n",
       "    <tr>\n",
       "      <th>9</th>\n",
       "      <td>GRP_71</td>\n",
       "      <td>2</td>\n",
       "    </tr>\n",
       "  </tbody>\n",
       "</table>\n",
       "</div>"
      ],
      "text/plain": [
       "    index  Assignment group\n",
       "0  GRP_61                 1\n",
       "1  GRP_64                 1\n",
       "2  GRP_67                 1\n",
       "3  GRP_35                 1\n",
       "4  GRP_70                 1\n",
       "5  GRP_73                 1\n",
       "6  GRP_57                 2\n",
       "7  GRP_54                 2\n",
       "8  GRP_69                 2\n",
       "9  GRP_71                 2"
      ]
     },
     "execution_count": 14,
     "metadata": {},
     "output_type": "execute_result"
    }
   ],
   "source": [
    "df_bottom_10 = df['Assignment group'].value_counts().nsmallest(10).reset_index()\n",
    "df_bottom_10"
   ]
  },
  {
   "cell_type": "markdown",
   "metadata": {
    "id": "xJfnb-JRdJ0r"
   },
   "source": [
    "Checking the distirbution"
   ]
  },
  {
   "cell_type": "code",
   "execution_count": 15,
   "metadata": {
    "colab": {
     "base_uri": "https://localhost:8080/",
     "height": 142
    },
    "executionInfo": {
     "elapsed": 445,
     "status": "ok",
     "timestamp": 1637422368341,
     "user": {
      "displayName": "shikha sharma",
      "photoUrl": "https://lh3.googleusercontent.com/a-/AOh14Gi7-MZ8BB7Qmx-tZ4fMVMWE32u_g_Wo7RIqAY8HaA=s64",
      "userId": "18236534953658718874"
     },
     "user_tz": -330
    },
    "id": "dC3EVB4_dMHA",
    "outputId": "efb3a53a-821a-4297-a2ef-23bcd6e62fc9"
   },
   "outputs": [
    {
     "data": {
      "text/html": [
       "<div>\n",
       "<style scoped>\n",
       "    .dataframe tbody tr th:only-of-type {\n",
       "        vertical-align: middle;\n",
       "    }\n",
       "\n",
       "    .dataframe tbody tr th {\n",
       "        vertical-align: top;\n",
       "    }\n",
       "\n",
       "    .dataframe thead th {\n",
       "        text-align: right;\n",
       "    }\n",
       "</style>\n",
       "<table border=\"1\" class=\"dataframe\">\n",
       "  <thead>\n",
       "    <tr style=\"text-align: right;\">\n",
       "      <th></th>\n",
       "      <th>Description</th>\n",
       "      <th>Ticket Count</th>\n",
       "    </tr>\n",
       "  </thead>\n",
       "  <tbody>\n",
       "    <tr>\n",
       "      <th>0</th>\n",
       "      <td>1-50 ticket</td>\n",
       "      <td>44</td>\n",
       "    </tr>\n",
       "    <tr>\n",
       "      <th>1</th>\n",
       "      <td>51-100 ticket</td>\n",
       "      <td>9</td>\n",
       "    </tr>\n",
       "    <tr>\n",
       "      <th>2</th>\n",
       "      <td>&gt;100 ticket</td>\n",
       "      <td>15</td>\n",
       "    </tr>\n",
       "  </tbody>\n",
       "</table>\n",
       "</div>"
      ],
      "text/plain": [
       "      Description Ticket Count\n",
       "0     1-50 ticket           44\n",
       "1   51-100 ticket            9\n",
       "2     >100 ticket           15"
      ]
     },
     "execution_count": 15,
     "metadata": {},
     "output_type": "execute_result"
    }
   ],
   "source": [
    "df_bins = pd.DataFrame(columns=['Description','Ticket Count'])\n",
    "_1_50_ticket = {'Description':' 1-50 ticket',\n",
    "              'Ticket Count':len(df_inc[(df_inc['Assignment group'] > 1)& (df_inc['Assignment group'] < 51)])}\n",
    "_51_100_ticket = {'Description':' 51-100 ticket',\n",
    "              'Ticket Count':len(df_inc[(df_inc['Assignment group'] > 50)& (df_inc['Assignment group'] < 101)])}\n",
    "_100_ticket = {'Description':' >100 ticket',\n",
    "              'Ticket Count':len(df_inc[(df_inc['Assignment group'] > 100)])}\n",
    "#append row to the dataframe\n",
    "df_bins = df_bins.append([_1_50_ticket,_51_100_ticket,_100_ticket], ignore_index=True)\n",
    "\n",
    "df_bins\n"
   ]
  },
  {
   "cell_type": "markdown",
   "metadata": {},
   "source": [
    "### Pre-Processing Data \n",
    "- Applying plot to show Percentage of group assignments interms of given ticket buckets mapped to the Group "
   ]
  },
  {
   "cell_type": "code",
   "execution_count": 16,
   "metadata": {
    "colab": {
     "base_uri": "https://localhost:8080/",
     "height": 486
    },
    "executionInfo": {
     "elapsed": 445,
     "status": "ok",
     "timestamp": 1637422368342,
     "user": {
      "displayName": "shikha sharma",
      "photoUrl": "https://lh3.googleusercontent.com/a-/AOh14Gi7-MZ8BB7Qmx-tZ4fMVMWE32u_g_Wo7RIqAY8HaA=s64",
      "userId": "18236534953658718874"
     },
     "user_tz": -330
    },
    "id": "tCTgBve24Yx5",
    "outputId": "e429b5bd-4ed6-48ac-e675-1dabcc56ebd2"
   },
   "outputs": [
    {
     "data": {
      "image/png": "[encoded data removed]",
      "text/plain": [
       "<Figure size 720x576 with 1 Axes>"
      ]
     },
     "metadata": {},
     "output_type": "display_data"
    }
   ],
   "source": [
    "plt.figure(figsize=(10, 8))\n",
    "plt.pie(df_bins['Ticket Count'],labels=df_bins['Description'],autopct='%1.1f%%', startangle=15);\n",
    "plt.title('Assignment Groups Distribution')\n",
    "plt.axis('equal');"
   ]
  },
  {
   "cell_type": "markdown",
   "metadata": {},
   "source": [
    "## Dealing with missing values\n"
   ]
  },
  {
   "cell_type": "code",
   "execution_count": 11,
   "metadata": {
    "colab": {
     "base_uri": "https://localhost:8080/"
    },
    "executionInfo": {
     "elapsed": 444,
     "status": "ok",
     "timestamp": 1637422368343,
     "user": {
      "displayName": "shikha sharma",
      "photoUrl": "https://lh3.googleusercontent.com/a-/AOh14Gi7-MZ8BB7Qmx-tZ4fMVMWE32u_g_Wo7RIqAY8HaA=s64",
      "userId": "18236534953658718874"
     },
     "user_tz": -330
    },
    "id": "ApdOqLvfUVFH",
    "outputId": "90391c89-8349-4b6e-9970-16d64e022ac2"
   },
   "outputs": [
    {
     "data": {
      "text/plain": [
       "Short description    8\n",
       "Description          1\n",
       "Caller               0\n",
       "Assignment group     0\n",
       "dtype: int64"
      ]
     },
     "execution_count": 11,
     "metadata": {},
     "output_type": "execute_result"
    }
   ],
   "source": [
    "#checking the null values\n",
    "df.isnull().sum()"
   ]
  },
  {
   "cell_type": "code",
   "execution_count": 17,
   "metadata": {
    "colab": {
     "base_uri": "https://localhost:8080/",
     "height": 80
    },
    "executionInfo": {
     "elapsed": 432,
     "status": "ok",
     "timestamp": 1637422368343,
     "user": {
      "displayName": "shikha sharma",
      "photoUrl": "https://lh3.googleusercontent.com/a-/AOh14Gi7-MZ8BB7Qmx-tZ4fMVMWE32u_g_Wo7RIqAY8HaA=s64",
      "userId": "18236534953658718874"
     },
     "user_tz": -330
    },
    "id": "WT190YxxPHcN",
    "outputId": "1ed04f10-f81c-4a6c-fee2-404076a9d413"
   },
   "outputs": [
    {
     "data": {
      "text/html": [
       "<div>\n",
       "<style scoped>\n",
       "    .dataframe tbody tr th:only-of-type {\n",
       "        vertical-align: middle;\n",
       "    }\n",
       "\n",
       "    .dataframe tbody tr th {\n",
       "        vertical-align: top;\n",
       "    }\n",
       "\n",
       "    .dataframe thead th {\n",
       "        text-align: right;\n",
       "    }\n",
       "</style>\n",
       "<table border=\"1\" class=\"dataframe\">\n",
       "  <thead>\n",
       "    <tr style=\"text-align: right;\">\n",
       "      <th></th>\n",
       "      <th>Short description</th>\n",
       "      <th>Description</th>\n",
       "      <th>Caller</th>\n",
       "      <th>Assignment group</th>\n",
       "    </tr>\n",
       "  </thead>\n",
       "  <tbody>\n",
       "    <tr>\n",
       "      <th>4395</th>\n",
       "      <td>i am locked out of skype</td>\n",
       "      <td>NaN</td>\n",
       "      <td>viyglzfo ajtfzpkb</td>\n",
       "      <td>GRP_0</td>\n",
       "    </tr>\n",
       "  </tbody>\n",
       "</table>\n",
       "</div>"
      ],
      "text/plain": [
       "             Short description Description             Caller Assignment group\n",
       "4395  i am locked out of skype         NaN  viyglzfo ajtfzpkb            GRP_0"
      ]
     },
     "execution_count": 17,
     "metadata": {},
     "output_type": "execute_result"
    }
   ],
   "source": [
    "#Checking the value of null\n",
    "df[df['Description'].isnull()]"
   ]
  },
  {
   "cell_type": "markdown",
   "metadata": {
    "executionInfo": {
     "elapsed": 432,
     "status": "ok",
     "timestamp": 1637422368344,
     "user": {
      "displayName": "shikha sharma",
      "photoUrl": "https://lh3.googleusercontent.com/a-/AOh14Gi7-MZ8BB7Qmx-tZ4fMVMWE32u_g_Wo7RIqAY8HaA=s64",
      "userId": "18236534953658718874"
     },
     "user_tz": -330
    },
    "id": "AuMZ3vbML-_S"
   },
   "source": [
    "#Replacing the null value with the short description value\n",
    "df=df.replace({'Description':np.NaN},df[df['Short description']=='i am locked out of skype']['Short description'].to_string().split(maxsplit=1)[1])"
   ]
  },
  {
   "cell_type": "code",
   "execution_count": 19,
   "metadata": {
    "colab": {
     "base_uri": "https://localhost:8080/"
    },
    "executionInfo": {
     "elapsed": 433,
     "status": "ok",
     "timestamp": 1637422368346,
     "user": {
      "displayName": "shikha sharma",
      "photoUrl": "https://lh3.googleusercontent.com/a-/AOh14Gi7-MZ8BB7Qmx-tZ4fMVMWE32u_g_Wo7RIqAY8HaA=s64",
      "userId": "18236534953658718874"
     },
     "user_tz": -330
    },
    "id": "BfYVguY9I1Mq",
    "outputId": "c9d9c4f1-cd40-441e-bcb8-e18496fe854d"
   },
   "outputs": [
    {
     "data": {
      "text/plain": [
       "Short description    i am locked out of skype\n",
       "Description          i am locked out of skype\n",
       "Caller                      viyglzfo ajtfzpkb\n",
       "Assignment group                        GRP_0\n",
       "Name: 4395, dtype: object"
      ]
     },
     "execution_count": 19,
     "metadata": {},
     "output_type": "execute_result"
    }
   ],
   "source": [
    "#Checking if the value is actually replaced or not\n",
    "df.iloc[4395]"
   ]
  },
  {
   "cell_type": "code",
   "execution_count": 20,
   "metadata": {
    "colab": {
     "base_uri": "https://localhost:8080/"
    },
    "executionInfo": {
     "elapsed": 448,
     "status": "ok",
     "timestamp": 1637422368366,
     "user": {
      "displayName": "shikha sharma",
      "photoUrl": "https://lh3.googleusercontent.com/a-/AOh14Gi7-MZ8BB7Qmx-tZ4fMVMWE32u_g_Wo7RIqAY8HaA=s64",
      "userId": "18236534953658718874"
     },
     "user_tz": -330
    },
    "id": "8DZSXXqSPfBa",
    "outputId": "904d53f4-fe0a-4bf7-ef45-da86bc04d5db"
   },
   "outputs": [
    {
     "data": {
      "text/plain": [
       "Short description    8\n",
       "Description          0\n",
       "Caller               0\n",
       "Assignment group     0\n",
       "dtype: int64"
      ]
     },
     "execution_count": 20,
     "metadata": {},
     "output_type": "execute_result"
    }
   ],
   "source": [
    "#Checking for the null values\n",
    "df.isnull().sum()"
   ]
  },
  {
   "cell_type": "markdown",
   "metadata": {
    "id": "UTSvpHWjPnzj"
   },
   "source": [
    "Since we are mostly concerend with the description letting the short description null values be for  a moment"
   ]
  },
  {
   "cell_type": "code",
   "execution_count": 21,
   "metadata": {
    "executionInfo": {
     "elapsed": 441,
     "status": "ok",
     "timestamp": 1637422368367,
     "user": {
      "displayName": "shikha sharma",
      "photoUrl": "https://lh3.googleusercontent.com/a-/AOh14Gi7-MZ8BB7Qmx-tZ4fMVMWE32u_g_Wo7RIqAY8HaA=s64",
      "userId": "18236534953658718874"
     },
     "user_tz": -330
    },
    "id": "jdNZz_goI3T6"
   },
   "outputs": [],
   "source": [
    "feature_df = df.filter(['Description','Assignment group'], axis=1)"
   ]
  },
  {
   "cell_type": "markdown",
   "metadata": {},
   "source": [
    "## Text preprocessing\n",
    "- A method to clean text data and make it ready for feed data to the model\n",
    "- it contains noise and punctuation in various text case\n",
    "- Here we wanted to count number of words given in dataset\n",
    "- Groupwise Data count is been displayed in the below cells"
   ]
  },
  {
   "cell_type": "code",
   "execution_count": 22,
   "metadata": {
    "colab": {
     "base_uri": "https://localhost:8080/",
     "height": 204
    },
    "executionInfo": {
     "elapsed": 455,
     "status": "ok",
     "timestamp": 1637422368382,
     "user": {
      "displayName": "shikha sharma",
      "photoUrl": "https://lh3.googleusercontent.com/a-/AOh14Gi7-MZ8BB7Qmx-tZ4fMVMWE32u_g_Wo7RIqAY8HaA=s64",
      "userId": "18236534953658718874"
     },
     "user_tz": -330
    },
    "id": "em2LcZJ3SP5L",
    "outputId": "da619e68-ac4e-47cd-871a-43610d4300a7"
   },
   "outputs": [
    {
     "data": {
      "text/html": [
       "<div>\n",
       "<style scoped>\n",
       "    .dataframe tbody tr th:only-of-type {\n",
       "        vertical-align: middle;\n",
       "    }\n",
       "\n",
       "    .dataframe tbody tr th {\n",
       "        vertical-align: top;\n",
       "    }\n",
       "\n",
       "    .dataframe thead th {\n",
       "        text-align: right;\n",
       "    }\n",
       "</style>\n",
       "<table border=\"1\" class=\"dataframe\">\n",
       "  <thead>\n",
       "    <tr style=\"text-align: right;\">\n",
       "      <th></th>\n",
       "      <th>Description</th>\n",
       "      <th>Assignment group</th>\n",
       "      <th>word_count</th>\n",
       "    </tr>\n",
       "  </thead>\n",
       "  <tbody>\n",
       "    <tr>\n",
       "      <th>2233</th>\n",
       "      <td>system is slowing down while processing shipme...</td>\n",
       "      <td>GRP_18</td>\n",
       "      <td>89</td>\n",
       "    </tr>\n",
       "    <tr>\n",
       "      <th>8493</th>\n",
       "      <td>i am sorry, i have another two accounts that n...</td>\n",
       "      <td>GRP_10</td>\n",
       "      <td>48</td>\n",
       "    </tr>\n",
       "    <tr>\n",
       "      <th>2890</th>\n",
       "      <td>\\n\\nreceived from: jxgobwrm.qkugdipo@gmail.com...</td>\n",
       "      <td>GRP_0</td>\n",
       "      <td>36</td>\n",
       "    </tr>\n",
       "    <tr>\n",
       "      <th>2140</th>\n",
       "      <td>unable to view subject option in outlook</td>\n",
       "      <td>GRP_0</td>\n",
       "      <td>7</td>\n",
       "    </tr>\n",
       "    <tr>\n",
       "      <th>4820</th>\n",
       "      <td>lauacyltoe hxgaycze java to be installed</td>\n",
       "      <td>GRP_0</td>\n",
       "      <td>6</td>\n",
       "    </tr>\n",
       "    <tr>\n",
       "      <th>4578</th>\n",
       "      <td>zeiterfassung funktioniert nicht \\we_qs \\quali...</td>\n",
       "      <td>GRP_24</td>\n",
       "      <td>7</td>\n",
       "    </tr>\n",
       "    <tr>\n",
       "      <th>3236</th>\n",
       "      <td>hallo liebe kollegen,_x000D_\\n_x000D_\\nwarum h...</td>\n",
       "      <td>GRP_0</td>\n",
       "      <td>26</td>\n",
       "    </tr>\n",
       "    <tr>\n",
       "      <th>3874</th>\n",
       "      <td>could you reset my company mobile phone. detai...</td>\n",
       "      <td>GRP_0</td>\n",
       "      <td>46</td>\n",
       "    </tr>\n",
       "    <tr>\n",
       "      <th>2707</th>\n",
       "      <td>india:high latency/packet drops</td>\n",
       "      <td>GRP_8</td>\n",
       "      <td>3</td>\n",
       "    </tr>\n",
       "    <tr>\n",
       "      <th>7536</th>\n",
       "      <td>\\n\\nreceived from: crkdjbot.qiztrxne@gmail.com...</td>\n",
       "      <td>GRP_0</td>\n",
       "      <td>58</td>\n",
       "    </tr>\n",
       "    <tr>\n",
       "      <th>5750</th>\n",
       "      <td>received from: monitoring_tool@company.com_x00...</td>\n",
       "      <td>GRP_8</td>\n",
       "      <td>12</td>\n",
       "    </tr>\n",
       "    <tr>\n",
       "      <th>4747</th>\n",
       "      <td>received from: monitoring_tool@company.com_x00...</td>\n",
       "      <td>GRP_10</td>\n",
       "      <td>12</td>\n",
       "    </tr>\n",
       "    <tr>\n",
       "      <th>7517</th>\n",
       "      <td>password issue</td>\n",
       "      <td>GRP_0</td>\n",
       "      <td>2</td>\n",
       "    </tr>\n",
       "    <tr>\n",
       "      <th>6605</th>\n",
       "      <td>cannot access crm - my contact info is</td>\n",
       "      <td>GRP_0</td>\n",
       "      <td>8</td>\n",
       "    </tr>\n",
       "    <tr>\n",
       "      <th>8239</th>\n",
       "      <td>received from: monitoring_tool@company.com_x00...</td>\n",
       "      <td>GRP_8</td>\n",
       "      <td>12</td>\n",
       "    </tr>\n",
       "  </tbody>\n",
       "</table>\n",
       "</div>"
      ],
      "text/plain": [
       "                                            Description Assignment group  \\\n",
       "2233  system is slowing down while processing shipme...           GRP_18   \n",
       "8493  i am sorry, i have another two accounts that n...           GRP_10   \n",
       "2890  \\n\\nreceived from: jxgobwrm.qkugdipo@gmail.com...            GRP_0   \n",
       "2140           unable to view subject option in outlook            GRP_0   \n",
       "4820           lauacyltoe hxgaycze java to be installed            GRP_0   \n",
       "4578  zeiterfassung funktioniert nicht \\we_qs \\quali...           GRP_24   \n",
       "3236  hallo liebe kollegen,_x000D_\\n_x000D_\\nwarum h...            GRP_0   \n",
       "3874  could you reset my company mobile phone. detai...            GRP_0   \n",
       "2707                    india:high latency/packet drops            GRP_8   \n",
       "7536  \\n\\nreceived from: crkdjbot.qiztrxne@gmail.com...            GRP_0   \n",
       "5750  received from: monitoring_tool@company.com_x00...            GRP_8   \n",
       "4747  received from: monitoring_tool@company.com_x00...           GRP_10   \n",
       "7517                                     password issue            GRP_0   \n",
       "6605            cannot access crm - my contact info is             GRP_0   \n",
       "8239  received from: monitoring_tool@company.com_x00...            GRP_8   \n",
       "\n",
       "      word_count  \n",
       "2233          89  \n",
       "8493          48  \n",
       "2890          36  \n",
       "2140           7  \n",
       "4820           6  \n",
       "4578           7  \n",
       "3236          26  \n",
       "3874          46  \n",
       "2707           3  \n",
       "7536          58  \n",
       "5750          12  \n",
       "4747          12  \n",
       "7517           2  \n",
       "6605           8  \n",
       "8239          12  "
      ]
     },
     "execution_count": 22,
     "metadata": {},
     "output_type": "execute_result"
    }
   ],
   "source": [
    "#caluclating the word count\n",
    "feature_df['word_count']=df['Description'].apply(lambda x:len(str(x).split()))\n",
    "#printing 5 sample values\n",
    "feature_df.sample(15)"
   ]
  },
  {
   "cell_type": "code",
   "execution_count": 23,
   "metadata": {
    "colab": {
     "base_uri": "https://localhost:8080/",
     "height": 80
    },
    "executionInfo": {
     "elapsed": 465,
     "status": "ok",
     "timestamp": 1637422368393,
     "user": {
      "displayName": "shikha sharma",
      "photoUrl": "https://lh3.googleusercontent.com/a-/AOh14Gi7-MZ8BB7Qmx-tZ4fMVMWE32u_g_Wo7RIqAY8HaA=s64",
      "userId": "18236534953658718874"
     },
     "user_tz": -330
    },
    "id": "uwuRn4ZRTh7b",
    "outputId": "833d5072-501d-4c1d-d056-0c8a970a8a36"
   },
   "outputs": [
    {
     "data": {
      "text/html": [
       "<div>\n",
       "<style scoped>\n",
       "    .dataframe tbody tr th:only-of-type {\n",
       "        vertical-align: middle;\n",
       "    }\n",
       "\n",
       "    .dataframe tbody tr th {\n",
       "        vertical-align: top;\n",
       "    }\n",
       "\n",
       "    .dataframe thead th {\n",
       "        text-align: right;\n",
       "    }\n",
       "</style>\n",
       "<table border=\"1\" class=\"dataframe\">\n",
       "  <thead>\n",
       "    <tr style=\"text-align: right;\">\n",
       "      <th></th>\n",
       "      <th>Description</th>\n",
       "      <th>Assignment group</th>\n",
       "      <th>word_count</th>\n",
       "    </tr>\n",
       "  </thead>\n",
       "  <tbody>\n",
       "    <tr>\n",
       "      <th>7345</th>\n",
       "      <td>we are seeing activity indicating the host at ...</td>\n",
       "      <td>GRP_2</td>\n",
       "      <td>1657</td>\n",
       "    </tr>\n",
       "  </tbody>\n",
       "</table>\n",
       "</div>"
      ],
      "text/plain": [
       "                                            Description Assignment group  \\\n",
       "7345  we are seeing activity indicating the host at ...            GRP_2   \n",
       "\n",
       "      word_count  \n",
       "7345        1657  "
      ]
     },
     "execution_count": 23,
     "metadata": {},
     "output_type": "execute_result"
    }
   ],
   "source": [
    "# Displaying the row with Maximum word counts\n",
    "feature_df[feature_df['word_count']==feature_df['word_count'].max()]\n"
   ]
  },
  {
   "cell_type": "code",
   "execution_count": 24,
   "metadata": {
    "colab": {
     "base_uri": "https://localhost:8080/",
     "height": 111
    },
    "executionInfo": {
     "elapsed": 468,
     "status": "ok",
     "timestamp": 1637422368397,
     "user": {
      "displayName": "shikha sharma",
      "photoUrl": "https://lh3.googleusercontent.com/a-/AOh14Gi7-MZ8BB7Qmx-tZ4fMVMWE32u_g_Wo7RIqAY8HaA=s64",
      "userId": "18236534953658718874"
     },
     "user_tz": -330
    },
    "id": "MAgDMB2kToDv",
    "outputId": "3187212c-c530-4dcd-dc23-4f77dd888fb5"
   },
   "outputs": [
    {
     "data": {
      "text/html": [
       "<div>\n",
       "<style scoped>\n",
       "    .dataframe tbody tr th:only-of-type {\n",
       "        vertical-align: middle;\n",
       "    }\n",
       "\n",
       "    .dataframe tbody tr th {\n",
       "        vertical-align: top;\n",
       "    }\n",
       "\n",
       "    .dataframe thead th {\n",
       "        text-align: right;\n",
       "    }\n",
       "</style>\n",
       "<table border=\"1\" class=\"dataframe\">\n",
       "  <thead>\n",
       "    <tr style=\"text-align: right;\">\n",
       "      <th></th>\n",
       "      <th>Description</th>\n",
       "      <th>Assignment group</th>\n",
       "      <th>word_count</th>\n",
       "    </tr>\n",
       "  </thead>\n",
       "  <tbody>\n",
       "    <tr>\n",
       "      <th>276</th>\n",
       "      <td>outlookæ”¶åˆ°ç®±ä¸­folderå˜ä¸ºæ¯å¤©ä¸€ä¸ªfol...</td>\n",
       "      <td>GRP_30</td>\n",
       "      <td>1</td>\n",
       "    </tr>\n",
       "    <tr>\n",
       "      <th>415</th>\n",
       "      <td>complete</td>\n",
       "      <td>GRP_17</td>\n",
       "      <td>1</td>\n",
       "    </tr>\n",
       "    <tr>\n",
       "      <th>416</th>\n",
       "      <td>completed</td>\n",
       "      <td>GRP_0</td>\n",
       "      <td>1</td>\n",
       "    </tr>\n",
       "    <tr>\n",
       "      <th>608</th>\n",
       "      <td>funktionsstÃ¶rung</td>\n",
       "      <td>GRP_33</td>\n",
       "      <td>1</td>\n",
       "    </tr>\n",
       "    <tr>\n",
       "      <th>618</th>\n",
       "      <td>æ‰“å¼€outlookæ—¶ï¼Œæ˜¾ç¤ºoutlook.ostæ–‡ä»¶é”™è...</td>\n",
       "      <td>GRP_0</td>\n",
       "      <td>1</td>\n",
       "    </tr>\n",
       "    <tr>\n",
       "      <th>...</th>\n",
       "      <td>...</td>\n",
       "      <td>...</td>\n",
       "      <td>...</td>\n",
       "    </tr>\n",
       "    <tr>\n",
       "      <th>8059</th>\n",
       "      <td>the</td>\n",
       "      <td>GRP_17</td>\n",
       "      <td>1</td>\n",
       "    </tr>\n",
       "    <tr>\n",
       "      <th>8092</th>\n",
       "      <td>the</td>\n",
       "      <td>GRP_17</td>\n",
       "      <td>1</td>\n",
       "    </tr>\n",
       "    <tr>\n",
       "      <th>8093</th>\n",
       "      <td>the</td>\n",
       "      <td>GRP_17</td>\n",
       "      <td>1</td>\n",
       "    </tr>\n",
       "    <tr>\n",
       "      <th>8168</th>\n",
       "      <td>the</td>\n",
       "      <td>GRP_17</td>\n",
       "      <td>1</td>\n",
       "    </tr>\n",
       "    <tr>\n",
       "      <th>8266</th>\n",
       "      <td>è¿›è¡Œé‡‡è´­æ—¶æ˜¾ç¤º\"æ‰¾ä¸åˆ°å‘˜å·¥111115483...</td>\n",
       "      <td>GRP_30</td>\n",
       "      <td>1</td>\n",
       "    </tr>\n",
       "  </tbody>\n",
       "</table>\n",
       "<p>98 rows × 3 columns</p>\n",
       "</div>"
      ],
      "text/plain": [
       "                                            Description Assignment group  \\\n",
       "276   outlookæ”¶åˆ°ç®±ä¸­folderå˜ä¸ºæ¯å¤©ä¸€ä¸ªfol...           GRP_30   \n",
       "415                                            complete           GRP_17   \n",
       "416                                           completed            GRP_0   \n",
       "608                                   funktionsstÃ¶rung           GRP_33   \n",
       "618   æ‰“å¼€outlookæ—¶ï¼Œæ˜¾ç¤ºoutlook.ostæ–‡ä»¶é”™è...            GRP_0   \n",
       "...                                                 ...              ...   \n",
       "8059                                                the           GRP_17   \n",
       "8092                                                the           GRP_17   \n",
       "8093                                                the           GRP_17   \n",
       "8168                                                the           GRP_17   \n",
       "8266  è¿›è¡Œé‡‡è´­æ—¶æ˜¾ç¤º\"æ‰¾ä¸åˆ°å‘˜å·¥111115483...           GRP_30   \n",
       "\n",
       "      word_count  \n",
       "276            1  \n",
       "415            1  \n",
       "416            1  \n",
       "608            1  \n",
       "618            1  \n",
       "...          ...  \n",
       "8059           1  \n",
       "8092           1  \n",
       "8093           1  \n",
       "8168           1  \n",
       "8266           1  \n",
       "\n",
       "[98 rows x 3 columns]"
      ]
     },
     "execution_count": 24,
     "metadata": {},
     "output_type": "execute_result"
    }
   ],
   "source": [
    "# Dispalying rows with minimum word count\n",
    "feature_df[feature_df['word_count']==feature_df['word_count'].min()]"
   ]
  },
  {
   "cell_type": "code",
   "execution_count": 25,
   "metadata": {
    "executionInfo": {
     "elapsed": 493,
     "status": "ok",
     "timestamp": 1637422368437,
     "user": {
      "displayName": "shikha sharma",
      "photoUrl": "https://lh3.googleusercontent.com/a-/AOh14Gi7-MZ8BB7Qmx-tZ4fMVMWE32u_g_Wo7RIqAY8HaA=s64",
      "userId": "18236534953658718874"
     },
     "user_tz": -330
    },
    "id": "wNB9SSeolkPx"
   },
   "outputs": [],
   "source": [
    "#Method to caluclate no of characters available in sentence\n",
    "def char_counts(x):\n",
    "  s=x.split()\n",
    "  x=''.join(s)\n",
    "  return len(x)\n"
   ]
  },
  {
   "cell_type": "code",
   "execution_count": 26,
   "metadata": {
    "colab": {
     "base_uri": "https://localhost:8080/",
     "height": 204
    },
    "executionInfo": {
     "elapsed": 493,
     "status": "ok",
     "timestamp": 1637422368438,
     "user": {
      "displayName": "shikha sharma",
      "photoUrl": "https://lh3.googleusercontent.com/a-/AOh14Gi7-MZ8BB7Qmx-tZ4fMVMWE32u_g_Wo7RIqAY8HaA=s64",
      "userId": "18236534953658718874"
     },
     "user_tz": -330
    },
    "id": "tJ-c4TnwozwE",
    "outputId": "c9805d8f-25b2-458c-9b3a-47b725d9aa31"
   },
   "outputs": [
    {
     "data": {
      "text/html": [
       "<div>\n",
       "<style scoped>\n",
       "    .dataframe tbody tr th:only-of-type {\n",
       "        vertical-align: middle;\n",
       "    }\n",
       "\n",
       "    .dataframe tbody tr th {\n",
       "        vertical-align: top;\n",
       "    }\n",
       "\n",
       "    .dataframe thead th {\n",
       "        text-align: right;\n",
       "    }\n",
       "</style>\n",
       "<table border=\"1\" class=\"dataframe\">\n",
       "  <thead>\n",
       "    <tr style=\"text-align: right;\">\n",
       "      <th></th>\n",
       "      <th>Description</th>\n",
       "      <th>Assignment group</th>\n",
       "      <th>word_count</th>\n",
       "      <th>char_counts</th>\n",
       "    </tr>\n",
       "  </thead>\n",
       "  <tbody>\n",
       "    <tr>\n",
       "      <th>5809</th>\n",
       "      <td>email delegation</td>\n",
       "      <td>GRP_0</td>\n",
       "      <td>2</td>\n",
       "      <td>15</td>\n",
       "    </tr>\n",
       "    <tr>\n",
       "      <th>4561</th>\n",
       "      <td>zcor0003; variants plant_271 and rodstock not ...</td>\n",
       "      <td>GRP_44</td>\n",
       "      <td>9</td>\n",
       "      <td>52</td>\n",
       "    </tr>\n",
       "    <tr>\n",
       "      <th>303</th>\n",
       "      <td>request to reset microsoft online services pas...</td>\n",
       "      <td>GRP_0</td>\n",
       "      <td>9</td>\n",
       "      <td>75</td>\n",
       "    </tr>\n",
       "    <tr>\n",
       "      <th>1322</th>\n",
       "      <td>received from: monitoring_tool@company.com_x00...</td>\n",
       "      <td>GRP_8</td>\n",
       "      <td>12</td>\n",
       "      <td>119</td>\n",
       "    </tr>\n",
       "    <tr>\n",
       "      <th>4460</th>\n",
       "      <td>bitte fÃ¼r oben genannten ordner schreib- und ...</td>\n",
       "      <td>GRP_34</td>\n",
       "      <td>16</td>\n",
       "      <td>102</td>\n",
       "    </tr>\n",
       "  </tbody>\n",
       "</table>\n",
       "</div>"
      ],
      "text/plain": [
       "                                            Description Assignment group  \\\n",
       "5809                                  email delegation             GRP_0   \n",
       "4561  zcor0003; variants plant_271 and rodstock not ...           GRP_44   \n",
       "303   request to reset microsoft online services pas...            GRP_0   \n",
       "1322  received from: monitoring_tool@company.com_x00...            GRP_8   \n",
       "4460  bitte fÃ¼r oben genannten ordner schreib- und ...           GRP_34   \n",
       "\n",
       "      word_count  char_counts  \n",
       "5809           2           15  \n",
       "4561           9           52  \n",
       "303            9           75  \n",
       "1322          12          119  \n",
       "4460          16          102  "
      ]
     },
     "execution_count": 26,
     "metadata": {},
     "output_type": "execute_result"
    }
   ],
   "source": [
    "feature_df['char_counts']=df['Description'].apply(lambda x: char_counts(str(x)))\n",
    "#printing 5 random samples\n",
    "feature_df.sample(5)"
   ]
  },
  {
   "cell_type": "code",
   "execution_count": 27,
   "metadata": {
    "colab": {
     "base_uri": "https://localhost:8080/"
    },
    "executionInfo": {
     "elapsed": 494,
     "status": "ok",
     "timestamp": 1637422368440,
     "user": {
      "displayName": "shikha sharma",
      "photoUrl": "https://lh3.googleusercontent.com/a-/AOh14Gi7-MZ8BB7Qmx-tZ4fMVMWE32u_g_Wo7RIqAY8HaA=s64",
      "userId": "18236534953658718874"
     },
     "user_tz": -330
    },
    "id": "lI5-PYvn8DIg",
    "outputId": "4ae24055-cc76-405d-b9af-0c053097e255"
   },
   "outputs": [
    {
     "data": {
      "text/plain": [
       "1"
      ]
     },
     "execution_count": 27,
     "metadata": {},
     "output_type": "execute_result"
    }
   ],
   "source": [
    "#Checking the minimum character count\n",
    "feature_df['char_counts'].min()"
   ]
  },
  {
   "cell_type": "code",
   "execution_count": 28,
   "metadata": {
    "colab": {
     "base_uri": "https://localhost:8080/"
    },
    "executionInfo": {
     "elapsed": 490,
     "status": "ok",
     "timestamp": 1637422368441,
     "user": {
      "displayName": "shikha sharma",
      "photoUrl": "https://lh3.googleusercontent.com/a-/AOh14Gi7-MZ8BB7Qmx-tZ4fMVMWE32u_g_Wo7RIqAY8HaA=s64",
      "userId": "18236534953658718874"
     },
     "user_tz": -330
    },
    "id": "4MmawBZE8JSm",
    "outputId": "ca9e12f5-6564-4a67-8aee-fb7181da347b"
   },
   "outputs": [
    {
     "data": {
      "text/plain": [
       "12785"
      ]
     },
     "execution_count": 28,
     "metadata": {},
     "output_type": "execute_result"
    }
   ],
   "source": [
    "#Checking the maximum character count\n",
    "feature_df['char_counts'].max()"
   ]
  },
  {
   "cell_type": "code",
   "execution_count": 29,
   "metadata": {
    "colab": {
     "base_uri": "https://localhost:8080/",
     "height": 204
    },
    "executionInfo": {
     "elapsed": 473,
     "status": "ok",
     "timestamp": 1637422368444,
     "user": {
      "displayName": "shikha sharma",
      "photoUrl": "https://lh3.googleusercontent.com/a-/AOh14Gi7-MZ8BB7Qmx-tZ4fMVMWE32u_g_Wo7RIqAY8HaA=s64",
      "userId": "18236534953658718874"
     },
     "user_tz": -330
    },
    "id": "Xsj1g2MVqCJQ",
    "outputId": "32a0542f-9d1f-4f30-b136-097b46895898"
   },
   "outputs": [
    {
     "data": {
      "text/html": [
       "<div>\n",
       "<style scoped>\n",
       "    .dataframe tbody tr th:only-of-type {\n",
       "        vertical-align: middle;\n",
       "    }\n",
       "\n",
       "    .dataframe tbody tr th {\n",
       "        vertical-align: top;\n",
       "    }\n",
       "\n",
       "    .dataframe thead th {\n",
       "        text-align: right;\n",
       "    }\n",
       "</style>\n",
       "<table border=\"1\" class=\"dataframe\">\n",
       "  <thead>\n",
       "    <tr style=\"text-align: right;\">\n",
       "      <th></th>\n",
       "      <th>Description</th>\n",
       "      <th>Assignment group</th>\n",
       "      <th>word_count</th>\n",
       "      <th>char_counts</th>\n",
       "      <th>Avg_word_Count</th>\n",
       "    </tr>\n",
       "  </thead>\n",
       "  <tbody>\n",
       "    <tr>\n",
       "      <th>2880</th>\n",
       "      <td>to correct attached listed errors</td>\n",
       "      <td>GRP_10</td>\n",
       "      <td>5</td>\n",
       "      <td>29</td>\n",
       "      <td>0.172414</td>\n",
       "    </tr>\n",
       "    <tr>\n",
       "      <th>7962</th>\n",
       "      <td>received from: monitoring_tool@company.com_x00...</td>\n",
       "      <td>GRP_8</td>\n",
       "      <td>12</td>\n",
       "      <td>108</td>\n",
       "      <td>0.111111</td>\n",
       "    </tr>\n",
       "    <tr>\n",
       "      <th>6653</th>\n",
       "      <td>name:wnorzsyv mdflqwxg\\nlanguage:\\nbrowser:mic...</td>\n",
       "      <td>GRP_0</td>\n",
       "      <td>38</td>\n",
       "      <td>296</td>\n",
       "      <td>0.128378</td>\n",
       "    </tr>\n",
       "    <tr>\n",
       "      <th>4133</th>\n",
       "      <td>unable to login to engineering tool</td>\n",
       "      <td>GRP_0</td>\n",
       "      <td>6</td>\n",
       "      <td>30</td>\n",
       "      <td>0.200000</td>\n",
       "    </tr>\n",
       "    <tr>\n",
       "      <th>7096</th>\n",
       "      <td>printer not working</td>\n",
       "      <td>GRP_0</td>\n",
       "      <td>3</td>\n",
       "      <td>17</td>\n",
       "      <td>0.176471</td>\n",
       "    </tr>\n",
       "  </tbody>\n",
       "</table>\n",
       "</div>"
      ],
      "text/plain": [
       "                                            Description Assignment group  \\\n",
       "2880                  to correct attached listed errors           GRP_10   \n",
       "7962  received from: monitoring_tool@company.com_x00...            GRP_8   \n",
       "6653  name:wnorzsyv mdflqwxg\\nlanguage:\\nbrowser:mic...            GRP_0   \n",
       "4133               unable to login to engineering tool             GRP_0   \n",
       "7096                               printer not working             GRP_0   \n",
       "\n",
       "      word_count  char_counts  Avg_word_Count  \n",
       "2880           5           29        0.172414  \n",
       "7962          12          108        0.111111  \n",
       "6653          38          296        0.128378  \n",
       "4133           6           30        0.200000  \n",
       "7096           3           17        0.176471  "
      ]
     },
     "execution_count": 29,
     "metadata": {},
     "output_type": "execute_result"
    }
   ],
   "source": [
    "#Caluclating the average word count\n",
    "feature_df['Avg_word_Count']=feature_df['word_count']/feature_df['char_counts']\n",
    "#printing 5 random samples\n",
    "feature_df.sample(5)"
   ]
  },
  {
   "cell_type": "code",
   "execution_count": 30,
   "metadata": {
    "colab": {
     "base_uri": "https://localhost:8080/"
    },
    "executionInfo": {
     "elapsed": 471,
     "status": "ok",
     "timestamp": 1637422368444,
     "user": {
      "displayName": "shikha sharma",
      "photoUrl": "https://lh3.googleusercontent.com/a-/AOh14Gi7-MZ8BB7Qmx-tZ4fMVMWE32u_g_Wo7RIqAY8HaA=s64",
      "userId": "18236534953658718874"
     },
     "user_tz": -330
    },
    "id": "-mFur3bM7w_N",
    "outputId": "fdb8e699-f2be-4da7-940b-919a95b042f4"
   },
   "outputs": [
    {
     "name": "stdout",
     "output_type": "stream",
     "text": [
      "Minimum avg word count 0.009900990099009901\n",
      "Maximum avg word count 1.0\n"
     ]
    }
   ],
   "source": [
    "#Checking the minimum avg word count\n",
    "print(\"Minimum avg word count\",feature_df['Avg_word_Count'].min())\n",
    "print(\"Maximum avg word count\",feature_df['Avg_word_Count'].max())"
   ]
  },
  {
   "cell_type": "markdown",
   "metadata": {},
   "source": [
    "## Text preprocessing\n",
    "- Stopwords :- In NLP Stopwords are commonly used words in language helps to eliminate unimportant words \n",
    "- Allowing application to focus on important word. Stopwords are any word in stop list which are filterout after NLP\n",
    "- Benefits of eliminating stopwords :- Potentially help improvement of preformance by considering only meaning full data. \n",
    "- Data size drecreases which helps model processing performance\n",
    "- So here we are using 'nltk - Natural Language Tool Kit' libraray to process English text.\n",
    "- Lemmatization - Is the process of grouping together different inflected forms of words so they can be analyzed as signle items.\n",
    "- Lemmatization brings context to the word.\n",
    "- Here we using libraray WordnetLemmatizer for Stop words - Text Pre-Processing"
   ]
  },
  {
   "cell_type": "code",
   "execution_count": 31,
   "metadata": {},
   "outputs": [],
   "source": [
    "import json\n",
    "import re\n",
    "import string\n",
    "import nltk\n",
    "#from nltk.corpus import stopwords\n",
    "from nltk.stem import WordNetLemmatizer,SnowballStemmer\n",
    "from string import punctuation\n",
    "#from wordcloud import WordCloud\n",
    "#from wordcloud import WordCloud, STOPWORDS"
   ]
  },
  {
   "cell_type": "code",
   "execution_count": 32,
   "metadata": {
    "colab": {
     "base_uri": "https://localhost:8080/"
    },
    "executionInfo": {
     "elapsed": 464,
     "status": "ok",
     "timestamp": 1637422368446,
     "user": {
      "displayName": "shikha sharma",
      "photoUrl": "https://lh3.googleusercontent.com/a-/AOh14Gi7-MZ8BB7Qmx-tZ4fMVMWE32u_g_Wo7RIqAY8HaA=s64",
      "userId": "18236534953658718874"
     },
     "user_tz": -330
    },
    "id": "gJqiQl5hqj8g",
    "outputId": "ac34a52d-24f7-430a-cc12-73d40bf06c10"
   },
   "outputs": [
    {
     "name": "stdout",
     "output_type": "stream",
     "text": [
      "{'became', 'name', 'those', 'moreover', 'also', 'please', 'whole', 'same', 'about', 'was', 'off', 'themselves', 'eight', 'has', 'indeed', 'else', 'meanwhile', 'someone', 'wherever', 'using', 'his', 'although', 'another', '’re', 'others', 'front', 'fifteen', 'after', 'some', 'seemed', 'onto', 'would', 'therein', 'a', 'this', 'during', 'whence', '’ll', 'because', 'without', 'which', 'get', 'very', 'amongst', 'ca', 'first', 'than', 'mostly', 'none', 'three', 'thru', 'itself', '‘ll', 'whither', 'if', 'how', 'formerly', 'yours', 'thereafter', 'back', 'around', 'thence', 'will', 'herself', 'as', 'doing', 'into', 'these', 'latter', 'i', 'anything', 'me', 'everything', 'my', 'sixty', 'anyhow', 'besides', 'throughout', 'when', 'yourself', 'other', 'anywhere', 'but', 'call', 'whoever', 'n’t', 'at', 'less', 'empty', 'us', \"'ve\", 'already', 'against', 'there', 'within', 'yet', 'neither', 'two', 'have', 'perhaps', 'an', 'himself', 'once', 'forty', 'thereby', 'towards', 'nevertheless', 'every', 'therefore', 'yourselves', 'various', 'such', 'must', 'thus', 'many', 'beforehand', 'whatever', 'regarding', 'being', 'why', 'might', '‘m', 'over', 'however', 'more', \"'d\", 'among', \"'re\", 'either', 'cannot', 'unless', 'to', 'ever', 'except', 'sometime', 'whom', 'own', 'bottom', 'five', 'becoming', 'really', 'is', 'and', 'hereby', 'always', 'third', 'while', 'four', 'all', '‘d', 'seems', 'seeming', 'due', 'full', 'them', 'could', 'never', 'thereupon', 'whose', 'whereupon', '’d', \"'m\", 'hence', 'we', 'eleven', 'only', 'ourselves', 'least', 'alone', 'of', '’ve', 'fifty', 'below', 'next', 'again', \"n't\", 'afterwards', 'last', 'everyone', 'whereas', 'nobody', 'then', 'by', 'toward', '’s', 'give', 'go', 'side', \"'s\", 'he', '‘s', 'be', 'even', 'no', 'show', 'somewhere', 'further', 'that', 'myself', 'each', 'ours', 'former', 'quite', 'your', 'most', 'both', 'now', 'whereby', 'here', 'well', 'across', 'amount', 'behind', 'made', 'in', 'whenever', 'twelve', '‘re', 'its', 'noone', 'they', '‘ve', 'along', 'still', 'somehow', 'otherwise', 'keep', 'up', 'through', 'on', 'does', 'you', 'upon', 'with', 'beside', 'anyone', 'her', 'nothing', 'under', 'much', 'had', 'am', 'whether', 'become', 'down', 'mine', 'him', 'been', 'move', 'since', 'nor', 'before', 'not', 'whereafter', 'were', 'for', 'hundred', 'herein', 'sometimes', 'done', 'everywhere', 'too', 'put', 'anyway', 'latterly', 'becomes', 'any', 'seem', 'make', 'top', 'almost', 'wherein', 'so', 'from', 'used', 'the', 'out', 'twenty', 'together', 'should', 'ten', 'nowhere', 'namely', 'just', 'rather', 'n‘t', 'until', 'serious', 'our', 'are', 'say', 're', 'hers', 'one', 'few', \"'ll\", 'she', '’m', 'beyond', 'nine', 'something', 'above', 'may', 'see', 'though', 'several', 'can', 'six', 'or', 'elsewhere', 'it', 'what', 'between', 'who', 'often', 'do', 'part', 'via', 'enough', 'hereafter', 'where', 'take', 'per', 'their', 'hereupon', 'did'}\n"
     ]
    },
    {
     "data": {
      "text/plain": [
       "326"
      ]
     },
     "execution_count": 32,
     "metadata": {},
     "output_type": "execute_result"
    }
   ],
   "source": [
    "print(stop_words)\n",
    "len(stop_words)"
   ]
  },
  {
   "cell_type": "code",
   "execution_count": 33,
   "metadata": {
    "colab": {
     "base_uri": "https://localhost:8080/",
     "height": 204
    },
    "executionInfo": {
     "elapsed": 449,
     "status": "ok",
     "timestamp": 1637422368446,
     "user": {
      "displayName": "shikha sharma",
      "photoUrl": "https://lh3.googleusercontent.com/a-/AOh14Gi7-MZ8BB7Qmx-tZ4fMVMWE32u_g_Wo7RIqAY8HaA=s64",
      "userId": "18236534953658718874"
     },
     "user_tz": -330
    },
    "id": "QFPxyVzkr4Cc",
    "outputId": "4fc861a6-05f6-4fd7-8d19-135aa1e3297d"
   },
   "outputs": [
    {
     "data": {
      "text/html": [
       "<div>\n",
       "<style scoped>\n",
       "    .dataframe tbody tr th:only-of-type {\n",
       "        vertical-align: middle;\n",
       "    }\n",
       "\n",
       "    .dataframe tbody tr th {\n",
       "        vertical-align: top;\n",
       "    }\n",
       "\n",
       "    .dataframe thead th {\n",
       "        text-align: right;\n",
       "    }\n",
       "</style>\n",
       "<table border=\"1\" class=\"dataframe\">\n",
       "  <thead>\n",
       "    <tr style=\"text-align: right;\">\n",
       "      <th></th>\n",
       "      <th>Description</th>\n",
       "      <th>Assignment group</th>\n",
       "      <th>word_count</th>\n",
       "      <th>char_counts</th>\n",
       "      <th>Avg_word_Count</th>\n",
       "      <th>stop_words_count</th>\n",
       "    </tr>\n",
       "  </thead>\n",
       "  <tbody>\n",
       "    <tr>\n",
       "      <th>6181</th>\n",
       "      <td>outlook is not opening</td>\n",
       "      <td>GRP_27</td>\n",
       "      <td>4</td>\n",
       "      <td>19</td>\n",
       "      <td>0.210526</td>\n",
       "      <td>2</td>\n",
       "    </tr>\n",
       "    <tr>\n",
       "      <th>4262</th>\n",
       "      <td>cant connect to erp : vpn issue</td>\n",
       "      <td>GRP_0</td>\n",
       "      <td>7</td>\n",
       "      <td>25</td>\n",
       "      <td>0.280000</td>\n",
       "      <td>1</td>\n",
       "    </tr>\n",
       "    <tr>\n",
       "      <th>3872</th>\n",
       "      <td>HostName_894 : volume: c:\\ label:sys-HostName_...</td>\n",
       "      <td>GRP_39</td>\n",
       "      <td>15</td>\n",
       "      <td>95</td>\n",
       "      <td>0.157895</td>\n",
       "      <td>2</td>\n",
       "    </tr>\n",
       "    <tr>\n",
       "      <th>413</th>\n",
       "      <td>cannot print from windows with new pc i was ju...</td>\n",
       "      <td>GRP_3</td>\n",
       "      <td>11</td>\n",
       "      <td>45</td>\n",
       "      <td>0.244444</td>\n",
       "      <td>6</td>\n",
       "    </tr>\n",
       "    <tr>\n",
       "      <th>5</th>\n",
       "      <td>unable to log in to engineering tool and skype</td>\n",
       "      <td>GRP_0</td>\n",
       "      <td>9</td>\n",
       "      <td>38</td>\n",
       "      <td>0.236842</td>\n",
       "      <td>4</td>\n",
       "    </tr>\n",
       "  </tbody>\n",
       "</table>\n",
       "</div>"
      ],
      "text/plain": [
       "                                            Description Assignment group  \\\n",
       "6181                             outlook is not opening           GRP_27   \n",
       "4262                   cant connect to erp : vpn issue             GRP_0   \n",
       "3872  HostName_894 : volume: c:\\ label:sys-HostName_...           GRP_39   \n",
       "413   cannot print from windows with new pc i was ju...            GRP_3   \n",
       "5        unable to log in to engineering tool and skype            GRP_0   \n",
       "\n",
       "      word_count  char_counts  Avg_word_Count  stop_words_count  \n",
       "6181           4           19        0.210526                 2  \n",
       "4262           7           25        0.280000                 1  \n",
       "3872          15           95        0.157895                 2  \n",
       "413           11           45        0.244444                 6  \n",
       "5              9           38        0.236842                 4  "
      ]
     },
     "execution_count": 33,
     "metadata": {},
     "output_type": "execute_result"
    }
   ],
   "source": [
    "#caluclating the number of stop words in description column\n",
    "feature_df['stop_words_count']=df['Description'].apply(lambda x:len([t for t in x.split() if t in stop_words]))\n",
    "#printing the sample values\n",
    "feature_df.sample(5)"
   ]
  },
  {
   "cell_type": "code",
   "execution_count": 34,
   "metadata": {
    "colab": {
     "base_uri": "https://localhost:8080/"
    },
    "executionInfo": {
     "elapsed": 449,
     "status": "ok",
     "timestamp": 1637422368447,
     "user": {
      "displayName": "shikha sharma",
      "photoUrl": "https://lh3.googleusercontent.com/a-/AOh14Gi7-MZ8BB7Qmx-tZ4fMVMWE32u_g_Wo7RIqAY8HaA=s64",
      "userId": "18236534953658718874"
     },
     "user_tz": -330
    },
    "id": "4dQOMWef8dhP",
    "outputId": "853de552-c834-4601-8f29-55019dc7a790"
   },
   "outputs": [
    {
     "name": "stdout",
     "output_type": "stream",
     "text": [
      "Minimum number of stop words present 0\n",
      "Maximum number of stop words present 352\n"
     ]
    }
   ],
   "source": [
    "#caluclating the minimum number of stop words count\n",
    "print(\"Minimum number of stop words present\",feature_df['stop_words_count'].min())\n",
    "#caluclating the maximum number of stop words count\n",
    "print(\"Maximum number of stop words present\", feature_df['stop_words_count'].max())"
   ]
  },
  {
   "cell_type": "code",
   "execution_count": 35,
   "metadata": {
    "colab": {
     "base_uri": "https://localhost:8080/",
     "height": 204
    },
    "executionInfo": {
     "elapsed": 444,
     "status": "ok",
     "timestamp": 1637422368447,
     "user": {
      "displayName": "shikha sharma",
      "photoUrl": "https://lh3.googleusercontent.com/a-/AOh14Gi7-MZ8BB7Qmx-tZ4fMVMWE32u_g_Wo7RIqAY8HaA=s64",
      "userId": "18236534953658718874"
     },
     "user_tz": -330
    },
    "id": "dDPhF-j5-9ad",
    "outputId": "843ba4e0-cf4a-4ff3-b9f9-0e44387bb296"
   },
   "outputs": [
    {
     "data": {
      "text/html": [
       "<div>\n",
       "<style scoped>\n",
       "    .dataframe tbody tr th:only-of-type {\n",
       "        vertical-align: middle;\n",
       "    }\n",
       "\n",
       "    .dataframe tbody tr th {\n",
       "        vertical-align: top;\n",
       "    }\n",
       "\n",
       "    .dataframe thead th {\n",
       "        text-align: right;\n",
       "    }\n",
       "</style>\n",
       "<table border=\"1\" class=\"dataframe\">\n",
       "  <thead>\n",
       "    <tr style=\"text-align: right;\">\n",
       "      <th></th>\n",
       "      <th>Description</th>\n",
       "      <th>Assignment group</th>\n",
       "      <th>word_count</th>\n",
       "      <th>char_counts</th>\n",
       "      <th>Avg_word_Count</th>\n",
       "      <th>stop_words_count</th>\n",
       "      <th>Digits_count</th>\n",
       "    </tr>\n",
       "  </thead>\n",
       "  <tbody>\n",
       "    <tr>\n",
       "      <th>6398</th>\n",
       "      <td>\\n\\nreceived from: crkdjbot.qiztrxne@gmail.com...</td>\n",
       "      <td>GRP_0</td>\n",
       "      <td>23</td>\n",
       "      <td>240</td>\n",
       "      <td>0.095833</td>\n",
       "      <td>7</td>\n",
       "      <td>0</td>\n",
       "    </tr>\n",
       "    <tr>\n",
       "      <th>4826</th>\n",
       "      <td>received from: monitoring_tool@company.com_x00...</td>\n",
       "      <td>GRP_6</td>\n",
       "      <td>12</td>\n",
       "      <td>107</td>\n",
       "      <td>0.112150</td>\n",
       "      <td>1</td>\n",
       "      <td>0</td>\n",
       "    </tr>\n",
       "    <tr>\n",
       "      <th>4102</th>\n",
       "      <td>received from: monitoring_tool@company.com_x00...</td>\n",
       "      <td>GRP_8</td>\n",
       "      <td>12</td>\n",
       "      <td>106</td>\n",
       "      <td>0.113208</td>\n",
       "      <td>1</td>\n",
       "      <td>0</td>\n",
       "    </tr>\n",
       "    <tr>\n",
       "      <th>2077</th>\n",
       "      <td>i have recently upgraded our calendar / outloo...</td>\n",
       "      <td>GRP_22</td>\n",
       "      <td>99</td>\n",
       "      <td>459</td>\n",
       "      <td>0.215686</td>\n",
       "      <td>50</td>\n",
       "      <td>0</td>\n",
       "    </tr>\n",
       "    <tr>\n",
       "      <th>6420</th>\n",
       "      <td>hello,_x000D_\\n_x000D_\\nplease reset password ...</td>\n",
       "      <td>GRP_7</td>\n",
       "      <td>29</td>\n",
       "      <td>174</td>\n",
       "      <td>0.166667</td>\n",
       "      <td>14</td>\n",
       "      <td>0</td>\n",
       "    </tr>\n",
       "  </tbody>\n",
       "</table>\n",
       "</div>"
      ],
      "text/plain": [
       "                                            Description Assignment group  \\\n",
       "6398  \\n\\nreceived from: crkdjbot.qiztrxne@gmail.com...            GRP_0   \n",
       "4826  received from: monitoring_tool@company.com_x00...            GRP_6   \n",
       "4102  received from: monitoring_tool@company.com_x00...            GRP_8   \n",
       "2077  i have recently upgraded our calendar / outloo...           GRP_22   \n",
       "6420  hello,_x000D_\\n_x000D_\\nplease reset password ...            GRP_7   \n",
       "\n",
       "      word_count  char_counts  Avg_word_Count  stop_words_count  Digits_count  \n",
       "6398          23          240        0.095833                 7             0  \n",
       "4826          12          107        0.112150                 1             0  \n",
       "4102          12          106        0.113208                 1             0  \n",
       "2077          99          459        0.215686                50             0  \n",
       "6420          29          174        0.166667                14             0  "
      ]
     },
     "execution_count": 35,
     "metadata": {},
     "output_type": "execute_result"
    }
   ],
   "source": [
    "#caluclating the number of digits count in description column\n",
    "feature_df['Digits_count']=df['Description'].apply(lambda x:len([t for t in x.split() if t.isdigit()]))\n",
    "#Printing the sample rows\n",
    "feature_df.sample(5)"
   ]
  },
  {
   "cell_type": "code",
   "execution_count": 40,
   "metadata": {},
   "outputs": [],
   "source": [
    "s = feature_df['Digits_count'].groupby(feature_df['Assignment group']).value_counts()"
   ]
  },
  {
   "cell_type": "code",
   "execution_count": 37,
   "metadata": {
    "colab": {
     "base_uri": "https://localhost:8080/"
    },
    "executionInfo": {
     "elapsed": 444,
     "status": "ok",
     "timestamp": 1637422368449,
     "user": {
      "displayName": "shikha sharma",
      "photoUrl": "https://lh3.googleusercontent.com/a-/AOh14Gi7-MZ8BB7Qmx-tZ4fMVMWE32u_g_Wo7RIqAY8HaA=s64",
      "userId": "18236534953658718874"
     },
     "user_tz": -330
    },
    "id": "1z9tLmoC__1Z",
    "outputId": "75e2fc34-7be0-48e7-d110-27a4e4301dad"
   },
   "outputs": [
    {
     "name": "stdout",
     "output_type": "stream",
     "text": [
      "Maximum number of digits present 444\n",
      "Minimum number of digits present 0\n"
     ]
    }
   ],
   "source": [
    "#Checking the maximum count\n",
    "print(\"Maximum number of digits present\",feature_df['Digits_count'].max())\n",
    "#Checking the minimum count\n",
    "print(\"Minimum number of digits present\",feature_df['Digits_count'].min())\n"
   ]
  },
  {
   "cell_type": "code",
   "execution_count": 42,
   "metadata": {
    "colab": {
     "base_uri": "https://localhost:8080/",
     "height": 204
    },
    "executionInfo": {
     "elapsed": 1152,
     "status": "ok",
     "timestamp": 1637422369163,
     "user": {
      "displayName": "shikha sharma",
      "photoUrl": "https://lh3.googleusercontent.com/a-/AOh14Gi7-MZ8BB7Qmx-tZ4fMVMWE32u_g_Wo7RIqAY8HaA=s64",
      "userId": "18236534953658718874"
     },
     "user_tz": -330
    },
    "id": "9kABnno9AkTj",
    "outputId": "2e73c3c7-1d4d-4c5a-884b-be6f6462839d"
   },
   "outputs": [
    {
     "data": {
      "text/html": [
       "<div>\n",
       "<style scoped>\n",
       "    .dataframe tbody tr th:only-of-type {\n",
       "        vertical-align: middle;\n",
       "    }\n",
       "\n",
       "    .dataframe tbody tr th {\n",
       "        vertical-align: top;\n",
       "    }\n",
       "\n",
       "    .dataframe thead th {\n",
       "        text-align: right;\n",
       "    }\n",
       "</style>\n",
       "<table border=\"1\" class=\"dataframe\">\n",
       "  <thead>\n",
       "    <tr style=\"text-align: right;\">\n",
       "      <th></th>\n",
       "      <th>Description</th>\n",
       "      <th>Assignment group</th>\n",
       "      <th>word_count</th>\n",
       "      <th>char_counts</th>\n",
       "      <th>Avg_word_Count</th>\n",
       "      <th>stop_words_count</th>\n",
       "      <th>Digits_count</th>\n",
       "      <th>Upper_Case_count</th>\n",
       "    </tr>\n",
       "  </thead>\n",
       "  <tbody>\n",
       "    <tr>\n",
       "      <th>5878</th>\n",
       "      <td>setup new ws \\strahlraum \\xaqzisrk ahbgjrqz</td>\n",
       "      <td>GRP_24</td>\n",
       "      <td>6</td>\n",
       "      <td>38</td>\n",
       "      <td>0.157895</td>\n",
       "      <td>0</td>\n",
       "      <td>0</td>\n",
       "      <td>0</td>\n",
       "    </tr>\n",
       "    <tr>\n",
       "      <th>6756</th>\n",
       "      <td>not showixepyfbga wtqdyoin drive at all</td>\n",
       "      <td>GRP_3</td>\n",
       "      <td>6</td>\n",
       "      <td>34</td>\n",
       "      <td>0.176471</td>\n",
       "      <td>3</td>\n",
       "      <td>0</td>\n",
       "      <td>0</td>\n",
       "    </tr>\n",
       "    <tr>\n",
       "      <th>4372</th>\n",
       "      <td>prospect account contacts came over ok.  the c...</td>\n",
       "      <td>GRP_40</td>\n",
       "      <td>16</td>\n",
       "      <td>86</td>\n",
       "      <td>0.186047</td>\n",
       "      <td>6</td>\n",
       "      <td>0</td>\n",
       "      <td>0</td>\n",
       "    </tr>\n",
       "    <tr>\n",
       "      <th>8370</th>\n",
       "      <td>wiksufty, jimdghty l manager â€“ so i believe ...</td>\n",
       "      <td>GRP_9</td>\n",
       "      <td>69</td>\n",
       "      <td>355</td>\n",
       "      <td>0.194366</td>\n",
       "      <td>16</td>\n",
       "      <td>0</td>\n",
       "      <td>0</td>\n",
       "    </tr>\n",
       "    <tr>\n",
       "      <th>5382</th>\n",
       "      <td>received from: monitoring_tool@company.com_x00...</td>\n",
       "      <td>GRP_9</td>\n",
       "      <td>12</td>\n",
       "      <td>107</td>\n",
       "      <td>0.112150</td>\n",
       "      <td>1</td>\n",
       "      <td>0</td>\n",
       "      <td>0</td>\n",
       "    </tr>\n",
       "  </tbody>\n",
       "</table>\n",
       "</div>"
      ],
      "text/plain": [
       "                                            Description Assignment group  \\\n",
       "5878        setup new ws \\strahlraum \\xaqzisrk ahbgjrqz           GRP_24   \n",
       "6756            not showixepyfbga wtqdyoin drive at all            GRP_3   \n",
       "4372  prospect account contacts came over ok.  the c...           GRP_40   \n",
       "8370  wiksufty, jimdghty l manager â€“ so i believe ...            GRP_9   \n",
       "5382  received from: monitoring_tool@company.com_x00...            GRP_9   \n",
       "\n",
       "      word_count  char_counts  Avg_word_Count  stop_words_count  Digits_count  \\\n",
       "5878           6           38        0.157895                 0             0   \n",
       "6756           6           34        0.176471                 3             0   \n",
       "4372          16           86        0.186047                 6             0   \n",
       "8370          69          355        0.194366                16             0   \n",
       "5382          12          107        0.112150                 1             0   \n",
       "\n",
       "      Upper_Case_count  \n",
       "5878                 0  \n",
       "6756                 0  \n",
       "4372                 0  \n",
       "8370                 0  \n",
       "5382                 0  "
      ]
     },
     "execution_count": 42,
     "metadata": {},
     "output_type": "execute_result"
    }
   ],
   "source": [
    "#caluclating the number of uppercase count in description column\n",
    "feature_df['Upper_Case_count']=df['Description'].apply(lambda x:len([t for t in x.split() if t.isupper()]))\n",
    "#printing the sample\n",
    "feature_df.sample(5)"
   ]
  },
  {
   "cell_type": "code",
   "execution_count": 43,
   "metadata": {
    "colab": {
     "base_uri": "https://localhost:8080/"
    },
    "executionInfo": {
     "elapsed": 37,
     "status": "ok",
     "timestamp": 1637422369164,
     "user": {
      "displayName": "shikha sharma",
      "photoUrl": "https://lh3.googleusercontent.com/a-/AOh14Gi7-MZ8BB7Qmx-tZ4fMVMWE32u_g_Wo7RIqAY8HaA=s64",
      "userId": "18236534953658718874"
     },
     "user_tz": -330
    },
    "id": "DTE7mh8ICAzh",
    "outputId": "3fd248bc-a38c-44eb-c800-4b13b0af8ca3"
   },
   "outputs": [
    {
     "name": "stdout",
     "output_type": "stream",
     "text": [
      "Maximum number of Upper case letters present 10\n",
      "Minimum number of Upper case letters present 0\n"
     ]
    }
   ],
   "source": [
    "#Checking the maximum count\n",
    "print(\"Maximum number of Upper case letters present\",feature_df['Upper_Case_count'].max())\n",
    "#Checking the minimum count\n",
    "print(\"Minimum number of Upper case letters present\",feature_df['Upper_Case_count'].min())"
   ]
  },
  {
   "cell_type": "markdown",
   "metadata": {
    "id": "1pYFO7rPHZTw"
   },
   "source": [
    "# Cleaning and PreProcessing"
   ]
  },
  {
   "cell_type": "code",
   "execution_count": 44,
   "metadata": {},
   "outputs": [
    {
     "data": {
      "text/html": [
       "<div>\n",
       "<style scoped>\n",
       "    .dataframe tbody tr th:only-of-type {\n",
       "        vertical-align: middle;\n",
       "    }\n",
       "\n",
       "    .dataframe tbody tr th {\n",
       "        vertical-align: top;\n",
       "    }\n",
       "\n",
       "    .dataframe thead th {\n",
       "        text-align: right;\n",
       "    }\n",
       "</style>\n",
       "<table border=\"1\" class=\"dataframe\">\n",
       "  <thead>\n",
       "    <tr style=\"text-align: right;\">\n",
       "      <th></th>\n",
       "      <th>Short description</th>\n",
       "      <th>Description</th>\n",
       "      <th>Caller</th>\n",
       "      <th>Assignment group</th>\n",
       "    </tr>\n",
       "  </thead>\n",
       "  <tbody>\n",
       "    <tr>\n",
       "      <th>1406</th>\n",
       "      <td>HostName_106:windows disk space utilization al...</td>\n",
       "      <td>HostName_106:windows disk space utilization al...</td>\n",
       "      <td>utyeofsk rdyzpwhi</td>\n",
       "      <td>GRP_12</td>\n",
       "    </tr>\n",
       "    <tr>\n",
       "      <th>2515</th>\n",
       "      <td>vpn issues</td>\n",
       "      <td>_x000D_\\n_x000D_\\nreceived from: uvorgwts.mlqz...</td>\n",
       "      <td>uvorgwts mlqzaicb</td>\n",
       "      <td>GRP_0</td>\n",
       "    </tr>\n",
       "    <tr>\n",
       "      <th>5726</th>\n",
       "      <td>please change password and pin for the EU_tool</td>\n",
       "      <td>please change password and pin for the EU_tool</td>\n",
       "      <td>lgtdheno wfukbdjy</td>\n",
       "      <td>GRP_59</td>\n",
       "    </tr>\n",
       "    <tr>\n",
       "      <th>5494</th>\n",
       "      <td>job Job_2063d failed in job_scheduler at: 09/0...</td>\n",
       "      <td>received from: monitoring_tool@company.com_x00...</td>\n",
       "      <td>bpctwhsn kzqsbmtp</td>\n",
       "      <td>GRP_6</td>\n",
       "    </tr>\n",
       "    <tr>\n",
       "      <th>4510</th>\n",
       "      <td>ms excel right click not working.</td>\n",
       "      <td>ms excel right click not working._x000D_\\n-con...</td>\n",
       "      <td>lwgytuxq qspdztiw</td>\n",
       "      <td>GRP_0</td>\n",
       "    </tr>\n",
       "  </tbody>\n",
       "</table>\n",
       "</div>"
      ],
      "text/plain": [
       "                                      Short description  \\\n",
       "1406  HostName_106:windows disk space utilization al...   \n",
       "2515                                         vpn issues   \n",
       "5726     please change password and pin for the EU_tool   \n",
       "5494  job Job_2063d failed in job_scheduler at: 09/0...   \n",
       "4510                  ms excel right click not working.   \n",
       "\n",
       "                                            Description             Caller  \\\n",
       "1406  HostName_106:windows disk space utilization al...  utyeofsk rdyzpwhi   \n",
       "2515  _x000D_\\n_x000D_\\nreceived from: uvorgwts.mlqz...  uvorgwts mlqzaicb   \n",
       "5726     please change password and pin for the EU_tool  lgtdheno wfukbdjy   \n",
       "5494  received from: monitoring_tool@company.com_x00...  bpctwhsn kzqsbmtp   \n",
       "4510  ms excel right click not working._x000D_\\n-con...  lwgytuxq qspdztiw   \n",
       "\n",
       "     Assignment group  \n",
       "1406           GRP_12  \n",
       "2515            GRP_0  \n",
       "5726           GRP_59  \n",
       "5494            GRP_6  \n",
       "4510            GRP_0  "
      ]
     },
     "execution_count": 44,
     "metadata": {},
     "output_type": "execute_result"
    }
   ],
   "source": [
    "df.sample(5)"
   ]
  },
  {
   "cell_type": "markdown",
   "metadata": {
    "id": "B2Ea3tAwNxB2"
   },
   "source": [
    "\n",
    "\n",
    "1.   The objective of the problem is to categorise the issues based on description and assign them to various groups. Since the short description is extracted from the description only, we can remove the column.\n",
    "2.  The objective is also to analyse the description and assign tickets\n"
   ]
  },
  {
   "cell_type": "code",
   "execution_count": 52,
   "metadata": {
    "executionInfo": {
     "elapsed": 85239,
     "status": "ok",
     "timestamp": 1637422454382,
     "user": {
      "displayName": "shikha sharma",
      "photoUrl": "https://lh3.googleusercontent.com/a-/AOh14Gi7-MZ8BB7Qmx-tZ4fMVMWE32u_g_Wo7RIqAY8HaA=s64",
      "userId": "18236534953658718874"
     },
     "user_tz": -330
    },
    "id": "_ilffAtfRVTf"
   },
   "outputs": [],
   "source": [
    "def fn_lan_detect(df):                                        \n",
    "   try:                                                          \n",
    "     0 \n",
    "     return detect(df)                                      \n",
    "   except:                                                       \n",
    "      return 'no'                                                  \n",
    "\n",
    "df['language'] = df['Description'].apply(fn_lan_detect)"
   ]
  },
  {
   "cell_type": "code",
   "execution_count": 53,
   "metadata": {
    "colab": {
     "base_uri": "https://localhost:8080/"
    },
    "executionInfo": {
     "elapsed": 78,
     "status": "ok",
     "timestamp": 1637422454412,
     "user": {
      "displayName": "shikha sharma",
      "photoUrl": "https://lh3.googleusercontent.com/a-/AOh14Gi7-MZ8BB7Qmx-tZ4fMVMWE32u_g_Wo7RIqAY8HaA=s64",
      "userId": "18236534953658718874"
     },
     "user_tz": -330
    },
    "id": "cdS4A-VKTZrP",
    "outputId": "17911e27-d007-4ce1-a85a-846fb7456463"
   },
   "outputs": [
    {
     "data": {
      "text/plain": [
       "en    6994\n",
       "de     401\n",
       "af     257\n",
       "it     156\n",
       "fr     127\n",
       "sv      88\n",
       "ca      67\n",
       "da      66\n",
       "no      65\n",
       "nl      65\n",
       "es      46\n",
       "pt      32\n",
       "pl      28\n",
       "ro      19\n",
       "so      14\n",
       "sl      11\n",
       "tl      11\n",
       "cy      10\n",
       "sq      10\n",
       "et       7\n",
       "hr       5\n",
       "tr       5\n",
       "fi       5\n",
       "id       4\n",
       "sk       2\n",
       "cs       2\n",
       "lt       2\n",
       "lv       1\n",
       "Name: language, dtype: int64"
      ]
     },
     "execution_count": 53,
     "metadata": {},
     "output_type": "execute_result"
    }
   ],
   "source": [
    "df['language'].value_counts()"
   ]
  },
  {
   "cell_type": "markdown",
   "metadata": {},
   "source": [
    "## Text Pre-Processing\n",
    "- As part of Text Pre-Processing Analysis we found there are quite few Non English Text.\n",
    "- So post our reviews we wanted to keep this Non-English data as part of data set for robust model generation.\n",
    "- So its been agreed to use Translators to convert Non English Text to English and get it processed for Data model feed\n",
    "- Googletrans & Translator Libraries been used and convered Non English to meaningful English words.\n",
    "- Below is the Non English Translated Text"
   ]
  },
  {
   "cell_type": "code",
   "execution_count": 54,
   "metadata": {
    "colab": {
     "base_uri": "https://localhost:8080/"
    },
    "executionInfo": {
     "elapsed": 67,
     "status": "ok",
     "timestamp": 1637422454412,
     "user": {
      "displayName": "shikha sharma",
      "photoUrl": "https://lh3.googleusercontent.com/a-/AOh14Gi7-MZ8BB7Qmx-tZ4fMVMWE32u_g_Wo7RIqAY8HaA=s64",
      "userId": "18236534953658718874"
     },
     "user_tz": -330
    },
    "id": "AZz4CxpDULP5",
    "outputId": "09c7c446-45c3-4fb2-ab0b-a0829119a708"
   },
   "outputs": [
    {
     "name": "stdout",
     "output_type": "stream",
     "text": [
      "{'af': 'afrikaans', 'sq': 'albanian', 'am': 'amharic', 'ar': 'arabic', 'hy': 'armenian', 'az': 'azerbaijani', 'eu': 'basque', 'be': 'belarusian', 'bn': 'bengali', 'bs': 'bosnian', 'bg': 'bulgarian', 'ca': 'catalan', 'ceb': 'cebuano', 'ny': 'chichewa', 'zh-cn': 'chinese (simplified)', 'zh-tw': 'chinese (traditional)', 'co': 'corsican', 'hr': 'croatian', 'cs': 'czech', 'da': 'danish', 'nl': 'dutch', 'en': 'english', 'eo': 'esperanto', 'et': 'estonian', 'tl': 'filipino', 'fi': 'finnish', 'fr': 'french', 'fy': 'frisian', 'gl': 'galician', 'ka': 'georgian', 'de': 'german', 'el': 'greek', 'gu': 'gujarati', 'ht': 'haitian creole', 'ha': 'hausa', 'haw': 'hawaiian', 'iw': 'hebrew', 'he': 'hebrew', 'hi': 'hindi', 'hmn': 'hmong', 'hu': 'hungarian', 'is': 'icelandic', 'ig': 'igbo', 'id': 'indonesian', 'ga': 'irish', 'it': 'italian', 'ja': 'japanese', 'jw': 'javanese', 'kn': 'kannada', 'kk': 'kazakh', 'km': 'khmer', 'ko': 'korean', 'ku': 'kurdish (kurmanji)', 'ky': 'kyrgyz', 'lo': 'lao', 'la': 'latin', 'lv': 'latvian', 'lt': 'lithuanian', 'lb': 'luxembourgish', 'mk': 'macedonian', 'mg': 'malagasy', 'ms': 'malay', 'ml': 'malayalam', 'mt': 'maltese', 'mi': 'maori', 'mr': 'marathi', 'mn': 'mongolian', 'my': 'myanmar (burmese)', 'ne': 'nepali', 'no': 'norwegian', 'or': 'odia', 'ps': 'pashto', 'fa': 'persian', 'pl': 'polish', 'pt': 'portuguese', 'pa': 'punjabi', 'ro': 'romanian', 'ru': 'russian', 'sm': 'samoan', 'gd': 'scots gaelic', 'sr': 'serbian', 'st': 'sesotho', 'sn': 'shona', 'sd': 'sindhi', 'si': 'sinhala', 'sk': 'slovak', 'sl': 'slovenian', 'so': 'somali', 'es': 'spanish', 'su': 'sundanese', 'sw': 'swahili', 'sv': 'swedish', 'tg': 'tajik', 'ta': 'tamil', 'te': 'telugu', 'th': 'thai', 'tr': 'turkish', 'uk': 'ukrainian', 'ur': 'urdu', 'ug': 'uyghur', 'uz': 'uzbek', 'vi': 'vietnamese', 'cy': 'welsh', 'xh': 'xhosa', 'yi': 'yiddish', 'yo': 'yoruba', 'zu': 'zulu'}\n"
     ]
    }
   ],
   "source": [
    "import googletrans\n",
    "from googletrans import Translator\n",
    "print(googletrans.LANGUAGES)"
   ]
  },
  {
   "cell_type": "code",
   "execution_count": 55,
   "metadata": {},
   "outputs": [],
   "source": [
    "#pip install googletrans"
   ]
  },
  {
   "cell_type": "raw",
   "metadata": {},
   "source": [
    "Transating the other language text"
   ]
  },
  {
   "cell_type": "code",
   "execution_count": 64,
   "metadata": {
    "executionInfo": {
     "elapsed": 58,
     "status": "ok",
     "timestamp": 1637422454413,
     "user": {
      "displayName": "shikha sharma",
      "photoUrl": "https://lh3.googleusercontent.com/a-/AOh14Gi7-MZ8BB7Qmx-tZ4fMVMWE32u_g_Wo7RIqAY8HaA=s64",
      "userId": "18236534953658718874"
     },
     "user_tz": -330
    },
    "id": "Fb87uzltUQK_"
   },
   "outputs": [],
   "source": [
    "# Function to translate the text to english.\n",
    "def fn_translate(df,lang):\n",
    "  try:\n",
    "    if lang == 'en':\n",
    "        return df\n",
    "    else:\n",
    "        return translator.translate(df).text\n",
    "  except:\n",
    "    return df\n",
    "    \n",
    "    \n",
    "df['English_Description'] = df.apply(lambda x: fn_translate(x['Description'], x['language']), axis=1)"
   ]
  },
  {
   "cell_type": "code",
   "execution_count": 67,
   "metadata": {
    "colab": {
     "base_uri": "https://localhost:8080/",
     "height": 204
    },
    "executionInfo": {
     "elapsed": 81,
     "status": "ok",
     "timestamp": 1637422454436,
     "user": {
      "displayName": "shikha sharma",
      "photoUrl": "https://lh3.googleusercontent.com/a-/AOh14Gi7-MZ8BB7Qmx-tZ4fMVMWE32u_g_Wo7RIqAY8HaA=s64",
      "userId": "18236534953658718874"
     },
     "user_tz": -330
    },
    "id": "wB3yntrDGSJA",
    "outputId": "356f8469-875b-452e-b9e3-92bb18e63f77"
   },
   "outputs": [
    {
     "data": {
      "text/html": [
       "<div>\n",
       "<style scoped>\n",
       "    .dataframe tbody tr th:only-of-type {\n",
       "        vertical-align: middle;\n",
       "    }\n",
       "\n",
       "    .dataframe tbody tr th {\n",
       "        vertical-align: top;\n",
       "    }\n",
       "\n",
       "    .dataframe thead th {\n",
       "        text-align: right;\n",
       "    }\n",
       "</style>\n",
       "<table border=\"1\" class=\"dataframe\">\n",
       "  <thead>\n",
       "    <tr style=\"text-align: right;\">\n",
       "      <th></th>\n",
       "      <th>Short description</th>\n",
       "      <th>Description</th>\n",
       "      <th>Caller</th>\n",
       "      <th>Assignment group</th>\n",
       "      <th>language</th>\n",
       "      <th>English_Description</th>\n",
       "    </tr>\n",
       "  </thead>\n",
       "  <tbody>\n",
       "    <tr>\n",
       "      <th>7233</th>\n",
       "      <td>erp down , internet down in usa pa location</td>\n",
       "      <td>erp down , internet down in usa pa location .\\...</td>\n",
       "      <td>mknoeicg aziptqvu</td>\n",
       "      <td>GRP_0</td>\n",
       "      <td>en</td>\n",
       "      <td>erp down , internet down in usa pa location .\\...</td>\n",
       "    </tr>\n",
       "    <tr>\n",
       "      <th>5529</th>\n",
       "      <td>network outage: usa mi site is hard down at 9:...</td>\n",
       "      <td>what type of outage:  __x___network     _____c...</td>\n",
       "      <td>rkupnshb gsmzfojw</td>\n",
       "      <td>GRP_8</td>\n",
       "      <td>en</td>\n",
       "      <td>what type of outage:  __x___network     _____c...</td>\n",
       "    </tr>\n",
       "    <tr>\n",
       "      <th>4034</th>\n",
       "      <td>computer unable to connection company network.</td>\n",
       "      <td>computer unable to connection company network....</td>\n",
       "      <td>eokwrjcx qxzkboeg</td>\n",
       "      <td>GRP_31</td>\n",
       "      <td>en</td>\n",
       "      <td>computer unable to connection company network....</td>\n",
       "    </tr>\n",
       "    <tr>\n",
       "      <th>2996</th>\n",
       "      <td>login blocked</td>\n",
       "      <td>_x000D_\\n_x000D_\\nreceived from: ublisodp.qydf...</td>\n",
       "      <td>ublisodp qydfvpgw</td>\n",
       "      <td>GRP_0</td>\n",
       "      <td>en</td>\n",
       "      <td>_x000D_\\n_x000D_\\nreceived from: ublisodp.qydf...</td>\n",
       "    </tr>\n",
       "    <tr>\n",
       "      <th>6161</th>\n",
       "      <td>job Job_3028 failed in job_scheduler at: 08/26...</td>\n",
       "      <td>received from: monitoring_tool@company.com_x00...</td>\n",
       "      <td>bpctwhsn kzqsbmtp</td>\n",
       "      <td>GRP_45</td>\n",
       "      <td>en</td>\n",
       "      <td>received from: monitoring_tool@company.com_x00...</td>\n",
       "    </tr>\n",
       "  </tbody>\n",
       "</table>\n",
       "</div>"
      ],
      "text/plain": [
       "                                      Short description  \\\n",
       "7233       erp down , internet down in usa pa location    \n",
       "5529  network outage: usa mi site is hard down at 9:...   \n",
       "4034     computer unable to connection company network.   \n",
       "2996                                      login blocked   \n",
       "6161  job Job_3028 failed in job_scheduler at: 08/26...   \n",
       "\n",
       "                                            Description             Caller  \\\n",
       "7233  erp down , internet down in usa pa location .\\...  mknoeicg aziptqvu   \n",
       "5529  what type of outage:  __x___network     _____c...  rkupnshb gsmzfojw   \n",
       "4034  computer unable to connection company network....  eokwrjcx qxzkboeg   \n",
       "2996  _x000D_\\n_x000D_\\nreceived from: ublisodp.qydf...  ublisodp qydfvpgw   \n",
       "6161  received from: monitoring_tool@company.com_x00...  bpctwhsn kzqsbmtp   \n",
       "\n",
       "     Assignment group language  \\\n",
       "7233            GRP_0       en   \n",
       "5529            GRP_8       en   \n",
       "4034           GRP_31       en   \n",
       "2996            GRP_0       en   \n",
       "6161           GRP_45       en   \n",
       "\n",
       "                                    English_Description  \n",
       "7233  erp down , internet down in usa pa location .\\...  \n",
       "5529  what type of outage:  __x___network     _____c...  \n",
       "4034  computer unable to connection company network....  \n",
       "2996  _x000D_\\n_x000D_\\nreceived from: ublisodp.qydf...  \n",
       "6161  received from: monitoring_tool@company.com_x00...  "
      ]
     },
     "execution_count": 67,
     "metadata": {},
     "output_type": "execute_result"
    }
   ],
   "source": [
    "df.sample(5)"
   ]
  },
  {
   "cell_type": "code",
   "execution_count": 68,
   "metadata": {},
   "outputs": [],
   "source": [
    "df.to_csv('translated_ticketfintest.csv', index=False, encoding='utf_8_sig')"
   ]
  },
  {
   "cell_type": "markdown",
   "metadata": {},
   "source": [
    "Droping down the column Description and language after translating"
   ]
  },
  {
   "cell_type": "code",
   "execution_count": 70,
   "metadata": {
    "executionInfo": {
     "elapsed": 101,
     "status": "ok",
     "timestamp": 1637422454443,
     "user": {
      "displayName": "shikha sharma",
      "photoUrl": "https://lh3.googleusercontent.com/a-/AOh14Gi7-MZ8BB7Qmx-tZ4fMVMWE32u_g_Wo7RIqAY8HaA=s64",
      "userId": "18236534953658718874"
     },
     "user_tz": -330
    },
    "id": "I_R7IdkAfw-u"
   },
   "outputs": [],
   "source": [
    "df_translated_text=df.drop(['Description','language'],axis=1)"
   ]
  },
  {
   "cell_type": "code",
   "execution_count": 71,
   "metadata": {
    "executionInfo": {
     "elapsed": 117,
     "status": "ok",
     "timestamp": 1637422454475,
     "user": {
      "displayName": "shikha sharma",
      "photoUrl": "https://lh3.googleusercontent.com/a-/AOh14Gi7-MZ8BB7Qmx-tZ4fMVMWE32u_g_Wo7RIqAY8HaA=s64",
      "userId": "18236534953658718874"
     },
     "user_tz": -330
    },
    "id": "YKnP_5wbgD20"
   },
   "outputs": [],
   "source": [
    "df_translated_text.English_Description=df_translated_text.English_Description.astype(str)"
   ]
  },
  {
   "cell_type": "code",
   "execution_count": 72,
   "metadata": {
    "colab": {
     "base_uri": "https://localhost:8080/",
     "height": 204
    },
    "executionInfo": {
     "elapsed": 927,
     "status": "ok",
     "timestamp": 1637422455288,
     "user": {
      "displayName": "shikha sharma",
      "photoUrl": "https://lh3.googleusercontent.com/a-/AOh14Gi7-MZ8BB7Qmx-tZ4fMVMWE32u_g_Wo7RIqAY8HaA=s64",
      "userId": "18236534953658718874"
     },
     "user_tz": -330
    },
    "id": "oBfEhK52R5n9",
    "outputId": "c9f80309-f9e0-419f-ea76-67ec300019ef"
   },
   "outputs": [
    {
     "data": {
      "text/html": [
       "<div>\n",
       "<style scoped>\n",
       "    .dataframe tbody tr th:only-of-type {\n",
       "        vertical-align: middle;\n",
       "    }\n",
       "\n",
       "    .dataframe tbody tr th {\n",
       "        vertical-align: top;\n",
       "    }\n",
       "\n",
       "    .dataframe thead th {\n",
       "        text-align: right;\n",
       "    }\n",
       "</style>\n",
       "<table border=\"1\" class=\"dataframe\">\n",
       "  <thead>\n",
       "    <tr style=\"text-align: right;\">\n",
       "      <th></th>\n",
       "      <th>Short description</th>\n",
       "      <th>Caller</th>\n",
       "      <th>Assignment group</th>\n",
       "      <th>English_Description</th>\n",
       "    </tr>\n",
       "  </thead>\n",
       "  <tbody>\n",
       "    <tr>\n",
       "      <th>1588</th>\n",
       "      <td>password reset instruction</td>\n",
       "      <td>jdlxkygf wlzqaivr</td>\n",
       "      <td>GRP_0</td>\n",
       "      <td>summaryhello i need to reset one of my team me...</td>\n",
       "    </tr>\n",
       "    <tr>\n",
       "      <th>7880</th>\n",
       "      <td>unable to launch outlook</td>\n",
       "      <td>xeocpjsu hqwxumfb</td>\n",
       "      <td>GRP_0</td>\n",
       "      <td>unable to launch outlook</td>\n",
       "    </tr>\n",
       "    <tr>\n",
       "      <th>2169</th>\n",
       "      <td>query about ticket status.: ticket_no1556096 :...</td>\n",
       "      <td>aorthyme rnsuipbk</td>\n",
       "      <td>GRP_0</td>\n",
       "      <td>ticket_no1556096  antjuyhony usa</td>\n",
       "    </tr>\n",
       "    <tr>\n",
       "      <th>2590</th>\n",
       "      <td>only erp running slow in Israel.internet is wo...</td>\n",
       "      <td>wqfzjycu omleknjd</td>\n",
       "      <td>GRP_14</td>\n",
       "      <td>only erp running slowinternet is working finea...</td>\n",
       "    </tr>\n",
       "    <tr>\n",
       "      <th>6210</th>\n",
       "      <td>wrong commited dates for 1409 on orders and qu...</td>\n",
       "      <td>djpwfxzt cfkwxlmq</td>\n",
       "      <td>GRP_6</td>\n",
       "      <td>team since yesterday we noticed that the commi...</td>\n",
       "    </tr>\n",
       "  </tbody>\n",
       "</table>\n",
       "</div>"
      ],
      "text/plain": [
       "                                      Short description             Caller  \\\n",
       "1588                        password reset instruction   jdlxkygf wlzqaivr   \n",
       "7880                           unable to launch outlook  xeocpjsu hqwxumfb   \n",
       "2169  query about ticket status.: ticket_no1556096 :...  aorthyme rnsuipbk   \n",
       "2590  only erp running slow in Israel.internet is wo...  wqfzjycu omleknjd   \n",
       "6210  wrong commited dates for 1409 on orders and qu...  djpwfxzt cfkwxlmq   \n",
       "\n",
       "     Assignment group                                English_Description  \n",
       "1588            GRP_0  summaryhello i need to reset one of my team me...  \n",
       "7880            GRP_0                           unable to launch outlook  \n",
       "2169            GRP_0                   ticket_no1556096  antjuyhony usa  \n",
       "2590           GRP_14  only erp running slowinternet is working finea...  \n",
       "6210            GRP_6  team since yesterday we noticed that the commi...  "
      ]
     },
     "execution_count": 72,
     "metadata": {},
     "output_type": "execute_result"
    }
   ],
   "source": [
    "#Removing unwanted charcters\n",
    "df_translated_text['English_Description']=df_translated_text['English_Description'].apply(lambda x: re.sub(r'[^\\w ]+', \"\", x))\n",
    "#Printing sample values\n",
    "df_translated_text.sample(5)"
   ]
  },
  {
   "cell_type": "code",
   "execution_count": 73,
   "metadata": {
    "colab": {
     "base_uri": "https://localhost:8080/",
     "height": 289
    },
    "executionInfo": {
     "elapsed": 88342,
     "status": "ok",
     "timestamp": 1637422545876,
     "user": {
      "displayName": "shikha sharma",
      "photoUrl": "https://lh3.googleusercontent.com/a-/AOh14Gi7-MZ8BB7Qmx-tZ4fMVMWE32u_g_Wo7RIqAY8HaA=s64",
      "userId": "18236534953658718874"
     },
     "user_tz": -330
    },
    "id": "EC5mWIj6Jyor",
    "outputId": "6c5962ea-73a2-4b82-8944-467fe8d0f54f"
   },
   "outputs": [],
   "source": [
    "def Expansions(x):\n",
    "  expanded_text=[]\n",
    "  expanded_words=[]\n",
    "  for x in x.split():\n",
    "    expanded_words.append(contractions.fix(x))\n",
    "    expanded_text = ' '.join(expanded_words)\n",
    "  return(expanded_text)\n"
   ]
  },
  {
   "cell_type": "code",
   "execution_count": 74,
   "metadata": {},
   "outputs": [
    {
     "data": {
      "text/html": [
       "<div>\n",
       "<style scoped>\n",
       "    .dataframe tbody tr th:only-of-type {\n",
       "        vertical-align: middle;\n",
       "    }\n",
       "\n",
       "    .dataframe tbody tr th {\n",
       "        vertical-align: top;\n",
       "    }\n",
       "\n",
       "    .dataframe thead th {\n",
       "        text-align: right;\n",
       "    }\n",
       "</style>\n",
       "<table border=\"1\" class=\"dataframe\">\n",
       "  <thead>\n",
       "    <tr style=\"text-align: right;\">\n",
       "      <th></th>\n",
       "      <th>Short description</th>\n",
       "      <th>Caller</th>\n",
       "      <th>Assignment group</th>\n",
       "      <th>English_Description</th>\n",
       "      <th>Expansions</th>\n",
       "    </tr>\n",
       "  </thead>\n",
       "  <tbody>\n",
       "    <tr>\n",
       "      <th>3249</th>\n",
       "      <td>SID_1 access</td>\n",
       "      <td>pwvmkeza mzwqgejy</td>\n",
       "      <td>GRP_2</td>\n",
       "      <td>received from amrthrutakadgdyamcompanycomhello...</td>\n",
       "      <td>received from amrthrutakadgdyamcompanycomhello...</td>\n",
       "    </tr>\n",
       "    <tr>\n",
       "      <th>1223</th>\n",
       "      <td>erp SID_34 password change</td>\n",
       "      <td>vwaejqrh kmtvyesb</td>\n",
       "      <td>GRP_0</td>\n",
       "      <td>namebettymcdanghtnuelllanguagebrowsermicrosoft...</td>\n",
       "      <td>namebettymcdanghtnuelllanguagebrowsermicrosoft...</td>\n",
       "    </tr>\n",
       "    <tr>\n",
       "      <th>6537</th>\n",
       "      <td>ms excel file not opening -error procted view ...</td>\n",
       "      <td>unslcdbo jfwqcira</td>\n",
       "      <td>GRP_0</td>\n",
       "      <td>ms excel file not opening error procted view f...</td>\n",
       "      <td>ms excel file not opening error procted view f...</td>\n",
       "    </tr>\n",
       "    <tr>\n",
       "      <th>1658</th>\n",
       "      <td>job dir failed in job_scheduler at: 10/12/2016...</td>\n",
       "      <td>bpctwhsn kzqsbmtp</td>\n",
       "      <td>GRP_5</td>\n",
       "      <td>received from monitoring_toolcompanycom_x000D_...</td>\n",
       "      <td>received from monitoring_toolcompanycom_x000D_...</td>\n",
       "    </tr>\n",
       "    <tr>\n",
       "      <th>3833</th>\n",
       "      <td>not able to build distributor_tool project in ...</td>\n",
       "      <td>jdocyzgq gdvmjnso</td>\n",
       "      <td>GRP_2</td>\n",
       "      <td>not able to build distributor_tool project in ...</td>\n",
       "      <td>not able to build distributor_tool project in ...</td>\n",
       "    </tr>\n",
       "  </tbody>\n",
       "</table>\n",
       "</div>"
      ],
      "text/plain": [
       "                                      Short description             Caller  \\\n",
       "3249                                       SID_1 access  pwvmkeza mzwqgejy   \n",
       "1223                         erp SID_34 password change  vwaejqrh kmtvyesb   \n",
       "6537  ms excel file not opening -error procted view ...  unslcdbo jfwqcira   \n",
       "1658  job dir failed in job_scheduler at: 10/12/2016...  bpctwhsn kzqsbmtp   \n",
       "3833  not able to build distributor_tool project in ...  jdocyzgq gdvmjnso   \n",
       "\n",
       "     Assignment group                                English_Description  \\\n",
       "3249            GRP_2  received from amrthrutakadgdyamcompanycomhello...   \n",
       "1223            GRP_0  namebettymcdanghtnuelllanguagebrowsermicrosoft...   \n",
       "6537            GRP_0  ms excel file not opening error procted view f...   \n",
       "1658            GRP_5  received from monitoring_toolcompanycom_x000D_...   \n",
       "3833            GRP_2  not able to build distributor_tool project in ...   \n",
       "\n",
       "                                             Expansions  \n",
       "3249  received from amrthrutakadgdyamcompanycomhello...  \n",
       "1223  namebettymcdanghtnuelllanguagebrowsermicrosoft...  \n",
       "6537  ms excel file not opening error procted view f...  \n",
       "1658  received from monitoring_toolcompanycom_x000D_...  \n",
       "3833  not able to build distributor_tool project in ...  "
      ]
     },
     "execution_count": 74,
     "metadata": {},
     "output_type": "execute_result"
    }
   ],
   "source": [
    "df_translated_text['Expansions']=df_translated_text['English_Description'].apply(lambda x:Expansions(str(x)))\n",
    "#Printing the sample values\n",
    "df_translated_text.sample(5)"
   ]
  },
  {
   "cell_type": "code",
   "execution_count": 75,
   "metadata": {},
   "outputs": [
    {
     "data": {
      "text/html": [
       "<div>\n",
       "<style scoped>\n",
       "    .dataframe tbody tr th:only-of-type {\n",
       "        vertical-align: middle;\n",
       "    }\n",
       "\n",
       "    .dataframe tbody tr th {\n",
       "        vertical-align: top;\n",
       "    }\n",
       "\n",
       "    .dataframe thead th {\n",
       "        text-align: right;\n",
       "    }\n",
       "</style>\n",
       "<table border=\"1\" class=\"dataframe\">\n",
       "  <thead>\n",
       "    <tr style=\"text-align: right;\">\n",
       "      <th></th>\n",
       "      <th>Short description</th>\n",
       "      <th>Caller</th>\n",
       "      <th>Assignment group</th>\n",
       "      <th>English_Description</th>\n",
       "      <th>Expansions</th>\n",
       "      <th>Description_Removed_StopWords</th>\n",
       "    </tr>\n",
       "  </thead>\n",
       "  <tbody>\n",
       "    <tr>\n",
       "      <th>6114</th>\n",
       "      <td>HostName_1304 :volume consumed on /dev/mksysba...</td>\n",
       "      <td>oldrctiu bxurpsyi</td>\n",
       "      <td>GRP_47</td>\n",
       "      <td>HostName_1304 volume consumed on devmksysbalv ...</td>\n",
       "      <td>HostName_1304 volume consumed on devmksysbalv ...</td>\n",
       "      <td>HostName_1304 volume consumed devmksysbalv 85_...</td>\n",
       "    </tr>\n",
       "    <tr>\n",
       "      <th>1646</th>\n",
       "      <td>mr. guruythupyhtyad is still not able to open ...</td>\n",
       "      <td>uaeqlxro rzsdalyc</td>\n",
       "      <td>GRP_12</td>\n",
       "      <td>from jayatramdntydba cvyg sent wednesday octob...</td>\n",
       "      <td>from jayatramdntydba cvyg sent wednesday octob...</td>\n",
       "      <td>jayatramdntydba cvyg sent wednesday october 12...</td>\n",
       "    </tr>\n",
       "    <tr>\n",
       "      <th>8138</th>\n",
       "      <td>HostName_1178 : the status on HostName_1178.co...</td>\n",
       "      <td>rkupnshb gsmzfojw</td>\n",
       "      <td>GRP_12</td>\n",
       "      <td>HostName_1178  the status on HostName_1178comp...</td>\n",
       "      <td>HostName_1178 the status on HostName_1178compa...</td>\n",
       "      <td>HostName_1178 status HostName_1178companycomst...</td>\n",
       "    </tr>\n",
       "    <tr>\n",
       "      <th>5751</th>\n",
       "      <td>when i create a recurring appointment in mds i...</td>\n",
       "      <td>acteiqdu bferalus</td>\n",
       "      <td>GRP_40</td>\n",
       "      <td>when i create a recurring appointment in mds i...</td>\n",
       "      <td>when i create a recurring appointment in mds i...</td>\n",
       "      <td>create recurring appointment mds error record ...</td>\n",
       "    </tr>\n",
       "    <tr>\n",
       "      <th>4914</th>\n",
       "      <td>job Job_562 failed in job_scheduler at: 09/08/...</td>\n",
       "      <td>bpctwhsn kzqsbmtp</td>\n",
       "      <td>GRP_8</td>\n",
       "      <td>received from monitoring_toolcompanycom_x000D_...</td>\n",
       "      <td>received from monitoring_toolcompanycom_x000D_...</td>\n",
       "      <td>received monitoring_toolcompanycom_x000D__x000...</td>\n",
       "    </tr>\n",
       "  </tbody>\n",
       "</table>\n",
       "</div>"
      ],
      "text/plain": [
       "                                      Short description             Caller  \\\n",
       "6114  HostName_1304 :volume consumed on /dev/mksysba...  oldrctiu bxurpsyi   \n",
       "1646  mr. guruythupyhtyad is still not able to open ...  uaeqlxro rzsdalyc   \n",
       "8138  HostName_1178 : the status on HostName_1178.co...  rkupnshb gsmzfojw   \n",
       "5751  when i create a recurring appointment in mds i...  acteiqdu bferalus   \n",
       "4914  job Job_562 failed in job_scheduler at: 09/08/...  bpctwhsn kzqsbmtp   \n",
       "\n",
       "     Assignment group                                English_Description  \\\n",
       "6114           GRP_47  HostName_1304 volume consumed on devmksysbalv ...   \n",
       "1646           GRP_12  from jayatramdntydba cvyg sent wednesday octob...   \n",
       "8138           GRP_12  HostName_1178  the status on HostName_1178comp...   \n",
       "5751           GRP_40  when i create a recurring appointment in mds i...   \n",
       "4914            GRP_8  received from monitoring_toolcompanycom_x000D_...   \n",
       "\n",
       "                                             Expansions  \\\n",
       "6114  HostName_1304 volume consumed on devmksysbalv ...   \n",
       "1646  from jayatramdntydba cvyg sent wednesday octob...   \n",
       "8138  HostName_1178 the status on HostName_1178compa...   \n",
       "5751  when i create a recurring appointment in mds i...   \n",
       "4914  received from monitoring_toolcompanycom_x000D_...   \n",
       "\n",
       "                          Description_Removed_StopWords  \n",
       "6114  HostName_1304 volume consumed devmksysbalv 85_...  \n",
       "1646  jayatramdntydba cvyg sent wednesday october 12...  \n",
       "8138  HostName_1178 status HostName_1178companycomst...  \n",
       "5751  create recurring appointment mds error record ...  \n",
       "4914  received monitoring_toolcompanycom_x000D__x000...  "
      ]
     },
     "execution_count": 75,
     "metadata": {},
     "output_type": "execute_result"
    }
   ],
   "source": [
    "  \n",
    "df_translated_text['Description_Removed_StopWords']=df_translated_text['Expansions'].apply(lambda t:' '.join([t for t in t.split() if t not in stop_words]))\n",
    "#Checking for sample rows\n",
    "df_translated_text.sample(5)\n"
   ]
  },
  {
   "cell_type": "code",
   "execution_count": 76,
   "metadata": {},
   "outputs": [
    {
     "data": {
      "text/html": [
       "<div>\n",
       "<style scoped>\n",
       "    .dataframe tbody tr th:only-of-type {\n",
       "        vertical-align: middle;\n",
       "    }\n",
       "\n",
       "    .dataframe tbody tr th {\n",
       "        vertical-align: top;\n",
       "    }\n",
       "\n",
       "    .dataframe thead th {\n",
       "        text-align: right;\n",
       "    }\n",
       "</style>\n",
       "<table border=\"1\" class=\"dataframe\">\n",
       "  <thead>\n",
       "    <tr style=\"text-align: right;\">\n",
       "      <th></th>\n",
       "      <th>Short description</th>\n",
       "      <th>Caller</th>\n",
       "      <th>Assignment group</th>\n",
       "      <th>English_Description</th>\n",
       "      <th>Expansions</th>\n",
       "      <th>Description_Removed_StopWords</th>\n",
       "    </tr>\n",
       "  </thead>\n",
       "  <tbody>\n",
       "    <tr>\n",
       "      <th>2667</th>\n",
       "      <td>SID_34 password reset</td>\n",
       "      <td>rlmbxeso ulmkxdfi</td>\n",
       "      <td>GRP_0</td>\n",
       "      <td>namemityhuch ervuyinlanguagebrowsermicrosoft i...</td>\n",
       "      <td>namemityhuch ervuyinlanguagebrowsermicrosoft i...</td>\n",
       "      <td>namemityhuch ervuyinlanguagebrowsermicrosoft i...</td>\n",
       "    </tr>\n",
       "    <tr>\n",
       "      <th>7482</th>\n",
       "      <td>dell 7350: the system keeps going in to a loop...</td>\n",
       "      <td>fhdgytup oxugrqeb</td>\n",
       "      <td>GRP_3</td>\n",
       "      <td>dell 7350 the system keeps going in to a loop ...</td>\n",
       "      <td>dell 7350 the system keeps going in to a loop ...</td>\n",
       "      <td>dell 7350 system keeps going loop shutting dow...</td>\n",
       "    </tr>\n",
       "    <tr>\n",
       "      <th>3476</th>\n",
       "      <td>software installation</td>\n",
       "      <td>uprmwlgb kirvecja</td>\n",
       "      <td>GRP_0</td>\n",
       "      <td>nameuprmwlgb kirvecjalanguagebrowsermicrosoft ...</td>\n",
       "      <td>nameuprmwlgb kirvecjalanguagebrowsermicrosoft ...</td>\n",
       "      <td>nameuprmwlgb kirvecjalanguagebrowsermicrosoft ...</td>\n",
       "    </tr>\n",
       "    <tr>\n",
       "      <th>8087</th>\n",
       "      <td>polycom realpresence destop\"</td>\n",
       "      <td>zscohabw qorvugzf</td>\n",
       "      <td>GRP_19</td>\n",
       "      <td>polycom software installation on desktop</td>\n",
       "      <td>polycom software installation on desktop</td>\n",
       "      <td>polycom software installation desktop</td>\n",
       "    </tr>\n",
       "    <tr>\n",
       "      <th>3181</th>\n",
       "      <td>connection to system production_order_interfac...</td>\n",
       "      <td>znxcupyi bhrwyxgu</td>\n",
       "      <td>GRP_0</td>\n",
       "      <td>when converting planned orders to production o...</td>\n",
       "      <td>when converting planned orders to production o...</td>\n",
       "      <td>converting planned orders production orders re...</td>\n",
       "    </tr>\n",
       "  </tbody>\n",
       "</table>\n",
       "</div>"
      ],
      "text/plain": [
       "                                      Short description             Caller  \\\n",
       "2667                              SID_34 password reset  rlmbxeso ulmkxdfi   \n",
       "7482  dell 7350: the system keeps going in to a loop...  fhdgytup oxugrqeb   \n",
       "3476                              software installation  uprmwlgb kirvecja   \n",
       "8087                       polycom realpresence destop\"  zscohabw qorvugzf   \n",
       "3181  connection to system production_order_interfac...  znxcupyi bhrwyxgu   \n",
       "\n",
       "     Assignment group                                English_Description  \\\n",
       "2667            GRP_0  namemityhuch ervuyinlanguagebrowsermicrosoft i...   \n",
       "7482            GRP_3  dell 7350 the system keeps going in to a loop ...   \n",
       "3476            GRP_0  nameuprmwlgb kirvecjalanguagebrowsermicrosoft ...   \n",
       "8087           GRP_19           polycom software installation on desktop   \n",
       "3181            GRP_0  when converting planned orders to production o...   \n",
       "\n",
       "                                             Expansions  \\\n",
       "2667  namemityhuch ervuyinlanguagebrowsermicrosoft i...   \n",
       "7482  dell 7350 the system keeps going in to a loop ...   \n",
       "3476  nameuprmwlgb kirvecjalanguagebrowsermicrosoft ...   \n",
       "8087           polycom software installation on desktop   \n",
       "3181  when converting planned orders to production o...   \n",
       "\n",
       "                          Description_Removed_StopWords  \n",
       "2667  namemityhuch ervuyinlanguagebrowsermicrosoft i...  \n",
       "7482  dell 7350 system keeps going loop shutting dow...  \n",
       "3476  nameuprmwlgb kirvecjalanguagebrowsermicrosoft ...  \n",
       "8087              polycom software installation desktop  \n",
       "3181  converting planned orders production orders re...  "
      ]
     },
     "execution_count": 76,
     "metadata": {},
     "output_type": "execute_result"
    }
   ],
   "source": [
    "#Removing Multiple spaces\n",
    "df_translated_text['Expansions']=df_translated_text['Expansions'].apply(lambda x: ' '.join(x.split()))\n",
    "#Printing sample values\n",
    "df_translated_text.sample(5)"
   ]
  },
  {
   "cell_type": "code",
   "execution_count": 77,
   "metadata": {},
   "outputs": [],
   "source": [
    "def remove_accented_chars(x):\n",
    "  x=unicodedata.normalize('NFKD',x).encode('ascii','ignore').decode('utf-8','ignore')\n",
    "  return x"
   ]
  },
  {
   "cell_type": "code",
   "execution_count": 55,
   "metadata": {},
   "outputs": [
    {
     "data": {
      "text/html": [
       "<div>\n",
       "<style scoped>\n",
       "    .dataframe tbody tr th:only-of-type {\n",
       "        vertical-align: middle;\n",
       "    }\n",
       "\n",
       "    .dataframe tbody tr th {\n",
       "        vertical-align: top;\n",
       "    }\n",
       "\n",
       "    .dataframe thead th {\n",
       "        text-align: right;\n",
       "    }\n",
       "</style>\n",
       "<table border=\"1\" class=\"dataframe\">\n",
       "  <thead>\n",
       "    <tr style=\"text-align: right;\">\n",
       "      <th></th>\n",
       "      <th>Short description</th>\n",
       "      <th>Caller</th>\n",
       "      <th>Assignment group</th>\n",
       "      <th>English_Description</th>\n",
       "      <th>Expansions</th>\n",
       "      <th>Description_Removed_StopWords</th>\n",
       "    </tr>\n",
       "  </thead>\n",
       "  <tbody>\n",
       "    <tr>\n",
       "      <th>3810</th>\n",
       "      <td>erp password reset for user : lombab&lt;vrcqhnty ...</td>\n",
       "      <td>pxwhlnse hjfzvsoa</td>\n",
       "      <td>GRP_0</td>\n",
       "      <td>summaryoperator does not know their mii erp us...</td>\n",
       "      <td>summaryoperator does not know their mii erp us...</td>\n",
       "      <td>summaryoperator know mii erp username password</td>\n",
       "    </tr>\n",
       "    <tr>\n",
       "      <th>4644</th>\n",
       "      <td>mobile device activation</td>\n",
       "      <td>puxsvfwr cwkjruni</td>\n",
       "      <td>GRP_0</td>\n",
       "      <td>from puxsvfwr cwkjruni _x000D_sent monday sept...</td>\n",
       "      <td>from puxsvfwr cwkjruni _x000D_sent monday sept...</td>\n",
       "      <td>puxsvfwr cwkjruni _x000D_sent monday september...</td>\n",
       "    </tr>\n",
       "    <tr>\n",
       "      <th>1652</th>\n",
       "      <td>need display link adaptor and simcard holder</td>\n",
       "      <td>zdgxtfqs tibmhxcs</td>\n",
       "      <td>GRP_19</td>\n",
       "      <td>_x000D__x000D_received from zdgxtfqstibmhxcsgm...</td>\n",
       "      <td>_x000D__x000D_received from zdgxtfqstibmhxcsgm...</td>\n",
       "      <td>_x000D__x000D_received zdgxtfqstibmhxcsgmailco...</td>\n",
       "    </tr>\n",
       "    <tr>\n",
       "      <th>5864</th>\n",
       "      <td>ad account lock out</td>\n",
       "      <td>neoarmgd meodvbxu</td>\n",
       "      <td>GRP_0</td>\n",
       "      <td>ad account lock out</td>\n",
       "      <td>ad account lock out</td>\n",
       "      <td>ad account lock</td>\n",
       "    </tr>\n",
       "    <tr>\n",
       "      <th>5976</th>\n",
       "      <td>unable to load crm add in on outlook</td>\n",
       "      <td>owlgqjme qhcozdfx</td>\n",
       "      <td>GRP_0</td>\n",
       "      <td>unable to load crm add in on outlook</td>\n",
       "      <td>unable to load crm add in on outlook</td>\n",
       "      <td>unable load crm add outlook</td>\n",
       "    </tr>\n",
       "    <tr>\n",
       "      <th>2303</th>\n",
       "      <td>chg1145744 - stop the reminders</td>\n",
       "      <td>atdclmyi wqxzaysu</td>\n",
       "      <td>GRP_0</td>\n",
       "      <td>_x000D__x000D_received from atdclmyiwqxzaysugm...</td>\n",
       "      <td>_x000D__x000D_received from atdclmyiwqxzaysugm...</td>\n",
       "      <td>_x000D__x000D_received atdclmyiwqxzaysugmailco...</td>\n",
       "    </tr>\n",
       "    <tr>\n",
       "      <th>5302</th>\n",
       "      <td>job Job_3181 failed in job_scheduler at: 09/05...</td>\n",
       "      <td>bpctwhsn kzqsbmtp</td>\n",
       "      <td>GRP_8</td>\n",
       "      <td>received from monitoring_toolcompanycom_x000D_...</td>\n",
       "      <td>received from monitoring_toolcompanycom_x000D_...</td>\n",
       "      <td>received monitoring_toolcompanycom_x000D__x000...</td>\n",
       "    </tr>\n",
       "    <tr>\n",
       "      <th>5836</th>\n",
       "      <td>whenever i open an email with a jpg attachemen...</td>\n",
       "      <td>hitakmbs fvhmkntq</td>\n",
       "      <td>GRP_3</td>\n",
       "      <td>whenever i open an email with a jpg attachemen...</td>\n",
       "      <td>whenever i open an email with a jpg attachemen...</td>\n",
       "      <td>open email jpg attachement security warning</td>\n",
       "    </tr>\n",
       "    <tr>\n",
       "      <th>7687</th>\n",
       "      <td>erp SID_34 account unlock and password reset</td>\n",
       "      <td>jcxwgslk szvgufir</td>\n",
       "      <td>GRP_0</td>\n",
       "      <td>erp SID_34 account unlock and password reset</td>\n",
       "      <td>erp SID_34 account unlock and password reset</td>\n",
       "      <td>erp SID_34 account unlock password reset</td>\n",
       "    </tr>\n",
       "    <tr>\n",
       "      <th>6817</th>\n",
       "      <td>rqxsm004 : f:/ is now 96% utilized.</td>\n",
       "      <td>uvrbhlnt bjrmalzi</td>\n",
       "      <td>GRP_1</td>\n",
       "      <td>f labeldat2rqxsm004 dc86ed35 on server rqxsm00...</td>\n",
       "      <td>f labeldat2rqxsm004 dc86ed35 on server rqxsm00...</td>\n",
       "      <td>f labeldat2rqxsm004 dc86ed35 server rqxsm004 _...</td>\n",
       "    </tr>\n",
       "    <tr>\n",
       "      <th>1900</th>\n",
       "      <td>paper jam for insert printer</td>\n",
       "      <td>tcoyfeph cqrdaunw</td>\n",
       "      <td>GRP_31</td>\n",
       "      <td>paper jam for insert printer</td>\n",
       "      <td>paper jam for insert printer</td>\n",
       "      <td>paper jam insert printer</td>\n",
       "    </tr>\n",
       "    <tr>\n",
       "      <th>6682</th>\n",
       "      <td>network outage :india, india - (company) hard ...</td>\n",
       "      <td>jloygrwh acvztedi</td>\n",
       "      <td>GRP_8</td>\n",
       "      <td>what type of outage  ___x__network     _____ci...</td>\n",
       "      <td>what type of outage ___x__network _____circuit...</td>\n",
       "      <td>type outage ___x__network _____circuit _____po...</td>\n",
       "    </tr>\n",
       "    <tr>\n",
       "      <th>6318</th>\n",
       "      <td>telefon asxpnlgk mnktdsjq (durchwahl 174) defekt.</td>\n",
       "      <td>tohxswej pmnlxyrv</td>\n",
       "      <td>GRP_42</td>\n",
       "      <td>display kaum noch lesbar verbindung bei telefo...</td>\n",
       "      <td>display kaum noch lesbar verbindung bei telefo...</td>\n",
       "      <td>display kaum noch lesbar verbindung bei telefo...</td>\n",
       "    </tr>\n",
       "    <tr>\n",
       "      <th>1067</th>\n",
       "      <td>ms office 365 pro plus french has  got corrupt...</td>\n",
       "      <td>axcbfuqo yiagubvh</td>\n",
       "      <td>GRP_19</td>\n",
       "      <td>ms office 365 pro plus french has  got corrupt...</td>\n",
       "      <td>ms office 365 pro plus french has got corrupte...</td>\n",
       "      <td>ms office 365 pro plus french got corrupted need</td>\n",
       "    </tr>\n",
       "    <tr>\n",
       "      <th>1535</th>\n",
       "      <td>please update change for user \"giuliasana byhd...</td>\n",
       "      <td>vpityxbu qktwepmz</td>\n",
       "      <td>GRP_2</td>\n",
       "      <td>change for user giuliasana byhdderni from comp...</td>\n",
       "      <td>change for user giuliasana byhdderni from comp...</td>\n",
       "      <td>change user giuliasana byhdderni companycom co...</td>\n",
       "    </tr>\n",
       "  </tbody>\n",
       "</table>\n",
       "</div>"
      ],
      "text/plain": [
       "                                      Short description             Caller  \\\n",
       "3810  erp password reset for user : lombab<vrcqhnty ...  pxwhlnse hjfzvsoa   \n",
       "4644                           mobile device activation  puxsvfwr cwkjruni   \n",
       "1652       need display link adaptor and simcard holder  zdgxtfqs tibmhxcs   \n",
       "5864                               ad account lock out   neoarmgd meodvbxu   \n",
       "5976              unable to load crm add in on outlook   owlgqjme qhcozdfx   \n",
       "2303                   chg1145744 - stop the reminders   atdclmyi wqxzaysu   \n",
       "5302  job Job_3181 failed in job_scheduler at: 09/05...  bpctwhsn kzqsbmtp   \n",
       "5836  whenever i open an email with a jpg attachemen...  hitakmbs fvhmkntq   \n",
       "7687       erp SID_34 account unlock and password reset  jcxwgslk szvgufir   \n",
       "6817                rqxsm004 : f:/ is now 96% utilized.  uvrbhlnt bjrmalzi   \n",
       "1900                      paper jam for insert printer   tcoyfeph cqrdaunw   \n",
       "6682  network outage :india, india - (company) hard ...  jloygrwh acvztedi   \n",
       "6318  telefon asxpnlgk mnktdsjq (durchwahl 174) defekt.  tohxswej pmnlxyrv   \n",
       "1067  ms office 365 pro plus french has  got corrupt...  axcbfuqo yiagubvh   \n",
       "1535  please update change for user \"giuliasana byhd...  vpityxbu qktwepmz   \n",
       "\n",
       "     Assignment group                                English_Description  \\\n",
       "3810            GRP_0  summaryoperator does not know their mii erp us...   \n",
       "4644            GRP_0  from puxsvfwr cwkjruni _x000D_sent monday sept...   \n",
       "1652           GRP_19  _x000D__x000D_received from zdgxtfqstibmhxcsgm...   \n",
       "5864            GRP_0                               ad account lock out    \n",
       "5976            GRP_0              unable to load crm add in on outlook    \n",
       "2303            GRP_0  _x000D__x000D_received from atdclmyiwqxzaysugm...   \n",
       "5302            GRP_8  received from monitoring_toolcompanycom_x000D_...   \n",
       "5836            GRP_3  whenever i open an email with a jpg attachemen...   \n",
       "7687            GRP_0       erp SID_34 account unlock and password reset   \n",
       "6817            GRP_1  f labeldat2rqxsm004 dc86ed35 on server rqxsm00...   \n",
       "1900           GRP_31                      paper jam for insert printer    \n",
       "6682            GRP_8  what type of outage  ___x__network     _____ci...   \n",
       "6318           GRP_42  display kaum noch lesbar verbindung bei telefo...   \n",
       "1067           GRP_19  ms office 365 pro plus french has  got corrupt...   \n",
       "1535            GRP_2  change for user giuliasana byhdderni from comp...   \n",
       "\n",
       "                                             Expansions  \\\n",
       "3810  summaryoperator does not know their mii erp us...   \n",
       "4644  from puxsvfwr cwkjruni _x000D_sent monday sept...   \n",
       "1652  _x000D__x000D_received from zdgxtfqstibmhxcsgm...   \n",
       "5864                                ad account lock out   \n",
       "5976               unable to load crm add in on outlook   \n",
       "2303  _x000D__x000D_received from atdclmyiwqxzaysugm...   \n",
       "5302  received from monitoring_toolcompanycom_x000D_...   \n",
       "5836  whenever i open an email with a jpg attachemen...   \n",
       "7687       erp SID_34 account unlock and password reset   \n",
       "6817  f labeldat2rqxsm004 dc86ed35 on server rqxsm00...   \n",
       "1900                       paper jam for insert printer   \n",
       "6682  what type of outage ___x__network _____circuit...   \n",
       "6318  display kaum noch lesbar verbindung bei telefo...   \n",
       "1067  ms office 365 pro plus french has got corrupte...   \n",
       "1535  change for user giuliasana byhdderni from comp...   \n",
       "\n",
       "                          Description_Removed_StopWords  \n",
       "3810     summaryoperator know mii erp username password  \n",
       "4644  puxsvfwr cwkjruni _x000D_sent monday september...  \n",
       "1652  _x000D__x000D_received zdgxtfqstibmhxcsgmailco...  \n",
       "5864                                    ad account lock  \n",
       "5976                        unable load crm add outlook  \n",
       "2303  _x000D__x000D_received atdclmyiwqxzaysugmailco...  \n",
       "5302  received monitoring_toolcompanycom_x000D__x000...  \n",
       "5836        open email jpg attachement security warning  \n",
       "7687           erp SID_34 account unlock password reset  \n",
       "6817  f labeldat2rqxsm004 dc86ed35 server rqxsm004 _...  \n",
       "1900                           paper jam insert printer  \n",
       "6682  type outage ___x__network _____circuit _____po...  \n",
       "6318  display kaum noch lesbar verbindung bei telefo...  \n",
       "1067   ms office 365 pro plus french got corrupted need  \n",
       "1535  change user giuliasana byhdderni companycom co...  "
      ]
     },
     "execution_count": 55,
     "metadata": {},
     "output_type": "execute_result"
    }
   ],
   "source": [
    "df_translated_text['Expansions']=df_translated_text['Expansions'].apply(lambda x:remove_accented_chars(x))\n",
    "#Printing sample values\n",
    "df_translated_text.sample(15)"
   ]
  },
  {
   "cell_type": "code",
   "execution_count": 79,
   "metadata": {},
   "outputs": [],
   "source": [
    "def clean_text(text):\n",
    "    '''Make text lowercase, remove text in square brackets,remove links,remove punctuation\n",
    "    and remove words containing numbers.'''\n",
    "    text=text.replace(('first name: ').lower(),'firstname')\n",
    "    text=text.replace(('last name: ').lower(),'lastname')\n",
    "    text=text.replace(('received from:').lower(),'')\n",
    "    text=text.replace('email:','')\n",
    "    text=text.replace('email address:','') \n",
    "    index1=text.find('from:')\n",
    "    index2=text.find('\\nsddubject:')\n",
    "    text=text.replace(text[index1:index2],'')\n",
    "    index3=text.find('[cid:image')\n",
    "    index4=text.find(']')\n",
    "    text=text.replace(text[index3:index4],'')\n",
    "    text=text.replace('subject:','')\n",
    "    text=text.replace('received from:','')\n",
    "    text=text.replace('this message was sent from an unmonitored email address', '')\n",
    "    text=text.replace('please do not reply to this message', '')\n",
    "    text=text.replace('monitoring_tool@company.com','MonitoringTool')\n",
    "    text=text.replace('select the following link to view the disclaimer in an alternate language','')\n",
    "    text=text.replace('description problem', '') \n",
    "    text=text.replace('steps taken far', '')\n",
    "    text=text.replace('customer job title', '')\n",
    "    text=text.replace('sales engineer contact', '')\n",
    "    text=text.replace('description of problem:', '')\n",
    "    text=text.replace('steps taken so far', '')\n",
    "    text=text.replace('please do the needful', '')\n",
    "    text=text.replace('please note that ', '')\n",
    "    text=text.replace('please find below', '')\n",
    "    text=text.replace('date and time', '')\n",
    "    text=text.replace('kindly refer mail', '')\n",
    "    text=text.replace('name:', '')\n",
    "    text=text.replace('language:', '')\n",
    "    text=text.replace('customer number:', '')\n",
    "    text=text.replace('telephone:', '')\n",
    "    text=text.replace('summary:', '')\n",
    "    text=text.replace('sincerely', '')\n",
    "    text=text.replace('company inc', '')\n",
    "    text=text.replace('importance:', '')\n",
    "    text=text.replace('gmail.com', '')\n",
    "    text=text.replace('company.com', '')\n",
    "    text=text.replace('microsoftonline.com', '')\n",
    "    text=text.replace('company.onmicrosoft.com', '')\n",
    "    text=text.replace('hello', '')\n",
    "    text=text.replace('hallo', '')\n",
    "    text=text.replace('hi it team', '')\n",
    "    text=text.replace('hi team', '')\n",
    "    text=text.replace('hi', '')\n",
    "    text=text.replace('best', '')\n",
    "    text=text.replace('kind', '')\n",
    "    text=text.replace('regards', '')\n",
    "    text=text.replace('good morning', '')\n",
    "    text=text.replace('please', '')\n",
    "    \n",
    "    return text"
   ]
  },
  {
   "cell_type": "code",
   "execution_count": 80,
   "metadata": {},
   "outputs": [],
   "source": [
    "df_translated_text['cleaned_description'] = df_translated_text['Description_Removed_StopWords'].apply(lambda x: clean_text(x))"
   ]
  },
  {
   "cell_type": "code",
   "execution_count": 81,
   "metadata": {},
   "outputs": [],
   "source": [
    "df_translated_text['number_of_words'] = df_translated_text['cleaned_description'].apply(lambda x: len(x.split()))"
   ]
  },
  {
   "cell_type": "code",
   "execution_count": 82,
   "metadata": {},
   "outputs": [
    {
     "data": {
      "text/html": [
       "<div>\n",
       "<style scoped>\n",
       "    .dataframe tbody tr th:only-of-type {\n",
       "        vertical-align: middle;\n",
       "    }\n",
       "\n",
       "    .dataframe tbody tr th {\n",
       "        vertical-align: top;\n",
       "    }\n",
       "\n",
       "    .dataframe thead th {\n",
       "        text-align: right;\n",
       "    }\n",
       "</style>\n",
       "<table border=\"1\" class=\"dataframe\">\n",
       "  <thead>\n",
       "    <tr style=\"text-align: right;\">\n",
       "      <th></th>\n",
       "      <th>Short description</th>\n",
       "      <th>Caller</th>\n",
       "      <th>Assignment group</th>\n",
       "      <th>English_Description</th>\n",
       "      <th>Expansions</th>\n",
       "      <th>Description_Removed_StopWords</th>\n",
       "      <th>cleaned_description</th>\n",
       "      <th>number_of_words</th>\n",
       "    </tr>\n",
       "  </thead>\n",
       "  <tbody>\n",
       "    <tr>\n",
       "      <th>0</th>\n",
       "      <td>login issue</td>\n",
       "      <td>spxjnwir pjlcoqds</td>\n",
       "      <td>GRP_0</td>\n",
       "      <td>verified user detailsemployee  manager name_x0...</td>\n",
       "      <td>verified user detailsemployee manager name_x00...</td>\n",
       "      <td>verified user detailsemployee manager name_x00...</td>\n",
       "      <td>verified user detailsemployee manager name_x00...</td>\n",
       "      <td>16</td>\n",
       "    </tr>\n",
       "    <tr>\n",
       "      <th>1</th>\n",
       "      <td>outlook</td>\n",
       "      <td>hmjdrvpb komuaywn</td>\n",
       "      <td>GRP_0</td>\n",
       "      <td>_x000D__x000D_received from hmjdrvpbkomuaywngm...</td>\n",
       "      <td>_x000D__x000D_received from hmjdrvpbkomuaywngm...</td>\n",
       "      <td>_x000D__x000D_received hmjdrvpbkomuaywngmailco...</td>\n",
       "      <td>_x000D__x000D_received hmjdrvpbkomuaywngmailco...</td>\n",
       "      <td>13</td>\n",
       "    </tr>\n",
       "    <tr>\n",
       "      <th>2</th>\n",
       "      <td>cant log in to vpn</td>\n",
       "      <td>eylqgodm ybqkwiam</td>\n",
       "      <td>GRP_0</td>\n",
       "      <td>_x000D__x000D_received from eylqgodmybqkwiamgm...</td>\n",
       "      <td>_x000D__x000D_received from eylqgodmybqkwiamgm...</td>\n",
       "      <td>_x000D__x000D_received eylqgodmybqkwiamgmailco...</td>\n",
       "      <td>_x000D__x000D_received eylqgodmybqkwiamgmailco...</td>\n",
       "      <td>4</td>\n",
       "    </tr>\n",
       "    <tr>\n",
       "      <th>3</th>\n",
       "      <td>unable to access hr_tool page</td>\n",
       "      <td>xbkucsvz gcpydteq</td>\n",
       "      <td>GRP_0</td>\n",
       "      <td>unable to access hr_tool page</td>\n",
       "      <td>unable to access hr_tool page</td>\n",
       "      <td>unable access hr_tool page</td>\n",
       "      <td>unable access hr_tool page</td>\n",
       "      <td>4</td>\n",
       "    </tr>\n",
       "    <tr>\n",
       "      <th>4</th>\n",
       "      <td>skype error</td>\n",
       "      <td>owlgqjme qhcozdfx</td>\n",
       "      <td>GRP_0</td>\n",
       "      <td>skype error</td>\n",
       "      <td>skype error</td>\n",
       "      <td>skype error</td>\n",
       "      <td>skype error</td>\n",
       "      <td>2</td>\n",
       "    </tr>\n",
       "  </tbody>\n",
       "</table>\n",
       "</div>"
      ],
      "text/plain": [
       "               Short description             Caller Assignment group  \\\n",
       "0                    login issue  spxjnwir pjlcoqds            GRP_0   \n",
       "1                        outlook  hmjdrvpb komuaywn            GRP_0   \n",
       "2             cant log in to vpn  eylqgodm ybqkwiam            GRP_0   \n",
       "3  unable to access hr_tool page  xbkucsvz gcpydteq            GRP_0   \n",
       "4                   skype error   owlgqjme qhcozdfx            GRP_0   \n",
       "\n",
       "                                 English_Description  \\\n",
       "0  verified user detailsemployee  manager name_x0...   \n",
       "1  _x000D__x000D_received from hmjdrvpbkomuaywngm...   \n",
       "2  _x000D__x000D_received from eylqgodmybqkwiamgm...   \n",
       "3                      unable to access hr_tool page   \n",
       "4                                       skype error    \n",
       "\n",
       "                                          Expansions  \\\n",
       "0  verified user detailsemployee manager name_x00...   \n",
       "1  _x000D__x000D_received from hmjdrvpbkomuaywngm...   \n",
       "2  _x000D__x000D_received from eylqgodmybqkwiamgm...   \n",
       "3                      unable to access hr_tool page   \n",
       "4                                        skype error   \n",
       "\n",
       "                       Description_Removed_StopWords  \\\n",
       "0  verified user detailsemployee manager name_x00...   \n",
       "1  _x000D__x000D_received hmjdrvpbkomuaywngmailco...   \n",
       "2  _x000D__x000D_received eylqgodmybqkwiamgmailco...   \n",
       "3                         unable access hr_tool page   \n",
       "4                                        skype error   \n",
       "\n",
       "                                 cleaned_description  number_of_words  \n",
       "0  verified user detailsemployee manager name_x00...               16  \n",
       "1  _x000D__x000D_received hmjdrvpbkomuaywngmailco...               13  \n",
       "2  _x000D__x000D_received eylqgodmybqkwiamgmailco...                4  \n",
       "3                         unable access hr_tool page                4  \n",
       "4                                        skype error                2  "
      ]
     },
     "execution_count": 82,
     "metadata": {},
     "output_type": "execute_result"
    }
   ],
   "source": [
    "df_translated_text.head()"
   ]
  },
  {
   "cell_type": "code",
   "execution_count": 84,
   "metadata": {},
   "outputs": [],
   "source": [
    "#df_text = df_translated_text.drop(['Short description','Caller','English_Description','Expansions','Description_Removed_StopWords'], axis=1)\n",
    "\n",
    "df_text = df_translated_text.drop(['Expansions','Description_Removed_StopWords'], axis=1)"
   ]
  },
  {
   "cell_type": "code",
   "execution_count": 85,
   "metadata": {},
   "outputs": [
    {
     "name": "stdout",
     "output_type": "stream",
     "text": [
      "Maximum no of words 1292\n",
      "Minimum no of words 0\n"
     ]
    }
   ],
   "source": [
    "#Checking maximum words and mimimum words\n",
    "print(\"Maximum no of words\",df_text['number_of_words'].max())\n",
    "print(\"Minimum no of words\",df_text['number_of_words'].min())"
   ]
  },
  {
   "cell_type": "code",
   "execution_count": 86,
   "metadata": {},
   "outputs": [
    {
     "data": {
      "text/plain": [
       "(8500, 8)"
      ]
     },
     "execution_count": 86,
     "metadata": {},
     "output_type": "execute_result"
    }
   ],
   "source": [
    "df_translated_text.shape"
   ]
  },
  {
   "cell_type": "code",
   "execution_count": 87,
   "metadata": {},
   "outputs": [],
   "source": [
    "df_text=df_text[df_text['number_of_words']>0]\n"
   ]
  },
  {
   "cell_type": "code",
   "execution_count": 88,
   "metadata": {},
   "outputs": [
    {
     "data": {
      "text/plain": [
       "(8444, 6)"
      ]
     },
     "execution_count": 88,
     "metadata": {},
     "output_type": "execute_result"
    }
   ],
   "source": [
    "df_text.shape"
   ]
  },
  {
   "cell_type": "code",
   "execution_count": 90,
   "metadata": {},
   "outputs": [],
   "source": [
    "group_Counts=pd.DataFrame(df['Assignment group'].value_counts())\n",
    "group_Counts=group_Counts.rename_axis('unique_values').reset_index()"
   ]
  },
  {
   "cell_type": "code",
   "execution_count": 92,
   "metadata": {},
   "outputs": [
    {
     "data": {
      "text/html": [
       "<div>\n",
       "<style scoped>\n",
       "    .dataframe tbody tr th:only-of-type {\n",
       "        vertical-align: middle;\n",
       "    }\n",
       "\n",
       "    .dataframe tbody tr th {\n",
       "        vertical-align: top;\n",
       "    }\n",
       "\n",
       "    .dataframe thead th {\n",
       "        text-align: right;\n",
       "    }\n",
       "</style>\n",
       "<table border=\"1\" class=\"dataframe\">\n",
       "  <thead>\n",
       "    <tr style=\"text-align: right;\">\n",
       "      <th></th>\n",
       "      <th>unique_values</th>\n",
       "      <th>Assignment group</th>\n",
       "    </tr>\n",
       "  </thead>\n",
       "  <tbody>\n",
       "    <tr>\n",
       "      <th>0</th>\n",
       "      <td>GRP_0</td>\n",
       "      <td>3976</td>\n",
       "    </tr>\n",
       "    <tr>\n",
       "      <th>1</th>\n",
       "      <td>GRP_8</td>\n",
       "      <td>661</td>\n",
       "    </tr>\n",
       "    <tr>\n",
       "      <th>2</th>\n",
       "      <td>GRP_24</td>\n",
       "      <td>289</td>\n",
       "    </tr>\n",
       "    <tr>\n",
       "      <th>3</th>\n",
       "      <td>GRP_12</td>\n",
       "      <td>257</td>\n",
       "    </tr>\n",
       "    <tr>\n",
       "      <th>4</th>\n",
       "      <td>GRP_9</td>\n",
       "      <td>252</td>\n",
       "    </tr>\n",
       "    <tr>\n",
       "      <th>...</th>\n",
       "      <td>...</td>\n",
       "      <td>...</td>\n",
       "    </tr>\n",
       "    <tr>\n",
       "      <th>69</th>\n",
       "      <td>GRP_64</td>\n",
       "      <td>1</td>\n",
       "    </tr>\n",
       "    <tr>\n",
       "      <th>70</th>\n",
       "      <td>GRP_67</td>\n",
       "      <td>1</td>\n",
       "    </tr>\n",
       "    <tr>\n",
       "      <th>71</th>\n",
       "      <td>GRP_35</td>\n",
       "      <td>1</td>\n",
       "    </tr>\n",
       "    <tr>\n",
       "      <th>72</th>\n",
       "      <td>GRP_70</td>\n",
       "      <td>1</td>\n",
       "    </tr>\n",
       "    <tr>\n",
       "      <th>73</th>\n",
       "      <td>GRP_73</td>\n",
       "      <td>1</td>\n",
       "    </tr>\n",
       "  </tbody>\n",
       "</table>\n",
       "<p>74 rows × 2 columns</p>\n",
       "</div>"
      ],
      "text/plain": [
       "   unique_values  Assignment group\n",
       "0          GRP_0              3976\n",
       "1          GRP_8               661\n",
       "2         GRP_24               289\n",
       "3         GRP_12               257\n",
       "4          GRP_9               252\n",
       "..           ...               ...\n",
       "69        GRP_64                 1\n",
       "70        GRP_67                 1\n",
       "71        GRP_35                 1\n",
       "72        GRP_70                 1\n",
       "73        GRP_73                 1\n",
       "\n",
       "[74 rows x 2 columns]"
      ]
     },
     "execution_count": 92,
     "metadata": {},
     "output_type": "execute_result"
    }
   ],
   "source": [
    "group_Counts"
   ]
  },
  {
   "cell_type": "code",
   "execution_count": 93,
   "metadata": {},
   "outputs": [],
   "source": [
    "list_1=list(group_Counts[group_Counts['Assignment group']<=75].unique_values)"
   ]
  },
  {
   "cell_type": "code",
   "execution_count": 97,
   "metadata": {},
   "outputs": [],
   "source": [
    "group_Counts=pd.DataFrame(df['Assignment group'].value_counts(normalize=True),)\n",
    "group_Counts=group_Counts.rename_axis('unique_values').reset_index()\n",
    "group_Counts=group_Counts.rename(columns = {'unique_values':'Asignment_group','Assignment group':'Perecentage'}, inplace=False)"
   ]
  },
  {
   "cell_type": "code",
   "execution_count": 98,
   "metadata": {},
   "outputs": [],
   "source": [
    "df_text=df_text.replace(list_1,'Others')"
   ]
  },
  {
   "cell_type": "code",
   "execution_count": 99,
   "metadata": {},
   "outputs": [
    {
     "data": {
      "text/plain": [
       "21"
      ]
     },
     "execution_count": 99,
     "metadata": {},
     "output_type": "execute_result"
    }
   ],
   "source": [
    "len(df_text['Assignment group'].value_counts().unique())"
   ]
  },
  {
   "cell_type": "markdown",
   "metadata": {},
   "source": [
    "# regex pattern "
   ]
  },
  {
   "cell_type": "markdown",
   "metadata": {},
   "source": [
    "- Its a Regular Expresession is squential of charcters that specify text search pattern on text. \n",
    "- It uses operation on strings of input validation\n",
    "- Regex helps faster validation\n",
    "- It allows to create patterns which helps for text manipulation\n",
    "- Here we are using regex to identify email/URL/filepath/Domain patters which helps to keep the right data for Model feed"
   ]
  },
  {
   "cell_type": "code",
   "execution_count": 101,
   "metadata": {},
   "outputs": [],
   "source": [
    "email_pattern = r'\\S*@\\S*\\s?'\n",
    "url_pattern = r'http\\S+'\n",
    "IPaddress_pattern = r'[0-9]+(?:\\.[0-9]+){3}'\n",
    "tab_nl_pattern = r'\\s+'\n",
    "alpha_pattern = r'[a-zA-Z0-9]*_[a-zA-Z0-9]*'\n",
    "filepath_pattern = r'/[a-zA-Z0-9/]*'\n",
    "domain_pattern = r'[a-zA-Z0-9]*.[a-zA-Z0-9.]*'\n",
    "wordsnum_pattern = r'\\w*\\d\\w*'"
   ]
  },
  {
   "cell_type": "code",
   "execution_count": 102,
   "metadata": {},
   "outputs": [],
   "source": [
    "df_bk = df_text"
   ]
  },
  {
   "cell_type": "code",
   "execution_count": 103,
   "metadata": {},
   "outputs": [],
   "source": [
    "df_bk = df_bk.replace(to_replace = email_pattern, value='', regex=True)"
   ]
  },
  {
   "cell_type": "code",
   "execution_count": 104,
   "metadata": {},
   "outputs": [],
   "source": [
    "df_bk = df_bk.replace(to_replace = '::', value='', regex=True)"
   ]
  },
  {
   "cell_type": "code",
   "execution_count": 178,
   "metadata": {},
   "outputs": [],
   "source": [
    "df_bk = df_bk.replace(\"'\",\"\")"
   ]
  },
  {
   "cell_type": "code",
   "execution_count": 179,
   "metadata": {},
   "outputs": [],
   "source": [
    "df_bk = df_bk.replace(to_replace = url_pattern, value='', regex=True)"
   ]
  },
  {
   "cell_type": "code",
   "execution_count": 180,
   "metadata": {},
   "outputs": [],
   "source": [
    "df_bk = df_bk.replace(to_replace = tab_nl_pattern, value=' ', regex=True)"
   ]
  },
  {
   "cell_type": "code",
   "execution_count": 181,
   "metadata": {},
   "outputs": [],
   "source": [
    "df_bk = df_bk.replace(to_replace = IPaddress_pattern, value='', regex=True)"
   ]
  },
  {
   "cell_type": "code",
   "execution_count": 182,
   "metadata": {},
   "outputs": [],
   "source": [
    "df_bk['cleaned_description'].replace(to_replace = alpha_pattern, value='', regex=True, inplace=True)\n",
    "#df_bk['Short description'].replace(to_replace = alpha_pattern, value='', regex=True, inplace=True)\n"
   ]
  },
  {
   "cell_type": "code",
   "execution_count": 183,
   "metadata": {},
   "outputs": [],
   "source": [
    "df_bk = df_bk.replace(to_replace = filepath_pattern, value=' ', regex=True)"
   ]
  },
  {
   "cell_type": "code",
   "execution_count": 184,
   "metadata": {},
   "outputs": [],
   "source": [
    "df_bk = df_bk.replace(to_replace = 'received from:', value='', regex=True)"
   ]
  },
  {
   "cell_type": "code",
   "execution_count": 185,
   "metadata": {},
   "outputs": [],
   "source": [
    "df_bk['cleaned_description'].replace(to_replace = wordsnum_pattern, value=' ', regex=True, inplace=True)\n",
    "#df_bk['Short description'].replace(to_replace = wordsnum_pattern, value='alpha', regex=True, inplace=True)"
   ]
  },
  {
   "cell_type": "code",
   "execution_count": 186,
   "metadata": {},
   "outputs": [],
   "source": [
    "#df_t = df_bk[(df_bk['cleaned_description'].str.contains('job_scheduler') == False)]\n",
    "#df_t = df_bk[(df_bk['cleaned_description'].str.contains('event:') == False)]"
   ]
  },
  {
   "cell_type": "code",
   "execution_count": 187,
   "metadata": {},
   "outputs": [
    {
     "name": "stdout",
     "output_type": "stream",
     "text": [
      "<class 'pandas.core.frame.DataFrame'>\n",
      "RangeIndex: 8500 entries, 0 to 8499\n",
      "Data columns (total 6 columns):\n",
      " #   Column               Non-Null Count  Dtype \n",
      "---  ------               --------------  ----- \n",
      " 0   Short description    8492 non-null   object\n",
      " 1   Description          8500 non-null   object\n",
      " 2   Caller               8500 non-null   object\n",
      " 3   Assignment group     8500 non-null   object\n",
      " 4   language             8500 non-null   object\n",
      " 5   English_Description  8500 non-null   object\n",
      "dtypes: object(6)\n",
      "memory usage: 398.6+ KB\n"
     ]
    }
   ],
   "source": [
    "df.info()"
   ]
  },
  {
   "cell_type": "code",
   "execution_count": 188,
   "metadata": {},
   "outputs": [
    {
     "name": "stdout",
     "output_type": "stream",
     "text": [
      "<class 'pandas.core.frame.DataFrame'>\n",
      "Int64Index: 8444 entries, 0 to 8499\n",
      "Data columns (total 6 columns):\n",
      " #   Column               Non-Null Count  Dtype \n",
      "---  ------               --------------  ----- \n",
      " 0   Short description    8436 non-null   object\n",
      " 1   Caller               8444 non-null   object\n",
      " 2   Assignment group     8444 non-null   object\n",
      " 3   English_Description  8444 non-null   object\n",
      " 4   cleaned_description  8444 non-null   object\n",
      " 5   number_of_words      8444 non-null   int64 \n",
      "dtypes: int64(1), object(5)\n",
      "memory usage: 461.8+ KB\n"
     ]
    }
   ],
   "source": [
    "df_bk.info()"
   ]
  },
  {
   "cell_type": "code",
   "execution_count": 189,
   "metadata": {},
   "outputs": [
    {
     "data": {
      "text/html": [
       "<div>\n",
       "<style scoped>\n",
       "    .dataframe tbody tr th:only-of-type {\n",
       "        vertical-align: middle;\n",
       "    }\n",
       "\n",
       "    .dataframe tbody tr th {\n",
       "        vertical-align: top;\n",
       "    }\n",
       "\n",
       "    .dataframe thead th {\n",
       "        text-align: right;\n",
       "    }\n",
       "</style>\n",
       "<table border=\"1\" class=\"dataframe\">\n",
       "  <thead>\n",
       "    <tr style=\"text-align: right;\">\n",
       "      <th></th>\n",
       "      <th></th>\n",
       "      <th>Caller</th>\n",
       "    </tr>\n",
       "    <tr>\n",
       "      <th>Assignment group</th>\n",
       "      <th>Caller</th>\n",
       "      <th></th>\n",
       "    </tr>\n",
       "  </thead>\n",
       "  <tbody>\n",
       "    <tr>\n",
       "      <th rowspan=\"5\" valign=\"top\">GRP_0</th>\n",
       "      <th>fumkcsji sarmtlhy</th>\n",
       "      <td>132</td>\n",
       "    </tr>\n",
       "    <tr>\n",
       "      <th>rbozivdq gmlhrtvp</th>\n",
       "      <td>86</td>\n",
       "    </tr>\n",
       "    <tr>\n",
       "      <th>olckhmvx pcqobjnd</th>\n",
       "      <td>54</td>\n",
       "    </tr>\n",
       "    <tr>\n",
       "      <th>efbwiadp dicafxhv</th>\n",
       "      <td>45</td>\n",
       "    </tr>\n",
       "    <tr>\n",
       "      <th>mfeyouli ndobtzpw</th>\n",
       "      <td>13</td>\n",
       "    </tr>\n",
       "    <tr>\n",
       "      <th rowspan=\"5\" valign=\"top\">GRP_1</th>\n",
       "      <th>bpctwhsn kzqsbmtp</th>\n",
       "      <td>6</td>\n",
       "    </tr>\n",
       "    <tr>\n",
       "      <th>jloygrwh acvztedi</th>\n",
       "      <td>4</td>\n",
       "    </tr>\n",
       "    <tr>\n",
       "      <th>jyoqwxhz clhxsoqy</th>\n",
       "      <td>3</td>\n",
       "    </tr>\n",
       "    <tr>\n",
       "      <th>spxqmiry zpwgoqju</th>\n",
       "      <td>3</td>\n",
       "    </tr>\n",
       "    <tr>\n",
       "      <th>kbnfxpsy gehxzayq</th>\n",
       "      <td>2</td>\n",
       "    </tr>\n",
       "    <tr>\n",
       "      <th rowspan=\"5\" valign=\"top\">GRP_10</th>\n",
       "      <th>bpctwhsn kzqsbmtp</th>\n",
       "      <td>60</td>\n",
       "    </tr>\n",
       "    <tr>\n",
       "      <th>ihfkwzjd erbxoyqk</th>\n",
       "      <td>6</td>\n",
       "    </tr>\n",
       "    <tr>\n",
       "      <th>dizquolf hlykecxa</th>\n",
       "      <td>5</td>\n",
       "    </tr>\n",
       "    <tr>\n",
       "      <th>gnasmtvx cwxtsvkm</th>\n",
       "      <td>3</td>\n",
       "    </tr>\n",
       "    <tr>\n",
       "      <th>hlrmufzx qcdzierm</th>\n",
       "      <td>3</td>\n",
       "    </tr>\n",
       "  </tbody>\n",
       "</table>\n",
       "</div>"
      ],
      "text/plain": [
       "                                    Caller\n",
       "Assignment group Caller                   \n",
       "GRP_0            fumkcsji sarmtlhy     132\n",
       "                 rbozivdq gmlhrtvp      86\n",
       "                 olckhmvx pcqobjnd      54\n",
       "                 efbwiadp dicafxhv      45\n",
       "                 mfeyouli ndobtzpw      13\n",
       "GRP_1            bpctwhsn kzqsbmtp       6\n",
       "                 jloygrwh acvztedi       4\n",
       "                 jyoqwxhz clhxsoqy       3\n",
       "                 spxqmiry zpwgoqju       3\n",
       "                 kbnfxpsy gehxzayq       2\n",
       "GRP_10           bpctwhsn kzqsbmtp      60\n",
       "                 ihfkwzjd erbxoyqk       6\n",
       "                 dizquolf hlykecxa       5\n",
       "                 gnasmtvx cwxtsvkm       3\n",
       "                 hlrmufzx qcdzierm       3"
      ]
     },
     "execution_count": 189,
     "metadata": {},
     "output_type": "execute_result"
    }
   ],
   "source": [
    "top_n = 5\n",
    "s = df['Caller'].groupby(df['Assignment group']).value_counts()\n",
    "caller_grp = pd.DataFrame(s.groupby(level=0).nlargest(top_n).reset_index(level=0, drop=True))\n",
    "caller_grp.head(15)"
   ]
  },
  {
   "cell_type": "code",
   "execution_count": 190,
   "metadata": {},
   "outputs": [],
   "source": [
    "df_bk.to_csv('translated_ticketfins.csv', index=False, encoding='utf_8_sig')"
   ]
  },
  {
   "cell_type": "markdown",
   "metadata": {},
   "source": [
    "cleaned description senteces to words"
   ]
  },
  {
   "cell_type": "code",
   "execution_count": 191,
   "metadata": {},
   "outputs": [],
   "source": [
    "combined_text=df_bk.cleaned_description.values.tolist()"
   ]
  },
  {
   "cell_type": "code",
   "execution_count": 192,
   "metadata": {},
   "outputs": [
    {
     "data": {
      "text/plain": [
       "' meetingsskype meetings etc appearing outlook calendar somebody advise correct '"
      ]
     },
     "execution_count": 192,
     "metadata": {},
     "output_type": "execute_result"
    }
   ],
   "source": [
    "combined_text[1]"
   ]
  },
  {
   "cell_type": "code",
   "execution_count": 193,
   "metadata": {},
   "outputs": [],
   "source": [
    "#pip install gensim"
   ]
  },
  {
   "cell_type": "code",
   "execution_count": 194,
   "metadata": {},
   "outputs": [],
   "source": [
    "import gensim\n",
    "import gensim.corpora as corpora\n",
    "#Remove stemming(snowball stemming) add lemmatistaion using simple_process from gensim \n",
    "from gensim.utils import simple_preprocess\n",
    "from gensim.models.ldamodel import LdaModel\n",
    "from gensim.models import CoherenceModel"
   ]
  },
  {
   "cell_type": "code",
   "execution_count": 195,
   "metadata": {},
   "outputs": [],
   "source": [
    "def sent_to_words(sentences):\n",
    "    for sentence in sentences:\n",
    "        yield(gensim.utils.simple_preprocess(str(sentence), deacc=True))  # deacc=True removes punctuations\n",
    "\n",
    "data_words = list(sent_to_words(combined_text))"
   ]
  },
  {
   "cell_type": "code",
   "execution_count": 196,
   "metadata": {},
   "outputs": [],
   "source": [
    "dat = pd.DataFrame({'col':data_words})"
   ]
  },
  {
   "cell_type": "code",
   "execution_count": 197,
   "metadata": {},
   "outputs": [
    {
     "data": {
      "text/html": [
       "<div>\n",
       "<style scoped>\n",
       "    .dataframe tbody tr th:only-of-type {\n",
       "        vertical-align: middle;\n",
       "    }\n",
       "\n",
       "    .dataframe tbody tr th {\n",
       "        vertical-align: top;\n",
       "    }\n",
       "\n",
       "    .dataframe thead th {\n",
       "        text-align: right;\n",
       "    }\n",
       "</style>\n",
       "<table border=\"1\" class=\"dataframe\">\n",
       "  <thead>\n",
       "    <tr style=\"text-align: right;\">\n",
       "      <th></th>\n",
       "      <th>col</th>\n",
       "    </tr>\n",
       "  </thead>\n",
       "  <tbody>\n",
       "    <tr>\n",
       "      <th>4219</th>\n",
       "      <td>[received, failed]</td>\n",
       "    </tr>\n",
       "    <tr>\n",
       "      <th>1667</th>\n",
       "      <td>[probleme, mit, ws, cad, wsboedtj, yvlswgxb]</td>\n",
       "    </tr>\n",
       "    <tr>\n",
       "      <th>8071</th>\n",
       "      <td>[received, abended, job]</td>\n",
       "    </tr>\n",
       "    <tr>\n",
       "      <th>8263</th>\n",
       "      <td>[received, abended, job]</td>\n",
       "    </tr>\n",
       "    <tr>\n",
       "      <th>2022</th>\n",
       "      <td>[unable, access, easyterritory, map, view, bui...</td>\n",
       "    </tr>\n",
       "  </tbody>\n",
       "</table>\n",
       "</div>"
      ],
      "text/plain": [
       "                                                    col\n",
       "4219                                 [received, failed]\n",
       "1667       [probleme, mit, ws, cad, wsboedtj, yvlswgxb]\n",
       "8071                           [received, abended, job]\n",
       "8263                           [received, abended, job]\n",
       "2022  [unable, access, easyterritory, map, view, bui..."
      ]
     },
     "execution_count": 197,
     "metadata": {},
     "output_type": "execute_result"
    }
   ],
   "source": [
    "dat.sample(5)"
   ]
  },
  {
   "cell_type": "markdown",
   "metadata": {},
   "source": [
    "Bigram Trigam data working"
   ]
  },
  {
   "cell_type": "code",
   "execution_count": 198,
   "metadata": {},
   "outputs": [],
   "source": [
    "bigram = gensim.models.Phrases(data_words, min_count=5, threshold=100) # higher threshold fewer phrases.\n",
    "trigram = gensim.models.Phrases(bigram[data_words], threshold=100)  \n",
    "\n",
    "# Faster way to get a sentence clubbed as a trigram/bigram\n",
    "bigram_mod = gensim.models.phrases.Phraser(bigram)\n",
    "trigram_mod = gensim.models.phrases.Phraser(trigram)"
   ]
  },
  {
   "cell_type": "code",
   "execution_count": 199,
   "metadata": {},
   "outputs": [
    {
     "name": "stdout",
     "output_type": "stream",
     "text": [
      "['meetingsskype', 'meetings', 'etc', 'appearing', 'outlook', 'calendar', 'somebody', 'advise', 'correct']\n"
     ]
    }
   ],
   "source": [
    "print(bigram_mod[data_words[1]])"
   ]
  },
  {
   "cell_type": "code",
   "execution_count": 200,
   "metadata": {},
   "outputs": [
    {
     "name": "stdout",
     "output_type": "stream",
     "text": [
      "['meetingsskype', 'meetings', 'etc', 'appearing', 'outlook', 'calendar', 'somebody', 'advise', 'correct']\n"
     ]
    }
   ],
   "source": [
    "print(trigram_mod[bigram_mod[data_words[1]]])"
   ]
  },
  {
   "cell_type": "code",
   "execution_count": 201,
   "metadata": {},
   "outputs": [],
   "source": [
    "def make_bigrams(texts):\n",
    "    return [bigram_mod[doc] for doc in texts]\n",
    "\n",
    "def make_trigrams(texts):\n",
    "    return [trigram_mod[bigram_mod[doc]] for doc in texts]"
   ]
  },
  {
   "cell_type": "code",
   "execution_count": 202,
   "metadata": {},
   "outputs": [],
   "source": [
    "# Form Bigrams\n",
    "data_words_bigrams = make_bigrams(data_words)"
   ]
  },
  {
   "cell_type": "code",
   "execution_count": 203,
   "metadata": {},
   "outputs": [
    {
     "name": "stdout",
     "output_type": "stream",
     "text": [
      "['meetingsskype', 'meetings', 'etc', 'appearing', 'outlook', 'calendar', 'somebody', 'advise', 'correct']\n"
     ]
    }
   ],
   "source": [
    "print(data_words_bigrams[1])"
   ]
  },
  {
   "cell_type": "code",
   "execution_count": 204,
   "metadata": {},
   "outputs": [],
   "source": [
    "from wordcloud import WordCloud\n",
    "import matplotlib.pyplot as plt"
   ]
  },
  {
   "cell_type": "code",
   "execution_count": 205,
   "metadata": {},
   "outputs": [],
   "source": [
    "#wordclouds=' '.join(map(str, data_words_bigrams)) "
   ]
  },
  {
   "cell_type": "markdown",
   "metadata": {},
   "source": [
    "#Word cloud"
   ]
  },
  {
   "cell_type": "code",
   "execution_count": 206,
   "metadata": {},
   "outputs": [
    {
     "data": {
      "image/png": "[encoded data removed]",
      "text/plain": [
       "<Figure size 720x720 with 1 Axes>"
      ]
     },
     "metadata": {},
     "output_type": "display_data"
    }
   ],
   "source": [
    "#check for the word count 100)\n",
    "wordcloud_2 = WordCloud(width=480, height=480, max_words=100).generate(wordclouds)\n",
    "plt.figure(figsize=(10,10))\n",
    "plt.imshow(wordcloud_2, interpolation=\"bilinear\")\n",
    "plt.axis(\"off\")\n",
    "plt.margins(x=0, y=0)\n",
    "plt.show()"
   ]
  },
  {
   "cell_type": "code",
   "execution_count": 207,
   "metadata": {},
   "outputs": [
    {
     "data": {
      "text/html": [
       "<div>\n",
       "<style scoped>\n",
       "    .dataframe tbody tr th:only-of-type {\n",
       "        vertical-align: middle;\n",
       "    }\n",
       "\n",
       "    .dataframe tbody tr th {\n",
       "        vertical-align: top;\n",
       "    }\n",
       "\n",
       "    .dataframe thead th {\n",
       "        text-align: right;\n",
       "    }\n",
       "</style>\n",
       "<table border=\"1\" class=\"dataframe\">\n",
       "  <thead>\n",
       "    <tr style=\"text-align: right;\">\n",
       "      <th></th>\n",
       "      <th>Short description</th>\n",
       "      <th>Caller</th>\n",
       "      <th>Assignment group</th>\n",
       "      <th>English_Description</th>\n",
       "      <th>cleaned_description</th>\n",
       "      <th>number_of_words</th>\n",
       "      <th>words</th>\n",
       "    </tr>\n",
       "  </thead>\n",
       "  <tbody>\n",
       "    <tr>\n",
       "      <th>0</th>\n",
       "      <td>login issue</td>\n",
       "      <td>spxjnwir pjlcoqds</td>\n",
       "      <td>GRP_0</td>\n",
       "      <td>verified user detailsemployee manager name_x00...</td>\n",
       "      <td>verified user detailsemployee manager user ad ...</td>\n",
       "      <td>16</td>\n",
       "      <td>[verified, user, detailsemployee_manager, user...</td>\n",
       "    </tr>\n",
       "    <tr>\n",
       "      <th>1</th>\n",
       "      <td>outlook</td>\n",
       "      <td>hmjdrvpb komuaywn</td>\n",
       "      <td>GRP_0</td>\n",
       "      <td>_x000D__x000D_received from hmjdrvpbkomuaywngm...</td>\n",
       "      <td>meetingsskype meetings etc appearing outlook ...</td>\n",
       "      <td>13</td>\n",
       "      <td>[meetingsskype, meetings, etc, appearing, outl...</td>\n",
       "    </tr>\n",
       "    <tr>\n",
       "      <th>2</th>\n",
       "      <td>cant log in to vpn</td>\n",
       "      <td>eylqgodm ybqkwiam</td>\n",
       "      <td>GRP_0</td>\n",
       "      <td>_x000D__x000D_received from eylqgodmybqkwiamgm...</td>\n",
       "      <td>log</td>\n",
       "      <td>4</td>\n",
       "      <td>[log]</td>\n",
       "    </tr>\n",
       "    <tr>\n",
       "      <th>3</th>\n",
       "      <td>unable to access hr_tool page</td>\n",
       "      <td>xbkucsvz gcpydteq</td>\n",
       "      <td>GRP_0</td>\n",
       "      <td>unable to access hr_tool page</td>\n",
       "      <td>unable access page</td>\n",
       "      <td>4</td>\n",
       "      <td>[unable, access, page]</td>\n",
       "    </tr>\n",
       "    <tr>\n",
       "      <th>4</th>\n",
       "      <td>skype error</td>\n",
       "      <td>owlgqjme qhcozdfx</td>\n",
       "      <td>GRP_0</td>\n",
       "      <td>skype error</td>\n",
       "      <td>skype error</td>\n",
       "      <td>2</td>\n",
       "      <td>[skype, error]</td>\n",
       "    </tr>\n",
       "    <tr>\n",
       "      <th>...</th>\n",
       "      <td>...</td>\n",
       "      <td>...</td>\n",
       "      <td>...</td>\n",
       "      <td>...</td>\n",
       "      <td>...</td>\n",
       "      <td>...</td>\n",
       "      <td>...</td>\n",
       "    </tr>\n",
       "    <tr>\n",
       "      <th>8495</th>\n",
       "      <td>emails not coming in from zz mail</td>\n",
       "      <td>avglmrts vhqmtiua</td>\n",
       "      <td>GRP_29</td>\n",
       "      <td>_x000D__x000D_received from avglmrtsvhqmtiuagm...</td>\n",
       "      <td>receiving emails sent zz</td>\n",
       "      <td>9</td>\n",
       "      <td>[receiving, emails, sent, zz]</td>\n",
       "    </tr>\n",
       "    <tr>\n",
       "      <th>8496</th>\n",
       "      <td>telephony_software issue</td>\n",
       "      <td>rbozivdq gmlhrtvp</td>\n",
       "      <td>GRP_0</td>\n",
       "      <td>telephony_software issue</td>\n",
       "      <td>issue</td>\n",
       "      <td>2</td>\n",
       "      <td>[issue]</td>\n",
       "    </tr>\n",
       "    <tr>\n",
       "      <th>8497</th>\n",
       "      <td>vip2: windows password reset for tifpdchb pedx...</td>\n",
       "      <td>oybwdsgx oxyhwrfz</td>\n",
       "      <td>GRP_0</td>\n",
       "      <td>vip2 windows password reset for tifpdchb pedxruyf</td>\n",
       "      <td>windows password reset tifpdchb pedxruyf</td>\n",
       "      <td>6</td>\n",
       "      <td>[windows, password, reset, tifpdchb, pedxruyf]</td>\n",
       "    </tr>\n",
       "    <tr>\n",
       "      <th>8498</th>\n",
       "      <td>machine nÃ£o estÃ¡ funcionando</td>\n",
       "      <td>ufawcgob aowhxjky</td>\n",
       "      <td>Others</td>\n",
       "      <td>i am unable to access the machine utilities to...</td>\n",
       "      <td>unable access macne utilities finish drawers a...</td>\n",
       "      <td>9</td>\n",
       "      <td>[unable, access, macne, utilities, finish, dra...</td>\n",
       "    </tr>\n",
       "    <tr>\n",
       "      <th>8499</th>\n",
       "      <td>an mehreren pc`s lassen sich verschiedene prgr...</td>\n",
       "      <td>kqvbrspl jyzoklfx</td>\n",
       "      <td>Others</td>\n",
       "      <td>an mehreren pcs lassen sich verschiedene prgra...</td>\n",
       "      <td>mehreren pcs lassen sich verscedene prgramdnty...</td>\n",
       "      <td>10</td>\n",
       "      <td>[mehreren, pcs, lassen_sich, verscedene, prgra...</td>\n",
       "    </tr>\n",
       "  </tbody>\n",
       "</table>\n",
       "<p>8444 rows × 7 columns</p>\n",
       "</div>"
      ],
      "text/plain": [
       "                                      Short description             Caller  \\\n",
       "0                                           login issue  spxjnwir pjlcoqds   \n",
       "1                                               outlook  hmjdrvpb komuaywn   \n",
       "2                                    cant log in to vpn  eylqgodm ybqkwiam   \n",
       "3                         unable to access hr_tool page  xbkucsvz gcpydteq   \n",
       "4                                          skype error   owlgqjme qhcozdfx   \n",
       "...                                                 ...                ...   \n",
       "8495                  emails not coming in from zz mail  avglmrts vhqmtiua   \n",
       "8496                           telephony_software issue  rbozivdq gmlhrtvp   \n",
       "8497  vip2: windows password reset for tifpdchb pedx...  oybwdsgx oxyhwrfz   \n",
       "8498                     machine nÃ£o estÃ¡ funcionando  ufawcgob aowhxjky   \n",
       "8499  an mehreren pc`s lassen sich verschiedene prgr...  kqvbrspl jyzoklfx   \n",
       "\n",
       "     Assignment group                                English_Description  \\\n",
       "0               GRP_0  verified user detailsemployee manager name_x00...   \n",
       "1               GRP_0  _x000D__x000D_received from hmjdrvpbkomuaywngm...   \n",
       "2               GRP_0  _x000D__x000D_received from eylqgodmybqkwiamgm...   \n",
       "3               GRP_0                      unable to access hr_tool page   \n",
       "4               GRP_0                                       skype error    \n",
       "...               ...                                                ...   \n",
       "8495           GRP_29  _x000D__x000D_received from avglmrtsvhqmtiuagm...   \n",
       "8496            GRP_0                           telephony_software issue   \n",
       "8497            GRP_0  vip2 windows password reset for tifpdchb pedxruyf   \n",
       "8498           Others  i am unable to access the machine utilities to...   \n",
       "8499           Others  an mehreren pcs lassen sich verschiedene prgra...   \n",
       "\n",
       "                                    cleaned_description  number_of_words  \\\n",
       "0     verified user detailsemployee manager user ad ...               16   \n",
       "1      meetingsskype meetings etc appearing outlook ...               13   \n",
       "2                                                  log                 4   \n",
       "3                                    unable access page                4   \n",
       "4                                           skype error                2   \n",
       "...                                                 ...              ...   \n",
       "8495                          receiving emails sent zz                 9   \n",
       "8496                                              issue                2   \n",
       "8497           windows password reset tifpdchb pedxruyf                6   \n",
       "8498  unable access macne utilities finish drawers a...                9   \n",
       "8499  mehreren pcs lassen sich verscedene prgramdnty...               10   \n",
       "\n",
       "                                                  words  \n",
       "0     [verified, user, detailsemployee_manager, user...  \n",
       "1     [meetingsskype, meetings, etc, appearing, outl...  \n",
       "2                                                 [log]  \n",
       "3                                [unable, access, page]  \n",
       "4                                        [skype, error]  \n",
       "...                                                 ...  \n",
       "8495                      [receiving, emails, sent, zz]  \n",
       "8496                                            [issue]  \n",
       "8497     [windows, password, reset, tifpdchb, pedxruyf]  \n",
       "8498  [unable, access, macne, utilities, finish, dra...  \n",
       "8499  [mehreren, pcs, lassen_sich, verscedene, prgra...  \n",
       "\n",
       "[8444 rows x 7 columns]"
      ]
     },
     "execution_count": 207,
     "metadata": {},
     "output_type": "execute_result"
    }
   ],
   "source": [
    "new_df = df_bk.copy()\n",
    "new_df['words'] = data_words_bigrams\n",
    "new_df"
   ]
  },
  {
   "cell_type": "code",
   "execution_count": 208,
   "metadata": {},
   "outputs": [],
   "source": [
    "new_df['word_count']=new_df['cleaned_description'].apply(lambda x:len(str(x).split()))\n",
    "new_df['char_counts']=new_df['cleaned_description'].apply(lambda x: char_counts(str(x)))\n",
    "new_df['Digits_count']=new_df['cleaned_description'].apply(lambda x:len([t for t in x.split() if t.isdigit()]))\n",
    "new_df['Avg_word_Count']=new_df['word_count']/new_df['char_counts']"
   ]
  },
  {
   "cell_type": "code",
   "execution_count": 209,
   "metadata": {},
   "outputs": [
    {
     "data": {
      "text/html": [
       "<div>\n",
       "<style scoped>\n",
       "    .dataframe tbody tr th:only-of-type {\n",
       "        vertical-align: middle;\n",
       "    }\n",
       "\n",
       "    .dataframe tbody tr th {\n",
       "        vertical-align: top;\n",
       "    }\n",
       "\n",
       "    .dataframe thead th {\n",
       "        text-align: right;\n",
       "    }\n",
       "</style>\n",
       "<table border=\"1\" class=\"dataframe\">\n",
       "  <thead>\n",
       "    <tr style=\"text-align: right;\">\n",
       "      <th></th>\n",
       "      <th>Short description</th>\n",
       "      <th>Caller</th>\n",
       "      <th>Assignment group</th>\n",
       "      <th>English_Description</th>\n",
       "      <th>cleaned_description</th>\n",
       "      <th>number_of_words</th>\n",
       "      <th>words</th>\n",
       "      <th>word_count</th>\n",
       "      <th>char_counts</th>\n",
       "      <th>Digits_count</th>\n",
       "      <th>Avg_word_Count</th>\n",
       "    </tr>\n",
       "  </thead>\n",
       "  <tbody>\n",
       "    <tr>\n",
       "      <th>140</th>\n",
       "      <td>prtgghj4k45 password reset</td>\n",
       "      <td>qcehailo wqynckxg</td>\n",
       "      <td>GRP_0</td>\n",
       "      <td>please reset hr_tool gv4536 password reset</td>\n",
       "      <td>reset password reset</td>\n",
       "      <td>5</td>\n",
       "      <td>[reset, password, reset]</td>\n",
       "      <td>3</td>\n",
       "      <td>18</td>\n",
       "      <td>0</td>\n",
       "      <td>0.166667</td>\n",
       "    </tr>\n",
       "    <tr>\n",
       "      <th>7184</th>\n",
       "      <td>outlook freezing while opeyctrhbkm plvnuxmrils</td>\n",
       "      <td>hfvuzmbs vjtsakfb</td>\n",
       "      <td>GRP_0</td>\n",
       "      <td>outlook freezing while opeyctrhbkm plvnuxmrils</td>\n",
       "      <td>outlook freezing opeyctrhbkm plvnuxmrils</td>\n",
       "      <td>4</td>\n",
       "      <td>[outlook, freezing, opeyctrhbkm, plvnuxmrils]</td>\n",
       "      <td>4</td>\n",
       "      <td>37</td>\n",
       "      <td>0</td>\n",
       "      <td>0.108108</td>\n",
       "    </tr>\n",
       "    <tr>\n",
       "      <th>2576</th>\n",
       "      <td>job Job_2549 failed in job_scheduler at: 10 20...</td>\n",
       "      <td>bpctwhsn kzqsbmtp</td>\n",
       "      <td>GRP_10</td>\n",
       "      <td>received from monitoring_toolcompanycom_x000D_...</td>\n",
       "      <td>received failed</td>\n",
       "      <td>7</td>\n",
       "      <td>[received, failed]</td>\n",
       "      <td>2</td>\n",
       "      <td>14</td>\n",
       "      <td>0</td>\n",
       "      <td>0.142857</td>\n",
       "    </tr>\n",
       "    <tr>\n",
       "      <th>2225</th>\n",
       "      <td>HostName_221 : volume: _37data17 is over 98% s...</td>\n",
       "      <td>spxqmiry zpwgoqju</td>\n",
       "      <td>Others</td>\n",
       "      <td>HostName_221 _x000D__x000D_volume devSID_37dat...</td>\n",
       "      <td>space consumed space available space consumed...</td>\n",
       "      <td>18</td>\n",
       "      <td>[space_consumed, space_available, space_consum...</td>\n",
       "      <td>9</td>\n",
       "      <td>55</td>\n",
       "      <td>0</td>\n",
       "      <td>0.163636</td>\n",
       "    </tr>\n",
       "    <tr>\n",
       "      <th>5068</th>\n",
       "      <td>freigabe auf ordner fÃ¼r ytcxjzue guplftok (kr...</td>\n",
       "      <td>lzpuyrvw zkxbacvn</td>\n",
       "      <td>Others</td>\n",
       "      <td>unter departments HostName_579 m unter infofre...</td>\n",
       "      <td>unter departments m unter infofreigabe ordner ...</td>\n",
       "      <td>11</td>\n",
       "      <td>[unter, departments, unter, infofreigabe, ordn...</td>\n",
       "      <td>10</td>\n",
       "      <td>70</td>\n",
       "      <td>0</td>\n",
       "      <td>0.142857</td>\n",
       "    </tr>\n",
       "    <tr>\n",
       "      <th>...</th>\n",
       "      <td>...</td>\n",
       "      <td>...</td>\n",
       "      <td>...</td>\n",
       "      <td>...</td>\n",
       "      <td>...</td>\n",
       "      <td>...</td>\n",
       "      <td>...</td>\n",
       "      <td>...</td>\n",
       "      <td>...</td>\n",
       "      <td>...</td>\n",
       "      <td>...</td>\n",
       "    </tr>\n",
       "    <tr>\n",
       "      <th>1391</th>\n",
       "      <td>generirtc information</td>\n",
       "      <td>rbozivdq gmlhrtvp</td>\n",
       "      <td>GRP_0</td>\n",
       "      <td>generirtc information</td>\n",
       "      <td>generirtc information</td>\n",
       "      <td>2</td>\n",
       "      <td>[generirtc, information]</td>\n",
       "      <td>2</td>\n",
       "      <td>20</td>\n",
       "      <td>0</td>\n",
       "      <td>0.100000</td>\n",
       "    </tr>\n",
       "    <tr>\n",
       "      <th>3335</th>\n",
       "      <td>job Job_1343 failed in job_scheduler at: 09 07...</td>\n",
       "      <td>bpctwhsn kzqsbmtp</td>\n",
       "      <td>GRP_9</td>\n",
       "      <td>received from monitoring_toolcompanycom_x000D_...</td>\n",
       "      <td>received failed</td>\n",
       "      <td>7</td>\n",
       "      <td>[received, failed]</td>\n",
       "      <td>2</td>\n",
       "      <td>14</td>\n",
       "      <td>0</td>\n",
       "      <td>0.142857</td>\n",
       "    </tr>\n",
       "    <tr>\n",
       "      <th>2759</th>\n",
       "      <td>india plant - india (): node company-ap-ind-kk...</td>\n",
       "      <td>jyoqwxhz clhxsoqy</td>\n",
       "      <td>GRP_8</td>\n",
       "      <td>india plant india node companyapindkkc2960sacc...</td>\n",
       "      <td>india plant india node downnode located india ...</td>\n",
       "      <td>16</td>\n",
       "      <td>[india, plant, india, node, downnode, located,...</td>\n",
       "      <td>10</td>\n",
       "      <td>67</td>\n",
       "      <td>0</td>\n",
       "      <td>0.149254</td>\n",
       "    </tr>\n",
       "    <tr>\n",
       "      <th>274</th>\n",
       "      <td>windows account locked</td>\n",
       "      <td>kiqrvwat gwkpxzyt</td>\n",
       "      <td>GRP_0</td>\n",
       "      <td>windows account locked</td>\n",
       "      <td>windows account locked</td>\n",
       "      <td>3</td>\n",
       "      <td>[windows, account, locked]</td>\n",
       "      <td>3</td>\n",
       "      <td>20</td>\n",
       "      <td>0</td>\n",
       "      <td>0.150000</td>\n",
       "    </tr>\n",
       "    <tr>\n",
       "      <th>539</th>\n",
       "      <td>2 in 1 has cracked screen, but turned off touc...</td>\n",
       "      <td>jkelxorm uwqjlzfm</td>\n",
       "      <td>GRP_3</td>\n",
       "      <td>2 in 1 has cracked screen but turned off touch...</td>\n",
       "      <td>cracked screen turned touch screen longer jum...</td>\n",
       "      <td>12</td>\n",
       "      <td>[cracked, screen, turned, touch, screen, longe...</td>\n",
       "      <td>9</td>\n",
       "      <td>60</td>\n",
       "      <td>0</td>\n",
       "      <td>0.150000</td>\n",
       "    </tr>\n",
       "  </tbody>\n",
       "</table>\n",
       "<p>100 rows × 11 columns</p>\n",
       "</div>"
      ],
      "text/plain": [
       "                                      Short description             Caller  \\\n",
       "140                          prtgghj4k45 password reset  qcehailo wqynckxg   \n",
       "7184     outlook freezing while opeyctrhbkm plvnuxmrils  hfvuzmbs vjtsakfb   \n",
       "2576  job Job_2549 failed in job_scheduler at: 10 20...  bpctwhsn kzqsbmtp   \n",
       "2225  HostName_221 : volume: _37data17 is over 98% s...  spxqmiry zpwgoqju   \n",
       "5068  freigabe auf ordner fÃ¼r ytcxjzue guplftok (kr...  lzpuyrvw zkxbacvn   \n",
       "...                                                 ...                ...   \n",
       "1391                              generirtc information  rbozivdq gmlhrtvp   \n",
       "3335  job Job_1343 failed in job_scheduler at: 09 07...  bpctwhsn kzqsbmtp   \n",
       "2759  india plant - india (): node company-ap-ind-kk...  jyoqwxhz clhxsoqy   \n",
       "274                             windows account locked   kiqrvwat gwkpxzyt   \n",
       "539   2 in 1 has cracked screen, but turned off touc...  jkelxorm uwqjlzfm   \n",
       "\n",
       "     Assignment group                                English_Description  \\\n",
       "140             GRP_0        please reset hr_tool gv4536 password reset    \n",
       "7184            GRP_0     outlook freezing while opeyctrhbkm plvnuxmrils   \n",
       "2576           GRP_10  received from monitoring_toolcompanycom_x000D_...   \n",
       "2225           Others  HostName_221 _x000D__x000D_volume devSID_37dat...   \n",
       "5068           Others  unter departments HostName_579 m unter infofre...   \n",
       "...               ...                                                ...   \n",
       "1391            GRP_0                              generirtc information   \n",
       "3335            GRP_9  received from monitoring_toolcompanycom_x000D_...   \n",
       "2759            GRP_8  india plant india node companyapindkkc2960sacc...   \n",
       "274             GRP_0                            windows account locked    \n",
       "539             GRP_3  2 in 1 has cracked screen but turned off touch...   \n",
       "\n",
       "                                    cleaned_description  number_of_words  \\\n",
       "140                                reset password reset                5   \n",
       "7184           outlook freezing opeyctrhbkm plvnuxmrils                4   \n",
       "2576                                   received failed                 7   \n",
       "2225   space consumed space available space consumed...               18   \n",
       "5068  unter departments m unter infofreigabe ordner ...               11   \n",
       "...                                                 ...              ...   \n",
       "1391                              generirtc information                2   \n",
       "3335                                   received failed                 7   \n",
       "2759  india plant india node downnode located india ...               16   \n",
       "274                              windows account locked                3   \n",
       "539    cracked screen turned touch screen longer jum...               12   \n",
       "\n",
       "                                                  words  word_count  \\\n",
       "140                            [reset, password, reset]           3   \n",
       "7184      [outlook, freezing, opeyctrhbkm, plvnuxmrils]           4   \n",
       "2576                                 [received, failed]           2   \n",
       "2225  [space_consumed, space_available, space_consum...           9   \n",
       "5068  [unter, departments, unter, infofreigabe, ordn...          10   \n",
       "...                                                 ...         ...   \n",
       "1391                           [generirtc, information]           2   \n",
       "3335                                 [received, failed]           2   \n",
       "2759  [india, plant, india, node, downnode, located,...          10   \n",
       "274                          [windows, account, locked]           3   \n",
       "539   [cracked, screen, turned, touch, screen, longe...           9   \n",
       "\n",
       "      char_counts  Digits_count  Avg_word_Count  \n",
       "140            18             0        0.166667  \n",
       "7184           37             0        0.108108  \n",
       "2576           14             0        0.142857  \n",
       "2225           55             0        0.163636  \n",
       "5068           70             0        0.142857  \n",
       "...           ...           ...             ...  \n",
       "1391           20             0        0.100000  \n",
       "3335           14             0        0.142857  \n",
       "2759           67             0        0.149254  \n",
       "274            20             0        0.150000  \n",
       "539            60             0        0.150000  \n",
       "\n",
       "[100 rows x 11 columns]"
      ]
     },
     "execution_count": 209,
     "metadata": {},
     "output_type": "execute_result"
    }
   ],
   "source": [
    "new_df.sample(100)"
   ]
  },
  {
   "cell_type": "markdown",
   "metadata": {},
   "source": [
    "## Interim Report Summary:\n",
    "\n",
    "- The required Techniques were applied in the given Input file for NLP - Ticketing System for Pre-Processing, \n",
    "- Data Visualization and EDA. Now the given input data file is Manually assessed => Applying Pre-Processing and EDA Techniques\n",
    "- to fine tune data which is suitable to feed for Data model processing. \n",
    "- We would like to submit this code and documents for review and feedback to take this forward.\n"
   ]
  },
  {
   "cell_type": "markdown",
   "metadata": {},
   "source": [
    "# Ends Here"
   ]
  },
  {
   "cell_type": "code",
   "execution_count": 79,
   "metadata": {},
   "outputs": [],
   "source": [
    "# Creating a function for wordcloud\n",
    "def wordcloud_grp(f, x):\n",
    "    wordclouds_0=' '.join(map(str, f))\n",
    "\n",
    "    wc = WordCloud(width=480, height=480, max_font_size=20, min_font_size=10, max_words=50).generate(wordclouds_0)\n",
    "    plt.figure(figsize=(20,10))\n",
    "    plt.imshow(wc, interpolation=\"bilinear\")\n",
    "    plt.axis(\"off\")\n",
    "    plt.title(\"Most common 50 words of {}\".format(x))\n",
    "    plt.margins(x=0, y=0)\n",
    "    plt.show()"
   ]
  },
  {
   "cell_type": "code",
   "execution_count": 77,
   "metadata": {},
   "outputs": [],
   "source": [
    "#pip install plotly cufflinks\n",
    "import matplotlib.pyplot as plt\n",
    "import seaborn as sns\n",
    "import cufflinks as cf\n",
    "import plotly as py\n",
    "import plotly.graph_objs as go\n",
    "from plotly.offline import download_plotlyjs,init_notebook_mode,plot,iplot"
   ]
  },
  {
   "cell_type": "code",
   "execution_count": 78,
   "metadata": {},
   "outputs": [
    {
     "ename": "PlotlyRequestError",
     "evalue": "Authentication credentials were not provided.",
     "output_type": "error",
     "traceback": [
      "\u001b[1;31m---------------------------------------------------------------------------\u001b[0m",
      "\u001b[1;31mPlotlyRequestError\u001b[0m                        Traceback (most recent call last)",
      "Input \u001b[1;32mIn [78]\u001b[0m, in \u001b[0;36m<module>\u001b[1;34m\u001b[0m\n\u001b[1;32m----> 1\u001b[0m \u001b[43mdf\u001b[49m\u001b[43m[\u001b[49m\u001b[38;5;124;43m'\u001b[39;49m\u001b[38;5;124;43mAssignment group\u001b[39;49m\u001b[38;5;124;43m'\u001b[39;49m\u001b[43m]\u001b[49m\u001b[38;5;241;43m.\u001b[39;49m\u001b[43miplot\u001b[49m\u001b[43m(\u001b[49m\n\u001b[0;32m      2\u001b[0m \u001b[43m    \u001b[49m\u001b[43mkind\u001b[49m\u001b[38;5;241;43m=\u001b[39;49m\u001b[38;5;124;43m'\u001b[39;49m\u001b[38;5;124;43mhist\u001b[39;49m\u001b[38;5;124;43m'\u001b[39;49m\u001b[43m,\u001b[49m\n\u001b[0;32m      3\u001b[0m \u001b[43m    \u001b[49m\u001b[43mxTitle\u001b[49m\u001b[38;5;241;43m=\u001b[39;49m\u001b[38;5;124;43m'\u001b[39;49m\u001b[38;5;124;43mAssignment Group\u001b[39;49m\u001b[38;5;124;43m'\u001b[39;49m\u001b[43m,\u001b[49m\n\u001b[0;32m      4\u001b[0m \u001b[43m    \u001b[49m\u001b[43myTitle\u001b[49m\u001b[38;5;241;43m=\u001b[39;49m\u001b[38;5;124;43m'\u001b[39;49m\u001b[38;5;124;43mcount\u001b[39;49m\u001b[38;5;124;43m'\u001b[39;49m\u001b[43m,\u001b[49m\n\u001b[0;32m      5\u001b[0m \u001b[43m    \u001b[49m\u001b[43mtitle\u001b[49m\u001b[38;5;241;43m=\u001b[39;49m\u001b[38;5;124;43m'\u001b[39;49m\u001b[38;5;124;43mAssignment Group Distribution- Histogram (Fig-1)\u001b[39;49m\u001b[38;5;124;43m'\u001b[39;49m\u001b[43m)\u001b[49m\n",
      "File \u001b[1;32m~\\anaconda6\\lib\\site-packages\\cufflinks\\plotlytools.py:1216\u001b[0m, in \u001b[0;36m_iplot\u001b[1;34m(self, kind, data, layout, filename, sharing, title, xTitle, yTitle, zTitle, theme, colors, colorscale, fill, width, dash, mode, interpolation, symbol, size, barmode, sortbars, bargap, bargroupgap, bins, histnorm, histfunc, orientation, boxpoints, annotations, keys, bestfit, bestfit_colors, mean, mean_colors, categories, x, y, z, text, gridcolor, zerolinecolor, margin, labels, values, secondary_y, secondary_y_title, subplots, shape, error_x, error_y, error_type, locations, lon, lat, asFrame, asDates, asFigure, asImage, dimensions, asPlot, asUrl, online, **kwargs)\u001b[0m\n\u001b[0;32m   1214\u001b[0m \t\u001b[38;5;28;01mreturn\u001b[39;00m Figure(figure)\n\u001b[0;32m   1215\u001b[0m \u001b[38;5;28;01melse\u001b[39;00m:\n\u001b[1;32m-> 1216\u001b[0m \t\u001b[38;5;28;01mreturn\u001b[39;00m \u001b[43miplot\u001b[49m\u001b[43m(\u001b[49m\u001b[43mfigure\u001b[49m\u001b[43m,\u001b[49m\u001b[43mvalidate\u001b[49m\u001b[38;5;241;43m=\u001b[39;49m\u001b[43mvalidate\u001b[49m\u001b[43m,\u001b[49m\u001b[43msharing\u001b[49m\u001b[38;5;241;43m=\u001b[39;49m\u001b[43msharing\u001b[49m\u001b[43m,\u001b[49m\u001b[43mfilename\u001b[49m\u001b[38;5;241;43m=\u001b[39;49m\u001b[43mfilename\u001b[49m\u001b[43m,\u001b[49m\n\u001b[0;32m   1217\u001b[0m \u001b[43m\t\t \u001b[49m\u001b[43monline\u001b[49m\u001b[38;5;241;43m=\u001b[39;49m\u001b[43monline\u001b[49m\u001b[43m,\u001b[49m\u001b[43masImage\u001b[49m\u001b[38;5;241;43m=\u001b[39;49m\u001b[43masImage\u001b[49m\u001b[43m,\u001b[49m\u001b[43masUrl\u001b[49m\u001b[38;5;241;43m=\u001b[39;49m\u001b[43masUrl\u001b[49m\u001b[43m,\u001b[49m\u001b[43masPlot\u001b[49m\u001b[38;5;241;43m=\u001b[39;49m\u001b[43masPlot\u001b[49m\u001b[43m,\u001b[49m\n\u001b[0;32m   1218\u001b[0m \u001b[43m\t\t \u001b[49m\u001b[43mdimensions\u001b[49m\u001b[38;5;241;43m=\u001b[39;49m\u001b[43mdimensions\u001b[49m\u001b[43m,\u001b[49m\u001b[43mdisplay_image\u001b[49m\u001b[38;5;241;43m=\u001b[39;49m\u001b[43mkwargs\u001b[49m\u001b[38;5;241;43m.\u001b[39;49m\u001b[43mget\u001b[49m\u001b[43m(\u001b[49m\u001b[38;5;124;43m'\u001b[39;49m\u001b[38;5;124;43mdisplay_image\u001b[39;49m\u001b[38;5;124;43m'\u001b[39;49m\u001b[43m,\u001b[49m\u001b[38;5;28;43;01mTrue\u001b[39;49;00m\u001b[43m)\u001b[49m\u001b[43m)\u001b[49m\n",
      "File \u001b[1;32m~\\anaconda6\\lib\\site-packages\\cufflinks\\plotlytools.py:1470\u001b[0m, in \u001b[0;36miplot\u001b[1;34m(figure, validate, sharing, filename, online, asImage, asUrl, asPlot, dimensions, display_image, **kwargs)\u001b[0m\n\u001b[0;32m   1468\u001b[0m \t\u001b[38;5;28;01mreturn\u001b[39;00m offline\u001b[38;5;241m.\u001b[39mpy_offline\u001b[38;5;241m.\u001b[39miplot(figure, validate\u001b[38;5;241m=\u001b[39mvalidate, filename\u001b[38;5;241m=\u001b[39mfilename, show_link\u001b[38;5;241m=\u001b[39mshow_link, link_text\u001b[38;5;241m=\u001b[39mlink_text, config\u001b[38;5;241m=\u001b[39mconfig)\n\u001b[0;32m   1469\u001b[0m \u001b[38;5;28;01melse\u001b[39;00m:\t\t\n\u001b[1;32m-> 1470\u001b[0m \t\u001b[38;5;28;01mreturn\u001b[39;00m \u001b[43mpy\u001b[49m\u001b[38;5;241;43m.\u001b[39;49m\u001b[43miplot\u001b[49m\u001b[43m(\u001b[49m\u001b[43mfigure\u001b[49m\u001b[43m,\u001b[49m\u001b[43mvalidate\u001b[49m\u001b[38;5;241;43m=\u001b[39;49m\u001b[43mvalidate\u001b[49m\u001b[43m,\u001b[49m\u001b[43msharing\u001b[49m\u001b[38;5;241;43m=\u001b[39;49m\u001b[43msharing\u001b[49m\u001b[43m,\u001b[49m\n\u001b[0;32m   1471\u001b[0m \u001b[43m\t\t\t\t\t\u001b[49m\u001b[43mfilename\u001b[49m\u001b[38;5;241;43m=\u001b[39;49m\u001b[43mfilename\u001b[49m\u001b[43m)\u001b[49m\n",
      "File \u001b[1;32m~\\anaconda6\\lib\\site-packages\\chart_studio\\plotly\\plotly.py:135\u001b[0m, in \u001b[0;36miplot\u001b[1;34m(figure_or_data, **plot_options)\u001b[0m\n\u001b[0;32m    133\u001b[0m \u001b[38;5;28;01mif\u001b[39;00m \u001b[38;5;124m\"\u001b[39m\u001b[38;5;124mauto_open\u001b[39m\u001b[38;5;124m\"\u001b[39m \u001b[38;5;129;01mnot\u001b[39;00m \u001b[38;5;129;01min\u001b[39;00m plot_options:\n\u001b[0;32m    134\u001b[0m     plot_options[\u001b[38;5;124m\"\u001b[39m\u001b[38;5;124mauto_open\u001b[39m\u001b[38;5;124m\"\u001b[39m] \u001b[38;5;241m=\u001b[39m \u001b[38;5;28;01mFalse\u001b[39;00m\n\u001b[1;32m--> 135\u001b[0m url \u001b[38;5;241m=\u001b[39m plot(figure_or_data, \u001b[38;5;241m*\u001b[39m\u001b[38;5;241m*\u001b[39mplot_options)\n\u001b[0;32m    137\u001b[0m \u001b[38;5;28;01mif\u001b[39;00m \u001b[38;5;28misinstance\u001b[39m(figure_or_data, \u001b[38;5;28mdict\u001b[39m):\n\u001b[0;32m    138\u001b[0m     layout \u001b[38;5;241m=\u001b[39m figure_or_data\u001b[38;5;241m.\u001b[39mget(\u001b[38;5;124m\"\u001b[39m\u001b[38;5;124mlayout\u001b[39m\u001b[38;5;124m\"\u001b[39m, {})\n",
      "File \u001b[1;32m~\\anaconda6\\lib\\site-packages\\chart_studio\\plotly\\plotly.py:276\u001b[0m, in \u001b[0;36mplot\u001b[1;34m(figure_or_data, validate, **plot_options)\u001b[0m\n\u001b[0;32m    273\u001b[0m \u001b[38;5;28;01melse\u001b[39;00m:\n\u001b[0;32m    274\u001b[0m     grid_filename \u001b[38;5;241m=\u001b[39m filename \u001b[38;5;241m+\u001b[39m \u001b[38;5;124m\"\u001b[39m\u001b[38;5;124m_grid\u001b[39m\u001b[38;5;124m\"\u001b[39m\n\u001b[1;32m--> 276\u001b[0m \u001b[43mgrid_ops\u001b[49m\u001b[38;5;241;43m.\u001b[39;49m\u001b[43mupload\u001b[49m\u001b[43m(\u001b[49m\n\u001b[0;32m    277\u001b[0m \u001b[43m    \u001b[49m\u001b[43mgrid\u001b[49m\u001b[38;5;241;43m=\u001b[39;49m\u001b[43mgrid\u001b[49m\u001b[43m,\u001b[49m\n\u001b[0;32m    278\u001b[0m \u001b[43m    \u001b[49m\u001b[43mfilename\u001b[49m\u001b[38;5;241;43m=\u001b[39;49m\u001b[43mgrid_filename\u001b[49m\u001b[43m,\u001b[49m\n\u001b[0;32m    279\u001b[0m \u001b[43m    \u001b[49m\u001b[43mworld_readable\u001b[49m\u001b[38;5;241;43m=\u001b[39;49m\u001b[43mpayload\u001b[49m\u001b[43m[\u001b[49m\u001b[38;5;124;43m\"\u001b[39;49m\u001b[38;5;124;43mworld_readable\u001b[39;49m\u001b[38;5;124;43m\"\u001b[39;49m\u001b[43m]\u001b[49m\u001b[43m,\u001b[49m\n\u001b[0;32m    280\u001b[0m \u001b[43m    \u001b[49m\u001b[43mauto_open\u001b[49m\u001b[38;5;241;43m=\u001b[39;49m\u001b[38;5;28;43;01mFalse\u001b[39;49;00m\u001b[43m,\u001b[49m\n\u001b[0;32m    281\u001b[0m \u001b[43m\u001b[49m\u001b[43m)\u001b[49m\n\u001b[0;32m    283\u001b[0m _set_grid_column_references(figure, grid)\n\u001b[0;32m    284\u001b[0m payload[\u001b[38;5;124m\"\u001b[39m\u001b[38;5;124mfigure\u001b[39m\u001b[38;5;124m\"\u001b[39m] \u001b[38;5;241m=\u001b[39m figure\n",
      "File \u001b[1;32m~\\anaconda6\\lib\\site-packages\\chart_studio\\plotly\\plotly.py:1087\u001b[0m, in \u001b[0;36mgrid_ops.upload\u001b[1;34m(cls, grid, filename, world_readable, auto_open, meta)\u001b[0m\n\u001b[0;32m   1084\u001b[0m     \u001b[38;5;28;01mif\u001b[39;00m parent_path:\n\u001b[0;32m   1085\u001b[0m         payload[\u001b[38;5;124m\"\u001b[39m\u001b[38;5;124mparent_path\u001b[39m\u001b[38;5;124m\"\u001b[39m] \u001b[38;5;241m=\u001b[39m parent_path\n\u001b[1;32m-> 1087\u001b[0m file_info \u001b[38;5;241m=\u001b[39m \u001b[43m_create_or_overwrite_grid\u001b[49m\u001b[43m(\u001b[49m\u001b[43mpayload\u001b[49m\u001b[43m)\u001b[49m\n\u001b[0;32m   1089\u001b[0m cols \u001b[38;5;241m=\u001b[39m file_info[\u001b[38;5;124m\"\u001b[39m\u001b[38;5;124mcols\u001b[39m\u001b[38;5;124m\"\u001b[39m]\n\u001b[0;32m   1090\u001b[0m fid \u001b[38;5;241m=\u001b[39m file_info[\u001b[38;5;124m\"\u001b[39m\u001b[38;5;124mfid\u001b[39m\u001b[38;5;124m\"\u001b[39m]\n",
      "File \u001b[1;32m~\\anaconda6\\lib\\site-packages\\chart_studio\\plotly\\plotly.py:1550\u001b[0m, in \u001b[0;36m_create_or_overwrite_grid\u001b[1;34m(data, max_retries)\u001b[0m\n\u001b[0;32m   1548\u001b[0m \u001b[38;5;66;03m# Create file\u001b[39;00m\n\u001b[0;32m   1549\u001b[0m \u001b[38;5;28;01mtry\u001b[39;00m:\n\u001b[1;32m-> 1550\u001b[0m     res \u001b[38;5;241m=\u001b[39m \u001b[43mapi_module\u001b[49m\u001b[38;5;241;43m.\u001b[39;49m\u001b[43mcreate\u001b[49m\u001b[43m(\u001b[49m\u001b[43mdata\u001b[49m\u001b[43m)\u001b[49m\n\u001b[0;32m   1551\u001b[0m \u001b[38;5;28;01mexcept\u001b[39;00m exceptions\u001b[38;5;241m.\u001b[39mPlotlyRequestError \u001b[38;5;28;01mas\u001b[39;00m e:\n\u001b[0;32m   1552\u001b[0m     \u001b[38;5;28;01mif\u001b[39;00m max_retries \u001b[38;5;241m>\u001b[39m \u001b[38;5;241m0\u001b[39m \u001b[38;5;129;01mand\u001b[39;00m \u001b[38;5;124m\"\u001b[39m\u001b[38;5;124malready exists\u001b[39m\u001b[38;5;124m\"\u001b[39m \u001b[38;5;129;01min\u001b[39;00m e\u001b[38;5;241m.\u001b[39mmessage:\n\u001b[0;32m   1553\u001b[0m         \u001b[38;5;66;03m# Retry _create_or_overwrite\u001b[39;00m\n",
      "File \u001b[1;32m~\\anaconda6\\lib\\site-packages\\chart_studio\\api\\v2\\grids.py:18\u001b[0m, in \u001b[0;36mcreate\u001b[1;34m(body)\u001b[0m\n\u001b[0;32m     10\u001b[0m \u001b[38;5;124;03m\"\"\"\u001b[39;00m\n\u001b[0;32m     11\u001b[0m \u001b[38;5;124;03mCreate a new grid.\u001b[39;00m\n\u001b[0;32m     12\u001b[0m \n\u001b[1;32m   (...)\u001b[0m\n\u001b[0;32m     15\u001b[0m \n\u001b[0;32m     16\u001b[0m \u001b[38;5;124;03m\"\"\"\u001b[39;00m\n\u001b[0;32m     17\u001b[0m url \u001b[38;5;241m=\u001b[39m build_url(RESOURCE)\n\u001b[1;32m---> 18\u001b[0m \u001b[38;5;28;01mreturn\u001b[39;00m \u001b[43mrequest\u001b[49m\u001b[43m(\u001b[49m\u001b[38;5;124;43m\"\u001b[39;49m\u001b[38;5;124;43mpost\u001b[39;49m\u001b[38;5;124;43m\"\u001b[39;49m\u001b[43m,\u001b[49m\u001b[43m \u001b[49m\u001b[43murl\u001b[49m\u001b[43m,\u001b[49m\u001b[43m \u001b[49m\u001b[43mjson\u001b[49m\u001b[38;5;241;43m=\u001b[39;49m\u001b[43mbody\u001b[49m\u001b[43m)\u001b[49m\n",
      "File \u001b[1;32m~\\anaconda6\\lib\\site-packages\\retrying.py:49\u001b[0m, in \u001b[0;36mretry.<locals>.wrap.<locals>.wrapped_f\u001b[1;34m(*args, **kw)\u001b[0m\n\u001b[0;32m     47\u001b[0m \u001b[38;5;129m@six\u001b[39m\u001b[38;5;241m.\u001b[39mwraps(f)\n\u001b[0;32m     48\u001b[0m \u001b[38;5;28;01mdef\u001b[39;00m \u001b[38;5;21mwrapped_f\u001b[39m(\u001b[38;5;241m*\u001b[39margs, \u001b[38;5;241m*\u001b[39m\u001b[38;5;241m*\u001b[39mkw):\n\u001b[1;32m---> 49\u001b[0m     \u001b[38;5;28;01mreturn\u001b[39;00m Retrying(\u001b[38;5;241m*\u001b[39mdargs, \u001b[38;5;241m*\u001b[39m\u001b[38;5;241m*\u001b[39mdkw)\u001b[38;5;241m.\u001b[39mcall(f, \u001b[38;5;241m*\u001b[39margs, \u001b[38;5;241m*\u001b[39m\u001b[38;5;241m*\u001b[39mkw)\n",
      "File \u001b[1;32m~\\anaconda6\\lib\\site-packages\\retrying.py:206\u001b[0m, in \u001b[0;36mRetrying.call\u001b[1;34m(self, fn, *args, **kwargs)\u001b[0m\n\u001b[0;32m    203\u001b[0m     attempt \u001b[38;5;241m=\u001b[39m Attempt(tb, attempt_number, \u001b[38;5;28;01mTrue\u001b[39;00m)\n\u001b[0;32m    205\u001b[0m \u001b[38;5;28;01mif\u001b[39;00m \u001b[38;5;129;01mnot\u001b[39;00m \u001b[38;5;28mself\u001b[39m\u001b[38;5;241m.\u001b[39mshould_reject(attempt):\n\u001b[1;32m--> 206\u001b[0m     \u001b[38;5;28;01mreturn\u001b[39;00m \u001b[43mattempt\u001b[49m\u001b[38;5;241;43m.\u001b[39;49m\u001b[43mget\u001b[49m\u001b[43m(\u001b[49m\u001b[38;5;28;43mself\u001b[39;49m\u001b[38;5;241;43m.\u001b[39;49m\u001b[43m_wrap_exception\u001b[49m\u001b[43m)\u001b[49m\n\u001b[0;32m    208\u001b[0m delay_since_first_attempt_ms \u001b[38;5;241m=\u001b[39m \u001b[38;5;28mint\u001b[39m(\u001b[38;5;28mround\u001b[39m(time\u001b[38;5;241m.\u001b[39mtime() \u001b[38;5;241m*\u001b[39m \u001b[38;5;241m1000\u001b[39m)) \u001b[38;5;241m-\u001b[39m start_time\n\u001b[0;32m    209\u001b[0m \u001b[38;5;28;01mif\u001b[39;00m \u001b[38;5;28mself\u001b[39m\u001b[38;5;241m.\u001b[39mstop(attempt_number, delay_since_first_attempt_ms):\n",
      "File \u001b[1;32m~\\anaconda6\\lib\\site-packages\\retrying.py:247\u001b[0m, in \u001b[0;36mAttempt.get\u001b[1;34m(self, wrap_exception)\u001b[0m\n\u001b[0;32m    245\u001b[0m         \u001b[38;5;28;01mraise\u001b[39;00m RetryError(\u001b[38;5;28mself\u001b[39m)\n\u001b[0;32m    246\u001b[0m     \u001b[38;5;28;01melse\u001b[39;00m:\n\u001b[1;32m--> 247\u001b[0m         \u001b[43msix\u001b[49m\u001b[38;5;241;43m.\u001b[39;49m\u001b[43mreraise\u001b[49m\u001b[43m(\u001b[49m\u001b[38;5;28;43mself\u001b[39;49m\u001b[38;5;241;43m.\u001b[39;49m\u001b[43mvalue\u001b[49m\u001b[43m[\u001b[49m\u001b[38;5;241;43m0\u001b[39;49m\u001b[43m]\u001b[49m\u001b[43m,\u001b[49m\u001b[43m \u001b[49m\u001b[38;5;28;43mself\u001b[39;49m\u001b[38;5;241;43m.\u001b[39;49m\u001b[43mvalue\u001b[49m\u001b[43m[\u001b[49m\u001b[38;5;241;43m1\u001b[39;49m\u001b[43m]\u001b[49m\u001b[43m,\u001b[49m\u001b[43m \u001b[49m\u001b[38;5;28;43mself\u001b[39;49m\u001b[38;5;241;43m.\u001b[39;49m\u001b[43mvalue\u001b[49m\u001b[43m[\u001b[49m\u001b[38;5;241;43m2\u001b[39;49m\u001b[43m]\u001b[49m\u001b[43m)\u001b[49m\n\u001b[0;32m    248\u001b[0m \u001b[38;5;28;01melse\u001b[39;00m:\n\u001b[0;32m    249\u001b[0m     \u001b[38;5;28;01mreturn\u001b[39;00m \u001b[38;5;28mself\u001b[39m\u001b[38;5;241m.\u001b[39mvalue\n",
      "File \u001b[1;32m~\\AppData\\Roaming\\Python\\Python39\\site-packages\\six.py:719\u001b[0m, in \u001b[0;36mreraise\u001b[1;34m(tp, value, tb)\u001b[0m\n\u001b[0;32m    717\u001b[0m     \u001b[38;5;28;01mif\u001b[39;00m value\u001b[38;5;241m.\u001b[39m__traceback__ \u001b[38;5;129;01mis\u001b[39;00m \u001b[38;5;129;01mnot\u001b[39;00m tb:\n\u001b[0;32m    718\u001b[0m         \u001b[38;5;28;01mraise\u001b[39;00m value\u001b[38;5;241m.\u001b[39mwith_traceback(tb)\n\u001b[1;32m--> 719\u001b[0m     \u001b[38;5;28;01mraise\u001b[39;00m value\n\u001b[0;32m    720\u001b[0m \u001b[38;5;28;01mfinally\u001b[39;00m:\n\u001b[0;32m    721\u001b[0m     value \u001b[38;5;241m=\u001b[39m \u001b[38;5;28;01mNone\u001b[39;00m\n",
      "File \u001b[1;32m~\\anaconda6\\lib\\site-packages\\retrying.py:200\u001b[0m, in \u001b[0;36mRetrying.call\u001b[1;34m(self, fn, *args, **kwargs)\u001b[0m\n\u001b[0;32m    198\u001b[0m \u001b[38;5;28;01mwhile\u001b[39;00m \u001b[38;5;28;01mTrue\u001b[39;00m:\n\u001b[0;32m    199\u001b[0m     \u001b[38;5;28;01mtry\u001b[39;00m:\n\u001b[1;32m--> 200\u001b[0m         attempt \u001b[38;5;241m=\u001b[39m Attempt(fn(\u001b[38;5;241m*\u001b[39margs, \u001b[38;5;241m*\u001b[39m\u001b[38;5;241m*\u001b[39mkwargs), attempt_number, \u001b[38;5;28;01mFalse\u001b[39;00m)\n\u001b[0;32m    201\u001b[0m     \u001b[38;5;28;01mexcept\u001b[39;00m:\n\u001b[0;32m    202\u001b[0m         tb \u001b[38;5;241m=\u001b[39m sys\u001b[38;5;241m.\u001b[39mexc_info()\n",
      "File \u001b[1;32m~\\anaconda6\\lib\\site-packages\\chart_studio\\api\\v2\\utils.py:180\u001b[0m, in \u001b[0;36mrequest\u001b[1;34m(method, url, **kwargs)\u001b[0m\n\u001b[0;32m    178\u001b[0m     content \u001b[38;5;241m=\u001b[39m response\u001b[38;5;241m.\u001b[39mcontent \u001b[38;5;28;01mif\u001b[39;00m response \u001b[38;5;28;01melse\u001b[39;00m \u001b[38;5;124m\"\u001b[39m\u001b[38;5;124mNo content\u001b[39m\u001b[38;5;124m\"\u001b[39m\n\u001b[0;32m    179\u001b[0m     \u001b[38;5;28;01mraise\u001b[39;00m exceptions\u001b[38;5;241m.\u001b[39mPlotlyRequestError(message, status_code, content)\n\u001b[1;32m--> 180\u001b[0m \u001b[43mvalidate_response\u001b[49m\u001b[43m(\u001b[49m\u001b[43mresponse\u001b[49m\u001b[43m)\u001b[49m\n\u001b[0;32m    181\u001b[0m \u001b[38;5;28;01mreturn\u001b[39;00m response\n",
      "File \u001b[1;32m~\\anaconda6\\lib\\site-packages\\chart_studio\\api\\v2\\utils.py:82\u001b[0m, in \u001b[0;36mvalidate_response\u001b[1;34m(response)\u001b[0m\n\u001b[0;32m     79\u001b[0m \u001b[38;5;28;01mif\u001b[39;00m \u001b[38;5;129;01mnot\u001b[39;00m message:\n\u001b[0;32m     80\u001b[0m     message \u001b[38;5;241m=\u001b[39m content \u001b[38;5;28;01mif\u001b[39;00m content \u001b[38;5;28;01melse\u001b[39;00m \u001b[38;5;124m\"\u001b[39m\u001b[38;5;124mNo Content\u001b[39m\u001b[38;5;124m\"\u001b[39m\n\u001b[1;32m---> 82\u001b[0m \u001b[38;5;28;01mraise\u001b[39;00m exceptions\u001b[38;5;241m.\u001b[39mPlotlyRequestError(message, status_code, content)\n",
      "\u001b[1;31mPlotlyRequestError\u001b[0m: Authentication credentials were not provided."
     ]
    }
   ],
   "source": [
    "df['Assignment group'].iplot(\n",
    "    kind='hist',\n",
    "    xTitle='Assignment Group',\n",
    "    yTitle='count',\n",
    "    title='Assignment Group Distribution- Histogram (Fig-1)')"
   ]
  },
  {
   "cell_type": "code",
   "execution_count": null,
   "metadata": {},
   "outputs": [],
   "source": [
    "\n",
    "#pip install chart_studio"
   ]
  },
  {
   "cell_type": "code",
   "execution_count": 93,
   "metadata": {},
   "outputs": [
    {
     "name": "stderr",
     "output_type": "stream",
     "text": [
      "[nltk_data] Downloading package wordnet to\n",
      "[nltk_data]     C:\\Users\\DELL\\AppData\\Roaming\\nltk_data...\n",
      "[nltk_data]   Package wordnet is already up-to-date!\n",
      "[nltk_data] Downloading package punkt to\n",
      "[nltk_data]     C:\\Users\\DELL\\AppData\\Roaming\\nltk_data...\n",
      "[nltk_data]   Package punkt is already up-to-date!\n",
      "[nltk_data] Downloading package stopwords to\n",
      "[nltk_data]     C:\\Users\\DELL\\AppData\\Roaming\\nltk_data...\n",
      "[nltk_data]   Package stopwords is already up-to-date!\n",
      "[nltk_data] Downloading package averaged_perceptron_tagger to\n",
      "[nltk_data]     C:\\Users\\DELL\\AppData\\Roaming\\nltk_data...\n",
      "[nltk_data]   Package averaged_perceptron_tagger is already up-to-\n",
      "[nltk_data]       date!\n"
     ]
    },
    {
     "ename": "ModuleNotFoundError",
     "evalue": "No module named 'en_core_web_sm'",
     "output_type": "error",
     "traceback": [
      "\u001b[1;31m---------------------------------------------------------------------------\u001b[0m",
      "\u001b[1;31mModuleNotFoundError\u001b[0m                       Traceback (most recent call last)",
      "Input \u001b[1;32mIn [93]\u001b[0m, in \u001b[0;36m<module>\u001b[1;34m\u001b[0m\n\u001b[0;32m     10\u001b[0m   df[\u001b[38;5;124m'\u001b[39m\u001b[38;5;124mDescription\u001b[39m\u001b[38;5;124m'\u001b[39m][i]\u001b[38;5;241m=\u001b[39m\u001b[38;5;124m\"\u001b[39m\u001b[38;5;124m \u001b[39m\u001b[38;5;124m\"\u001b[39m\u001b[38;5;241m.\u001b[39mjoin(word \u001b[38;5;28;01mfor\u001b[39;00m word \u001b[38;5;129;01min\u001b[39;00m text\u001b[38;5;241m.\u001b[39msplit(\u001b[38;5;124m'\u001b[39m\u001b[38;5;124m \u001b[39m\u001b[38;5;124m'\u001b[39m) \u001b[38;5;28;01mif\u001b[39;00m word \u001b[38;5;129;01mnot\u001b[39;00m \u001b[38;5;129;01min\u001b[39;00m sr)\n\u001b[0;32m     13\u001b[0m \u001b[38;5;28;01mimport\u001b[39;00m \u001b[38;5;21;01mspacy\u001b[39;00m\n\u001b[1;32m---> 14\u001b[0m \u001b[38;5;28;01mimport\u001b[39;00m \u001b[38;5;21;01men_core_web_sm\u001b[39;00m\n\u001b[0;32m     16\u001b[0m spacy\u001b[38;5;241m.\u001b[39mprefer_gpu()\n\u001b[0;32m     17\u001b[0m nlp \u001b[38;5;241m=\u001b[39m en_core_web_sm\u001b[38;5;241m.\u001b[39mload()\n",
      "\u001b[1;31mModuleNotFoundError\u001b[0m: No module named 'en_core_web_sm'"
     ]
    }
   ],
   "source": [
    "from nltk.corpus import stopwords\n",
    "import nltk\n",
    "nltk.download('wordnet')\n",
    "nltk.download('punkt')\n",
    "nltk.download('stopwords')\n",
    "nltk.download('averaged_perceptron_tagger') \n",
    "\n",
    "sr = stopwords.words('english')\n",
    "for i,text in enumerate(df['Description']):\n",
    "  df['Description'][i]=\" \".join(word for word in text.split(' ') if word not in sr)\n",
    "\n",
    "\n",
    "import spacy\n",
    "import en_core_web_sm\n",
    "\n",
    "spacy.prefer_gpu()\n",
    "nlp = en_core_web_sm.load()\n",
    "\n",
    "#nlp = spacy.load('en', disable=['parser', 'ner'])\n",
    "allowed_postags=['NOUN', 'ADJ', 'VERB', 'ADV']\n",
    "def lemmatize_text(text):\n",
    "    doc = nlp(text)\n",
    "    return ' '.join([token.lemma_ for token in doc])\n",
    "\n",
    "df['Description'] = df['Description'].apply(lemmatize_text)\n"
   ]
  },
  {
   "cell_type": "code",
   "execution_count": 2,
   "metadata": {},
   "outputs": [
    {
     "ename": "OSError",
     "evalue": "[E050] Can't find model 'en_core_web_md'. It doesn't seem to be a Python package or a valid path to a data directory.",
     "output_type": "error",
     "traceback": [
      "\u001b[1;31m---------------------------------------------------------------------------\u001b[0m",
      "\u001b[1;31mOSError\u001b[0m                                   Traceback (most recent call last)",
      "Input \u001b[1;32mIn [2]\u001b[0m, in \u001b[0;36m<module>\u001b[1;34m\u001b[0m\n\u001b[0;32m      1\u001b[0m \u001b[38;5;28;01mimport\u001b[39;00m \u001b[38;5;21;01mspacy\u001b[39;00m\n\u001b[1;32m----> 2\u001b[0m nlp \u001b[38;5;241m=\u001b[39m \u001b[43mspacy\u001b[49m\u001b[38;5;241;43m.\u001b[39;49m\u001b[43mload\u001b[49m\u001b[43m(\u001b[49m\u001b[38;5;124;43m'\u001b[39;49m\u001b[38;5;124;43men_core_web_md\u001b[39;49m\u001b[38;5;124;43m'\u001b[39;49m\u001b[43m,\u001b[49m\u001b[43m \u001b[49m\u001b[43mdisable\u001b[49m\u001b[38;5;241;43m=\u001b[39;49m\u001b[43m[\u001b[49m\u001b[38;5;124;43m'\u001b[39;49m\u001b[38;5;124;43mparser\u001b[39;49m\u001b[38;5;124;43m'\u001b[39;49m\u001b[43m,\u001b[49m\u001b[43m \u001b[49m\u001b[38;5;124;43m'\u001b[39;49m\u001b[38;5;124;43mner\u001b[39;49m\u001b[38;5;124;43m'\u001b[39;49m\u001b[43m]\u001b[49m\u001b[43m)\u001b[49m\n\u001b[0;32m      4\u001b[0m \u001b[38;5;66;03m# Define a function to lemmatize the descriptions\u001b[39;00m\n\u001b[0;32m      5\u001b[0m \u001b[38;5;28;01mdef\u001b[39;00m \u001b[38;5;21mlemmatizer\u001b[39m(sentence):\n\u001b[0;32m      6\u001b[0m     \u001b[38;5;66;03m# Parse the sentence using the loaded 'en' model object `nlp`\u001b[39;00m\n",
      "File \u001b[1;32m~\\anaconda6\\lib\\site-packages\\spacy\\__init__.py:51\u001b[0m, in \u001b[0;36mload\u001b[1;34m(name, vocab, disable, exclude, config)\u001b[0m\n\u001b[0;32m     30\u001b[0m \u001b[38;5;28;01mdef\u001b[39;00m \u001b[38;5;21mload\u001b[39m(\n\u001b[0;32m     31\u001b[0m     name: Union[\u001b[38;5;28mstr\u001b[39m, Path],\n\u001b[0;32m     32\u001b[0m     \u001b[38;5;241m*\u001b[39m,\n\u001b[1;32m   (...)\u001b[0m\n\u001b[0;32m     36\u001b[0m     config: Union[Dict[\u001b[38;5;28mstr\u001b[39m, Any], Config] \u001b[38;5;241m=\u001b[39m util\u001b[38;5;241m.\u001b[39mSimpleFrozenDict(),\n\u001b[0;32m     37\u001b[0m ) \u001b[38;5;241m-\u001b[39m\u001b[38;5;241m>\u001b[39m Language:\n\u001b[0;32m     38\u001b[0m     \u001b[38;5;124;03m\"\"\"Load a spaCy model from an installed package or a local path.\u001b[39;00m\n\u001b[0;32m     39\u001b[0m \n\u001b[0;32m     40\u001b[0m \u001b[38;5;124;03m    name (str): Package name or model path.\u001b[39;00m\n\u001b[1;32m   (...)\u001b[0m\n\u001b[0;32m     49\u001b[0m \u001b[38;5;124;03m    RETURNS (Language): The loaded nlp object.\u001b[39;00m\n\u001b[0;32m     50\u001b[0m \u001b[38;5;124;03m    \"\"\"\u001b[39;00m\n\u001b[1;32m---> 51\u001b[0m     \u001b[38;5;28;01mreturn\u001b[39;00m \u001b[43mutil\u001b[49m\u001b[38;5;241;43m.\u001b[39;49m\u001b[43mload_model\u001b[49m\u001b[43m(\u001b[49m\n\u001b[0;32m     52\u001b[0m \u001b[43m        \u001b[49m\u001b[43mname\u001b[49m\u001b[43m,\u001b[49m\u001b[43m \u001b[49m\u001b[43mvocab\u001b[49m\u001b[38;5;241;43m=\u001b[39;49m\u001b[43mvocab\u001b[49m\u001b[43m,\u001b[49m\u001b[43m \u001b[49m\u001b[43mdisable\u001b[49m\u001b[38;5;241;43m=\u001b[39;49m\u001b[43mdisable\u001b[49m\u001b[43m,\u001b[49m\u001b[43m \u001b[49m\u001b[43mexclude\u001b[49m\u001b[38;5;241;43m=\u001b[39;49m\u001b[43mexclude\u001b[49m\u001b[43m,\u001b[49m\u001b[43m \u001b[49m\u001b[43mconfig\u001b[49m\u001b[38;5;241;43m=\u001b[39;49m\u001b[43mconfig\u001b[49m\n\u001b[0;32m     53\u001b[0m \u001b[43m    \u001b[49m\u001b[43m)\u001b[49m\n",
      "File \u001b[1;32m~\\anaconda6\\lib\\site-packages\\spacy\\util.py:427\u001b[0m, in \u001b[0;36mload_model\u001b[1;34m(name, vocab, disable, exclude, config)\u001b[0m\n\u001b[0;32m    425\u001b[0m \u001b[38;5;28;01mif\u001b[39;00m name \u001b[38;5;129;01min\u001b[39;00m OLD_MODEL_SHORTCUTS:\n\u001b[0;32m    426\u001b[0m     \u001b[38;5;28;01mraise\u001b[39;00m \u001b[38;5;167;01mIOError\u001b[39;00m(Errors\u001b[38;5;241m.\u001b[39mE941\u001b[38;5;241m.\u001b[39mformat(name\u001b[38;5;241m=\u001b[39mname, full\u001b[38;5;241m=\u001b[39mOLD_MODEL_SHORTCUTS[name]))  \u001b[38;5;66;03m# type: ignore[index]\u001b[39;00m\n\u001b[1;32m--> 427\u001b[0m \u001b[38;5;28;01mraise\u001b[39;00m \u001b[38;5;167;01mIOError\u001b[39;00m(Errors\u001b[38;5;241m.\u001b[39mE050\u001b[38;5;241m.\u001b[39mformat(name\u001b[38;5;241m=\u001b[39mname))\n",
      "\u001b[1;31mOSError\u001b[0m: [E050] Can't find model 'en_core_web_md'. It doesn't seem to be a Python package or a valid path to a data directory."
     ]
    }
   ],
   "source": [
    "import spacy\n",
    "nlp = spacy.load('en_core_web_md', disable=['parser', 'ner'])\n",
    "\n",
    "# Define a function to lemmatize the descriptions\n",
    "def lemmatizer(sentence):\n",
    "    # Parse the sentence using the loaded 'en' model object `nlp`\n",
    "    doc = nlp(sentence)\n",
    "    return \" \".join([token.lemma_ for token in doc if token.lemma_ !='-PRON-'])\n",
    "# Take an example of row# 43 Description and lemmatize it\n"
   ]
  },
  {
   "cell_type": "code",
   "execution_count": null,
   "metadata": {},
   "outputs": [],
   "source": []
  }
 ],
 "metadata": {
  "accelerator": "GPU",
  "colab": {
   "collapsed_sections": [],
   "name": "Capstone_final.ipynb",
   "provenance": []
  },
  "kernelspec": {
   "display_name": "Python 3 (ipykernel)",
   "language": "python",
   "name": "python3"
  },
  "language_info": {
   "codemirror_mode": {
    "name": "ipython",
    "version": 3
   },
   "file_extension": ".py",
   "mimetype": "text/x-python",
   "name": "python",
   "nbconvert_exporter": "python",
   "pygments_lexer": "ipython3",
   "version": "3.9.7"
  }
 },
 "nbformat": 4,
 "nbformat_minor": 1
}
