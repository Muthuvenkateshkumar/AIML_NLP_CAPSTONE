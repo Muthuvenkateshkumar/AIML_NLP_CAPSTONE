{
 "cells": [
  {
   "cell_type": "markdown",
   "metadata": {
    "id": "P7gqsfEbRts0"
   },
   "source": [
    "# Imports"
   ]
  },
  {
   "cell_type": "code",
   "execution_count": 120,
   "metadata": {
    "executionInfo": {
     "elapsed": 766,
     "status": "ok",
     "timestamp": 1637422362101,
     "user": {
      "displayName": "shikha sharma",
      "photoUrl": "https://lh3.googleusercontent.com/a-/AOh14Gi7-MZ8BB7Qmx-tZ4fMVMWE32u_g_Wo7RIqAY8HaA=s64",
      "userId": "18236534953658718874"
     },
     "user_tz": -330
    },
    "id": "MdP9Kh_yPPQ-"
   },
   "outputs": [
    {
     "name": "stdout",
     "output_type": "stream",
     "text": [
      "Requirement already satisfied: spacy in c:\\users\\91906\\anaconda3\\lib\\site-packages (3.2.2)\n",
      "Requirement already satisfied: preshed<3.1.0,>=3.0.2 in c:\\users\\91906\\anaconda3\\lib\\site-packages (from spacy) (3.0.6)\n",
      "Requirement already satisfied: jinja2 in c:\\users\\91906\\anaconda3\\lib\\site-packages (from spacy) (2.11.3)\n",
      "Requirement already satisfied: thinc<8.1.0,>=8.0.12 in c:\\users\\91906\\anaconda3\\lib\\site-packages (from spacy) (8.0.13)\n",
      "Requirement already satisfied: srsly<3.0.0,>=2.4.1 in c:\\users\\91906\\anaconda3\\lib\\site-packages (from spacy) (2.4.2)\n",
      "Requirement already satisfied: setuptools in c:\\users\\91906\\anaconda3\\lib\\site-packages (from spacy) (58.0.4)\n",
      "Requirement already satisfied: cymem<2.1.0,>=2.0.2 in c:\\users\\91906\\anaconda3\\lib\\site-packages (from spacy) (2.0.6)\n",
      "Requirement already satisfied: wasabi<1.1.0,>=0.8.1 in c:\\users\\91906\\anaconda3\\lib\\site-packages (from spacy) (0.9.0)\n",
      "Requirement already satisfied: spacy-legacy<3.1.0,>=3.0.8 in c:\\users\\91906\\anaconda3\\lib\\site-packages (from spacy) (3.0.9)\n",
      "Requirement already satisfied: requests<3.0.0,>=2.13.0 in c:\\users\\91906\\anaconda3\\lib\\site-packages (from spacy) (2.26.0)\n",
      "Requirement already satisfied: pathy>=0.3.5 in c:\\users\\91906\\anaconda3\\lib\\site-packages (from spacy) (0.6.1)\n",
      "Requirement already satisfied: blis<0.8.0,>=0.4.0 in c:\\users\\91906\\anaconda3\\lib\\site-packages (from spacy) (0.7.5)\n",
      "Requirement already satisfied: pydantic!=1.8,!=1.8.1,<1.9.0,>=1.7.4 in c:\\users\\91906\\anaconda3\\lib\\site-packages (from spacy) (1.8.2)\n",
      "Requirement already satisfied: catalogue<2.1.0,>=2.0.6 in c:\\users\\91906\\anaconda3\\lib\\site-packages (from spacy) (2.0.6)\n",
      "Requirement already satisfied: typer<0.5.0,>=0.3.0 in c:\\users\\91906\\anaconda3\\lib\\site-packages (from spacy) (0.4.0)\n",
      "Requirement already satisfied: murmurhash<1.1.0,>=0.28.0 in c:\\users\\91906\\anaconda3\\lib\\site-packages (from spacy) (1.0.6)\n",
      "Requirement already satisfied: tqdm<5.0.0,>=4.38.0 in c:\\users\\91906\\anaconda3\\lib\\site-packages (from spacy) (4.62.3)\n",
      "Requirement already satisfied: langcodes<4.0.0,>=3.2.0 in c:\\users\\91906\\anaconda3\\lib\\site-packages (from spacy) (3.3.0)\n",
      "Requirement already satisfied: spacy-loggers<2.0.0,>=1.0.0 in c:\\users\\91906\\anaconda3\\lib\\site-packages (from spacy) (1.0.1)\n",
      "Requirement already satisfied: packaging>=20.0 in c:\\users\\91906\\anaconda3\\lib\\site-packages (from spacy) (21.0)\n",
      "Requirement already satisfied: numpy>=1.15.0 in c:\\users\\91906\\anaconda3\\lib\\site-packages (from spacy) (1.20.3)\n",
      "Requirement already satisfied: pyparsing>=2.0.2 in c:\\users\\91906\\anaconda3\\lib\\site-packages (from packaging>=20.0->spacy) (3.0.4)\n",
      "Requirement already satisfied: smart-open<6.0.0,>=5.0.0 in c:\\users\\91906\\anaconda3\\lib\\site-packages (from pathy>=0.3.5->spacy) (5.2.1)\n",
      "Requirement already satisfied: typing-extensions>=3.7.4.3 in c:\\users\\91906\\anaconda3\\lib\\site-packages (from pydantic!=1.8,!=1.8.1,<1.9.0,>=1.7.4->spacy) (3.10.0.2)\n",
      "Requirement already satisfied: charset-normalizer~=2.0.0 in c:\\users\\91906\\anaconda3\\lib\\site-packages (from requests<3.0.0,>=2.13.0->spacy) (2.0.4)\n",
      "Requirement already satisfied: urllib3<1.27,>=1.21.1 in c:\\users\\91906\\anaconda3\\lib\\site-packages (from requests<3.0.0,>=2.13.0->spacy) (1.26.7)\n",
      "Requirement already satisfied: certifi>=2017.4.17 in c:\\users\\91906\\anaconda3\\lib\\site-packages (from requests<3.0.0,>=2.13.0->spacy) (2021.10.8)\n",
      "Requirement already satisfied: idna<4,>=2.5 in c:\\users\\91906\\anaconda3\\lib\\site-packages (from requests<3.0.0,>=2.13.0->spacy) (2.10)\n",
      "Requirement already satisfied: colorama in c:\\users\\91906\\anaconda3\\lib\\site-packages (from tqdm<5.0.0,>=4.38.0->spacy) (0.4.4)\n",
      "Requirement already satisfied: click<9.0.0,>=7.1.1 in c:\\users\\91906\\anaconda3\\lib\\site-packages (from typer<0.5.0,>=0.3.0->spacy) (8.0.3)\n",
      "Requirement already satisfied: MarkupSafe>=0.23 in c:\\users\\91906\\anaconda3\\lib\\site-packages (from jinja2->spacy) (1.1.1)\n"
     ]
    }
   ],
   "source": [
    "import pandas as pd\n",
    "import numpy as np\n",
    "!pip install spacy\n",
    "import spacy\n",
    "from spacy.lang.en.stop_words import STOP_WORDS as stop_words\n",
    "import os\n",
    "import regex as re\n",
    "import nltk\n",
    "#nltk.download('stopwords')\n",
    "from nltk.corpus import stopwords"
   ]
  },
  {
   "cell_type": "code",
   "execution_count": 122,
   "metadata": {
    "executionInfo": {
     "elapsed": 48,
     "status": "ok",
     "timestamp": 1637422363550,
     "user": {
      "displayName": "shikha sharma",
      "photoUrl": "https://lh3.googleusercontent.com/a-/AOh14Gi7-MZ8BB7Qmx-tZ4fMVMWE32u_g_Wo7RIqAY8HaA=s64",
      "userId": "18236534953658718874"
     },
     "user_tz": -330
    },
    "id": "XfnFHBQPlB2I"
   },
   "outputs": [
    {
     "name": "stdout",
     "output_type": "stream",
     "text": [
      "Requirement already satisfied: contractions in c:\\users\\91906\\anaconda3\\lib\\site-packages (0.1.66)\n",
      "Requirement already satisfied: textsearch>=0.0.21 in c:\\users\\91906\\anaconda3\\lib\\site-packages (from contractions) (0.0.21)\n",
      "Requirement already satisfied: anyascii in c:\\users\\91906\\anaconda3\\lib\\site-packages (from textsearch>=0.0.21->contractions) (0.3.0)\n",
      "Requirement already satisfied: pyahocorasick in c:\\users\\91906\\anaconda3\\lib\\site-packages (from textsearch>=0.0.21->contractions) (1.4.4)\n",
      "Requirement already satisfied: langdetect in c:\\users\\91906\\anaconda3\\lib\\site-packages (1.0.9)\n",
      "Requirement already satisfied: six in c:\\users\\91906\\anaconda3\\lib\\site-packages (from langdetect) (1.16.0)\n"
     ]
    }
   ],
   "source": [
    "!pip install contractions\n",
    "import contractions\n",
    "import unicodedata\n",
    "!pip install langdetect\n",
    "from langdetect import detect\n",
    "import matplotlib.pyplot as plt # data visualization library\n",
    "%matplotlib inline\n",
    "import seaborn as sns"
   ]
  },
  {
   "cell_type": "markdown",
   "metadata": {
    "id": "y8UqYaMKRzRz"
   },
   "source": [
    "# Reading the data into df"
   ]
  },
  {
   "cell_type": "code",
   "execution_count": 65,
   "metadata": {
    "executionInfo": {
     "elapsed": 462,
     "status": "ok",
     "timestamp": 1637422364002,
     "user": {
      "displayName": "shikha sharma",
      "photoUrl": "https://lh3.googleusercontent.com/a-/AOh14Gi7-MZ8BB7Qmx-tZ4fMVMWE32u_g_Wo7RIqAY8HaA=s64",
      "userId": "18236534953658718874"
     },
     "user_tz": -330
    },
    "id": "8XvXQXiJQZN4",
    "scrolled": true
   },
   "outputs": [
    {
     "data": {
      "text/html": [
       "<div>\n",
       "<style scoped>\n",
       "    .dataframe tbody tr th:only-of-type {\n",
       "        vertical-align: middle;\n",
       "    }\n",
       "\n",
       "    .dataframe tbody tr th {\n",
       "        vertical-align: top;\n",
       "    }\n",
       "\n",
       "    .dataframe thead th {\n",
       "        text-align: right;\n",
       "    }\n",
       "</style>\n",
       "<table border=\"1\" class=\"dataframe\">\n",
       "  <thead>\n",
       "    <tr style=\"text-align: right;\">\n",
       "      <th></th>\n",
       "      <th>Short description</th>\n",
       "      <th>Description</th>\n",
       "      <th>Caller</th>\n",
       "      <th>Assignment group</th>\n",
       "    </tr>\n",
       "  </thead>\n",
       "  <tbody>\n",
       "    <tr>\n",
       "      <th>0</th>\n",
       "      <td>login issue</td>\n",
       "      <td>-verified user details.(employee# &amp; manager na...</td>\n",
       "      <td>spxjnwir pjlcoqds</td>\n",
       "      <td>GRP_0</td>\n",
       "    </tr>\n",
       "    <tr>\n",
       "      <th>1</th>\n",
       "      <td>outlook</td>\n",
       "      <td>_x000D_\\n_x000D_\\nreceived from: hmjdrvpb.komu...</td>\n",
       "      <td>hmjdrvpb komuaywn</td>\n",
       "      <td>GRP_0</td>\n",
       "    </tr>\n",
       "    <tr>\n",
       "      <th>2</th>\n",
       "      <td>cant log in to vpn</td>\n",
       "      <td>_x000D_\\n_x000D_\\nreceived from: eylqgodm.ybqk...</td>\n",
       "      <td>eylqgodm ybqkwiam</td>\n",
       "      <td>GRP_0</td>\n",
       "    </tr>\n",
       "    <tr>\n",
       "      <th>3</th>\n",
       "      <td>unable to access hr_tool page</td>\n",
       "      <td>unable to access hr_tool page</td>\n",
       "      <td>xbkucsvz gcpydteq</td>\n",
       "      <td>GRP_0</td>\n",
       "    </tr>\n",
       "    <tr>\n",
       "      <th>4</th>\n",
       "      <td>skype error</td>\n",
       "      <td>skype error</td>\n",
       "      <td>owlgqjme qhcozdfx</td>\n",
       "      <td>GRP_0</td>\n",
       "    </tr>\n",
       "    <tr>\n",
       "      <th>...</th>\n",
       "      <td>...</td>\n",
       "      <td>...</td>\n",
       "      <td>...</td>\n",
       "      <td>...</td>\n",
       "    </tr>\n",
       "    <tr>\n",
       "      <th>8495</th>\n",
       "      <td>emails not coming in from zz mail</td>\n",
       "      <td>_x000D_\\n_x000D_\\nreceived from: avglmrts.vhqm...</td>\n",
       "      <td>avglmrts vhqmtiua</td>\n",
       "      <td>GRP_29</td>\n",
       "    </tr>\n",
       "    <tr>\n",
       "      <th>8496</th>\n",
       "      <td>telephony_software issue</td>\n",
       "      <td>telephony_software issue</td>\n",
       "      <td>rbozivdq gmlhrtvp</td>\n",
       "      <td>GRP_0</td>\n",
       "    </tr>\n",
       "    <tr>\n",
       "      <th>8497</th>\n",
       "      <td>vip2: windows password reset for tifpdchb pedx...</td>\n",
       "      <td>vip2: windows password reset for tifpdchb pedx...</td>\n",
       "      <td>oybwdsgx oxyhwrfz</td>\n",
       "      <td>GRP_0</td>\n",
       "    </tr>\n",
       "    <tr>\n",
       "      <th>8498</th>\n",
       "      <td>machine nÃ£o estÃ¡ funcionando</td>\n",
       "      <td>i am unable to access the machine utilities to...</td>\n",
       "      <td>ufawcgob aowhxjky</td>\n",
       "      <td>GRP_62</td>\n",
       "    </tr>\n",
       "    <tr>\n",
       "      <th>8499</th>\n",
       "      <td>an mehreren pc`s lassen sich verschiedene prgr...</td>\n",
       "      <td>an mehreren pc`s lassen sich verschiedene prgr...</td>\n",
       "      <td>kqvbrspl jyzoklfx</td>\n",
       "      <td>GRP_49</td>\n",
       "    </tr>\n",
       "  </tbody>\n",
       "</table>\n",
       "<p>8500 rows × 4 columns</p>\n",
       "</div>"
      ],
      "text/plain": [
       "                                      Short description  \\\n",
       "0                                           login issue   \n",
       "1                                               outlook   \n",
       "2                                    cant log in to vpn   \n",
       "3                         unable to access hr_tool page   \n",
       "4                                          skype error    \n",
       "...                                                 ...   \n",
       "8495                  emails not coming in from zz mail   \n",
       "8496                           telephony_software issue   \n",
       "8497  vip2: windows password reset for tifpdchb pedx...   \n",
       "8498                     machine nÃ£o estÃ¡ funcionando   \n",
       "8499  an mehreren pc`s lassen sich verschiedene prgr...   \n",
       "\n",
       "                                            Description             Caller  \\\n",
       "0     -verified user details.(employee# & manager na...  spxjnwir pjlcoqds   \n",
       "1     _x000D_\\n_x000D_\\nreceived from: hmjdrvpb.komu...  hmjdrvpb komuaywn   \n",
       "2     _x000D_\\n_x000D_\\nreceived from: eylqgodm.ybqk...  eylqgodm ybqkwiam   \n",
       "3                         unable to access hr_tool page  xbkucsvz gcpydteq   \n",
       "4                                          skype error   owlgqjme qhcozdfx   \n",
       "...                                                 ...                ...   \n",
       "8495  _x000D_\\n_x000D_\\nreceived from: avglmrts.vhqm...  avglmrts vhqmtiua   \n",
       "8496                           telephony_software issue  rbozivdq gmlhrtvp   \n",
       "8497  vip2: windows password reset for tifpdchb pedx...  oybwdsgx oxyhwrfz   \n",
       "8498  i am unable to access the machine utilities to...  ufawcgob aowhxjky   \n",
       "8499  an mehreren pc`s lassen sich verschiedene prgr...  kqvbrspl jyzoklfx   \n",
       "\n",
       "     Assignment group  \n",
       "0               GRP_0  \n",
       "1               GRP_0  \n",
       "2               GRP_0  \n",
       "3               GRP_0  \n",
       "4               GRP_0  \n",
       "...               ...  \n",
       "8495           GRP_29  \n",
       "8496            GRP_0  \n",
       "8497            GRP_0  \n",
       "8498           GRP_62  \n",
       "8499           GRP_49  \n",
       "\n",
       "[8500 rows x 4 columns]"
      ]
     },
     "execution_count": 65,
     "metadata": {},
     "output_type": "execute_result"
    }
   ],
   "source": [
    "#Reading the excel into data frame\n",
    "df = pd.read_excel('C:\\InputData.xlsx')\n",
    "df"
   ]
  },
  {
   "cell_type": "code",
   "execution_count": 123,
   "metadata": {
    "colab": {
     "base_uri": "https://localhost:8080/"
    },
    "executionInfo": {
     "elapsed": 39,
     "status": "ok",
     "timestamp": 1637422364011,
     "user": {
      "displayName": "shikha sharma",
      "photoUrl": "https://lh3.googleusercontent.com/a-/AOh14Gi7-MZ8BB7Qmx-tZ4fMVMWE32u_g_Wo7RIqAY8HaA=s64",
      "userId": "18236534953658718874"
     },
     "user_tz": -330
    },
    "id": "yxs-ob6LcMfM",
    "outputId": "402597c8-21c1-4447-8781-8f177b1f3cb1"
   },
   "outputs": [
    {
     "data": {
      "text/plain": [
       "array(['GRP_0', 'GRP_1', 'GRP_3', 'GRP_4', 'GRP_5', 'GRP_6', 'GRP_7',\n",
       "       'GRP_8', 'GRP_9', 'GRP_10', 'GRP_11', 'GRP_12', 'GRP_13', 'GRP_14',\n",
       "       'GRP_15', 'GRP_16', 'GRP_17', 'GRP_18', 'GRP_19', 'GRP_2',\n",
       "       'GRP_20', 'GRP_21', 'GRP_22', 'GRP_23', 'GRP_24', 'GRP_25',\n",
       "       'GRP_26', 'GRP_27', 'GRP_28', 'GRP_29', 'GRP_30', 'GRP_31',\n",
       "       'GRP_33', 'GRP_34', 'GRP_35', 'GRP_36', 'GRP_37', 'GRP_38',\n",
       "       'GRP_39', 'GRP_40', 'GRP_41', 'GRP_42', 'GRP_43', 'GRP_44',\n",
       "       'GRP_45', 'GRP_46', 'GRP_47', 'GRP_48', 'GRP_49', 'GRP_50',\n",
       "       'GRP_51', 'GRP_52', 'GRP_53', 'GRP_54', 'GRP_55', 'GRP_56',\n",
       "       'GRP_57', 'GRP_58', 'GRP_59', 'GRP_60', 'GRP_61', 'GRP_32',\n",
       "       'GRP_62', 'GRP_63', 'GRP_64', 'GRP_65', 'GRP_66', 'GRP_67',\n",
       "       'GRP_68', 'GRP_69', 'GRP_70', 'GRP_71', 'GRP_72', 'GRP_73'],\n",
       "      dtype=object)"
      ]
     },
     "execution_count": 123,
     "metadata": {},
     "output_type": "execute_result"
    }
   ],
   "source": [
    "#checking number of assignment groups\n",
    "df['Assignment group'].unique()"
   ]
  },
  {
   "cell_type": "markdown",
   "metadata": {
    "id": "uT5XU5rWcT87"
   },
   "source": [
    "There are total 74 groups"
   ]
  },
  {
   "cell_type": "code",
   "execution_count": 124,
   "metadata": {
    "colab": {
     "base_uri": "https://localhost:8080/",
     "height": 204
    },
    "executionInfo": {
     "elapsed": 29,
     "status": "ok",
     "timestamp": 1637422364018,
     "user": {
      "displayName": "shikha sharma",
      "photoUrl": "https://lh3.googleusercontent.com/a-/AOh14Gi7-MZ8BB7Qmx-tZ4fMVMWE32u_g_Wo7RIqAY8HaA=s64",
      "userId": "18236534953658718874"
     },
     "user_tz": -330
    },
    "id": "JKb3WorLcXWA",
    "outputId": "165cc3e8-98ff-4ef4-c6d2-cde76264d8d5"
   },
   "outputs": [
    {
     "data": {
      "text/html": [
       "<div>\n",
       "<style scoped>\n",
       "    .dataframe tbody tr th:only-of-type {\n",
       "        vertical-align: middle;\n",
       "    }\n",
       "\n",
       "    .dataframe tbody tr th {\n",
       "        vertical-align: top;\n",
       "    }\n",
       "\n",
       "    .dataframe thead th {\n",
       "        text-align: right;\n",
       "    }\n",
       "</style>\n",
       "<table border=\"1\" class=\"dataframe\">\n",
       "  <thead>\n",
       "    <tr style=\"text-align: right;\">\n",
       "      <th></th>\n",
       "      <th>index</th>\n",
       "      <th>Assignment group</th>\n",
       "      <th>percentage</th>\n",
       "    </tr>\n",
       "  </thead>\n",
       "  <tbody>\n",
       "    <tr>\n",
       "      <th>0</th>\n",
       "      <td>GRP_0</td>\n",
       "      <td>3976</td>\n",
       "      <td>46.776471</td>\n",
       "    </tr>\n",
       "    <tr>\n",
       "      <th>1</th>\n",
       "      <td>GRP_8</td>\n",
       "      <td>661</td>\n",
       "      <td>7.776471</td>\n",
       "    </tr>\n",
       "    <tr>\n",
       "      <th>2</th>\n",
       "      <td>GRP_24</td>\n",
       "      <td>289</td>\n",
       "      <td>3.400000</td>\n",
       "    </tr>\n",
       "    <tr>\n",
       "      <th>3</th>\n",
       "      <td>GRP_12</td>\n",
       "      <td>257</td>\n",
       "      <td>3.023529</td>\n",
       "    </tr>\n",
       "    <tr>\n",
       "      <th>4</th>\n",
       "      <td>GRP_9</td>\n",
       "      <td>252</td>\n",
       "      <td>2.964706</td>\n",
       "    </tr>\n",
       "  </tbody>\n",
       "</table>\n",
       "</div>"
      ],
      "text/plain": [
       "    index  Assignment group  percentage\n",
       "0   GRP_0              3976   46.776471\n",
       "1   GRP_8               661    7.776471\n",
       "2  GRP_24               289    3.400000\n",
       "3  GRP_12               257    3.023529\n",
       "4   GRP_9               252    2.964706"
      ]
     },
     "execution_count": 124,
     "metadata": {},
     "output_type": "execute_result"
    }
   ],
   "source": [
    "df_inc = df['Assignment group'].value_counts().reset_index()\n",
    "df_inc['percentage'] = (df_inc['Assignment group']/df_inc['Assignment group'].sum())*100\n",
    "df_inc.head()"
   ]
  },
  {
   "cell_type": "code",
   "execution_count": 125,
   "metadata": {
    "colab": {
     "base_uri": "https://localhost:8080/",
     "height": 414
    },
    "executionInfo": {
     "elapsed": 4343,
     "status": "ok",
     "timestamp": 1637422368334,
     "user": {
      "displayName": "shikha sharma",
      "photoUrl": "https://lh3.googleusercontent.com/a-/AOh14Gi7-MZ8BB7Qmx-tZ4fMVMWE32u_g_Wo7RIqAY8HaA=s64",
      "userId": "18236534953658718874"
     },
     "user_tz": -330
    },
    "id": "JeI6Vlsr9Bdk",
    "outputId": "0c8d97e9-21fc-4e35-c58b-d7136d3e2e40"
   },
   "outputs": [
    {
     "data": {
      "image/png": "[encoded data removed]",
      "text/plain": [
       "<Figure size 1440x360 with 1 Axes>"
      ]
     },
     "metadata": {},
     "output_type": "display_data"
    }
   ],
   "source": [
    "# Plot to visualize the percentage data distribution across different groups\n",
    "sns.set(style=\"darkgrid\")\n",
    "plt.figure(figsize=(20,5))\n",
    "ax = sns.countplot(x=\"Assignment group\", data=df, order=df[\"Assignment group\"].value_counts().index)\n",
    "ax.set_xticklabels(ax.get_xticklabels(), rotation=90)\n",
    "for p in ax.patches:\n",
    "  ax.annotate(str(format(p.get_height()/len(df.index)*100, '.2f')+\"%\"), (p.get_x() + p.get_width() / 2., p.get_height()), ha = 'center', va = 'bottom', rotation=90, xytext = (0, 10), textcoords = 'offset points')\n",
    "#augmentation"
   ]
  },
  {
   "cell_type": "markdown",
   "metadata": {
    "id": "8bh5Izv0cjIl"
   },
   "source": [
    "Checking the most repeated top 10 groups"
   ]
  },
  {
   "cell_type": "code",
   "execution_count": 126,
   "metadata": {
    "colab": {
     "base_uri": "https://localhost:8080/",
     "height": 359
    },
    "executionInfo": {
     "elapsed": 446,
     "status": "ok",
     "timestamp": 1637422368337,
     "user": {
      "displayName": "shikha sharma",
      "photoUrl": "https://lh3.googleusercontent.com/a-/AOh14Gi7-MZ8BB7Qmx-tZ4fMVMWE32u_g_Wo7RIqAY8HaA=s64",
      "userId": "18236534953658718874"
     },
     "user_tz": -330
    },
    "id": "hIOLE0hKcsp5",
    "outputId": "9f767629-2c19-417c-a9f9-e8fa2aa5861a"
   },
   "outputs": [
    {
     "data": {
      "text/html": [
       "<div>\n",
       "<style scoped>\n",
       "    .dataframe tbody tr th:only-of-type {\n",
       "        vertical-align: middle;\n",
       "    }\n",
       "\n",
       "    .dataframe tbody tr th {\n",
       "        vertical-align: top;\n",
       "    }\n",
       "\n",
       "    .dataframe thead th {\n",
       "        text-align: right;\n",
       "    }\n",
       "</style>\n",
       "<table border=\"1\" class=\"dataframe\">\n",
       "  <thead>\n",
       "    <tr style=\"text-align: right;\">\n",
       "      <th></th>\n",
       "      <th>index</th>\n",
       "      <th>Assignment group</th>\n",
       "    </tr>\n",
       "  </thead>\n",
       "  <tbody>\n",
       "    <tr>\n",
       "      <th>0</th>\n",
       "      <td>GRP_0</td>\n",
       "      <td>3976</td>\n",
       "    </tr>\n",
       "    <tr>\n",
       "      <th>1</th>\n",
       "      <td>GRP_8</td>\n",
       "      <td>661</td>\n",
       "    </tr>\n",
       "    <tr>\n",
       "      <th>2</th>\n",
       "      <td>GRP_24</td>\n",
       "      <td>289</td>\n",
       "    </tr>\n",
       "    <tr>\n",
       "      <th>3</th>\n",
       "      <td>GRP_12</td>\n",
       "      <td>257</td>\n",
       "    </tr>\n",
       "    <tr>\n",
       "      <th>4</th>\n",
       "      <td>GRP_9</td>\n",
       "      <td>252</td>\n",
       "    </tr>\n",
       "    <tr>\n",
       "      <th>5</th>\n",
       "      <td>GRP_2</td>\n",
       "      <td>241</td>\n",
       "    </tr>\n",
       "    <tr>\n",
       "      <th>6</th>\n",
       "      <td>GRP_19</td>\n",
       "      <td>215</td>\n",
       "    </tr>\n",
       "    <tr>\n",
       "      <th>7</th>\n",
       "      <td>GRP_3</td>\n",
       "      <td>200</td>\n",
       "    </tr>\n",
       "    <tr>\n",
       "      <th>8</th>\n",
       "      <td>GRP_6</td>\n",
       "      <td>184</td>\n",
       "    </tr>\n",
       "    <tr>\n",
       "      <th>9</th>\n",
       "      <td>GRP_13</td>\n",
       "      <td>145</td>\n",
       "    </tr>\n",
       "  </tbody>\n",
       "</table>\n",
       "</div>"
      ],
      "text/plain": [
       "    index  Assignment group\n",
       "0   GRP_0              3976\n",
       "1   GRP_8               661\n",
       "2  GRP_24               289\n",
       "3  GRP_12               257\n",
       "4   GRP_9               252\n",
       "5   GRP_2               241\n",
       "6  GRP_19               215\n",
       "7   GRP_3               200\n",
       "8   GRP_6               184\n",
       "9  GRP_13               145"
      ]
     },
     "execution_count": 126,
     "metadata": {},
     "output_type": "execute_result"
    }
   ],
   "source": [
    "df_top_10 = df['Assignment group'].value_counts().nlargest(10).reset_index()\n",
    "df_top_10"
   ]
  },
  {
   "cell_type": "code",
   "execution_count": null,
   "metadata": {},
   "outputs": [],
   "source": []
  },
  {
   "cell_type": "markdown",
   "metadata": {
    "id": "N4rRxKTSc1QX"
   },
   "source": [
    "Checking the last 10 assignment groups"
   ]
  },
  {
   "cell_type": "code",
   "execution_count": 127,
   "metadata": {
    "colab": {
     "base_uri": "https://localhost:8080/",
     "height": 359
    },
    "executionInfo": {
     "elapsed": 445,
     "status": "ok",
     "timestamp": 1637422368339,
     "user": {
      "displayName": "shikha sharma",
      "photoUrl": "https://lh3.googleusercontent.com/a-/AOh14Gi7-MZ8BB7Qmx-tZ4fMVMWE32u_g_Wo7RIqAY8HaA=s64",
      "userId": "18236534953658718874"
     },
     "user_tz": -330
    },
    "id": "jIyFMAa1c4bG",
    "outputId": "46af4245-8afd-4b51-ea86-23b8dcfe95f6"
   },
   "outputs": [
    {
     "data": {
      "text/html": [
       "<div>\n",
       "<style scoped>\n",
       "    .dataframe tbody tr th:only-of-type {\n",
       "        vertical-align: middle;\n",
       "    }\n",
       "\n",
       "    .dataframe tbody tr th {\n",
       "        vertical-align: top;\n",
       "    }\n",
       "\n",
       "    .dataframe thead th {\n",
       "        text-align: right;\n",
       "    }\n",
       "</style>\n",
       "<table border=\"1\" class=\"dataframe\">\n",
       "  <thead>\n",
       "    <tr style=\"text-align: right;\">\n",
       "      <th></th>\n",
       "      <th>index</th>\n",
       "      <th>Assignment group</th>\n",
       "    </tr>\n",
       "  </thead>\n",
       "  <tbody>\n",
       "    <tr>\n",
       "      <th>0</th>\n",
       "      <td>GRP_61</td>\n",
       "      <td>1</td>\n",
       "    </tr>\n",
       "    <tr>\n",
       "      <th>1</th>\n",
       "      <td>GRP_64</td>\n",
       "      <td>1</td>\n",
       "    </tr>\n",
       "    <tr>\n",
       "      <th>2</th>\n",
       "      <td>GRP_67</td>\n",
       "      <td>1</td>\n",
       "    </tr>\n",
       "    <tr>\n",
       "      <th>3</th>\n",
       "      <td>GRP_35</td>\n",
       "      <td>1</td>\n",
       "    </tr>\n",
       "    <tr>\n",
       "      <th>4</th>\n",
       "      <td>GRP_70</td>\n",
       "      <td>1</td>\n",
       "    </tr>\n",
       "    <tr>\n",
       "      <th>5</th>\n",
       "      <td>GRP_73</td>\n",
       "      <td>1</td>\n",
       "    </tr>\n",
       "    <tr>\n",
       "      <th>6</th>\n",
       "      <td>GRP_57</td>\n",
       "      <td>2</td>\n",
       "    </tr>\n",
       "    <tr>\n",
       "      <th>7</th>\n",
       "      <td>GRP_54</td>\n",
       "      <td>2</td>\n",
       "    </tr>\n",
       "    <tr>\n",
       "      <th>8</th>\n",
       "      <td>GRP_69</td>\n",
       "      <td>2</td>\n",
       "    </tr>\n",
       "    <tr>\n",
       "      <th>9</th>\n",
       "      <td>GRP_71</td>\n",
       "      <td>2</td>\n",
       "    </tr>\n",
       "  </tbody>\n",
       "</table>\n",
       "</div>"
      ],
      "text/plain": [
       "    index  Assignment group\n",
       "0  GRP_61                 1\n",
       "1  GRP_64                 1\n",
       "2  GRP_67                 1\n",
       "3  GRP_35                 1\n",
       "4  GRP_70                 1\n",
       "5  GRP_73                 1\n",
       "6  GRP_57                 2\n",
       "7  GRP_54                 2\n",
       "8  GRP_69                 2\n",
       "9  GRP_71                 2"
      ]
     },
     "execution_count": 127,
     "metadata": {},
     "output_type": "execute_result"
    }
   ],
   "source": [
    "df_bottom_10 = df['Assignment group'].value_counts().nsmallest(10).reset_index()\n",
    "df_bottom_10"
   ]
  },
  {
   "cell_type": "markdown",
   "metadata": {
    "id": "xJfnb-JRdJ0r"
   },
   "source": [
    "Checking the distirbution"
   ]
  },
  {
   "cell_type": "code",
   "execution_count": 128,
   "metadata": {
    "colab": {
     "base_uri": "https://localhost:8080/",
     "height": 142
    },
    "executionInfo": {
     "elapsed": 445,
     "status": "ok",
     "timestamp": 1637422368341,
     "user": {
      "displayName": "shikha sharma",
      "photoUrl": "https://lh3.googleusercontent.com/a-/AOh14Gi7-MZ8BB7Qmx-tZ4fMVMWE32u_g_Wo7RIqAY8HaA=s64",
      "userId": "18236534953658718874"
     },
     "user_tz": -330
    },
    "id": "dC3EVB4_dMHA",
    "outputId": "efb3a53a-821a-4297-a2ef-23bcd6e62fc9"
   },
   "outputs": [
    {
     "data": {
      "text/html": [
       "<div>\n",
       "<style scoped>\n",
       "    .dataframe tbody tr th:only-of-type {\n",
       "        vertical-align: middle;\n",
       "    }\n",
       "\n",
       "    .dataframe tbody tr th {\n",
       "        vertical-align: top;\n",
       "    }\n",
       "\n",
       "    .dataframe thead th {\n",
       "        text-align: right;\n",
       "    }\n",
       "</style>\n",
       "<table border=\"1\" class=\"dataframe\">\n",
       "  <thead>\n",
       "    <tr style=\"text-align: right;\">\n",
       "      <th></th>\n",
       "      <th>Description</th>\n",
       "      <th>Ticket Count</th>\n",
       "    </tr>\n",
       "  </thead>\n",
       "  <tbody>\n",
       "    <tr>\n",
       "      <th>0</th>\n",
       "      <td>1-50 ticket</td>\n",
       "      <td>44</td>\n",
       "    </tr>\n",
       "    <tr>\n",
       "      <th>1</th>\n",
       "      <td>51-100 ticket</td>\n",
       "      <td>9</td>\n",
       "    </tr>\n",
       "    <tr>\n",
       "      <th>2</th>\n",
       "      <td>&gt;100 ticket</td>\n",
       "      <td>15</td>\n",
       "    </tr>\n",
       "  </tbody>\n",
       "</table>\n",
       "</div>"
      ],
      "text/plain": [
       "      Description Ticket Count\n",
       "0     1-50 ticket           44\n",
       "1   51-100 ticket            9\n",
       "2     >100 ticket           15"
      ]
     },
     "execution_count": 128,
     "metadata": {},
     "output_type": "execute_result"
    }
   ],
   "source": [
    "df_bins = pd.DataFrame(columns=['Description','Ticket Count'])\n",
    "_1_50_ticket = {'Description':' 1-50 ticket',\n",
    "              'Ticket Count':len(df_inc[(df_inc['Assignment group'] > 1)& (df_inc['Assignment group'] < 51)])}\n",
    "_51_100_ticket = {'Description':' 51-100 ticket',\n",
    "              'Ticket Count':len(df_inc[(df_inc['Assignment group'] > 50)& (df_inc['Assignment group'] < 101)])}\n",
    "_100_ticket = {'Description':' >100 ticket',\n",
    "              'Ticket Count':len(df_inc[(df_inc['Assignment group'] > 100)])}\n",
    "#append row to the dataframe\n",
    "df_bins = df_bins.append([_1_50_ticket,_51_100_ticket,_100_ticket], ignore_index=True)\n",
    "\n",
    "df_bins\n"
   ]
  },
  {
   "cell_type": "code",
   "execution_count": 129,
   "metadata": {
    "colab": {
     "base_uri": "https://localhost:8080/",
     "height": 486
    },
    "executionInfo": {
     "elapsed": 445,
     "status": "ok",
     "timestamp": 1637422368342,
     "user": {
      "displayName": "shikha sharma",
      "photoUrl": "https://lh3.googleusercontent.com/a-/AOh14Gi7-MZ8BB7Qmx-tZ4fMVMWE32u_g_Wo7RIqAY8HaA=s64",
      "userId": "18236534953658718874"
     },
     "user_tz": -330
    },
    "id": "tCTgBve24Yx5",
    "outputId": "e429b5bd-4ed6-48ac-e675-1dabcc56ebd2"
   },
   "outputs": [
    {
     "data": {
      "image/png": "[encoded data removed]",
      "text/plain": [
       "<Figure size 720x576 with 1 Axes>"
      ]
     },
     "metadata": {},
     "output_type": "display_data"
    }
   ],
   "source": [
    "plt.figure(figsize=(10, 8))\n",
    "plt.pie(df_bins['Ticket Count'],labels=df_bins['Description'],autopct='%1.1f%%', startangle=15);\n",
    "plt.title('Assignment Groups Distribution')\n",
    "plt.axis('equal');"
   ]
  },
  {
   "cell_type": "code",
   "execution_count": 130,
   "metadata": {
    "colab": {
     "base_uri": "https://localhost:8080/"
    },
    "executionInfo": {
     "elapsed": 444,
     "status": "ok",
     "timestamp": 1637422368343,
     "user": {
      "displayName": "shikha sharma",
      "photoUrl": "https://lh3.googleusercontent.com/a-/AOh14Gi7-MZ8BB7Qmx-tZ4fMVMWE32u_g_Wo7RIqAY8HaA=s64",
      "userId": "18236534953658718874"
     },
     "user_tz": -330
    },
    "id": "ApdOqLvfUVFH",
    "outputId": "90391c89-8349-4b6e-9970-16d64e022ac2"
   },
   "outputs": [
    {
     "data": {
      "text/plain": [
       "Short description      8\n",
       "Description            0\n",
       "Caller                 0\n",
       "Assignment group       0\n",
       "language               0\n",
       "English_Description    0\n",
       "dtype: int64"
      ]
     },
     "execution_count": 130,
     "metadata": {},
     "output_type": "execute_result"
    }
   ],
   "source": [
    "#checking the null values\n",
    "df.isnull().sum()"
   ]
  },
  {
   "cell_type": "code",
   "execution_count": 131,
   "metadata": {
    "colab": {
     "base_uri": "https://localhost:8080/",
     "height": 80
    },
    "executionInfo": {
     "elapsed": 432,
     "status": "ok",
     "timestamp": 1637422368343,
     "user": {
      "displayName": "shikha sharma",
      "photoUrl": "https://lh3.googleusercontent.com/a-/AOh14Gi7-MZ8BB7Qmx-tZ4fMVMWE32u_g_Wo7RIqAY8HaA=s64",
      "userId": "18236534953658718874"
     },
     "user_tz": -330
    },
    "id": "WT190YxxPHcN",
    "outputId": "1ed04f10-f81c-4a6c-fee2-404076a9d413"
   },
   "outputs": [
    {
     "data": {
      "text/html": [
       "<div>\n",
       "<style scoped>\n",
       "    .dataframe tbody tr th:only-of-type {\n",
       "        vertical-align: middle;\n",
       "    }\n",
       "\n",
       "    .dataframe tbody tr th {\n",
       "        vertical-align: top;\n",
       "    }\n",
       "\n",
       "    .dataframe thead th {\n",
       "        text-align: right;\n",
       "    }\n",
       "</style>\n",
       "<table border=\"1\" class=\"dataframe\">\n",
       "  <thead>\n",
       "    <tr style=\"text-align: right;\">\n",
       "      <th></th>\n",
       "      <th>Short description</th>\n",
       "      <th>Description</th>\n",
       "      <th>Caller</th>\n",
       "      <th>Assignment group</th>\n",
       "      <th>language</th>\n",
       "      <th>English_Description</th>\n",
       "    </tr>\n",
       "  </thead>\n",
       "  <tbody>\n",
       "  </tbody>\n",
       "</table>\n",
       "</div>"
      ],
      "text/plain": [
       "Empty DataFrame\n",
       "Columns: [Short description, Description, Caller, Assignment group, language, English_Description]\n",
       "Index: []"
      ]
     },
     "execution_count": 131,
     "metadata": {},
     "output_type": "execute_result"
    }
   ],
   "source": [
    "#Checking the value of null\n",
    "df[df['Description'].isnull()]"
   ]
  },
  {
   "cell_type": "code",
   "execution_count": 132,
   "metadata": {
    "executionInfo": {
     "elapsed": 432,
     "status": "ok",
     "timestamp": 1637422368344,
     "user": {
      "displayName": "shikha sharma",
      "photoUrl": "https://lh3.googleusercontent.com/a-/AOh14Gi7-MZ8BB7Qmx-tZ4fMVMWE32u_g_Wo7RIqAY8HaA=s64",
      "userId": "18236534953658718874"
     },
     "user_tz": -330
    },
    "id": "AuMZ3vbML-_S"
   },
   "outputs": [],
   "source": [
    "#Replacing the null value with the short description value\n",
    "df=df.replace({'Description':np.NaN},df[df['Short description']=='i am locked out of skype']['Short description'].to_string().split(maxsplit=1)[1])"
   ]
  },
  {
   "cell_type": "code",
   "execution_count": 133,
   "metadata": {
    "colab": {
     "base_uri": "https://localhost:8080/"
    },
    "executionInfo": {
     "elapsed": 433,
     "status": "ok",
     "timestamp": 1637422368346,
     "user": {
      "displayName": "shikha sharma",
      "photoUrl": "https://lh3.googleusercontent.com/a-/AOh14Gi7-MZ8BB7Qmx-tZ4fMVMWE32u_g_Wo7RIqAY8HaA=s64",
      "userId": "18236534953658718874"
     },
     "user_tz": -330
    },
    "id": "BfYVguY9I1Mq",
    "outputId": "c9d9c4f1-cd40-441e-bcb8-e18496fe854d"
   },
   "outputs": [
    {
     "data": {
      "text/plain": [
       "Short description      i am locked out of skype\n",
       "Description            i am locked out of skype\n",
       "Caller                        viyglzfo ajtfzpkb\n",
       "Assignment group                          GRP_0\n",
       "language                                     en\n",
       "English_Description    i am locked out of skype\n",
       "Name: 4395, dtype: object"
      ]
     },
     "execution_count": 133,
     "metadata": {},
     "output_type": "execute_result"
    }
   ],
   "source": [
    "#Checking if the value is actually replaced or not\n",
    "df.iloc[4395]"
   ]
  },
  {
   "cell_type": "code",
   "execution_count": 134,
   "metadata": {
    "colab": {
     "base_uri": "https://localhost:8080/"
    },
    "executionInfo": {
     "elapsed": 448,
     "status": "ok",
     "timestamp": 1637422368366,
     "user": {
      "displayName": "shikha sharma",
      "photoUrl": "https://lh3.googleusercontent.com/a-/AOh14Gi7-MZ8BB7Qmx-tZ4fMVMWE32u_g_Wo7RIqAY8HaA=s64",
      "userId": "18236534953658718874"
     },
     "user_tz": -330
    },
    "id": "8DZSXXqSPfBa",
    "outputId": "904d53f4-fe0a-4bf7-ef45-da86bc04d5db"
   },
   "outputs": [
    {
     "data": {
      "text/plain": [
       "Short description      8\n",
       "Description            0\n",
       "Caller                 0\n",
       "Assignment group       0\n",
       "language               0\n",
       "English_Description    0\n",
       "dtype: int64"
      ]
     },
     "execution_count": 134,
     "metadata": {},
     "output_type": "execute_result"
    }
   ],
   "source": [
    "#Checking for the null values\n",
    "df.isnull().sum()"
   ]
  },
  {
   "cell_type": "markdown",
   "metadata": {
    "id": "UTSvpHWjPnzj"
   },
   "source": [
    "Since we are mostly concerend with the description letting the short description null values be for  a moment"
   ]
  },
  {
   "cell_type": "code",
   "execution_count": 135,
   "metadata": {
    "executionInfo": {
     "elapsed": 441,
     "status": "ok",
     "timestamp": 1637422368367,
     "user": {
      "displayName": "shikha sharma",
      "photoUrl": "https://lh3.googleusercontent.com/a-/AOh14Gi7-MZ8BB7Qmx-tZ4fMVMWE32u_g_Wo7RIqAY8HaA=s64",
      "userId": "18236534953658718874"
     },
     "user_tz": -330
    },
    "id": "jdNZz_goI3T6"
   },
   "outputs": [],
   "source": [
    "feature_df = df.filter(['Description','Assignment group'], axis=1)"
   ]
  },
  {
   "cell_type": "code",
   "execution_count": 136,
   "metadata": {
    "colab": {
     "base_uri": "https://localhost:8080/",
     "height": 204
    },
    "executionInfo": {
     "elapsed": 455,
     "status": "ok",
     "timestamp": 1637422368382,
     "user": {
      "displayName": "shikha sharma",
      "photoUrl": "https://lh3.googleusercontent.com/a-/AOh14Gi7-MZ8BB7Qmx-tZ4fMVMWE32u_g_Wo7RIqAY8HaA=s64",
      "userId": "18236534953658718874"
     },
     "user_tz": -330
    },
    "id": "em2LcZJ3SP5L",
    "outputId": "da619e68-ac4e-47cd-871a-43610d4300a7"
   },
   "outputs": [
    {
     "data": {
      "text/html": [
       "<div>\n",
       "<style scoped>\n",
       "    .dataframe tbody tr th:only-of-type {\n",
       "        vertical-align: middle;\n",
       "    }\n",
       "\n",
       "    .dataframe tbody tr th {\n",
       "        vertical-align: top;\n",
       "    }\n",
       "\n",
       "    .dataframe thead th {\n",
       "        text-align: right;\n",
       "    }\n",
       "</style>\n",
       "<table border=\"1\" class=\"dataframe\">\n",
       "  <thead>\n",
       "    <tr style=\"text-align: right;\">\n",
       "      <th></th>\n",
       "      <th>Description</th>\n",
       "      <th>Assignment group</th>\n",
       "      <th>word_count</th>\n",
       "    </tr>\n",
       "  </thead>\n",
       "  <tbody>\n",
       "    <tr>\n",
       "      <th>5124</th>\n",
       "      <td>the well-established work orders has been repo...</td>\n",
       "      <td>GRP_25</td>\n",
       "      <td>32</td>\n",
       "    </tr>\n",
       "    <tr>\n",
       "      <th>4143</th>\n",
       "      <td>so# 35035632 is set up to ship 2nd day air whi...</td>\n",
       "      <td>GRP_18</td>\n",
       "      <td>63</td>\n",
       "    </tr>\n",
       "    <tr>\n",
       "      <th>7857</th>\n",
       "      <td>hi team, i need your help to reinstall antivir...</td>\n",
       "      <td>GRP_50</td>\n",
       "      <td>27</td>\n",
       "    </tr>\n",
       "    <tr>\n",
       "      <th>7089</th>\n",
       "      <td>skype does not open.</td>\n",
       "      <td>GRP_0</td>\n",
       "      <td>4</td>\n",
       "    </tr>\n",
       "    <tr>\n",
       "      <th>6741</th>\n",
       "      <td>monitor orientation error</td>\n",
       "      <td>GRP_0</td>\n",
       "      <td>3</td>\n",
       "    </tr>\n",
       "    <tr>\n",
       "      <th>5590</th>\n",
       "      <td>erp SID_34 account locked</td>\n",
       "      <td>GRP_0</td>\n",
       "      <td>4</td>\n",
       "    </tr>\n",
       "    <tr>\n",
       "      <th>5195</th>\n",
       "      <td>windows password reset</td>\n",
       "      <td>GRP_0</td>\n",
       "      <td>3</td>\n",
       "    </tr>\n",
       "    <tr>\n",
       "      <th>1522</th>\n",
       "      <td>ticket update for-inplant_866222</td>\n",
       "      <td>GRP_0</td>\n",
       "      <td>3</td>\n",
       "    </tr>\n",
       "    <tr>\n",
       "      <th>8300</th>\n",
       "      <td>i connected through vpn to look up information...</td>\n",
       "      <td>GRP_0</td>\n",
       "      <td>28</td>\n",
       "    </tr>\n",
       "    <tr>\n",
       "      <th>275</th>\n",
       "      <td>_x000D_\\n_x000D_\\nreceived from: tfnzwycd.bico...</td>\n",
       "      <td>GRP_0</td>\n",
       "      <td>30</td>\n",
       "    </tr>\n",
       "    <tr>\n",
       "      <th>3345</th>\n",
       "      <td>inquiry on erp status- unable to access ess po...</td>\n",
       "      <td>GRP_0</td>\n",
       "      <td>9</td>\n",
       "    </tr>\n",
       "    <tr>\n",
       "      <th>5112</th>\n",
       "      <td>name:ilypdtno mkdfetuq_x000D_\\nlanguage:_x000D...</td>\n",
       "      <td>GRP_0</td>\n",
       "      <td>14</td>\n",
       "    </tr>\n",
       "    <tr>\n",
       "      <th>1332</th>\n",
       "      <td>what type of outage:  __x___network     _____c...</td>\n",
       "      <td>GRP_8</td>\n",
       "      <td>153</td>\n",
       "    </tr>\n",
       "    <tr>\n",
       "      <th>412</th>\n",
       "      <td>cannot print to prtqx1270 under my profile on ...</td>\n",
       "      <td>GRP_3</td>\n",
       "      <td>9</td>\n",
       "    </tr>\n",
       "    <tr>\n",
       "      <th>5604</th>\n",
       "      <td>_x000D_\\n_x000D_\\nreceived from: vciknubg.wdlk...</td>\n",
       "      <td>GRP_14</td>\n",
       "      <td>37</td>\n",
       "    </tr>\n",
       "  </tbody>\n",
       "</table>\n",
       "</div>"
      ],
      "text/plain": [
       "                                            Description Assignment group  \\\n",
       "5124  the well-established work orders has been repo...           GRP_25   \n",
       "4143  so# 35035632 is set up to ship 2nd day air whi...           GRP_18   \n",
       "7857  hi team, i need your help to reinstall antivir...           GRP_50   \n",
       "7089                               skype does not open.            GRP_0   \n",
       "6741                          monitor orientation error            GRP_0   \n",
       "5590                         erp SID_34 account locked             GRP_0   \n",
       "5195                             windows password reset            GRP_0   \n",
       "1522                   ticket update for-inplant_866222            GRP_0   \n",
       "8300  i connected through vpn to look up information...            GRP_0   \n",
       "275   _x000D_\\n_x000D_\\nreceived from: tfnzwycd.bico...            GRP_0   \n",
       "3345  inquiry on erp status- unable to access ess po...            GRP_0   \n",
       "5112  name:ilypdtno mkdfetuq_x000D_\\nlanguage:_x000D...            GRP_0   \n",
       "1332  what type of outage:  __x___network     _____c...            GRP_8   \n",
       "412   cannot print to prtqx1270 under my profile on ...            GRP_3   \n",
       "5604  _x000D_\\n_x000D_\\nreceived from: vciknubg.wdlk...           GRP_14   \n",
       "\n",
       "      word_count  \n",
       "5124          32  \n",
       "4143          63  \n",
       "7857          27  \n",
       "7089           4  \n",
       "6741           3  \n",
       "5590           4  \n",
       "5195           3  \n",
       "1522           3  \n",
       "8300          28  \n",
       "275           30  \n",
       "3345           9  \n",
       "5112          14  \n",
       "1332         153  \n",
       "412            9  \n",
       "5604          37  "
      ]
     },
     "execution_count": 136,
     "metadata": {},
     "output_type": "execute_result"
    }
   ],
   "source": [
    "#caluclating the word count\n",
    "feature_df['word_count']=df['Description'].apply(lambda x:len(str(x).split()))\n",
    "#printing 5 sample values\n",
    "feature_df.sample(15)"
   ]
  },
  {
   "cell_type": "code",
   "execution_count": 137,
   "metadata": {
    "colab": {
     "base_uri": "https://localhost:8080/",
     "height": 80
    },
    "executionInfo": {
     "elapsed": 465,
     "status": "ok",
     "timestamp": 1637422368393,
     "user": {
      "displayName": "shikha sharma",
      "photoUrl": "https://lh3.googleusercontent.com/a-/AOh14Gi7-MZ8BB7Qmx-tZ4fMVMWE32u_g_Wo7RIqAY8HaA=s64",
      "userId": "18236534953658718874"
     },
     "user_tz": -330
    },
    "id": "uwuRn4ZRTh7b",
    "outputId": "833d5072-501d-4c1d-d056-0c8a970a8a36"
   },
   "outputs": [
    {
     "data": {
      "text/html": [
       "<div>\n",
       "<style scoped>\n",
       "    .dataframe tbody tr th:only-of-type {\n",
       "        vertical-align: middle;\n",
       "    }\n",
       "\n",
       "    .dataframe tbody tr th {\n",
       "        vertical-align: top;\n",
       "    }\n",
       "\n",
       "    .dataframe thead th {\n",
       "        text-align: right;\n",
       "    }\n",
       "</style>\n",
       "<table border=\"1\" class=\"dataframe\">\n",
       "  <thead>\n",
       "    <tr style=\"text-align: right;\">\n",
       "      <th></th>\n",
       "      <th>Description</th>\n",
       "      <th>Assignment group</th>\n",
       "      <th>word_count</th>\n",
       "    </tr>\n",
       "  </thead>\n",
       "  <tbody>\n",
       "    <tr>\n",
       "      <th>7345</th>\n",
       "      <td>we are seeing activity indicating the host at ...</td>\n",
       "      <td>GRP_2</td>\n",
       "      <td>1657</td>\n",
       "    </tr>\n",
       "  </tbody>\n",
       "</table>\n",
       "</div>"
      ],
      "text/plain": [
       "                                            Description Assignment group  \\\n",
       "7345  we are seeing activity indicating the host at ...            GRP_2   \n",
       "\n",
       "      word_count  \n",
       "7345        1657  "
      ]
     },
     "execution_count": 137,
     "metadata": {},
     "output_type": "execute_result"
    }
   ],
   "source": [
    "# Displaying the row with Maximum word counts\n",
    "feature_df[feature_df['word_count']==feature_df['word_count'].max()]\n"
   ]
  },
  {
   "cell_type": "code",
   "execution_count": 138,
   "metadata": {
    "colab": {
     "base_uri": "https://localhost:8080/",
     "height": 111
    },
    "executionInfo": {
     "elapsed": 468,
     "status": "ok",
     "timestamp": 1637422368397,
     "user": {
      "displayName": "shikha sharma",
      "photoUrl": "https://lh3.googleusercontent.com/a-/AOh14Gi7-MZ8BB7Qmx-tZ4fMVMWE32u_g_Wo7RIqAY8HaA=s64",
      "userId": "18236534953658718874"
     },
     "user_tz": -330
    },
    "id": "MAgDMB2kToDv",
    "outputId": "3187212c-c530-4dcd-dc23-4f77dd888fb5"
   },
   "outputs": [
    {
     "data": {
      "text/html": [
       "<div>\n",
       "<style scoped>\n",
       "    .dataframe tbody tr th:only-of-type {\n",
       "        vertical-align: middle;\n",
       "    }\n",
       "\n",
       "    .dataframe tbody tr th {\n",
       "        vertical-align: top;\n",
       "    }\n",
       "\n",
       "    .dataframe thead th {\n",
       "        text-align: right;\n",
       "    }\n",
       "</style>\n",
       "<table border=\"1\" class=\"dataframe\">\n",
       "  <thead>\n",
       "    <tr style=\"text-align: right;\">\n",
       "      <th></th>\n",
       "      <th>Description</th>\n",
       "      <th>Assignment group</th>\n",
       "      <th>word_count</th>\n",
       "    </tr>\n",
       "  </thead>\n",
       "  <tbody>\n",
       "    <tr>\n",
       "      <th>276</th>\n",
       "      <td>outlookæ”¶åˆ°ç®±ä¸­folderå˜ä¸ºæ¯å¤©ä¸€ä¸ªfol...</td>\n",
       "      <td>GRP_30</td>\n",
       "      <td>1</td>\n",
       "    </tr>\n",
       "    <tr>\n",
       "      <th>415</th>\n",
       "      <td>complete</td>\n",
       "      <td>GRP_17</td>\n",
       "      <td>1</td>\n",
       "    </tr>\n",
       "    <tr>\n",
       "      <th>416</th>\n",
       "      <td>completed</td>\n",
       "      <td>GRP_0</td>\n",
       "      <td>1</td>\n",
       "    </tr>\n",
       "    <tr>\n",
       "      <th>608</th>\n",
       "      <td>funktionsstÃ¶rung</td>\n",
       "      <td>GRP_33</td>\n",
       "      <td>1</td>\n",
       "    </tr>\n",
       "    <tr>\n",
       "      <th>618</th>\n",
       "      <td>æ‰“å¼€outlookæ—¶ï¼Œæ˜¾ç¤ºoutlook.ostæ–‡ä»¶é”™è...</td>\n",
       "      <td>GRP_0</td>\n",
       "      <td>1</td>\n",
       "    </tr>\n",
       "    <tr>\n",
       "      <th>...</th>\n",
       "      <td>...</td>\n",
       "      <td>...</td>\n",
       "      <td>...</td>\n",
       "    </tr>\n",
       "    <tr>\n",
       "      <th>8059</th>\n",
       "      <td>the</td>\n",
       "      <td>GRP_17</td>\n",
       "      <td>1</td>\n",
       "    </tr>\n",
       "    <tr>\n",
       "      <th>8092</th>\n",
       "      <td>the</td>\n",
       "      <td>GRP_17</td>\n",
       "      <td>1</td>\n",
       "    </tr>\n",
       "    <tr>\n",
       "      <th>8093</th>\n",
       "      <td>the</td>\n",
       "      <td>GRP_17</td>\n",
       "      <td>1</td>\n",
       "    </tr>\n",
       "    <tr>\n",
       "      <th>8168</th>\n",
       "      <td>the</td>\n",
       "      <td>GRP_17</td>\n",
       "      <td>1</td>\n",
       "    </tr>\n",
       "    <tr>\n",
       "      <th>8266</th>\n",
       "      <td>è¿›è¡Œé‡‡è´­æ—¶æ˜¾ç¤º\"æ‰¾ä¸åˆ°å‘˜å·¥111115483...</td>\n",
       "      <td>GRP_30</td>\n",
       "      <td>1</td>\n",
       "    </tr>\n",
       "  </tbody>\n",
       "</table>\n",
       "<p>98 rows × 3 columns</p>\n",
       "</div>"
      ],
      "text/plain": [
       "                                            Description Assignment group  \\\n",
       "276   outlookæ”¶åˆ°ç®±ä¸­folderå˜ä¸ºæ¯å¤©ä¸€ä¸ªfol...           GRP_30   \n",
       "415                                            complete           GRP_17   \n",
       "416                                           completed            GRP_0   \n",
       "608                                   funktionsstÃ¶rung           GRP_33   \n",
       "618   æ‰“å¼€outlookæ—¶ï¼Œæ˜¾ç¤ºoutlook.ostæ–‡ä»¶é”™è...            GRP_0   \n",
       "...                                                 ...              ...   \n",
       "8059                                                the           GRP_17   \n",
       "8092                                                the           GRP_17   \n",
       "8093                                                the           GRP_17   \n",
       "8168                                                the           GRP_17   \n",
       "8266  è¿›è¡Œé‡‡è´­æ—¶æ˜¾ç¤º\"æ‰¾ä¸åˆ°å‘˜å·¥111115483...           GRP_30   \n",
       "\n",
       "      word_count  \n",
       "276            1  \n",
       "415            1  \n",
       "416            1  \n",
       "608            1  \n",
       "618            1  \n",
       "...          ...  \n",
       "8059           1  \n",
       "8092           1  \n",
       "8093           1  \n",
       "8168           1  \n",
       "8266           1  \n",
       "\n",
       "[98 rows x 3 columns]"
      ]
     },
     "execution_count": 138,
     "metadata": {},
     "output_type": "execute_result"
    }
   ],
   "source": [
    "# Dispalying rows with minimum word count\n",
    "feature_df[feature_df['word_count']==feature_df['word_count'].min()]"
   ]
  },
  {
   "cell_type": "code",
   "execution_count": 139,
   "metadata": {
    "executionInfo": {
     "elapsed": 493,
     "status": "ok",
     "timestamp": 1637422368437,
     "user": {
      "displayName": "shikha sharma",
      "photoUrl": "https://lh3.googleusercontent.com/a-/AOh14Gi7-MZ8BB7Qmx-tZ4fMVMWE32u_g_Wo7RIqAY8HaA=s64",
      "userId": "18236534953658718874"
     },
     "user_tz": -330
    },
    "id": "wNB9SSeolkPx"
   },
   "outputs": [],
   "source": [
    "#Method to caluclate no of characters available in sentence\n",
    "def char_counts(x):\n",
    "  s=x.split()\n",
    "  x=''.join(s)\n",
    "  return len(x)\n"
   ]
  },
  {
   "cell_type": "code",
   "execution_count": 140,
   "metadata": {
    "colab": {
     "base_uri": "https://localhost:8080/",
     "height": 204
    },
    "executionInfo": {
     "elapsed": 493,
     "status": "ok",
     "timestamp": 1637422368438,
     "user": {
      "displayName": "shikha sharma",
      "photoUrl": "https://lh3.googleusercontent.com/a-/AOh14Gi7-MZ8BB7Qmx-tZ4fMVMWE32u_g_Wo7RIqAY8HaA=s64",
      "userId": "18236534953658718874"
     },
     "user_tz": -330
    },
    "id": "tJ-c4TnwozwE",
    "outputId": "c9805d8f-25b2-458c-9b3a-47b725d9aa31"
   },
   "outputs": [
    {
     "data": {
      "text/html": [
       "<div>\n",
       "<style scoped>\n",
       "    .dataframe tbody tr th:only-of-type {\n",
       "        vertical-align: middle;\n",
       "    }\n",
       "\n",
       "    .dataframe tbody tr th {\n",
       "        vertical-align: top;\n",
       "    }\n",
       "\n",
       "    .dataframe thead th {\n",
       "        text-align: right;\n",
       "    }\n",
       "</style>\n",
       "<table border=\"1\" class=\"dataframe\">\n",
       "  <thead>\n",
       "    <tr style=\"text-align: right;\">\n",
       "      <th></th>\n",
       "      <th>Description</th>\n",
       "      <th>Assignment group</th>\n",
       "      <th>word_count</th>\n",
       "      <th>char_counts</th>\n",
       "    </tr>\n",
       "  </thead>\n",
       "  <tbody>\n",
       "    <tr>\n",
       "      <th>6438</th>\n",
       "      <td>unable to attach a document in erp</td>\n",
       "      <td>GRP_0</td>\n",
       "      <td>7</td>\n",
       "      <td>28</td>\n",
       "    </tr>\n",
       "    <tr>\n",
       "      <th>8182</th>\n",
       "      <td>i have not used this in quite awhile and it wi...</td>\n",
       "      <td>GRP_0</td>\n",
       "      <td>19</td>\n",
       "      <td>70</td>\n",
       "    </tr>\n",
       "    <tr>\n",
       "      <th>7586</th>\n",
       "      <td>windows ç³»ç»Ÿæ— æ³•ç™»å½•æç¤ºè®¡ç®—æœºä¸Žä¸...</td>\n",
       "      <td>GRP_31</td>\n",
       "      <td>3</td>\n",
       "      <td>72</td>\n",
       "    </tr>\n",
       "    <tr>\n",
       "      <th>6820</th>\n",
       "      <td>received from: monitoring_tool@company.com_x00...</td>\n",
       "      <td>GRP_8</td>\n",
       "      <td>12</td>\n",
       "      <td>106</td>\n",
       "    </tr>\n",
       "    <tr>\n",
       "      <th>1523</th>\n",
       "      <td>when try and initialize secure logon get messa...</td>\n",
       "      <td>GRP_0</td>\n",
       "      <td>22</td>\n",
       "      <td>116</td>\n",
       "    </tr>\n",
       "  </tbody>\n",
       "</table>\n",
       "</div>"
      ],
      "text/plain": [
       "                                            Description Assignment group  \\\n",
       "6438                 unable to attach a document in erp            GRP_0   \n",
       "8182  i have not used this in quite awhile and it wi...            GRP_0   \n",
       "7586  windows ç³»ç»Ÿæ— æ³•ç™»å½•æç¤ºè®¡ç®—æœºä¸Žä¸...           GRP_31   \n",
       "6820  received from: monitoring_tool@company.com_x00...            GRP_8   \n",
       "1523  when try and initialize secure logon get messa...            GRP_0   \n",
       "\n",
       "      word_count  char_counts  \n",
       "6438           7           28  \n",
       "8182          19           70  \n",
       "7586           3           72  \n",
       "6820          12          106  \n",
       "1523          22          116  "
      ]
     },
     "execution_count": 140,
     "metadata": {},
     "output_type": "execute_result"
    }
   ],
   "source": [
    "feature_df['char_counts']=df['Description'].apply(lambda x: char_counts(str(x)))\n",
    "#printing 5 random samples\n",
    "feature_df.sample(5)"
   ]
  },
  {
   "cell_type": "code",
   "execution_count": 141,
   "metadata": {
    "colab": {
     "base_uri": "https://localhost:8080/"
    },
    "executionInfo": {
     "elapsed": 494,
     "status": "ok",
     "timestamp": 1637422368440,
     "user": {
      "displayName": "shikha sharma",
      "photoUrl": "https://lh3.googleusercontent.com/a-/AOh14Gi7-MZ8BB7Qmx-tZ4fMVMWE32u_g_Wo7RIqAY8HaA=s64",
      "userId": "18236534953658718874"
     },
     "user_tz": -330
    },
    "id": "lI5-PYvn8DIg",
    "outputId": "4ae24055-cc76-405d-b9af-0c053097e255"
   },
   "outputs": [
    {
     "data": {
      "text/plain": [
       "1"
      ]
     },
     "execution_count": 141,
     "metadata": {},
     "output_type": "execute_result"
    }
   ],
   "source": [
    "#Checking the minimum character count\n",
    "feature_df['char_counts'].min()"
   ]
  },
  {
   "cell_type": "code",
   "execution_count": 142,
   "metadata": {
    "colab": {
     "base_uri": "https://localhost:8080/"
    },
    "executionInfo": {
     "elapsed": 490,
     "status": "ok",
     "timestamp": 1637422368441,
     "user": {
      "displayName": "shikha sharma",
      "photoUrl": "https://lh3.googleusercontent.com/a-/AOh14Gi7-MZ8BB7Qmx-tZ4fMVMWE32u_g_Wo7RIqAY8HaA=s64",
      "userId": "18236534953658718874"
     },
     "user_tz": -330
    },
    "id": "4MmawBZE8JSm",
    "outputId": "ca9e12f5-6564-4a67-8aee-fb7181da347b"
   },
   "outputs": [
    {
     "data": {
      "text/plain": [
       "12785"
      ]
     },
     "execution_count": 142,
     "metadata": {},
     "output_type": "execute_result"
    }
   ],
   "source": [
    "#Checking the maximum character count\n",
    "feature_df['char_counts'].max()"
   ]
  },
  {
   "cell_type": "code",
   "execution_count": 143,
   "metadata": {
    "colab": {
     "base_uri": "https://localhost:8080/",
     "height": 204
    },
    "executionInfo": {
     "elapsed": 473,
     "status": "ok",
     "timestamp": 1637422368444,
     "user": {
      "displayName": "shikha sharma",
      "photoUrl": "https://lh3.googleusercontent.com/a-/AOh14Gi7-MZ8BB7Qmx-tZ4fMVMWE32u_g_Wo7RIqAY8HaA=s64",
      "userId": "18236534953658718874"
     },
     "user_tz": -330
    },
    "id": "Xsj1g2MVqCJQ",
    "outputId": "32a0542f-9d1f-4f30-b136-097b46895898"
   },
   "outputs": [
    {
     "data": {
      "text/html": [
       "<div>\n",
       "<style scoped>\n",
       "    .dataframe tbody tr th:only-of-type {\n",
       "        vertical-align: middle;\n",
       "    }\n",
       "\n",
       "    .dataframe tbody tr th {\n",
       "        vertical-align: top;\n",
       "    }\n",
       "\n",
       "    .dataframe thead th {\n",
       "        text-align: right;\n",
       "    }\n",
       "</style>\n",
       "<table border=\"1\" class=\"dataframe\">\n",
       "  <thead>\n",
       "    <tr style=\"text-align: right;\">\n",
       "      <th></th>\n",
       "      <th>Description</th>\n",
       "      <th>Assignment group</th>\n",
       "      <th>word_count</th>\n",
       "      <th>char_counts</th>\n",
       "      <th>Avg_word_Count</th>\n",
       "    </tr>\n",
       "  </thead>\n",
       "  <tbody>\n",
       "    <tr>\n",
       "      <th>8217</th>\n",
       "      <td>\\n\\nreceived from: wchidyuk.shqbfpuy@gmail.com...</td>\n",
       "      <td>GRP_0</td>\n",
       "      <td>65</td>\n",
       "      <td>764</td>\n",
       "      <td>0.085079</td>\n",
       "    </tr>\n",
       "    <tr>\n",
       "      <th>3451</th>\n",
       "      <td>\\n\\nreceived from: jczwxvdn.pexuklry@gmail.com...</td>\n",
       "      <td>GRP_19</td>\n",
       "      <td>27</td>\n",
       "      <td>182</td>\n",
       "      <td>0.148352</td>\n",
       "    </tr>\n",
       "    <tr>\n",
       "      <th>6344</th>\n",
       "      <td>\\n\\nreceived from: rkyjnbqh.kfshormi@gmail.com...</td>\n",
       "      <td>GRP_0</td>\n",
       "      <td>43</td>\n",
       "      <td>421</td>\n",
       "      <td>0.102138</td>\n",
       "    </tr>\n",
       "    <tr>\n",
       "      <th>8161</th>\n",
       "      <td>unable to login to outlook and skype</td>\n",
       "      <td>GRP_0</td>\n",
       "      <td>7</td>\n",
       "      <td>30</td>\n",
       "      <td>0.233333</td>\n",
       "    </tr>\n",
       "    <tr>\n",
       "      <th>7048</th>\n",
       "      <td>businessobjects_cms: cms server watcher: serve...</td>\n",
       "      <td>GRP_14</td>\n",
       "      <td>7</td>\n",
       "      <td>60</td>\n",
       "      <td>0.116667</td>\n",
       "    </tr>\n",
       "  </tbody>\n",
       "</table>\n",
       "</div>"
      ],
      "text/plain": [
       "                                            Description Assignment group  \\\n",
       "8217  \\n\\nreceived from: wchidyuk.shqbfpuy@gmail.com...            GRP_0   \n",
       "3451  \\n\\nreceived from: jczwxvdn.pexuklry@gmail.com...           GRP_19   \n",
       "6344  \\n\\nreceived from: rkyjnbqh.kfshormi@gmail.com...            GRP_0   \n",
       "8161               unable to login to outlook and skype            GRP_0   \n",
       "7048  businessobjects_cms: cms server watcher: serve...           GRP_14   \n",
       "\n",
       "      word_count  char_counts  Avg_word_Count  \n",
       "8217          65          764        0.085079  \n",
       "3451          27          182        0.148352  \n",
       "6344          43          421        0.102138  \n",
       "8161           7           30        0.233333  \n",
       "7048           7           60        0.116667  "
      ]
     },
     "execution_count": 143,
     "metadata": {},
     "output_type": "execute_result"
    }
   ],
   "source": [
    "#Caluclating the average word count\n",
    "feature_df['Avg_word_Count']=feature_df['word_count']/feature_df['char_counts']\n",
    "#printing 5 random samples\n",
    "feature_df.sample(5)"
   ]
  },
  {
   "cell_type": "code",
   "execution_count": 144,
   "metadata": {
    "colab": {
     "base_uri": "https://localhost:8080/"
    },
    "executionInfo": {
     "elapsed": 471,
     "status": "ok",
     "timestamp": 1637422368444,
     "user": {
      "displayName": "shikha sharma",
      "photoUrl": "https://lh3.googleusercontent.com/a-/AOh14Gi7-MZ8BB7Qmx-tZ4fMVMWE32u_g_Wo7RIqAY8HaA=s64",
      "userId": "18236534953658718874"
     },
     "user_tz": -330
    },
    "id": "-mFur3bM7w_N",
    "outputId": "fdb8e699-f2be-4da7-940b-919a95b042f4"
   },
   "outputs": [
    {
     "name": "stdout",
     "output_type": "stream",
     "text": [
      "Minimum avg word count 0.009900990099009901\n",
      "Maximum avg word count 1.0\n"
     ]
    }
   ],
   "source": [
    "#Checking the minimum avg word count\n",
    "print(\"Minimum avg word count\",feature_df['Avg_word_Count'].min())\n",
    "print(\"Maximum avg word count\",feature_df['Avg_word_Count'].max())"
   ]
  },
  {
   "cell_type": "code",
   "execution_count": 145,
   "metadata": {
    "colab": {
     "base_uri": "https://localhost:8080/"
    },
    "executionInfo": {
     "elapsed": 464,
     "status": "ok",
     "timestamp": 1637422368446,
     "user": {
      "displayName": "shikha sharma",
      "photoUrl": "https://lh3.googleusercontent.com/a-/AOh14Gi7-MZ8BB7Qmx-tZ4fMVMWE32u_g_Wo7RIqAY8HaA=s64",
      "userId": "18236534953658718874"
     },
     "user_tz": -330
    },
    "id": "gJqiQl5hqj8g",
    "outputId": "ac34a52d-24f7-430a-cc12-73d40bf06c10"
   },
   "outputs": [
    {
     "name": "stdout",
     "output_type": "stream",
     "text": [
      "{'side', '’m', 'made', 'therefore', 'whereby', 'during', 'or', 'beside', 'fifty', 'towards', 'same', 'both', 'anywhere', 'have', 'other', 'by', 'former', 'please', 'sixty', 'ourselves', 'never', 'show', 'whither', 'somewhere', 'behind', 'say', 'meanwhile', 'could', 'herein', 'really', 'last', 'so', 'against', 'various', 'already', 'rather', 'who', 'part', 'around', '‘s', 'to', 'each', 'such', 'latterly', 'further', 'me', 'do', 'next', 'becoming', 'few', 'whatever', 'again', 'toward', 'hereby', 'among', 'eight', 'between', 're', 'with', 'amount', 'done', 'am', 'noone', 'more', 'without', 'i', 'thereupon', 'make', 'it', 'us', 'thereby', 'move', 'was', 'everything', 'seem', 'seems', 'on', 'thereafter', '‘re', 'two', 'anyhow', 'wherein', 'less', 'mostly', 'for', 'if', 'go', 'within', 'n’t', \"'d\", '’ll', 'also', 'hereafter', 'nine', 'see', '‘ve', 'my', 'keep', 'afterwards', 'moreover', \"'ll\", 'did', 'empty', 'nor', \"'s\", 'you', \"'m\", 'nobody', 'name', 'whereafter', 'then', 'over', 'nevertheless', '‘ll', 'six', 'all', 'while', 'well', 'which', 'give', 'they', 'except', 'least', 'therein', 'whom', 'any', 'seemed', 'others', 'everywhere', 'ten', 'unless', 'anyone', 'we', 'however', 'these', 'here', 'why', 'because', 'thus', 'an', 'even', 'at', 'below', 'get', 'down', 'serious', 'ca', 'three', 'out', 'be', 'across', '‘m', 'him', 'full', 'its', 'into', 'of', 'himself', 'somehow', 'together', 'quite', 'several', 'enough', 'may', 'sometimes', 'regarding', 'before', 'themselves', 'beyond', 'wherever', 'under', 'most', 'off', '’d', 'cannot', '’re', 'whereupon', 'after', 'how', 'elsewhere', 'besides', 'she', 'yourself', 'been', 'becomes', 'this', '‘d', 'perhaps', 'above', '’ve', 'were', 'mine', 'no', 'first', 'hence', 'call', 'due', 'very', 'until', 'yours', 'he', 'one', 'only', 'take', 'forty', 'alone', 'something', 'will', \"'re\", 'where', 'much', 'their', 'but', 'every', 'some', 'ever', 'doing', 'five', 'whether', 'since', 'often', 'about', 'otherwise', 'put', 'thence', 'once', 'almost', 'in', 'top', 'anything', 'does', 'many', 'your', 'them', 'just', 'whose', 'became', 'through', 'upon', 'indeed', 'own', 'hereupon', 'up', 'from', 'our', 'eleven', 'must', 'and', 'throughout', 'though', 'still', 'fifteen', 'had', 'someone', 'everyone', 'seeming', 'front', 'none', 'whoever', 'although', 'nowhere', 'either', 'is', 'there', 'itself', 'hers', 'hundred', 'would', 'as', \"'ve\", 'along', 'four', 'nothing', 'always', 'that', 'used', \"n't\", 'beforehand', 'n‘t', 'those', 'whence', 'not', '’s', 'what', 'anyway', 'sometime', 'his', 'are', 'another', 'yourselves', 'should', 'amongst', 'else', 'third', 'when', 'namely', 'might', 'bottom', 'via', 'thru', 'per', 'whole', 'twelve', 'too', 'formerly', 'whereas', 'whenever', 'back', 'ours', 'a', 'being', 'onto', 'using', 'can', 'neither', 'herself', 'than', 'now', 'yet', 'twenty', 'become', 'her', 'latter', 'myself', 'has', 'the'}\n"
     ]
    },
    {
     "data": {
      "text/plain": [
       "326"
      ]
     },
     "execution_count": 145,
     "metadata": {},
     "output_type": "execute_result"
    }
   ],
   "source": [
    "print(stop_words)\n",
    "len(stop_words)"
   ]
  },
  {
   "cell_type": "code",
   "execution_count": 146,
   "metadata": {
    "colab": {
     "base_uri": "https://localhost:8080/",
     "height": 204
    },
    "executionInfo": {
     "elapsed": 449,
     "status": "ok",
     "timestamp": 1637422368446,
     "user": {
      "displayName": "shikha sharma",
      "photoUrl": "https://lh3.googleusercontent.com/a-/AOh14Gi7-MZ8BB7Qmx-tZ4fMVMWE32u_g_Wo7RIqAY8HaA=s64",
      "userId": "18236534953658718874"
     },
     "user_tz": -330
    },
    "id": "QFPxyVzkr4Cc",
    "outputId": "4fc861a6-05f6-4fd7-8d19-135aa1e3297d"
   },
   "outputs": [
    {
     "data": {
      "text/html": [
       "<div>\n",
       "<style scoped>\n",
       "    .dataframe tbody tr th:only-of-type {\n",
       "        vertical-align: middle;\n",
       "    }\n",
       "\n",
       "    .dataframe tbody tr th {\n",
       "        vertical-align: top;\n",
       "    }\n",
       "\n",
       "    .dataframe thead th {\n",
       "        text-align: right;\n",
       "    }\n",
       "</style>\n",
       "<table border=\"1\" class=\"dataframe\">\n",
       "  <thead>\n",
       "    <tr style=\"text-align: right;\">\n",
       "      <th></th>\n",
       "      <th>Description</th>\n",
       "      <th>Assignment group</th>\n",
       "      <th>word_count</th>\n",
       "      <th>char_counts</th>\n",
       "      <th>Avg_word_Count</th>\n",
       "      <th>stop_words_count</th>\n",
       "    </tr>\n",
       "  </thead>\n",
       "  <tbody>\n",
       "    <tr>\n",
       "      <th>1188</th>\n",
       "      <td>ticket update on ticket_no0448767</td>\n",
       "      <td>GRP_0</td>\n",
       "      <td>4</td>\n",
       "      <td>30</td>\n",
       "      <td>0.133333</td>\n",
       "      <td>1</td>\n",
       "    </tr>\n",
       "    <tr>\n",
       "      <th>8268</th>\n",
       "      <td>windows account locked</td>\n",
       "      <td>GRP_0</td>\n",
       "      <td>3</td>\n",
       "      <td>20</td>\n",
       "      <td>0.150000</td>\n",
       "      <td>0</td>\n",
       "    </tr>\n",
       "    <tr>\n",
       "      <th>4786</th>\n",
       "      <td>hi liuytre,_x000D_\\n_x000D_\\nsorry to hear of ...</td>\n",
       "      <td>GRP_0</td>\n",
       "      <td>81</td>\n",
       "      <td>396</td>\n",
       "      <td>0.204545</td>\n",
       "      <td>45</td>\n",
       "    </tr>\n",
       "    <tr>\n",
       "      <th>530</th>\n",
       "      <td>unable to connect to company center // sales o...</td>\n",
       "      <td>GRP_0</td>\n",
       "      <td>11</td>\n",
       "      <td>50</td>\n",
       "      <td>0.220000</td>\n",
       "      <td>3</td>\n",
       "    </tr>\n",
       "    <tr>\n",
       "      <th>2018</th>\n",
       "      <td>i needed a hand setting up jabra pro headset f...</td>\n",
       "      <td>GRP_0</td>\n",
       "      <td>28</td>\n",
       "      <td>114</td>\n",
       "      <td>0.245614</td>\n",
       "      <td>12</td>\n",
       "    </tr>\n",
       "  </tbody>\n",
       "</table>\n",
       "</div>"
      ],
      "text/plain": [
       "                                            Description Assignment group  \\\n",
       "1188                  ticket update on ticket_no0448767            GRP_0   \n",
       "8268                            windows account locked             GRP_0   \n",
       "4786  hi liuytre,_x000D_\\n_x000D_\\nsorry to hear of ...            GRP_0   \n",
       "530   unable to connect to company center // sales o...            GRP_0   \n",
       "2018  i needed a hand setting up jabra pro headset f...            GRP_0   \n",
       "\n",
       "      word_count  char_counts  Avg_word_Count  stop_words_count  \n",
       "1188           4           30        0.133333                 1  \n",
       "8268           3           20        0.150000                 0  \n",
       "4786          81          396        0.204545                45  \n",
       "530           11           50        0.220000                 3  \n",
       "2018          28          114        0.245614                12  "
      ]
     },
     "execution_count": 146,
     "metadata": {},
     "output_type": "execute_result"
    }
   ],
   "source": [
    "#caluclating the number of stop words in description column\n",
    "feature_df['stop_words_count']=df['Description'].apply(lambda x:len([t for t in x.split() if t in stop_words]))\n",
    "#printing the sample values\n",
    "feature_df.sample(5)"
   ]
  },
  {
   "cell_type": "code",
   "execution_count": 147,
   "metadata": {
    "colab": {
     "base_uri": "https://localhost:8080/"
    },
    "executionInfo": {
     "elapsed": 449,
     "status": "ok",
     "timestamp": 1637422368447,
     "user": {
      "displayName": "shikha sharma",
      "photoUrl": "https://lh3.googleusercontent.com/a-/AOh14Gi7-MZ8BB7Qmx-tZ4fMVMWE32u_g_Wo7RIqAY8HaA=s64",
      "userId": "18236534953658718874"
     },
     "user_tz": -330
    },
    "id": "4dQOMWef8dhP",
    "outputId": "853de552-c834-4601-8f29-55019dc7a790"
   },
   "outputs": [
    {
     "name": "stdout",
     "output_type": "stream",
     "text": [
      "Minimum number of stop words present 0\n",
      "Maximum number of stop words present 352\n"
     ]
    }
   ],
   "source": [
    "#caluclating the minimum number of stop words count\n",
    "print(\"Minimum number of stop words present\",feature_df['stop_words_count'].min())\n",
    "#caluclating the maximum number of stop words count\n",
    "print(\"Maximum number of stop words present\", feature_df['stop_words_count'].max())"
   ]
  },
  {
   "cell_type": "code",
   "execution_count": 148,
   "metadata": {
    "colab": {
     "base_uri": "https://localhost:8080/",
     "height": 204
    },
    "executionInfo": {
     "elapsed": 444,
     "status": "ok",
     "timestamp": 1637422368447,
     "user": {
      "displayName": "shikha sharma",
      "photoUrl": "https://lh3.googleusercontent.com/a-/AOh14Gi7-MZ8BB7Qmx-tZ4fMVMWE32u_g_Wo7RIqAY8HaA=s64",
      "userId": "18236534953658718874"
     },
     "user_tz": -330
    },
    "id": "dDPhF-j5-9ad",
    "outputId": "843ba4e0-cf4a-4ff3-b9f9-0e44387bb296"
   },
   "outputs": [
    {
     "data": {
      "text/html": [
       "<div>\n",
       "<style scoped>\n",
       "    .dataframe tbody tr th:only-of-type {\n",
       "        vertical-align: middle;\n",
       "    }\n",
       "\n",
       "    .dataframe tbody tr th {\n",
       "        vertical-align: top;\n",
       "    }\n",
       "\n",
       "    .dataframe thead th {\n",
       "        text-align: right;\n",
       "    }\n",
       "</style>\n",
       "<table border=\"1\" class=\"dataframe\">\n",
       "  <thead>\n",
       "    <tr style=\"text-align: right;\">\n",
       "      <th></th>\n",
       "      <th>Description</th>\n",
       "      <th>Assignment group</th>\n",
       "      <th>word_count</th>\n",
       "      <th>char_counts</th>\n",
       "      <th>Avg_word_Count</th>\n",
       "      <th>stop_words_count</th>\n",
       "      <th>Digits_count</th>\n",
       "    </tr>\n",
       "  </thead>\n",
       "  <tbody>\n",
       "    <tr>\n",
       "      <th>2016</th>\n",
       "      <td>sqlcuhep railgnfb called in for an issue where...</td>\n",
       "      <td>GRP_0</td>\n",
       "      <td>22</td>\n",
       "      <td>105</td>\n",
       "      <td>0.209524</td>\n",
       "      <td>11</td>\n",
       "      <td>0</td>\n",
       "    </tr>\n",
       "    <tr>\n",
       "      <th>6767</th>\n",
       "      <td>\\n\\nreceived from: nrbgctwm.kfwdhrmt@gmail.com...</td>\n",
       "      <td>GRP_12</td>\n",
       "      <td>69</td>\n",
       "      <td>547</td>\n",
       "      <td>0.126143</td>\n",
       "      <td>12</td>\n",
       "      <td>1</td>\n",
       "    </tr>\n",
       "    <tr>\n",
       "      <th>7095</th>\n",
       "      <td>mitarbeiter reichenberg philipp benÃ¶tigt bere...</td>\n",
       "      <td>GRP_34</td>\n",
       "      <td>9</td>\n",
       "      <td>83</td>\n",
       "      <td>0.108434</td>\n",
       "      <td>0</td>\n",
       "      <td>0</td>\n",
       "    </tr>\n",
       "    <tr>\n",
       "      <th>1381</th>\n",
       "      <td>_x000D_\\n_x000D_\\nreceived from: rlphwiqn.zagv...</td>\n",
       "      <td>GRP_3</td>\n",
       "      <td>51</td>\n",
       "      <td>252</td>\n",
       "      <td>0.202381</td>\n",
       "      <td>24</td>\n",
       "      <td>0</td>\n",
       "    </tr>\n",
       "    <tr>\n",
       "      <th>5153</th>\n",
       "      <td>\\n\\nreceived from: vnetbgio.lqxztben@gmail.com...</td>\n",
       "      <td>GRP_0</td>\n",
       "      <td>47</td>\n",
       "      <td>310</td>\n",
       "      <td>0.151613</td>\n",
       "      <td>18</td>\n",
       "      <td>0</td>\n",
       "    </tr>\n",
       "  </tbody>\n",
       "</table>\n",
       "</div>"
      ],
      "text/plain": [
       "                                            Description Assignment group  \\\n",
       "2016  sqlcuhep railgnfb called in for an issue where...            GRP_0   \n",
       "6767  \\n\\nreceived from: nrbgctwm.kfwdhrmt@gmail.com...           GRP_12   \n",
       "7095  mitarbeiter reichenberg philipp benÃ¶tigt bere...           GRP_34   \n",
       "1381  _x000D_\\n_x000D_\\nreceived from: rlphwiqn.zagv...            GRP_3   \n",
       "5153  \\n\\nreceived from: vnetbgio.lqxztben@gmail.com...            GRP_0   \n",
       "\n",
       "      word_count  char_counts  Avg_word_Count  stop_words_count  Digits_count  \n",
       "2016          22          105        0.209524                11             0  \n",
       "6767          69          547        0.126143                12             1  \n",
       "7095           9           83        0.108434                 0             0  \n",
       "1381          51          252        0.202381                24             0  \n",
       "5153          47          310        0.151613                18             0  "
      ]
     },
     "execution_count": 148,
     "metadata": {},
     "output_type": "execute_result"
    }
   ],
   "source": [
    "#caluclating the number of digits count in description column\n",
    "feature_df['Digits_count']=df['Description'].apply(lambda x:len([t for t in x.split() if t.isdigit()]))\n",
    "#Printing the sample rows\n",
    "feature_df.sample(5)"
   ]
  },
  {
   "cell_type": "code",
   "execution_count": 149,
   "metadata": {
    "colab": {
     "base_uri": "https://localhost:8080/"
    },
    "executionInfo": {
     "elapsed": 444,
     "status": "ok",
     "timestamp": 1637422368449,
     "user": {
      "displayName": "shikha sharma",
      "photoUrl": "https://lh3.googleusercontent.com/a-/AOh14Gi7-MZ8BB7Qmx-tZ4fMVMWE32u_g_Wo7RIqAY8HaA=s64",
      "userId": "18236534953658718874"
     },
     "user_tz": -330
    },
    "id": "1z9tLmoC__1Z",
    "outputId": "75e2fc34-7be0-48e7-d110-27a4e4301dad"
   },
   "outputs": [
    {
     "name": "stdout",
     "output_type": "stream",
     "text": [
      "Maximum number of digits present 444\n",
      "Minimum number of digits present 0\n"
     ]
    }
   ],
   "source": [
    "#Checking the maximum count\n",
    "print(\"Maximum number of digits present\",feature_df['Digits_count'].max())\n",
    "#Checking the minimum count\n",
    "print(\"Minimum number of digits present\",feature_df['Digits_count'].min())\n"
   ]
  },
  {
   "cell_type": "code",
   "execution_count": 150,
   "metadata": {
    "colab": {
     "base_uri": "https://localhost:8080/",
     "height": 204
    },
    "executionInfo": {
     "elapsed": 1152,
     "status": "ok",
     "timestamp": 1637422369163,
     "user": {
      "displayName": "shikha sharma",
      "photoUrl": "https://lh3.googleusercontent.com/a-/AOh14Gi7-MZ8BB7Qmx-tZ4fMVMWE32u_g_Wo7RIqAY8HaA=s64",
      "userId": "18236534953658718874"
     },
     "user_tz": -330
    },
    "id": "9kABnno9AkTj",
    "outputId": "2e73c3c7-1d4d-4c5a-884b-be6f6462839d"
   },
   "outputs": [
    {
     "data": {
      "text/html": [
       "<div>\n",
       "<style scoped>\n",
       "    .dataframe tbody tr th:only-of-type {\n",
       "        vertical-align: middle;\n",
       "    }\n",
       "\n",
       "    .dataframe tbody tr th {\n",
       "        vertical-align: top;\n",
       "    }\n",
       "\n",
       "    .dataframe thead th {\n",
       "        text-align: right;\n",
       "    }\n",
       "</style>\n",
       "<table border=\"1\" class=\"dataframe\">\n",
       "  <thead>\n",
       "    <tr style=\"text-align: right;\">\n",
       "      <th></th>\n",
       "      <th>Description</th>\n",
       "      <th>Assignment group</th>\n",
       "      <th>word_count</th>\n",
       "      <th>char_counts</th>\n",
       "      <th>Avg_word_Count</th>\n",
       "      <th>stop_words_count</th>\n",
       "      <th>Digits_count</th>\n",
       "      <th>Upper_Case_count</th>\n",
       "    </tr>\n",
       "  </thead>\n",
       "  <tbody>\n",
       "    <tr>\n",
       "      <th>3607</th>\n",
       "      <td>_x000D_\\n_x000D_\\nreceived from: vxzahrlc.frtk...</td>\n",
       "      <td>GRP_0</td>\n",
       "      <td>17</td>\n",
       "      <td>130</td>\n",
       "      <td>0.130769</td>\n",
       "      <td>5</td>\n",
       "      <td>0</td>\n",
       "      <td>0</td>\n",
       "    </tr>\n",
       "    <tr>\n",
       "      <th>1997</th>\n",
       "      <td>received from: monitoring_tool@company.com_x00...</td>\n",
       "      <td>GRP_9</td>\n",
       "      <td>12</td>\n",
       "      <td>107</td>\n",
       "      <td>0.112150</td>\n",
       "      <td>1</td>\n",
       "      <td>0</td>\n",
       "      <td>0</td>\n",
       "    </tr>\n",
       "    <tr>\n",
       "      <th>3503</th>\n",
       "      <td>upgraded the ie to 11 on uacyltoe hxgaycze wor...</td>\n",
       "      <td>GRP_19</td>\n",
       "      <td>9</td>\n",
       "      <td>47</td>\n",
       "      <td>0.191489</td>\n",
       "      <td>3</td>\n",
       "      <td>1</td>\n",
       "      <td>0</td>\n",
       "    </tr>\n",
       "    <tr>\n",
       "      <th>3001</th>\n",
       "      <td>_x000D_\\n_x000D_\\nreceived from: qgrbdnoc.dgup...</td>\n",
       "      <td>GRP_6</td>\n",
       "      <td>90</td>\n",
       "      <td>533</td>\n",
       "      <td>0.168856</td>\n",
       "      <td>43</td>\n",
       "      <td>2</td>\n",
       "      <td>0</td>\n",
       "    </tr>\n",
       "    <tr>\n",
       "      <th>1290</th>\n",
       "      <td>battery not charging when the power adapoter i...</td>\n",
       "      <td>GRP_19</td>\n",
       "      <td>54</td>\n",
       "      <td>300</td>\n",
       "      <td>0.180000</td>\n",
       "      <td>17</td>\n",
       "      <td>1</td>\n",
       "      <td>0</td>\n",
       "    </tr>\n",
       "  </tbody>\n",
       "</table>\n",
       "</div>"
      ],
      "text/plain": [
       "                                            Description Assignment group  \\\n",
       "3607  _x000D_\\n_x000D_\\nreceived from: vxzahrlc.frtk...            GRP_0   \n",
       "1997  received from: monitoring_tool@company.com_x00...            GRP_9   \n",
       "3503  upgraded the ie to 11 on uacyltoe hxgaycze wor...           GRP_19   \n",
       "3001  _x000D_\\n_x000D_\\nreceived from: qgrbdnoc.dgup...            GRP_6   \n",
       "1290  battery not charging when the power adapoter i...           GRP_19   \n",
       "\n",
       "      word_count  char_counts  Avg_word_Count  stop_words_count  Digits_count  \\\n",
       "3607          17          130        0.130769                 5             0   \n",
       "1997          12          107        0.112150                 1             0   \n",
       "3503           9           47        0.191489                 3             1   \n",
       "3001          90          533        0.168856                43             2   \n",
       "1290          54          300        0.180000                17             1   \n",
       "\n",
       "      Upper_Case_count  \n",
       "3607                 0  \n",
       "1997                 0  \n",
       "3503                 0  \n",
       "3001                 0  \n",
       "1290                 0  "
      ]
     },
     "execution_count": 150,
     "metadata": {},
     "output_type": "execute_result"
    }
   ],
   "source": [
    "#caluclating the number of uppercase count in description column\n",
    "feature_df['Upper_Case_count']=df['Description'].apply(lambda x:len([t for t in x.split() if t.isupper()]))\n",
    "#printing the sample\n",
    "feature_df.sample(5)"
   ]
  },
  {
   "cell_type": "code",
   "execution_count": 151,
   "metadata": {
    "colab": {
     "base_uri": "https://localhost:8080/"
    },
    "executionInfo": {
     "elapsed": 37,
     "status": "ok",
     "timestamp": 1637422369164,
     "user": {
      "displayName": "shikha sharma",
      "photoUrl": "https://lh3.googleusercontent.com/a-/AOh14Gi7-MZ8BB7Qmx-tZ4fMVMWE32u_g_Wo7RIqAY8HaA=s64",
      "userId": "18236534953658718874"
     },
     "user_tz": -330
    },
    "id": "DTE7mh8ICAzh",
    "outputId": "3fd248bc-a38c-44eb-c800-4b13b0af8ca3"
   },
   "outputs": [
    {
     "name": "stdout",
     "output_type": "stream",
     "text": [
      "Maximum number of Upper case letters present 10\n",
      "Minimum number of Upper case letters present 0\n"
     ]
    }
   ],
   "source": [
    "#Checking the maximum count\n",
    "print(\"Maximum number of Upper case letters present\",feature_df['Upper_Case_count'].max())\n",
    "#Checking the minimum count\n",
    "print(\"Minimum number of Upper case letters present\",feature_df['Upper_Case_count'].min())"
   ]
  },
  {
   "cell_type": "markdown",
   "metadata": {
    "id": "1pYFO7rPHZTw"
   },
   "source": [
    "# Cleaning and PreProcessing"
   ]
  },
  {
   "cell_type": "markdown",
   "metadata": {
    "id": "B2Ea3tAwNxB2"
   },
   "source": [
    "\n",
    "\n",
    "1.   The objective of the problem is to categorise the issues based on description and assign them to various groups. Since the short description is extracted from the description only, we can remove the column.\n",
    "2.  The objective is also to analyse the description and assign tickets, hence the caller column does not hold any value for the classification. There might be certain correlation However it will add bias. Hence removing the column also\n",
    "\n"
   ]
  },
  {
   "cell_type": "code",
   "execution_count": 152,
   "metadata": {
    "executionInfo": {
     "elapsed": 85239,
     "status": "ok",
     "timestamp": 1637422454382,
     "user": {
      "displayName": "shikha sharma",
      "photoUrl": "https://lh3.googleusercontent.com/a-/AOh14Gi7-MZ8BB7Qmx-tZ4fMVMWE32u_g_Wo7RIqAY8HaA=s64",
      "userId": "18236534953658718874"
     },
     "user_tz": -330
    },
    "id": "_ilffAtfRVTf"
   },
   "outputs": [],
   "source": [
    "def fn_lan_detect(df):                                        \n",
    "   try:                                                          \n",
    "     0 \n",
    "     return detect(df)                                      \n",
    "   except:                                                       \n",
    "      return 'no'                                                  \n",
    "\n",
    "df['language'] = df['Description'].apply(fn_lan_detect)"
   ]
  },
  {
   "cell_type": "code",
   "execution_count": 153,
   "metadata": {
    "colab": {
     "base_uri": "https://localhost:8080/"
    },
    "executionInfo": {
     "elapsed": 78,
     "status": "ok",
     "timestamp": 1637422454412,
     "user": {
      "displayName": "shikha sharma",
      "photoUrl": "https://lh3.googleusercontent.com/a-/AOh14Gi7-MZ8BB7Qmx-tZ4fMVMWE32u_g_Wo7RIqAY8HaA=s64",
      "userId": "18236534953658718874"
     },
     "user_tz": -330
    },
    "id": "cdS4A-VKTZrP",
    "outputId": "17911e27-d007-4ce1-a85a-846fb7456463"
   },
   "outputs": [
    {
     "data": {
      "text/plain": [
       "en    7025\n",
       "de     406\n",
       "af     261\n",
       "it     136\n",
       "fr     122\n",
       "sv      87\n",
       "no      70\n",
       "da      62\n",
       "ca      60\n",
       "nl      60\n",
       "es      48\n",
       "pl      29\n",
       "pt      29\n",
       "ro      20\n",
       "so      12\n",
       "sl      12\n",
       "cy      11\n",
       "sq      11\n",
       "tl       8\n",
       "et       7\n",
       "hr       5\n",
       "tr       4\n",
       "id       4\n",
       "fi       4\n",
       "lt       3\n",
       "sk       2\n",
       "cs       1\n",
       "lv       1\n",
       "Name: language, dtype: int64"
      ]
     },
     "execution_count": 153,
     "metadata": {},
     "output_type": "execute_result"
    }
   ],
   "source": [
    "df['language'].value_counts()"
   ]
  },
  {
   "cell_type": "code",
   "execution_count": 154,
   "metadata": {
    "colab": {
     "base_uri": "https://localhost:8080/"
    },
    "executionInfo": {
     "elapsed": 67,
     "status": "ok",
     "timestamp": 1637422454412,
     "user": {
      "displayName": "shikha sharma",
      "photoUrl": "https://lh3.googleusercontent.com/a-/AOh14Gi7-MZ8BB7Qmx-tZ4fMVMWE32u_g_Wo7RIqAY8HaA=s64",
      "userId": "18236534953658718874"
     },
     "user_tz": -330
    },
    "id": "AZz4CxpDULP5",
    "outputId": "09c7c446-45c3-4fb2-ab0b-a0829119a708"
   },
   "outputs": [
    {
     "name": "stdout",
     "output_type": "stream",
     "text": [
      "{'af': 'afrikaans', 'sq': 'albanian', 'am': 'amharic', 'ar': 'arabic', 'hy': 'armenian', 'az': 'azerbaijani', 'eu': 'basque', 'be': 'belarusian', 'bn': 'bengali', 'bs': 'bosnian', 'bg': 'bulgarian', 'ca': 'catalan', 'ceb': 'cebuano', 'ny': 'chichewa', 'zh-cn': 'chinese (simplified)', 'zh-tw': 'chinese (traditional)', 'co': 'corsican', 'hr': 'croatian', 'cs': 'czech', 'da': 'danish', 'nl': 'dutch', 'en': 'english', 'eo': 'esperanto', 'et': 'estonian', 'tl': 'filipino', 'fi': 'finnish', 'fr': 'french', 'fy': 'frisian', 'gl': 'galician', 'ka': 'georgian', 'de': 'german', 'el': 'greek', 'gu': 'gujarati', 'ht': 'haitian creole', 'ha': 'hausa', 'haw': 'hawaiian', 'iw': 'hebrew', 'he': 'hebrew', 'hi': 'hindi', 'hmn': 'hmong', 'hu': 'hungarian', 'is': 'icelandic', 'ig': 'igbo', 'id': 'indonesian', 'ga': 'irish', 'it': 'italian', 'ja': 'japanese', 'jw': 'javanese', 'kn': 'kannada', 'kk': 'kazakh', 'km': 'khmer', 'ko': 'korean', 'ku': 'kurdish (kurmanji)', 'ky': 'kyrgyz', 'lo': 'lao', 'la': 'latin', 'lv': 'latvian', 'lt': 'lithuanian', 'lb': 'luxembourgish', 'mk': 'macedonian', 'mg': 'malagasy', 'ms': 'malay', 'ml': 'malayalam', 'mt': 'maltese', 'mi': 'maori', 'mr': 'marathi', 'mn': 'mongolian', 'my': 'myanmar (burmese)', 'ne': 'nepali', 'no': 'norwegian', 'or': 'odia', 'ps': 'pashto', 'fa': 'persian', 'pl': 'polish', 'pt': 'portuguese', 'pa': 'punjabi', 'ro': 'romanian', 'ru': 'russian', 'sm': 'samoan', 'gd': 'scots gaelic', 'sr': 'serbian', 'st': 'sesotho', 'sn': 'shona', 'sd': 'sindhi', 'si': 'sinhala', 'sk': 'slovak', 'sl': 'slovenian', 'so': 'somali', 'es': 'spanish', 'su': 'sundanese', 'sw': 'swahili', 'sv': 'swedish', 'tg': 'tajik', 'ta': 'tamil', 'te': 'telugu', 'th': 'thai', 'tr': 'turkish', 'uk': 'ukrainian', 'ur': 'urdu', 'ug': 'uyghur', 'uz': 'uzbek', 'vi': 'vietnamese', 'cy': 'welsh', 'xh': 'xhosa', 'yi': 'yiddish', 'yo': 'yoruba', 'zu': 'zulu'}\n"
     ]
    }
   ],
   "source": [
    "import googletrans\n",
    "from googletrans import Translator\n",
    "print(googletrans.LANGUAGES)"
   ]
  },
  {
   "cell_type": "code",
   "execution_count": 155,
   "metadata": {
    "executionInfo": {
     "elapsed": 58,
     "status": "ok",
     "timestamp": 1637422454413,
     "user": {
      "displayName": "shikha sharma",
      "photoUrl": "https://lh3.googleusercontent.com/a-/AOh14Gi7-MZ8BB7Qmx-tZ4fMVMWE32u_g_Wo7RIqAY8HaA=s64",
      "userId": "18236534953658718874"
     },
     "user_tz": -330
    },
    "id": "Fb87uzltUQK_"
   },
   "outputs": [],
   "source": [
    "# Function to translate the text to english.\n",
    "def fn_translate(df,lang):\n",
    "  try:\n",
    "    if lang == 'en':\n",
    "        return df\n",
    "    else:\n",
    "        return translator.translate(df).text\n",
    "  except:\n",
    "    return df\n",
    "    \n",
    "    \n",
    "df['English_Description'] = df.apply(lambda x: fn_translate(x['Description'], x['language']), axis=1)"
   ]
  },
  {
   "cell_type": "code",
   "execution_count": 156,
   "metadata": {
    "colab": {
     "base_uri": "https://localhost:8080/",
     "height": 204
    },
    "executionInfo": {
     "elapsed": 81,
     "status": "ok",
     "timestamp": 1637422454436,
     "user": {
      "displayName": "shikha sharma",
      "photoUrl": "https://lh3.googleusercontent.com/a-/AOh14Gi7-MZ8BB7Qmx-tZ4fMVMWE32u_g_Wo7RIqAY8HaA=s64",
      "userId": "18236534953658718874"
     },
     "user_tz": -330
    },
    "id": "wB3yntrDGSJA",
    "outputId": "356f8469-875b-452e-b9e3-92bb18e63f77"
   },
   "outputs": [
    {
     "data": {
      "text/html": [
       "<div>\n",
       "<style scoped>\n",
       "    .dataframe tbody tr th:only-of-type {\n",
       "        vertical-align: middle;\n",
       "    }\n",
       "\n",
       "    .dataframe tbody tr th {\n",
       "        vertical-align: top;\n",
       "    }\n",
       "\n",
       "    .dataframe thead th {\n",
       "        text-align: right;\n",
       "    }\n",
       "</style>\n",
       "<table border=\"1\" class=\"dataframe\">\n",
       "  <thead>\n",
       "    <tr style=\"text-align: right;\">\n",
       "      <th></th>\n",
       "      <th>Short description</th>\n",
       "      <th>Description</th>\n",
       "      <th>Caller</th>\n",
       "      <th>Assignment group</th>\n",
       "      <th>language</th>\n",
       "      <th>English_Description</th>\n",
       "    </tr>\n",
       "  </thead>\n",
       "  <tbody>\n",
       "    <tr>\n",
       "      <th>8311</th>\n",
       "      <td>abended job in job_scheduler: Job_2078</td>\n",
       "      <td>received from: monitoring_tool@company.com_x00...</td>\n",
       "      <td>ZkBogxib QsEJzdZO</td>\n",
       "      <td>GRP_6</td>\n",
       "      <td>en</td>\n",
       "      <td>received from: monitoring_tool@company.com_x00...</td>\n",
       "    </tr>\n",
       "    <tr>\n",
       "      <th>3566</th>\n",
       "      <td>pc empw 8144239 neu aufsetzen</td>\n",
       "      <td>pc empw 8144239 neu aufsetzen</td>\n",
       "      <td>wyotidgu nydzrtuw</td>\n",
       "      <td>GRP_33</td>\n",
       "      <td>de</td>\n",
       "      <td>pc empw 8144239 neu aufsetzen</td>\n",
       "    </tr>\n",
       "    <tr>\n",
       "      <th>2302</th>\n",
       "      <td>setup we_wu73 \\jionmpsf wnkpzcmv</td>\n",
       "      <td>setup we_wu73 \\jionmpsf wnkpzcmv</td>\n",
       "      <td>jionmpsf wnkpzcmv</td>\n",
       "      <td>GRP_24</td>\n",
       "      <td>pl</td>\n",
       "      <td>setup we_wu73 \\jionmpsf wnkpzcmv</td>\n",
       "    </tr>\n",
       "    <tr>\n",
       "      <th>7412</th>\n",
       "      <td>HostName_1045:(reporting_engineering_tooling -...</td>\n",
       "      <td>reporting_tool alert: average (4 samples) disk...</td>\n",
       "      <td>mnlazfsr mtqrkhnx</td>\n",
       "      <td>GRP_9</td>\n",
       "      <td>en</td>\n",
       "      <td>reporting_tool alert: average (4 samples) disk...</td>\n",
       "    </tr>\n",
       "    <tr>\n",
       "      <th>6270</th>\n",
       "      <td>unable to log in to erp SID_34</td>\n",
       "      <td>unable to log in to erp SID_34</td>\n",
       "      <td>jfgepoay qsbjaemc</td>\n",
       "      <td>GRP_0</td>\n",
       "      <td>it</td>\n",
       "      <td>unable to log in to erp SID_34</td>\n",
       "    </tr>\n",
       "  </tbody>\n",
       "</table>\n",
       "</div>"
      ],
      "text/plain": [
       "                                      Short description  \\\n",
       "8311             abended job in job_scheduler: Job_2078   \n",
       "3566                      pc empw 8144239 neu aufsetzen   \n",
       "2302                   setup we_wu73 \\jionmpsf wnkpzcmv   \n",
       "7412  HostName_1045:(reporting_engineering_tooling -...   \n",
       "6270                     unable to log in to erp SID_34   \n",
       "\n",
       "                                            Description             Caller  \\\n",
       "8311  received from: monitoring_tool@company.com_x00...  ZkBogxib QsEJzdZO   \n",
       "3566                      pc empw 8144239 neu aufsetzen  wyotidgu nydzrtuw   \n",
       "2302                   setup we_wu73 \\jionmpsf wnkpzcmv  jionmpsf wnkpzcmv   \n",
       "7412  reporting_tool alert: average (4 samples) disk...  mnlazfsr mtqrkhnx   \n",
       "6270                     unable to log in to erp SID_34  jfgepoay qsbjaemc   \n",
       "\n",
       "     Assignment group language  \\\n",
       "8311            GRP_6       en   \n",
       "3566           GRP_33       de   \n",
       "2302           GRP_24       pl   \n",
       "7412            GRP_9       en   \n",
       "6270            GRP_0       it   \n",
       "\n",
       "                                    English_Description  \n",
       "8311  received from: monitoring_tool@company.com_x00...  \n",
       "3566                      pc empw 8144239 neu aufsetzen  \n",
       "2302                   setup we_wu73 \\jionmpsf wnkpzcmv  \n",
       "7412  reporting_tool alert: average (4 samples) disk...  \n",
       "6270                     unable to log in to erp SID_34  "
      ]
     },
     "execution_count": 156,
     "metadata": {},
     "output_type": "execute_result"
    }
   ],
   "source": [
    "df.sample(5)"
   ]
  },
  {
   "cell_type": "code",
   "execution_count": 157,
   "metadata": {
    "executionInfo": {
     "elapsed": 101,
     "status": "ok",
     "timestamp": 1637422454443,
     "user": {
      "displayName": "shikha sharma",
      "photoUrl": "https://lh3.googleusercontent.com/a-/AOh14Gi7-MZ8BB7Qmx-tZ4fMVMWE32u_g_Wo7RIqAY8HaA=s64",
      "userId": "18236534953658718874"
     },
     "user_tz": -330
    },
    "id": "I_R7IdkAfw-u"
   },
   "outputs": [],
   "source": [
    "df_translated_text=df.drop(['Description','language'],axis=1)"
   ]
  },
  {
   "cell_type": "code",
   "execution_count": 158,
   "metadata": {
    "executionInfo": {
     "elapsed": 117,
     "status": "ok",
     "timestamp": 1637422454475,
     "user": {
      "displayName": "shikha sharma",
      "photoUrl": "https://lh3.googleusercontent.com/a-/AOh14Gi7-MZ8BB7Qmx-tZ4fMVMWE32u_g_Wo7RIqAY8HaA=s64",
      "userId": "18236534953658718874"
     },
     "user_tz": -330
    },
    "id": "YKnP_5wbgD20"
   },
   "outputs": [],
   "source": [
    "df_translated_text.English_Description=df_translated_text.English_Description.astype(str)"
   ]
  },
  {
   "cell_type": "code",
   "execution_count": 159,
   "metadata": {
    "colab": {
     "base_uri": "https://localhost:8080/",
     "height": 204
    },
    "executionInfo": {
     "elapsed": 927,
     "status": "ok",
     "timestamp": 1637422455288,
     "user": {
      "displayName": "shikha sharma",
      "photoUrl": "https://lh3.googleusercontent.com/a-/AOh14Gi7-MZ8BB7Qmx-tZ4fMVMWE32u_g_Wo7RIqAY8HaA=s64",
      "userId": "18236534953658718874"
     },
     "user_tz": -330
    },
    "id": "oBfEhK52R5n9",
    "outputId": "c9f80309-f9e0-419f-ea76-67ec300019ef"
   },
   "outputs": [
    {
     "data": {
      "text/html": [
       "<div>\n",
       "<style scoped>\n",
       "    .dataframe tbody tr th:only-of-type {\n",
       "        vertical-align: middle;\n",
       "    }\n",
       "\n",
       "    .dataframe tbody tr th {\n",
       "        vertical-align: top;\n",
       "    }\n",
       "\n",
       "    .dataframe thead th {\n",
       "        text-align: right;\n",
       "    }\n",
       "</style>\n",
       "<table border=\"1\" class=\"dataframe\">\n",
       "  <thead>\n",
       "    <tr style=\"text-align: right;\">\n",
       "      <th></th>\n",
       "      <th>Short description</th>\n",
       "      <th>Caller</th>\n",
       "      <th>Assignment group</th>\n",
       "      <th>English_Description</th>\n",
       "    </tr>\n",
       "  </thead>\n",
       "  <tbody>\n",
       "    <tr>\n",
       "      <th>2110</th>\n",
       "      <td>ticket update on inplant_867380</td>\n",
       "      <td>fumkcsji sarmtlhy</td>\n",
       "      <td>GRP_0</td>\n",
       "      <td>ticket update on inplant_867380</td>\n",
       "    </tr>\n",
       "    <tr>\n",
       "      <th>1981</th>\n",
       "      <td>telephone repair  pu-4 (shop floor 173 connect...</td>\n",
       "      <td>segvwfyn mogtrevn</td>\n",
       "      <td>GRP_19</td>\n",
       "      <td>received from segvwfynmogtrevngmailcomdear sir...</td>\n",
       "    </tr>\n",
       "    <tr>\n",
       "      <th>6872</th>\n",
       "      <td>weekly reboot of csqe prod servers</td>\n",
       "      <td>uvrbhlnt bjrmalzi</td>\n",
       "      <td>GRP_8</td>\n",
       "      <td>weekly reboot of csqe prod servers _x000D__x00...</td>\n",
       "    </tr>\n",
       "    <tr>\n",
       "      <th>7713</th>\n",
       "      <td>setup new ws\\svuxjkpg tpurnjvi</td>\n",
       "      <td>svuxjkpg tpurnjvi</td>\n",
       "      <td>GRP_24</td>\n",
       "      <td>setup new wssvuxjkpg tpurnjvi</td>\n",
       "    </tr>\n",
       "    <tr>\n",
       "      <th>3113</th>\n",
       "      <td>account locked in supply_chain_software</td>\n",
       "      <td>rvdtagmf klbnhydo</td>\n",
       "      <td>GRP_0</td>\n",
       "      <td>account locked in supply_chain_software</td>\n",
       "    </tr>\n",
       "  </tbody>\n",
       "</table>\n",
       "</div>"
      ],
      "text/plain": [
       "                                      Short description             Caller  \\\n",
       "2110                    ticket update on inplant_867380  fumkcsji sarmtlhy   \n",
       "1981  telephone repair  pu-4 (shop floor 173 connect...  segvwfyn mogtrevn   \n",
       "6872                weekly reboot of csqe prod servers   uvrbhlnt bjrmalzi   \n",
       "7713                     setup new ws\\svuxjkpg tpurnjvi  svuxjkpg tpurnjvi   \n",
       "3113           account locked in supply_chain_software   rvdtagmf klbnhydo   \n",
       "\n",
       "     Assignment group                                English_Description  \n",
       "2110            GRP_0                    ticket update on inplant_867380  \n",
       "1981           GRP_19  received from segvwfynmogtrevngmailcomdear sir...  \n",
       "6872            GRP_8  weekly reboot of csqe prod servers _x000D__x00...  \n",
       "7713           GRP_24                      setup new wssvuxjkpg tpurnjvi  \n",
       "3113            GRP_0           account locked in supply_chain_software   "
      ]
     },
     "execution_count": 159,
     "metadata": {},
     "output_type": "execute_result"
    }
   ],
   "source": [
    "#Removing unwanted charcters\n",
    "df_translated_text['English_Description']=df_translated_text['English_Description'].apply(lambda x: re.sub(r'[^\\w ]+', \"\", x))\n",
    "#Printing sample values\n",
    "df_translated_text.sample(5)"
   ]
  },
  {
   "cell_type": "code",
   "execution_count": null,
   "metadata": {},
   "outputs": [],
   "source": []
  },
  {
   "cell_type": "code",
   "execution_count": 160,
   "metadata": {
    "colab": {
     "base_uri": "https://localhost:8080/",
     "height": 289
    },
    "executionInfo": {
     "elapsed": 88342,
     "status": "ok",
     "timestamp": 1637422545876,
     "user": {
      "displayName": "shikha sharma",
      "photoUrl": "https://lh3.googleusercontent.com/a-/AOh14Gi7-MZ8BB7Qmx-tZ4fMVMWE32u_g_Wo7RIqAY8HaA=s64",
      "userId": "18236534953658718874"
     },
     "user_tz": -330
    },
    "id": "EC5mWIj6Jyor",
    "outputId": "6c5962ea-73a2-4b82-8944-467fe8d0f54f"
   },
   "outputs": [],
   "source": [
    "def Expansions(x):\n",
    "  expanded_text=[]\n",
    "  expanded_words=[]\n",
    "  for x in x.split():\n",
    "    expanded_words.append(contractions.fix(x))\n",
    "    expanded_text = ' '.join(expanded_words)\n",
    "  return(expanded_text)\n"
   ]
  },
  {
   "cell_type": "code",
   "execution_count": 161,
   "metadata": {},
   "outputs": [
    {
     "data": {
      "text/html": [
       "<div>\n",
       "<style scoped>\n",
       "    .dataframe tbody tr th:only-of-type {\n",
       "        vertical-align: middle;\n",
       "    }\n",
       "\n",
       "    .dataframe tbody tr th {\n",
       "        vertical-align: top;\n",
       "    }\n",
       "\n",
       "    .dataframe thead th {\n",
       "        text-align: right;\n",
       "    }\n",
       "</style>\n",
       "<table border=\"1\" class=\"dataframe\">\n",
       "  <thead>\n",
       "    <tr style=\"text-align: right;\">\n",
       "      <th></th>\n",
       "      <th>Short description</th>\n",
       "      <th>Caller</th>\n",
       "      <th>Assignment group</th>\n",
       "      <th>English_Description</th>\n",
       "      <th>Expansions</th>\n",
       "    </tr>\n",
       "  </thead>\n",
       "  <tbody>\n",
       "    <tr>\n",
       "      <th>2115</th>\n",
       "      <td>engineering tool page not opening</td>\n",
       "      <td>lwgytuxq qspdztiw</td>\n",
       "      <td>GRP_0</td>\n",
       "      <td>engineering tool page not opening</td>\n",
       "      <td>engineering tool page not opening</td>\n",
       "    </tr>\n",
       "    <tr>\n",
       "      <th>291</th>\n",
       "      <td>india:  29060s-access-sw01 and sw02 went down ...</td>\n",
       "      <td>mnlazfsr mtqrkhnx</td>\n",
       "      <td>GRP_8</td>\n",
       "      <td>india  29060saccesssw01 and sw02 went down at ...</td>\n",
       "      <td>india 29060saccesssw01 and sw02 went down at 0...</td>\n",
       "    </tr>\n",
       "    <tr>\n",
       "      <th>6943</th>\n",
       "      <td>blue screen error.</td>\n",
       "      <td>njcxmlbf svlmrqjd</td>\n",
       "      <td>GRP_0</td>\n",
       "      <td>blue screen error</td>\n",
       "      <td>blue screen error</td>\n",
       "    </tr>\n",
       "    <tr>\n",
       "      <th>8300</th>\n",
       "      <td>erp SID_34 is not available</td>\n",
       "      <td>naecuhxz hdrqvume</td>\n",
       "      <td>GRP_0</td>\n",
       "      <td>i connected through vpn to look up information...</td>\n",
       "      <td>i connected through vpn to look up information...</td>\n",
       "    </tr>\n",
       "    <tr>\n",
       "      <th>3554</th>\n",
       "      <td>to add a new employee to distribution lists</td>\n",
       "      <td>bmudkpie qolrvbip</td>\n",
       "      <td>GRP_0</td>\n",
       "      <td>received from bmudkpieqolrvbipgmailcomhello1  ...</td>\n",
       "      <td>received from bmudkpieqolrvbipgmailcomhello1 p...</td>\n",
       "    </tr>\n",
       "  </tbody>\n",
       "</table>\n",
       "</div>"
      ],
      "text/plain": [
       "                                      Short description             Caller  \\\n",
       "2115                  engineering tool page not opening  lwgytuxq qspdztiw   \n",
       "291   india:  29060s-access-sw01 and sw02 went down ...  mnlazfsr mtqrkhnx   \n",
       "6943                                 blue screen error.  njcxmlbf svlmrqjd   \n",
       "8300                        erp SID_34 is not available  naecuhxz hdrqvume   \n",
       "3554        to add a new employee to distribution lists  bmudkpie qolrvbip   \n",
       "\n",
       "     Assignment group                                English_Description  \\\n",
       "2115            GRP_0                  engineering tool page not opening   \n",
       "291             GRP_8  india  29060saccesssw01 and sw02 went down at ...   \n",
       "6943            GRP_0                                  blue screen error   \n",
       "8300            GRP_0  i connected through vpn to look up information...   \n",
       "3554            GRP_0  received from bmudkpieqolrvbipgmailcomhello1  ...   \n",
       "\n",
       "                                             Expansions  \n",
       "2115                  engineering tool page not opening  \n",
       "291   india 29060saccesssw01 and sw02 went down at 0...  \n",
       "6943                                  blue screen error  \n",
       "8300  i connected through vpn to look up information...  \n",
       "3554  received from bmudkpieqolrvbipgmailcomhello1 p...  "
      ]
     },
     "execution_count": 161,
     "metadata": {},
     "output_type": "execute_result"
    }
   ],
   "source": [
    "df_translated_text['Expansions']=df_translated_text['English_Description'].apply(lambda x:Expansions(str(x)))\n",
    "#Printing the sample values\n",
    "df_translated_text.sample(5)"
   ]
  },
  {
   "cell_type": "code",
   "execution_count": 162,
   "metadata": {},
   "outputs": [
    {
     "data": {
      "text/html": [
       "<div>\n",
       "<style scoped>\n",
       "    .dataframe tbody tr th:only-of-type {\n",
       "        vertical-align: middle;\n",
       "    }\n",
       "\n",
       "    .dataframe tbody tr th {\n",
       "        vertical-align: top;\n",
       "    }\n",
       "\n",
       "    .dataframe thead th {\n",
       "        text-align: right;\n",
       "    }\n",
       "</style>\n",
       "<table border=\"1\" class=\"dataframe\">\n",
       "  <thead>\n",
       "    <tr style=\"text-align: right;\">\n",
       "      <th></th>\n",
       "      <th>Short description</th>\n",
       "      <th>Caller</th>\n",
       "      <th>Assignment group</th>\n",
       "      <th>English_Description</th>\n",
       "      <th>Expansions</th>\n",
       "      <th>Description_Removed_StopWords</th>\n",
       "    </tr>\n",
       "  </thead>\n",
       "  <tbody>\n",
       "    <tr>\n",
       "      <th>203</th>\n",
       "      <td>need the username to submit the insurance</td>\n",
       "      <td>kamtroxv oequfsky</td>\n",
       "      <td>GRP_0</td>\n",
       "      <td>need the username to submit the insurance</td>\n",
       "      <td>need the username to submit the insurance</td>\n",
       "      <td>need username submit insurance</td>\n",
       "    </tr>\n",
       "    <tr>\n",
       "      <th>4006</th>\n",
       "      <td>unable to loginto skype</td>\n",
       "      <td>hlcujyed hqfolasz</td>\n",
       "      <td>GRP_0</td>\n",
       "      <td>unable to loginto skype</td>\n",
       "      <td>unable to loginto skype</td>\n",
       "      <td>unable loginto skype</td>\n",
       "    </tr>\n",
       "    <tr>\n",
       "      <th>7402</th>\n",
       "      <td>after upgrade telephony_software has dierppear...</td>\n",
       "      <td>zkgfcyvx sgxeatyb</td>\n",
       "      <td>GRP_0</td>\n",
       "      <td>after upgrade telephony_software has dierppear...</td>\n",
       "      <td>after upgrade telephony_software has dierppear...</td>\n",
       "      <td>upgrade telephony_software dierppeared screen</td>\n",
       "    </tr>\n",
       "    <tr>\n",
       "      <th>2170</th>\n",
       "      <td>wifi not working in conference room of usa oh ...</td>\n",
       "      <td>aexbclqv zvapcslb</td>\n",
       "      <td>GRP_0</td>\n",
       "      <td>wifi not working in conference room of usa oh ...</td>\n",
       "      <td>wifi not working in conference room of usa oh ...</td>\n",
       "      <td>wifi working conference room usa oh _x000D_</td>\n",
       "    </tr>\n",
       "    <tr>\n",
       "      <th>6925</th>\n",
       "      <td>company email accounts tzrekwqf homwadbs!</td>\n",
       "      <td>tzrekwqf homwadbs</td>\n",
       "      <td>GRP_0</td>\n",
       "      <td>dear support team_x000D__x000D_can you give me...</td>\n",
       "      <td>dear support team_x000D__x000D_can you give me...</td>\n",
       "      <td>dear support team_x000D__x000D_can status issu...</td>\n",
       "    </tr>\n",
       "  </tbody>\n",
       "</table>\n",
       "</div>"
      ],
      "text/plain": [
       "                                      Short description             Caller  \\\n",
       "203           need the username to submit the insurance  kamtroxv oequfsky   \n",
       "4006                            unable to loginto skype  hlcujyed hqfolasz   \n",
       "7402  after upgrade telephony_software has dierppear...  zkgfcyvx sgxeatyb   \n",
       "2170  wifi not working in conference room of usa oh ...  aexbclqv zvapcslb   \n",
       "6925          company email accounts tzrekwqf homwadbs!  tzrekwqf homwadbs   \n",
       "\n",
       "     Assignment group                                English_Description  \\\n",
       "203             GRP_0          need the username to submit the insurance   \n",
       "4006            GRP_0                            unable to loginto skype   \n",
       "7402            GRP_0  after upgrade telephony_software has dierppear...   \n",
       "2170            GRP_0  wifi not working in conference room of usa oh ...   \n",
       "6925            GRP_0  dear support team_x000D__x000D_can you give me...   \n",
       "\n",
       "                                             Expansions  \\\n",
       "203           need the username to submit the insurance   \n",
       "4006                            unable to loginto skype   \n",
       "7402  after upgrade telephony_software has dierppear...   \n",
       "2170  wifi not working in conference room of usa oh ...   \n",
       "6925  dear support team_x000D__x000D_can you give me...   \n",
       "\n",
       "                          Description_Removed_StopWords  \n",
       "203                      need username submit insurance  \n",
       "4006                               unable loginto skype  \n",
       "7402      upgrade telephony_software dierppeared screen  \n",
       "2170        wifi working conference room usa oh _x000D_  \n",
       "6925  dear support team_x000D__x000D_can status issu...  "
      ]
     },
     "execution_count": 162,
     "metadata": {},
     "output_type": "execute_result"
    }
   ],
   "source": [
    "  \n",
    "df_translated_text['Description_Removed_StopWords']=df_translated_text['Expansions'].apply(lambda t:' '.join([t for t in t.split() if t not in stop_words]))\n",
    "#Checking for sample rows\n",
    "df_translated_text.sample(5)\n"
   ]
  },
  {
   "cell_type": "code",
   "execution_count": 163,
   "metadata": {},
   "outputs": [
    {
     "data": {
      "text/html": [
       "<div>\n",
       "<style scoped>\n",
       "    .dataframe tbody tr th:only-of-type {\n",
       "        vertical-align: middle;\n",
       "    }\n",
       "\n",
       "    .dataframe tbody tr th {\n",
       "        vertical-align: top;\n",
       "    }\n",
       "\n",
       "    .dataframe thead th {\n",
       "        text-align: right;\n",
       "    }\n",
       "</style>\n",
       "<table border=\"1\" class=\"dataframe\">\n",
       "  <thead>\n",
       "    <tr style=\"text-align: right;\">\n",
       "      <th></th>\n",
       "      <th>Short description</th>\n",
       "      <th>Caller</th>\n",
       "      <th>Assignment group</th>\n",
       "      <th>English_Description</th>\n",
       "      <th>Expansions</th>\n",
       "      <th>Description_Removed_StopWords</th>\n",
       "    </tr>\n",
       "  </thead>\n",
       "  <tbody>\n",
       "    <tr>\n",
       "      <th>376</th>\n",
       "      <td>business_client not working</td>\n",
       "      <td>lvxakohq tsfnhowj</td>\n",
       "      <td>GRP_0</td>\n",
       "      <td>_x000D__x000D_received from lvxakohqtsfnhowjgm...</td>\n",
       "      <td>_x000D__x000D_received from lvxakohqtsfnhowjgm...</td>\n",
       "      <td>_x000D__x000D_received lvxakohqtsfnhowjgmailco...</td>\n",
       "    </tr>\n",
       "    <tr>\n",
       "      <th>6045</th>\n",
       "      <td>vpn router : company-eu-deu-germany-dmvpn-1811...</td>\n",
       "      <td>bjtguqne xthqrzpc</td>\n",
       "      <td>GRP_8</td>\n",
       "      <td>vpn router  companyeudeugermanydmvpn1811rtr02 ...</td>\n",
       "      <td>vpn router companyeudeugermanydmvpn1811rtr02 d...</td>\n",
       "      <td>vpn router companyeudeugermanydmvpn1811rtr02 d...</td>\n",
       "    </tr>\n",
       "    <tr>\n",
       "      <th>7881</th>\n",
       "      <td>company center page does not load</td>\n",
       "      <td>fpbmtxei jtqbcnfs</td>\n",
       "      <td>GRP_0</td>\n",
       "      <td>company center page does not load</td>\n",
       "      <td>company center page does not load</td>\n",
       "      <td>company center page load</td>\n",
       "    </tr>\n",
       "    <tr>\n",
       "      <th>1903</th>\n",
       "      <td>vpn not getting log in</td>\n",
       "      <td>xiwegtas ygrfbzon</td>\n",
       "      <td>GRP_0</td>\n",
       "      <td>namevithrkas languagebrowsermicrosoft internet...</td>\n",
       "      <td>namevithrkas languagebrowsermicrosoft internet...</td>\n",
       "      <td>namevithrkas languagebrowsermicrosoft internet...</td>\n",
       "    </tr>\n",
       "    <tr>\n",
       "      <th>5172</th>\n",
       "      <td>password re-set</td>\n",
       "      <td>zenjimbo xirzfpob</td>\n",
       "      <td>GRP_0</td>\n",
       "      <td>_x000D__x000D_received from zenjimdghtyboxirzf...</td>\n",
       "      <td>_x000D__x000D_received from zenjimdghtyboxirzf...</td>\n",
       "      <td>_x000D__x000D_received zenjimdghtyboxirzfpobgm...</td>\n",
       "    </tr>\n",
       "  </tbody>\n",
       "</table>\n",
       "</div>"
      ],
      "text/plain": [
       "                                      Short description             Caller  \\\n",
       "376                         business_client not working  lvxakohq tsfnhowj   \n",
       "6045  vpn router : company-eu-deu-germany-dmvpn-1811...  bjtguqne xthqrzpc   \n",
       "7881                  company center page does not load  fpbmtxei jtqbcnfs   \n",
       "1903                             vpn not getting log in  xiwegtas ygrfbzon   \n",
       "5172                                    password re-set  zenjimbo xirzfpob   \n",
       "\n",
       "     Assignment group                                English_Description  \\\n",
       "376             GRP_0  _x000D__x000D_received from lvxakohqtsfnhowjgm...   \n",
       "6045            GRP_8  vpn router  companyeudeugermanydmvpn1811rtr02 ...   \n",
       "7881            GRP_0                  company center page does not load   \n",
       "1903            GRP_0  namevithrkas languagebrowsermicrosoft internet...   \n",
       "5172            GRP_0  _x000D__x000D_received from zenjimdghtyboxirzf...   \n",
       "\n",
       "                                             Expansions  \\\n",
       "376   _x000D__x000D_received from lvxakohqtsfnhowjgm...   \n",
       "6045  vpn router companyeudeugermanydmvpn1811rtr02 d...   \n",
       "7881                  company center page does not load   \n",
       "1903  namevithrkas languagebrowsermicrosoft internet...   \n",
       "5172  _x000D__x000D_received from zenjimdghtyboxirzf...   \n",
       "\n",
       "                          Description_Removed_StopWords  \n",
       "376   _x000D__x000D_received lvxakohqtsfnhowjgmailco...  \n",
       "6045  vpn router companyeudeugermanydmvpn1811rtr02 d...  \n",
       "7881                           company center page load  \n",
       "1903  namevithrkas languagebrowsermicrosoft internet...  \n",
       "5172  _x000D__x000D_received zenjimdghtyboxirzfpobgm...  "
      ]
     },
     "execution_count": 163,
     "metadata": {},
     "output_type": "execute_result"
    }
   ],
   "source": [
    "#Removing Multiple spaces\n",
    "df_translated_text['Expansions']=df_translated_text['Expansions'].apply(lambda x: ' '.join(x.split()))\n",
    "#Printing sample values\n",
    "df_translated_text.sample(5)"
   ]
  },
  {
   "cell_type": "code",
   "execution_count": 164,
   "metadata": {},
   "outputs": [],
   "source": [
    "def remove_accented_chars(x):\n",
    "  x=unicodedata.normalize('NFKD',x).encode('ascii','ignore').decode('utf-8','ignore')\n",
    "  return x"
   ]
  },
  {
   "cell_type": "code",
   "execution_count": 165,
   "metadata": {},
   "outputs": [
    {
     "data": {
      "text/html": [
       "<div>\n",
       "<style scoped>\n",
       "    .dataframe tbody tr th:only-of-type {\n",
       "        vertical-align: middle;\n",
       "    }\n",
       "\n",
       "    .dataframe tbody tr th {\n",
       "        vertical-align: top;\n",
       "    }\n",
       "\n",
       "    .dataframe thead th {\n",
       "        text-align: right;\n",
       "    }\n",
       "</style>\n",
       "<table border=\"1\" class=\"dataframe\">\n",
       "  <thead>\n",
       "    <tr style=\"text-align: right;\">\n",
       "      <th></th>\n",
       "      <th>Short description</th>\n",
       "      <th>Caller</th>\n",
       "      <th>Assignment group</th>\n",
       "      <th>English_Description</th>\n",
       "      <th>Expansions</th>\n",
       "      <th>Description_Removed_StopWords</th>\n",
       "    </tr>\n",
       "  </thead>\n",
       "  <tbody>\n",
       "    <tr>\n",
       "      <th>3532</th>\n",
       "      <td>security incidents - ( #in33944327) :possible ...</td>\n",
       "      <td>gzhapcld fdigznbk</td>\n",
       "      <td>GRP_2</td>\n",
       "      <td>source ip _x000D_system name _x000D_user  name...</td>\n",
       "      <td>source ip _x000D_system name _x000D_user name_...</td>\n",
       "      <td>source ip _x000D_system _x000D_user name_x000D...</td>\n",
       "    </tr>\n",
       "    <tr>\n",
       "      <th>6982</th>\n",
       "      <td>vpn is not connecting.</td>\n",
       "      <td>pfmcnahv ofzlusri</td>\n",
       "      <td>GRP_0</td>\n",
       "      <td>vpn is not connecting</td>\n",
       "      <td>vpn is not connecting</td>\n",
       "      <td>vpn connecting</td>\n",
       "    </tr>\n",
       "    <tr>\n",
       "      <th>3914</th>\n",
       "      <td>vpn not working- vpn.company.com  link is givi...</td>\n",
       "      <td>jborwynt gidxbfrq</td>\n",
       "      <td>GRP_0</td>\n",
       "      <td>vpn not working vpncompanycom  link is giving ...</td>\n",
       "      <td>vpn not working vpncompanycom link is giving e...</td>\n",
       "      <td>vpn working vpncompanycom link giving error</td>\n",
       "    </tr>\n",
       "    <tr>\n",
       "      <th>3606</th>\n",
       "      <td>acct 70939408</td>\n",
       "      <td>nkthumgf mwgdenbs</td>\n",
       "      <td>GRP_15</td>\n",
       "      <td>received from nkthumgfmwgdenbsgmailcomthis acc...</td>\n",
       "      <td>received from nkthumgfmwgdenbsgmailcomthis acc...</td>\n",
       "      <td>received nkthumgfmwgdenbsgmailcomthis account ...</td>\n",
       "    </tr>\n",
       "    <tr>\n",
       "      <th>2218</th>\n",
       "      <td>the oracle listener monitor is reporting a : w...</td>\n",
       "      <td>jloygrwh acvztedi</td>\n",
       "      <td>GRP_1</td>\n",
       "      <td>the oracle listener monitor is reporting a  wa...</td>\n",
       "      <td>the oracle listener monitor is reporting a war...</td>\n",
       "      <td>oracle listener monitor reporting warning stat...</td>\n",
       "    </tr>\n",
       "    <tr>\n",
       "      <th>5690</th>\n",
       "      <td>unable to connect to vpn</td>\n",
       "      <td>srmuqpna wtlvbxmc</td>\n",
       "      <td>GRP_0</td>\n",
       "      <td>unable to connect to vpn</td>\n",
       "      <td>unable to connect to vpn</td>\n",
       "      <td>unable connect vpn</td>\n",
       "    </tr>\n",
       "    <tr>\n",
       "      <th>3416</th>\n",
       "      <td>password reset ad</td>\n",
       "      <td>ojgxundh aegxpmvd</td>\n",
       "      <td>GRP_0</td>\n",
       "      <td>password reset ad</td>\n",
       "      <td>password reset ad</td>\n",
       "      <td>password reset ad</td>\n",
       "    </tr>\n",
       "    <tr>\n",
       "      <th>1008</th>\n",
       "      <td>my collaboration_platform and sync keeps promp...</td>\n",
       "      <td>geylvotd msadrzkj</td>\n",
       "      <td>GRP_0</td>\n",
       "      <td>i changed my password yesterday ever since i k...</td>\n",
       "      <td>i changed my password yesterday ever since i k...</td>\n",
       "      <td>changed password yesterday getting messages en...</td>\n",
       "    </tr>\n",
       "    <tr>\n",
       "      <th>7751</th>\n",
       "      <td>erp down</td>\n",
       "      <td>damuphws arkulcoi</td>\n",
       "      <td>GRP_0</td>\n",
       "      <td>user id  vaugtyghtlissue  erp downlocation  us...</td>\n",
       "      <td>user id vaugtyghtlissue erp downlocation usano...</td>\n",
       "      <td>user id vaugtyghtlissue erp downlocation usano...</td>\n",
       "    </tr>\n",
       "    <tr>\n",
       "      <th>4580</th>\n",
       "      <td>install company barcode fÃ¼r ewew8323504 \\vzqo...</td>\n",
       "      <td>vzqomdgt jwoqbuml</td>\n",
       "      <td>GRP_24</td>\n",
       "      <td>install company barcode fÃr ewew8323504 vzqomd...</td>\n",
       "      <td>install company barcode fAr ewew8323504 vzqomd...</td>\n",
       "      <td>install company barcode fÃr ewew8323504 vzqomd...</td>\n",
       "    </tr>\n",
       "    <tr>\n",
       "      <th>4717</th>\n",
       "      <td>probleme mit Ã¶ffnen m:\\wsb_exe \\we_wu102 \\pfj...</td>\n",
       "      <td>pfjwinbg ljtzbdqg</td>\n",
       "      <td>GRP_24</td>\n",
       "      <td>probleme mit Ãffnen mwsb_exe we_wu102 pfjwinbg...</td>\n",
       "      <td>probleme mit Affnen mwsb_exe we_wu102 pfjwinbg...</td>\n",
       "      <td>probleme mit Ãffnen mwsb_exe we_wu102 pfjwinbg...</td>\n",
       "    </tr>\n",
       "    <tr>\n",
       "      <th>975</th>\n",
       "      <td>needs to change password</td>\n",
       "      <td>cukzsyjo lxspyctf</td>\n",
       "      <td>GRP_0</td>\n",
       "      <td>needs to change password</td>\n",
       "      <td>needs to change password</td>\n",
       "      <td>needs change password</td>\n",
       "    </tr>\n",
       "    <tr>\n",
       "      <th>5995</th>\n",
       "      <td>erp SID_34 password reset</td>\n",
       "      <td>mzqgobhv pebimhfz</td>\n",
       "      <td>GRP_0</td>\n",
       "      <td>erp SID_34 password reset</td>\n",
       "      <td>erp SID_34 password reset</td>\n",
       "      <td>erp SID_34 password reset</td>\n",
       "    </tr>\n",
       "    <tr>\n",
       "      <th>418</th>\n",
       "      <td>does the vpn meter the amount of data that can...</td>\n",
       "      <td>xbkucsvz gcpydteq</td>\n",
       "      <td>GRP_0</td>\n",
       "      <td>does the vpn meter the amount of data that can...</td>\n",
       "      <td>does the vpn meter the amount of data that can...</td>\n",
       "      <td>vpn meter data transferred</td>\n",
       "    </tr>\n",
       "    <tr>\n",
       "      <th>3218</th>\n",
       "      <td>password reset help from password_management_t...</td>\n",
       "      <td>rwhavckz drvxyihj</td>\n",
       "      <td>GRP_0</td>\n",
       "      <td>password reset help from password_management_t...</td>\n",
       "      <td>password reset help from password_management_t...</td>\n",
       "      <td>password reset help password_management_tool p...</td>\n",
       "    </tr>\n",
       "  </tbody>\n",
       "</table>\n",
       "</div>"
      ],
      "text/plain": [
       "                                      Short description             Caller  \\\n",
       "3532  security incidents - ( #in33944327) :possible ...  gzhapcld fdigznbk   \n",
       "6982                             vpn is not connecting.  pfmcnahv ofzlusri   \n",
       "3914  vpn not working- vpn.company.com  link is givi...  jborwynt gidxbfrq   \n",
       "3606                                      acct 70939408  nkthumgf mwgdenbs   \n",
       "2218  the oracle listener monitor is reporting a : w...  jloygrwh acvztedi   \n",
       "5690                           unable to connect to vpn  srmuqpna wtlvbxmc   \n",
       "3416                                 password reset ad   ojgxundh aegxpmvd   \n",
       "1008  my collaboration_platform and sync keeps promp...  geylvotd msadrzkj   \n",
       "7751                                           erp down  damuphws arkulcoi   \n",
       "4580  install company barcode fÃ¼r ewew8323504 \\vzqo...  vzqomdgt jwoqbuml   \n",
       "4717  probleme mit Ã¶ffnen m:\\wsb_exe \\we_wu102 \\pfj...  pfjwinbg ljtzbdqg   \n",
       "975                           needs to change password   cukzsyjo lxspyctf   \n",
       "5995                          erp SID_34 password reset  mzqgobhv pebimhfz   \n",
       "418   does the vpn meter the amount of data that can...  xbkucsvz gcpydteq   \n",
       "3218  password reset help from password_management_t...  rwhavckz drvxyihj   \n",
       "\n",
       "     Assignment group                                English_Description  \\\n",
       "3532            GRP_2  source ip _x000D_system name _x000D_user  name...   \n",
       "6982            GRP_0                              vpn is not connecting   \n",
       "3914            GRP_0  vpn not working vpncompanycom  link is giving ...   \n",
       "3606           GRP_15  received from nkthumgfmwgdenbsgmailcomthis acc...   \n",
       "2218            GRP_1  the oracle listener monitor is reporting a  wa...   \n",
       "5690            GRP_0                           unable to connect to vpn   \n",
       "3416            GRP_0                                 password reset ad    \n",
       "1008            GRP_0  i changed my password yesterday ever since i k...   \n",
       "7751            GRP_0  user id  vaugtyghtlissue  erp downlocation  us...   \n",
       "4580           GRP_24  install company barcode fÃr ewew8323504 vzqomd...   \n",
       "4717           GRP_24  probleme mit Ãffnen mwsb_exe we_wu102 pfjwinbg...   \n",
       "975             GRP_0                          needs to change password    \n",
       "5995            GRP_0                          erp SID_34 password reset   \n",
       "418             GRP_0  does the vpn meter the amount of data that can...   \n",
       "3218            GRP_0  password reset help from password_management_t...   \n",
       "\n",
       "                                             Expansions  \\\n",
       "3532  source ip _x000D_system name _x000D_user name_...   \n",
       "6982                              vpn is not connecting   \n",
       "3914  vpn not working vpncompanycom link is giving e...   \n",
       "3606  received from nkthumgfmwgdenbsgmailcomthis acc...   \n",
       "2218  the oracle listener monitor is reporting a war...   \n",
       "5690                           unable to connect to vpn   \n",
       "3416                                  password reset ad   \n",
       "1008  i changed my password yesterday ever since i k...   \n",
       "7751  user id vaugtyghtlissue erp downlocation usano...   \n",
       "4580  install company barcode fAr ewew8323504 vzqomd...   \n",
       "4717  probleme mit Affnen mwsb_exe we_wu102 pfjwinbg...   \n",
       "975                            needs to change password   \n",
       "5995                          erp SID_34 password reset   \n",
       "418   does the vpn meter the amount of data that can...   \n",
       "3218  password reset help from password_management_t...   \n",
       "\n",
       "                          Description_Removed_StopWords  \n",
       "3532  source ip _x000D_system _x000D_user name_x000D...  \n",
       "6982                                     vpn connecting  \n",
       "3914        vpn working vpncompanycom link giving error  \n",
       "3606  received nkthumgfmwgdenbsgmailcomthis account ...  \n",
       "2218  oracle listener monitor reporting warning stat...  \n",
       "5690                                 unable connect vpn  \n",
       "3416                                  password reset ad  \n",
       "1008  changed password yesterday getting messages en...  \n",
       "7751  user id vaugtyghtlissue erp downlocation usano...  \n",
       "4580  install company barcode fÃr ewew8323504 vzqomd...  \n",
       "4717  probleme mit Ãffnen mwsb_exe we_wu102 pfjwinbg...  \n",
       "975                               needs change password  \n",
       "5995                          erp SID_34 password reset  \n",
       "418                          vpn meter data transferred  \n",
       "3218  password reset help password_management_tool p...  "
      ]
     },
     "execution_count": 165,
     "metadata": {},
     "output_type": "execute_result"
    }
   ],
   "source": [
    "df_translated_text['Expansions']=df_translated_text['Expansions'].apply(lambda x:remove_accented_chars(x))\n",
    "#Printing sample values\n",
    "df_translated_text.sample(15)"
   ]
  },
  {
   "cell_type": "code",
   "execution_count": 167,
   "metadata": {},
   "outputs": [],
   "source": [
    "def clean_text(text):\n",
    "    '''Make text lowercase, remove text in square brackets,remove links,remove punctuation\n",
    "    and remove words containing numbers.'''\n",
    "    text=text.replace(('first name: ').lower(),'firstname')\n",
    "    text=text.replace(('last name: ').lower(),'lastname')\n",
    "    text=text.replace(('received from:').lower(),'')\n",
    "    text=text.replace('email:','')\n",
    "    text=text.replace('email address:','') \n",
    "    index1=text.find('from:')\n",
    "    index2=text.find('\\nsddubject:')\n",
    "    text=text.replace(text[index1:index2],'')\n",
    "    index3=text.find('[cid:image')\n",
    "    index4=text.find(']')\n",
    "    text=text.replace(text[index3:index4],'')\n",
    "    text=text.replace('subject:','')\n",
    "    text=text.replace('received from:','')\n",
    "    text=text.replace('this message was sent from an unmonitored email address', '')\n",
    "    text=text.replace('please do not reply to this message', '')\n",
    "    text=text.replace('monitoring_tool@company.com','MonitoringTool')\n",
    "    text=text.replace('select the following link to view the disclaimer in an alternate language','')\n",
    "    text=text.replace('description problem', '') \n",
    "    text=text.replace('steps taken far', '')\n",
    "    text=text.replace('customer job title', '')\n",
    "    text=text.replace('sales engineer contact', '')\n",
    "    text=text.replace('description of problem:', '')\n",
    "    text=text.replace('steps taken so far', '')\n",
    "    text=text.replace('please do the needful', '')\n",
    "    text=text.replace('please note that ', '')\n",
    "    text=text.replace('please find below', '')\n",
    "    text=text.replace('date and time', '')\n",
    "    text=text.replace('kindly refer mail', '')\n",
    "    text=text.replace('name:', '')\n",
    "    text=text.replace('language:', '')\n",
    "    text=text.replace('customer number:', '')\n",
    "    text=text.replace('telephone:', '')\n",
    "    text=text.replace('summary:', '')\n",
    "    text=text.replace('sincerely', '')\n",
    "    text=text.replace('company inc', '')\n",
    "    text=text.replace('importance:', '')\n",
    "    text=text.replace('gmail.com', '')\n",
    "    text=text.replace('company.com', '')\n",
    "    text=text.replace('microsoftonline.com', '')\n",
    "    text=text.replace('company.onmicrosoft.com', '')\n",
    "    text=text.replace('hello', '')\n",
    "    text=text.replace('hallo', '')\n",
    "    text=text.replace('hi it team', '')\n",
    "    text=text.replace('hi team', '')\n",
    "    text=text.replace('hi', '')\n",
    "    text=text.replace('best', '')\n",
    "    text=text.replace('kind', '')\n",
    "    text=text.replace('regards', '')\n",
    "    text=text.replace('good morning', '')\n",
    "    text=text.replace('please', '')\n",
    "    \n",
    "    return text"
   ]
  },
  {
   "cell_type": "code",
   "execution_count": 168,
   "metadata": {},
   "outputs": [],
   "source": [
    "df_translated_text['cleaned_description'] = df_translated_text['Description_Removed_StopWords'].apply(lambda x: clean_text(x))"
   ]
  },
  {
   "cell_type": "code",
   "execution_count": 169,
   "metadata": {},
   "outputs": [],
   "source": [
    "df_translated_text['number_of_words'] = df_translated_text['cleaned_description'].apply(lambda x: len(x.split()))"
   ]
  },
  {
   "cell_type": "code",
   "execution_count": 170,
   "metadata": {},
   "outputs": [
    {
     "data": {
      "text/html": [
       "<div>\n",
       "<style scoped>\n",
       "    .dataframe tbody tr th:only-of-type {\n",
       "        vertical-align: middle;\n",
       "    }\n",
       "\n",
       "    .dataframe tbody tr th {\n",
       "        vertical-align: top;\n",
       "    }\n",
       "\n",
       "    .dataframe thead th {\n",
       "        text-align: right;\n",
       "    }\n",
       "</style>\n",
       "<table border=\"1\" class=\"dataframe\">\n",
       "  <thead>\n",
       "    <tr style=\"text-align: right;\">\n",
       "      <th></th>\n",
       "      <th>Short description</th>\n",
       "      <th>Caller</th>\n",
       "      <th>Assignment group</th>\n",
       "      <th>English_Description</th>\n",
       "      <th>Expansions</th>\n",
       "      <th>Description_Removed_StopWords</th>\n",
       "      <th>cleaned_description</th>\n",
       "      <th>number_of_words</th>\n",
       "    </tr>\n",
       "  </thead>\n",
       "  <tbody>\n",
       "    <tr>\n",
       "      <th>0</th>\n",
       "      <td>login issue</td>\n",
       "      <td>spxjnwir pjlcoqds</td>\n",
       "      <td>GRP_0</td>\n",
       "      <td>verified user detailsemployee  manager name_x0...</td>\n",
       "      <td>verified user detailsemployee manager name_x00...</td>\n",
       "      <td>verified user detailsemployee manager name_x00...</td>\n",
       "      <td>verified user detailsemployee manager name_x00...</td>\n",
       "      <td>16</td>\n",
       "    </tr>\n",
       "    <tr>\n",
       "      <th>1</th>\n",
       "      <td>outlook</td>\n",
       "      <td>hmjdrvpb komuaywn</td>\n",
       "      <td>GRP_0</td>\n",
       "      <td>_x000D__x000D_received from hmjdrvpbkomuaywngm...</td>\n",
       "      <td>_x000D__x000D_received from hmjdrvpbkomuaywngm...</td>\n",
       "      <td>_x000D__x000D_received hmjdrvpbkomuaywngmailco...</td>\n",
       "      <td>_x000D__x000D_received hmjdrvpbkomuaywngmailco...</td>\n",
       "      <td>13</td>\n",
       "    </tr>\n",
       "    <tr>\n",
       "      <th>2</th>\n",
       "      <td>cant log in to vpn</td>\n",
       "      <td>eylqgodm ybqkwiam</td>\n",
       "      <td>GRP_0</td>\n",
       "      <td>_x000D__x000D_received from eylqgodmybqkwiamgm...</td>\n",
       "      <td>_x000D__x000D_received from eylqgodmybqkwiamgm...</td>\n",
       "      <td>_x000D__x000D_received eylqgodmybqkwiamgmailco...</td>\n",
       "      <td>_x000D__x000D_received eylqgodmybqkwiamgmailco...</td>\n",
       "      <td>4</td>\n",
       "    </tr>\n",
       "    <tr>\n",
       "      <th>3</th>\n",
       "      <td>unable to access hr_tool page</td>\n",
       "      <td>xbkucsvz gcpydteq</td>\n",
       "      <td>GRP_0</td>\n",
       "      <td>unable to access hr_tool page</td>\n",
       "      <td>unable to access hr_tool page</td>\n",
       "      <td>unable access hr_tool page</td>\n",
       "      <td>unable access hr_tool page</td>\n",
       "      <td>4</td>\n",
       "    </tr>\n",
       "    <tr>\n",
       "      <th>4</th>\n",
       "      <td>skype error</td>\n",
       "      <td>owlgqjme qhcozdfx</td>\n",
       "      <td>GRP_0</td>\n",
       "      <td>skype error</td>\n",
       "      <td>skype error</td>\n",
       "      <td>skype error</td>\n",
       "      <td>skype error</td>\n",
       "      <td>2</td>\n",
       "    </tr>\n",
       "  </tbody>\n",
       "</table>\n",
       "</div>"
      ],
      "text/plain": [
       "               Short description             Caller Assignment group  \\\n",
       "0                    login issue  spxjnwir pjlcoqds            GRP_0   \n",
       "1                        outlook  hmjdrvpb komuaywn            GRP_0   \n",
       "2             cant log in to vpn  eylqgodm ybqkwiam            GRP_0   \n",
       "3  unable to access hr_tool page  xbkucsvz gcpydteq            GRP_0   \n",
       "4                   skype error   owlgqjme qhcozdfx            GRP_0   \n",
       "\n",
       "                                 English_Description  \\\n",
       "0  verified user detailsemployee  manager name_x0...   \n",
       "1  _x000D__x000D_received from hmjdrvpbkomuaywngm...   \n",
       "2  _x000D__x000D_received from eylqgodmybqkwiamgm...   \n",
       "3                      unable to access hr_tool page   \n",
       "4                                       skype error    \n",
       "\n",
       "                                          Expansions  \\\n",
       "0  verified user detailsemployee manager name_x00...   \n",
       "1  _x000D__x000D_received from hmjdrvpbkomuaywngm...   \n",
       "2  _x000D__x000D_received from eylqgodmybqkwiamgm...   \n",
       "3                      unable to access hr_tool page   \n",
       "4                                        skype error   \n",
       "\n",
       "                       Description_Removed_StopWords  \\\n",
       "0  verified user detailsemployee manager name_x00...   \n",
       "1  _x000D__x000D_received hmjdrvpbkomuaywngmailco...   \n",
       "2  _x000D__x000D_received eylqgodmybqkwiamgmailco...   \n",
       "3                         unable access hr_tool page   \n",
       "4                                        skype error   \n",
       "\n",
       "                                 cleaned_description  number_of_words  \n",
       "0  verified user detailsemployee manager name_x00...               16  \n",
       "1  _x000D__x000D_received hmjdrvpbkomuaywngmailco...               13  \n",
       "2  _x000D__x000D_received eylqgodmybqkwiamgmailco...                4  \n",
       "3                         unable access hr_tool page                4  \n",
       "4                                        skype error                2  "
      ]
     },
     "execution_count": 170,
     "metadata": {},
     "output_type": "execute_result"
    }
   ],
   "source": [
    "df_translated_text.head()"
   ]
  },
  {
   "cell_type": "code",
   "execution_count": 180,
   "metadata": {},
   "outputs": [],
   "source": [
    "df_text = df_translated_text.drop(['Short description','Caller','English_Description','Expansions','Description_Removed_StopWords'], axis=1)"
   ]
  },
  {
   "cell_type": "code",
   "execution_count": 181,
   "metadata": {},
   "outputs": [
    {
     "name": "stdout",
     "output_type": "stream",
     "text": [
      "Maximum no of words 1292\n",
      "Minimum no of words 0\n"
     ]
    }
   ],
   "source": [
    "#Checking maximum words and mimimum words\n",
    "print(\"Maximum no of words\",df_text['number_of_words'].max())\n",
    "print(\"Minimum no of words\",df_text['number_of_words'].min())"
   ]
  },
  {
   "cell_type": "code",
   "execution_count": 182,
   "metadata": {},
   "outputs": [],
   "source": [
    "df_text=df_text[df_text['number_of_words']>0]\n"
   ]
  },
  {
   "cell_type": "code",
   "execution_count": 183,
   "metadata": {},
   "outputs": [],
   "source": [
    "group_Counts=pd.DataFrame(df['Assignment group'].value_counts())\n",
    "group_Counts=group_Counts.rename_axis('unique_values').reset_index()"
   ]
  },
  {
   "cell_type": "code",
   "execution_count": 184,
   "metadata": {},
   "outputs": [],
   "source": [
    "list_1=list(group_Counts[group_Counts['Assignment group']<=75].unique_values)"
   ]
  },
  {
   "cell_type": "code",
   "execution_count": 185,
   "metadata": {},
   "outputs": [],
   "source": [
    "group_Counts=pd.DataFrame(df['Assignment group'].value_counts(normalize=True),)\n",
    "group_Counts=group_Counts.rename_axis('unique_values').reset_index()\n",
    "group_Counts=group_Counts.rename(columns = {'unique_values':'Asignment_group','Assignment group':'Perecentage'}, inplace=False)"
   ]
  },
  {
   "cell_type": "code",
   "execution_count": 186,
   "metadata": {},
   "outputs": [],
   "source": [
    "df_text=df_text.replace(list_1,'Others')"
   ]
  },
  {
   "cell_type": "code",
   "execution_count": 187,
   "metadata": {},
   "outputs": [
    {
     "data": {
      "text/plain": [
       "21"
      ]
     },
     "execution_count": 187,
     "metadata": {},
     "output_type": "execute_result"
    }
   ],
   "source": [
    "len(df_text['Assignment group'].value_counts().unique())"
   ]
  },
  {
   "cell_type": "code",
   "execution_count": 188,
   "metadata": {},
   "outputs": [
    {
     "data": {
      "text/html": [
       "<div>\n",
       "<style scoped>\n",
       "    .dataframe tbody tr th:only-of-type {\n",
       "        vertical-align: middle;\n",
       "    }\n",
       "\n",
       "    .dataframe tbody tr th {\n",
       "        vertical-align: top;\n",
       "    }\n",
       "\n",
       "    .dataframe thead th {\n",
       "        text-align: right;\n",
       "    }\n",
       "</style>\n",
       "<table border=\"1\" class=\"dataframe\">\n",
       "  <thead>\n",
       "    <tr style=\"text-align: right;\">\n",
       "      <th></th>\n",
       "      <th>Assignment group</th>\n",
       "      <th>cleaned_description</th>\n",
       "      <th>number_of_words</th>\n",
       "    </tr>\n",
       "  </thead>\n",
       "  <tbody>\n",
       "    <tr>\n",
       "      <th>2379</th>\n",
       "      <td>GRP_0</td>\n",
       "      <td>reset password SID_34 erp production SID_37 bw...</td>\n",
       "      <td>8</td>\n",
       "    </tr>\n",
       "    <tr>\n",
       "      <th>2460</th>\n",
       "      <td>Others</td>\n",
       "      <td>issues crm dynamics need permissions opening r...</td>\n",
       "      <td>19</td>\n",
       "    </tr>\n",
       "    <tr>\n",
       "      <th>3437</th>\n",
       "      <td>Others</td>\n",
       "      <td>_x000D__x000D_received rgtarterjgypacompanycom...</td>\n",
       "      <td>22</td>\n",
       "    </tr>\n",
       "    <tr>\n",
       "      <th>426</th>\n",
       "      <td>GRP_0</td>\n",
       "      <td>password change request</td>\n",
       "      <td>3</td>\n",
       "    </tr>\n",
       "    <tr>\n",
       "      <th>8417</th>\n",
       "      <td>GRP_24</td>\n",
       "      <td>bluetooth keybankrd defekt dardabthyr</td>\n",
       "      <td>4</td>\n",
       "    </tr>\n",
       "    <tr>\n",
       "      <th>6334</th>\n",
       "      <td>GRP_0</td>\n",
       "      <td>unable connect hub</td>\n",
       "      <td>3</td>\n",
       "    </tr>\n",
       "    <tr>\n",
       "      <th>1685</th>\n",
       "      <td>GRP_0</td>\n",
       "      <td>error login SID_34 system_x000D_verified user ...</td>\n",
       "      <td>20</td>\n",
       "    </tr>\n",
       "    <tr>\n",
       "      <th>1393</th>\n",
       "      <td>GRP_0</td>\n",
       "      <td>click download pdf popup allows download pdf a...</td>\n",
       "      <td>26</td>\n",
       "    </tr>\n",
       "    <tr>\n",
       "      <th>3215</th>\n",
       "      <td>GRP_0</td>\n",
       "      <td>windows erp account locked</td>\n",
       "      <td>4</td>\n",
       "    </tr>\n",
       "    <tr>\n",
       "      <th>6417</th>\n",
       "      <td>GRP_0</td>\n",
       "      <td>request reset microsoft online services passwo...</td>\n",
       "      <td>7</td>\n",
       "    </tr>\n",
       "  </tbody>\n",
       "</table>\n",
       "</div>"
      ],
      "text/plain": [
       "     Assignment group                                cleaned_description  \\\n",
       "2379            GRP_0  reset password SID_34 erp production SID_37 bw...   \n",
       "2460           Others  issues crm dynamics need permissions opening r...   \n",
       "3437           Others  _x000D__x000D_received rgtarterjgypacompanycom...   \n",
       "426             GRP_0                            password change request   \n",
       "8417           GRP_24              bluetooth keybankrd defekt dardabthyr   \n",
       "6334            GRP_0                                 unable connect hub   \n",
       "1685            GRP_0  error login SID_34 system_x000D_verified user ...   \n",
       "1393            GRP_0  click download pdf popup allows download pdf a...   \n",
       "3215            GRP_0                         windows erp account locked   \n",
       "6417            GRP_0  request reset microsoft online services passwo...   \n",
       "\n",
       "      number_of_words  \n",
       "2379                8  \n",
       "2460               19  \n",
       "3437               22  \n",
       "426                 3  \n",
       "8417                4  \n",
       "6334                3  \n",
       "1685               20  \n",
       "1393               26  \n",
       "3215                4  \n",
       "6417                7  "
      ]
     },
     "execution_count": 188,
     "metadata": {},
     "output_type": "execute_result"
    }
   ],
   "source": [
    "df_text.sample(10)"
   ]
  },
  {
   "cell_type": "code",
   "execution_count": null,
   "metadata": {},
   "outputs": [],
   "source": []
  }
 ],
 "metadata": {
  "accelerator": "GPU",
  "colab": {
   "collapsed_sections": [],
   "name": "Capstone_final.ipynb",
   "provenance": []
  },
  "kernelspec": {
   "display_name": "Python 3 (ipykernel)",
   "language": "python",
   "name": "python3"
  },
  "language_info": {
   "codemirror_mode": {
    "name": "ipython",
    "version": 3
   },
   "file_extension": ".py",
   "mimetype": "text/x-python",
   "name": "python",
   "nbconvert_exporter": "python",
   "pygments_lexer": "ipython3",
   "version": "3.9.7"
  }
 },
 "nbformat": 4,
 "nbformat_minor": 1
}
