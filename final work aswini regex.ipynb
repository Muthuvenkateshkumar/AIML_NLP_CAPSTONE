{
 "cells": [
  {
   "cell_type": "markdown",
   "metadata": {
    "id": "P7gqsfEbRts0"
   },
   "source": [
    "# Imports"
   ]
  },
  {
   "cell_type": "code",
   "execution_count": 14,
   "metadata": {
    "executionInfo": {
     "elapsed": 766,
     "status": "ok",
     "timestamp": 1637422362101,
     "user": {
      "displayName": "shikha sharma",
      "photoUrl": "https://lh3.googleusercontent.com/a-/AOh14Gi7-MZ8BB7Qmx-tZ4fMVMWE32u_g_Wo7RIqAY8HaA=s64",
      "userId": "18236534953658718874"
     },
     "user_tz": -330
    },
    "id": "MdP9Kh_yPPQ-"
   },
   "outputs": [
    {
     "name": "stderr",
     "output_type": "stream",
     "text": [
      "WARNING: You are using pip version 22.0.3; however, version 22.0.4 is available.\n",
      "You should consider upgrading via the 'C:\\Users\\DELL\\anaconda6\\python.exe -m pip install --upgrade pip' command.\n"
     ]
    },
    {
     "name": "stdout",
     "output_type": "stream",
     "text": [
      "Requirement already satisfied: spacy in c:\\users\\dell\\anaconda6\\lib\\site-packages (3.2.2)\n",
      "Requirement already satisfied: spacy-loggers<2.0.0,>=1.0.0 in c:\\users\\dell\\anaconda6\\lib\\site-packages (from spacy) (1.0.1)\n",
      "Requirement already satisfied: setuptools in c:\\users\\dell\\anaconda6\\lib\\site-packages (from spacy) (58.0.4)\n",
      "Requirement already satisfied: preshed<3.1.0,>=3.0.2 in c:\\users\\dell\\anaconda6\\lib\\site-packages (from spacy) (3.0.6)\n",
      "Requirement already satisfied: srsly<3.0.0,>=2.4.1 in c:\\users\\dell\\anaconda6\\lib\\site-packages (from spacy) (2.4.2)\n",
      "Requirement already satisfied: cymem<2.1.0,>=2.0.2 in c:\\users\\dell\\anaconda6\\lib\\site-packages (from spacy) (2.0.6)\n",
      "Requirement already satisfied: tqdm<5.0.0,>=4.38.0 in c:\\users\\dell\\anaconda6\\lib\\site-packages (from spacy) (4.62.3)\n",
      "Requirement already satisfied: numpy>=1.15.0 in c:\\users\\dell\\anaconda6\\lib\\site-packages (from spacy) (1.20.3)\n",
      "Requirement already satisfied: requests<3.0.0,>=2.13.0 in c:\\users\\dell\\anaconda6\\lib\\site-packages (from spacy) (2.27.1)\n",
      "Requirement already satisfied: pathy>=0.3.5 in c:\\users\\dell\\anaconda6\\lib\\site-packages (from spacy) (0.6.1)\n",
      "Requirement already satisfied: packaging>=20.0 in c:\\users\\dell\\appdata\\roaming\\python\\python39\\site-packages (from spacy) (21.3)\n",
      "Requirement already satisfied: murmurhash<1.1.0,>=0.28.0 in c:\\users\\dell\\anaconda6\\lib\\site-packages (from spacy) (1.0.6)\n",
      "Requirement already satisfied: pydantic!=1.8,!=1.8.1,<1.9.0,>=1.7.4 in c:\\users\\dell\\anaconda6\\lib\\site-packages (from spacy) (1.8.2)\n",
      "Requirement already satisfied: wasabi<1.1.0,>=0.8.1 in c:\\users\\dell\\anaconda6\\lib\\site-packages (from spacy) (0.9.0)\n",
      "Requirement already satisfied: thinc<8.1.0,>=8.0.12 in c:\\users\\dell\\anaconda6\\lib\\site-packages (from spacy) (8.0.13)\n",
      "Requirement already satisfied: spacy-legacy<3.1.0,>=3.0.8 in c:\\users\\dell\\anaconda6\\lib\\site-packages (from spacy) (3.0.8)\n",
      "Requirement already satisfied: jinja2 in c:\\users\\dell\\appdata\\roaming\\python\\python39\\site-packages (from spacy) (3.0.3)\n",
      "Requirement already satisfied: catalogue<2.1.0,>=2.0.6 in c:\\users\\dell\\anaconda6\\lib\\site-packages (from spacy) (2.0.6)\n",
      "Requirement already satisfied: blis<0.8.0,>=0.4.0 in c:\\users\\dell\\anaconda6\\lib\\site-packages (from spacy) (0.7.5)\n",
      "Requirement already satisfied: langcodes<4.0.0,>=3.2.0 in c:\\users\\dell\\anaconda6\\lib\\site-packages (from spacy) (3.3.0)\n",
      "Requirement already satisfied: typer<0.5.0,>=0.3.0 in c:\\users\\dell\\anaconda6\\lib\\site-packages (from spacy) (0.4.0)\n",
      "Requirement already satisfied: pyparsing!=3.0.5,>=2.0.2 in c:\\users\\dell\\appdata\\roaming\\python\\python39\\site-packages (from packaging>=20.0->spacy) (3.0.7)\n",
      "Requirement already satisfied: smart-open<6.0.0,>=5.0.0 in c:\\users\\dell\\anaconda6\\lib\\site-packages (from pathy>=0.3.5->spacy) (5.2.1)\n",
      "Requirement already satisfied: typing-extensions>=3.7.4.3 in c:\\users\\dell\\appdata\\roaming\\python\\python39\\site-packages (from pydantic!=1.8,!=1.8.1,<1.9.0,>=1.7.4->spacy) (4.0.1)\n",
      "Requirement already satisfied: charset-normalizer~=2.0.0 in c:\\users\\dell\\anaconda6\\lib\\site-packages (from requests<3.0.0,>=2.13.0->spacy) (2.0.4)\n",
      "Requirement already satisfied: urllib3<1.27,>=1.21.1 in c:\\users\\dell\\anaconda6\\lib\\site-packages (from requests<3.0.0,>=2.13.0->spacy) (1.26.8)\n",
      "Requirement already satisfied: idna<4,>=2.5 in c:\\users\\dell\\anaconda6\\lib\\site-packages (from requests<3.0.0,>=2.13.0->spacy) (2.10)\n",
      "Requirement already satisfied: certifi>=2017.4.17 in c:\\users\\dell\\anaconda6\\lib\\site-packages (from requests<3.0.0,>=2.13.0->spacy) (2021.10.8)\n",
      "Requirement already satisfied: colorama in c:\\users\\dell\\appdata\\roaming\\python\\python39\\site-packages (from tqdm<5.0.0,>=4.38.0->spacy) (0.4.4)\n",
      "Requirement already satisfied: click<9.0.0,>=7.1.1 in c:\\users\\dell\\appdata\\roaming\\python\\python39\\site-packages (from typer<0.5.0,>=0.3.0->spacy) (8.0.3)\n",
      "Requirement already satisfied: MarkupSafe>=2.0 in c:\\users\\dell\\appdata\\roaming\\python\\python39\\site-packages (from jinja2->spacy) (2.0.1)\n"
     ]
    }
   ],
   "source": [
    "import pandas as pd\n",
    "import numpy as np\n",
    "!pip install spacy\n",
    "import spacy\n",
    "from spacy.lang.en.stop_words import STOP_WORDS as stop_words\n",
    "import os\n",
    "import regex as re\n",
    "import nltk\n",
    "#nltk.download('stopwords')\n",
    "from nltk.corpus import stopwords"
   ]
  },
  {
   "cell_type": "code",
   "execution_count": 15,
   "metadata": {
    "executionInfo": {
     "elapsed": 48,
     "status": "ok",
     "timestamp": 1637422363550,
     "user": {
      "displayName": "shikha sharma",
      "photoUrl": "https://lh3.googleusercontent.com/a-/AOh14Gi7-MZ8BB7Qmx-tZ4fMVMWE32u_g_Wo7RIqAY8HaA=s64",
      "userId": "18236534953658718874"
     },
     "user_tz": -330
    },
    "id": "XfnFHBQPlB2I"
   },
   "outputs": [
    {
     "name": "stdout",
     "output_type": "stream",
     "text": [
      "Requirement already satisfied: contractions in c:\\users\\dell\\anaconda6\\lib\\site-packages (0.1.66)\n",
      "Requirement already satisfied: textsearch>=0.0.21 in c:\\users\\dell\\anaconda6\\lib\\site-packages (from contractions) (0.0.21)\n",
      "Requirement already satisfied: anyascii in c:\\users\\dell\\anaconda6\\lib\\site-packages (from textsearch>=0.0.21->contractions) (0.3.0)\n",
      "Requirement already satisfied: pyahocorasick in c:\\users\\dell\\anaconda6\\lib\\site-packages (from textsearch>=0.0.21->contractions) (1.4.4)\n"
     ]
    },
    {
     "name": "stderr",
     "output_type": "stream",
     "text": [
      "WARNING: You are using pip version 22.0.3; however, version 22.0.4 is available.\n",
      "You should consider upgrading via the 'C:\\Users\\DELL\\anaconda6\\python.exe -m pip install --upgrade pip' command.\n"
     ]
    },
    {
     "name": "stdout",
     "output_type": "stream",
     "text": [
      "Requirement already satisfied: langdetect in c:\\users\\dell\\anaconda6\\lib\\site-packages (1.0.9)\n",
      "Requirement already satisfied: six in c:\\users\\dell\\appdata\\roaming\\python\\python39\\site-packages (from langdetect) (1.16.0)\n"
     ]
    },
    {
     "name": "stderr",
     "output_type": "stream",
     "text": [
      "WARNING: You are using pip version 22.0.3; however, version 22.0.4 is available.\n",
      "You should consider upgrading via the 'C:\\Users\\DELL\\anaconda6\\python.exe -m pip install --upgrade pip' command.\n"
     ]
    }
   ],
   "source": [
    "!pip install contractions\n",
    "import contractions\n",
    "import unicodedata\n",
    "!pip install langdetect\n",
    "from langdetect import detect\n",
    "import matplotlib.pyplot as plt # data visualization library\n",
    "%matplotlib inline\n",
    "import seaborn as sns"
   ]
  },
  {
   "cell_type": "code",
   "execution_count": 16,
   "metadata": {},
   "outputs": [],
   "source": [
    "import gensim\n",
    "import gensim.corpora as corpora\n",
    "#Remove stemming(snowball stemming) add lemmatistaion using simple_process from gensim \n",
    "from gensim.utils import simple_preprocess\n",
    "from gensim.models.ldamodel import LdaModel\n",
    "from gensim.models import CoherenceModel\n",
    "\n",
    "import nltk\n",
    "from sklearn.feature_extraction.text import CountVectorizer\n",
    "from sklearn.model_selection import train_test_split\n",
    "from sklearn.multiclass import OneVsRestClassifier\n",
    "from sklearn.linear_model import LogisticRegression\n",
    "from sklearn.metrics import accuracy_score, confusion_matrix, f1_score\n",
    "from sklearn.metrics import classification_report\n"
   ]
  },
  {
   "cell_type": "markdown",
   "metadata": {
    "id": "y8UqYaMKRzRz"
   },
   "source": [
    "# Reading the data into df"
   ]
  },
  {
   "cell_type": "code",
   "execution_count": 17,
   "metadata": {
    "executionInfo": {
     "elapsed": 462,
     "status": "ok",
     "timestamp": 1637422364002,
     "user": {
      "displayName": "shikha sharma",
      "photoUrl": "https://lh3.googleusercontent.com/a-/AOh14Gi7-MZ8BB7Qmx-tZ4fMVMWE32u_g_Wo7RIqAY8HaA=s64",
      "userId": "18236534953658718874"
     },
     "user_tz": -330
    },
    "id": "8XvXQXiJQZN4",
    "scrolled": true
   },
   "outputs": [
    {
     "data": {
      "text/html": [
       "<div>\n",
       "<style scoped>\n",
       "    .dataframe tbody tr th:only-of-type {\n",
       "        vertical-align: middle;\n",
       "    }\n",
       "\n",
       "    .dataframe tbody tr th {\n",
       "        vertical-align: top;\n",
       "    }\n",
       "\n",
       "    .dataframe thead th {\n",
       "        text-align: right;\n",
       "    }\n",
       "</style>\n",
       "<table border=\"1\" class=\"dataframe\">\n",
       "  <thead>\n",
       "    <tr style=\"text-align: right;\">\n",
       "      <th></th>\n",
       "      <th>Short description</th>\n",
       "      <th>Description</th>\n",
       "      <th>Caller</th>\n",
       "      <th>Assignment group</th>\n",
       "    </tr>\n",
       "  </thead>\n",
       "  <tbody>\n",
       "    <tr>\n",
       "      <th>0</th>\n",
       "      <td>login issue</td>\n",
       "      <td>-verified user details.(employee# &amp; manager na...</td>\n",
       "      <td>spxjnwir pjlcoqds</td>\n",
       "      <td>GRP_0</td>\n",
       "    </tr>\n",
       "    <tr>\n",
       "      <th>1</th>\n",
       "      <td>outlook</td>\n",
       "      <td>_x000D_\\n_x000D_\\nreceived from: hmjdrvpb.komu...</td>\n",
       "      <td>hmjdrvpb komuaywn</td>\n",
       "      <td>GRP_0</td>\n",
       "    </tr>\n",
       "    <tr>\n",
       "      <th>2</th>\n",
       "      <td>cant log in to vpn</td>\n",
       "      <td>_x000D_\\n_x000D_\\nreceived from: eylqgodm.ybqk...</td>\n",
       "      <td>eylqgodm ybqkwiam</td>\n",
       "      <td>GRP_0</td>\n",
       "    </tr>\n",
       "    <tr>\n",
       "      <th>3</th>\n",
       "      <td>unable to access hr_tool page</td>\n",
       "      <td>unable to access hr_tool page</td>\n",
       "      <td>xbkucsvz gcpydteq</td>\n",
       "      <td>GRP_0</td>\n",
       "    </tr>\n",
       "    <tr>\n",
       "      <th>4</th>\n",
       "      <td>skype error</td>\n",
       "      <td>skype error</td>\n",
       "      <td>owlgqjme qhcozdfx</td>\n",
       "      <td>GRP_0</td>\n",
       "    </tr>\n",
       "    <tr>\n",
       "      <th>...</th>\n",
       "      <td>...</td>\n",
       "      <td>...</td>\n",
       "      <td>...</td>\n",
       "      <td>...</td>\n",
       "    </tr>\n",
       "    <tr>\n",
       "      <th>8495</th>\n",
       "      <td>emails not coming in from zz mail</td>\n",
       "      <td>_x000D_\\n_x000D_\\nreceived from: avglmrts.vhqm...</td>\n",
       "      <td>avglmrts vhqmtiua</td>\n",
       "      <td>GRP_29</td>\n",
       "    </tr>\n",
       "    <tr>\n",
       "      <th>8496</th>\n",
       "      <td>telephony_software issue</td>\n",
       "      <td>telephony_software issue</td>\n",
       "      <td>rbozivdq gmlhrtvp</td>\n",
       "      <td>GRP_0</td>\n",
       "    </tr>\n",
       "    <tr>\n",
       "      <th>8497</th>\n",
       "      <td>vip2: windows password reset for tifpdchb pedx...</td>\n",
       "      <td>vip2: windows password reset for tifpdchb pedx...</td>\n",
       "      <td>oybwdsgx oxyhwrfz</td>\n",
       "      <td>GRP_0</td>\n",
       "    </tr>\n",
       "    <tr>\n",
       "      <th>8498</th>\n",
       "      <td>machine nÃ£o estÃ¡ funcionando</td>\n",
       "      <td>i am unable to access the machine utilities to...</td>\n",
       "      <td>ufawcgob aowhxjky</td>\n",
       "      <td>GRP_62</td>\n",
       "    </tr>\n",
       "    <tr>\n",
       "      <th>8499</th>\n",
       "      <td>an mehreren pc`s lassen sich verschiedene prgr...</td>\n",
       "      <td>an mehreren pc`s lassen sich verschiedene prgr...</td>\n",
       "      <td>kqvbrspl jyzoklfx</td>\n",
       "      <td>GRP_49</td>\n",
       "    </tr>\n",
       "  </tbody>\n",
       "</table>\n",
       "<p>8500 rows × 4 columns</p>\n",
       "</div>"
      ],
      "text/plain": [
       "                                      Short description  \\\n",
       "0                                           login issue   \n",
       "1                                               outlook   \n",
       "2                                    cant log in to vpn   \n",
       "3                         unable to access hr_tool page   \n",
       "4                                          skype error    \n",
       "...                                                 ...   \n",
       "8495                  emails not coming in from zz mail   \n",
       "8496                           telephony_software issue   \n",
       "8497  vip2: windows password reset for tifpdchb pedx...   \n",
       "8498                     machine nÃ£o estÃ¡ funcionando   \n",
       "8499  an mehreren pc`s lassen sich verschiedene prgr...   \n",
       "\n",
       "                                            Description             Caller  \\\n",
       "0     -verified user details.(employee# & manager na...  spxjnwir pjlcoqds   \n",
       "1     _x000D_\\n_x000D_\\nreceived from: hmjdrvpb.komu...  hmjdrvpb komuaywn   \n",
       "2     _x000D_\\n_x000D_\\nreceived from: eylqgodm.ybqk...  eylqgodm ybqkwiam   \n",
       "3                         unable to access hr_tool page  xbkucsvz gcpydteq   \n",
       "4                                          skype error   owlgqjme qhcozdfx   \n",
       "...                                                 ...                ...   \n",
       "8495  _x000D_\\n_x000D_\\nreceived from: avglmrts.vhqm...  avglmrts vhqmtiua   \n",
       "8496                           telephony_software issue  rbozivdq gmlhrtvp   \n",
       "8497  vip2: windows password reset for tifpdchb pedx...  oybwdsgx oxyhwrfz   \n",
       "8498  i am unable to access the machine utilities to...  ufawcgob aowhxjky   \n",
       "8499  an mehreren pc`s lassen sich verschiedene prgr...  kqvbrspl jyzoklfx   \n",
       "\n",
       "     Assignment group  \n",
       "0               GRP_0  \n",
       "1               GRP_0  \n",
       "2               GRP_0  \n",
       "3               GRP_0  \n",
       "4               GRP_0  \n",
       "...               ...  \n",
       "8495           GRP_29  \n",
       "8496            GRP_0  \n",
       "8497            GRP_0  \n",
       "8498           GRP_62  \n",
       "8499           GRP_49  \n",
       "\n",
       "[8500 rows x 4 columns]"
      ]
     },
     "execution_count": 17,
     "metadata": {},
     "output_type": "execute_result"
    }
   ],
   "source": [
    "#Reading the excel into data frame\n",
    "df = pd.read_excel('Data file.xlsx')\n",
    "df"
   ]
  },
  {
   "cell_type": "markdown",
   "metadata": {},
   "source": [
    "# To Check unique Assignment Group"
   ]
  },
  {
   "cell_type": "code",
   "execution_count": 18,
   "metadata": {
    "colab": {
     "base_uri": "https://localhost:8080/"
    },
    "executionInfo": {
     "elapsed": 39,
     "status": "ok",
     "timestamp": 1637422364011,
     "user": {
      "displayName": "shikha sharma",
      "photoUrl": "https://lh3.googleusercontent.com/a-/AOh14Gi7-MZ8BB7Qmx-tZ4fMVMWE32u_g_Wo7RIqAY8HaA=s64",
      "userId": "18236534953658718874"
     },
     "user_tz": -330
    },
    "id": "yxs-ob6LcMfM",
    "outputId": "402597c8-21c1-4447-8781-8f177b1f3cb1"
   },
   "outputs": [
    {
     "data": {
      "text/plain": [
       "array(['GRP_0', 'GRP_1', 'GRP_3', 'GRP_4', 'GRP_5', 'GRP_6', 'GRP_7',\n",
       "       'GRP_8', 'GRP_9', 'GRP_10', 'GRP_11', 'GRP_12', 'GRP_13', 'GRP_14',\n",
       "       'GRP_15', 'GRP_16', 'GRP_17', 'GRP_18', 'GRP_19', 'GRP_2',\n",
       "       'GRP_20', 'GRP_21', 'GRP_22', 'GRP_23', 'GRP_24', 'GRP_25',\n",
       "       'GRP_26', 'GRP_27', 'GRP_28', 'GRP_29', 'GRP_30', 'GRP_31',\n",
       "       'GRP_33', 'GRP_34', 'GRP_35', 'GRP_36', 'GRP_37', 'GRP_38',\n",
       "       'GRP_39', 'GRP_40', 'GRP_41', 'GRP_42', 'GRP_43', 'GRP_44',\n",
       "       'GRP_45', 'GRP_46', 'GRP_47', 'GRP_48', 'GRP_49', 'GRP_50',\n",
       "       'GRP_51', 'GRP_52', 'GRP_53', 'GRP_54', 'GRP_55', 'GRP_56',\n",
       "       'GRP_57', 'GRP_58', 'GRP_59', 'GRP_60', 'GRP_61', 'GRP_32',\n",
       "       'GRP_62', 'GRP_63', 'GRP_64', 'GRP_65', 'GRP_66', 'GRP_67',\n",
       "       'GRP_68', 'GRP_69', 'GRP_70', 'GRP_71', 'GRP_72', 'GRP_73'],\n",
       "      dtype=object)"
      ]
     },
     "execution_count": 18,
     "metadata": {},
     "output_type": "execute_result"
    }
   ],
   "source": [
    "#checking number of assignment groups\n",
    "df['Assignment group'].unique()"
   ]
  },
  {
   "cell_type": "markdown",
   "metadata": {
    "id": "uT5XU5rWcT87"
   },
   "source": [
    "There are total 74 groups"
   ]
  },
  {
   "cell_type": "markdown",
   "metadata": {
    "id": "uT5XU5rWcT87"
   },
   "source": [
    "Assignment Group Percentage"
   ]
  },
  {
   "cell_type": "code",
   "execution_count": 19,
   "metadata": {
    "colab": {
     "base_uri": "https://localhost:8080/",
     "height": 204
    },
    "executionInfo": {
     "elapsed": 29,
     "status": "ok",
     "timestamp": 1637422364018,
     "user": {
      "displayName": "shikha sharma",
      "photoUrl": "https://lh3.googleusercontent.com/a-/AOh14Gi7-MZ8BB7Qmx-tZ4fMVMWE32u_g_Wo7RIqAY8HaA=s64",
      "userId": "18236534953658718874"
     },
     "user_tz": -330
    },
    "id": "JKb3WorLcXWA",
    "outputId": "165cc3e8-98ff-4ef4-c6d2-cde76264d8d5"
   },
   "outputs": [
    {
     "data": {
      "text/html": [
       "<div>\n",
       "<style scoped>\n",
       "    .dataframe tbody tr th:only-of-type {\n",
       "        vertical-align: middle;\n",
       "    }\n",
       "\n",
       "    .dataframe tbody tr th {\n",
       "        vertical-align: top;\n",
       "    }\n",
       "\n",
       "    .dataframe thead th {\n",
       "        text-align: right;\n",
       "    }\n",
       "</style>\n",
       "<table border=\"1\" class=\"dataframe\">\n",
       "  <thead>\n",
       "    <tr style=\"text-align: right;\">\n",
       "      <th></th>\n",
       "      <th>index</th>\n",
       "      <th>Assignment group</th>\n",
       "      <th>percentage</th>\n",
       "    </tr>\n",
       "  </thead>\n",
       "  <tbody>\n",
       "    <tr>\n",
       "      <th>0</th>\n",
       "      <td>GRP_0</td>\n",
       "      <td>3976</td>\n",
       "      <td>46.776471</td>\n",
       "    </tr>\n",
       "    <tr>\n",
       "      <th>1</th>\n",
       "      <td>GRP_8</td>\n",
       "      <td>661</td>\n",
       "      <td>7.776471</td>\n",
       "    </tr>\n",
       "    <tr>\n",
       "      <th>2</th>\n",
       "      <td>GRP_24</td>\n",
       "      <td>289</td>\n",
       "      <td>3.400000</td>\n",
       "    </tr>\n",
       "    <tr>\n",
       "      <th>3</th>\n",
       "      <td>GRP_12</td>\n",
       "      <td>257</td>\n",
       "      <td>3.023529</td>\n",
       "    </tr>\n",
       "    <tr>\n",
       "      <th>4</th>\n",
       "      <td>GRP_9</td>\n",
       "      <td>252</td>\n",
       "      <td>2.964706</td>\n",
       "    </tr>\n",
       "  </tbody>\n",
       "</table>\n",
       "</div>"
      ],
      "text/plain": [
       "    index  Assignment group  percentage\n",
       "0   GRP_0              3976   46.776471\n",
       "1   GRP_8               661    7.776471\n",
       "2  GRP_24               289    3.400000\n",
       "3  GRP_12               257    3.023529\n",
       "4   GRP_9               252    2.964706"
      ]
     },
     "execution_count": 19,
     "metadata": {},
     "output_type": "execute_result"
    }
   ],
   "source": [
    "df_inc = df['Assignment group'].value_counts().reset_index()\n",
    "df_inc['percentage'] = (df_inc['Assignment group']/df_inc['Assignment group'].sum())*100\n",
    "df_inc.head()"
   ]
  },
  {
   "cell_type": "code",
   "execution_count": 20,
   "metadata": {
    "colab": {
     "base_uri": "https://localhost:8080/",
     "height": 414
    },
    "executionInfo": {
     "elapsed": 4343,
     "status": "ok",
     "timestamp": 1637422368334,
     "user": {
      "displayName": "shikha sharma",
      "photoUrl": "https://lh3.googleusercontent.com/a-/AOh14Gi7-MZ8BB7Qmx-tZ4fMVMWE32u_g_Wo7RIqAY8HaA=s64",
      "userId": "18236534953658718874"
     },
     "user_tz": -330
    },
    "id": "JeI6Vlsr9Bdk",
    "outputId": "0c8d97e9-21fc-4e35-c58b-d7136d3e2e40"
   },
   "outputs": [
    {
     "data": {
      "image/png": "[encoded data removed]",
      "text/plain": [
       "<Figure size 1440x360 with 1 Axes>"
      ]
     },
     "metadata": {},
     "output_type": "display_data"
    }
   ],
   "source": [
    "# Plot to visualize the percentage data distribution across different groups\n",
    "sns.set(style=\"darkgrid\")\n",
    "plt.figure(figsize=(20,5))\n",
    "ax = sns.countplot(x=\"Assignment group\", data=df, order=df[\"Assignment group\"].value_counts().index)\n",
    "ax.set_xticklabels(ax.get_xticklabels(), rotation=90)\n",
    "for p in ax.patches:\n",
    "  ax.annotate(str(format(p.get_height()/len(df.index)*100, '.2f')+\"%\"), (p.get_x() + p.get_width() / 2., p.get_height()), ha = 'center', va = 'bottom', rotation=90, xytext = (0, 10), textcoords = 'offset points')\n",
    "#augmentation"
   ]
  },
  {
   "cell_type": "markdown",
   "metadata": {
    "id": "8bh5Izv0cjIl"
   },
   "source": [
    "Checking the most repeated top 10 groups"
   ]
  },
  {
   "cell_type": "code",
   "execution_count": 21,
   "metadata": {
    "colab": {
     "base_uri": "https://localhost:8080/",
     "height": 359
    },
    "executionInfo": {
     "elapsed": 446,
     "status": "ok",
     "timestamp": 1637422368337,
     "user": {
      "displayName": "shikha sharma",
      "photoUrl": "https://lh3.googleusercontent.com/a-/AOh14Gi7-MZ8BB7Qmx-tZ4fMVMWE32u_g_Wo7RIqAY8HaA=s64",
      "userId": "18236534953658718874"
     },
     "user_tz": -330
    },
    "id": "hIOLE0hKcsp5",
    "outputId": "9f767629-2c19-417c-a9f9-e8fa2aa5861a"
   },
   "outputs": [
    {
     "data": {
      "text/html": [
       "<div>\n",
       "<style scoped>\n",
       "    .dataframe tbody tr th:only-of-type {\n",
       "        vertical-align: middle;\n",
       "    }\n",
       "\n",
       "    .dataframe tbody tr th {\n",
       "        vertical-align: top;\n",
       "    }\n",
       "\n",
       "    .dataframe thead th {\n",
       "        text-align: right;\n",
       "    }\n",
       "</style>\n",
       "<table border=\"1\" class=\"dataframe\">\n",
       "  <thead>\n",
       "    <tr style=\"text-align: right;\">\n",
       "      <th></th>\n",
       "      <th>index</th>\n",
       "      <th>Assignment group</th>\n",
       "    </tr>\n",
       "  </thead>\n",
       "  <tbody>\n",
       "    <tr>\n",
       "      <th>0</th>\n",
       "      <td>GRP_0</td>\n",
       "      <td>3976</td>\n",
       "    </tr>\n",
       "    <tr>\n",
       "      <th>1</th>\n",
       "      <td>GRP_8</td>\n",
       "      <td>661</td>\n",
       "    </tr>\n",
       "    <tr>\n",
       "      <th>2</th>\n",
       "      <td>GRP_24</td>\n",
       "      <td>289</td>\n",
       "    </tr>\n",
       "    <tr>\n",
       "      <th>3</th>\n",
       "      <td>GRP_12</td>\n",
       "      <td>257</td>\n",
       "    </tr>\n",
       "    <tr>\n",
       "      <th>4</th>\n",
       "      <td>GRP_9</td>\n",
       "      <td>252</td>\n",
       "    </tr>\n",
       "    <tr>\n",
       "      <th>5</th>\n",
       "      <td>GRP_2</td>\n",
       "      <td>241</td>\n",
       "    </tr>\n",
       "    <tr>\n",
       "      <th>6</th>\n",
       "      <td>GRP_19</td>\n",
       "      <td>215</td>\n",
       "    </tr>\n",
       "    <tr>\n",
       "      <th>7</th>\n",
       "      <td>GRP_3</td>\n",
       "      <td>200</td>\n",
       "    </tr>\n",
       "    <tr>\n",
       "      <th>8</th>\n",
       "      <td>GRP_6</td>\n",
       "      <td>184</td>\n",
       "    </tr>\n",
       "    <tr>\n",
       "      <th>9</th>\n",
       "      <td>GRP_13</td>\n",
       "      <td>145</td>\n",
       "    </tr>\n",
       "  </tbody>\n",
       "</table>\n",
       "</div>"
      ],
      "text/plain": [
       "    index  Assignment group\n",
       "0   GRP_0              3976\n",
       "1   GRP_8               661\n",
       "2  GRP_24               289\n",
       "3  GRP_12               257\n",
       "4   GRP_9               252\n",
       "5   GRP_2               241\n",
       "6  GRP_19               215\n",
       "7   GRP_3               200\n",
       "8   GRP_6               184\n",
       "9  GRP_13               145"
      ]
     },
     "execution_count": 21,
     "metadata": {},
     "output_type": "execute_result"
    }
   ],
   "source": [
    "df_top_10 = df['Assignment group'].value_counts().nlargest(10).reset_index()\n",
    "df_top_10"
   ]
  },
  {
   "cell_type": "markdown",
   "metadata": {
    "id": "N4rRxKTSc1QX"
   },
   "source": [
    "Checking the last 10 assignment groups"
   ]
  },
  {
   "cell_type": "code",
   "execution_count": 22,
   "metadata": {
    "colab": {
     "base_uri": "https://localhost:8080/",
     "height": 359
    },
    "executionInfo": {
     "elapsed": 445,
     "status": "ok",
     "timestamp": 1637422368339,
     "user": {
      "displayName": "shikha sharma",
      "photoUrl": "https://lh3.googleusercontent.com/a-/AOh14Gi7-MZ8BB7Qmx-tZ4fMVMWE32u_g_Wo7RIqAY8HaA=s64",
      "userId": "18236534953658718874"
     },
     "user_tz": -330
    },
    "id": "jIyFMAa1c4bG",
    "outputId": "46af4245-8afd-4b51-ea86-23b8dcfe95f6"
   },
   "outputs": [
    {
     "data": {
      "text/html": [
       "<div>\n",
       "<style scoped>\n",
       "    .dataframe tbody tr th:only-of-type {\n",
       "        vertical-align: middle;\n",
       "    }\n",
       "\n",
       "    .dataframe tbody tr th {\n",
       "        vertical-align: top;\n",
       "    }\n",
       "\n",
       "    .dataframe thead th {\n",
       "        text-align: right;\n",
       "    }\n",
       "</style>\n",
       "<table border=\"1\" class=\"dataframe\">\n",
       "  <thead>\n",
       "    <tr style=\"text-align: right;\">\n",
       "      <th></th>\n",
       "      <th>index</th>\n",
       "      <th>Assignment group</th>\n",
       "    </tr>\n",
       "  </thead>\n",
       "  <tbody>\n",
       "    <tr>\n",
       "      <th>0</th>\n",
       "      <td>GRP_61</td>\n",
       "      <td>1</td>\n",
       "    </tr>\n",
       "    <tr>\n",
       "      <th>1</th>\n",
       "      <td>GRP_64</td>\n",
       "      <td>1</td>\n",
       "    </tr>\n",
       "    <tr>\n",
       "      <th>2</th>\n",
       "      <td>GRP_67</td>\n",
       "      <td>1</td>\n",
       "    </tr>\n",
       "    <tr>\n",
       "      <th>3</th>\n",
       "      <td>GRP_35</td>\n",
       "      <td>1</td>\n",
       "    </tr>\n",
       "    <tr>\n",
       "      <th>4</th>\n",
       "      <td>GRP_70</td>\n",
       "      <td>1</td>\n",
       "    </tr>\n",
       "    <tr>\n",
       "      <th>5</th>\n",
       "      <td>GRP_73</td>\n",
       "      <td>1</td>\n",
       "    </tr>\n",
       "    <tr>\n",
       "      <th>6</th>\n",
       "      <td>GRP_57</td>\n",
       "      <td>2</td>\n",
       "    </tr>\n",
       "    <tr>\n",
       "      <th>7</th>\n",
       "      <td>GRP_54</td>\n",
       "      <td>2</td>\n",
       "    </tr>\n",
       "    <tr>\n",
       "      <th>8</th>\n",
       "      <td>GRP_69</td>\n",
       "      <td>2</td>\n",
       "    </tr>\n",
       "    <tr>\n",
       "      <th>9</th>\n",
       "      <td>GRP_71</td>\n",
       "      <td>2</td>\n",
       "    </tr>\n",
       "  </tbody>\n",
       "</table>\n",
       "</div>"
      ],
      "text/plain": [
       "    index  Assignment group\n",
       "0  GRP_61                 1\n",
       "1  GRP_64                 1\n",
       "2  GRP_67                 1\n",
       "3  GRP_35                 1\n",
       "4  GRP_70                 1\n",
       "5  GRP_73                 1\n",
       "6  GRP_57                 2\n",
       "7  GRP_54                 2\n",
       "8  GRP_69                 2\n",
       "9  GRP_71                 2"
      ]
     },
     "execution_count": 22,
     "metadata": {},
     "output_type": "execute_result"
    }
   ],
   "source": [
    "df_bottom_10 = df['Assignment group'].value_counts().nsmallest(10).reset_index()\n",
    "df_bottom_10"
   ]
  },
  {
   "cell_type": "markdown",
   "metadata": {
    "id": "xJfnb-JRdJ0r"
   },
   "source": [
    "Checking the distirbution"
   ]
  },
  {
   "cell_type": "code",
   "execution_count": 23,
   "metadata": {
    "colab": {
     "base_uri": "https://localhost:8080/",
     "height": 142
    },
    "executionInfo": {
     "elapsed": 445,
     "status": "ok",
     "timestamp": 1637422368341,
     "user": {
      "displayName": "shikha sharma",
      "photoUrl": "https://lh3.googleusercontent.com/a-/AOh14Gi7-MZ8BB7Qmx-tZ4fMVMWE32u_g_Wo7RIqAY8HaA=s64",
      "userId": "18236534953658718874"
     },
     "user_tz": -330
    },
    "id": "dC3EVB4_dMHA",
    "outputId": "efb3a53a-821a-4297-a2ef-23bcd6e62fc9"
   },
   "outputs": [
    {
     "data": {
      "text/html": [
       "<div>\n",
       "<style scoped>\n",
       "    .dataframe tbody tr th:only-of-type {\n",
       "        vertical-align: middle;\n",
       "    }\n",
       "\n",
       "    .dataframe tbody tr th {\n",
       "        vertical-align: top;\n",
       "    }\n",
       "\n",
       "    .dataframe thead th {\n",
       "        text-align: right;\n",
       "    }\n",
       "</style>\n",
       "<table border=\"1\" class=\"dataframe\">\n",
       "  <thead>\n",
       "    <tr style=\"text-align: right;\">\n",
       "      <th></th>\n",
       "      <th>Description</th>\n",
       "      <th>Ticket Count</th>\n",
       "    </tr>\n",
       "  </thead>\n",
       "  <tbody>\n",
       "    <tr>\n",
       "      <th>0</th>\n",
       "      <td>1-50 ticket</td>\n",
       "      <td>44</td>\n",
       "    </tr>\n",
       "    <tr>\n",
       "      <th>1</th>\n",
       "      <td>51-100 ticket</td>\n",
       "      <td>9</td>\n",
       "    </tr>\n",
       "    <tr>\n",
       "      <th>2</th>\n",
       "      <td>&gt;100 ticket</td>\n",
       "      <td>15</td>\n",
       "    </tr>\n",
       "  </tbody>\n",
       "</table>\n",
       "</div>"
      ],
      "text/plain": [
       "      Description Ticket Count\n",
       "0     1-50 ticket           44\n",
       "1   51-100 ticket            9\n",
       "2     >100 ticket           15"
      ]
     },
     "execution_count": 23,
     "metadata": {},
     "output_type": "execute_result"
    }
   ],
   "source": [
    "df_bins = pd.DataFrame(columns=['Description','Ticket Count'])\n",
    "_1_50_ticket = {'Description':' 1-50 ticket',\n",
    "              'Ticket Count':len(df_inc[(df_inc['Assignment group'] > 1)& (df_inc['Assignment group'] < 51)])}\n",
    "_51_100_ticket = {'Description':' 51-100 ticket',\n",
    "              'Ticket Count':len(df_inc[(df_inc['Assignment group'] > 50)& (df_inc['Assignment group'] < 101)])}\n",
    "_100_ticket = {'Description':' >100 ticket',\n",
    "              'Ticket Count':len(df_inc[(df_inc['Assignment group'] > 100)])}\n",
    "#append row to the dataframe\n",
    "df_bins = df_bins.append([_1_50_ticket,_51_100_ticket,_100_ticket], ignore_index=True)\n",
    "\n",
    "df_bins\n"
   ]
  },
  {
   "cell_type": "code",
   "execution_count": 24,
   "metadata": {
    "colab": {
     "base_uri": "https://localhost:8080/",
     "height": 486
    },
    "executionInfo": {
     "elapsed": 445,
     "status": "ok",
     "timestamp": 1637422368342,
     "user": {
      "displayName": "shikha sharma",
      "photoUrl": "https://lh3.googleusercontent.com/a-/AOh14Gi7-MZ8BB7Qmx-tZ4fMVMWE32u_g_Wo7RIqAY8HaA=s64",
      "userId": "18236534953658718874"
     },
     "user_tz": -330
    },
    "id": "tCTgBve24Yx5",
    "outputId": "e429b5bd-4ed6-48ac-e675-1dabcc56ebd2"
   },
   "outputs": [
    {
     "data": {
      "image/png": "[encoded data removed]",
      "text/plain": [
       "<Figure size 720x576 with 1 Axes>"
      ]
     },
     "metadata": {},
     "output_type": "display_data"
    }
   ],
   "source": [
    "plt.figure(figsize=(10, 8))\n",
    "plt.pie(df_bins['Ticket Count'],labels=df_bins['Description'],autopct='%1.1f%%', startangle=15);\n",
    "plt.title('Assignment Groups Distribution')\n",
    "plt.axis('equal');"
   ]
  },
  {
   "cell_type": "code",
   "execution_count": 25,
   "metadata": {
    "colab": {
     "base_uri": "https://localhost:8080/"
    },
    "executionInfo": {
     "elapsed": 444,
     "status": "ok",
     "timestamp": 1637422368343,
     "user": {
      "displayName": "shikha sharma",
      "photoUrl": "https://lh3.googleusercontent.com/a-/AOh14Gi7-MZ8BB7Qmx-tZ4fMVMWE32u_g_Wo7RIqAY8HaA=s64",
      "userId": "18236534953658718874"
     },
     "user_tz": -330
    },
    "id": "ApdOqLvfUVFH",
    "outputId": "90391c89-8349-4b6e-9970-16d64e022ac2"
   },
   "outputs": [
    {
     "data": {
      "text/plain": [
       "Short description    8\n",
       "Description          1\n",
       "Caller               0\n",
       "Assignment group     0\n",
       "dtype: int64"
      ]
     },
     "execution_count": 25,
     "metadata": {},
     "output_type": "execute_result"
    }
   ],
   "source": [
    "#checking the null values\n",
    "df.isnull().sum()"
   ]
  },
  {
   "cell_type": "code",
   "execution_count": 26,
   "metadata": {
    "colab": {
     "base_uri": "https://localhost:8080/",
     "height": 80
    },
    "executionInfo": {
     "elapsed": 432,
     "status": "ok",
     "timestamp": 1637422368343,
     "user": {
      "displayName": "shikha sharma",
      "photoUrl": "https://lh3.googleusercontent.com/a-/AOh14Gi7-MZ8BB7Qmx-tZ4fMVMWE32u_g_Wo7RIqAY8HaA=s64",
      "userId": "18236534953658718874"
     },
     "user_tz": -330
    },
    "id": "WT190YxxPHcN",
    "outputId": "1ed04f10-f81c-4a6c-fee2-404076a9d413"
   },
   "outputs": [
    {
     "data": {
      "text/html": [
       "<div>\n",
       "<style scoped>\n",
       "    .dataframe tbody tr th:only-of-type {\n",
       "        vertical-align: middle;\n",
       "    }\n",
       "\n",
       "    .dataframe tbody tr th {\n",
       "        vertical-align: top;\n",
       "    }\n",
       "\n",
       "    .dataframe thead th {\n",
       "        text-align: right;\n",
       "    }\n",
       "</style>\n",
       "<table border=\"1\" class=\"dataframe\">\n",
       "  <thead>\n",
       "    <tr style=\"text-align: right;\">\n",
       "      <th></th>\n",
       "      <th>Short description</th>\n",
       "      <th>Description</th>\n",
       "      <th>Caller</th>\n",
       "      <th>Assignment group</th>\n",
       "    </tr>\n",
       "  </thead>\n",
       "  <tbody>\n",
       "    <tr>\n",
       "      <th>4395</th>\n",
       "      <td>i am locked out of skype</td>\n",
       "      <td>NaN</td>\n",
       "      <td>viyglzfo ajtfzpkb</td>\n",
       "      <td>GRP_0</td>\n",
       "    </tr>\n",
       "  </tbody>\n",
       "</table>\n",
       "</div>"
      ],
      "text/plain": [
       "             Short description Description             Caller Assignment group\n",
       "4395  i am locked out of skype         NaN  viyglzfo ajtfzpkb            GRP_0"
      ]
     },
     "execution_count": 26,
     "metadata": {},
     "output_type": "execute_result"
    }
   ],
   "source": [
    "#Checking the value of null\n",
    "df[df['Description'].isnull()]"
   ]
  },
  {
   "cell_type": "code",
   "execution_count": 27,
   "metadata": {
    "executionInfo": {
     "elapsed": 432,
     "status": "ok",
     "timestamp": 1637422368344,
     "user": {
      "displayName": "shikha sharma",
      "photoUrl": "https://lh3.googleusercontent.com/a-/AOh14Gi7-MZ8BB7Qmx-tZ4fMVMWE32u_g_Wo7RIqAY8HaA=s64",
      "userId": "18236534953658718874"
     },
     "user_tz": -330
    },
    "id": "AuMZ3vbML-_S"
   },
   "outputs": [],
   "source": [
    "#Replacing the null value with the short description value\n",
    "df=df.replace({'Description':np.NaN},df[df['Short description']=='i am locked out of skype']['Short description'].to_string().split(maxsplit=1)[1])"
   ]
  },
  {
   "cell_type": "code",
   "execution_count": 28,
   "metadata": {
    "colab": {
     "base_uri": "https://localhost:8080/"
    },
    "executionInfo": {
     "elapsed": 433,
     "status": "ok",
     "timestamp": 1637422368346,
     "user": {
      "displayName": "shikha sharma",
      "photoUrl": "https://lh3.googleusercontent.com/a-/AOh14Gi7-MZ8BB7Qmx-tZ4fMVMWE32u_g_Wo7RIqAY8HaA=s64",
      "userId": "18236534953658718874"
     },
     "user_tz": -330
    },
    "id": "BfYVguY9I1Mq",
    "outputId": "c9d9c4f1-cd40-441e-bcb8-e18496fe854d"
   },
   "outputs": [
    {
     "data": {
      "text/plain": [
       "Short description    i am locked out of skype\n",
       "Description          i am locked out of skype\n",
       "Caller                      viyglzfo ajtfzpkb\n",
       "Assignment group                        GRP_0\n",
       "Name: 4395, dtype: object"
      ]
     },
     "execution_count": 28,
     "metadata": {},
     "output_type": "execute_result"
    }
   ],
   "source": [
    "#Checking if the value is actually replaced or not\n",
    "df.iloc[4395]"
   ]
  },
  {
   "cell_type": "code",
   "execution_count": 29,
   "metadata": {
    "colab": {
     "base_uri": "https://localhost:8080/"
    },
    "executionInfo": {
     "elapsed": 448,
     "status": "ok",
     "timestamp": 1637422368366,
     "user": {
      "displayName": "shikha sharma",
      "photoUrl": "https://lh3.googleusercontent.com/a-/AOh14Gi7-MZ8BB7Qmx-tZ4fMVMWE32u_g_Wo7RIqAY8HaA=s64",
      "userId": "18236534953658718874"
     },
     "user_tz": -330
    },
    "id": "8DZSXXqSPfBa",
    "outputId": "904d53f4-fe0a-4bf7-ef45-da86bc04d5db"
   },
   "outputs": [
    {
     "data": {
      "text/plain": [
       "Short description    8\n",
       "Description          0\n",
       "Caller               0\n",
       "Assignment group     0\n",
       "dtype: int64"
      ]
     },
     "execution_count": 29,
     "metadata": {},
     "output_type": "execute_result"
    }
   ],
   "source": [
    "#Checking for the null values\n",
    "df.isnull().sum()"
   ]
  },
  {
   "cell_type": "markdown",
   "metadata": {
    "id": "UTSvpHWjPnzj"
   },
   "source": [
    "Since we are mostly concerend with the description letting the short description null values be for  a moment"
   ]
  },
  {
   "cell_type": "code",
   "execution_count": 30,
   "metadata": {
    "executionInfo": {
     "elapsed": 441,
     "status": "ok",
     "timestamp": 1637422368367,
     "user": {
      "displayName": "shikha sharma",
      "photoUrl": "https://lh3.googleusercontent.com/a-/AOh14Gi7-MZ8BB7Qmx-tZ4fMVMWE32u_g_Wo7RIqAY8HaA=s64",
      "userId": "18236534953658718874"
     },
     "user_tz": -330
    },
    "id": "jdNZz_goI3T6"
   },
   "outputs": [],
   "source": [
    "feature_df = df.filter(['Description','Assignment group'], axis=1)"
   ]
  },
  {
   "cell_type": "code",
   "execution_count": 31,
   "metadata": {
    "colab": {
     "base_uri": "https://localhost:8080/",
     "height": 204
    },
    "executionInfo": {
     "elapsed": 455,
     "status": "ok",
     "timestamp": 1637422368382,
     "user": {
      "displayName": "shikha sharma",
      "photoUrl": "https://lh3.googleusercontent.com/a-/AOh14Gi7-MZ8BB7Qmx-tZ4fMVMWE32u_g_Wo7RIqAY8HaA=s64",
      "userId": "18236534953658718874"
     },
     "user_tz": -330
    },
    "id": "em2LcZJ3SP5L",
    "outputId": "da619e68-ac4e-47cd-871a-43610d4300a7"
   },
   "outputs": [
    {
     "data": {
      "text/html": [
       "<div>\n",
       "<style scoped>\n",
       "    .dataframe tbody tr th:only-of-type {\n",
       "        vertical-align: middle;\n",
       "    }\n",
       "\n",
       "    .dataframe tbody tr th {\n",
       "        vertical-align: top;\n",
       "    }\n",
       "\n",
       "    .dataframe thead th {\n",
       "        text-align: right;\n",
       "    }\n",
       "</style>\n",
       "<table border=\"1\" class=\"dataframe\">\n",
       "  <thead>\n",
       "    <tr style=\"text-align: right;\">\n",
       "      <th></th>\n",
       "      <th>Description</th>\n",
       "      <th>Assignment group</th>\n",
       "      <th>word_count</th>\n",
       "    </tr>\n",
       "  </thead>\n",
       "  <tbody>\n",
       "    <tr>\n",
       "      <th>7410</th>\n",
       "      <td>_x000D_\\n_x000D_\\nreceived from: qnzmjxsl.logs...</td>\n",
       "      <td>GRP_0</td>\n",
       "      <td>17</td>\n",
       "    </tr>\n",
       "    <tr>\n",
       "      <th>4634</th>\n",
       "      <td>unable to connect to vpn</td>\n",
       "      <td>GRP_0</td>\n",
       "      <td>5</td>\n",
       "    </tr>\n",
       "    <tr>\n",
       "      <th>4895</th>\n",
       "      <td>_x000D_\\n_x000D_\\nreceived from: xvwchsdg.plad...</td>\n",
       "      <td>GRP_0</td>\n",
       "      <td>54</td>\n",
       "    </tr>\n",
       "    <tr>\n",
       "      <th>1154</th>\n",
       "      <td>reset password</td>\n",
       "      <td>GRP_12</td>\n",
       "      <td>2</td>\n",
       "    </tr>\n",
       "    <tr>\n",
       "      <th>6396</th>\n",
       "      <td>_x000D_\\n_x000D_\\nreceived from: iygsxftl.hysr...</td>\n",
       "      <td>GRP_0</td>\n",
       "      <td>70</td>\n",
       "    </tr>\n",
       "    <tr>\n",
       "      <th>5080</th>\n",
       "      <td>need ability to create skype meetings through ...</td>\n",
       "      <td>GRP_0</td>\n",
       "      <td>8</td>\n",
       "    </tr>\n",
       "    <tr>\n",
       "      <th>7962</th>\n",
       "      <td>received from: monitoring_tool@company.com_x00...</td>\n",
       "      <td>GRP_8</td>\n",
       "      <td>12</td>\n",
       "    </tr>\n",
       "    <tr>\n",
       "      <th>752</th>\n",
       "      <td>my pc is responding slow. can the pc team plea...</td>\n",
       "      <td>GRP_0</td>\n",
       "      <td>35</td>\n",
       "    </tr>\n",
       "    <tr>\n",
       "      <th>2546</th>\n",
       "      <td>received from: monitoring_tool@company.com_x00...</td>\n",
       "      <td>GRP_8</td>\n",
       "      <td>12</td>\n",
       "    </tr>\n",
       "    <tr>\n",
       "      <th>883</th>\n",
       "      <td>received from: monitoring_tool@company.com_x00...</td>\n",
       "      <td>GRP_9</td>\n",
       "      <td>12</td>\n",
       "    </tr>\n",
       "    <tr>\n",
       "      <th>539</th>\n",
       "      <td>2 in 1 has cracked screen, but turned off touc...</td>\n",
       "      <td>GRP_3</td>\n",
       "      <td>21</td>\n",
       "    </tr>\n",
       "    <tr>\n",
       "      <th>6731</th>\n",
       "      <td>netweaver password is not working.</td>\n",
       "      <td>GRP_0</td>\n",
       "      <td>5</td>\n",
       "    </tr>\n",
       "    <tr>\n",
       "      <th>2299</th>\n",
       "      <td>hi khadfhty,\\n\\ntoday, i created another lean ...</td>\n",
       "      <td>GRP_16</td>\n",
       "      <td>55</td>\n",
       "    </tr>\n",
       "    <tr>\n",
       "      <th>1328</th>\n",
       "      <td>received from: monitoring_tool@company.com_x00...</td>\n",
       "      <td>GRP_8</td>\n",
       "      <td>12</td>\n",
       "    </tr>\n",
       "    <tr>\n",
       "      <th>3252</th>\n",
       "      <td>see attached screenshot</td>\n",
       "      <td>GRP_29</td>\n",
       "      <td>3</td>\n",
       "    </tr>\n",
       "  </tbody>\n",
       "</table>\n",
       "</div>"
      ],
      "text/plain": [
       "                                            Description Assignment group  \\\n",
       "7410  _x000D_\\n_x000D_\\nreceived from: qnzmjxsl.logs...            GRP_0   \n",
       "4634                           unable to connect to vpn            GRP_0   \n",
       "4895  _x000D_\\n_x000D_\\nreceived from: xvwchsdg.plad...            GRP_0   \n",
       "1154                                     reset password           GRP_12   \n",
       "6396  _x000D_\\n_x000D_\\nreceived from: iygsxftl.hysr...            GRP_0   \n",
       "5080  need ability to create skype meetings through ...            GRP_0   \n",
       "7962  received from: monitoring_tool@company.com_x00...            GRP_8   \n",
       "752   my pc is responding slow. can the pc team plea...            GRP_0   \n",
       "2546  received from: monitoring_tool@company.com_x00...            GRP_8   \n",
       "883   received from: monitoring_tool@company.com_x00...            GRP_9   \n",
       "539   2 in 1 has cracked screen, but turned off touc...            GRP_3   \n",
       "6731                 netweaver password is not working.            GRP_0   \n",
       "2299  hi khadfhty,\\n\\ntoday, i created another lean ...           GRP_16   \n",
       "1328  received from: monitoring_tool@company.com_x00...            GRP_8   \n",
       "3252                            see attached screenshot           GRP_29   \n",
       "\n",
       "      word_count  \n",
       "7410          17  \n",
       "4634           5  \n",
       "4895          54  \n",
       "1154           2  \n",
       "6396          70  \n",
       "5080           8  \n",
       "7962          12  \n",
       "752           35  \n",
       "2546          12  \n",
       "883           12  \n",
       "539           21  \n",
       "6731           5  \n",
       "2299          55  \n",
       "1328          12  \n",
       "3252           3  "
      ]
     },
     "execution_count": 31,
     "metadata": {},
     "output_type": "execute_result"
    }
   ],
   "source": [
    "#caluclating the word count\n",
    "feature_df['word_count']=df['Description'].apply(lambda x:len(str(x).split()))\n",
    "#printing 5 sample values\n",
    "feature_df.sample(15)"
   ]
  },
  {
   "cell_type": "code",
   "execution_count": 32,
   "metadata": {
    "colab": {
     "base_uri": "https://localhost:8080/",
     "height": 80
    },
    "executionInfo": {
     "elapsed": 465,
     "status": "ok",
     "timestamp": 1637422368393,
     "user": {
      "displayName": "shikha sharma",
      "photoUrl": "https://lh3.googleusercontent.com/a-/AOh14Gi7-MZ8BB7Qmx-tZ4fMVMWE32u_g_Wo7RIqAY8HaA=s64",
      "userId": "18236534953658718874"
     },
     "user_tz": -330
    },
    "id": "uwuRn4ZRTh7b",
    "outputId": "833d5072-501d-4c1d-d056-0c8a970a8a36"
   },
   "outputs": [
    {
     "data": {
      "text/html": [
       "<div>\n",
       "<style scoped>\n",
       "    .dataframe tbody tr th:only-of-type {\n",
       "        vertical-align: middle;\n",
       "    }\n",
       "\n",
       "    .dataframe tbody tr th {\n",
       "        vertical-align: top;\n",
       "    }\n",
       "\n",
       "    .dataframe thead th {\n",
       "        text-align: right;\n",
       "    }\n",
       "</style>\n",
       "<table border=\"1\" class=\"dataframe\">\n",
       "  <thead>\n",
       "    <tr style=\"text-align: right;\">\n",
       "      <th></th>\n",
       "      <th>Description</th>\n",
       "      <th>Assignment group</th>\n",
       "      <th>word_count</th>\n",
       "    </tr>\n",
       "  </thead>\n",
       "  <tbody>\n",
       "    <tr>\n",
       "      <th>7345</th>\n",
       "      <td>we are seeing activity indicating the host at ...</td>\n",
       "      <td>GRP_2</td>\n",
       "      <td>1657</td>\n",
       "    </tr>\n",
       "  </tbody>\n",
       "</table>\n",
       "</div>"
      ],
      "text/plain": [
       "                                            Description Assignment group  \\\n",
       "7345  we are seeing activity indicating the host at ...            GRP_2   \n",
       "\n",
       "      word_count  \n",
       "7345        1657  "
      ]
     },
     "execution_count": 32,
     "metadata": {},
     "output_type": "execute_result"
    }
   ],
   "source": [
    "# Displaying the row with Maximum word counts\n",
    "feature_df[feature_df['word_count']==feature_df['word_count'].max()]\n"
   ]
  },
  {
   "cell_type": "code",
   "execution_count": 33,
   "metadata": {
    "colab": {
     "base_uri": "https://localhost:8080/",
     "height": 111
    },
    "executionInfo": {
     "elapsed": 468,
     "status": "ok",
     "timestamp": 1637422368397,
     "user": {
      "displayName": "shikha sharma",
      "photoUrl": "https://lh3.googleusercontent.com/a-/AOh14Gi7-MZ8BB7Qmx-tZ4fMVMWE32u_g_Wo7RIqAY8HaA=s64",
      "userId": "18236534953658718874"
     },
     "user_tz": -330
    },
    "id": "MAgDMB2kToDv",
    "outputId": "3187212c-c530-4dcd-dc23-4f77dd888fb5"
   },
   "outputs": [
    {
     "data": {
      "text/html": [
       "<div>\n",
       "<style scoped>\n",
       "    .dataframe tbody tr th:only-of-type {\n",
       "        vertical-align: middle;\n",
       "    }\n",
       "\n",
       "    .dataframe tbody tr th {\n",
       "        vertical-align: top;\n",
       "    }\n",
       "\n",
       "    .dataframe thead th {\n",
       "        text-align: right;\n",
       "    }\n",
       "</style>\n",
       "<table border=\"1\" class=\"dataframe\">\n",
       "  <thead>\n",
       "    <tr style=\"text-align: right;\">\n",
       "      <th></th>\n",
       "      <th>Description</th>\n",
       "      <th>Assignment group</th>\n",
       "      <th>word_count</th>\n",
       "    </tr>\n",
       "  </thead>\n",
       "  <tbody>\n",
       "    <tr>\n",
       "      <th>276</th>\n",
       "      <td>outlookæ”¶åˆ°ç®±ä¸­folderå˜ä¸ºæ¯å¤©ä¸€ä¸ªfol...</td>\n",
       "      <td>GRP_30</td>\n",
       "      <td>1</td>\n",
       "    </tr>\n",
       "    <tr>\n",
       "      <th>415</th>\n",
       "      <td>complete</td>\n",
       "      <td>GRP_17</td>\n",
       "      <td>1</td>\n",
       "    </tr>\n",
       "    <tr>\n",
       "      <th>416</th>\n",
       "      <td>completed</td>\n",
       "      <td>GRP_0</td>\n",
       "      <td>1</td>\n",
       "    </tr>\n",
       "    <tr>\n",
       "      <th>608</th>\n",
       "      <td>funktionsstÃ¶rung</td>\n",
       "      <td>GRP_33</td>\n",
       "      <td>1</td>\n",
       "    </tr>\n",
       "    <tr>\n",
       "      <th>618</th>\n",
       "      <td>æ‰“å¼€outlookæ—¶ï¼Œæ˜¾ç¤ºoutlook.ostæ–‡ä»¶é”™è...</td>\n",
       "      <td>GRP_0</td>\n",
       "      <td>1</td>\n",
       "    </tr>\n",
       "    <tr>\n",
       "      <th>...</th>\n",
       "      <td>...</td>\n",
       "      <td>...</td>\n",
       "      <td>...</td>\n",
       "    </tr>\n",
       "    <tr>\n",
       "      <th>8059</th>\n",
       "      <td>the</td>\n",
       "      <td>GRP_17</td>\n",
       "      <td>1</td>\n",
       "    </tr>\n",
       "    <tr>\n",
       "      <th>8092</th>\n",
       "      <td>the</td>\n",
       "      <td>GRP_17</td>\n",
       "      <td>1</td>\n",
       "    </tr>\n",
       "    <tr>\n",
       "      <th>8093</th>\n",
       "      <td>the</td>\n",
       "      <td>GRP_17</td>\n",
       "      <td>1</td>\n",
       "    </tr>\n",
       "    <tr>\n",
       "      <th>8168</th>\n",
       "      <td>the</td>\n",
       "      <td>GRP_17</td>\n",
       "      <td>1</td>\n",
       "    </tr>\n",
       "    <tr>\n",
       "      <th>8266</th>\n",
       "      <td>è¿›è¡Œé‡‡è´­æ—¶æ˜¾ç¤º\"æ‰¾ä¸åˆ°å‘˜å·¥111115483...</td>\n",
       "      <td>GRP_30</td>\n",
       "      <td>1</td>\n",
       "    </tr>\n",
       "  </tbody>\n",
       "</table>\n",
       "<p>98 rows × 3 columns</p>\n",
       "</div>"
      ],
      "text/plain": [
       "                                            Description Assignment group  \\\n",
       "276   outlookæ”¶åˆ°ç®±ä¸­folderå˜ä¸ºæ¯å¤©ä¸€ä¸ªfol...           GRP_30   \n",
       "415                                            complete           GRP_17   \n",
       "416                                           completed            GRP_0   \n",
       "608                                   funktionsstÃ¶rung           GRP_33   \n",
       "618   æ‰“å¼€outlookæ—¶ï¼Œæ˜¾ç¤ºoutlook.ostæ–‡ä»¶é”™è...            GRP_0   \n",
       "...                                                 ...              ...   \n",
       "8059                                                the           GRP_17   \n",
       "8092                                                the           GRP_17   \n",
       "8093                                                the           GRP_17   \n",
       "8168                                                the           GRP_17   \n",
       "8266  è¿›è¡Œé‡‡è´­æ—¶æ˜¾ç¤º\"æ‰¾ä¸åˆ°å‘˜å·¥111115483...           GRP_30   \n",
       "\n",
       "      word_count  \n",
       "276            1  \n",
       "415            1  \n",
       "416            1  \n",
       "608            1  \n",
       "618            1  \n",
       "...          ...  \n",
       "8059           1  \n",
       "8092           1  \n",
       "8093           1  \n",
       "8168           1  \n",
       "8266           1  \n",
       "\n",
       "[98 rows x 3 columns]"
      ]
     },
     "execution_count": 33,
     "metadata": {},
     "output_type": "execute_result"
    }
   ],
   "source": [
    "# Dispalying rows with minimum word count\n",
    "feature_df[feature_df['word_count']==feature_df['word_count'].min()]"
   ]
  },
  {
   "cell_type": "code",
   "execution_count": 34,
   "metadata": {
    "executionInfo": {
     "elapsed": 493,
     "status": "ok",
     "timestamp": 1637422368437,
     "user": {
      "displayName": "shikha sharma",
      "photoUrl": "https://lh3.googleusercontent.com/a-/AOh14Gi7-MZ8BB7Qmx-tZ4fMVMWE32u_g_Wo7RIqAY8HaA=s64",
      "userId": "18236534953658718874"
     },
     "user_tz": -330
    },
    "id": "wNB9SSeolkPx"
   },
   "outputs": [],
   "source": [
    "#Method to caluclate no of characters available in sentence\n",
    "def char_counts(x):\n",
    "  s=x.split()\n",
    "  x=''.join(s)\n",
    "  return len(x)\n"
   ]
  },
  {
   "cell_type": "code",
   "execution_count": 35,
   "metadata": {
    "colab": {
     "base_uri": "https://localhost:8080/",
     "height": 204
    },
    "executionInfo": {
     "elapsed": 493,
     "status": "ok",
     "timestamp": 1637422368438,
     "user": {
      "displayName": "shikha sharma",
      "photoUrl": "https://lh3.googleusercontent.com/a-/AOh14Gi7-MZ8BB7Qmx-tZ4fMVMWE32u_g_Wo7RIqAY8HaA=s64",
      "userId": "18236534953658718874"
     },
     "user_tz": -330
    },
    "id": "tJ-c4TnwozwE",
    "outputId": "c9805d8f-25b2-458c-9b3a-47b725d9aa31"
   },
   "outputs": [
    {
     "data": {
      "text/html": [
       "<div>\n",
       "<style scoped>\n",
       "    .dataframe tbody tr th:only-of-type {\n",
       "        vertical-align: middle;\n",
       "    }\n",
       "\n",
       "    .dataframe tbody tr th {\n",
       "        vertical-align: top;\n",
       "    }\n",
       "\n",
       "    .dataframe thead th {\n",
       "        text-align: right;\n",
       "    }\n",
       "</style>\n",
       "<table border=\"1\" class=\"dataframe\">\n",
       "  <thead>\n",
       "    <tr style=\"text-align: right;\">\n",
       "      <th></th>\n",
       "      <th>Description</th>\n",
       "      <th>Assignment group</th>\n",
       "      <th>word_count</th>\n",
       "      <th>char_counts</th>\n",
       "    </tr>\n",
       "  </thead>\n",
       "  <tbody>\n",
       "    <tr>\n",
       "      <th>5506</th>\n",
       "      <td>dsw in33568505_x000D_\\n_x000D_\\nwe are seeing ...</td>\n",
       "      <td>GRP_2</td>\n",
       "      <td>236</td>\n",
       "      <td>1331</td>\n",
       "    </tr>\n",
       "    <tr>\n",
       "      <th>1903</th>\n",
       "      <td>name:vithrkas \\nlanguage:\\nbrowser:microsoft i...</td>\n",
       "      <td>GRP_0</td>\n",
       "      <td>14</td>\n",
       "      <td>139</td>\n",
       "    </tr>\n",
       "    <tr>\n",
       "      <th>3513</th>\n",
       "      <td>password reset</td>\n",
       "      <td>GRP_0</td>\n",
       "      <td>2</td>\n",
       "      <td>13</td>\n",
       "    </tr>\n",
       "    <tr>\n",
       "      <th>4133</th>\n",
       "      <td>unable to login to engineering tool</td>\n",
       "      <td>GRP_0</td>\n",
       "      <td>6</td>\n",
       "      <td>30</td>\n",
       "    </tr>\n",
       "    <tr>\n",
       "      <th>4447</th>\n",
       "      <td>unable to print. need a driver update.</td>\n",
       "      <td>GRP_0</td>\n",
       "      <td>7</td>\n",
       "      <td>32</td>\n",
       "    </tr>\n",
       "  </tbody>\n",
       "</table>\n",
       "</div>"
      ],
      "text/plain": [
       "                                            Description Assignment group  \\\n",
       "5506  dsw in33568505_x000D_\\n_x000D_\\nwe are seeing ...            GRP_2   \n",
       "1903  name:vithrkas \\nlanguage:\\nbrowser:microsoft i...            GRP_0   \n",
       "3513                                     password reset            GRP_0   \n",
       "4133               unable to login to engineering tool             GRP_0   \n",
       "4447             unable to print. need a driver update.            GRP_0   \n",
       "\n",
       "      word_count  char_counts  \n",
       "5506         236         1331  \n",
       "1903          14          139  \n",
       "3513           2           13  \n",
       "4133           6           30  \n",
       "4447           7           32  "
      ]
     },
     "execution_count": 35,
     "metadata": {},
     "output_type": "execute_result"
    }
   ],
   "source": [
    "feature_df['char_counts']=df['Description'].apply(lambda x: char_counts(str(x)))\n",
    "#printing 5 random samples\n",
    "feature_df.sample(5)"
   ]
  },
  {
   "cell_type": "code",
   "execution_count": 36,
   "metadata": {
    "colab": {
     "base_uri": "https://localhost:8080/"
    },
    "executionInfo": {
     "elapsed": 494,
     "status": "ok",
     "timestamp": 1637422368440,
     "user": {
      "displayName": "shikha sharma",
      "photoUrl": "https://lh3.googleusercontent.com/a-/AOh14Gi7-MZ8BB7Qmx-tZ4fMVMWE32u_g_Wo7RIqAY8HaA=s64",
      "userId": "18236534953658718874"
     },
     "user_tz": -330
    },
    "id": "lI5-PYvn8DIg",
    "outputId": "4ae24055-cc76-405d-b9af-0c053097e255"
   },
   "outputs": [
    {
     "data": {
      "text/plain": [
       "1"
      ]
     },
     "execution_count": 36,
     "metadata": {},
     "output_type": "execute_result"
    }
   ],
   "source": [
    "#Checking the minimum character count\n",
    "feature_df['char_counts'].min()"
   ]
  },
  {
   "cell_type": "code",
   "execution_count": 37,
   "metadata": {
    "colab": {
     "base_uri": "https://localhost:8080/"
    },
    "executionInfo": {
     "elapsed": 490,
     "status": "ok",
     "timestamp": 1637422368441,
     "user": {
      "displayName": "shikha sharma",
      "photoUrl": "https://lh3.googleusercontent.com/a-/AOh14Gi7-MZ8BB7Qmx-tZ4fMVMWE32u_g_Wo7RIqAY8HaA=s64",
      "userId": "18236534953658718874"
     },
     "user_tz": -330
    },
    "id": "4MmawBZE8JSm",
    "outputId": "ca9e12f5-6564-4a67-8aee-fb7181da347b"
   },
   "outputs": [
    {
     "data": {
      "text/plain": [
       "12785"
      ]
     },
     "execution_count": 37,
     "metadata": {},
     "output_type": "execute_result"
    }
   ],
   "source": [
    "#Checking the maximum character count\n",
    "feature_df['char_counts'].max()"
   ]
  },
  {
   "cell_type": "code",
   "execution_count": 38,
   "metadata": {
    "colab": {
     "base_uri": "https://localhost:8080/",
     "height": 204
    },
    "executionInfo": {
     "elapsed": 473,
     "status": "ok",
     "timestamp": 1637422368444,
     "user": {
      "displayName": "shikha sharma",
      "photoUrl": "https://lh3.googleusercontent.com/a-/AOh14Gi7-MZ8BB7Qmx-tZ4fMVMWE32u_g_Wo7RIqAY8HaA=s64",
      "userId": "18236534953658718874"
     },
     "user_tz": -330
    },
    "id": "Xsj1g2MVqCJQ",
    "outputId": "32a0542f-9d1f-4f30-b136-097b46895898"
   },
   "outputs": [
    {
     "data": {
      "text/html": [
       "<div>\n",
       "<style scoped>\n",
       "    .dataframe tbody tr th:only-of-type {\n",
       "        vertical-align: middle;\n",
       "    }\n",
       "\n",
       "    .dataframe tbody tr th {\n",
       "        vertical-align: top;\n",
       "    }\n",
       "\n",
       "    .dataframe thead th {\n",
       "        text-align: right;\n",
       "    }\n",
       "</style>\n",
       "<table border=\"1\" class=\"dataframe\">\n",
       "  <thead>\n",
       "    <tr style=\"text-align: right;\">\n",
       "      <th></th>\n",
       "      <th>Description</th>\n",
       "      <th>Assignment group</th>\n",
       "      <th>word_count</th>\n",
       "      <th>char_counts</th>\n",
       "      <th>Avg_word_Count</th>\n",
       "    </tr>\n",
       "  </thead>\n",
       "  <tbody>\n",
       "    <tr>\n",
       "      <th>1770</th>\n",
       "      <td>momitor defekt \\niptbwdq csenjruz</td>\n",
       "      <td>GRP_24</td>\n",
       "      <td>4</td>\n",
       "      <td>30</td>\n",
       "      <td>0.133333</td>\n",
       "    </tr>\n",
       "    <tr>\n",
       "      <th>2130</th>\n",
       "      <td>unable to login to erp and distributor_tool</td>\n",
       "      <td>GRP_0</td>\n",
       "      <td>7</td>\n",
       "      <td>37</td>\n",
       "      <td>0.189189</td>\n",
       "    </tr>\n",
       "    <tr>\n",
       "      <th>5163</th>\n",
       "      <td>engineering request 2248675 assignment (revise...</td>\n",
       "      <td>GRP_11</td>\n",
       "      <td>16</td>\n",
       "      <td>101</td>\n",
       "      <td>0.158416</td>\n",
       "    </tr>\n",
       "    <tr>\n",
       "      <th>4624</th>\n",
       "      <td>\\n\\nreceived from: gvderpbx.udrzjxkm@gmail.com...</td>\n",
       "      <td>GRP_0</td>\n",
       "      <td>10</td>\n",
       "      <td>149</td>\n",
       "      <td>0.067114</td>\n",
       "    </tr>\n",
       "    <tr>\n",
       "      <th>5786</th>\n",
       "      <td>ic_x000D_\\n welcome, our next available agent ...</td>\n",
       "      <td>GRP_0</td>\n",
       "      <td>24</td>\n",
       "      <td>195</td>\n",
       "      <td>0.123077</td>\n",
       "    </tr>\n",
       "  </tbody>\n",
       "</table>\n",
       "</div>"
      ],
      "text/plain": [
       "                                            Description Assignment group  \\\n",
       "1770                  momitor defekt \\niptbwdq csenjruz           GRP_24   \n",
       "2130        unable to login to erp and distributor_tool            GRP_0   \n",
       "5163  engineering request 2248675 assignment (revise...           GRP_11   \n",
       "4624  \\n\\nreceived from: gvderpbx.udrzjxkm@gmail.com...            GRP_0   \n",
       "5786  ic_x000D_\\n welcome, our next available agent ...            GRP_0   \n",
       "\n",
       "      word_count  char_counts  Avg_word_Count  \n",
       "1770           4           30        0.133333  \n",
       "2130           7           37        0.189189  \n",
       "5163          16          101        0.158416  \n",
       "4624          10          149        0.067114  \n",
       "5786          24          195        0.123077  "
      ]
     },
     "execution_count": 38,
     "metadata": {},
     "output_type": "execute_result"
    }
   ],
   "source": [
    "#Caluclating the average word count\n",
    "feature_df['Avg_word_Count']=feature_df['word_count']/feature_df['char_counts']\n",
    "#printing 5 random samples\n",
    "feature_df.sample(5)"
   ]
  },
  {
   "cell_type": "code",
   "execution_count": 39,
   "metadata": {
    "colab": {
     "base_uri": "https://localhost:8080/"
    },
    "executionInfo": {
     "elapsed": 471,
     "status": "ok",
     "timestamp": 1637422368444,
     "user": {
      "displayName": "shikha sharma",
      "photoUrl": "https://lh3.googleusercontent.com/a-/AOh14Gi7-MZ8BB7Qmx-tZ4fMVMWE32u_g_Wo7RIqAY8HaA=s64",
      "userId": "18236534953658718874"
     },
     "user_tz": -330
    },
    "id": "-mFur3bM7w_N",
    "outputId": "fdb8e699-f2be-4da7-940b-919a95b042f4"
   },
   "outputs": [
    {
     "name": "stdout",
     "output_type": "stream",
     "text": [
      "Minimum avg word count 0.009900990099009901\n",
      "Maximum avg word count 1.0\n"
     ]
    }
   ],
   "source": [
    "#Checking the minimum avg word count\n",
    "print(\"Minimum avg word count\",feature_df['Avg_word_Count'].min())\n",
    "print(\"Maximum avg word count\",feature_df['Avg_word_Count'].max())"
   ]
  },
  {
   "cell_type": "code",
   "execution_count": 40,
   "metadata": {},
   "outputs": [],
   "source": [
    "import json\n",
    "import re\n",
    "import string\n",
    "import nltk\n",
    "#from nltk.corpus import stopwords\n",
    "from nltk.stem import WordNetLemmatizer,SnowballStemmer\n",
    "from string import punctuation\n",
    "#from wordcloud import WordCloud\n",
    "#from wordcloud import WordCloud, STOPWORDS"
   ]
  },
  {
   "cell_type": "code",
   "execution_count": 41,
   "metadata": {
    "colab": {
     "base_uri": "https://localhost:8080/"
    },
    "executionInfo": {
     "elapsed": 464,
     "status": "ok",
     "timestamp": 1637422368446,
     "user": {
      "displayName": "shikha sharma",
      "photoUrl": "https://lh3.googleusercontent.com/a-/AOh14Gi7-MZ8BB7Qmx-tZ4fMVMWE32u_g_Wo7RIqAY8HaA=s64",
      "userId": "18236534953658718874"
     },
     "user_tz": -330
    },
    "id": "gJqiQl5hqj8g",
    "outputId": "ac34a52d-24f7-430a-cc12-73d40bf06c10"
   },
   "outputs": [
    {
     "name": "stdout",
     "output_type": "stream",
     "text": [
      "{'whose', '’m', 'sometime', 'under', 'always', 'two', 'even', 'say', 'whatever', 'this', 'being', 'then', 'behind', 'with', 'before', 'any', 'further', 'yours', 'were', 'have', 'until', 'onto', 'namely', 'had', 'again', 'that', 'part', 'together', 'thus', 'wherever', 'beside', 'of', 'four', 'thereafter', 'within', 'enough', 'at', 'anyway', 'everyone', 'here', 'few', 'been', 'wherein', 'an', 'too', 'some', 'much', 'ten', 'she', 'several', 'former', 'get', 'myself', 'sometimes', 'may', 'someone', 'next', 'or', 'therefore', 'toward', 'whither', 're', 'name', 'three', 'nobody', 'whereupon', 'go', 'anyhow', 'than', 'last', 'along', 'somehow', 'fifty', 'into', 'will', 'up', 'to', 'please', 'seeming', 'nowhere', 'hundred', 'amongst', '’d', 'among', 'can', 'i', 'done', 'over', 'seems', 'more', 'are', \"n't\", 'about', 'various', 'your', \"'m\", 'almost', 'back', 'call', 'six', 'latter', 'see', 'keep', 'many', 'if', 'anywhere', 'during', 'we', 'one', 'across', 'rather', 'seemed', 'very', 'either', 'well', 'only', 'meanwhile', 'now', 'does', 'but', 'latterly', 'their', 'which', 'our', 'top', 'for', 'how', 'however', 'everything', 'since', 'still', 'these', 'what', 'yourself', 'ever', 'alone', 'whom', 'moreover', 'put', 'everywhere', 'beyond', 'else', 'herself', 'has', 'it', 'they', 'full', 'whence', 'why', 'he', 'afterwards', 'beforehand', '’ve', '‘d', 'something', 'twenty', 'became', 'upon', 'am', 'though', 'elsewhere', 'give', 'fifteen', 'quite', 'cannot', 'bottom', 'n’t', 'his', 'do', '‘m', 'therein', 'might', 'on', 'make', 'really', 'no', 'because', 'thence', 'nothing', 'hereafter', 'there', 'both', 'each', 'per', 'except', 'made', 'once', 'is', 'hereupon', 'formerly', 'doing', 'five', 'whether', 'through', 'indeed', 'also', 'so', 'such', 'while', '‘ve', 'hence', 'side', 'just', 'eleven', \"'ll\", 'thereupon', 'whenever', 'hers', 'himself', 'move', 'regarding', 'from', 'hereby', 'third', \"'s\", 'out', '‘s', 'ca', 'thereby', 'herein', 'unless', 'did', 'yourselves', 'less', '’s', 'take', 'another', 'using', 'was', 'against', 'every', 'somewhere', 'must', 'nor', 'when', 'whereas', 'becomes', 'become', 'often', 'a', 'first', 'between', 'and', 'off', 'him', 'as', 'mine', 'be', 'others', 'below', 'perhaps', 'those', '’ll', 'nine', 'n‘t', '‘re', 'towards', 'yet', 'after', 'empty', 'throughout', 'serious', 'already', 'who', \"'d\", '‘ll', 'ourselves', 'around', 'me', 'neither', 'mostly', 'us', 'all', 'own', 'amount', 'forty', 'least', 'them', 'besides', 'themselves', '’re', 'anyone', 'twelve', 'other', 'the', 'show', 'front', 'whereafter', 'most', 'same', 'her', 'you', 'would', 'in', 'without', 'used', 'should', 'seem', 'never', 'noone', 'otherwise', 'none', 'down', \"'re\", 'whoever', 'by', 'its', 'ours', 'thru', 'due', \"'ve\", 'although', 'sixty', 'via', 'where', 'whole', 'could', 'not', 'eight', 'nevertheless', 'above', 'itself', 'anything', 'becoming', 'my', 'whereby'}\n"
     ]
    },
    {
     "data": {
      "text/plain": [
       "326"
      ]
     },
     "execution_count": 41,
     "metadata": {},
     "output_type": "execute_result"
    }
   ],
   "source": [
    "print(stop_words)\n",
    "len(stop_words)"
   ]
  },
  {
   "cell_type": "code",
   "execution_count": 42,
   "metadata": {
    "colab": {
     "base_uri": "https://localhost:8080/",
     "height": 204
    },
    "executionInfo": {
     "elapsed": 449,
     "status": "ok",
     "timestamp": 1637422368446,
     "user": {
      "displayName": "shikha sharma",
      "photoUrl": "https://lh3.googleusercontent.com/a-/AOh14Gi7-MZ8BB7Qmx-tZ4fMVMWE32u_g_Wo7RIqAY8HaA=s64",
      "userId": "18236534953658718874"
     },
     "user_tz": -330
    },
    "id": "QFPxyVzkr4Cc",
    "outputId": "4fc861a6-05f6-4fd7-8d19-135aa1e3297d"
   },
   "outputs": [
    {
     "data": {
      "text/html": [
       "<div>\n",
       "<style scoped>\n",
       "    .dataframe tbody tr th:only-of-type {\n",
       "        vertical-align: middle;\n",
       "    }\n",
       "\n",
       "    .dataframe tbody tr th {\n",
       "        vertical-align: top;\n",
       "    }\n",
       "\n",
       "    .dataframe thead th {\n",
       "        text-align: right;\n",
       "    }\n",
       "</style>\n",
       "<table border=\"1\" class=\"dataframe\">\n",
       "  <thead>\n",
       "    <tr style=\"text-align: right;\">\n",
       "      <th></th>\n",
       "      <th>Description</th>\n",
       "      <th>Assignment group</th>\n",
       "      <th>word_count</th>\n",
       "      <th>char_counts</th>\n",
       "      <th>Avg_word_Count</th>\n",
       "      <th>stop_words_count</th>\n",
       "    </tr>\n",
       "  </thead>\n",
       "  <tbody>\n",
       "    <tr>\n",
       "      <th>8073</th>\n",
       "      <td>setup new ws \\wyighrjl xcwavhyu</td>\n",
       "      <td>GRP_24</td>\n",
       "      <td>5</td>\n",
       "      <td>27</td>\n",
       "      <td>0.185185</td>\n",
       "      <td>0</td>\n",
       "    </tr>\n",
       "    <tr>\n",
       "      <th>3284</th>\n",
       "      <td>node ldiw8511217sf located at usa village is d...</td>\n",
       "      <td>GRP_8</td>\n",
       "      <td>12</td>\n",
       "      <td>62</td>\n",
       "      <td>0.193548</td>\n",
       "      <td>4</td>\n",
       "    </tr>\n",
       "    <tr>\n",
       "      <th>5398</th>\n",
       "      <td>outlook email font size issue</td>\n",
       "      <td>GRP_0</td>\n",
       "      <td>5</td>\n",
       "      <td>25</td>\n",
       "      <td>0.200000</td>\n",
       "      <td>0</td>\n",
       "    </tr>\n",
       "    <tr>\n",
       "      <th>839</th>\n",
       "      <td>axcbfuqo yiagubvh no longer has access to http...</td>\n",
       "      <td>GRP_25</td>\n",
       "      <td>100</td>\n",
       "      <td>458</td>\n",
       "      <td>0.218341</td>\n",
       "      <td>56</td>\n",
       "    </tr>\n",
       "    <tr>\n",
       "      <th>6909</th>\n",
       "      <td>received from: monitoring_tool@company.com_x00...</td>\n",
       "      <td>GRP_6</td>\n",
       "      <td>12</td>\n",
       "      <td>108</td>\n",
       "      <td>0.111111</td>\n",
       "      <td>1</td>\n",
       "    </tr>\n",
       "  </tbody>\n",
       "</table>\n",
       "</div>"
      ],
      "text/plain": [
       "                                            Description Assignment group  \\\n",
       "8073                    setup new ws \\wyighrjl xcwavhyu           GRP_24   \n",
       "3284  node ldiw8511217sf located at usa village is d...            GRP_8   \n",
       "5398                      outlook email font size issue            GRP_0   \n",
       "839   axcbfuqo yiagubvh no longer has access to http...           GRP_25   \n",
       "6909  received from: monitoring_tool@company.com_x00...            GRP_6   \n",
       "\n",
       "      word_count  char_counts  Avg_word_Count  stop_words_count  \n",
       "8073           5           27        0.185185                 0  \n",
       "3284          12           62        0.193548                 4  \n",
       "5398           5           25        0.200000                 0  \n",
       "839          100          458        0.218341                56  \n",
       "6909          12          108        0.111111                 1  "
      ]
     },
     "execution_count": 42,
     "metadata": {},
     "output_type": "execute_result"
    }
   ],
   "source": [
    "#caluclating the number of stop words in description column\n",
    "feature_df['stop_words_count']=df['Description'].apply(lambda x:len([t for t in x.split() if t in stop_words]))\n",
    "#printing the sample values\n",
    "feature_df.sample(5)"
   ]
  },
  {
   "cell_type": "code",
   "execution_count": 43,
   "metadata": {
    "colab": {
     "base_uri": "https://localhost:8080/"
    },
    "executionInfo": {
     "elapsed": 449,
     "status": "ok",
     "timestamp": 1637422368447,
     "user": {
      "displayName": "shikha sharma",
      "photoUrl": "https://lh3.googleusercontent.com/a-/AOh14Gi7-MZ8BB7Qmx-tZ4fMVMWE32u_g_Wo7RIqAY8HaA=s64",
      "userId": "18236534953658718874"
     },
     "user_tz": -330
    },
    "id": "4dQOMWef8dhP",
    "outputId": "853de552-c834-4601-8f29-55019dc7a790"
   },
   "outputs": [
    {
     "name": "stdout",
     "output_type": "stream",
     "text": [
      "Minimum number of stop words present 0\n",
      "Maximum number of stop words present 352\n"
     ]
    }
   ],
   "source": [
    "#caluclating the minimum number of stop words count\n",
    "print(\"Minimum number of stop words present\",feature_df['stop_words_count'].min())\n",
    "#caluclating the maximum number of stop words count\n",
    "print(\"Maximum number of stop words present\", feature_df['stop_words_count'].max())"
   ]
  },
  {
   "cell_type": "code",
   "execution_count": 44,
   "metadata": {
    "colab": {
     "base_uri": "https://localhost:8080/",
     "height": 204
    },
    "executionInfo": {
     "elapsed": 444,
     "status": "ok",
     "timestamp": 1637422368447,
     "user": {
      "displayName": "shikha sharma",
      "photoUrl": "https://lh3.googleusercontent.com/a-/AOh14Gi7-MZ8BB7Qmx-tZ4fMVMWE32u_g_Wo7RIqAY8HaA=s64",
      "userId": "18236534953658718874"
     },
     "user_tz": -330
    },
    "id": "dDPhF-j5-9ad",
    "outputId": "843ba4e0-cf4a-4ff3-b9f9-0e44387bb296"
   },
   "outputs": [
    {
     "data": {
      "text/html": [
       "<div>\n",
       "<style scoped>\n",
       "    .dataframe tbody tr th:only-of-type {\n",
       "        vertical-align: middle;\n",
       "    }\n",
       "\n",
       "    .dataframe tbody tr th {\n",
       "        vertical-align: top;\n",
       "    }\n",
       "\n",
       "    .dataframe thead th {\n",
       "        text-align: right;\n",
       "    }\n",
       "</style>\n",
       "<table border=\"1\" class=\"dataframe\">\n",
       "  <thead>\n",
       "    <tr style=\"text-align: right;\">\n",
       "      <th></th>\n",
       "      <th>Description</th>\n",
       "      <th>Assignment group</th>\n",
       "      <th>word_count</th>\n",
       "      <th>char_counts</th>\n",
       "      <th>Avg_word_Count</th>\n",
       "      <th>stop_words_count</th>\n",
       "      <th>Digits_count</th>\n",
       "    </tr>\n",
       "  </thead>\n",
       "  <tbody>\n",
       "    <tr>\n",
       "      <th>3858</th>\n",
       "      <td>erp net weaver funktioniert nicht. pc: empw700...</td>\n",
       "      <td>GRP_0</td>\n",
       "      <td>7</td>\n",
       "      <td>44</td>\n",
       "      <td>0.159091</td>\n",
       "      <td>0</td>\n",
       "      <td>0</td>\n",
       "    </tr>\n",
       "    <tr>\n",
       "      <th>4024</th>\n",
       "      <td>HostName_894 : volume: c:\\ label:sys-HostName_...</td>\n",
       "      <td>GRP_39</td>\n",
       "      <td>15</td>\n",
       "      <td>95</td>\n",
       "      <td>0.157895</td>\n",
       "      <td>2</td>\n",
       "      <td>0</td>\n",
       "    </tr>\n",
       "    <tr>\n",
       "      <th>5159</th>\n",
       "      <td>user having issues login in to the pc with the...</td>\n",
       "      <td>GRP_0</td>\n",
       "      <td>56</td>\n",
       "      <td>292</td>\n",
       "      <td>0.191781</td>\n",
       "      <td>23</td>\n",
       "      <td>0</td>\n",
       "    </tr>\n",
       "    <tr>\n",
       "      <th>6115</th>\n",
       "      <td>from: proygkjt mwetuhqf \\nsent: sunday, august...</td>\n",
       "      <td>GRP_0</td>\n",
       "      <td>162</td>\n",
       "      <td>987</td>\n",
       "      <td>0.164134</td>\n",
       "      <td>53</td>\n",
       "      <td>6</td>\n",
       "    </tr>\n",
       "    <tr>\n",
       "      <th>4886</th>\n",
       "      <td>source ip :83.54.03.93209 \\nsystem name :rgtw8...</td>\n",
       "      <td>GRP_3</td>\n",
       "      <td>246</td>\n",
       "      <td>1582</td>\n",
       "      <td>0.155499</td>\n",
       "      <td>82</td>\n",
       "      <td>3</td>\n",
       "    </tr>\n",
       "  </tbody>\n",
       "</table>\n",
       "</div>"
      ],
      "text/plain": [
       "                                            Description Assignment group  \\\n",
       "3858  erp net weaver funktioniert nicht. pc: empw700...            GRP_0   \n",
       "4024  HostName_894 : volume: c:\\ label:sys-HostName_...           GRP_39   \n",
       "5159  user having issues login in to the pc with the...            GRP_0   \n",
       "6115  from: proygkjt mwetuhqf \\nsent: sunday, august...            GRP_0   \n",
       "4886  source ip :83.54.03.93209 \\nsystem name :rgtw8...            GRP_3   \n",
       "\n",
       "      word_count  char_counts  Avg_word_Count  stop_words_count  Digits_count  \n",
       "3858           7           44        0.159091                 0             0  \n",
       "4024          15           95        0.157895                 2             0  \n",
       "5159          56          292        0.191781                23             0  \n",
       "6115         162          987        0.164134                53             6  \n",
       "4886         246         1582        0.155499                82             3  "
      ]
     },
     "execution_count": 44,
     "metadata": {},
     "output_type": "execute_result"
    }
   ],
   "source": [
    "#caluclating the number of digits count in description column\n",
    "feature_df['Digits_count']=df['Description'].apply(lambda x:len([t for t in x.split() if t.isdigit()]))\n",
    "#Printing the sample rows\n",
    "feature_df.sample(5)"
   ]
  },
  {
   "cell_type": "code",
   "execution_count": 45,
   "metadata": {},
   "outputs": [],
   "source": [
    "s = feature_df['Digits_count'].groupby(feature_df['Assignment group']).value_counts()"
   ]
  },
  {
   "cell_type": "code",
   "execution_count": 46,
   "metadata": {
    "colab": {
     "base_uri": "https://localhost:8080/"
    },
    "executionInfo": {
     "elapsed": 444,
     "status": "ok",
     "timestamp": 1637422368449,
     "user": {
      "displayName": "shikha sharma",
      "photoUrl": "https://lh3.googleusercontent.com/a-/AOh14Gi7-MZ8BB7Qmx-tZ4fMVMWE32u_g_Wo7RIqAY8HaA=s64",
      "userId": "18236534953658718874"
     },
     "user_tz": -330
    },
    "id": "1z9tLmoC__1Z",
    "outputId": "75e2fc34-7be0-48e7-d110-27a4e4301dad"
   },
   "outputs": [
    {
     "name": "stdout",
     "output_type": "stream",
     "text": [
      "Maximum number of digits present 444\n",
      "Minimum number of digits present 0\n"
     ]
    }
   ],
   "source": [
    "#Checking the maximum count\n",
    "print(\"Maximum number of digits present\",feature_df['Digits_count'].max())\n",
    "#Checking the minimum count\n",
    "print(\"Minimum number of digits present\",feature_df['Digits_count'].min())\n"
   ]
  },
  {
   "cell_type": "code",
   "execution_count": 47,
   "metadata": {
    "colab": {
     "base_uri": "https://localhost:8080/",
     "height": 204
    },
    "executionInfo": {
     "elapsed": 1152,
     "status": "ok",
     "timestamp": 1637422369163,
     "user": {
      "displayName": "shikha sharma",
      "photoUrl": "https://lh3.googleusercontent.com/a-/AOh14Gi7-MZ8BB7Qmx-tZ4fMVMWE32u_g_Wo7RIqAY8HaA=s64",
      "userId": "18236534953658718874"
     },
     "user_tz": -330
    },
    "id": "9kABnno9AkTj",
    "outputId": "2e73c3c7-1d4d-4c5a-884b-be6f6462839d"
   },
   "outputs": [
    {
     "data": {
      "text/html": [
       "<div>\n",
       "<style scoped>\n",
       "    .dataframe tbody tr th:only-of-type {\n",
       "        vertical-align: middle;\n",
       "    }\n",
       "\n",
       "    .dataframe tbody tr th {\n",
       "        vertical-align: top;\n",
       "    }\n",
       "\n",
       "    .dataframe thead th {\n",
       "        text-align: right;\n",
       "    }\n",
       "</style>\n",
       "<table border=\"1\" class=\"dataframe\">\n",
       "  <thead>\n",
       "    <tr style=\"text-align: right;\">\n",
       "      <th></th>\n",
       "      <th>Description</th>\n",
       "      <th>Assignment group</th>\n",
       "      <th>word_count</th>\n",
       "      <th>char_counts</th>\n",
       "      <th>Avg_word_Count</th>\n",
       "      <th>stop_words_count</th>\n",
       "      <th>Digits_count</th>\n",
       "      <th>Upper_Case_count</th>\n",
       "    </tr>\n",
       "  </thead>\n",
       "  <tbody>\n",
       "    <tr>\n",
       "      <th>3992</th>\n",
       "      <td>outlook is not working . i've updated the sp 2...</td>\n",
       "      <td>GRP_0</td>\n",
       "      <td>13</td>\n",
       "      <td>49</td>\n",
       "      <td>0.265306</td>\n",
       "      <td>5</td>\n",
       "      <td>1</td>\n",
       "      <td>0</td>\n",
       "    </tr>\n",
       "    <tr>\n",
       "      <th>4978</th>\n",
       "      <td>the</td>\n",
       "      <td>GRP_17</td>\n",
       "      <td>1</td>\n",
       "      <td>3</td>\n",
       "      <td>0.333333</td>\n",
       "      <td>1</td>\n",
       "      <td>0</td>\n",
       "      <td>0</td>\n",
       "    </tr>\n",
       "    <tr>\n",
       "      <th>6537</th>\n",
       "      <td>ms excel file not opening -error procted view ...</td>\n",
       "      <td>GRP_0</td>\n",
       "      <td>36</td>\n",
       "      <td>225</td>\n",
       "      <td>0.160000</td>\n",
       "      <td>10</td>\n",
       "      <td>0</td>\n",
       "      <td>0</td>\n",
       "    </tr>\n",
       "    <tr>\n",
       "      <th>996</th>\n",
       "      <td>account unlock</td>\n",
       "      <td>GRP_0</td>\n",
       "      <td>2</td>\n",
       "      <td>13</td>\n",
       "      <td>0.153846</td>\n",
       "      <td>0</td>\n",
       "      <td>0</td>\n",
       "      <td>0</td>\n",
       "    </tr>\n",
       "    <tr>\n",
       "      <th>2900</th>\n",
       "      <td>msoffice 2016 installation</td>\n",
       "      <td>GRP_0</td>\n",
       "      <td>3</td>\n",
       "      <td>24</td>\n",
       "      <td>0.125000</td>\n",
       "      <td>0</td>\n",
       "      <td>1</td>\n",
       "      <td>0</td>\n",
       "    </tr>\n",
       "  </tbody>\n",
       "</table>\n",
       "</div>"
      ],
      "text/plain": [
       "                                            Description Assignment group  \\\n",
       "3992  outlook is not working . i've updated the sp 2...            GRP_0   \n",
       "4978                                                the           GRP_17   \n",
       "6537  ms excel file not opening -error procted view ...            GRP_0   \n",
       "996                                      account unlock            GRP_0   \n",
       "2900                         msoffice 2016 installation            GRP_0   \n",
       "\n",
       "      word_count  char_counts  Avg_word_Count  stop_words_count  Digits_count  \\\n",
       "3992          13           49        0.265306                 5             1   \n",
       "4978           1            3        0.333333                 1             0   \n",
       "6537          36          225        0.160000                10             0   \n",
       "996            2           13        0.153846                 0             0   \n",
       "2900           3           24        0.125000                 0             1   \n",
       "\n",
       "      Upper_Case_count  \n",
       "3992                 0  \n",
       "4978                 0  \n",
       "6537                 0  \n",
       "996                  0  \n",
       "2900                 0  "
      ]
     },
     "execution_count": 47,
     "metadata": {},
     "output_type": "execute_result"
    }
   ],
   "source": [
    "#caluclating the number of uppercase count in description column\n",
    "feature_df['Upper_Case_count']=df['Description'].apply(lambda x:len([t for t in x.split() if t.isupper()]))\n",
    "#printing the sample\n",
    "feature_df.sample(5)"
   ]
  },
  {
   "cell_type": "code",
   "execution_count": 48,
   "metadata": {
    "colab": {
     "base_uri": "https://localhost:8080/"
    },
    "executionInfo": {
     "elapsed": 37,
     "status": "ok",
     "timestamp": 1637422369164,
     "user": {
      "displayName": "shikha sharma",
      "photoUrl": "https://lh3.googleusercontent.com/a-/AOh14Gi7-MZ8BB7Qmx-tZ4fMVMWE32u_g_Wo7RIqAY8HaA=s64",
      "userId": "18236534953658718874"
     },
     "user_tz": -330
    },
    "id": "DTE7mh8ICAzh",
    "outputId": "3fd248bc-a38c-44eb-c800-4b13b0af8ca3"
   },
   "outputs": [
    {
     "name": "stdout",
     "output_type": "stream",
     "text": [
      "Maximum number of Upper case letters present 10\n",
      "Minimum number of Upper case letters present 0\n"
     ]
    }
   ],
   "source": [
    "#Checking the maximum count\n",
    "print(\"Maximum number of Upper case letters present\",feature_df['Upper_Case_count'].max())\n",
    "#Checking the minimum count\n",
    "print(\"Minimum number of Upper case letters present\",feature_df['Upper_Case_count'].min())"
   ]
  },
  {
   "cell_type": "markdown",
   "metadata": {
    "id": "1pYFO7rPHZTw"
   },
   "source": [
    "# Cleaning and PreProcessing"
   ]
  },
  {
   "cell_type": "code",
   "execution_count": 49,
   "metadata": {},
   "outputs": [
    {
     "data": {
      "text/html": [
       "<div>\n",
       "<style scoped>\n",
       "    .dataframe tbody tr th:only-of-type {\n",
       "        vertical-align: middle;\n",
       "    }\n",
       "\n",
       "    .dataframe tbody tr th {\n",
       "        vertical-align: top;\n",
       "    }\n",
       "\n",
       "    .dataframe thead th {\n",
       "        text-align: right;\n",
       "    }\n",
       "</style>\n",
       "<table border=\"1\" class=\"dataframe\">\n",
       "  <thead>\n",
       "    <tr style=\"text-align: right;\">\n",
       "      <th></th>\n",
       "      <th>Short description</th>\n",
       "      <th>Description</th>\n",
       "      <th>Caller</th>\n",
       "      <th>Assignment group</th>\n",
       "    </tr>\n",
       "  </thead>\n",
       "  <tbody>\n",
       "    <tr>\n",
       "      <th>7271</th>\n",
       "      <td>windows disk space utilization alert for  :: H...</td>\n",
       "      <td>windows disk space utilization alert for  :: H...</td>\n",
       "      <td>uxgrdjfc kqxdjeov</td>\n",
       "      <td>GRP_12</td>\n",
       "    </tr>\n",
       "    <tr>\n",
       "      <th>5378</th>\n",
       "      <td>new order</td>\n",
       "      <td>from: jmfvwrek pqwehmzgagannathan _x000D_\\nsen...</td>\n",
       "      <td>jmfvwrek pqwehmzg</td>\n",
       "      <td>GRP_26</td>\n",
       "    </tr>\n",
       "    <tr>\n",
       "      <th>817</th>\n",
       "      <td>password update query</td>\n",
       "      <td>password update query</td>\n",
       "      <td>gdnwlkit jokidavy</td>\n",
       "      <td>GRP_0</td>\n",
       "    </tr>\n",
       "    <tr>\n",
       "      <th>3799</th>\n",
       "      <td>clients laptop crashed and will not boot</td>\n",
       "      <td>clients laptop crashed and will not boot</td>\n",
       "      <td>onvpjxei uiolhpjq</td>\n",
       "      <td>GRP_3</td>\n",
       "    </tr>\n",
       "    <tr>\n",
       "      <th>7439</th>\n",
       "      <td>ç­”å¤: help for mm#4866474 24800776</td>\n",
       "      <td>_x000D_\\n_x000D_\\nreceived from: windy.shi@com...</td>\n",
       "      <td>tycludks cjofwigv</td>\n",
       "      <td>GRP_6</td>\n",
       "    </tr>\n",
       "  </tbody>\n",
       "</table>\n",
       "</div>"
      ],
      "text/plain": [
       "                                      Short description  \\\n",
       "7271  windows disk space utilization alert for  :: H...   \n",
       "5378                                          new order   \n",
       "817                              password update query    \n",
       "3799           clients laptop crashed and will not boot   \n",
       "7439               ç­”å¤: help for mm#4866474 24800776   \n",
       "\n",
       "                                            Description             Caller  \\\n",
       "7271  windows disk space utilization alert for  :: H...  uxgrdjfc kqxdjeov   \n",
       "5378  from: jmfvwrek pqwehmzgagannathan _x000D_\\nsen...  jmfvwrek pqwehmzg   \n",
       "817                              password update query   gdnwlkit jokidavy   \n",
       "3799           clients laptop crashed and will not boot  onvpjxei uiolhpjq   \n",
       "7439  _x000D_\\n_x000D_\\nreceived from: windy.shi@com...  tycludks cjofwigv   \n",
       "\n",
       "     Assignment group  \n",
       "7271           GRP_12  \n",
       "5378           GRP_26  \n",
       "817             GRP_0  \n",
       "3799            GRP_3  \n",
       "7439            GRP_6  "
      ]
     },
     "execution_count": 49,
     "metadata": {},
     "output_type": "execute_result"
    }
   ],
   "source": [
    "df.sample(5)"
   ]
  },
  {
   "cell_type": "markdown",
   "metadata": {
    "id": "B2Ea3tAwNxB2"
   },
   "source": [
    "\n",
    "\n",
    "1.   The objective of the problem is to categorise the issues based on description and assign them to various groups. Since the short description is extracted from the description only, we can remove the column.\n",
    "2.  The objective is also to analyse the description and assign tickets\n"
   ]
  },
  {
   "cell_type": "code",
   "execution_count": 50,
   "metadata": {
    "executionInfo": {
     "elapsed": 85239,
     "status": "ok",
     "timestamp": 1637422454382,
     "user": {
      "displayName": "shikha sharma",
      "photoUrl": "https://lh3.googleusercontent.com/a-/AOh14Gi7-MZ8BB7Qmx-tZ4fMVMWE32u_g_Wo7RIqAY8HaA=s64",
      "userId": "18236534953658718874"
     },
     "user_tz": -330
    },
    "id": "_ilffAtfRVTf"
   },
   "outputs": [],
   "source": [
    "def fn_lan_detect(df):                                        \n",
    "   try:                                                          \n",
    "     0 \n",
    "     return detect(df)                                      \n",
    "   except:                                                       \n",
    "      return 'no'                                                  \n",
    "\n",
    "df['language'] = df['Description'].apply(fn_lan_detect)"
   ]
  },
  {
   "cell_type": "code",
   "execution_count": 51,
   "metadata": {
    "colab": {
     "base_uri": "https://localhost:8080/"
    },
    "executionInfo": {
     "elapsed": 78,
     "status": "ok",
     "timestamp": 1637422454412,
     "user": {
      "displayName": "shikha sharma",
      "photoUrl": "https://lh3.googleusercontent.com/a-/AOh14Gi7-MZ8BB7Qmx-tZ4fMVMWE32u_g_Wo7RIqAY8HaA=s64",
      "userId": "18236534953658718874"
     },
     "user_tz": -330
    },
    "id": "cdS4A-VKTZrP",
    "outputId": "17911e27-d007-4ce1-a85a-846fb7456463"
   },
   "outputs": [
    {
     "data": {
      "text/plain": [
       "en    7001\n",
       "de     404\n",
       "af     263\n",
       "it     145\n",
       "fr     121\n",
       "sv      76\n",
       "no      70\n",
       "da      70\n",
       "nl      66\n",
       "ca      64\n",
       "es      55\n",
       "pl      29\n",
       "pt      28\n",
       "ro      16\n",
       "so      16\n",
       "sl      12\n",
       "sq      12\n",
       "tl      11\n",
       "cy      10\n",
       "hr       6\n",
       "tr       5\n",
       "fi       5\n",
       "id       5\n",
       "et       5\n",
       "sk       2\n",
       "lt       2\n",
       "cs       1\n",
       "Name: language, dtype: int64"
      ]
     },
     "execution_count": 51,
     "metadata": {},
     "output_type": "execute_result"
    }
   ],
   "source": [
    "df['language'].value_counts()"
   ]
  },
  {
   "cell_type": "code",
   "execution_count": 52,
   "metadata": {
    "colab": {
     "base_uri": "https://localhost:8080/"
    },
    "executionInfo": {
     "elapsed": 67,
     "status": "ok",
     "timestamp": 1637422454412,
     "user": {
      "displayName": "shikha sharma",
      "photoUrl": "https://lh3.googleusercontent.com/a-/AOh14Gi7-MZ8BB7Qmx-tZ4fMVMWE32u_g_Wo7RIqAY8HaA=s64",
      "userId": "18236534953658718874"
     },
     "user_tz": -330
    },
    "id": "AZz4CxpDULP5",
    "outputId": "09c7c446-45c3-4fb2-ab0b-a0829119a708"
   },
   "outputs": [
    {
     "name": "stdout",
     "output_type": "stream",
     "text": [
      "{'af': 'afrikaans', 'sq': 'albanian', 'am': 'amharic', 'ar': 'arabic', 'hy': 'armenian', 'az': 'azerbaijani', 'eu': 'basque', 'be': 'belarusian', 'bn': 'bengali', 'bs': 'bosnian', 'bg': 'bulgarian', 'ca': 'catalan', 'ceb': 'cebuano', 'ny': 'chichewa', 'zh-cn': 'chinese (simplified)', 'zh-tw': 'chinese (traditional)', 'co': 'corsican', 'hr': 'croatian', 'cs': 'czech', 'da': 'danish', 'nl': 'dutch', 'en': 'english', 'eo': 'esperanto', 'et': 'estonian', 'tl': 'filipino', 'fi': 'finnish', 'fr': 'french', 'fy': 'frisian', 'gl': 'galician', 'ka': 'georgian', 'de': 'german', 'el': 'greek', 'gu': 'gujarati', 'ht': 'haitian creole', 'ha': 'hausa', 'haw': 'hawaiian', 'iw': 'hebrew', 'he': 'hebrew', 'hi': 'hindi', 'hmn': 'hmong', 'hu': 'hungarian', 'is': 'icelandic', 'ig': 'igbo', 'id': 'indonesian', 'ga': 'irish', 'it': 'italian', 'ja': 'japanese', 'jw': 'javanese', 'kn': 'kannada', 'kk': 'kazakh', 'km': 'khmer', 'ko': 'korean', 'ku': 'kurdish (kurmanji)', 'ky': 'kyrgyz', 'lo': 'lao', 'la': 'latin', 'lv': 'latvian', 'lt': 'lithuanian', 'lb': 'luxembourgish', 'mk': 'macedonian', 'mg': 'malagasy', 'ms': 'malay', 'ml': 'malayalam', 'mt': 'maltese', 'mi': 'maori', 'mr': 'marathi', 'mn': 'mongolian', 'my': 'myanmar (burmese)', 'ne': 'nepali', 'no': 'norwegian', 'or': 'odia', 'ps': 'pashto', 'fa': 'persian', 'pl': 'polish', 'pt': 'portuguese', 'pa': 'punjabi', 'ro': 'romanian', 'ru': 'russian', 'sm': 'samoan', 'gd': 'scots gaelic', 'sr': 'serbian', 'st': 'sesotho', 'sn': 'shona', 'sd': 'sindhi', 'si': 'sinhala', 'sk': 'slovak', 'sl': 'slovenian', 'so': 'somali', 'es': 'spanish', 'su': 'sundanese', 'sw': 'swahili', 'sv': 'swedish', 'tg': 'tajik', 'ta': 'tamil', 'te': 'telugu', 'th': 'thai', 'tr': 'turkish', 'uk': 'ukrainian', 'ur': 'urdu', 'ug': 'uyghur', 'uz': 'uzbek', 'vi': 'vietnamese', 'cy': 'welsh', 'xh': 'xhosa', 'yi': 'yiddish', 'yo': 'yoruba', 'zu': 'zulu'}\n"
     ]
    }
   ],
   "source": [
    "import googletrans\n",
    "from googletrans import Translator\n",
    "print(googletrans.LANGUAGES)"
   ]
  },
  {
   "cell_type": "code",
   "execution_count": 53,
   "metadata": {},
   "outputs": [],
   "source": [
    "#pip install googletrans"
   ]
  },
  {
   "cell_type": "raw",
   "metadata": {},
   "source": [
    "Transating the other language text"
   ]
  },
  {
   "cell_type": "code",
   "execution_count": 57,
   "metadata": {},
   "outputs": [],
   "source": [
    "#df['RawDescription'] = df['Short description'].str.cat(df['Description'], sep=' ', na_rep=' ')\n",
    "df['RawDescription'] = df['Description']\n",
    "#df.head()"
   ]
  },
  {
   "cell_type": "code",
   "execution_count": 58,
   "metadata": {
    "executionInfo": {
     "elapsed": 58,
     "status": "ok",
     "timestamp": 1637422454413,
     "user": {
      "displayName": "shikha sharma",
      "photoUrl": "https://lh3.googleusercontent.com/a-/AOh14Gi7-MZ8BB7Qmx-tZ4fMVMWE32u_g_Wo7RIqAY8HaA=s64",
      "userId": "18236534953658718874"
     },
     "user_tz": -330
    },
    "id": "Fb87uzltUQK_"
   },
   "outputs": [],
   "source": [
    "# Function to translate the text to english.\n",
    "def fn_translate(df,lang):\n",
    "  try:\n",
    "    if lang == 'en':\n",
    "        return df\n",
    "    else:\n",
    "        return translator.translate(df).text\n",
    "  except:\n",
    "    return df\n",
    "    \n",
    "    \n",
    "df['English_Description'] = df.apply(lambda x: fn_translate(x['RawDescription'], x['language']), axis=1)"
   ]
  },
  {
   "cell_type": "code",
   "execution_count": 59,
   "metadata": {
    "colab": {
     "base_uri": "https://localhost:8080/",
     "height": 204
    },
    "executionInfo": {
     "elapsed": 81,
     "status": "ok",
     "timestamp": 1637422454436,
     "user": {
      "displayName": "shikha sharma",
      "photoUrl": "https://lh3.googleusercontent.com/a-/AOh14Gi7-MZ8BB7Qmx-tZ4fMVMWE32u_g_Wo7RIqAY8HaA=s64",
      "userId": "18236534953658718874"
     },
     "user_tz": -330
    },
    "id": "wB3yntrDGSJA",
    "outputId": "356f8469-875b-452e-b9e3-92bb18e63f77"
   },
   "outputs": [
    {
     "data": {
      "text/html": [
       "<div>\n",
       "<style scoped>\n",
       "    .dataframe tbody tr th:only-of-type {\n",
       "        vertical-align: middle;\n",
       "    }\n",
       "\n",
       "    .dataframe tbody tr th {\n",
       "        vertical-align: top;\n",
       "    }\n",
       "\n",
       "    .dataframe thead th {\n",
       "        text-align: right;\n",
       "    }\n",
       "</style>\n",
       "<table border=\"1\" class=\"dataframe\">\n",
       "  <thead>\n",
       "    <tr style=\"text-align: right;\">\n",
       "      <th></th>\n",
       "      <th>Short description</th>\n",
       "      <th>Description</th>\n",
       "      <th>Caller</th>\n",
       "      <th>Assignment group</th>\n",
       "      <th>language</th>\n",
       "      <th>RawDescription</th>\n",
       "      <th>English_Description</th>\n",
       "    </tr>\n",
       "  </thead>\n",
       "  <tbody>\n",
       "    <tr>\n",
       "      <th>7201</th>\n",
       "      <td>erp SID_34 account unlock</td>\n",
       "      <td>erp SID_34 account unlock</td>\n",
       "      <td>lwbchnga axpqctfr</td>\n",
       "      <td>GRP_0</td>\n",
       "      <td>ro</td>\n",
       "      <td>erp SID_34 account unlock</td>\n",
       "      <td>erp SID_34 account unlock</td>\n",
       "    </tr>\n",
       "    <tr>\n",
       "      <th>2464</th>\n",
       "      <td>kicked off of vpn</td>\n",
       "      <td>i was kicked off of vpn for the 3rd time today...</td>\n",
       "      <td>gakceqyb edrjthvo</td>\n",
       "      <td>GRP_0</td>\n",
       "      <td>en</td>\n",
       "      <td>i was kicked off of vpn for the 3rd time today...</td>\n",
       "      <td>i was kicked off of vpn for the 3rd time today...</td>\n",
       "    </tr>\n",
       "    <tr>\n",
       "      <th>1405</th>\n",
       "      <td>unable to login to hub to check pay statements</td>\n",
       "      <td>unable to login to hub to check pay statements</td>\n",
       "      <td>wrdmxloh dshplynj</td>\n",
       "      <td>GRP_0</td>\n",
       "      <td>en</td>\n",
       "      <td>unable to login to hub to check pay statements</td>\n",
       "      <td>unable to login to hub to check pay statements</td>\n",
       "    </tr>\n",
       "    <tr>\n",
       "      <th>388</th>\n",
       "      <td>reset users password</td>\n",
       "      <td>reset users password</td>\n",
       "      <td>qcehailo wqynckxg</td>\n",
       "      <td>GRP_0</td>\n",
       "      <td>af</td>\n",
       "      <td>reset users password</td>\n",
       "      <td>reset users password</td>\n",
       "    </tr>\n",
       "    <tr>\n",
       "      <th>1448</th>\n",
       "      <td>a next issue to bobj account dbednyuarski</td>\n",
       "      <td>_x000D_\\n_x000D_\\nreceived from: pgacouel.mpgf...</td>\n",
       "      <td>pgacouel mpgfkxwr</td>\n",
       "      <td>GRP_9</td>\n",
       "      <td>en</td>\n",
       "      <td>_x000D_\\n_x000D_\\nreceived from: pgacouel.mpgf...</td>\n",
       "      <td>_x000D_\\n_x000D_\\nreceived from: pgacouel.mpgf...</td>\n",
       "    </tr>\n",
       "  </tbody>\n",
       "</table>\n",
       "</div>"
      ],
      "text/plain": [
       "                                    Short description  \\\n",
       "7201                        erp SID_34 account unlock   \n",
       "2464                                kicked off of vpn   \n",
       "1405  unable to login to hub to check pay statements    \n",
       "388                              reset users password   \n",
       "1448        a next issue to bobj account dbednyuarski   \n",
       "\n",
       "                                            Description             Caller  \\\n",
       "7201                          erp SID_34 account unlock  lwbchnga axpqctfr   \n",
       "2464  i was kicked off of vpn for the 3rd time today...  gakceqyb edrjthvo   \n",
       "1405    unable to login to hub to check pay statements   wrdmxloh dshplynj   \n",
       "388                                reset users password  qcehailo wqynckxg   \n",
       "1448  _x000D_\\n_x000D_\\nreceived from: pgacouel.mpgf...  pgacouel mpgfkxwr   \n",
       "\n",
       "     Assignment group language  \\\n",
       "7201            GRP_0       ro   \n",
       "2464            GRP_0       en   \n",
       "1405            GRP_0       en   \n",
       "388             GRP_0       af   \n",
       "1448            GRP_9       en   \n",
       "\n",
       "                                         RawDescription  \\\n",
       "7201                          erp SID_34 account unlock   \n",
       "2464  i was kicked off of vpn for the 3rd time today...   \n",
       "1405    unable to login to hub to check pay statements    \n",
       "388                                reset users password   \n",
       "1448  _x000D_\\n_x000D_\\nreceived from: pgacouel.mpgf...   \n",
       "\n",
       "                                    English_Description  \n",
       "7201                          erp SID_34 account unlock  \n",
       "2464  i was kicked off of vpn for the 3rd time today...  \n",
       "1405    unable to login to hub to check pay statements   \n",
       "388                                reset users password  \n",
       "1448  _x000D_\\n_x000D_\\nreceived from: pgacouel.mpgf...  "
      ]
     },
     "execution_count": 59,
     "metadata": {},
     "output_type": "execute_result"
    }
   ],
   "source": [
    "df.sample(5)"
   ]
  },
  {
   "cell_type": "code",
   "execution_count": 60,
   "metadata": {},
   "outputs": [],
   "source": [
    "#df.to_csv('check_translatea.csv', index=False, encoding='utf_8_sig')"
   ]
  },
  {
   "cell_type": "code",
   "execution_count": 61,
   "metadata": {},
   "outputs": [],
   "source": [
    "df_t = df[(df['English_Description'].str.contains('received from: monitoring_tool@company.com') == True)]"
   ]
  },
  {
   "cell_type": "code",
   "execution_count": 62,
   "metadata": {},
   "outputs": [
    {
     "data": {
      "text/plain": [
       "(961, 7)"
      ]
     },
     "execution_count": 62,
     "metadata": {},
     "output_type": "execute_result"
    }
   ],
   "source": [
    "df_t.shape"
   ]
  },
  {
   "cell_type": "code",
   "execution_count": 63,
   "metadata": {},
   "outputs": [],
   "source": [
    "df_e = df[(df['English_Description'].str.contains('event') == True)]"
   ]
  },
  {
   "cell_type": "code",
   "execution_count": 64,
   "metadata": {},
   "outputs": [
    {
     "data": {
      "text/plain": [
       "(89, 7)"
      ]
     },
     "execution_count": 64,
     "metadata": {},
     "output_type": "execute_result"
    }
   ],
   "source": [
    "df_e.shape"
   ]
  },
  {
   "cell_type": "code",
   "execution_count": 65,
   "metadata": {},
   "outputs": [
    {
     "data": {
      "text/html": [
       "<div>\n",
       "<style scoped>\n",
       "    .dataframe tbody tr th:only-of-type {\n",
       "        vertical-align: middle;\n",
       "    }\n",
       "\n",
       "    .dataframe tbody tr th {\n",
       "        vertical-align: top;\n",
       "    }\n",
       "\n",
       "    .dataframe thead th {\n",
       "        text-align: right;\n",
       "    }\n",
       "</style>\n",
       "<table border=\"1\" class=\"dataframe\">\n",
       "  <thead>\n",
       "    <tr style=\"text-align: right;\">\n",
       "      <th></th>\n",
       "      <th>Short description</th>\n",
       "      <th>Description</th>\n",
       "      <th>Caller</th>\n",
       "      <th>Assignment group</th>\n",
       "      <th>language</th>\n",
       "      <th>RawDescription</th>\n",
       "      <th>English_Description</th>\n",
       "    </tr>\n",
       "  </thead>\n",
       "  <tbody>\n",
       "    <tr>\n",
       "      <th>6</th>\n",
       "      <td>event: critical:HostName_221.company.com the v...</td>\n",
       "      <td>event: critical:HostName_221.company.com the v...</td>\n",
       "      <td>jyoqwxhz clhxsoqy</td>\n",
       "      <td>GRP_1</td>\n",
       "      <td>en</td>\n",
       "      <td>event: critical:HostName_221.company.com the v...</td>\n",
       "      <td>event: critical:HostName_221.company.com the v...</td>\n",
       "    </tr>\n",
       "    <tr>\n",
       "      <th>84</th>\n",
       "      <td>engineering tool drawing originals in pdf form...</td>\n",
       "      <td>hello it service,_x000D_\\ni need to monitor th...</td>\n",
       "      <td>vlymsnej whlqxcst</td>\n",
       "      <td>GRP_11</td>\n",
       "      <td>en</td>\n",
       "      <td>hello it service,_x000D_\\ni need to monitor th...</td>\n",
       "      <td>hello it service,_x000D_\\ni need to monitor th...</td>\n",
       "    </tr>\n",
       "    <tr>\n",
       "      <th>341</th>\n",
       "      <td>security incidents - ( #in33071122 ) :[ipbl]: ...</td>\n",
       "      <td>source ip :\\nsystem name :lmsl9516338\\nuser  n...</td>\n",
       "      <td>gzhapcld fdigznbk</td>\n",
       "      <td>GRP_3</td>\n",
       "      <td>en</td>\n",
       "      <td>source ip :\\nsystem name :lmsl9516338\\nuser  n...</td>\n",
       "      <td>source ip :\\nsystem name :lmsl9516338\\nuser  n...</td>\n",
       "    </tr>\n",
       "    <tr>\n",
       "      <th>537</th>\n",
       "      <td>us time change</td>\n",
       "      <td>\\n\\nreceived from: xabkyoug.wdkyiqfx@gmail.com...</td>\n",
       "      <td>xabkyoug wdkyiqfx</td>\n",
       "      <td>GRP_0</td>\n",
       "      <td>en</td>\n",
       "      <td>\\n\\nreceived from: xabkyoug.wdkyiqfx@gmail.com...</td>\n",
       "      <td>\\n\\nreceived from: xabkyoug.wdkyiqfx@gmail.com...</td>\n",
       "    </tr>\n",
       "    <tr>\n",
       "      <th>874</th>\n",
       "      <td>bex analyzer report not working</td>\n",
       "      <td>i open bex analyzer and connect to SID_37_x000...</td>\n",
       "      <td>wgothrzl iokdftgn</td>\n",
       "      <td>GRP_0</td>\n",
       "      <td>en</td>\n",
       "      <td>i open bex analyzer and connect to SID_37_x000...</td>\n",
       "      <td>i open bex analyzer and connect to SID_37_x000...</td>\n",
       "    </tr>\n",
       "    <tr>\n",
       "      <th>...</th>\n",
       "      <td>...</td>\n",
       "      <td>...</td>\n",
       "      <td>...</td>\n",
       "      <td>...</td>\n",
       "      <td>...</td>\n",
       "      <td>...</td>\n",
       "      <td>...</td>\n",
       "    </tr>\n",
       "    <tr>\n",
       "      <th>7997</th>\n",
       "      <td>security incidents - ( sw #in33544563 ) : poss...</td>\n",
       "      <td>source ip : 45.25.35.0499\\nsystem name : lpal9...</td>\n",
       "      <td>ugyothfz ugrmkdhx</td>\n",
       "      <td>GRP_2</td>\n",
       "      <td>en</td>\n",
       "      <td>source ip : 45.25.35.0499\\nsystem name : lpal9...</td>\n",
       "      <td>source ip : 45.25.35.0499\\nsystem name : lpal9...</td>\n",
       "    </tr>\n",
       "    <tr>\n",
       "      <th>8002</th>\n",
       "      <td>security incidents - ( sw #in33544563 ) : poss...</td>\n",
       "      <td>source ip : 45.25.35.0499_x000D_\\nsystem name ...</td>\n",
       "      <td>ugyothfz ugrmkdhx</td>\n",
       "      <td>GRP_62</td>\n",
       "      <td>en</td>\n",
       "      <td>source ip : 45.25.35.0499_x000D_\\nsystem name ...</td>\n",
       "      <td>source ip : 45.25.35.0499_x000D_\\nsystem name ...</td>\n",
       "    </tr>\n",
       "    <tr>\n",
       "      <th>8096</th>\n",
       "      <td>lean event</td>\n",
       "      <td>_x000D_\\n_x000D_\\nreceived from: ikerxqwz.prky...</td>\n",
       "      <td>ikerxqwz prkyuitl</td>\n",
       "      <td>GRP_0</td>\n",
       "      <td>en</td>\n",
       "      <td>_x000D_\\n_x000D_\\nreceived from: ikerxqwz.prky...</td>\n",
       "      <td>_x000D_\\n_x000D_\\nreceived from: ikerxqwz.prky...</td>\n",
       "    </tr>\n",
       "    <tr>\n",
       "      <th>8336</th>\n",
       "      <td>hello.  please see the highlighted field below...</td>\n",
       "      <td>from: rushethryli h jacfgtykson [mailto:ckflmq...</td>\n",
       "      <td>ckflmqoj fojkrlmw</td>\n",
       "      <td>GRP_29</td>\n",
       "      <td>en</td>\n",
       "      <td>from: rushethryli h jacfgtykson [mailto:ckflmq...</td>\n",
       "      <td>from: rushethryli h jacfgtykson [mailto:ckflmq...</td>\n",
       "    </tr>\n",
       "    <tr>\n",
       "      <th>8404</th>\n",
       "      <td>skype</td>\n",
       "      <td>_x000D_\\n_x000D_\\nreceived from: lpoebzsc.grkn...</td>\n",
       "      <td>lpoebzsc grknswyo</td>\n",
       "      <td>GRP_0</td>\n",
       "      <td>en</td>\n",
       "      <td>_x000D_\\n_x000D_\\nreceived from: lpoebzsc.grkn...</td>\n",
       "      <td>_x000D_\\n_x000D_\\nreceived from: lpoebzsc.grkn...</td>\n",
       "    </tr>\n",
       "  </tbody>\n",
       "</table>\n",
       "<p>89 rows × 7 columns</p>\n",
       "</div>"
      ],
      "text/plain": [
       "                                      Short description  \\\n",
       "6     event: critical:HostName_221.company.com the v...   \n",
       "84    engineering tool drawing originals in pdf form...   \n",
       "341   security incidents - ( #in33071122 ) :[ipbl]: ...   \n",
       "537                                      us time change   \n",
       "874                     bex analyzer report not working   \n",
       "...                                                 ...   \n",
       "7997  security incidents - ( sw #in33544563 ) : poss...   \n",
       "8002  security incidents - ( sw #in33544563 ) : poss...   \n",
       "8096                                         lean event   \n",
       "8336  hello.  please see the highlighted field below...   \n",
       "8404                                              skype   \n",
       "\n",
       "                                            Description             Caller  \\\n",
       "6     event: critical:HostName_221.company.com the v...  jyoqwxhz clhxsoqy   \n",
       "84    hello it service,_x000D_\\ni need to monitor th...  vlymsnej whlqxcst   \n",
       "341   source ip :\\nsystem name :lmsl9516338\\nuser  n...  gzhapcld fdigznbk   \n",
       "537   \\n\\nreceived from: xabkyoug.wdkyiqfx@gmail.com...  xabkyoug wdkyiqfx   \n",
       "874   i open bex analyzer and connect to SID_37_x000...  wgothrzl iokdftgn   \n",
       "...                                                 ...                ...   \n",
       "7997  source ip : 45.25.35.0499\\nsystem name : lpal9...  ugyothfz ugrmkdhx   \n",
       "8002  source ip : 45.25.35.0499_x000D_\\nsystem name ...  ugyothfz ugrmkdhx   \n",
       "8096  _x000D_\\n_x000D_\\nreceived from: ikerxqwz.prky...  ikerxqwz prkyuitl   \n",
       "8336  from: rushethryli h jacfgtykson [mailto:ckflmq...  ckflmqoj fojkrlmw   \n",
       "8404  _x000D_\\n_x000D_\\nreceived from: lpoebzsc.grkn...  lpoebzsc grknswyo   \n",
       "\n",
       "     Assignment group language  \\\n",
       "6               GRP_1       en   \n",
       "84             GRP_11       en   \n",
       "341             GRP_3       en   \n",
       "537             GRP_0       en   \n",
       "874             GRP_0       en   \n",
       "...               ...      ...   \n",
       "7997            GRP_2       en   \n",
       "8002           GRP_62       en   \n",
       "8096            GRP_0       en   \n",
       "8336           GRP_29       en   \n",
       "8404            GRP_0       en   \n",
       "\n",
       "                                         RawDescription  \\\n",
       "6     event: critical:HostName_221.company.com the v...   \n",
       "84    hello it service,_x000D_\\ni need to monitor th...   \n",
       "341   source ip :\\nsystem name :lmsl9516338\\nuser  n...   \n",
       "537   \\n\\nreceived from: xabkyoug.wdkyiqfx@gmail.com...   \n",
       "874   i open bex analyzer and connect to SID_37_x000...   \n",
       "...                                                 ...   \n",
       "7997  source ip : 45.25.35.0499\\nsystem name : lpal9...   \n",
       "8002  source ip : 45.25.35.0499_x000D_\\nsystem name ...   \n",
       "8096  _x000D_\\n_x000D_\\nreceived from: ikerxqwz.prky...   \n",
       "8336  from: rushethryli h jacfgtykson [mailto:ckflmq...   \n",
       "8404  _x000D_\\n_x000D_\\nreceived from: lpoebzsc.grkn...   \n",
       "\n",
       "                                    English_Description  \n",
       "6     event: critical:HostName_221.company.com the v...  \n",
       "84    hello it service,_x000D_\\ni need to monitor th...  \n",
       "341   source ip :\\nsystem name :lmsl9516338\\nuser  n...  \n",
       "537   \\n\\nreceived from: xabkyoug.wdkyiqfx@gmail.com...  \n",
       "874   i open bex analyzer and connect to SID_37_x000...  \n",
       "...                                                 ...  \n",
       "7997  source ip : 45.25.35.0499\\nsystem name : lpal9...  \n",
       "8002  source ip : 45.25.35.0499_x000D_\\nsystem name ...  \n",
       "8096  _x000D_\\n_x000D_\\nreceived from: ikerxqwz.prky...  \n",
       "8336  from: rushethryli h jacfgtykson [mailto:ckflmq...  \n",
       "8404  _x000D_\\n_x000D_\\nreceived from: lpoebzsc.grkn...  \n",
       "\n",
       "[89 rows x 7 columns]"
      ]
     },
     "execution_count": 65,
     "metadata": {},
     "output_type": "execute_result"
    }
   ],
   "source": [
    "df_e"
   ]
  },
  {
   "cell_type": "code",
   "execution_count": 66,
   "metadata": {},
   "outputs": [],
   "source": [
    "s = df_t['Caller'].groupby(df_t['Assignment group']).value_counts()"
   ]
  },
  {
   "cell_type": "code",
   "execution_count": 67,
   "metadata": {},
   "outputs": [
    {
     "data": {
      "text/plain": [
       "Assignment group  Caller           \n",
       "GRP_1             bpctwhsn kzqsbmtp      6\n",
       "                  ZkBogxib QsEJzdZO      1\n",
       "GRP_10            bpctwhsn kzqsbmtp     60\n",
       "                  ZkBogxib QsEJzdZO      2\n",
       "GRP_12            bpctwhsn kzqsbmtp      8\n",
       "GRP_13            bpctwhsn kzqsbmtp      4\n",
       "GRP_14            ZkBogxib QsEJzdZO      2\n",
       "                  bpctwhsn kzqsbmtp      1\n",
       "GRP_18            bpctwhsn kzqsbmtp      3\n",
       "GRP_29            ZkBogxib QsEJzdZO      2\n",
       "                  bpctwhsn kzqsbmtp      1\n",
       "GRP_44            bpctwhsn kzqsbmtp      1\n",
       "GRP_45            bpctwhsn kzqsbmtp      7\n",
       "GRP_47            ZkBogxib QsEJzdZO      8\n",
       "                  bpctwhsn kzqsbmtp      2\n",
       "GRP_5             bpctwhsn kzqsbmtp     96\n",
       "                  ZkBogxib QsEJzdZO     16\n",
       "GRP_57            bpctwhsn kzqsbmtp      1\n",
       "GRP_6             bpctwhsn kzqsbmtp     89\n",
       "                  ZkBogxib QsEJzdZO     35\n",
       "GRP_60            bpctwhsn kzqsbmtp     16\n",
       "GRP_8             bpctwhsn kzqsbmtp    362\n",
       "                  ZkBogxib QsEJzdZO     54\n",
       "GRP_9             bpctwhsn kzqsbmtp    153\n",
       "                  ZkBogxib QsEJzdZO     31\n",
       "Name: Caller, dtype: int64"
      ]
     },
     "execution_count": 67,
     "metadata": {},
     "output_type": "execute_result"
    }
   ],
   "source": [
    "s"
   ]
  },
  {
   "cell_type": "code",
   "execution_count": 68,
   "metadata": {},
   "outputs": [],
   "source": [
    "df = df[(df['English_Description'].str.contains('received from: monitoring_tool@company.com') == False)]"
   ]
  },
  {
   "cell_type": "code",
   "execution_count": 69,
   "metadata": {},
   "outputs": [],
   "source": [
    "df = df[(df['English_Description'].str.contains('event') == False)]"
   ]
  },
  {
   "cell_type": "code",
   "execution_count": 70,
   "metadata": {},
   "outputs": [],
   "source": [
    "#df = df.replace(to_replace = \"'\", value=\"\")"
   ]
  },
  {
   "cell_type": "code",
   "execution_count": 71,
   "metadata": {},
   "outputs": [],
   "source": [
    "#dfk = df_bk['English_Description'].replace(to_replace = \"'\", value=\"\")"
   ]
  },
  {
   "cell_type": "code",
   "execution_count": 72,
   "metadata": {},
   "outputs": [],
   "source": [
    "#dfk1 = df[df['English_Description'].str.contains(\"laptop'\") == True]"
   ]
  },
  {
   "cell_type": "code",
   "execution_count": 73,
   "metadata": {},
   "outputs": [],
   "source": [
    "#a_string = df[(df['English_Description'].str.contains(\"'\") == True)]\n",
    "#stripped_string = a_string.strip(\"'\") \n",
    "\n",
    "#print(stripped_string)  #Output: ab\"cd\n",
    "\n",
    "#replaced_string = a_string.replace(\"'\",\"\")  \n",
    "#print(replaced_string) #Output: abcd\n",
    "#a_string.sample(5)\n",
    "#a_string.shape"
   ]
  },
  {
   "cell_type": "code",
   "execution_count": 74,
   "metadata": {},
   "outputs": [],
   "source": [
    "#a_string.to_csv('string.csv', index=False, encoding='utf_8_sig')"
   ]
  },
  {
   "cell_type": "code",
   "execution_count": 75,
   "metadata": {},
   "outputs": [],
   "source": [
    "#replaced_string.head"
   ]
  },
  {
   "cell_type": "code",
   "execution_count": 76,
   "metadata": {},
   "outputs": [],
   "source": [
    "#dfk1 = replaced_string[replaced_string['English_Description'].str.contains(\"laptop'\") == True]"
   ]
  },
  {
   "cell_type": "code",
   "execution_count": 77,
   "metadata": {},
   "outputs": [],
   "source": [
    "#dfk1"
   ]
  },
  {
   "cell_type": "code",
   "execution_count": 78,
   "metadata": {},
   "outputs": [],
   "source": [
    "#dfk2 = dfk1.replace(to_replace = \"'\", value=\"\")\n",
    "#dfk2"
   ]
  },
  {
   "cell_type": "code",
   "execution_count": 79,
   "metadata": {},
   "outputs": [
    {
     "name": "stdout",
     "output_type": "stream",
     "text": [
      "<class 'pandas.core.frame.DataFrame'>\n",
      "Int64Index: 7450 entries, 0 to 8499\n",
      "Data columns (total 7 columns):\n",
      " #   Column               Non-Null Count  Dtype \n",
      "---  ------               --------------  ----- \n",
      " 0   Short description    7442 non-null   object\n",
      " 1   Description          7450 non-null   object\n",
      " 2   Caller               7450 non-null   object\n",
      " 3   Assignment group     7450 non-null   object\n",
      " 4   language             7450 non-null   object\n",
      " 5   RawDescription       7450 non-null   object\n",
      " 6   English_Description  7450 non-null   object\n",
      "dtypes: object(7)\n",
      "memory usage: 465.6+ KB\n"
     ]
    }
   ],
   "source": [
    "#df = df[(df['English_Description'].str.contains(\"'\") == False)]\n",
    "df.info()"
   ]
  },
  {
   "cell_type": "code",
   "execution_count": null,
   "metadata": {},
   "outputs": [],
   "source": []
  },
  {
   "cell_type": "code",
   "execution_count": 80,
   "metadata": {},
   "outputs": [],
   "source": [
    "df['RawWordCount'] = [len(desc.split(' ')) for desc in df['English_Description']]\n",
    "df.head()\n",
    "wordCount_before = df['RawWordCount'].sum()"
   ]
  },
  {
   "cell_type": "code",
   "execution_count": 81,
   "metadata": {},
   "outputs": [
    {
     "name": "stdout",
     "output_type": "stream",
     "text": [
      "Total Corpus Word Count:  201389\n"
     ]
    }
   ],
   "source": [
    "print(\"Total Corpus Word Count: \", wordCount_before)"
   ]
  },
  {
   "cell_type": "code",
   "execution_count": 82,
   "metadata": {},
   "outputs": [],
   "source": [
    "def removeString(data, regex):\n",
    "    return data.str.lower().str.replace(regex.lower(), ' ')\n",
    "\n",
    "def cleanDataset(dataset, columnsToClean, regexList):\n",
    "    for column in columnsToClean:\n",
    "        for regex in regexList:\n",
    "            dataset[column] = removeString(dataset[column], regex)\n",
    "    return dataset\n",
    "# TBD : remove Disclaimer\n",
    "\n",
    "def getRegexList():\n",
    "    '''\n",
    "    Adding regex list as per the given data set to flush off the unnecessary text\n",
    "    \n",
    "    '''\n",
    "    regexList = []\n",
    "    regexList += ['From:(.*)\\r\\n']  # from line\n",
    "    regexList += ['Sent:(.*)\\r\\n']  # sent to line\n",
    "    regexList += ['received from:(.*)\\r\\n']  # received data line\n",
    "    regexList += ['received']  # received data line\n",
    "    regexList += ['To:(.*)\\r\\n']  # to line\n",
    "    regexList += ['CC:(.*)\\r\\n']  # cc line\n",
    "    regexList += ['(.*)infection']  # footer\n",
    "    regexList += ['\\[cid:(.*)]']  # images cid\n",
    "    regexList += ['https?:[^\\]\\n\\r]+']  # https & http\n",
    "    regexList += ['Subject:']\n",
    "    regexList += ['[\\w\\d\\-\\_\\.]+@[\\w\\d\\-\\_\\.]+']  # emails are not required\n",
    "    regexList += ['[0-9][\\-0–90-9 ]+']  # phones are not required\n",
    "    regexList += ['[0-9]']  # numbers not needed\n",
    "    regexList += ['[^a-zA-z 0-9]+']  # anything that is not a letter\n",
    "    regexList += ['[\\r\\n]']  # \\r\\n\n",
    "    regexList += [' [a-zA-Z] ']  # single letters makes no sense\n",
    "    regexList += [' [a-zA-Z][a-zA-Z] ']  # two-letter words makes no sense\n",
    "    regexList += [\"  \"]  # double spaces\n",
    "    \n",
    "    regexList += ['^[_a-z0-9-]+(\\.[_a-z0-9-]+)*@[a-z0-9-]+(\\.[a-z0-9-]+)*(\\.[a-z]{2,4})$']\n",
    "    regexList += ['[\\w\\d\\-\\_\\.]+ @ [\\w\\d\\-\\_\\.]+']\n",
    "    regexList += ['Subject:']\n",
    "    regexList += ['[^a-zA-Z]']\n",
    "\n",
    "    return regexList\n",
    "\n"
   ]
  },
  {
   "cell_type": "code",
   "execution_count": null,
   "metadata": {},
   "outputs": [],
   "source": []
  },
  {
   "cell_type": "code",
   "execution_count": 83,
   "metadata": {},
   "outputs": [],
   "source": [
    "#clean_tickets_df.sample(5)"
   ]
  },
  {
   "cell_type": "markdown",
   "metadata": {},
   "source": [
    "Droping down the column Description and language after translating"
   ]
  },
  {
   "cell_type": "code",
   "execution_count": 84,
   "metadata": {
    "executionInfo": {
     "elapsed": 101,
     "status": "ok",
     "timestamp": 1637422454443,
     "user": {
      "displayName": "shikha sharma",
      "photoUrl": "https://lh3.googleusercontent.com/a-/AOh14Gi7-MZ8BB7Qmx-tZ4fMVMWE32u_g_Wo7RIqAY8HaA=s64",
      "userId": "18236534953658718874"
     },
     "user_tz": -330
    },
    "id": "I_R7IdkAfw-u"
   },
   "outputs": [],
   "source": [
    "df_translated_text= df.drop(['Description','language'],axis=1)"
   ]
  },
  {
   "cell_type": "code",
   "execution_count": 85,
   "metadata": {
    "executionInfo": {
     "elapsed": 117,
     "status": "ok",
     "timestamp": 1637422454475,
     "user": {
      "displayName": "shikha sharma",
      "photoUrl": "https://lh3.googleusercontent.com/a-/AOh14Gi7-MZ8BB7Qmx-tZ4fMVMWE32u_g_Wo7RIqAY8HaA=s64",
      "userId": "18236534953658718874"
     },
     "user_tz": -330
    },
    "id": "YKnP_5wbgD20"
   },
   "outputs": [],
   "source": [
    "df_translated_text.English_Description=df_translated_text.English_Description.astype(str)"
   ]
  },
  {
   "cell_type": "code",
   "execution_count": 86,
   "metadata": {
    "colab": {
     "base_uri": "https://localhost:8080/",
     "height": 204
    },
    "executionInfo": {
     "elapsed": 927,
     "status": "ok",
     "timestamp": 1637422455288,
     "user": {
      "displayName": "shikha sharma",
      "photoUrl": "https://lh3.googleusercontent.com/a-/AOh14Gi7-MZ8BB7Qmx-tZ4fMVMWE32u_g_Wo7RIqAY8HaA=s64",
      "userId": "18236534953658718874"
     },
     "user_tz": -330
    },
    "id": "oBfEhK52R5n9",
    "outputId": "c9f80309-f9e0-419f-ea76-67ec300019ef"
   },
   "outputs": [
    {
     "data": {
      "text/html": [
       "<div>\n",
       "<style scoped>\n",
       "    .dataframe tbody tr th:only-of-type {\n",
       "        vertical-align: middle;\n",
       "    }\n",
       "\n",
       "    .dataframe tbody tr th {\n",
       "        vertical-align: top;\n",
       "    }\n",
       "\n",
       "    .dataframe thead th {\n",
       "        text-align: right;\n",
       "    }\n",
       "</style>\n",
       "<table border=\"1\" class=\"dataframe\">\n",
       "  <thead>\n",
       "    <tr style=\"text-align: right;\">\n",
       "      <th></th>\n",
       "      <th>Short description</th>\n",
       "      <th>Caller</th>\n",
       "      <th>Assignment group</th>\n",
       "      <th>RawDescription</th>\n",
       "      <th>English_Description</th>\n",
       "      <th>RawWordCount</th>\n",
       "    </tr>\n",
       "  </thead>\n",
       "  <tbody>\n",
       "    <tr>\n",
       "      <th>6539</th>\n",
       "      <td>user unable to hotel wi-fi</td>\n",
       "      <td>sgheqbly mcboawld</td>\n",
       "      <td>GRP_0</td>\n",
       "      <td>user unable to hotel wi-fi _x000D_\\n-advised t...</td>\n",
       "      <td>user unable to hotel wifi _x000D_advised the u...</td>\n",
       "      <td>37</td>\n",
       "    </tr>\n",
       "    <tr>\n",
       "      <th>7290</th>\n",
       "      <td>pls help to change the internal order number 7...</td>\n",
       "      <td>ckitashy dnqojbwi</td>\n",
       "      <td>GRP_10</td>\n",
       "      <td>we jsut had a new company marocm apac cost cne...</td>\n",
       "      <td>we jsut had a new company marocm apac cost cne...</td>\n",
       "      <td>29</td>\n",
       "    </tr>\n",
       "    <tr>\n",
       "      <th>4966</th>\n",
       "      <td>sync hr org details to purchasing</td>\n",
       "      <td>mpihysnw wrctgoan</td>\n",
       "      <td>GRP_29</td>\n",
       "      <td>sync hr org details to purchasing for dhmfuvgw...</td>\n",
       "      <td>sync hr org details to purchasing for dhmfuvgw...</td>\n",
       "      <td>26</td>\n",
       "    </tr>\n",
       "    <tr>\n",
       "      <th>7064</th>\n",
       "      <td>virus detected on pc</td>\n",
       "      <td>nrugzxkl lohqkvry</td>\n",
       "      <td>GRP_50</td>\n",
       "      <td>virus detected on pc. please see attachment.</td>\n",
       "      <td>virus detected on pc please see attachment</td>\n",
       "      <td>7</td>\n",
       "    </tr>\n",
       "    <tr>\n",
       "      <th>3139</th>\n",
       "      <td>crm</td>\n",
       "      <td>hmjdrvpb komuaywn</td>\n",
       "      <td>GRP_15</td>\n",
       "      <td>_x000D_\\n_x000D_\\nreceived from: hmjdrvpb.komu...</td>\n",
       "      <td>_x000D__x000D_received from hmjdrvpbkomuaywngm...</td>\n",
       "      <td>136</td>\n",
       "    </tr>\n",
       "  </tbody>\n",
       "</table>\n",
       "</div>"
      ],
      "text/plain": [
       "                                      Short description             Caller  \\\n",
       "6539                        user unable to hotel wi-fi   sgheqbly mcboawld   \n",
       "7290  pls help to change the internal order number 7...  ckitashy dnqojbwi   \n",
       "4966                  sync hr org details to purchasing  mpihysnw wrctgoan   \n",
       "7064                               virus detected on pc  nrugzxkl lohqkvry   \n",
       "3139                                                crm  hmjdrvpb komuaywn   \n",
       "\n",
       "     Assignment group                                     RawDescription  \\\n",
       "6539            GRP_0  user unable to hotel wi-fi _x000D_\\n-advised t...   \n",
       "7290           GRP_10  we jsut had a new company marocm apac cost cne...   \n",
       "4966           GRP_29  sync hr org details to purchasing for dhmfuvgw...   \n",
       "7064           GRP_50       virus detected on pc. please see attachment.   \n",
       "3139           GRP_15  _x000D_\\n_x000D_\\nreceived from: hmjdrvpb.komu...   \n",
       "\n",
       "                                    English_Description  RawWordCount  \n",
       "6539  user unable to hotel wifi _x000D_advised the u...            37  \n",
       "7290  we jsut had a new company marocm apac cost cne...            29  \n",
       "4966  sync hr org details to purchasing for dhmfuvgw...            26  \n",
       "7064         virus detected on pc please see attachment             7  \n",
       "3139  _x000D__x000D_received from hmjdrvpbkomuaywngm...           136  "
      ]
     },
     "execution_count": 86,
     "metadata": {},
     "output_type": "execute_result"
    }
   ],
   "source": [
    "#Removing unwanted charcters\n",
    "df_translated_text['English_Description']=df_translated_text['English_Description'].apply(lambda x: re.sub(r'[^\\w ]+', \"\", x))\n",
    "#Printing sample values\n",
    "df_translated_text.sample(5)"
   ]
  },
  {
   "cell_type": "code",
   "execution_count": 87,
   "metadata": {
    "colab": {
     "base_uri": "https://localhost:8080/",
     "height": 289
    },
    "executionInfo": {
     "elapsed": 88342,
     "status": "ok",
     "timestamp": 1637422545876,
     "user": {
      "displayName": "shikha sharma",
      "photoUrl": "https://lh3.googleusercontent.com/a-/AOh14Gi7-MZ8BB7Qmx-tZ4fMVMWE32u_g_Wo7RIqAY8HaA=s64",
      "userId": "18236534953658718874"
     },
     "user_tz": -330
    },
    "id": "EC5mWIj6Jyor",
    "outputId": "6c5962ea-73a2-4b82-8944-467fe8d0f54f"
   },
   "outputs": [],
   "source": [
    "def Expansions(x):\n",
    "  expanded_text=[]\n",
    "  expanded_words=[]\n",
    "  for x in x.split():\n",
    "    expanded_words.append(contractions.fix(x))\n",
    "    expanded_text = ' '.join(expanded_words)\n",
    "  return(expanded_text)\n"
   ]
  },
  {
   "cell_type": "code",
   "execution_count": 88,
   "metadata": {},
   "outputs": [
    {
     "data": {
      "text/html": [
       "<div>\n",
       "<style scoped>\n",
       "    .dataframe tbody tr th:only-of-type {\n",
       "        vertical-align: middle;\n",
       "    }\n",
       "\n",
       "    .dataframe tbody tr th {\n",
       "        vertical-align: top;\n",
       "    }\n",
       "\n",
       "    .dataframe thead th {\n",
       "        text-align: right;\n",
       "    }\n",
       "</style>\n",
       "<table border=\"1\" class=\"dataframe\">\n",
       "  <thead>\n",
       "    <tr style=\"text-align: right;\">\n",
       "      <th></th>\n",
       "      <th>Short description</th>\n",
       "      <th>Caller</th>\n",
       "      <th>Assignment group</th>\n",
       "      <th>RawDescription</th>\n",
       "      <th>English_Description</th>\n",
       "      <th>RawWordCount</th>\n",
       "      <th>Expansions</th>\n",
       "    </tr>\n",
       "  </thead>\n",
       "  <tbody>\n",
       "    <tr>\n",
       "      <th>1644</th>\n",
       "      <td>laptop byclpwmv esafrtbh defekt</td>\n",
       "      <td>sxabotdw xlozwcyk</td>\n",
       "      <td>GRP_33</td>\n",
       "      <td>laptop byclpwmv esafrtbh defekt</td>\n",
       "      <td>laptop byclpwmv esafrtbh defekt</td>\n",
       "      <td>4</td>\n",
       "      <td>laptop byclpwmv esafrtbh defekt</td>\n",
       "    </tr>\n",
       "    <tr>\n",
       "      <th>2632</th>\n",
       "      <td>engineering_tool issue</td>\n",
       "      <td>vnetbgio lqxztben</td>\n",
       "      <td>GRP_0</td>\n",
       "      <td>engineering_tool issue._x000D_\\n-connected to ...</td>\n",
       "      <td>engineering_tool issue_x000D_connected to the ...</td>\n",
       "      <td>17</td>\n",
       "      <td>engineering_tool issue_x000D_connected to the ...</td>\n",
       "    </tr>\n",
       "    <tr>\n",
       "      <th>3871</th>\n",
       "      <td>please check order# 35042103 - voucher v-00011418</td>\n",
       "      <td>hbmwlprq ilfvyodx</td>\n",
       "      <td>GRP_13</td>\n",
       "      <td>the order header is showing this voucher code,...</td>\n",
       "      <td>the order header is showing this voucher code ...</td>\n",
       "      <td>62</td>\n",
       "      <td>the order header is showing this voucher code ...</td>\n",
       "    </tr>\n",
       "    <tr>\n",
       "      <th>7858</th>\n",
       "      <td>dell 7350: pc boot up  failure.urgent</td>\n",
       "      <td>qwreamdz pmarxvtk</td>\n",
       "      <td>GRP_3</td>\n",
       "      <td>dell 7350: pc boot up  failure.\\n-had to try r...</td>\n",
       "      <td>dell 7350 pc boot up  failurehad to try restar...</td>\n",
       "      <td>42</td>\n",
       "      <td>dell 7350 pc boot up failurehad to try restart...</td>\n",
       "    </tr>\n",
       "    <tr>\n",
       "      <th>1616</th>\n",
       "      <td>vpn shut down</td>\n",
       "      <td>hdfcwmag plxstkad</td>\n",
       "      <td>GRP_0</td>\n",
       "      <td>while searching for quotes in erp, vpn shut do...</td>\n",
       "      <td>while searching for quotes in erp vpn shut dow...</td>\n",
       "      <td>35</td>\n",
       "      <td>while searching for quotes in erp vpn shut dow...</td>\n",
       "    </tr>\n",
       "  </tbody>\n",
       "</table>\n",
       "</div>"
      ],
      "text/plain": [
       "                                      Short description             Caller  \\\n",
       "1644                    laptop byclpwmv esafrtbh defekt  sxabotdw xlozwcyk   \n",
       "2632                             engineering_tool issue  vnetbgio lqxztben   \n",
       "3871  please check order# 35042103 - voucher v-00011418  hbmwlprq ilfvyodx   \n",
       "7858             dell 7350: pc boot up  failure.urgent   qwreamdz pmarxvtk   \n",
       "1616                                      vpn shut down  hdfcwmag plxstkad   \n",
       "\n",
       "     Assignment group                                     RawDescription  \\\n",
       "1644           GRP_33                    laptop byclpwmv esafrtbh defekt   \n",
       "2632            GRP_0  engineering_tool issue._x000D_\\n-connected to ...   \n",
       "3871           GRP_13  the order header is showing this voucher code,...   \n",
       "7858            GRP_3  dell 7350: pc boot up  failure.\\n-had to try r...   \n",
       "1616            GRP_0  while searching for quotes in erp, vpn shut do...   \n",
       "\n",
       "                                    English_Description  RawWordCount  \\\n",
       "1644                    laptop byclpwmv esafrtbh defekt             4   \n",
       "2632  engineering_tool issue_x000D_connected to the ...            17   \n",
       "3871  the order header is showing this voucher code ...            62   \n",
       "7858  dell 7350 pc boot up  failurehad to try restar...            42   \n",
       "1616  while searching for quotes in erp vpn shut dow...            35   \n",
       "\n",
       "                                             Expansions  \n",
       "1644                    laptop byclpwmv esafrtbh defekt  \n",
       "2632  engineering_tool issue_x000D_connected to the ...  \n",
       "3871  the order header is showing this voucher code ...  \n",
       "7858  dell 7350 pc boot up failurehad to try restart...  \n",
       "1616  while searching for quotes in erp vpn shut dow...  "
      ]
     },
     "execution_count": 88,
     "metadata": {},
     "output_type": "execute_result"
    }
   ],
   "source": [
    "df_translated_text['Expansions']=df_translated_text['English_Description'].apply(lambda x:Expansions(str(x)))\n",
    "#Printing the sample values\n",
    "df_translated_text.sample(5)"
   ]
  },
  {
   "cell_type": "code",
   "execution_count": 89,
   "metadata": {},
   "outputs": [
    {
     "data": {
      "text/html": [
       "<div>\n",
       "<style scoped>\n",
       "    .dataframe tbody tr th:only-of-type {\n",
       "        vertical-align: middle;\n",
       "    }\n",
       "\n",
       "    .dataframe tbody tr th {\n",
       "        vertical-align: top;\n",
       "    }\n",
       "\n",
       "    .dataframe thead th {\n",
       "        text-align: right;\n",
       "    }\n",
       "</style>\n",
       "<table border=\"1\" class=\"dataframe\">\n",
       "  <thead>\n",
       "    <tr style=\"text-align: right;\">\n",
       "      <th></th>\n",
       "      <th>Short description</th>\n",
       "      <th>Caller</th>\n",
       "      <th>Assignment group</th>\n",
       "      <th>RawDescription</th>\n",
       "      <th>English_Description</th>\n",
       "      <th>RawWordCount</th>\n",
       "      <th>Expansions</th>\n",
       "      <th>Description_Removed_StopWords</th>\n",
       "    </tr>\n",
       "  </thead>\n",
       "  <tbody>\n",
       "    <tr>\n",
       "      <th>7840</th>\n",
       "      <td>business_client issue</td>\n",
       "      <td>ewylacup jlibymtw</td>\n",
       "      <td>GRP_14</td>\n",
       "      <td>1.) search material code are unavailable that ...</td>\n",
       "      <td>1 search material code are unavailable that se...</td>\n",
       "      <td>13</td>\n",
       "      <td>1 search material code are unavailable that se...</td>\n",
       "      <td>1 search material code unavailable seraching r...</td>\n",
       "    </tr>\n",
       "    <tr>\n",
       "      <th>286</th>\n",
       "      <td>vitalyst transfer: crm installation</td>\n",
       "      <td>anpocezt qturbxsg</td>\n",
       "      <td>GRP_0</td>\n",
       "      <td>vitalyst transfer: crm installation</td>\n",
       "      <td>vitalyst transfer crm installation</td>\n",
       "      <td>5</td>\n",
       "      <td>vitalyst transfer crm installation</td>\n",
       "      <td>vitalyst transfer crm installation</td>\n",
       "    </tr>\n",
       "    <tr>\n",
       "      <th>6355</th>\n",
       "      <td>support fÃ¼r umbau \\ we22 \\ port 22 \\niptbwdq ...</td>\n",
       "      <td>niptbwdq csenjruz</td>\n",
       "      <td>GRP_24</td>\n",
       "      <td>support fÃ¼r umbau \\ we22 \\ port 22 \\niptbwdq ...</td>\n",
       "      <td>support fÃ¼r umbau  we22  port 22 niptbwdq cse...</td>\n",
       "      <td>10</td>\n",
       "      <td>support fÃ¼r umbau we22 port 22 niptbwdq csenjruz</td>\n",
       "      <td>support fÃ¼r umbau we22 port 22 niptbwdq csenjruz</td>\n",
       "    </tr>\n",
       "    <tr>\n",
       "      <th>846</th>\n",
       "      <td>crm access issue</td>\n",
       "      <td>utrvshcp bjlwcovt</td>\n",
       "      <td>GRP_0</td>\n",
       "      <td>hi, poland cannot log into crm. all users in p...</td>\n",
       "      <td>hi poland cannot log into crm all users in poland</td>\n",
       "      <td>10</td>\n",
       "      <td>hi poland cannot log into crm all users in poland</td>\n",
       "      <td>hi poland log crm users poland</td>\n",
       "    </tr>\n",
       "    <tr>\n",
       "      <th>5096</th>\n",
       "      <td>internet explorer update to version11</td>\n",
       "      <td>orjszque lukegwam</td>\n",
       "      <td>GRP_19</td>\n",
       "      <td>internet explorer update to version11</td>\n",
       "      <td>internet explorer update to version11</td>\n",
       "      <td>5</td>\n",
       "      <td>internet explorer update to version11</td>\n",
       "      <td>internet explorer update version11</td>\n",
       "    </tr>\n",
       "  </tbody>\n",
       "</table>\n",
       "</div>"
      ],
      "text/plain": [
       "                                      Short description             Caller  \\\n",
       "7840                              business_client issue  ewylacup jlibymtw   \n",
       "286                vitalyst transfer: crm installation   anpocezt qturbxsg   \n",
       "6355  support fÃ¼r umbau \\ we22 \\ port 22 \\niptbwdq ...  niptbwdq csenjruz   \n",
       "846                                    crm access issue  utrvshcp bjlwcovt   \n",
       "5096              internet explorer update to version11  orjszque lukegwam   \n",
       "\n",
       "     Assignment group                                     RawDescription  \\\n",
       "7840           GRP_14  1.) search material code are unavailable that ...   \n",
       "286             GRP_0               vitalyst transfer: crm installation    \n",
       "6355           GRP_24  support fÃ¼r umbau \\ we22 \\ port 22 \\niptbwdq ...   \n",
       "846             GRP_0  hi, poland cannot log into crm. all users in p...   \n",
       "5096           GRP_19              internet explorer update to version11   \n",
       "\n",
       "                                    English_Description  RawWordCount  \\\n",
       "7840  1 search material code are unavailable that se...            13   \n",
       "286                 vitalyst transfer crm installation              5   \n",
       "6355  support fÃ¼r umbau  we22  port 22 niptbwdq cse...            10   \n",
       "846   hi poland cannot log into crm all users in poland            10   \n",
       "5096              internet explorer update to version11             5   \n",
       "\n",
       "                                             Expansions  \\\n",
       "7840  1 search material code are unavailable that se...   \n",
       "286                  vitalyst transfer crm installation   \n",
       "6355  support fÃ¼r umbau we22 port 22 niptbwdq csenjruz   \n",
       "846   hi poland cannot log into crm all users in poland   \n",
       "5096              internet explorer update to version11   \n",
       "\n",
       "                          Description_Removed_StopWords  \n",
       "7840  1 search material code unavailable seraching r...  \n",
       "286                  vitalyst transfer crm installation  \n",
       "6355  support fÃ¼r umbau we22 port 22 niptbwdq csenjruz  \n",
       "846                      hi poland log crm users poland  \n",
       "5096                 internet explorer update version11  "
      ]
     },
     "execution_count": 89,
     "metadata": {},
     "output_type": "execute_result"
    }
   ],
   "source": [
    "  \n",
    "df_translated_text['Description_Removed_StopWords']=df_translated_text['Expansions'].apply(lambda t:' '.join([t for t in t.split() if t not in stop_words]))\n",
    "#Checking for sample rows\n",
    "df_translated_text.sample(5)\n"
   ]
  },
  {
   "cell_type": "code",
   "execution_count": 90,
   "metadata": {},
   "outputs": [
    {
     "data": {
      "text/html": [
       "<div>\n",
       "<style scoped>\n",
       "    .dataframe tbody tr th:only-of-type {\n",
       "        vertical-align: middle;\n",
       "    }\n",
       "\n",
       "    .dataframe tbody tr th {\n",
       "        vertical-align: top;\n",
       "    }\n",
       "\n",
       "    .dataframe thead th {\n",
       "        text-align: right;\n",
       "    }\n",
       "</style>\n",
       "<table border=\"1\" class=\"dataframe\">\n",
       "  <thead>\n",
       "    <tr style=\"text-align: right;\">\n",
       "      <th></th>\n",
       "      <th>Short description</th>\n",
       "      <th>Caller</th>\n",
       "      <th>Assignment group</th>\n",
       "      <th>RawDescription</th>\n",
       "      <th>English_Description</th>\n",
       "      <th>RawWordCount</th>\n",
       "      <th>Expansions</th>\n",
       "      <th>Description_Removed_StopWords</th>\n",
       "    </tr>\n",
       "  </thead>\n",
       "  <tbody>\n",
       "    <tr>\n",
       "      <th>8431</th>\n",
       "      <td>laptop key bankrd not working</td>\n",
       "      <td>ivohcdpw ixcanwbm</td>\n",
       "      <td>GRP_19</td>\n",
       "      <td>_x000D_\\n_x000D_\\nreceived from: ivohcdpw.ixca...</td>\n",
       "      <td>_x000D__x000D_received from ivohcdpwixcanwbmgm...</td>\n",
       "      <td>32</td>\n",
       "      <td>_x000D__x000D_received from ivohcdpwixcanwbmgm...</td>\n",
       "      <td>_x000D__x000D_received ivohcdpwixcanwbmgmailco...</td>\n",
       "    </tr>\n",
       "    <tr>\n",
       "      <th>2776</th>\n",
       "      <td>windows account lock out issue</td>\n",
       "      <td>htsnaodb adjtmlzn</td>\n",
       "      <td>GRP_0</td>\n",
       "      <td>windows account lock out issue</td>\n",
       "      <td>windows account lock out issue</td>\n",
       "      <td>6</td>\n",
       "      <td>windows account lock out issue</td>\n",
       "      <td>windows account lock issue</td>\n",
       "    </tr>\n",
       "    <tr>\n",
       "      <th>2047</th>\n",
       "      <td>excel keeps exiting</td>\n",
       "      <td>qpkbiwzl urypnjvq</td>\n",
       "      <td>GRP_0</td>\n",
       "      <td>excel keeps exiting</td>\n",
       "      <td>excel keeps exiting</td>\n",
       "      <td>3</td>\n",
       "      <td>excel keeps exiting</td>\n",
       "      <td>excel keeps exiting</td>\n",
       "    </tr>\n",
       "    <tr>\n",
       "      <th>4120</th>\n",
       "      <td>cannot submit engineering_tool to system</td>\n",
       "      <td>hbodpniz jvqpxohl</td>\n",
       "      <td>GRP_0</td>\n",
       "      <td>when trying submit engineering_tool to system ...</td>\n",
       "      <td>when trying submit engineering_tool to system ...</td>\n",
       "      <td>34</td>\n",
       "      <td>when trying submit engineering_tool to system ...</td>\n",
       "      <td>trying submit engineering_tool system problem ...</td>\n",
       "    </tr>\n",
       "    <tr>\n",
       "      <th>2508</th>\n",
       "      <td>internet is down</td>\n",
       "      <td>lwgytuxq qspdztiw</td>\n",
       "      <td>GRP_4</td>\n",
       "      <td>lwgytuxq qspdztiw called in for an issue where...</td>\n",
       "      <td>lwgytuxq qspdztiw called in for an issue where...</td>\n",
       "      <td>28</td>\n",
       "      <td>lwgytuxq qspdztiw called in for an issue where...</td>\n",
       "      <td>lwgytuxq qspdztiw called issue internet comple...</td>\n",
       "    </tr>\n",
       "  </tbody>\n",
       "</table>\n",
       "</div>"
      ],
      "text/plain": [
       "                             Short description             Caller  \\\n",
       "8431             laptop key bankrd not working  ivohcdpw ixcanwbm   \n",
       "2776           windows account lock out issue   htsnaodb adjtmlzn   \n",
       "2047                       excel keeps exiting  qpkbiwzl urypnjvq   \n",
       "4120  cannot submit engineering_tool to system  hbodpniz jvqpxohl   \n",
       "2508                          internet is down  lwgytuxq qspdztiw   \n",
       "\n",
       "     Assignment group                                     RawDescription  \\\n",
       "8431           GRP_19  _x000D_\\n_x000D_\\nreceived from: ivohcdpw.ixca...   \n",
       "2776            GRP_0                    windows account lock out issue    \n",
       "2047            GRP_0                                excel keeps exiting   \n",
       "4120            GRP_0  when trying submit engineering_tool to system ...   \n",
       "2508            GRP_4  lwgytuxq qspdztiw called in for an issue where...   \n",
       "\n",
       "                                    English_Description  RawWordCount  \\\n",
       "8431  _x000D__x000D_received from ivohcdpwixcanwbmgm...            32   \n",
       "2776                    windows account lock out issue              6   \n",
       "2047                                excel keeps exiting             3   \n",
       "4120  when trying submit engineering_tool to system ...            34   \n",
       "2508  lwgytuxq qspdztiw called in for an issue where...            28   \n",
       "\n",
       "                                             Expansions  \\\n",
       "8431  _x000D__x000D_received from ivohcdpwixcanwbmgm...   \n",
       "2776                     windows account lock out issue   \n",
       "2047                                excel keeps exiting   \n",
       "4120  when trying submit engineering_tool to system ...   \n",
       "2508  lwgytuxq qspdztiw called in for an issue where...   \n",
       "\n",
       "                          Description_Removed_StopWords  \n",
       "8431  _x000D__x000D_received ivohcdpwixcanwbmgmailco...  \n",
       "2776                         windows account lock issue  \n",
       "2047                                excel keeps exiting  \n",
       "4120  trying submit engineering_tool system problem ...  \n",
       "2508  lwgytuxq qspdztiw called issue internet comple...  "
      ]
     },
     "execution_count": 90,
     "metadata": {},
     "output_type": "execute_result"
    }
   ],
   "source": [
    "#Removing Multiple spaces\n",
    "df_translated_text['Expansions']=df_translated_text['Expansions'].apply(lambda x: ' '.join(x.split()))\n",
    "#Printing sample values\n",
    "df_translated_text.sample(5)"
   ]
  },
  {
   "cell_type": "code",
   "execution_count": 91,
   "metadata": {},
   "outputs": [],
   "source": [
    "def remove_accented_chars(x):\n",
    "  x=unicodedata.normalize('NFKD',x).encode('ascii','ignore').decode('utf-8','ignore')\n",
    "  return x"
   ]
  },
  {
   "cell_type": "code",
   "execution_count": 92,
   "metadata": {},
   "outputs": [
    {
     "data": {
      "text/html": [
       "<div>\n",
       "<style scoped>\n",
       "    .dataframe tbody tr th:only-of-type {\n",
       "        vertical-align: middle;\n",
       "    }\n",
       "\n",
       "    .dataframe tbody tr th {\n",
       "        vertical-align: top;\n",
       "    }\n",
       "\n",
       "    .dataframe thead th {\n",
       "        text-align: right;\n",
       "    }\n",
       "</style>\n",
       "<table border=\"1\" class=\"dataframe\">\n",
       "  <thead>\n",
       "    <tr style=\"text-align: right;\">\n",
       "      <th></th>\n",
       "      <th>Short description</th>\n",
       "      <th>Caller</th>\n",
       "      <th>Assignment group</th>\n",
       "      <th>RawDescription</th>\n",
       "      <th>English_Description</th>\n",
       "      <th>RawWordCount</th>\n",
       "      <th>Expansions</th>\n",
       "      <th>Description_Removed_StopWords</th>\n",
       "    </tr>\n",
       "  </thead>\n",
       "  <tbody>\n",
       "    <tr>\n",
       "      <th>1846</th>\n",
       "      <td>vpn</td>\n",
       "      <td>dhraxivp enmfvuqb</td>\n",
       "      <td>GRP_0</td>\n",
       "      <td>vpn : vpn is working.</td>\n",
       "      <td>vpn  vpn is working</td>\n",
       "      <td>5</td>\n",
       "      <td>vpn vpn is working</td>\n",
       "      <td>vpn vpn working</td>\n",
       "    </tr>\n",
       "    <tr>\n",
       "      <th>2832</th>\n",
       "      <td>ordnerfreigabe fÃ¼r m: kvp3</td>\n",
       "      <td>nemzycxb xpsgkahw</td>\n",
       "      <td>GRP_34</td>\n",
       "      <td>ordnerfreigabe fÃ¼r m: kvp3</td>\n",
       "      <td>ordnerfreigabe fÃ¼r m kvp3</td>\n",
       "      <td>4</td>\n",
       "      <td>ordnerfreigabe fA14r m kvp3</td>\n",
       "      <td>ordnerfreigabe fÃ¼r m kvp3</td>\n",
       "    </tr>\n",
       "    <tr>\n",
       "      <th>2196</th>\n",
       "      <td>account locked in ad</td>\n",
       "      <td>lasxwmhr ixqclfaz</td>\n",
       "      <td>GRP_0</td>\n",
       "      <td>account locked in ad</td>\n",
       "      <td>account locked in ad</td>\n",
       "      <td>4</td>\n",
       "      <td>account locked in ad</td>\n",
       "      <td>account locked ad</td>\n",
       "    </tr>\n",
       "    <tr>\n",
       "      <th>3007</th>\n",
       "      <td>win8.1 ç³»ç»Ÿæç¤ºæ›´æ–°åŽï¼Œæ‰€æœ‰åº”ç”¨è½¯...</td>\n",
       "      <td>bxtdalsj rnkvcshb</td>\n",
       "      <td>GRP_31</td>\n",
       "      <td>win8.1 ç³»ç»Ÿæç¤ºæ›´æ–°åŽï¼Œæ‰€æœ‰åº”ç”¨è½¯...</td>\n",
       "      <td>win81 ç³çŸæçºææåŽï¼Œææœåºçè½äéƒ½äèƒ½æå¼ã</td>\n",
       "      <td>2</td>\n",
       "      <td>win81 c3cYcoaZi14aoce12ae12ae12a14a</td>\n",
       "      <td>win81 ç³çŸæçºææåŽï¼Œææœåºçè½äéƒ½äèƒ½æå¼ã</td>\n",
       "    </tr>\n",
       "    <tr>\n",
       "      <th>6688</th>\n",
       "      <td>setup time not calculated properly</td>\n",
       "      <td>entuakhp xrnhtdmk</td>\n",
       "      <td>GRP_41</td>\n",
       "      <td>email from kanchi (usa) on how confirmation ti...</td>\n",
       "      <td>email from kanchi usa on how confirmation time...</td>\n",
       "      <td>44</td>\n",
       "      <td>email from kanchi usa on how confirmation time...</td>\n",
       "      <td>email kanchi usa confirmation times calculated...</td>\n",
       "    </tr>\n",
       "    <tr>\n",
       "      <th>4597</th>\n",
       "      <td>need to install nvyjtmca xjhpznds applications</td>\n",
       "      <td>spxqmiry zpwgoqju</td>\n",
       "      <td>GRP_19</td>\n",
       "      <td>need to install nvyjtmca xjhpznds applications...</td>\n",
       "      <td>need to install nvyjtmca xjhpznds applications...</td>\n",
       "      <td>22</td>\n",
       "      <td>need to install nvyjtmca xjhpznds applications...</td>\n",
       "      <td>need install nvyjtmca xjhpznds applications_x0...</td>\n",
       "    </tr>\n",
       "    <tr>\n",
       "      <th>7359</th>\n",
       "      <td>need to change the drive name of the network d...</td>\n",
       "      <td>mkdptnhv rawxhtgz</td>\n",
       "      <td>GRP_0</td>\n",
       "      <td>need to change the drive name of the network d...</td>\n",
       "      <td>need to change the drive name of the network d...</td>\n",
       "      <td>10</td>\n",
       "      <td>need to change the drive name of the network d...</td>\n",
       "      <td>need change drive network drives</td>\n",
       "    </tr>\n",
       "    <tr>\n",
       "      <th>7166</th>\n",
       "      <td>unable to execute job_scheduler jobs post clie...</td>\n",
       "      <td>dkmcfreg anwmfvlg</td>\n",
       "      <td>GRP_47</td>\n",
       "      <td>unable to execute job_scheduler jobs post clie...</td>\n",
       "      <td>unable to execute job_scheduler jobs post clie...</td>\n",
       "      <td>12</td>\n",
       "      <td>unable to execute job_scheduler jobs post clie...</td>\n",
       "      <td>unable execute job_scheduler jobs post client ...</td>\n",
       "    </tr>\n",
       "    <tr>\n",
       "      <th>6403</th>\n",
       "      <td>erp round off on total</td>\n",
       "      <td>iqbyrtop izpmvgfq</td>\n",
       "      <td>GRP_13</td>\n",
       "      <td>we entered so 35941677, total of order should ...</td>\n",
       "      <td>we entered so 35941677 total of order should b...</td>\n",
       "      <td>46</td>\n",
       "      <td>we entered so 35941677 total of order should b...</td>\n",
       "      <td>entered 35941677 total order 115050 erp roundi...</td>\n",
       "    </tr>\n",
       "    <tr>\n",
       "      <th>2852</th>\n",
       "      <td>HostName_66:volume: f:\\ label:dat1-HostName_66...</td>\n",
       "      <td>oldrctiu bxurpsyi</td>\n",
       "      <td>GRP_12</td>\n",
       "      <td>volume: f:\\ label:dat1-HostName_66 9a625d75 on...</td>\n",
       "      <td>volume f labeldat1HostName_66 9a625d75 on serv...</td>\n",
       "      <td>15</td>\n",
       "      <td>volume f labeldat1HostName_66 9a625d75 on serv...</td>\n",
       "      <td>volume f labeldat1HostName_66 9a625d75 server ...</td>\n",
       "    </tr>\n",
       "    <tr>\n",
       "      <th>5958</th>\n",
       "      <td>unable to see expense report 2111137500</td>\n",
       "      <td>proygkjt mwetuhqf</td>\n",
       "      <td>GRP_20</td>\n",
       "      <td>from: proygkjt mwetuhqf \\nsent: sunday, august...</td>\n",
       "      <td>from proygkjt mwetuhqf sent sunday august 28 2...</td>\n",
       "      <td>165</td>\n",
       "      <td>from proygkjt mwetuhqf sent sunday august 28 2...</td>\n",
       "      <td>proygkjt mwetuhqf sent sunday august 28 2016 7...</td>\n",
       "    </tr>\n",
       "    <tr>\n",
       "      <th>6006</th>\n",
       "      <td>reset the password for btelgpcx nrlfhbmu on er...</td>\n",
       "      <td>btelgpcx nrlfhbmu</td>\n",
       "      <td>GRP_0</td>\n",
       "      <td>reset the password for btelgpcx nrlfhbmu on er...</td>\n",
       "      <td>reset the password for btelgpcx nrlfhbmu on er...</td>\n",
       "      <td>12</td>\n",
       "      <td>reset the password for btelgpcx nrlfhbmu on er...</td>\n",
       "      <td>reset password btelgpcx nrlfhbmu erp productio...</td>\n",
       "    </tr>\n",
       "    <tr>\n",
       "      <th>585</th>\n",
       "      <td>activation of outlook email access on samsung ...</td>\n",
       "      <td>kbclinop vsczklfp</td>\n",
       "      <td>GRP_0</td>\n",
       "      <td>\\n\\nreceived from: kbclinop.vsczklfp@gmail.com...</td>\n",
       "      <td>received from kbclinopvsczklfpgmailcomhiplease...</td>\n",
       "      <td>63</td>\n",
       "      <td>received from kbclinopvsczklfpgmailcomhiplease...</td>\n",
       "      <td>received kbclinopvsczklfpgmailcomhiplease usa ...</td>\n",
       "    </tr>\n",
       "    <tr>\n",
       "      <th>2303</th>\n",
       "      <td>chg1145744 - stop the reminders</td>\n",
       "      <td>atdclmyi wqxzaysu</td>\n",
       "      <td>GRP_0</td>\n",
       "      <td>_x000D_\\n_x000D_\\nreceived from: atdclmyi.wqxz...</td>\n",
       "      <td>_x000D__x000D_received from atdclmyiwqxzaysugm...</td>\n",
       "      <td>37</td>\n",
       "      <td>_x000D__x000D_received from atdclmyiwqxzaysugm...</td>\n",
       "      <td>_x000D__x000D_received atdclmyiwqxzaysugmailco...</td>\n",
       "    </tr>\n",
       "    <tr>\n",
       "      <th>1089</th>\n",
       "      <td>distribution list not updating</td>\n",
       "      <td>tqpbazxm jhbkycgd</td>\n",
       "      <td>GRP_0</td>\n",
       "      <td>distribution list not updating _x000D_\\nremove...</td>\n",
       "      <td>distribution list not updating _x000D_removed ...</td>\n",
       "      <td>17</td>\n",
       "      <td>distribution list not updating _x000D_removed ...</td>\n",
       "      <td>distribution list updating _x000D_removed adde...</td>\n",
       "    </tr>\n",
       "  </tbody>\n",
       "</table>\n",
       "</div>"
      ],
      "text/plain": [
       "                                      Short description             Caller  \\\n",
       "1846                                                vpn  dhraxivp enmfvuqb   \n",
       "2832                        ordnerfreigabe fÃ¼r m: kvp3  nemzycxb xpsgkahw   \n",
       "2196                               account locked in ad  lasxwmhr ixqclfaz   \n",
       "3007  win8.1 ç³»ç»Ÿæç¤ºæ›´æ–°åŽï¼Œæ‰€æœ‰åº”ç”¨è½¯...  bxtdalsj rnkvcshb   \n",
       "6688                 setup time not calculated properly  entuakhp xrnhtdmk   \n",
       "4597     need to install nvyjtmca xjhpznds applications  spxqmiry zpwgoqju   \n",
       "7359  need to change the drive name of the network d...  mkdptnhv rawxhtgz   \n",
       "7166  unable to execute job_scheduler jobs post clie...  dkmcfreg anwmfvlg   \n",
       "6403                             erp round off on total  iqbyrtop izpmvgfq   \n",
       "2852  HostName_66:volume: f:\\ label:dat1-HostName_66...  oldrctiu bxurpsyi   \n",
       "5958           unable to see expense report 2111137500   proygkjt mwetuhqf   \n",
       "6006  reset the password for btelgpcx nrlfhbmu on er...  btelgpcx nrlfhbmu   \n",
       "585   activation of outlook email access on samsung ...  kbclinop vsczklfp   \n",
       "2303                   chg1145744 - stop the reminders   atdclmyi wqxzaysu   \n",
       "1089                    distribution list not updating   tqpbazxm jhbkycgd   \n",
       "\n",
       "     Assignment group                                     RawDescription  \\\n",
       "1846            GRP_0                              vpn : vpn is working.   \n",
       "2832           GRP_34                        ordnerfreigabe fÃ¼r m: kvp3   \n",
       "2196            GRP_0                               account locked in ad   \n",
       "3007           GRP_31  win8.1 ç³»ç»Ÿæç¤ºæ›´æ–°åŽï¼Œæ‰€æœ‰åº”ç”¨è½¯...   \n",
       "6688           GRP_41  email from kanchi (usa) on how confirmation ti...   \n",
       "4597           GRP_19  need to install nvyjtmca xjhpznds applications...   \n",
       "7359            GRP_0  need to change the drive name of the network d...   \n",
       "7166           GRP_47  unable to execute job_scheduler jobs post clie...   \n",
       "6403           GRP_13  we entered so 35941677, total of order should ...   \n",
       "2852           GRP_12  volume: f:\\ label:dat1-HostName_66 9a625d75 on...   \n",
       "5958           GRP_20  from: proygkjt mwetuhqf \\nsent: sunday, august...   \n",
       "6006            GRP_0  reset the password for btelgpcx nrlfhbmu on er...   \n",
       "585             GRP_0  \\n\\nreceived from: kbclinop.vsczklfp@gmail.com...   \n",
       "2303            GRP_0  _x000D_\\n_x000D_\\nreceived from: atdclmyi.wqxz...   \n",
       "1089            GRP_0  distribution list not updating _x000D_\\nremove...   \n",
       "\n",
       "                                    English_Description  RawWordCount  \\\n",
       "1846                                vpn  vpn is working             5   \n",
       "2832                         ordnerfreigabe fÃ¼r m kvp3             4   \n",
       "2196                               account locked in ad             4   \n",
       "3007           win81 ç³çŸæçºææåŽï¼Œææœåºçè½äéƒ½äèƒ½æå¼ã             2   \n",
       "6688  email from kanchi usa on how confirmation time...            44   \n",
       "4597  need to install nvyjtmca xjhpznds applications...            22   \n",
       "7359  need to change the drive name of the network d...            10   \n",
       "7166  unable to execute job_scheduler jobs post clie...            12   \n",
       "6403  we entered so 35941677 total of order should b...            46   \n",
       "2852  volume f labeldat1HostName_66 9a625d75 on serv...            15   \n",
       "5958  from proygkjt mwetuhqf sent sunday august 28 2...           165   \n",
       "6006  reset the password for btelgpcx nrlfhbmu on er...            12   \n",
       "585   received from kbclinopvsczklfpgmailcomhiplease...            63   \n",
       "2303  _x000D__x000D_received from atdclmyiwqxzaysugm...            37   \n",
       "1089  distribution list not updating _x000D_removed ...            17   \n",
       "\n",
       "                                             Expansions  \\\n",
       "1846                                 vpn vpn is working   \n",
       "2832                        ordnerfreigabe fA14r m kvp3   \n",
       "2196                               account locked in ad   \n",
       "3007                win81 c3cYcoaZi14aoce12ae12ae12a14a   \n",
       "6688  email from kanchi usa on how confirmation time...   \n",
       "4597  need to install nvyjtmca xjhpznds applications...   \n",
       "7359  need to change the drive name of the network d...   \n",
       "7166  unable to execute job_scheduler jobs post clie...   \n",
       "6403  we entered so 35941677 total of order should b...   \n",
       "2852  volume f labeldat1HostName_66 9a625d75 on serv...   \n",
       "5958  from proygkjt mwetuhqf sent sunday august 28 2...   \n",
       "6006  reset the password for btelgpcx nrlfhbmu on er...   \n",
       "585   received from kbclinopvsczklfpgmailcomhiplease...   \n",
       "2303  _x000D__x000D_received from atdclmyiwqxzaysugm...   \n",
       "1089  distribution list not updating _x000D_removed ...   \n",
       "\n",
       "                          Description_Removed_StopWords  \n",
       "1846                                    vpn vpn working  \n",
       "2832                         ordnerfreigabe fÃ¼r m kvp3  \n",
       "2196                                  account locked ad  \n",
       "3007           win81 ç³çŸæçºææåŽï¼Œææœåºçè½äéƒ½äèƒ½æå¼ã  \n",
       "6688  email kanchi usa confirmation times calculated...  \n",
       "4597  need install nvyjtmca xjhpznds applications_x0...  \n",
       "7359                   need change drive network drives  \n",
       "7166  unable execute job_scheduler jobs post client ...  \n",
       "6403  entered 35941677 total order 115050 erp roundi...  \n",
       "2852  volume f labeldat1HostName_66 9a625d75 server ...  \n",
       "5958  proygkjt mwetuhqf sent sunday august 28 2016 7...  \n",
       "6006  reset password btelgpcx nrlfhbmu erp productio...  \n",
       "585   received kbclinopvsczklfpgmailcomhiplease usa ...  \n",
       "2303  _x000D__x000D_received atdclmyiwqxzaysugmailco...  \n",
       "1089  distribution list updating _x000D_removed adde...  "
      ]
     },
     "execution_count": 92,
     "metadata": {},
     "output_type": "execute_result"
    }
   ],
   "source": [
    "df_translated_text['Expansions']=df_translated_text['Expansions'].apply(lambda x:remove_accented_chars(x))\n",
    "#Printing sample values\n",
    "df_translated_text.sample(15)"
   ]
  },
  {
   "cell_type": "code",
   "execution_count": 93,
   "metadata": {},
   "outputs": [],
   "source": [
    "def clean_text(text):\n",
    "    '''Make text lowercase, remove text in square brackets,remove links,remove punctuation\n",
    "    and remove words containing numbers.'''\n",
    "    text=text.replace(('first name: ').lower(),'firstname')\n",
    "    text=text.replace(('last name: ').lower(),'lastname')\n",
    "    text=text.replace(('received from:').lower(),'')\n",
    "    text=text.replace('email:','')\n",
    "    text=text.replace('email address:','') \n",
    "    index1=text.find('from:')\n",
    "    index2=text.find('\\nsddubject:')\n",
    "    text=text.replace(text[index1:index2],'')\n",
    "    index3=text.find('[cid:image')\n",
    "    index4=text.find(']')\n",
    "    text=text.replace(text[index3:index4],'')\n",
    "    text=text.replace('subject:','')\n",
    "    text=text.replace('received from:','')\n",
    "    text=text.replace('this message was sent from an unmonitored email address', '')\n",
    "    text=text.replace('please do not reply to this message', '')\n",
    "    #text=text.replace('monitoring_tool@company.com','MonitoringTool')\n",
    "    text=text.replace('select the following link to view the disclaimer in an alternate language','')\n",
    "    text=text.replace('description problem', '') \n",
    "    text=text.replace('steps taken far', '')\n",
    "    text=text.replace('customer job title', '')\n",
    "    text=text.replace('sales engineer contact', '')\n",
    "    text=text.replace('description of problem:', '')\n",
    "    text=text.replace('steps taken so far', '')\n",
    "    text=text.replace('please do the needful', '')\n",
    "    text=text.replace('please note that ', '')\n",
    "    text=text.replace('please find below', '')\n",
    "    text=text.replace('date and time', '')\n",
    "    text=text.replace('kindly refer mail', '')\n",
    "    text=text.replace('name:', '')\n",
    "    text=text.replace('language:', '')\n",
    "    text=text.replace('customer number:', '')\n",
    "    text=text.replace('telephone:', '')\n",
    "    text=text.replace('summary:', '')\n",
    "    text=text.replace('sincerely', '')\n",
    "    text=text.replace('company inc', '')\n",
    "    text=text.replace('importance:', '')\n",
    "    text=text.replace('gmail.com', '')\n",
    "    text=text.replace('company.com', '')\n",
    "    text=text.replace('microsoftonline.com', '')\n",
    "    text=text.replace('company.onmicrosoft.com', '')\n",
    "    text=text.replace('hello', '')\n",
    "    text=text.replace('hallo', '')\n",
    "    text=text.replace('hi it team', '')\n",
    "    text=text.replace('hi team', '')\n",
    "    text=text.replace('hi', '')\n",
    "    text=text.replace('best', '')\n",
    "    text=text.replace('kind', '')\n",
    "    \n",
    "    text=text.replace('regards', '')\n",
    "    text=text.replace('good morning', '')\n",
    "    text=text.replace('please', '')\n",
    "    \n",
    "    return text"
   ]
  },
  {
   "cell_type": "code",
   "execution_count": 94,
   "metadata": {},
   "outputs": [],
   "source": [
    "df_translated_text['cleaned_description'] = df_translated_text['Description_Removed_StopWords'].apply(lambda x: clean_text(x))"
   ]
  },
  {
   "cell_type": "code",
   "execution_count": 95,
   "metadata": {},
   "outputs": [
    {
     "name": "stderr",
     "output_type": "stream",
     "text": [
      "C:\\Users\\DELL\\AppData\\Local\\Temp\\ipykernel_7240\\207922563.py:2: FutureWarning: The default value of regex will change from True to False in a future version.\n",
      "  return data.str.lower().str.replace(regex.lower(), ' ')\n"
     ]
    }
   ],
   "source": [
    "#Remove text with Regex\n",
    "\n",
    "df_translated_text['cleaned_description_bk'] = df_translated_text['cleaned_description']\n",
    "# Select columns for cleaning\n",
    "columnsToClean = ['cleaned_description']\n",
    "\n",
    "# Create list of regex to remove sensitive data\n",
    "# Clean dataset and remove sensitive data\n",
    "df_translated_text = cleanDataset(df_translated_text, columnsToClean, getRegexList())"
   ]
  },
  {
   "cell_type": "code",
   "execution_count": 96,
   "metadata": {},
   "outputs": [],
   "source": [
    "#clean_tickets_df"
   ]
  },
  {
   "cell_type": "code",
   "execution_count": 97,
   "metadata": {},
   "outputs": [],
   "source": [
    "df_translated_text['number_of_words'] = df_translated_text['cleaned_description'].apply(lambda x: len(x.split()))"
   ]
  },
  {
   "cell_type": "code",
   "execution_count": 98,
   "metadata": {},
   "outputs": [
    {
     "data": {
      "text/html": [
       "<div>\n",
       "<style scoped>\n",
       "    .dataframe tbody tr th:only-of-type {\n",
       "        vertical-align: middle;\n",
       "    }\n",
       "\n",
       "    .dataframe tbody tr th {\n",
       "        vertical-align: top;\n",
       "    }\n",
       "\n",
       "    .dataframe thead th {\n",
       "        text-align: right;\n",
       "    }\n",
       "</style>\n",
       "<table border=\"1\" class=\"dataframe\">\n",
       "  <thead>\n",
       "    <tr style=\"text-align: right;\">\n",
       "      <th></th>\n",
       "      <th>Short description</th>\n",
       "      <th>Caller</th>\n",
       "      <th>Assignment group</th>\n",
       "      <th>RawDescription</th>\n",
       "      <th>English_Description</th>\n",
       "      <th>RawWordCount</th>\n",
       "      <th>Expansions</th>\n",
       "      <th>Description_Removed_StopWords</th>\n",
       "      <th>cleaned_description</th>\n",
       "      <th>cleaned_description_bk</th>\n",
       "      <th>number_of_words</th>\n",
       "    </tr>\n",
       "  </thead>\n",
       "  <tbody>\n",
       "    <tr>\n",
       "      <th>0</th>\n",
       "      <td>login issue</td>\n",
       "      <td>spxjnwir pjlcoqds</td>\n",
       "      <td>GRP_0</td>\n",
       "      <td>-verified user details.(employee# &amp; manager na...</td>\n",
       "      <td>verified user detailsemployee  manager name_x0...</td>\n",
       "      <td>29</td>\n",
       "      <td>verified user detailsemployee manager name_x00...</td>\n",
       "      <td>verified user detailsemployee manager name_x00...</td>\n",
       "      <td>verified user detailsemployee manager name d c...</td>\n",
       "      <td>verified user detailsemployee manager name_x00...</td>\n",
       "      <td>23</td>\n",
       "    </tr>\n",
       "    <tr>\n",
       "      <th>1</th>\n",
       "      <td>outlook</td>\n",
       "      <td>hmjdrvpb komuaywn</td>\n",
       "      <td>GRP_0</td>\n",
       "      <td>_x000D_\\n_x000D_\\nreceived from: hmjdrvpb.komu...</td>\n",
       "      <td>_x000D__x000D_received from hmjdrvpbkomuaywngm...</td>\n",
       "      <td>23</td>\n",
       "      <td>_x000D__x000D_received from hmjdrvpbkomuaywngm...</td>\n",
       "      <td>_x000D__x000D_received hmjdrvpbkomuaywngmailco...</td>\n",
       "      <td>d d  hmjdrvpbkomuaywngmailcom d d team d d me...</td>\n",
       "      <td>_x000D__x000D_received hmjdrvpbkomuaywngmailco...</td>\n",
       "      <td>19</td>\n",
       "    </tr>\n",
       "    <tr>\n",
       "      <th>2</th>\n",
       "      <td>cant log in to vpn</td>\n",
       "      <td>eylqgodm ybqkwiam</td>\n",
       "      <td>GRP_0</td>\n",
       "      <td>_x000D_\\n_x000D_\\nreceived from: eylqgodm.ybqk...</td>\n",
       "      <td>_x000D__x000D_received from eylqgodmybqkwiamgm...</td>\n",
       "      <td>9</td>\n",
       "      <td>_x000D__x000D_received from eylqgodmybqkwiamgm...</td>\n",
       "      <td>_x000D__x000D_received eylqgodmybqkwiamgmailco...</td>\n",
       "      <td>d d  eylqgodmybqkwiamgmailcom d d d d log vpn...</td>\n",
       "      <td>_x000D__x000D_received eylqgodmybqkwiamgmailco...</td>\n",
       "      <td>11</td>\n",
       "    </tr>\n",
       "    <tr>\n",
       "      <th>3</th>\n",
       "      <td>unable to access hr_tool page</td>\n",
       "      <td>xbkucsvz gcpydteq</td>\n",
       "      <td>GRP_0</td>\n",
       "      <td>unable to access hr_tool page</td>\n",
       "      <td>unable to access hr_tool page</td>\n",
       "      <td>5</td>\n",
       "      <td>unable to access hr_tool page</td>\n",
       "      <td>unable access hr_tool page</td>\n",
       "      <td>unable access tool page</td>\n",
       "      <td>unable access hr_tool page</td>\n",
       "      <td>4</td>\n",
       "    </tr>\n",
       "    <tr>\n",
       "      <th>4</th>\n",
       "      <td>skype error</td>\n",
       "      <td>owlgqjme qhcozdfx</td>\n",
       "      <td>GRP_0</td>\n",
       "      <td>skype error</td>\n",
       "      <td>skype error</td>\n",
       "      <td>3</td>\n",
       "      <td>skype error</td>\n",
       "      <td>skype error</td>\n",
       "      <td>skype error</td>\n",
       "      <td>skype error</td>\n",
       "      <td>2</td>\n",
       "    </tr>\n",
       "  </tbody>\n",
       "</table>\n",
       "</div>"
      ],
      "text/plain": [
       "               Short description             Caller Assignment group  \\\n",
       "0                    login issue  spxjnwir pjlcoqds            GRP_0   \n",
       "1                        outlook  hmjdrvpb komuaywn            GRP_0   \n",
       "2             cant log in to vpn  eylqgodm ybqkwiam            GRP_0   \n",
       "3  unable to access hr_tool page  xbkucsvz gcpydteq            GRP_0   \n",
       "4                   skype error   owlgqjme qhcozdfx            GRP_0   \n",
       "\n",
       "                                      RawDescription  \\\n",
       "0  -verified user details.(employee# & manager na...   \n",
       "1  _x000D_\\n_x000D_\\nreceived from: hmjdrvpb.komu...   \n",
       "2  _x000D_\\n_x000D_\\nreceived from: eylqgodm.ybqk...   \n",
       "3                      unable to access hr_tool page   \n",
       "4                                       skype error    \n",
       "\n",
       "                                 English_Description  RawWordCount  \\\n",
       "0  verified user detailsemployee  manager name_x0...            29   \n",
       "1  _x000D__x000D_received from hmjdrvpbkomuaywngm...            23   \n",
       "2  _x000D__x000D_received from eylqgodmybqkwiamgm...             9   \n",
       "3                      unable to access hr_tool page             5   \n",
       "4                                       skype error              3   \n",
       "\n",
       "                                          Expansions  \\\n",
       "0  verified user detailsemployee manager name_x00...   \n",
       "1  _x000D__x000D_received from hmjdrvpbkomuaywngm...   \n",
       "2  _x000D__x000D_received from eylqgodmybqkwiamgm...   \n",
       "3                      unable to access hr_tool page   \n",
       "4                                        skype error   \n",
       "\n",
       "                       Description_Removed_StopWords  \\\n",
       "0  verified user detailsemployee manager name_x00...   \n",
       "1  _x000D__x000D_received hmjdrvpbkomuaywngmailco...   \n",
       "2  _x000D__x000D_received eylqgodmybqkwiamgmailco...   \n",
       "3                         unable access hr_tool page   \n",
       "4                                        skype error   \n",
       "\n",
       "                                 cleaned_description  \\\n",
       "0  verified user detailsemployee manager name d c...   \n",
       "1   d d  hmjdrvpbkomuaywngmailcom d d team d d me...   \n",
       "2   d d  eylqgodmybqkwiamgmailcom d d d d log vpn...   \n",
       "3                            unable access tool page   \n",
       "4                                        skype error   \n",
       "\n",
       "                              cleaned_description_bk  number_of_words  \n",
       "0  verified user detailsemployee manager name_x00...               23  \n",
       "1  _x000D__x000D_received hmjdrvpbkomuaywngmailco...               19  \n",
       "2  _x000D__x000D_received eylqgodmybqkwiamgmailco...               11  \n",
       "3                         unable access hr_tool page                4  \n",
       "4                                        skype error                2  "
      ]
     },
     "execution_count": 98,
     "metadata": {},
     "output_type": "execute_result"
    }
   ],
   "source": [
    "df_translated_text.head()"
   ]
  },
  {
   "cell_type": "code",
   "execution_count": 99,
   "metadata": {},
   "outputs": [],
   "source": [
    "#df_text = df_translated_text.drop(['Short description','Caller','English_Description','Expansions','Description_Removed_StopWords'], axis=1)\n",
    "\n",
    "df_text = df_translated_text.drop(['Expansions','Description_Removed_StopWords','cleaned_description_bk'], axis=1)"
   ]
  },
  {
   "cell_type": "code",
   "execution_count": 100,
   "metadata": {},
   "outputs": [
    {
     "name": "stdout",
     "output_type": "stream",
     "text": [
      "Maximum no of words 456\n",
      "Minimum no of words 0\n"
     ]
    }
   ],
   "source": [
    "#Checking maximum words and mimimum words\n",
    "print(\"Maximum no of words\",df_text['number_of_words'].max())\n",
    "print(\"Minimum no of words\",df_text['number_of_words'].min())"
   ]
  },
  {
   "cell_type": "code",
   "execution_count": 101,
   "metadata": {},
   "outputs": [
    {
     "data": {
      "text/plain": [
       "(7450, 11)"
      ]
     },
     "execution_count": 101,
     "metadata": {},
     "output_type": "execute_result"
    }
   ],
   "source": [
    "df_translated_text.shape"
   ]
  },
  {
   "cell_type": "code",
   "execution_count": 102,
   "metadata": {},
   "outputs": [],
   "source": [
    "df_text=df_text[df_text['number_of_words']>0]\n"
   ]
  },
  {
   "cell_type": "code",
   "execution_count": 103,
   "metadata": {},
   "outputs": [
    {
     "data": {
      "text/plain": [
       "(7354, 8)"
      ]
     },
     "execution_count": 103,
     "metadata": {},
     "output_type": "execute_result"
    }
   ],
   "source": [
    "df_text.shape"
   ]
  },
  {
   "cell_type": "code",
   "execution_count": 104,
   "metadata": {},
   "outputs": [],
   "source": [
    "group_Counts=pd.DataFrame(df['Assignment group'].value_counts())\n",
    "group_Counts=group_Counts.rename_axis('unique_values').reset_index()"
   ]
  },
  {
   "cell_type": "code",
   "execution_count": 105,
   "metadata": {},
   "outputs": [
    {
     "data": {
      "text/html": [
       "<div>\n",
       "<style scoped>\n",
       "    .dataframe tbody tr th:only-of-type {\n",
       "        vertical-align: middle;\n",
       "    }\n",
       "\n",
       "    .dataframe tbody tr th {\n",
       "        vertical-align: top;\n",
       "    }\n",
       "\n",
       "    .dataframe thead th {\n",
       "        text-align: right;\n",
       "    }\n",
       "</style>\n",
       "<table border=\"1\" class=\"dataframe\">\n",
       "  <thead>\n",
       "    <tr style=\"text-align: right;\">\n",
       "      <th></th>\n",
       "      <th>unique_values</th>\n",
       "      <th>Assignment group</th>\n",
       "    </tr>\n",
       "  </thead>\n",
       "  <tbody>\n",
       "    <tr>\n",
       "      <th>0</th>\n",
       "      <td>GRP_0</td>\n",
       "      <td>3963</td>\n",
       "    </tr>\n",
       "    <tr>\n",
       "      <th>1</th>\n",
       "      <td>GRP_24</td>\n",
       "      <td>289</td>\n",
       "    </tr>\n",
       "    <tr>\n",
       "      <th>2</th>\n",
       "      <td>GRP_8</td>\n",
       "      <td>244</td>\n",
       "    </tr>\n",
       "    <tr>\n",
       "      <th>3</th>\n",
       "      <td>GRP_12</td>\n",
       "      <td>242</td>\n",
       "    </tr>\n",
       "    <tr>\n",
       "      <th>4</th>\n",
       "      <td>GRP_2</td>\n",
       "      <td>213</td>\n",
       "    </tr>\n",
       "    <tr>\n",
       "      <th>...</th>\n",
       "      <td>...</td>\n",
       "      <td>...</td>\n",
       "    </tr>\n",
       "    <tr>\n",
       "      <th>68</th>\n",
       "      <td>GRP_67</td>\n",
       "      <td>1</td>\n",
       "    </tr>\n",
       "    <tr>\n",
       "      <th>69</th>\n",
       "      <td>GRP_35</td>\n",
       "      <td>1</td>\n",
       "    </tr>\n",
       "    <tr>\n",
       "      <th>70</th>\n",
       "      <td>GRP_61</td>\n",
       "      <td>1</td>\n",
       "    </tr>\n",
       "    <tr>\n",
       "      <th>71</th>\n",
       "      <td>GRP_57</td>\n",
       "      <td>1</td>\n",
       "    </tr>\n",
       "    <tr>\n",
       "      <th>72</th>\n",
       "      <td>GRP_73</td>\n",
       "      <td>1</td>\n",
       "    </tr>\n",
       "  </tbody>\n",
       "</table>\n",
       "<p>73 rows × 2 columns</p>\n",
       "</div>"
      ],
      "text/plain": [
       "   unique_values  Assignment group\n",
       "0          GRP_0              3963\n",
       "1         GRP_24               289\n",
       "2          GRP_8               244\n",
       "3         GRP_12               242\n",
       "4          GRP_2               213\n",
       "..           ...               ...\n",
       "68        GRP_67                 1\n",
       "69        GRP_35                 1\n",
       "70        GRP_61                 1\n",
       "71        GRP_57                 1\n",
       "72        GRP_73                 1\n",
       "\n",
       "[73 rows x 2 columns]"
      ]
     },
     "execution_count": 105,
     "metadata": {},
     "output_type": "execute_result"
    }
   ],
   "source": [
    "group_Counts"
   ]
  },
  {
   "cell_type": "code",
   "execution_count": 106,
   "metadata": {},
   "outputs": [],
   "source": [
    "list_1=list(group_Counts[group_Counts['Assignment group']<=75].unique_values)"
   ]
  },
  {
   "cell_type": "code",
   "execution_count": 107,
   "metadata": {},
   "outputs": [],
   "source": [
    "group_Counts=pd.DataFrame(df['Assignment group'].value_counts(normalize=True),)\n",
    "group_Counts=group_Counts.rename_axis('unique_values').reset_index()\n",
    "group_Counts=group_Counts.rename(columns = {'unique_values':'Asignment_group','Assignment group':'Perecentage'}, inplace=False)"
   ]
  },
  {
   "cell_type": "code",
   "execution_count": 108,
   "metadata": {},
   "outputs": [],
   "source": [
    "df_text=df_text.replace(list_1,'Others')"
   ]
  },
  {
   "cell_type": "code",
   "execution_count": 109,
   "metadata": {},
   "outputs": [
    {
     "data": {
      "text/plain": [
       "17"
      ]
     },
     "execution_count": 109,
     "metadata": {},
     "output_type": "execute_result"
    }
   ],
   "source": [
    "len(df_text['Assignment group'].value_counts().unique())"
   ]
  },
  {
   "cell_type": "markdown",
   "metadata": {},
   "source": [
    "# regex pattern "
   ]
  },
  {
   "cell_type": "code",
   "execution_count": 110,
   "metadata": {},
   "outputs": [],
   "source": [
    "email_pattern = r'\\S*@\\S*\\s?'\n",
    "url_pattern = r'http\\S+'\n",
    "IPaddress_pattern = r'[0-9]+(?:\\.[0-9]+){3}'\n",
    "tab_nl_pattern = r'\\s+'\n",
    "alpha_pattern = r'[a-zA-Z0-9]*_[a-zA-Z0-9]*'\n",
    "filepath_pattern = r'/[a-zA-Z0-9/]*'\n",
    "domain_pattern = r'[a-zA-Z0-9]*.[a-zA-Z0-9.]*'\n",
    "wordsnum_pattern = r'\\w*\\d\\w*'"
   ]
  },
  {
   "cell_type": "code",
   "execution_count": null,
   "metadata": {},
   "outputs": [],
   "source": []
  },
  {
   "cell_type": "code",
   "execution_count": 111,
   "metadata": {},
   "outputs": [],
   "source": [
    "df_bk = df_text"
   ]
  },
  {
   "cell_type": "code",
   "execution_count": 112,
   "metadata": {},
   "outputs": [
    {
     "data": {
      "text/plain": [
       "(7354, 8)"
      ]
     },
     "execution_count": 112,
     "metadata": {},
     "output_type": "execute_result"
    }
   ],
   "source": [
    "df_text.shape"
   ]
  },
  {
   "cell_type": "code",
   "execution_count": null,
   "metadata": {},
   "outputs": [],
   "source": []
  },
  {
   "cell_type": "code",
   "execution_count": 113,
   "metadata": {},
   "outputs": [
    {
     "data": {
      "text/html": [
       "<div>\n",
       "<style scoped>\n",
       "    .dataframe tbody tr th:only-of-type {\n",
       "        vertical-align: middle;\n",
       "    }\n",
       "\n",
       "    .dataframe tbody tr th {\n",
       "        vertical-align: top;\n",
       "    }\n",
       "\n",
       "    .dataframe thead th {\n",
       "        text-align: right;\n",
       "    }\n",
       "</style>\n",
       "<table border=\"1\" class=\"dataframe\">\n",
       "  <thead>\n",
       "    <tr style=\"text-align: right;\">\n",
       "      <th></th>\n",
       "      <th>Short description</th>\n",
       "      <th>Caller</th>\n",
       "      <th>Assignment group</th>\n",
       "      <th>RawDescription</th>\n",
       "      <th>English_Description</th>\n",
       "      <th>RawWordCount</th>\n",
       "      <th>cleaned_description</th>\n",
       "      <th>number_of_words</th>\n",
       "    </tr>\n",
       "  </thead>\n",
       "  <tbody>\n",
       "    <tr>\n",
       "      <th>0</th>\n",
       "      <td>login issue</td>\n",
       "      <td>spxjnwir pjlcoqds</td>\n",
       "      <td>GRP_0</td>\n",
       "      <td>-verified user details.(employee# &amp; manager na...</td>\n",
       "      <td>verified user detailsemployee  manager name_x0...</td>\n",
       "      <td>29</td>\n",
       "      <td>verified user detailsemployee manager name d c...</td>\n",
       "      <td>23</td>\n",
       "    </tr>\n",
       "    <tr>\n",
       "      <th>1</th>\n",
       "      <td>outlook</td>\n",
       "      <td>hmjdrvpb komuaywn</td>\n",
       "      <td>GRP_0</td>\n",
       "      <td>_x000D_\\n_x000D_\\nreceived from: hmjdrvpb.komu...</td>\n",
       "      <td>_x000D__x000D_received from hmjdrvpbkomuaywngm...</td>\n",
       "      <td>23</td>\n",
       "      <td>d d  hmjdrvpbkomuaywngmailcom d d team d d me...</td>\n",
       "      <td>19</td>\n",
       "    </tr>\n",
       "    <tr>\n",
       "      <th>2</th>\n",
       "      <td>cant log in to vpn</td>\n",
       "      <td>eylqgodm ybqkwiam</td>\n",
       "      <td>GRP_0</td>\n",
       "      <td>_x000D_\\n_x000D_\\nreceived from: eylqgodm.ybqk...</td>\n",
       "      <td>_x000D__x000D_received from eylqgodmybqkwiamgm...</td>\n",
       "      <td>9</td>\n",
       "      <td>d d  eylqgodmybqkwiamgmailcom d d d d log vpn...</td>\n",
       "      <td>11</td>\n",
       "    </tr>\n",
       "    <tr>\n",
       "      <th>3</th>\n",
       "      <td>unable to access hr_tool page</td>\n",
       "      <td>xbkucsvz gcpydteq</td>\n",
       "      <td>GRP_0</td>\n",
       "      <td>unable to access hr_tool page</td>\n",
       "      <td>unable to access hr_tool page</td>\n",
       "      <td>5</td>\n",
       "      <td>unable access tool page</td>\n",
       "      <td>4</td>\n",
       "    </tr>\n",
       "    <tr>\n",
       "      <th>4</th>\n",
       "      <td>skype error</td>\n",
       "      <td>owlgqjme qhcozdfx</td>\n",
       "      <td>GRP_0</td>\n",
       "      <td>skype error</td>\n",
       "      <td>skype error</td>\n",
       "      <td>3</td>\n",
       "      <td>skype error</td>\n",
       "      <td>2</td>\n",
       "    </tr>\n",
       "    <tr>\n",
       "      <th>...</th>\n",
       "      <td>...</td>\n",
       "      <td>...</td>\n",
       "      <td>...</td>\n",
       "      <td>...</td>\n",
       "      <td>...</td>\n",
       "      <td>...</td>\n",
       "      <td>...</td>\n",
       "      <td>...</td>\n",
       "    </tr>\n",
       "    <tr>\n",
       "      <th>8495</th>\n",
       "      <td>emails not coming in from zz mail</td>\n",
       "      <td>avglmrts vhqmtiua</td>\n",
       "      <td>GRP_29</td>\n",
       "      <td>_x000D_\\n_x000D_\\nreceived from: avglmrts.vhqm...</td>\n",
       "      <td>_x000D__x000D_received from avglmrtsvhqmtiuagm...</td>\n",
       "      <td>16</td>\n",
       "      <td>d d  avglmrtsvhqmtiuagmailcom d d good aftern...</td>\n",
       "      <td>16</td>\n",
       "    </tr>\n",
       "    <tr>\n",
       "      <th>8496</th>\n",
       "      <td>telephony_software issue</td>\n",
       "      <td>rbozivdq gmlhrtvp</td>\n",
       "      <td>GRP_0</td>\n",
       "      <td>telephony_software issue</td>\n",
       "      <td>telephony_software issue</td>\n",
       "      <td>2</td>\n",
       "      <td>telephony software issue</td>\n",
       "      <td>3</td>\n",
       "    </tr>\n",
       "    <tr>\n",
       "      <th>8497</th>\n",
       "      <td>vip2: windows password reset for tifpdchb pedx...</td>\n",
       "      <td>oybwdsgx oxyhwrfz</td>\n",
       "      <td>GRP_0</td>\n",
       "      <td>vip2: windows password reset for tifpdchb pedx...</td>\n",
       "      <td>vip2 windows password reset for tifpdchb pedxruyf</td>\n",
       "      <td>7</td>\n",
       "      <td>vip windows password reset tifpdchb pedxruyf</td>\n",
       "      <td>6</td>\n",
       "    </tr>\n",
       "    <tr>\n",
       "      <th>8498</th>\n",
       "      <td>machine nÃ£o estÃ¡ funcionando</td>\n",
       "      <td>ufawcgob aowhxjky</td>\n",
       "      <td>Others</td>\n",
       "      <td>i am unable to access the machine utilities to...</td>\n",
       "      <td>i am unable to access the machine utilities to...</td>\n",
       "      <td>16</td>\n",
       "      <td>unable access macne utilities finish drawers a...</td>\n",
       "      <td>10</td>\n",
       "    </tr>\n",
       "    <tr>\n",
       "      <th>8499</th>\n",
       "      <td>an mehreren pc`s lassen sich verschiedene prgr...</td>\n",
       "      <td>kqvbrspl jyzoklfx</td>\n",
       "      <td>Others</td>\n",
       "      <td>an mehreren pc`s lassen sich verschiedene prgr...</td>\n",
       "      <td>an mehreren pcs lassen sich verschiedene prgra...</td>\n",
       "      <td>11</td>\n",
       "      <td>mehreren pcs lassen sich verscedene prgramdnty...</td>\n",
       "      <td>10</td>\n",
       "    </tr>\n",
       "  </tbody>\n",
       "</table>\n",
       "<p>7354 rows × 8 columns</p>\n",
       "</div>"
      ],
      "text/plain": [
       "                                      Short description             Caller  \\\n",
       "0                                           login issue  spxjnwir pjlcoqds   \n",
       "1                                               outlook  hmjdrvpb komuaywn   \n",
       "2                                    cant log in to vpn  eylqgodm ybqkwiam   \n",
       "3                         unable to access hr_tool page  xbkucsvz gcpydteq   \n",
       "4                                          skype error   owlgqjme qhcozdfx   \n",
       "...                                                 ...                ...   \n",
       "8495                  emails not coming in from zz mail  avglmrts vhqmtiua   \n",
       "8496                           telephony_software issue  rbozivdq gmlhrtvp   \n",
       "8497  vip2: windows password reset for tifpdchb pedx...  oybwdsgx oxyhwrfz   \n",
       "8498                     machine nÃ£o estÃ¡ funcionando  ufawcgob aowhxjky   \n",
       "8499  an mehreren pc`s lassen sich verschiedene prgr...  kqvbrspl jyzoklfx   \n",
       "\n",
       "     Assignment group                                     RawDescription  \\\n",
       "0               GRP_0  -verified user details.(employee# & manager na...   \n",
       "1               GRP_0  _x000D_\\n_x000D_\\nreceived from: hmjdrvpb.komu...   \n",
       "2               GRP_0  _x000D_\\n_x000D_\\nreceived from: eylqgodm.ybqk...   \n",
       "3               GRP_0                      unable to access hr_tool page   \n",
       "4               GRP_0                                       skype error    \n",
       "...               ...                                                ...   \n",
       "8495           GRP_29  _x000D_\\n_x000D_\\nreceived from: avglmrts.vhqm...   \n",
       "8496            GRP_0                           telephony_software issue   \n",
       "8497            GRP_0  vip2: windows password reset for tifpdchb pedx...   \n",
       "8498           Others  i am unable to access the machine utilities to...   \n",
       "8499           Others  an mehreren pc`s lassen sich verschiedene prgr...   \n",
       "\n",
       "                                    English_Description  RawWordCount  \\\n",
       "0     verified user detailsemployee  manager name_x0...            29   \n",
       "1     _x000D__x000D_received from hmjdrvpbkomuaywngm...            23   \n",
       "2     _x000D__x000D_received from eylqgodmybqkwiamgm...             9   \n",
       "3                         unable to access hr_tool page             5   \n",
       "4                                          skype error              3   \n",
       "...                                                 ...           ...   \n",
       "8495  _x000D__x000D_received from avglmrtsvhqmtiuagm...            16   \n",
       "8496                           telephony_software issue             2   \n",
       "8497  vip2 windows password reset for tifpdchb pedxruyf             7   \n",
       "8498  i am unable to access the machine utilities to...            16   \n",
       "8499  an mehreren pcs lassen sich verschiedene prgra...            11   \n",
       "\n",
       "                                    cleaned_description  number_of_words  \n",
       "0     verified user detailsemployee manager name d c...               23  \n",
       "1      d d  hmjdrvpbkomuaywngmailcom d d team d d me...               19  \n",
       "2      d d  eylqgodmybqkwiamgmailcom d d d d log vpn...               11  \n",
       "3                               unable access tool page                4  \n",
       "4                                           skype error                2  \n",
       "...                                                 ...              ...  \n",
       "8495   d d  avglmrtsvhqmtiuagmailcom d d good aftern...               16  \n",
       "8496                           telephony software issue                3  \n",
       "8497       vip windows password reset tifpdchb pedxruyf                6  \n",
       "8498  unable access macne utilities finish drawers a...               10  \n",
       "8499  mehreren pcs lassen sich verscedene prgramdnty...               10  \n",
       "\n",
       "[7354 rows x 8 columns]"
      ]
     },
     "execution_count": 113,
     "metadata": {},
     "output_type": "execute_result"
    }
   ],
   "source": [
    "df_text"
   ]
  },
  {
   "cell_type": "code",
   "execution_count": 114,
   "metadata": {},
   "outputs": [],
   "source": [
    "df_bk = df_bk.replace(to_replace = email_pattern, value='', regex=True)"
   ]
  },
  {
   "cell_type": "code",
   "execution_count": 115,
   "metadata": {},
   "outputs": [],
   "source": [
    "df_bk = df_bk.replace(to_replace = '::', value='', regex=True)"
   ]
  },
  {
   "cell_type": "code",
   "execution_count": 116,
   "metadata": {},
   "outputs": [],
   "source": [
    "df_bk = df_bk.replace(to_replace = \"'\", value=\"\")"
   ]
  },
  {
   "cell_type": "code",
   "execution_count": 117,
   "metadata": {},
   "outputs": [],
   "source": [
    "df_bk = df_bk.replace(to_replace = url_pattern, value='', regex=True)"
   ]
  },
  {
   "cell_type": "code",
   "execution_count": 118,
   "metadata": {},
   "outputs": [],
   "source": [
    "df_bk = df_bk.replace(to_replace = tab_nl_pattern, value=' ', regex=True)"
   ]
  },
  {
   "cell_type": "code",
   "execution_count": 119,
   "metadata": {},
   "outputs": [],
   "source": [
    "df_bk = df_bk.replace(to_replace = IPaddress_pattern, value='', regex=True)"
   ]
  },
  {
   "cell_type": "code",
   "execution_count": 120,
   "metadata": {},
   "outputs": [],
   "source": [
    "df_bk['cleaned_description'].replace(to_replace = alpha_pattern, value='', regex=True, inplace=True)\n",
    "#df_bk['Short description'].replace(to_replace = alpha_pattern, value='', regex=True, inplace=True)\n"
   ]
  },
  {
   "cell_type": "code",
   "execution_count": 121,
   "metadata": {},
   "outputs": [],
   "source": [
    "df_bk = df_bk.replace(to_replace = filepath_pattern, value=' ', regex=True)"
   ]
  },
  {
   "cell_type": "code",
   "execution_count": 122,
   "metadata": {},
   "outputs": [],
   "source": [
    "df_bk = df_bk.replace(to_replace = 'received from:', value='', regex=True)"
   ]
  },
  {
   "cell_type": "code",
   "execution_count": 123,
   "metadata": {},
   "outputs": [],
   "source": [
    "df_bk['cleaned_description'].replace(to_replace = wordsnum_pattern, value=' ', regex=True, inplace=True)\n",
    "#df_bk['Short description'].replace(to_replace = wordsnum_pattern, value='alpha', regex=True, inplace=True)"
   ]
  },
  {
   "cell_type": "code",
   "execution_count": 124,
   "metadata": {},
   "outputs": [],
   "source": [
    "#df_t = df_bk[(df_bk['cleaned_description'].str.contains('job_scheduler') == False)]\n",
    "#df_t = df_bk[(df_bk['cleaned_description'].str.contains('received from: monitoring_tool@company.com') == False)]"
   ]
  },
  {
   "cell_type": "code",
   "execution_count": 125,
   "metadata": {},
   "outputs": [
    {
     "name": "stdout",
     "output_type": "stream",
     "text": [
      "<class 'pandas.core.frame.DataFrame'>\n",
      "Int64Index: 7450 entries, 0 to 8499\n",
      "Data columns (total 8 columns):\n",
      " #   Column               Non-Null Count  Dtype \n",
      "---  ------               --------------  ----- \n",
      " 0   Short description    7442 non-null   object\n",
      " 1   Description          7450 non-null   object\n",
      " 2   Caller               7450 non-null   object\n",
      " 3   Assignment group     7450 non-null   object\n",
      " 4   language             7450 non-null   object\n",
      " 5   RawDescription       7450 non-null   object\n",
      " 6   English_Description  7450 non-null   object\n",
      " 7   RawWordCount         7450 non-null   int64 \n",
      "dtypes: int64(1), object(7)\n",
      "memory usage: 523.8+ KB\n"
     ]
    }
   ],
   "source": [
    "df.info()"
   ]
  },
  {
   "cell_type": "code",
   "execution_count": 126,
   "metadata": {},
   "outputs": [
    {
     "name": "stdout",
     "output_type": "stream",
     "text": [
      "<class 'pandas.core.frame.DataFrame'>\n",
      "Int64Index: 7354 entries, 0 to 8499\n",
      "Data columns (total 8 columns):\n",
      " #   Column               Non-Null Count  Dtype \n",
      "---  ------               --------------  ----- \n",
      " 0   Short description    7346 non-null   object\n",
      " 1   Caller               7354 non-null   object\n",
      " 2   Assignment group     7354 non-null   object\n",
      " 3   RawDescription       7354 non-null   object\n",
      " 4   English_Description  7354 non-null   object\n",
      " 5   RawWordCount         7354 non-null   int64 \n",
      " 6   cleaned_description  7354 non-null   object\n",
      " 7   number_of_words      7354 non-null   int64 \n",
      "dtypes: int64(2), object(6)\n",
      "memory usage: 517.1+ KB\n"
     ]
    }
   ],
   "source": [
    "df_bk.info()"
   ]
  },
  {
   "cell_type": "code",
   "execution_count": 127,
   "metadata": {},
   "outputs": [
    {
     "data": {
      "text/html": [
       "<div>\n",
       "<style scoped>\n",
       "    .dataframe tbody tr th:only-of-type {\n",
       "        vertical-align: middle;\n",
       "    }\n",
       "\n",
       "    .dataframe tbody tr th {\n",
       "        vertical-align: top;\n",
       "    }\n",
       "\n",
       "    .dataframe thead th {\n",
       "        text-align: right;\n",
       "    }\n",
       "</style>\n",
       "<table border=\"1\" class=\"dataframe\">\n",
       "  <thead>\n",
       "    <tr style=\"text-align: right;\">\n",
       "      <th></th>\n",
       "      <th></th>\n",
       "      <th>Caller</th>\n",
       "    </tr>\n",
       "    <tr>\n",
       "      <th>Assignment group</th>\n",
       "      <th>Caller</th>\n",
       "      <th></th>\n",
       "    </tr>\n",
       "  </thead>\n",
       "  <tbody>\n",
       "    <tr>\n",
       "      <th rowspan=\"5\" valign=\"top\">GRP_0</th>\n",
       "      <th>fumkcsji sarmtlhy</th>\n",
       "      <td>132</td>\n",
       "    </tr>\n",
       "    <tr>\n",
       "      <th>rbozivdq gmlhrtvp</th>\n",
       "      <td>86</td>\n",
       "    </tr>\n",
       "    <tr>\n",
       "      <th>olckhmvx pcqobjnd</th>\n",
       "      <td>54</td>\n",
       "    </tr>\n",
       "    <tr>\n",
       "      <th>efbwiadp dicafxhv</th>\n",
       "      <td>45</td>\n",
       "    </tr>\n",
       "    <tr>\n",
       "      <th>mfeyouli ndobtzpw</th>\n",
       "      <td>13</td>\n",
       "    </tr>\n",
       "    <tr>\n",
       "      <th rowspan=\"5\" valign=\"top\">GRP_1</th>\n",
       "      <th>jloygrwh acvztedi</th>\n",
       "      <td>4</td>\n",
       "    </tr>\n",
       "    <tr>\n",
       "      <th>spxqmiry zpwgoqju</th>\n",
       "      <td>3</td>\n",
       "    </tr>\n",
       "    <tr>\n",
       "      <th>jyoqwxhz clhxsoqy</th>\n",
       "      <td>2</td>\n",
       "    </tr>\n",
       "    <tr>\n",
       "      <th>kbnfxpsy gehxzayq</th>\n",
       "      <td>2</td>\n",
       "    </tr>\n",
       "    <tr>\n",
       "      <th>rkupnshb gsmzfojw</th>\n",
       "      <td>2</td>\n",
       "    </tr>\n",
       "    <tr>\n",
       "      <th rowspan=\"5\" valign=\"top\">GRP_10</th>\n",
       "      <th>ihfkwzjd erbxoyqk</th>\n",
       "      <td>6</td>\n",
       "    </tr>\n",
       "    <tr>\n",
       "      <th>dizquolf hlykecxa</th>\n",
       "      <td>5</td>\n",
       "    </tr>\n",
       "    <tr>\n",
       "      <th>gnasmtvx cwxtsvkm</th>\n",
       "      <td>3</td>\n",
       "    </tr>\n",
       "    <tr>\n",
       "      <th>hlrmufzx qcdzierm</th>\n",
       "      <td>3</td>\n",
       "    </tr>\n",
       "    <tr>\n",
       "      <th>ikerxqwz prkyuitl</th>\n",
       "      <td>3</td>\n",
       "    </tr>\n",
       "  </tbody>\n",
       "</table>\n",
       "</div>"
      ],
      "text/plain": [
       "                                    Caller\n",
       "Assignment group Caller                   \n",
       "GRP_0            fumkcsji sarmtlhy     132\n",
       "                 rbozivdq gmlhrtvp      86\n",
       "                 olckhmvx pcqobjnd      54\n",
       "                 efbwiadp dicafxhv      45\n",
       "                 mfeyouli ndobtzpw      13\n",
       "GRP_1            jloygrwh acvztedi       4\n",
       "                 spxqmiry zpwgoqju       3\n",
       "                 jyoqwxhz clhxsoqy       2\n",
       "                 kbnfxpsy gehxzayq       2\n",
       "                 rkupnshb gsmzfojw       2\n",
       "GRP_10           ihfkwzjd erbxoyqk       6\n",
       "                 dizquolf hlykecxa       5\n",
       "                 gnasmtvx cwxtsvkm       3\n",
       "                 hlrmufzx qcdzierm       3\n",
       "                 ikerxqwz prkyuitl       3"
      ]
     },
     "execution_count": 127,
     "metadata": {},
     "output_type": "execute_result"
    }
   ],
   "source": [
    "top_n = 5\n",
    "s = df['Caller'].groupby(df['Assignment group']).value_counts()\n",
    "caller_grp = pd.DataFrame(s.groupby(level=0).nlargest(top_n).reset_index(level=0, drop=True))\n",
    "caller_grp.head(15)"
   ]
  },
  {
   "cell_type": "code",
   "execution_count": 128,
   "metadata": {},
   "outputs": [],
   "source": [
    "#df_bk.to_csv('translated_ticketfins.csv', index=False, encoding='utf_8_sig')"
   ]
  },
  {
   "cell_type": "markdown",
   "metadata": {},
   "source": [
    "cleaned description senteces to words"
   ]
  },
  {
   "cell_type": "code",
   "execution_count": 129,
   "metadata": {},
   "outputs": [],
   "source": [
    "combined_text=df_bk.cleaned_description.values.tolist()"
   ]
  },
  {
   "cell_type": "code",
   "execution_count": 130,
   "metadata": {},
   "outputs": [
    {
     "data": {
      "text/plain": [
       "' d d hmjdrvpbkomuaywngmailcom d d team d d meetingsskype meetings etc appearing outlook calendar somebody advise correct d d '"
      ]
     },
     "execution_count": 130,
     "metadata": {},
     "output_type": "execute_result"
    }
   ],
   "source": [
    "combined_text[1]"
   ]
  },
  {
   "cell_type": "code",
   "execution_count": 131,
   "metadata": {},
   "outputs": [],
   "source": [
    "#pip install gensim"
   ]
  },
  {
   "cell_type": "code",
   "execution_count": null,
   "metadata": {},
   "outputs": [],
   "source": []
  },
  {
   "cell_type": "code",
   "execution_count": 132,
   "metadata": {},
   "outputs": [],
   "source": [
    "def sent_to_words(sentences):\n",
    "    for sentence in sentences:\n",
    "        yield(gensim.utils.simple_preprocess(str(sentence), deacc=True))  # deacc=True removes punctuations\n",
    "\n",
    "data_words = list(sent_to_words(combined_text))"
   ]
  },
  {
   "cell_type": "code",
   "execution_count": 133,
   "metadata": {},
   "outputs": [],
   "source": [
    "dat = pd.DataFrame({'col':data_words})"
   ]
  },
  {
   "cell_type": "code",
   "execution_count": 134,
   "metadata": {},
   "outputs": [
    {
     "data": {
      "text/html": [
       "<div>\n",
       "<style scoped>\n",
       "    .dataframe tbody tr th:only-of-type {\n",
       "        vertical-align: middle;\n",
       "    }\n",
       "\n",
       "    .dataframe tbody tr th {\n",
       "        vertical-align: top;\n",
       "    }\n",
       "\n",
       "    .dataframe thead th {\n",
       "        text-align: right;\n",
       "    }\n",
       "</style>\n",
       "<table border=\"1\" class=\"dataframe\">\n",
       "  <thead>\n",
       "    <tr style=\"text-align: right;\">\n",
       "      <th></th>\n",
       "      <th>col</th>\n",
       "    </tr>\n",
       "  </thead>\n",
       "  <tbody>\n",
       "    <tr>\n",
       "      <th>6813</th>\n",
       "      <td>[unable, login, skype]</td>\n",
       "    </tr>\n",
       "    <tr>\n",
       "      <th>1972</th>\n",
       "      <td>[windows, password, reset]</td>\n",
       "    </tr>\n",
       "    <tr>\n",
       "      <th>3736</th>\n",
       "      <td>[type, outage, network, circuit, power, specif...</td>\n",
       "    </tr>\n",
       "    <tr>\n",
       "      <th>5836</th>\n",
       "      <td>[netweaver, password, working]</td>\n",
       "    </tr>\n",
       "    <tr>\n",
       "      <th>3926</th>\n",
       "      <td>[unable, print, printer]</td>\n",
       "    </tr>\n",
       "  </tbody>\n",
       "</table>\n",
       "</div>"
      ],
      "text/plain": [
       "                                                    col\n",
       "6813                             [unable, login, skype]\n",
       "1972                         [windows, password, reset]\n",
       "3736  [type, outage, network, circuit, power, specif...\n",
       "5836                     [netweaver, password, working]\n",
       "3926                           [unable, print, printer]"
      ]
     },
     "execution_count": 134,
     "metadata": {},
     "output_type": "execute_result"
    }
   ],
   "source": [
    "dat.sample(5)"
   ]
  },
  {
   "cell_type": "markdown",
   "metadata": {},
   "source": [
    "Bigram Trigam data working"
   ]
  },
  {
   "cell_type": "code",
   "execution_count": 135,
   "metadata": {},
   "outputs": [],
   "source": [
    "bigram = gensim.models.Phrases(data_words, min_count=5, threshold=100) # higher threshold fewer phrases.\n",
    "trigram = gensim.models.Phrases(bigram[data_words], threshold=100)  \n",
    "\n",
    "# Faster way to get a sentence clubbed as a trigram/bigram\n",
    "bigram_mod = gensim.models.phrases.Phraser(bigram)\n",
    "trigram_mod = gensim.models.phrases.Phraser(trigram)"
   ]
  },
  {
   "cell_type": "code",
   "execution_count": 136,
   "metadata": {},
   "outputs": [
    {
     "name": "stdout",
     "output_type": "stream",
     "text": [
      "['team', 'meetingsskype', 'meetings', 'etc', 'appearing', 'outlook', 'calendar', 'somebody', 'advise', 'correct']\n"
     ]
    }
   ],
   "source": [
    "print(bigram_mod[data_words[1]])"
   ]
  },
  {
   "cell_type": "code",
   "execution_count": 137,
   "metadata": {},
   "outputs": [
    {
     "name": "stdout",
     "output_type": "stream",
     "text": [
      "['team', 'meetingsskype', 'meetings', 'etc', 'appearing', 'outlook', 'calendar', 'somebody', 'advise', 'correct']\n"
     ]
    }
   ],
   "source": [
    "print(trigram_mod[bigram_mod[data_words[1]]])"
   ]
  },
  {
   "cell_type": "code",
   "execution_count": 138,
   "metadata": {},
   "outputs": [],
   "source": [
    "def make_bigrams(texts):\n",
    "    return [bigram_mod[doc] for doc in texts]\n",
    "\n",
    "def make_trigrams(texts):\n",
    "    return [trigram_mod[bigram_mod[doc]] for doc in texts]"
   ]
  },
  {
   "cell_type": "code",
   "execution_count": 139,
   "metadata": {},
   "outputs": [],
   "source": [
    "# Form Bigrams\n",
    "data_words_bigrams = make_bigrams(data_words)"
   ]
  },
  {
   "cell_type": "code",
   "execution_count": 140,
   "metadata": {},
   "outputs": [
    {
     "name": "stdout",
     "output_type": "stream",
     "text": [
      "['team', 'meetingsskype', 'meetings', 'etc', 'appearing', 'outlook', 'calendar', 'somebody', 'advise', 'correct']\n"
     ]
    }
   ],
   "source": [
    "print(data_words_bigrams[1])"
   ]
  },
  {
   "cell_type": "code",
   "execution_count": 141,
   "metadata": {},
   "outputs": [],
   "source": [
    "from wordcloud import WordCloud\n",
    "import matplotlib.pyplot as plt"
   ]
  },
  {
   "cell_type": "code",
   "execution_count": 142,
   "metadata": {},
   "outputs": [],
   "source": [
    "wordclouds=' '.join(map(str, data_words_bigrams)) "
   ]
  },
  {
   "cell_type": "markdown",
   "metadata": {},
   "source": [
    "#Word cloud"
   ]
  },
  {
   "cell_type": "code",
   "execution_count": 143,
   "metadata": {},
   "outputs": [
    {
     "data": {
      "image/png": "[encoded data removed]",
      "text/plain": [
       "<Figure size 720x720 with 1 Axes>"
      ]
     },
     "metadata": {},
     "output_type": "display_data"
    }
   ],
   "source": [
    "#check for the word count 100)\n",
    "wordcloud_2 = WordCloud(width=480, height=480, max_words=100).generate(wordclouds)\n",
    "plt.figure(figsize=(10,10))\n",
    "plt.imshow(wordcloud_2, interpolation=\"bilinear\")\n",
    "plt.axis(\"off\")\n",
    "plt.margins(x=0, y=0)\n",
    "plt.show()"
   ]
  },
  {
   "cell_type": "code",
   "execution_count": 144,
   "metadata": {},
   "outputs": [
    {
     "data": {
      "text/html": [
       "<div>\n",
       "<style scoped>\n",
       "    .dataframe tbody tr th:only-of-type {\n",
       "        vertical-align: middle;\n",
       "    }\n",
       "\n",
       "    .dataframe tbody tr th {\n",
       "        vertical-align: top;\n",
       "    }\n",
       "\n",
       "    .dataframe thead th {\n",
       "        text-align: right;\n",
       "    }\n",
       "</style>\n",
       "<table border=\"1\" class=\"dataframe\">\n",
       "  <thead>\n",
       "    <tr style=\"text-align: right;\">\n",
       "      <th></th>\n",
       "      <th>Short description</th>\n",
       "      <th>Caller</th>\n",
       "      <th>Assignment group</th>\n",
       "      <th>RawDescription</th>\n",
       "      <th>English_Description</th>\n",
       "      <th>RawWordCount</th>\n",
       "      <th>cleaned_description</th>\n",
       "      <th>number_of_words</th>\n",
       "      <th>words</th>\n",
       "    </tr>\n",
       "  </thead>\n",
       "  <tbody>\n",
       "    <tr>\n",
       "      <th>0</th>\n",
       "      <td>login issue</td>\n",
       "      <td>spxjnwir pjlcoqds</td>\n",
       "      <td>GRP_0</td>\n",
       "      <td>-verified user details.(employee# &amp; manager na...</td>\n",
       "      <td>verified user detailsemployee manager name_x00...</td>\n",
       "      <td>29</td>\n",
       "      <td>verified user detailsemployee manager name d c...</td>\n",
       "      <td>23</td>\n",
       "      <td>[verified, user, detailsemployee_manager, name...</td>\n",
       "    </tr>\n",
       "    <tr>\n",
       "      <th>1</th>\n",
       "      <td>outlook</td>\n",
       "      <td>hmjdrvpb komuaywn</td>\n",
       "      <td>GRP_0</td>\n",
       "      <td>_x000D_ _x000D_  _x000D_ hello team,_x000D_ _x...</td>\n",
       "      <td>_x000D__x000D_received from hmjdrvpbkomuaywngm...</td>\n",
       "      <td>23</td>\n",
       "      <td>d d hmjdrvpbkomuaywngmailcom d d team d d mee...</td>\n",
       "      <td>19</td>\n",
       "      <td>[team, meetingsskype, meetings, etc, appearing...</td>\n",
       "    </tr>\n",
       "    <tr>\n",
       "      <th>2</th>\n",
       "      <td>cant log in to vpn</td>\n",
       "      <td>eylqgodm ybqkwiam</td>\n",
       "      <td>GRP_0</td>\n",
       "      <td>_x000D_ _x000D_  _x000D_ hi_x000D_ _x000D_ i c...</td>\n",
       "      <td>_x000D__x000D_received from eylqgodmybqkwiamgm...</td>\n",
       "      <td>9</td>\n",
       "      <td>d d eylqgodmybqkwiamgmailcom d d d d log vpn ...</td>\n",
       "      <td>11</td>\n",
       "      <td>[log, vpn]</td>\n",
       "    </tr>\n",
       "    <tr>\n",
       "      <th>3</th>\n",
       "      <td>unable to access hr_tool page</td>\n",
       "      <td>xbkucsvz gcpydteq</td>\n",
       "      <td>GRP_0</td>\n",
       "      <td>unable to access hr_tool page</td>\n",
       "      <td>unable to access hr_tool page</td>\n",
       "      <td>5</td>\n",
       "      <td>unable access tool page</td>\n",
       "      <td>4</td>\n",
       "      <td>[unable, access, tool, page]</td>\n",
       "    </tr>\n",
       "    <tr>\n",
       "      <th>4</th>\n",
       "      <td>skype error</td>\n",
       "      <td>owlgqjme qhcozdfx</td>\n",
       "      <td>GRP_0</td>\n",
       "      <td>skype error</td>\n",
       "      <td>skype error</td>\n",
       "      <td>3</td>\n",
       "      <td>skype error</td>\n",
       "      <td>2</td>\n",
       "      <td>[skype, error]</td>\n",
       "    </tr>\n",
       "    <tr>\n",
       "      <th>...</th>\n",
       "      <td>...</td>\n",
       "      <td>...</td>\n",
       "      <td>...</td>\n",
       "      <td>...</td>\n",
       "      <td>...</td>\n",
       "      <td>...</td>\n",
       "      <td>...</td>\n",
       "      <td>...</td>\n",
       "      <td>...</td>\n",
       "    </tr>\n",
       "    <tr>\n",
       "      <th>8495</th>\n",
       "      <td>emails not coming in from zz mail</td>\n",
       "      <td>avglmrts vhqmtiua</td>\n",
       "      <td>GRP_29</td>\n",
       "      <td>_x000D_ _x000D_  _x000D_ good afternoon,_x000D...</td>\n",
       "      <td>_x000D__x000D_received from avglmrtsvhqmtiuagm...</td>\n",
       "      <td>16</td>\n",
       "      <td>d d avglmrtsvhqmtiuagmailcom d d good afterno...</td>\n",
       "      <td>16</td>\n",
       "      <td>[good_afternoon, receiving, emails, sent, mail...</td>\n",
       "    </tr>\n",
       "    <tr>\n",
       "      <th>8496</th>\n",
       "      <td>telephony_software issue</td>\n",
       "      <td>rbozivdq gmlhrtvp</td>\n",
       "      <td>GRP_0</td>\n",
       "      <td>telephony_software issue</td>\n",
       "      <td>telephony_software issue</td>\n",
       "      <td>2</td>\n",
       "      <td>telephony software issue</td>\n",
       "      <td>3</td>\n",
       "      <td>[telephony_software, issue]</td>\n",
       "    </tr>\n",
       "    <tr>\n",
       "      <th>8497</th>\n",
       "      <td>vip2: windows password reset for tifpdchb pedx...</td>\n",
       "      <td>oybwdsgx oxyhwrfz</td>\n",
       "      <td>GRP_0</td>\n",
       "      <td>vip2: windows password reset for tifpdchb pedx...</td>\n",
       "      <td>vip2 windows password reset for tifpdchb pedxruyf</td>\n",
       "      <td>7</td>\n",
       "      <td>vip windows password reset tifpdchb pedxruyf</td>\n",
       "      <td>6</td>\n",
       "      <td>[vip, windows, password, reset, tifpdchb, pedx...</td>\n",
       "    </tr>\n",
       "    <tr>\n",
       "      <th>8498</th>\n",
       "      <td>machine nÃ£o estÃ¡ funcionando</td>\n",
       "      <td>ufawcgob aowhxjky</td>\n",
       "      <td>Others</td>\n",
       "      <td>i am unable to access the machine utilities to...</td>\n",
       "      <td>i am unable to access the machine utilities to...</td>\n",
       "      <td>16</td>\n",
       "      <td>unable access macne utilities finish drawers a...</td>\n",
       "      <td>10</td>\n",
       "      <td>[unable, access, macne, utilities, finish, dra...</td>\n",
       "    </tr>\n",
       "    <tr>\n",
       "      <th>8499</th>\n",
       "      <td>an mehreren pc`s lassen sich verschiedene prgr...</td>\n",
       "      <td>kqvbrspl jyzoklfx</td>\n",
       "      <td>Others</td>\n",
       "      <td>an mehreren pc`s lassen sich verschiedene prgr...</td>\n",
       "      <td>an mehreren pcs lassen sich verschiedene prgra...</td>\n",
       "      <td>11</td>\n",
       "      <td>mehreren pcs lassen sich verscedene prgramdnty...</td>\n",
       "      <td>10</td>\n",
       "      <td>[mehreren, pcs, lassen_sich, verscedene, prgra...</td>\n",
       "    </tr>\n",
       "  </tbody>\n",
       "</table>\n",
       "<p>7354 rows × 9 columns</p>\n",
       "</div>"
      ],
      "text/plain": [
       "                                      Short description             Caller  \\\n",
       "0                                           login issue  spxjnwir pjlcoqds   \n",
       "1                                               outlook  hmjdrvpb komuaywn   \n",
       "2                                    cant log in to vpn  eylqgodm ybqkwiam   \n",
       "3                         unable to access hr_tool page  xbkucsvz gcpydteq   \n",
       "4                                          skype error   owlgqjme qhcozdfx   \n",
       "...                                                 ...                ...   \n",
       "8495                  emails not coming in from zz mail  avglmrts vhqmtiua   \n",
       "8496                           telephony_software issue  rbozivdq gmlhrtvp   \n",
       "8497  vip2: windows password reset for tifpdchb pedx...  oybwdsgx oxyhwrfz   \n",
       "8498                     machine nÃ£o estÃ¡ funcionando  ufawcgob aowhxjky   \n",
       "8499  an mehreren pc`s lassen sich verschiedene prgr...  kqvbrspl jyzoklfx   \n",
       "\n",
       "     Assignment group                                     RawDescription  \\\n",
       "0               GRP_0  -verified user details.(employee# & manager na...   \n",
       "1               GRP_0  _x000D_ _x000D_  _x000D_ hello team,_x000D_ _x...   \n",
       "2               GRP_0  _x000D_ _x000D_  _x000D_ hi_x000D_ _x000D_ i c...   \n",
       "3               GRP_0                      unable to access hr_tool page   \n",
       "4               GRP_0                                       skype error    \n",
       "...               ...                                                ...   \n",
       "8495           GRP_29  _x000D_ _x000D_  _x000D_ good afternoon,_x000D...   \n",
       "8496            GRP_0                           telephony_software issue   \n",
       "8497            GRP_0  vip2: windows password reset for tifpdchb pedx...   \n",
       "8498           Others  i am unable to access the machine utilities to...   \n",
       "8499           Others  an mehreren pc`s lassen sich verschiedene prgr...   \n",
       "\n",
       "                                    English_Description  RawWordCount  \\\n",
       "0     verified user detailsemployee manager name_x00...            29   \n",
       "1     _x000D__x000D_received from hmjdrvpbkomuaywngm...            23   \n",
       "2     _x000D__x000D_received from eylqgodmybqkwiamgm...             9   \n",
       "3                         unable to access hr_tool page             5   \n",
       "4                                          skype error              3   \n",
       "...                                                 ...           ...   \n",
       "8495  _x000D__x000D_received from avglmrtsvhqmtiuagm...            16   \n",
       "8496                           telephony_software issue             2   \n",
       "8497  vip2 windows password reset for tifpdchb pedxruyf             7   \n",
       "8498  i am unable to access the machine utilities to...            16   \n",
       "8499  an mehreren pcs lassen sich verschiedene prgra...            11   \n",
       "\n",
       "                                    cleaned_description  number_of_words  \\\n",
       "0     verified user detailsemployee manager name d c...               23   \n",
       "1      d d hmjdrvpbkomuaywngmailcom d d team d d mee...               19   \n",
       "2      d d eylqgodmybqkwiamgmailcom d d d d log vpn ...               11   \n",
       "3                               unable access tool page                4   \n",
       "4                                           skype error                2   \n",
       "...                                                 ...              ...   \n",
       "8495   d d avglmrtsvhqmtiuagmailcom d d good afterno...               16   \n",
       "8496                           telephony software issue                3   \n",
       "8497       vip windows password reset tifpdchb pedxruyf                6   \n",
       "8498  unable access macne utilities finish drawers a...               10   \n",
       "8499  mehreren pcs lassen sich verscedene prgramdnty...               10   \n",
       "\n",
       "                                                  words  \n",
       "0     [verified, user, detailsemployee_manager, name...  \n",
       "1     [team, meetingsskype, meetings, etc, appearing...  \n",
       "2                                            [log, vpn]  \n",
       "3                          [unable, access, tool, page]  \n",
       "4                                        [skype, error]  \n",
       "...                                                 ...  \n",
       "8495  [good_afternoon, receiving, emails, sent, mail...  \n",
       "8496                        [telephony_software, issue]  \n",
       "8497  [vip, windows, password, reset, tifpdchb, pedx...  \n",
       "8498  [unable, access, macne, utilities, finish, dra...  \n",
       "8499  [mehreren, pcs, lassen_sich, verscedene, prgra...  \n",
       "\n",
       "[7354 rows x 9 columns]"
      ]
     },
     "execution_count": 144,
     "metadata": {},
     "output_type": "execute_result"
    }
   ],
   "source": [
    "new_df = df_bk.copy()\n",
    "new_df['words'] = data_words_bigrams\n",
    "new_df"
   ]
  },
  {
   "cell_type": "code",
   "execution_count": 145,
   "metadata": {},
   "outputs": [],
   "source": [
    "new_df['word_count']=new_df['cleaned_description'].apply(lambda x:len(str(x).split()))\n",
    "new_df['char_counts']=new_df['cleaned_description'].apply(lambda x: char_counts(str(x)))\n",
    "new_df['Digits_count']=new_df['cleaned_description'].apply(lambda x:len([t for t in x.split() if t.isdigit()]))\n",
    "new_df['Avg_word_Count']=new_df['word_count']/new_df['char_counts']"
   ]
  },
  {
   "cell_type": "code",
   "execution_count": 146,
   "metadata": {},
   "outputs": [
    {
     "data": {
      "text/html": [
       "<div>\n",
       "<style scoped>\n",
       "    .dataframe tbody tr th:only-of-type {\n",
       "        vertical-align: middle;\n",
       "    }\n",
       "\n",
       "    .dataframe tbody tr th {\n",
       "        vertical-align: top;\n",
       "    }\n",
       "\n",
       "    .dataframe thead th {\n",
       "        text-align: right;\n",
       "    }\n",
       "</style>\n",
       "<table border=\"1\" class=\"dataframe\">\n",
       "  <thead>\n",
       "    <tr style=\"text-align: right;\">\n",
       "      <th></th>\n",
       "      <th>Short description</th>\n",
       "      <th>Caller</th>\n",
       "      <th>Assignment group</th>\n",
       "      <th>RawDescription</th>\n",
       "      <th>English_Description</th>\n",
       "      <th>RawWordCount</th>\n",
       "      <th>cleaned_description</th>\n",
       "      <th>number_of_words</th>\n",
       "      <th>words</th>\n",
       "      <th>word_count</th>\n",
       "      <th>char_counts</th>\n",
       "      <th>Digits_count</th>\n",
       "      <th>Avg_word_Count</th>\n",
       "    </tr>\n",
       "  </thead>\n",
       "  <tbody>\n",
       "    <tr>\n",
       "      <th>2701</th>\n",
       "      <td>account got locked</td>\n",
       "      <td>djkipmqo hjzeuwrd</td>\n",
       "      <td>GRP_0</td>\n",
       "      <td>account got locked</td>\n",
       "      <td>account got locked</td>\n",
       "      <td>3</td>\n",
       "      <td>account got locked</td>\n",
       "      <td>3</td>\n",
       "      <td>[account, got, locked]</td>\n",
       "      <td>3</td>\n",
       "      <td>16</td>\n",
       "      <td>0</td>\n",
       "      <td>0.187500</td>\n",
       "    </tr>\n",
       "    <tr>\n",
       "      <th>6748</th>\n",
       "      <td>setup access for ethics</td>\n",
       "      <td>vfrdxtqw jfbmsenz</td>\n",
       "      <td>GRP_0</td>\n",
       "      <td>setup access for ethics</td>\n",
       "      <td>setup access for ethics</td>\n",
       "      <td>4</td>\n",
       "      <td>setup access etcs</td>\n",
       "      <td>3</td>\n",
       "      <td>[setup, access, etcs]</td>\n",
       "      <td>3</td>\n",
       "      <td>15</td>\n",
       "      <td>0</td>\n",
       "      <td>0.200000</td>\n",
       "    </tr>\n",
       "    <tr>\n",
       "      <th>7158</th>\n",
       "      <td>HostName_108: disk free on c:\\ is now 15%, whi...</td>\n",
       "      <td>vbwszcqn nlbqsuyv</td>\n",
       "      <td>GRP_12</td>\n",
       "      <td>HostName_108: average (4 samples) disk free on...</td>\n",
       "      <td>HostName_108 average 4 samples disk free on c ...</td>\n",
       "      <td>24</td>\n",
       "      <td>hostname average samples disk free warning thr...</td>\n",
       "      <td>10</td>\n",
       "      <td>[hostname, average_samples, disk_free, warning...</td>\n",
       "      <td>10</td>\n",
       "      <td>57</td>\n",
       "      <td>0</td>\n",
       "      <td>0.175439</td>\n",
       "    </tr>\n",
       "    <tr>\n",
       "      <th>4786</th>\n",
       "      <td>ethics issue</td>\n",
       "      <td>qcfmxgid jvxanwre</td>\n",
       "      <td>GRP_0</td>\n",
       "      <td>hi liuytre,_x000D_ _x000D_ sorry to hear of th...</td>\n",
       "      <td>hi liuytre_x000D__x000D_sorry to hear of the i...</td>\n",
       "      <td>74</td>\n",
       "      <td>liuytre d d sorry hear issues etcs vpn experi...</td>\n",
       "      <td>38</td>\n",
       "      <td>[liuytre, sorry, hear, issues, etcs, vpn, expe...</td>\n",
       "      <td>38</td>\n",
       "      <td>184</td>\n",
       "      <td>0</td>\n",
       "      <td>0.206522</td>\n",
       "    </tr>\n",
       "    <tr>\n",
       "      <th>4280</th>\n",
       "      <td>ethics issue.</td>\n",
       "      <td>fmzdkyqv dbrslnhe</td>\n",
       "      <td>Others</td>\n",
       "      <td>_x000D_ _x000D_  _x000D_ hi,_x000D_ _x000D_ i ...</td>\n",
       "      <td>_x000D__x000D_received from fmzdkyqvdbrslnhegm...</td>\n",
       "      <td>17</td>\n",
       "      <td>d d fmzdkyqvdbrslnhegmailcom d d d d access b...</td>\n",
       "      <td>12</td>\n",
       "      <td>[access, beec, module, message, correct]</td>\n",
       "      <td>12</td>\n",
       "      <td>60</td>\n",
       "      <td>0</td>\n",
       "      <td>0.200000</td>\n",
       "    </tr>\n",
       "    <tr>\n",
       "      <th>...</th>\n",
       "      <td>...</td>\n",
       "      <td>...</td>\n",
       "      <td>...</td>\n",
       "      <td>...</td>\n",
       "      <td>...</td>\n",
       "      <td>...</td>\n",
       "      <td>...</td>\n",
       "      <td>...</td>\n",
       "      <td>...</td>\n",
       "      <td>...</td>\n",
       "      <td>...</td>\n",
       "      <td>...</td>\n",
       "      <td>...</td>\n",
       "    </tr>\n",
       "    <tr>\n",
       "      <th>312</th>\n",
       "      <td>erp SID_34 account unlock</td>\n",
       "      <td>wjsfbpuv lcpdfihr</td>\n",
       "      <td>GRP_0</td>\n",
       "      <td>erp SID_34 account unlock</td>\n",
       "      <td>erp SID_34 account unlock</td>\n",
       "      <td>4</td>\n",
       "      <td>erp sid account unlock</td>\n",
       "      <td>4</td>\n",
       "      <td>[erp, sid, account, unlock]</td>\n",
       "      <td>4</td>\n",
       "      <td>19</td>\n",
       "      <td>0</td>\n",
       "      <td>0.210526</td>\n",
       "    </tr>\n",
       "    <tr>\n",
       "      <th>1158</th>\n",
       "      <td>rechner optiplex790 defekt \\ ewew8323670 \\xpug...</td>\n",
       "      <td>xpugntjv zcaermdt</td>\n",
       "      <td>GRP_24</td>\n",
       "      <td>rechner optiplex790 defekt \\ ewew8323670 \\xpug...</td>\n",
       "      <td>rechner optiplex790 defekt ewew8323670 xpugntj...</td>\n",
       "      <td>7</td>\n",
       "      <td>rechner optiplex defekt ewew xpugntjv zcaermdt</td>\n",
       "      <td>6</td>\n",
       "      <td>[rechner, optiplex, defekt, ewew, xpugntjv, zc...</td>\n",
       "      <td>6</td>\n",
       "      <td>41</td>\n",
       "      <td>0</td>\n",
       "      <td>0.146341</td>\n",
       "    </tr>\n",
       "    <tr>\n",
       "      <th>7126</th>\n",
       "      <td>ç”µè„‘å¡ä¸”è¿žä¸ä¸Šå†…ç½‘</td>\n",
       "      <td>tuqrvowp fxmzkvqo</td>\n",
       "      <td>Others</td>\n",
       "      <td>ç”µè„‘å¡ä¸”è¿žä¸ä¸Šå†…ç½‘ï¼Œè¯·è½¬è´ºæ­£å¹...</td>\n",
       "      <td>received from tuqrvowpfxmzkvqogmailcomçµèåäèžä...</td>\n",
       "      <td>6</td>\n",
       "      <td>tuqrvowpfxmzkvqogmailcom tuqrvowp fxmzkvqo hu...</td>\n",
       "      <td>5</td>\n",
       "      <td>[tuqrvowp, fxmzkvqo, human]</td>\n",
       "      <td>5</td>\n",
       "      <td>108</td>\n",
       "      <td>0</td>\n",
       "      <td>0.046296</td>\n",
       "    </tr>\n",
       "    <tr>\n",
       "      <th>5152</th>\n",
       "      <td>ess login issue</td>\n",
       "      <td>bcxfhekz bplfrnis</td>\n",
       "      <td>GRP_0</td>\n",
       "      <td>ess login issue_x000D_ -verified user details....</td>\n",
       "      <td>ess login issue_x000D_verified user detailsemp...</td>\n",
       "      <td>28</td>\n",
       "      <td>ess login issue d verified user detailsemploye...</td>\n",
       "      <td>25</td>\n",
       "      <td>[ess, login, issue, verified, user, detailsemp...</td>\n",
       "      <td>25</td>\n",
       "      <td>125</td>\n",
       "      <td>0</td>\n",
       "      <td>0.200000</td>\n",
       "    </tr>\n",
       "    <tr>\n",
       "      <th>5553</th>\n",
       "      <td>one team update</td>\n",
       "      <td>csmhykge mpxbjudw</td>\n",
       "      <td>GRP_0</td>\n",
       "      <td>one team update</td>\n",
       "      <td>one team update</td>\n",
       "      <td>3</td>\n",
       "      <td>team update</td>\n",
       "      <td>2</td>\n",
       "      <td>[team, update]</td>\n",
       "      <td>2</td>\n",
       "      <td>10</td>\n",
       "      <td>0</td>\n",
       "      <td>0.200000</td>\n",
       "    </tr>\n",
       "  </tbody>\n",
       "</table>\n",
       "<p>100 rows × 13 columns</p>\n",
       "</div>"
      ],
      "text/plain": [
       "                                      Short description             Caller  \\\n",
       "2701                                 account got locked  djkipmqo hjzeuwrd   \n",
       "6748                            setup access for ethics  vfrdxtqw jfbmsenz   \n",
       "7158  HostName_108: disk free on c:\\ is now 15%, whi...  vbwszcqn nlbqsuyv   \n",
       "4786                                       ethics issue  qcfmxgid jvxanwre   \n",
       "4280                                      ethics issue.  fmzdkyqv dbrslnhe   \n",
       "...                                                 ...                ...   \n",
       "312                           erp SID_34 account unlock  wjsfbpuv lcpdfihr   \n",
       "1158  rechner optiplex790 defekt \\ ewew8323670 \\xpug...  xpugntjv zcaermdt   \n",
       "7126                        ç”µè„‘å¡ä¸”è¿žä¸ä¸Šå†…ç½‘  tuqrvowp fxmzkvqo   \n",
       "5152                                    ess login issue  bcxfhekz bplfrnis   \n",
       "5553                                    one team update  csmhykge mpxbjudw   \n",
       "\n",
       "     Assignment group                                     RawDescription  \\\n",
       "2701            GRP_0                                 account got locked   \n",
       "6748            GRP_0                            setup access for ethics   \n",
       "7158           GRP_12  HostName_108: average (4 samples) disk free on...   \n",
       "4786            GRP_0  hi liuytre,_x000D_ _x000D_ sorry to hear of th...   \n",
       "4280           Others  _x000D_ _x000D_  _x000D_ hi,_x000D_ _x000D_ i ...   \n",
       "...               ...                                                ...   \n",
       "312             GRP_0                          erp SID_34 account unlock   \n",
       "1158           GRP_24  rechner optiplex790 defekt \\ ewew8323670 \\xpug...   \n",
       "7126           Others    ç”µè„‘å¡ä¸”è¿žä¸ä¸Šå†…ç½‘ï¼Œè¯·è½¬è´ºæ­£å¹...   \n",
       "5152            GRP_0  ess login issue_x000D_ -verified user details....   \n",
       "5553            GRP_0                                    one team update   \n",
       "\n",
       "                                    English_Description  RawWordCount  \\\n",
       "2701                                 account got locked             3   \n",
       "6748                            setup access for ethics             4   \n",
       "7158  HostName_108 average 4 samples disk free on c ...            24   \n",
       "4786  hi liuytre_x000D__x000D_sorry to hear of the i...            74   \n",
       "4280  _x000D__x000D_received from fmzdkyqvdbrslnhegm...            17   \n",
       "...                                                 ...           ...   \n",
       "312                           erp SID_34 account unlock             4   \n",
       "1158  rechner optiplex790 defekt ewew8323670 xpugntj...             7   \n",
       "7126  received from tuqrvowpfxmzkvqogmailcomçµèåäèžä...             6   \n",
       "5152  ess login issue_x000D_verified user detailsemp...            28   \n",
       "5553                                    one team update             3   \n",
       "\n",
       "                                    cleaned_description  number_of_words  \\\n",
       "2701                                 account got locked                3   \n",
       "6748                                  setup access etcs                3   \n",
       "7158  hostname average samples disk free warning thr...               10   \n",
       "4786   liuytre d d sorry hear issues etcs vpn experi...               38   \n",
       "4280   d d fmzdkyqvdbrslnhegmailcom d d d d access b...               12   \n",
       "...                                                 ...              ...   \n",
       "312                              erp sid account unlock                4   \n",
       "1158     rechner optiplex defekt ewew xpugntjv zcaermdt                6   \n",
       "7126   tuqrvowpfxmzkvqogmailcom tuqrvowp fxmzkvqo hu...                5   \n",
       "5152  ess login issue d verified user detailsemploye...               25   \n",
       "5553                                        team update                2   \n",
       "\n",
       "                                                  words  word_count  \\\n",
       "2701                             [account, got, locked]           3   \n",
       "6748                              [setup, access, etcs]           3   \n",
       "7158  [hostname, average_samples, disk_free, warning...          10   \n",
       "4786  [liuytre, sorry, hear, issues, etcs, vpn, expe...          38   \n",
       "4280           [access, beec, module, message, correct]          12   \n",
       "...                                                 ...         ...   \n",
       "312                         [erp, sid, account, unlock]           4   \n",
       "1158  [rechner, optiplex, defekt, ewew, xpugntjv, zc...           6   \n",
       "7126                        [tuqrvowp, fxmzkvqo, human]           5   \n",
       "5152  [ess, login, issue, verified, user, detailsemp...          25   \n",
       "5553                                     [team, update]           2   \n",
       "\n",
       "      char_counts  Digits_count  Avg_word_Count  \n",
       "2701           16             0        0.187500  \n",
       "6748           15             0        0.200000  \n",
       "7158           57             0        0.175439  \n",
       "4786          184             0        0.206522  \n",
       "4280           60             0        0.200000  \n",
       "...           ...           ...             ...  \n",
       "312            19             0        0.210526  \n",
       "1158           41             0        0.146341  \n",
       "7126          108             0        0.046296  \n",
       "5152          125             0        0.200000  \n",
       "5553           10             0        0.200000  \n",
       "\n",
       "[100 rows x 13 columns]"
      ]
     },
     "execution_count": 146,
     "metadata": {},
     "output_type": "execute_result"
    }
   ],
   "source": [
    "new_df.sample(100)"
   ]
  },
  {
   "cell_type": "code",
   "execution_count": 147,
   "metadata": {},
   "outputs": [],
   "source": [
    "\n",
    "# Tokenizing the training and the test set\n",
    "tokenizer = nltk.tokenize.RegexpTokenizer(r'\\w+')\n",
    "new_df['token_desc'] = new_df['cleaned_description'].apply(lambda x: tokenizer.tokenize(x))"
   ]
  },
  {
   "cell_type": "code",
   "execution_count": 148,
   "metadata": {},
   "outputs": [
    {
     "data": {
      "text/plain": [
       "0    [verified, user, detailsemployee, manager, nam...\n",
       "1    [d, d, hmjdrvpbkomuaywngmailcom, d, d, team, d...\n",
       "2    [d, d, eylqgodmybqkwiamgmailcom, d, d, d, d, l...\n",
       "3                         [unable, access, tool, page]\n",
       "4                                       [skype, error]\n",
       "Name: token_desc, dtype: object"
      ]
     },
     "execution_count": 148,
     "metadata": {},
     "output_type": "execute_result"
    }
   ],
   "source": [
    "new_df['token_desc'].head()"
   ]
  },
  {
   "cell_type": "code",
   "execution_count": 149,
   "metadata": {},
   "outputs": [],
   "source": [
    "def combine_text(list_of_text):\n",
    "    '''Takes a list of text and combines them into one large chunk of text.'''\n",
    "    combined_text = ' '.join(list_of_text)\n",
    "    return combined_text\n",
    "\n",
    "new_df['token_desc'] = new_df['token_desc'].apply(lambda x : combine_text(x))"
   ]
  },
  {
   "cell_type": "code",
   "execution_count": 150,
   "metadata": {},
   "outputs": [],
   "source": [
    "from sklearn.feature_extraction.text import TfidfVectorizer\n",
    "\n",
    "# word level tf-idf for ticket\n",
    "tfidf = TfidfVectorizer(max_features=250, analyzer = 'word', min_df=2, max_df=0.95, ngram_range=(1, 2))\n",
    "inc_tfidf = tfidf.fit_transform(new_df['token_desc'])"
   ]
  },
  {
   "cell_type": "code",
   "execution_count": 151,
   "metadata": {},
   "outputs": [
    {
     "name": "stderr",
     "output_type": "stream",
     "text": [
      "C:\\Users\\DELL\\anaconda6\\lib\\site-packages\\sklearn\\utils\\deprecation.py:87: FutureWarning: Function get_feature_names is deprecated; get_feature_names is deprecated in 1.0 and will be removed in 1.2. Please use get_feature_names_out instead.\n",
      "  warnings.warn(msg, category=FutureWarning)\n"
     ]
    }
   ],
   "source": [
    "#  create a dictionary mapping the tokens to their tfidf values\n",
    "tfidf = dict(zip(tfidf.get_feature_names(), tfidf.idf_))\n",
    "tfidf = pd.DataFrame(columns=['tfidf']).from_dict(\n",
    "                    dict(tfidf), orient='index')\n",
    "tfidf.columns = ['tfidf']"
   ]
  },
  {
   "cell_type": "code",
   "execution_count": 152,
   "metadata": {},
   "outputs": [
    {
     "data": {
      "text/html": [
       "<div>\n",
       "<style scoped>\n",
       "    .dataframe tbody tr th:only-of-type {\n",
       "        vertical-align: middle;\n",
       "    }\n",
       "\n",
       "    .dataframe tbody tr th {\n",
       "        vertical-align: top;\n",
       "    }\n",
       "\n",
       "    .dataframe thead th {\n",
       "        text-align: right;\n",
       "    }\n",
       "</style>\n",
       "<table border=\"1\" class=\"dataframe\">\n",
       "  <thead>\n",
       "    <tr style=\"text-align: right;\">\n",
       "      <th></th>\n",
       "      <th>tfidf</th>\n",
       "    </tr>\n",
       "  </thead>\n",
       "  <tbody>\n",
       "    <tr>\n",
       "      <th>password</th>\n",
       "      <td>3.099630</td>\n",
       "    </tr>\n",
       "    <tr>\n",
       "      <th>erp</th>\n",
       "      <td>3.143880</td>\n",
       "    </tr>\n",
       "    <tr>\n",
       "      <th>unable</th>\n",
       "      <td>3.279070</td>\n",
       "    </tr>\n",
       "    <tr>\n",
       "      <th>reset</th>\n",
       "      <td>3.304627</td>\n",
       "    </tr>\n",
       "    <tr>\n",
       "      <th>tool</th>\n",
       "      <td>3.328060</td>\n",
       "    </tr>\n",
       "    <tr>\n",
       "      <th>sid</th>\n",
       "      <td>3.452665</td>\n",
       "    </tr>\n",
       "    <tr>\n",
       "      <th>issue</th>\n",
       "      <td>3.466985</td>\n",
       "    </tr>\n",
       "    <tr>\n",
       "      <th>account</th>\n",
       "      <td>3.499561</td>\n",
       "    </tr>\n",
       "    <tr>\n",
       "      <th>user</th>\n",
       "      <td>3.526409</td>\n",
       "    </tr>\n",
       "    <tr>\n",
       "      <th>error</th>\n",
       "      <td>3.561014</td>\n",
       "    </tr>\n",
       "  </tbody>\n",
       "</table>\n",
       "</div>"
      ],
      "text/plain": [
       "             tfidf\n",
       "password  3.099630\n",
       "erp       3.143880\n",
       "unable    3.279070\n",
       "reset     3.304627\n",
       "tool      3.328060\n",
       "sid       3.452665\n",
       "issue     3.466985\n",
       "account   3.499561\n",
       "user      3.526409\n",
       "error     3.561014"
      ]
     },
     "execution_count": 152,
     "metadata": {},
     "output_type": "execute_result"
    }
   ],
   "source": [
    "tfidf.sort_values(by=['tfidf'], ascending=True).head(10)"
   ]
  },
  {
   "cell_type": "code",
   "execution_count": 153,
   "metadata": {},
   "outputs": [
    {
     "data": {
      "text/html": [
       "<div>\n",
       "<style scoped>\n",
       "    .dataframe tbody tr th:only-of-type {\n",
       "        vertical-align: middle;\n",
       "    }\n",
       "\n",
       "    .dataframe tbody tr th {\n",
       "        vertical-align: top;\n",
       "    }\n",
       "\n",
       "    .dataframe thead th {\n",
       "        text-align: right;\n",
       "    }\n",
       "</style>\n",
       "<table border=\"1\" class=\"dataframe\">\n",
       "  <thead>\n",
       "    <tr style=\"text-align: right;\">\n",
       "      <th></th>\n",
       "      <th>tfidf</th>\n",
       "    </tr>\n",
       "  </thead>\n",
       "  <tbody>\n",
       "    <tr>\n",
       "      <th>inwarehouse tool</th>\n",
       "      <td>5.744253</td>\n",
       "    </tr>\n",
       "    <tr>\n",
       "      <th>space</th>\n",
       "      <td>5.744253</td>\n",
       "    </tr>\n",
       "    <tr>\n",
       "      <th>center</th>\n",
       "      <td>5.626470</td>\n",
       "    </tr>\n",
       "    <tr>\n",
       "      <th>sid sid</th>\n",
       "      <td>5.612676</td>\n",
       "    </tr>\n",
       "    <tr>\n",
       "      <th>folder</th>\n",
       "      <td>5.612676</td>\n",
       "    </tr>\n",
       "    <tr>\n",
       "      <th>circuit yes</th>\n",
       "      <td>5.521109</td>\n",
       "    </tr>\n",
       "    <tr>\n",
       "      <th>login issue</th>\n",
       "      <td>5.521109</td>\n",
       "    </tr>\n",
       "    <tr>\n",
       "      <th>ist</th>\n",
       "      <td>5.521109</td>\n",
       "    </tr>\n",
       "    <tr>\n",
       "      <th>mobile</th>\n",
       "      <td>5.508686</td>\n",
       "    </tr>\n",
       "    <tr>\n",
       "      <th>microsoft</th>\n",
       "      <td>5.496416</td>\n",
       "    </tr>\n",
       "  </tbody>\n",
       "</table>\n",
       "</div>"
      ],
      "text/plain": [
       "                     tfidf\n",
       "inwarehouse tool  5.744253\n",
       "space             5.744253\n",
       "center            5.626470\n",
       "sid sid           5.612676\n",
       "folder            5.612676\n",
       "circuit yes       5.521109\n",
       "login issue       5.521109\n",
       "ist               5.521109\n",
       "mobile            5.508686\n",
       "microsoft         5.496416"
      ]
     },
     "execution_count": 153,
     "metadata": {},
     "output_type": "execute_result"
    }
   ],
   "source": [
    "tfidf.sort_values(by=['tfidf'], ascending=False).head(10)"
   ]
  },
  {
   "cell_type": "code",
   "execution_count": 154,
   "metadata": {},
   "outputs": [
    {
     "data": {
      "text/html": [
       "<div>\n",
       "<style scoped>\n",
       "    .dataframe tbody tr th:only-of-type {\n",
       "        vertical-align: middle;\n",
       "    }\n",
       "\n",
       "    .dataframe tbody tr th {\n",
       "        vertical-align: top;\n",
       "    }\n",
       "\n",
       "    .dataframe thead th {\n",
       "        text-align: right;\n",
       "    }\n",
       "</style>\n",
       "<table border=\"1\" class=\"dataframe\">\n",
       "  <thead>\n",
       "    <tr style=\"text-align: right;\">\n",
       "      <th></th>\n",
       "      <th>0</th>\n",
       "      <th>1</th>\n",
       "      <th>2</th>\n",
       "      <th>3</th>\n",
       "      <th>4</th>\n",
       "      <th>5</th>\n",
       "      <th>6</th>\n",
       "      <th>7</th>\n",
       "      <th>8</th>\n",
       "      <th>9</th>\n",
       "      <th>...</th>\n",
       "      <th>240</th>\n",
       "      <th>241</th>\n",
       "      <th>242</th>\n",
       "      <th>243</th>\n",
       "      <th>244</th>\n",
       "      <th>245</th>\n",
       "      <th>246</th>\n",
       "      <th>247</th>\n",
       "      <th>248</th>\n",
       "      <th>249</th>\n",
       "    </tr>\n",
       "  </thead>\n",
       "  <tbody>\n",
       "    <tr>\n",
       "      <th>0</th>\n",
       "      <td>0.190743</td>\n",
       "      <td>0.249143</td>\n",
       "      <td>0.000000</td>\n",
       "      <td>0.0</td>\n",
       "      <td>0.0</td>\n",
       "      <td>0.0</td>\n",
       "      <td>0.000000</td>\n",
       "      <td>0.0</td>\n",
       "      <td>0.0</td>\n",
       "      <td>0.0</td>\n",
       "      <td>...</td>\n",
       "      <td>0.0</td>\n",
       "      <td>0.0</td>\n",
       "      <td>0.0</td>\n",
       "      <td>0.0</td>\n",
       "      <td>0.0</td>\n",
       "      <td>0.0</td>\n",
       "      <td>0.0</td>\n",
       "      <td>0.0</td>\n",
       "      <td>0.0</td>\n",
       "      <td>0.0</td>\n",
       "    </tr>\n",
       "    <tr>\n",
       "      <th>1</th>\n",
       "      <td>0.000000</td>\n",
       "      <td>0.000000</td>\n",
       "      <td>0.000000</td>\n",
       "      <td>0.0</td>\n",
       "      <td>0.0</td>\n",
       "      <td>0.0</td>\n",
       "      <td>0.000000</td>\n",
       "      <td>0.0</td>\n",
       "      <td>0.0</td>\n",
       "      <td>0.0</td>\n",
       "      <td>...</td>\n",
       "      <td>0.0</td>\n",
       "      <td>0.0</td>\n",
       "      <td>0.0</td>\n",
       "      <td>0.0</td>\n",
       "      <td>0.0</td>\n",
       "      <td>0.0</td>\n",
       "      <td>0.0</td>\n",
       "      <td>0.0</td>\n",
       "      <td>0.0</td>\n",
       "      <td>0.0</td>\n",
       "    </tr>\n",
       "    <tr>\n",
       "      <th>2</th>\n",
       "      <td>0.000000</td>\n",
       "      <td>0.000000</td>\n",
       "      <td>0.000000</td>\n",
       "      <td>0.0</td>\n",
       "      <td>0.0</td>\n",
       "      <td>0.0</td>\n",
       "      <td>0.000000</td>\n",
       "      <td>0.0</td>\n",
       "      <td>0.0</td>\n",
       "      <td>0.0</td>\n",
       "      <td>...</td>\n",
       "      <td>0.0</td>\n",
       "      <td>0.0</td>\n",
       "      <td>0.0</td>\n",
       "      <td>0.0</td>\n",
       "      <td>0.0</td>\n",
       "      <td>0.0</td>\n",
       "      <td>0.0</td>\n",
       "      <td>0.0</td>\n",
       "      <td>0.0</td>\n",
       "      <td>0.0</td>\n",
       "    </tr>\n",
       "    <tr>\n",
       "      <th>3</th>\n",
       "      <td>0.000000</td>\n",
       "      <td>0.000000</td>\n",
       "      <td>0.608671</td>\n",
       "      <td>0.0</td>\n",
       "      <td>0.0</td>\n",
       "      <td>0.0</td>\n",
       "      <td>0.000000</td>\n",
       "      <td>0.0</td>\n",
       "      <td>0.0</td>\n",
       "      <td>0.0</td>\n",
       "      <td>...</td>\n",
       "      <td>0.0</td>\n",
       "      <td>0.0</td>\n",
       "      <td>0.0</td>\n",
       "      <td>0.0</td>\n",
       "      <td>0.0</td>\n",
       "      <td>0.0</td>\n",
       "      <td>0.0</td>\n",
       "      <td>0.0</td>\n",
       "      <td>0.0</td>\n",
       "      <td>0.0</td>\n",
       "    </tr>\n",
       "    <tr>\n",
       "      <th>4</th>\n",
       "      <td>0.000000</td>\n",
       "      <td>0.000000</td>\n",
       "      <td>0.000000</td>\n",
       "      <td>0.0</td>\n",
       "      <td>0.0</td>\n",
       "      <td>0.0</td>\n",
       "      <td>0.000000</td>\n",
       "      <td>0.0</td>\n",
       "      <td>0.0</td>\n",
       "      <td>0.0</td>\n",
       "      <td>...</td>\n",
       "      <td>0.0</td>\n",
       "      <td>0.0</td>\n",
       "      <td>0.0</td>\n",
       "      <td>0.0</td>\n",
       "      <td>0.0</td>\n",
       "      <td>0.0</td>\n",
       "      <td>0.0</td>\n",
       "      <td>0.0</td>\n",
       "      <td>0.0</td>\n",
       "      <td>0.0</td>\n",
       "    </tr>\n",
       "    <tr>\n",
       "      <th>5</th>\n",
       "      <td>0.000000</td>\n",
       "      <td>0.000000</td>\n",
       "      <td>0.000000</td>\n",
       "      <td>0.0</td>\n",
       "      <td>0.0</td>\n",
       "      <td>0.0</td>\n",
       "      <td>0.000000</td>\n",
       "      <td>0.0</td>\n",
       "      <td>0.0</td>\n",
       "      <td>0.0</td>\n",
       "      <td>...</td>\n",
       "      <td>0.0</td>\n",
       "      <td>0.0</td>\n",
       "      <td>0.0</td>\n",
       "      <td>0.0</td>\n",
       "      <td>0.0</td>\n",
       "      <td>0.0</td>\n",
       "      <td>0.0</td>\n",
       "      <td>0.0</td>\n",
       "      <td>0.0</td>\n",
       "      <td>0.0</td>\n",
       "    </tr>\n",
       "    <tr>\n",
       "      <th>6</th>\n",
       "      <td>0.000000</td>\n",
       "      <td>0.000000</td>\n",
       "      <td>0.000000</td>\n",
       "      <td>0.0</td>\n",
       "      <td>0.0</td>\n",
       "      <td>0.0</td>\n",
       "      <td>0.000000</td>\n",
       "      <td>0.0</td>\n",
       "      <td>0.0</td>\n",
       "      <td>0.0</td>\n",
       "      <td>...</td>\n",
       "      <td>0.0</td>\n",
       "      <td>0.0</td>\n",
       "      <td>0.0</td>\n",
       "      <td>0.0</td>\n",
       "      <td>0.0</td>\n",
       "      <td>0.0</td>\n",
       "      <td>0.0</td>\n",
       "      <td>0.0</td>\n",
       "      <td>0.0</td>\n",
       "      <td>0.0</td>\n",
       "    </tr>\n",
       "    <tr>\n",
       "      <th>7</th>\n",
       "      <td>0.000000</td>\n",
       "      <td>0.000000</td>\n",
       "      <td>0.000000</td>\n",
       "      <td>0.0</td>\n",
       "      <td>0.0</td>\n",
       "      <td>0.0</td>\n",
       "      <td>0.721195</td>\n",
       "      <td>0.0</td>\n",
       "      <td>0.0</td>\n",
       "      <td>0.0</td>\n",
       "      <td>...</td>\n",
       "      <td>0.0</td>\n",
       "      <td>0.0</td>\n",
       "      <td>0.0</td>\n",
       "      <td>0.0</td>\n",
       "      <td>0.0</td>\n",
       "      <td>0.0</td>\n",
       "      <td>0.0</td>\n",
       "      <td>0.0</td>\n",
       "      <td>0.0</td>\n",
       "      <td>0.0</td>\n",
       "    </tr>\n",
       "    <tr>\n",
       "      <th>8</th>\n",
       "      <td>0.000000</td>\n",
       "      <td>0.000000</td>\n",
       "      <td>0.000000</td>\n",
       "      <td>0.0</td>\n",
       "      <td>0.0</td>\n",
       "      <td>0.0</td>\n",
       "      <td>0.000000</td>\n",
       "      <td>0.0</td>\n",
       "      <td>0.0</td>\n",
       "      <td>0.0</td>\n",
       "      <td>...</td>\n",
       "      <td>0.0</td>\n",
       "      <td>0.0</td>\n",
       "      <td>0.0</td>\n",
       "      <td>0.0</td>\n",
       "      <td>0.0</td>\n",
       "      <td>0.0</td>\n",
       "      <td>0.0</td>\n",
       "      <td>0.0</td>\n",
       "      <td>0.0</td>\n",
       "      <td>0.0</td>\n",
       "    </tr>\n",
       "    <tr>\n",
       "      <th>9</th>\n",
       "      <td>0.000000</td>\n",
       "      <td>0.000000</td>\n",
       "      <td>0.000000</td>\n",
       "      <td>0.0</td>\n",
       "      <td>0.0</td>\n",
       "      <td>0.0</td>\n",
       "      <td>0.000000</td>\n",
       "      <td>0.0</td>\n",
       "      <td>0.0</td>\n",
       "      <td>0.0</td>\n",
       "      <td>...</td>\n",
       "      <td>0.0</td>\n",
       "      <td>0.0</td>\n",
       "      <td>0.0</td>\n",
       "      <td>0.0</td>\n",
       "      <td>0.0</td>\n",
       "      <td>0.0</td>\n",
       "      <td>0.0</td>\n",
       "      <td>0.0</td>\n",
       "      <td>0.0</td>\n",
       "      <td>0.0</td>\n",
       "    </tr>\n",
       "  </tbody>\n",
       "</table>\n",
       "<p>10 rows × 250 columns</p>\n",
       "</div>"
      ],
      "text/plain": [
       "        0         1         2    3    4    5         6    7    8    9    ...  \\\n",
       "0  0.190743  0.249143  0.000000  0.0  0.0  0.0  0.000000  0.0  0.0  0.0  ...   \n",
       "1  0.000000  0.000000  0.000000  0.0  0.0  0.0  0.000000  0.0  0.0  0.0  ...   \n",
       "2  0.000000  0.000000  0.000000  0.0  0.0  0.0  0.000000  0.0  0.0  0.0  ...   \n",
       "3  0.000000  0.000000  0.608671  0.0  0.0  0.0  0.000000  0.0  0.0  0.0  ...   \n",
       "4  0.000000  0.000000  0.000000  0.0  0.0  0.0  0.000000  0.0  0.0  0.0  ...   \n",
       "5  0.000000  0.000000  0.000000  0.0  0.0  0.0  0.000000  0.0  0.0  0.0  ...   \n",
       "6  0.000000  0.000000  0.000000  0.0  0.0  0.0  0.000000  0.0  0.0  0.0  ...   \n",
       "7  0.000000  0.000000  0.000000  0.0  0.0  0.0  0.721195  0.0  0.0  0.0  ...   \n",
       "8  0.000000  0.000000  0.000000  0.0  0.0  0.0  0.000000  0.0  0.0  0.0  ...   \n",
       "9  0.000000  0.000000  0.000000  0.0  0.0  0.0  0.000000  0.0  0.0  0.0  ...   \n",
       "\n",
       "   240  241  242  243  244  245  246  247  248  249  \n",
       "0  0.0  0.0  0.0  0.0  0.0  0.0  0.0  0.0  0.0  0.0  \n",
       "1  0.0  0.0  0.0  0.0  0.0  0.0  0.0  0.0  0.0  0.0  \n",
       "2  0.0  0.0  0.0  0.0  0.0  0.0  0.0  0.0  0.0  0.0  \n",
       "3  0.0  0.0  0.0  0.0  0.0  0.0  0.0  0.0  0.0  0.0  \n",
       "4  0.0  0.0  0.0  0.0  0.0  0.0  0.0  0.0  0.0  0.0  \n",
       "5  0.0  0.0  0.0  0.0  0.0  0.0  0.0  0.0  0.0  0.0  \n",
       "6  0.0  0.0  0.0  0.0  0.0  0.0  0.0  0.0  0.0  0.0  \n",
       "7  0.0  0.0  0.0  0.0  0.0  0.0  0.0  0.0  0.0  0.0  \n",
       "8  0.0  0.0  0.0  0.0  0.0  0.0  0.0  0.0  0.0  0.0  \n",
       "9  0.0  0.0  0.0  0.0  0.0  0.0  0.0  0.0  0.0  0.0  \n",
       "\n",
       "[10 rows x 250 columns]"
      ]
     },
     "execution_count": 154,
     "metadata": {},
     "output_type": "execute_result"
    }
   ],
   "source": [
    "array = inc_tfidf.todense()\n",
    "\n",
    "# store the tf-idf array into pandas dataframe\n",
    "df_inc = pd.DataFrame(array)\n",
    "df_inc.head(10)"
   ]
  },
  {
   "cell_type": "code",
   "execution_count": 155,
   "metadata": {},
   "outputs": [],
   "source": [
    "df_inc['Assignment_group']= new_df['Assignment group']\n",
    "df_inc['token_desc']= new_df['token_desc']"
   ]
  },
  {
   "cell_type": "code",
   "execution_count": 156,
   "metadata": {},
   "outputs": [
    {
     "data": {
      "text/html": [
       "<div>\n",
       "<style scoped>\n",
       "    .dataframe tbody tr th:only-of-type {\n",
       "        vertical-align: middle;\n",
       "    }\n",
       "\n",
       "    .dataframe tbody tr th {\n",
       "        vertical-align: top;\n",
       "    }\n",
       "\n",
       "    .dataframe thead th {\n",
       "        text-align: right;\n",
       "    }\n",
       "</style>\n",
       "<table border=\"1\" class=\"dataframe\">\n",
       "  <thead>\n",
       "    <tr style=\"text-align: right;\">\n",
       "      <th></th>\n",
       "      <th>0</th>\n",
       "      <th>1</th>\n",
       "      <th>2</th>\n",
       "      <th>3</th>\n",
       "      <th>4</th>\n",
       "      <th>5</th>\n",
       "      <th>6</th>\n",
       "      <th>7</th>\n",
       "      <th>8</th>\n",
       "      <th>9</th>\n",
       "      <th>...</th>\n",
       "      <th>242</th>\n",
       "      <th>243</th>\n",
       "      <th>244</th>\n",
       "      <th>245</th>\n",
       "      <th>246</th>\n",
       "      <th>247</th>\n",
       "      <th>248</th>\n",
       "      <th>249</th>\n",
       "      <th>Assignment_group</th>\n",
       "      <th>token_desc</th>\n",
       "    </tr>\n",
       "  </thead>\n",
       "  <tbody>\n",
       "    <tr>\n",
       "      <th>0</th>\n",
       "      <td>0.190743</td>\n",
       "      <td>0.249143</td>\n",
       "      <td>0.000000</td>\n",
       "      <td>0.0</td>\n",
       "      <td>0.0</td>\n",
       "      <td>0.0</td>\n",
       "      <td>0.0</td>\n",
       "      <td>0.0</td>\n",
       "      <td>0.0</td>\n",
       "      <td>0.0</td>\n",
       "      <td>...</td>\n",
       "      <td>0.0</td>\n",
       "      <td>0.0</td>\n",
       "      <td>0.0</td>\n",
       "      <td>0.0</td>\n",
       "      <td>0.0</td>\n",
       "      <td>0.0</td>\n",
       "      <td>0.0</td>\n",
       "      <td>0.0</td>\n",
       "      <td>GRP_0</td>\n",
       "      <td>verified user detailsemployee manager name d c...</td>\n",
       "    </tr>\n",
       "    <tr>\n",
       "      <th>1</th>\n",
       "      <td>0.000000</td>\n",
       "      <td>0.000000</td>\n",
       "      <td>0.000000</td>\n",
       "      <td>0.0</td>\n",
       "      <td>0.0</td>\n",
       "      <td>0.0</td>\n",
       "      <td>0.0</td>\n",
       "      <td>0.0</td>\n",
       "      <td>0.0</td>\n",
       "      <td>0.0</td>\n",
       "      <td>...</td>\n",
       "      <td>0.0</td>\n",
       "      <td>0.0</td>\n",
       "      <td>0.0</td>\n",
       "      <td>0.0</td>\n",
       "      <td>0.0</td>\n",
       "      <td>0.0</td>\n",
       "      <td>0.0</td>\n",
       "      <td>0.0</td>\n",
       "      <td>GRP_0</td>\n",
       "      <td>d d hmjdrvpbkomuaywngmailcom d d team d d meet...</td>\n",
       "    </tr>\n",
       "    <tr>\n",
       "      <th>2</th>\n",
       "      <td>0.000000</td>\n",
       "      <td>0.000000</td>\n",
       "      <td>0.000000</td>\n",
       "      <td>0.0</td>\n",
       "      <td>0.0</td>\n",
       "      <td>0.0</td>\n",
       "      <td>0.0</td>\n",
       "      <td>0.0</td>\n",
       "      <td>0.0</td>\n",
       "      <td>0.0</td>\n",
       "      <td>...</td>\n",
       "      <td>0.0</td>\n",
       "      <td>0.0</td>\n",
       "      <td>0.0</td>\n",
       "      <td>0.0</td>\n",
       "      <td>0.0</td>\n",
       "      <td>0.0</td>\n",
       "      <td>0.0</td>\n",
       "      <td>0.0</td>\n",
       "      <td>GRP_0</td>\n",
       "      <td>d d eylqgodmybqkwiamgmailcom d d d d log vpn d d</td>\n",
       "    </tr>\n",
       "    <tr>\n",
       "      <th>3</th>\n",
       "      <td>0.000000</td>\n",
       "      <td>0.000000</td>\n",
       "      <td>0.608671</td>\n",
       "      <td>0.0</td>\n",
       "      <td>0.0</td>\n",
       "      <td>0.0</td>\n",
       "      <td>0.0</td>\n",
       "      <td>0.0</td>\n",
       "      <td>0.0</td>\n",
       "      <td>0.0</td>\n",
       "      <td>...</td>\n",
       "      <td>0.0</td>\n",
       "      <td>0.0</td>\n",
       "      <td>0.0</td>\n",
       "      <td>0.0</td>\n",
       "      <td>0.0</td>\n",
       "      <td>0.0</td>\n",
       "      <td>0.0</td>\n",
       "      <td>0.0</td>\n",
       "      <td>GRP_0</td>\n",
       "      <td>unable access tool page</td>\n",
       "    </tr>\n",
       "    <tr>\n",
       "      <th>4</th>\n",
       "      <td>0.000000</td>\n",
       "      <td>0.000000</td>\n",
       "      <td>0.000000</td>\n",
       "      <td>0.0</td>\n",
       "      <td>0.0</td>\n",
       "      <td>0.0</td>\n",
       "      <td>0.0</td>\n",
       "      <td>0.0</td>\n",
       "      <td>0.0</td>\n",
       "      <td>0.0</td>\n",
       "      <td>...</td>\n",
       "      <td>0.0</td>\n",
       "      <td>0.0</td>\n",
       "      <td>0.0</td>\n",
       "      <td>0.0</td>\n",
       "      <td>0.0</td>\n",
       "      <td>0.0</td>\n",
       "      <td>0.0</td>\n",
       "      <td>0.0</td>\n",
       "      <td>GRP_0</td>\n",
       "      <td>skype error</td>\n",
       "    </tr>\n",
       "  </tbody>\n",
       "</table>\n",
       "<p>5 rows × 252 columns</p>\n",
       "</div>"
      ],
      "text/plain": [
       "          0         1         2    3    4    5    6    7    8    9  ...  242  \\\n",
       "0  0.190743  0.249143  0.000000  0.0  0.0  0.0  0.0  0.0  0.0  0.0  ...  0.0   \n",
       "1  0.000000  0.000000  0.000000  0.0  0.0  0.0  0.0  0.0  0.0  0.0  ...  0.0   \n",
       "2  0.000000  0.000000  0.000000  0.0  0.0  0.0  0.0  0.0  0.0  0.0  ...  0.0   \n",
       "3  0.000000  0.000000  0.608671  0.0  0.0  0.0  0.0  0.0  0.0  0.0  ...  0.0   \n",
       "4  0.000000  0.000000  0.000000  0.0  0.0  0.0  0.0  0.0  0.0  0.0  ...  0.0   \n",
       "\n",
       "   243  244  245  246  247  248  249  Assignment_group  \\\n",
       "0  0.0  0.0  0.0  0.0  0.0  0.0  0.0             GRP_0   \n",
       "1  0.0  0.0  0.0  0.0  0.0  0.0  0.0             GRP_0   \n",
       "2  0.0  0.0  0.0  0.0  0.0  0.0  0.0             GRP_0   \n",
       "3  0.0  0.0  0.0  0.0  0.0  0.0  0.0             GRP_0   \n",
       "4  0.0  0.0  0.0  0.0  0.0  0.0  0.0             GRP_0   \n",
       "\n",
       "                                          token_desc  \n",
       "0  verified user detailsemployee manager name d c...  \n",
       "1  d d hmjdrvpbkomuaywngmailcom d d team d d meet...  \n",
       "2   d d eylqgodmybqkwiamgmailcom d d d d log vpn d d  \n",
       "3                            unable access tool page  \n",
       "4                                        skype error  \n",
       "\n",
       "[5 rows x 252 columns]"
      ]
     },
     "execution_count": 156,
     "metadata": {},
     "output_type": "execute_result"
    }
   ],
   "source": [
    "df_inc.head()"
   ]
  },
  {
   "cell_type": "code",
   "execution_count": 157,
   "metadata": {},
   "outputs": [],
   "source": [
    "df_inc_sample = df_inc[df_inc['Assignment_group'].map(df_inc['Assignment_group'].value_counts()) > 100]"
   ]
  },
  {
   "cell_type": "code",
   "execution_count": 158,
   "metadata": {},
   "outputs": [],
   "source": [
    "df_inc_sample = new_df[new_df['Assignment group'].map(new_df['Assignment group'].value_counts()) > 100]"
   ]
  },
  {
   "cell_type": "code",
   "execution_count": 159,
   "metadata": {},
   "outputs": [
    {
     "name": "stdout",
     "output_type": "stream",
     "text": [
      "<class 'pandas.core.frame.DataFrame'>\n",
      "Int64Index: 6890 entries, 0 to 8499\n",
      "Data columns (total 14 columns):\n",
      " #   Column               Non-Null Count  Dtype  \n",
      "---  ------               --------------  -----  \n",
      " 0   Short description    6882 non-null   object \n",
      " 1   Caller               6890 non-null   object \n",
      " 2   Assignment group     6890 non-null   object \n",
      " 3   RawDescription       6890 non-null   object \n",
      " 4   English_Description  6890 non-null   object \n",
      " 5   RawWordCount         6890 non-null   int64  \n",
      " 6   cleaned_description  6890 non-null   object \n",
      " 7   number_of_words      6890 non-null   int64  \n",
      " 8   words                6890 non-null   object \n",
      " 9   word_count           6890 non-null   int64  \n",
      " 10  char_counts          6890 non-null   int64  \n",
      " 11  Digits_count         6890 non-null   int64  \n",
      " 12  Avg_word_Count       6890 non-null   float64\n",
      " 13  token_desc           6890 non-null   object \n",
      "dtypes: float64(1), int64(5), object(8)\n",
      "memory usage: 807.4+ KB\n"
     ]
    }
   ],
   "source": [
    "df_inc_sample.info()"
   ]
  },
  {
   "cell_type": "code",
   "execution_count": 160,
   "metadata": {},
   "outputs": [],
   "source": [
    "X = df_inc_sample['token_desc']\n",
    "y = df_inc_sample['Assignment group']"
   ]
  },
  {
   "cell_type": "code",
   "execution_count": 161,
   "metadata": {},
   "outputs": [],
   "source": [
    "#X.to_csv('X.csv', index=False, encoding='utf_8_sig')"
   ]
  },
  {
   "cell_type": "code",
   "execution_count": 162,
   "metadata": {},
   "outputs": [
    {
     "data": {
      "text/plain": [
       "(6890, 14)"
      ]
     },
     "execution_count": 162,
     "metadata": {},
     "output_type": "execute_result"
    }
   ],
   "source": [
    "df_inc_sample.shape"
   ]
  },
  {
   "cell_type": "code",
   "execution_count": 163,
   "metadata": {},
   "outputs": [],
   "source": [
    "from sklearn import preprocessing\n",
    "le = preprocessing.LabelEncoder()\n",
    "le.fit(y)\n",
    "y = le.transform(y)"
   ]
  },
  {
   "cell_type": "code",
   "execution_count": 164,
   "metadata": {},
   "outputs": [],
   "source": [
    "X_train, X_test, y_train, y_test =  train_test_split(X, y, test_size = 0.25)"
   ]
  },
  {
   "cell_type": "code",
   "execution_count": 165,
   "metadata": {},
   "outputs": [],
   "source": [
    "vectorizer = CountVectorizer(ngram_range = (1,2), stop_words=stopwords.words('english'), \n",
    "                             min_df = 0.05, max_df = 0.8, max_features = 100)"
   ]
  },
  {
   "cell_type": "code",
   "execution_count": 166,
   "metadata": {},
   "outputs": [
    {
     "data": {
      "text/plain": [
       "CountVectorizer(max_df=0.8, max_features=100, min_df=0.05, ngram_range=(1, 2),\n",
       "                stop_words=['i', 'me', 'my', 'myself', 'we', 'our', 'ours',\n",
       "                            'ourselves', 'you', \"you're\", \"you've\", \"you'll\",\n",
       "                            \"you'd\", 'your', 'yours', 'yourself', 'yourselves',\n",
       "                            'he', 'him', 'his', 'himself', 'she', \"she's\",\n",
       "                            'her', 'hers', 'herself', 'it', \"it's\", 'its',\n",
       "                            'itself', ...])"
      ]
     },
     "execution_count": 166,
     "metadata": {},
     "output_type": "execute_result"
    }
   ],
   "source": [
    "vectorizer"
   ]
  },
  {
   "cell_type": "code",
   "execution_count": 167,
   "metadata": {},
   "outputs": [
    {
     "data": {
      "text/plain": [
       "<5167x19 sparse matrix of type '<class 'numpy.int64'>'\n",
       "\twith 8035 stored elements in Compressed Sparse Row format>"
      ]
     },
     "execution_count": 167,
     "metadata": {},
     "output_type": "execute_result"
    }
   ],
   "source": [
    "X_train_dtm = vectorizer.fit_transform(X_train)\n",
    "X_test_dtm = vectorizer.transform(X_test)\n",
    "X_train_dtm"
   ]
  },
  {
   "cell_type": "code",
   "execution_count": 168,
   "metadata": {},
   "outputs": [
    {
     "data": {
      "text/plain": [
       "3476    nameuprmwlgb kirvecjalanguagebrowsermicrosoft ...\n",
       "726                 erp sid erp production password reset\n",
       "364                            need wireless mouse laptop\n",
       "5667    connection workstation server uxhq normal prin...\n",
       "6771                                    account locked ad\n",
       "                              ...                        \n",
       "7534                            unable reset password d d\n",
       "6205    d close line item order number delivered remai...\n",
       "5472                mobile device activation successfully\n",
       "242                                windows password reset\n",
       "8426    vmware tools running server hostname resided h...\n",
       "Name: token_desc, Length: 1723, dtype: object"
      ]
     },
     "execution_count": 168,
     "metadata": {},
     "output_type": "execute_result"
    }
   ],
   "source": [
    "X_test"
   ]
  },
  {
   "cell_type": "code",
   "execution_count": 169,
   "metadata": {},
   "outputs": [
    {
     "name": "stderr",
     "output_type": "stream",
     "text": [
      "C:\\Users\\DELL\\anaconda6\\lib\\site-packages\\sklearn\\utils\\deprecation.py:87: FutureWarning: Function get_feature_names is deprecated; get_feature_names is deprecated in 1.0 and will be removed in 1.2. Please use get_feature_names_out instead.\n",
      "  warnings.warn(msg, category=FutureWarning)\n"
     ]
    },
    {
     "data": {
      "text/plain": [
       "['access',\n",
       " 'account',\n",
       " 'company',\n",
       " 'erp',\n",
       " 'error',\n",
       " 'help',\n",
       " 'issue',\n",
       " 'login',\n",
       " 'need',\n",
       " 'outlook']"
      ]
     },
     "execution_count": 169,
     "metadata": {},
     "output_type": "execute_result"
    }
   ],
   "source": [
    "# check the vocabulary( First 15 features)\n",
    "vectorizer.get_feature_names()[:10]"
   ]
  },
  {
   "cell_type": "code",
   "execution_count": 170,
   "metadata": {},
   "outputs": [
    {
     "data": {
      "text/plain": [
       "array([0, 0, 0, ..., 0, 0, 0])"
      ]
     },
     "execution_count": 170,
     "metadata": {},
     "output_type": "execute_result"
    }
   ],
   "source": [
    "lr = LogisticRegression(solver='lbfgs', multi_class='ovr')\n",
    "ovr = OneVsRestClassifier(lr)\n",
    "\n",
    "ovr.fit(X_train_dtm, y_train)\n",
    "y_pred_ovr_test = ovr.predict(X_test_dtm)\n",
    "y_pred_ovr_test"
   ]
  },
  {
   "cell_type": "code",
   "execution_count": 171,
   "metadata": {},
   "outputs": [
    {
     "name": "stdout",
     "output_type": "stream",
     "text": [
      "0.6105629715612304\n"
     ]
    }
   ],
   "source": [
    "ovr.fit(X_train_dtm, y_train)\n",
    "pred = ovr.predict(X_test_dtm)\n",
    "print(accuracy_score(y_test, pred))\n",
    "linear_acc=accuracy_score(y_test,pred)"
   ]
  },
  {
   "cell_type": "code",
   "execution_count": 172,
   "metadata": {},
   "outputs": [
    {
     "name": "stdout",
     "output_type": "stream",
     "text": [
      "              precision    recall  f1-score   support\n",
      "\n",
      "           0       0.61      0.99      0.75      1003\n",
      "           1       0.50      0.02      0.04        51\n",
      "           2       0.00      0.00      0.00        36\n",
      "           3       0.40      0.09      0.14        23\n",
      "           4       0.00      0.00      0.00        68\n",
      "           5       0.78      0.15      0.25        48\n",
      "           6       0.00      0.00      0.00        63\n",
      "           7       0.33      0.04      0.07        26\n",
      "           8       0.00      0.00      0.00        38\n",
      "           9       0.00      0.00      0.00        18\n",
      "          10       0.93      0.51      0.66        77\n",
      "          11       0.35      0.02      0.04       272\n",
      "\n",
      "    accuracy                           0.61      1723\n",
      "   macro avg       0.32      0.15      0.16      1723\n",
      "weighted avg       0.50      0.61      0.48      1723\n",
      "\n"
     ]
    },
    {
     "name": "stderr",
     "output_type": "stream",
     "text": [
      "C:\\Users\\DELL\\anaconda6\\lib\\site-packages\\sklearn\\metrics\\_classification.py:1318: UndefinedMetricWarning: Precision and F-score are ill-defined and being set to 0.0 in labels with no predicted samples. Use `zero_division` parameter to control this behavior.\n",
      "  _warn_prf(average, modifier, msg_start, len(result))\n",
      "C:\\Users\\DELL\\anaconda6\\lib\\site-packages\\sklearn\\metrics\\_classification.py:1318: UndefinedMetricWarning: Precision and F-score are ill-defined and being set to 0.0 in labels with no predicted samples. Use `zero_division` parameter to control this behavior.\n",
      "  _warn_prf(average, modifier, msg_start, len(result))\n",
      "C:\\Users\\DELL\\anaconda6\\lib\\site-packages\\sklearn\\metrics\\_classification.py:1318: UndefinedMetricWarning: Precision and F-score are ill-defined and being set to 0.0 in labels with no predicted samples. Use `zero_division` parameter to control this behavior.\n",
      "  _warn_prf(average, modifier, msg_start, len(result))\n"
     ]
    }
   ],
   "source": [
    "print(classification_report(y_test,pred))"
   ]
  },
  {
   "cell_type": "code",
   "execution_count": 173,
   "metadata": {},
   "outputs": [
    {
     "data": {
      "image/png": "[encoded data removed]",
      "text/plain": [
       "<Figure size 720x504 with 2 Axes>"
      ]
     },
     "metadata": {},
     "output_type": "display_data"
    }
   ],
   "source": [
    "conf_mat = confusion_matrix(y_test, pred)\n",
    "df_cm = pd.DataFrame(conf_mat, index = [i for i in range(0, 12)],\n",
    "                  columns = [i for i in range(0, 12)])\n",
    "plt.figure(figsize = (10,7))\n",
    "sns.heatmap(df_cm, annot=True, fmt='g');"
   ]
  },
  {
   "cell_type": "code",
   "execution_count": 174,
   "metadata": {},
   "outputs": [
    {
     "name": "stdout",
     "output_type": "stream",
     "text": [
      "0.6094022054556006\n",
      "              precision    recall  f1-score   support\n",
      "\n",
      "           0       0.60      0.99      0.75      1003\n",
      "           1       0.00      0.00      0.00        51\n",
      "           2       0.00      0.00      0.00        36\n",
      "           3       0.00      0.00      0.00        23\n",
      "           4       0.00      0.00      0.00        68\n",
      "           5       0.78      0.15      0.25        48\n",
      "           6       0.00      0.00      0.00        63\n",
      "           7       0.33      0.04      0.07        26\n",
      "           8       0.00      0.00      0.00        38\n",
      "           9       0.00      0.00      0.00        18\n",
      "          10       0.91      0.51      0.65        77\n",
      "          11       0.40      0.02      0.04       272\n",
      "\n",
      "    accuracy                           0.61      1723\n",
      "   macro avg       0.25      0.14      0.15      1723\n",
      "weighted avg       0.48      0.61      0.48      1723\n",
      "\n"
     ]
    },
    {
     "name": "stderr",
     "output_type": "stream",
     "text": [
      "C:\\Users\\DELL\\anaconda6\\lib\\site-packages\\sklearn\\svm\\_base.py:1206: ConvergenceWarning: Liblinear failed to converge, increase the number of iterations.\n",
      "  warnings.warn(\n",
      "C:\\Users\\DELL\\anaconda6\\lib\\site-packages\\sklearn\\metrics\\_classification.py:1318: UndefinedMetricWarning: Precision and F-score are ill-defined and being set to 0.0 in labels with no predicted samples. Use `zero_division` parameter to control this behavior.\n",
      "  _warn_prf(average, modifier, msg_start, len(result))\n",
      "C:\\Users\\DELL\\anaconda6\\lib\\site-packages\\sklearn\\metrics\\_classification.py:1318: UndefinedMetricWarning: Precision and F-score are ill-defined and being set to 0.0 in labels with no predicted samples. Use `zero_division` parameter to control this behavior.\n",
      "  _warn_prf(average, modifier, msg_start, len(result))\n",
      "C:\\Users\\DELL\\anaconda6\\lib\\site-packages\\sklearn\\metrics\\_classification.py:1318: UndefinedMetricWarning: Precision and F-score are ill-defined and being set to 0.0 in labels with no predicted samples. Use `zero_division` parameter to control this behavior.\n",
      "  _warn_prf(average, modifier, msg_start, len(result))\n"
     ]
    }
   ],
   "source": [
    "from sklearn.svm import LinearSVC\n",
    "lsvc = LinearSVC()\n",
    "lsvc.fit(X_train_dtm, y_train)\n",
    "pred = lsvc.predict(X_test_dtm)\n",
    "print(accuracy_score(y_test, pred))\n",
    "SVC_acc=accuracy_score(y_test,pred)\n",
    "conf_mat = confusion_matrix(y_test, pred)\n",
    "print(classification_report(y_test,pred))"
   ]
  },
  {
   "cell_type": "code",
   "execution_count": 175,
   "metadata": {},
   "outputs": [
    {
     "data": {
      "image/png": "[encoded data removed]",
      "text/plain": [
       "<Figure size 720x504 with 2 Axes>"
      ]
     },
     "metadata": {},
     "output_type": "display_data"
    }
   ],
   "source": [
    "df_cm = pd.DataFrame(conf_mat, index = [i for i in range(0, 12)],\n",
    "                  columns = [i for i in range(0, 12)])\n",
    "plt.figure(figsize = (10,7))\n",
    "sns.heatmap(df_cm, annot=True, fmt='g');"
   ]
  },
  {
   "cell_type": "code",
   "execution_count": 176,
   "metadata": {},
   "outputs": [
    {
     "name": "stdout",
     "output_type": "stream",
     "text": [
      "0.5972141613464886\n"
     ]
    }
   ],
   "source": [
    "\n",
    "from sklearn.ensemble import RandomForestClassifier\n",
    "rfcl = RandomForestClassifier(n_estimators=150, random_state=100, bootstrap=False)\n",
    "rfcl = rfcl.fit(X_train_dtm, y_train)\n",
    "pred_RF = rfcl.predict(X_test_dtm)\n",
    "acc_RF = accuracy_score(y_test, pred_RF)\n",
    "print(acc_RF)"
   ]
  },
  {
   "cell_type": "markdown",
   "metadata": {},
   "source": [
    "Bernoullis Classifier¶"
   ]
  },
  {
   "cell_type": "code",
   "execution_count": 177,
   "metadata": {},
   "outputs": [
    {
     "name": "stdout",
     "output_type": "stream",
     "text": [
      "0.596053395240859\n",
      "[0 0 0 ... 0 0 0]\n"
     ]
    }
   ],
   "source": [
    "from sklearn.naive_bayes import BernoulliNB\n",
    "from sklearn.metrics import accuracy_score\n",
    "clf = BernoulliNB()\n",
    "clf.fit(X_train_dtm, y_train)\n",
    "pred = clf.predict(X_test_dtm)\n",
    "print(accuracy_score(y_test, pred))\n",
    "ber_acc=accuracy_score(y_test,pred)\n",
    "print(pred)"
   ]
  },
  {
   "cell_type": "code",
   "execution_count": 178,
   "metadata": {},
   "outputs": [
    {
     "name": "stdout",
     "output_type": "stream",
     "text": [
      "              precision    recall  f1-score   support\n",
      "\n",
      "           0       0.60      0.97      0.74      1003\n",
      "           1       0.00      0.00      0.00        51\n",
      "           2       0.00      0.00      0.00        36\n",
      "           3       0.50      0.09      0.15        23\n",
      "           4       0.00      0.00      0.00        68\n",
      "           5       0.29      0.17      0.21        48\n",
      "           6       0.00      0.00      0.00        63\n",
      "           7       0.00      0.00      0.00        26\n",
      "           8       0.00      0.00      0.00        38\n",
      "           9       0.00      0.00      0.00        18\n",
      "          10       0.95      0.51      0.66        77\n",
      "          11       0.15      0.01      0.02       272\n",
      "\n",
      "    accuracy                           0.60      1723\n",
      "   macro avg       0.21      0.15      0.15      1723\n",
      "weighted avg       0.43      0.60      0.47      1723\n",
      "\n"
     ]
    },
    {
     "name": "stderr",
     "output_type": "stream",
     "text": [
      "C:\\Users\\DELL\\anaconda6\\lib\\site-packages\\sklearn\\metrics\\_classification.py:1318: UndefinedMetricWarning: Precision and F-score are ill-defined and being set to 0.0 in labels with no predicted samples. Use `zero_division` parameter to control this behavior.\n",
      "  _warn_prf(average, modifier, msg_start, len(result))\n",
      "C:\\Users\\DELL\\anaconda6\\lib\\site-packages\\sklearn\\metrics\\_classification.py:1318: UndefinedMetricWarning: Precision and F-score are ill-defined and being set to 0.0 in labels with no predicted samples. Use `zero_division` parameter to control this behavior.\n",
      "  _warn_prf(average, modifier, msg_start, len(result))\n",
      "C:\\Users\\DELL\\anaconda6\\lib\\site-packages\\sklearn\\metrics\\_classification.py:1318: UndefinedMetricWarning: Precision and F-score are ill-defined and being set to 0.0 in labels with no predicted samples. Use `zero_division` parameter to control this behavior.\n",
      "  _warn_prf(average, modifier, msg_start, len(result))\n"
     ]
    }
   ],
   "source": [
    "print(classification_report(y_test,pred))"
   ]
  },
  {
   "cell_type": "code",
   "execution_count": 179,
   "metadata": {},
   "outputs": [
    {
     "data": {
      "image/png": "[encoded data removed]",
      "text/plain": [
       "<Figure size 720x504 with 2 Axes>"
      ]
     },
     "metadata": {},
     "output_type": "display_data"
    }
   ],
   "source": [
    "df_cm = pd.DataFrame(conf_mat, index = [i for i in range(0, 12)],\n",
    "                  columns = [i for i in range(0, 12)])\n",
    "plt.figure(figsize = (10,7))\n",
    "sns.heatmap(df_cm, annot=True, fmt='g');"
   ]
  },
  {
   "cell_type": "code",
   "execution_count": 180,
   "metadata": {},
   "outputs": [
    {
     "name": "stdout",
     "output_type": "stream",
     "text": [
      "Following table shows comparison of the classification algorithms: \n"
     ]
    },
    {
     "data": {
      "text/html": [
       "<div>\n",
       "<style scoped>\n",
       "    .dataframe tbody tr th:only-of-type {\n",
       "        vertical-align: middle;\n",
       "    }\n",
       "\n",
       "    .dataframe tbody tr th {\n",
       "        vertical-align: top;\n",
       "    }\n",
       "\n",
       "    .dataframe thead th {\n",
       "        text-align: right;\n",
       "    }\n",
       "</style>\n",
       "<table border=\"1\" class=\"dataframe\">\n",
       "  <thead>\n",
       "    <tr style=\"text-align: right;\">\n",
       "      <th></th>\n",
       "      <th>Classification Algorithm</th>\n",
       "      <th>Accuracy (%)</th>\n",
       "    </tr>\n",
       "  </thead>\n",
       "  <tbody>\n",
       "    <tr>\n",
       "      <th>0</th>\n",
       "      <td>Logistic Regression</td>\n",
       "      <td>61.056297</td>\n",
       "    </tr>\n",
       "    <tr>\n",
       "      <th>1</th>\n",
       "      <td>Linear SVC</td>\n",
       "      <td>60.940221</td>\n",
       "    </tr>\n",
       "    <tr>\n",
       "      <th>2</th>\n",
       "      <td>RandomForest</td>\n",
       "      <td>59.721416</td>\n",
       "    </tr>\n",
       "    <tr>\n",
       "      <th>3</th>\n",
       "      <td>Bernoullis Classifier</td>\n",
       "      <td>59.605340</td>\n",
       "    </tr>\n",
       "  </tbody>\n",
       "</table>\n",
       "</div>"
      ],
      "text/plain": [
       "  Classification Algorithm  Accuracy (%)\n",
       "0      Logistic Regression     61.056297\n",
       "1               Linear SVC     60.940221\n",
       "2             RandomForest     59.721416\n",
       "3    Bernoullis Classifier     59.605340"
      ]
     },
     "execution_count": 180,
     "metadata": {},
     "output_type": "execute_result"
    }
   ],
   "source": [
    "df_comp = pd.DataFrame({'Classification Algorithm':['Logistic Regression', 'Linear SVC', 'RandomForest', \n",
    "                                                    'Bernoullis Classifier'],'Accuracy (%)':\n",
    "                                              [linear_acc*100,SVC_acc*100,acc_RF*100,ber_acc*100]})\n",
    "\n",
    "print(\"Following table shows comparison of the classification algorithms: \")\n",
    "df_comp"
   ]
  },
  {
   "cell_type": "code",
   "execution_count": 181,
   "metadata": {},
   "outputs": [],
   "source": [
    "from sklearn.model_selection import train_test_split\n",
    "#X_tr, X_te, y_tr, y_te = train_test_split(X, y, test_size=0.20)\n",
    "X_train, X_test, y_train, y_test =  train_test_split(X, y, test_size = 0.25)"
   ]
  },
  {
   "cell_type": "code",
   "execution_count": 197,
   "metadata": {},
   "outputs": [],
   "source": [
    "#from tensorflow.keras.models import Model\n",
    "from tensorflow.keras.layers import LSTM, Embedding, Dense, TimeDistributed, Dropout, Bidirectional, Input\n",
    "\n",
    "import keras.models\n",
    "import tensorflow\n",
    "from tensorflow.keras.models import Model, Sequential\n",
    "from tensorflow.keras.models import Sequential\n",
    "from tensorflow.keras.optimizers import Adam\n",
    "from tensorflow.keras import regularizers\n",
    "from tensorflow.keras.utils import plot_model\n",
    "from tensorflow.keras.preprocessing.text import Tokenizer\n",
    "from tensorflow.keras.preprocessing.sequence import pad_sequences\n",
    "import tensorflow as tf\n",
    "from tensorflow.keras.callbacks import ModelCheckpoint, ReduceLROnPlateau\n",
    "#from keras.utils.visualize_util import plot\n"
   ]
  },
  {
   "cell_type": "code",
   "execution_count": 198,
   "metadata": {},
   "outputs": [],
   "source": [
    "#X_data = transformed_df[\"content\"]"
   ]
  },
  {
   "cell_type": "code",
   "execution_count": 202,
   "metadata": {},
   "outputs": [],
   "source": [
    "class LstmModel:\n",
    "  model= Model()\n",
    "  X_test=[]\n",
    "  y_test=[]\n",
    "  embedding_matrix=[]\n",
    "\n",
    "  def wordTokenizer(self, dataframe):\n",
    "    tokenizer = Tokenizer(num_words=numWords,filters='!\"#$%&()*+,-./:;<=>?@[\\\\]^_`{|}~\\t\\n',lower=True,split=' ', char_level=False)\n",
    "    tokenizer.fit_on_texts(dataframe)\n",
    "    dataframe = tokenizer.texts_to_sequences(dataframe)\n",
    "    return tokenizer,dataframe\n",
    "  \n",
    "  def splitData(self,X,y):\n",
    "\n",
    "    print(\"Number of Samples:\", len(X))\n",
    "    print(\"Number of Labels: \", len(y))\n",
    "    X_train, self.X_test, y_train, self.y_test = train_test_split(X, y, test_size=0.2, random_state=10) # changed by Abraham\n",
    "    X_train, X_Val, y_train, y_Val = train_test_split(X, y, test_size=0.2, random_state=10)\n",
    "    print(\"Number of train Samples:\", len(X_train))\n",
    "    print(\"Number of val Samples:\", len(X_Val))\n",
    "\n",
    "    return X_train, self.X_test, y_train, self.y_test, X_Val, y_Val\n",
    "\n",
    "  def tokenizeAndEmbedding(self,dataframe):\n",
    "    \n",
    "    tokenizer,X = self.wordTokenizer(dataframe['token_desc'])\n",
    "    y = np.asarray(dataframe['Assignment group'])\n",
    "    X = pad_sequences(X, maxlen = maxlen)\n",
    "\n",
    "    self.embedding_matrix = np.zeros((numWords+1, 100))\n",
    "    for i,word in tokenizer.index_word.items():\n",
    "      if i<numWords+1:\n",
    "        embedding_vector = embeddings_index.get(word)\n",
    "        if embedding_vector is not None:\n",
    "            self.embedding_matrix[i] = embedding_vector\n",
    "    return X,y\n",
    "\n",
    "  def train(self, dataframe, batch_size, epochs):\n",
    "   \n",
    "    X,y = self.tokenizeAndEmbedding(dataframe)\n",
    "    X_train, _, y_train, _, X_Val, y_Val = self.splitData(X,y)\n",
    "    model_history = self.fitModel(X_train,y_train,X_Val,y_Val,batch_size, epochs)\n",
    "    return model_history\n",
    "\n",
    "  def fitModel(self,X_train,y_train,X_Val,y_Val,batch_size, epochs):\n",
    "    \n",
    "    input_layer = Input(shape=(maxlen,),dtype=tf.int64)\n",
    "    embed = Embedding(numWords+1,output_dim=100,input_length=maxlen,weights=[self.embedding_matrix], trainable=True)(input_layer)  #weights=[embedding_matrix]\n",
    "    lstm=Bidirectional(LSTM(128))(embed)\n",
    "    drop=Dropout(0.3)(lstm)\n",
    "    dense =Dense(100,activation='relu')(drop)\n",
    "    out=Dense(len((pd.Series(y_train)).unique()),activation='softmax')(dense)   \n",
    "\n",
    "    self.model = Model(input_layer,out)\n",
    "    self.model.compile(loss='sparse_categorical_crossentropy',optimizer=\"adam\",metrics=['accuracy'])\n",
    "\n",
    "    self.model.summary()\n",
    "    plot_model(self.model,to_file=\"LSTM_Model.jpg\")\n",
    "\n",
    "    #checkpoint = ModelCheckpoint('model-{epoch:03d}-{val_accuracy:03f}.h5', verbose=1, monitor='val_accuracy',save_best_only=True, mode='auto') \n",
    "    #reduceLoss = ReduceLROnPlateau(monitor='val_loss', factor=0.2,patience=2, min_lr=0.0001)\n",
    "    #model_history = self.model.fit(X_train,y_train,batch_size=batch_size, epochs=epochs, callbacks=[checkpoint,reduceLoss], validation_data=(X_Val,y_Val))\n",
    "    model_history = self.model.fit(X_train,y_train,batch_size=batch_size, epochs=epochs,validation_split=0.1, verbose=1) \n",
    "    return model_history,self.model\n",
    "\n",
    "  def prediction(self):\n",
    "      \n",
    "     pred = self.model.predict(self.X_test)\n",
    "     pred = [i.argmax() for i in pred]\n",
    "     accuracy = metrics.accuracy_score(self.y_test, pred)\n",
    "     print(\"Accuracy of the model :\",metrics.accuracy_score(self.y_test, pred))\n",
    "     return accuracy\n",
    "\n",
    "  def plotModelAccuracy(self, history, modelname):\n",
    "    plt.plot(history.history['accuracy'])\n",
    "    plt.plot(history.history['val_accuracy'])\n",
    "\n",
    "    plt.title(modelname+' model accuracy')\n",
    "    plt.ylabel('accuracy')\n",
    "    plt.xlabel('epoch')\n",
    "    plt.legend(['train','test'], loc='upper left')\n",
    "    plt.show()\n",
    "\n",
    "    plt.plot(history.history['loss'])\n",
    "    plt.plot(history.history['val_loss'])\n",
    "\n",
    "    plt.title(modelname+' model loss')\n",
    "    plt.ylabel('loss')\n",
    "    plt.xlabel('epoch')\n",
    "    plt.legend(['train','test'], loc='upper left')\n",
    "    plt.show()\n"
   ]
  },
  {
   "cell_type": "code",
   "execution_count": 203,
   "metadata": {},
   "outputs": [],
   "source": [
    "maxlen = 300\n",
    "numWords=9000\n",
    "epochs = 10\n",
    "embeddings_index = dict()"
   ]
  },
  {
   "cell_type": "code",
   "execution_count": 204,
   "metadata": {},
   "outputs": [
    {
     "name": "stdout",
     "output_type": "stream",
     "text": [
      "Number of Samples: 6890\n",
      "Number of Labels:  6890\n",
      "Number of train Samples: 5512\n",
      "Number of val Samples: 1378\n",
      "Model: \"model_7\"\n",
      "_________________________________________________________________\n",
      " Layer (type)                Output Shape              Param #   \n",
      "=================================================================\n",
      " input_4 (InputLayer)        [(None, 300)]             0         \n",
      "                                                                 \n",
      " embedding_3 (Embedding)     (None, 300, 100)          900100    \n",
      "                                                                 \n",
      " bidirectional_3 (Bidirectio  (None, 256)              234496    \n",
      " nal)                                                            \n",
      "                                                                 \n",
      " dropout_3 (Dropout)         (None, 256)               0         \n",
      "                                                                 \n",
      " dense_6 (Dense)             (None, 100)               25700     \n",
      "                                                                 \n",
      " dense_7 (Dense)             (None, 12)                1212      \n",
      "                                                                 \n",
      "=================================================================\n",
      "Total params: 1,161,508\n",
      "Trainable params: 1,161,508\n",
      "Non-trainable params: 0\n",
      "_________________________________________________________________\n",
      "You must install pydot (`pip install pydot`) and install graphviz (see instructions at https://graphviz.gitlab.io/download/) for plot_model/model_to_dot to work.\n",
      "Epoch 1/10\n"
     ]
    },
    {
     "ename": "UnimplementedError",
     "evalue": "Graph execution error:\n\nDetected at node 'Cast_1' defined at (most recent call last):\n    File \"C:\\Users\\DELL\\anaconda6\\lib\\runpy.py\", line 197, in _run_module_as_main\n      return _run_code(code, main_globals, None,\n    File \"C:\\Users\\DELL\\anaconda6\\lib\\runpy.py\", line 87, in _run_code\n      exec(code, run_globals)\n    File \"C:\\Users\\DELL\\AppData\\Roaming\\Python\\Python39\\site-packages\\ipykernel_launcher.py\", line 16, in <module>\n      app.launch_new_instance()\n    File \"C:\\Users\\DELL\\AppData\\Roaming\\Python\\Python39\\site-packages\\traitlets\\config\\application.py\", line 846, in launch_instance\n      app.start()\n    File \"C:\\Users\\DELL\\AppData\\Roaming\\Python\\Python39\\site-packages\\ipykernel\\kernelapp.py\", line 677, in start\n      self.io_loop.start()\n    File \"C:\\Users\\DELL\\AppData\\Roaming\\Python\\Python39\\site-packages\\tornado\\platform\\asyncio.py\", line 199, in start\n      self.asyncio_loop.run_forever()\n    File \"C:\\Users\\DELL\\anaconda6\\lib\\asyncio\\base_events.py\", line 596, in run_forever\n      self._run_once()\n    File \"C:\\Users\\DELL\\anaconda6\\lib\\asyncio\\base_events.py\", line 1890, in _run_once\n      handle._run()\n    File \"C:\\Users\\DELL\\anaconda6\\lib\\asyncio\\events.py\", line 80, in _run\n      self._context.run(self._callback, *self._args)\n    File \"C:\\Users\\DELL\\AppData\\Roaming\\Python\\Python39\\site-packages\\ipykernel\\kernelbase.py\", line 461, in dispatch_queue\n      await self.process_one()\n    File \"C:\\Users\\DELL\\AppData\\Roaming\\Python\\Python39\\site-packages\\ipykernel\\kernelbase.py\", line 450, in process_one\n      await dispatch(*args)\n    File \"C:\\Users\\DELL\\AppData\\Roaming\\Python\\Python39\\site-packages\\ipykernel\\kernelbase.py\", line 357, in dispatch_shell\n      await result\n    File \"C:\\Users\\DELL\\AppData\\Roaming\\Python\\Python39\\site-packages\\ipykernel\\kernelbase.py\", line 652, in execute_request\n      reply_content = await reply_content\n    File \"C:\\Users\\DELL\\AppData\\Roaming\\Python\\Python39\\site-packages\\ipykernel\\ipkernel.py\", line 359, in do_execute\n      res = shell.run_cell(code, store_history=store_history, silent=silent)\n    File \"C:\\Users\\DELL\\AppData\\Roaming\\Python\\Python39\\site-packages\\ipykernel\\zmqshell.py\", line 532, in run_cell\n      return super().run_cell(*args, **kwargs)\n    File \"C:\\Users\\DELL\\AppData\\Roaming\\Python\\Python39\\site-packages\\IPython\\core\\interactiveshell.py\", line 2768, in run_cell\n      result = self._run_cell(\n    File \"C:\\Users\\DELL\\AppData\\Roaming\\Python\\Python39\\site-packages\\IPython\\core\\interactiveshell.py\", line 2814, in _run_cell\n      return runner(coro)\n    File \"C:\\Users\\DELL\\AppData\\Roaming\\Python\\Python39\\site-packages\\IPython\\core\\async_helpers.py\", line 129, in _pseudo_sync_runner\n      coro.send(None)\n    File \"C:\\Users\\DELL\\AppData\\Roaming\\Python\\Python39\\site-packages\\IPython\\core\\interactiveshell.py\", line 3012, in run_cell_async\n      has_raised = await self.run_ast_nodes(code_ast.body, cell_name,\n    File \"C:\\Users\\DELL\\AppData\\Roaming\\Python\\Python39\\site-packages\\IPython\\core\\interactiveshell.py\", line 3191, in run_ast_nodes\n      if await self.run_code(code, result, async_=asy):\n    File \"C:\\Users\\DELL\\AppData\\Roaming\\Python\\Python39\\site-packages\\IPython\\core\\interactiveshell.py\", line 3251, in run_code\n      exec(code_obj, self.user_global_ns, self.user_ns)\n    File \"C:\\Users\\DELL\\AppData\\Local\\Temp\\ipykernel_7240\\1653421364.py\", line 3, in <module>\n      lstmModelRawData_history, model = lstmModelRawData.train(df_inc_sample,100,epochs)\n    File \"C:\\Users\\DELL\\AppData\\Local\\Temp\\ipykernel_7240\\844135606.py\", line 42, in train\n      model_history = self.fitModel(X_train,y_train,X_Val,y_Val,batch_size, epochs)\n    File \"C:\\Users\\DELL\\AppData\\Local\\Temp\\ipykernel_7240\\844135606.py\", line 63, in fitModel\n      model_history = self.model.fit(X_train,y_train,batch_size=batch_size, epochs=epochs,validation_split=0.1, verbose=1)\n    File \"C:\\Users\\DELL\\anaconda6\\lib\\site-packages\\keras\\utils\\traceback_utils.py\", line 64, in error_handler\n      return fn(*args, **kwargs)\n    File \"C:\\Users\\DELL\\anaconda6\\lib\\site-packages\\keras\\engine\\training.py\", line 1384, in fit\n      tmp_logs = self.train_function(iterator)\n    File \"C:\\Users\\DELL\\anaconda6\\lib\\site-packages\\keras\\engine\\training.py\", line 1021, in train_function\n      return step_function(self, iterator)\n    File \"C:\\Users\\DELL\\anaconda6\\lib\\site-packages\\keras\\engine\\training.py\", line 1010, in step_function\n      outputs = model.distribute_strategy.run(run_step, args=(data,))\n    File \"C:\\Users\\DELL\\anaconda6\\lib\\site-packages\\keras\\engine\\training.py\", line 1000, in run_step\n      outputs = model.train_step(data)\n    File \"C:\\Users\\DELL\\anaconda6\\lib\\site-packages\\keras\\engine\\training.py\", line 864, in train_step\n      return self.compute_metrics(x, y, y_pred, sample_weight)\n    File \"C:\\Users\\DELL\\anaconda6\\lib\\site-packages\\keras\\engine\\training.py\", line 957, in compute_metrics\n      self.compiled_metrics.update_state(y, y_pred, sample_weight)\n    File \"C:\\Users\\DELL\\anaconda6\\lib\\site-packages\\keras\\engine\\compile_utils.py\", line 459, in update_state\n      metric_obj.update_state(y_t, y_p, sample_weight=mask)\n    File \"C:\\Users\\DELL\\anaconda6\\lib\\site-packages\\keras\\utils\\metrics_utils.py\", line 70, in decorated\n      update_op = update_state_fn(*args, **kwargs)\n    File \"C:\\Users\\DELL\\anaconda6\\lib\\site-packages\\keras\\metrics.py\", line 178, in update_state_fn\n      return ag_update_state(*args, **kwargs)\n    File \"C:\\Users\\DELL\\anaconda6\\lib\\site-packages\\keras\\metrics.py\", line 720, in update_state\n      y_true = tf.cast(y_true, self._dtype)\nNode: 'Cast_1'\nCast string to float is not supported\n\t [[{{node Cast_1}}]] [Op:__inference_train_function_22633]",
     "output_type": "error",
     "traceback": [
      "\u001b[1;31m---------------------------------------------------------------------------\u001b[0m",
      "\u001b[1;31mUnimplementedError\u001b[0m                        Traceback (most recent call last)",
      "Input \u001b[1;32mIn [204]\u001b[0m, in \u001b[0;36m<module>\u001b[1;34m\u001b[0m\n\u001b[0;32m      1\u001b[0m \u001b[38;5;66;03m# Check how the LSTM Model perform with the cleansed data\u001b[39;00m\n\u001b[0;32m      2\u001b[0m lstmModelRawData \u001b[38;5;241m=\u001b[39m LstmModel()\n\u001b[1;32m----> 3\u001b[0m lstmModelRawData_history, model \u001b[38;5;241m=\u001b[39m \u001b[43mlstmModelRawData\u001b[49m\u001b[38;5;241;43m.\u001b[39;49m\u001b[43mtrain\u001b[49m\u001b[43m(\u001b[49m\u001b[43mdf_inc_sample\u001b[49m\u001b[43m,\u001b[49m\u001b[38;5;241;43m100\u001b[39;49m\u001b[43m,\u001b[49m\u001b[43mepochs\u001b[49m\u001b[43m)\u001b[49m\n\u001b[0;32m      4\u001b[0m rawData_accuracy \u001b[38;5;241m=\u001b[39m lstmModelRawData\u001b[38;5;241m.\u001b[39mprediction()\n",
      "Input \u001b[1;32mIn [202]\u001b[0m, in \u001b[0;36mLstmModel.train\u001b[1;34m(self, dataframe, batch_size, epochs)\u001b[0m\n\u001b[0;32m     40\u001b[0m X,y \u001b[38;5;241m=\u001b[39m \u001b[38;5;28mself\u001b[39m\u001b[38;5;241m.\u001b[39mtokenizeAndEmbedding(dataframe)\n\u001b[0;32m     41\u001b[0m X_train, _, y_train, _, X_Val, y_Val \u001b[38;5;241m=\u001b[39m \u001b[38;5;28mself\u001b[39m\u001b[38;5;241m.\u001b[39msplitData(X,y)\n\u001b[1;32m---> 42\u001b[0m model_history \u001b[38;5;241m=\u001b[39m \u001b[38;5;28;43mself\u001b[39;49m\u001b[38;5;241;43m.\u001b[39;49m\u001b[43mfitModel\u001b[49m\u001b[43m(\u001b[49m\u001b[43mX_train\u001b[49m\u001b[43m,\u001b[49m\u001b[43my_train\u001b[49m\u001b[43m,\u001b[49m\u001b[43mX_Val\u001b[49m\u001b[43m,\u001b[49m\u001b[43my_Val\u001b[49m\u001b[43m,\u001b[49m\u001b[43mbatch_size\u001b[49m\u001b[43m,\u001b[49m\u001b[43m \u001b[49m\u001b[43mepochs\u001b[49m\u001b[43m)\u001b[49m\n\u001b[0;32m     43\u001b[0m \u001b[38;5;28;01mreturn\u001b[39;00m model_history\n",
      "Input \u001b[1;32mIn [202]\u001b[0m, in \u001b[0;36mLstmModel.fitModel\u001b[1;34m(self, X_train, y_train, X_Val, y_Val, batch_size, epochs)\u001b[0m\n\u001b[0;32m     58\u001b[0m plot_model(\u001b[38;5;28mself\u001b[39m\u001b[38;5;241m.\u001b[39mmodel,to_file\u001b[38;5;241m=\u001b[39m\u001b[38;5;124m\"\u001b[39m\u001b[38;5;124mLSTM_Model.jpg\u001b[39m\u001b[38;5;124m\"\u001b[39m)\n\u001b[0;32m     60\u001b[0m \u001b[38;5;66;03m#checkpoint = ModelCheckpoint('model-{epoch:03d}-{val_accuracy:03f}.h5', verbose=1, monitor='val_accuracy',save_best_only=True, mode='auto') \u001b[39;00m\n\u001b[0;32m     61\u001b[0m \u001b[38;5;66;03m#reduceLoss = ReduceLROnPlateau(monitor='val_loss', factor=0.2,patience=2, min_lr=0.0001)\u001b[39;00m\n\u001b[0;32m     62\u001b[0m \u001b[38;5;66;03m#model_history = self.model.fit(X_train,y_train,batch_size=batch_size, epochs=epochs, callbacks=[checkpoint,reduceLoss], validation_data=(X_Val,y_Val))\u001b[39;00m\n\u001b[1;32m---> 63\u001b[0m model_history \u001b[38;5;241m=\u001b[39m \u001b[38;5;28;43mself\u001b[39;49m\u001b[38;5;241;43m.\u001b[39;49m\u001b[43mmodel\u001b[49m\u001b[38;5;241;43m.\u001b[39;49m\u001b[43mfit\u001b[49m\u001b[43m(\u001b[49m\u001b[43mX_train\u001b[49m\u001b[43m,\u001b[49m\u001b[43my_train\u001b[49m\u001b[43m,\u001b[49m\u001b[43mbatch_size\u001b[49m\u001b[38;5;241;43m=\u001b[39;49m\u001b[43mbatch_size\u001b[49m\u001b[43m,\u001b[49m\u001b[43m \u001b[49m\u001b[43mepochs\u001b[49m\u001b[38;5;241;43m=\u001b[39;49m\u001b[43mepochs\u001b[49m\u001b[43m,\u001b[49m\u001b[43mvalidation_split\u001b[49m\u001b[38;5;241;43m=\u001b[39;49m\u001b[38;5;241;43m0.1\u001b[39;49m\u001b[43m,\u001b[49m\u001b[43m \u001b[49m\u001b[43mverbose\u001b[49m\u001b[38;5;241;43m=\u001b[39;49m\u001b[38;5;241;43m1\u001b[39;49m\u001b[43m)\u001b[49m \n\u001b[0;32m     64\u001b[0m \u001b[38;5;28;01mreturn\u001b[39;00m model_history,\u001b[38;5;28mself\u001b[39m\u001b[38;5;241m.\u001b[39mmodel\n",
      "File \u001b[1;32m~\\anaconda6\\lib\\site-packages\\keras\\utils\\traceback_utils.py:67\u001b[0m, in \u001b[0;36mfilter_traceback.<locals>.error_handler\u001b[1;34m(*args, **kwargs)\u001b[0m\n\u001b[0;32m     65\u001b[0m \u001b[38;5;28;01mexcept\u001b[39;00m \u001b[38;5;167;01mException\u001b[39;00m \u001b[38;5;28;01mas\u001b[39;00m e:  \u001b[38;5;66;03m# pylint: disable=broad-except\u001b[39;00m\n\u001b[0;32m     66\u001b[0m   filtered_tb \u001b[38;5;241m=\u001b[39m _process_traceback_frames(e\u001b[38;5;241m.\u001b[39m__traceback__)\n\u001b[1;32m---> 67\u001b[0m   \u001b[38;5;28;01mraise\u001b[39;00m e\u001b[38;5;241m.\u001b[39mwith_traceback(filtered_tb) \u001b[38;5;28;01mfrom\u001b[39;00m \u001b[38;5;28mNone\u001b[39m\n\u001b[0;32m     68\u001b[0m \u001b[38;5;28;01mfinally\u001b[39;00m:\n\u001b[0;32m     69\u001b[0m   \u001b[38;5;28;01mdel\u001b[39;00m filtered_tb\n",
      "File \u001b[1;32m~\\anaconda6\\lib\\site-packages\\tensorflow\\python\\eager\\execute.py:54\u001b[0m, in \u001b[0;36mquick_execute\u001b[1;34m(op_name, num_outputs, inputs, attrs, ctx, name)\u001b[0m\n\u001b[0;32m     52\u001b[0m \u001b[38;5;28;01mtry\u001b[39;00m:\n\u001b[0;32m     53\u001b[0m   ctx\u001b[38;5;241m.\u001b[39mensure_initialized()\n\u001b[1;32m---> 54\u001b[0m   tensors \u001b[38;5;241m=\u001b[39m pywrap_tfe\u001b[38;5;241m.\u001b[39mTFE_Py_Execute(ctx\u001b[38;5;241m.\u001b[39m_handle, device_name, op_name,\n\u001b[0;32m     55\u001b[0m                                       inputs, attrs, num_outputs)\n\u001b[0;32m     56\u001b[0m \u001b[38;5;28;01mexcept\u001b[39;00m core\u001b[38;5;241m.\u001b[39m_NotOkStatusException \u001b[38;5;28;01mas\u001b[39;00m e:\n\u001b[0;32m     57\u001b[0m   \u001b[38;5;28;01mif\u001b[39;00m name \u001b[38;5;129;01mis\u001b[39;00m \u001b[38;5;129;01mnot\u001b[39;00m \u001b[38;5;28;01mNone\u001b[39;00m:\n",
      "\u001b[1;31mUnimplementedError\u001b[0m: Graph execution error:\n\nDetected at node 'Cast_1' defined at (most recent call last):\n    File \"C:\\Users\\DELL\\anaconda6\\lib\\runpy.py\", line 197, in _run_module_as_main\n      return _run_code(code, main_globals, None,\n    File \"C:\\Users\\DELL\\anaconda6\\lib\\runpy.py\", line 87, in _run_code\n      exec(code, run_globals)\n    File \"C:\\Users\\DELL\\AppData\\Roaming\\Python\\Python39\\site-packages\\ipykernel_launcher.py\", line 16, in <module>\n      app.launch_new_instance()\n    File \"C:\\Users\\DELL\\AppData\\Roaming\\Python\\Python39\\site-packages\\traitlets\\config\\application.py\", line 846, in launch_instance\n      app.start()\n    File \"C:\\Users\\DELL\\AppData\\Roaming\\Python\\Python39\\site-packages\\ipykernel\\kernelapp.py\", line 677, in start\n      self.io_loop.start()\n    File \"C:\\Users\\DELL\\AppData\\Roaming\\Python\\Python39\\site-packages\\tornado\\platform\\asyncio.py\", line 199, in start\n      self.asyncio_loop.run_forever()\n    File \"C:\\Users\\DELL\\anaconda6\\lib\\asyncio\\base_events.py\", line 596, in run_forever\n      self._run_once()\n    File \"C:\\Users\\DELL\\anaconda6\\lib\\asyncio\\base_events.py\", line 1890, in _run_once\n      handle._run()\n    File \"C:\\Users\\DELL\\anaconda6\\lib\\asyncio\\events.py\", line 80, in _run\n      self._context.run(self._callback, *self._args)\n    File \"C:\\Users\\DELL\\AppData\\Roaming\\Python\\Python39\\site-packages\\ipykernel\\kernelbase.py\", line 461, in dispatch_queue\n      await self.process_one()\n    File \"C:\\Users\\DELL\\AppData\\Roaming\\Python\\Python39\\site-packages\\ipykernel\\kernelbase.py\", line 450, in process_one\n      await dispatch(*args)\n    File \"C:\\Users\\DELL\\AppData\\Roaming\\Python\\Python39\\site-packages\\ipykernel\\kernelbase.py\", line 357, in dispatch_shell\n      await result\n    File \"C:\\Users\\DELL\\AppData\\Roaming\\Python\\Python39\\site-packages\\ipykernel\\kernelbase.py\", line 652, in execute_request\n      reply_content = await reply_content\n    File \"C:\\Users\\DELL\\AppData\\Roaming\\Python\\Python39\\site-packages\\ipykernel\\ipkernel.py\", line 359, in do_execute\n      res = shell.run_cell(code, store_history=store_history, silent=silent)\n    File \"C:\\Users\\DELL\\AppData\\Roaming\\Python\\Python39\\site-packages\\ipykernel\\zmqshell.py\", line 532, in run_cell\n      return super().run_cell(*args, **kwargs)\n    File \"C:\\Users\\DELL\\AppData\\Roaming\\Python\\Python39\\site-packages\\IPython\\core\\interactiveshell.py\", line 2768, in run_cell\n      result = self._run_cell(\n    File \"C:\\Users\\DELL\\AppData\\Roaming\\Python\\Python39\\site-packages\\IPython\\core\\interactiveshell.py\", line 2814, in _run_cell\n      return runner(coro)\n    File \"C:\\Users\\DELL\\AppData\\Roaming\\Python\\Python39\\site-packages\\IPython\\core\\async_helpers.py\", line 129, in _pseudo_sync_runner\n      coro.send(None)\n    File \"C:\\Users\\DELL\\AppData\\Roaming\\Python\\Python39\\site-packages\\IPython\\core\\interactiveshell.py\", line 3012, in run_cell_async\n      has_raised = await self.run_ast_nodes(code_ast.body, cell_name,\n    File \"C:\\Users\\DELL\\AppData\\Roaming\\Python\\Python39\\site-packages\\IPython\\core\\interactiveshell.py\", line 3191, in run_ast_nodes\n      if await self.run_code(code, result, async_=asy):\n    File \"C:\\Users\\DELL\\AppData\\Roaming\\Python\\Python39\\site-packages\\IPython\\core\\interactiveshell.py\", line 3251, in run_code\n      exec(code_obj, self.user_global_ns, self.user_ns)\n    File \"C:\\Users\\DELL\\AppData\\Local\\Temp\\ipykernel_7240\\1653421364.py\", line 3, in <module>\n      lstmModelRawData_history, model = lstmModelRawData.train(df_inc_sample,100,epochs)\n    File \"C:\\Users\\DELL\\AppData\\Local\\Temp\\ipykernel_7240\\844135606.py\", line 42, in train\n      model_history = self.fitModel(X_train,y_train,X_Val,y_Val,batch_size, epochs)\n    File \"C:\\Users\\DELL\\AppData\\Local\\Temp\\ipykernel_7240\\844135606.py\", line 63, in fitModel\n      model_history = self.model.fit(X_train,y_train,batch_size=batch_size, epochs=epochs,validation_split=0.1, verbose=1)\n    File \"C:\\Users\\DELL\\anaconda6\\lib\\site-packages\\keras\\utils\\traceback_utils.py\", line 64, in error_handler\n      return fn(*args, **kwargs)\n    File \"C:\\Users\\DELL\\anaconda6\\lib\\site-packages\\keras\\engine\\training.py\", line 1384, in fit\n      tmp_logs = self.train_function(iterator)\n    File \"C:\\Users\\DELL\\anaconda6\\lib\\site-packages\\keras\\engine\\training.py\", line 1021, in train_function\n      return step_function(self, iterator)\n    File \"C:\\Users\\DELL\\anaconda6\\lib\\site-packages\\keras\\engine\\training.py\", line 1010, in step_function\n      outputs = model.distribute_strategy.run(run_step, args=(data,))\n    File \"C:\\Users\\DELL\\anaconda6\\lib\\site-packages\\keras\\engine\\training.py\", line 1000, in run_step\n      outputs = model.train_step(data)\n    File \"C:\\Users\\DELL\\anaconda6\\lib\\site-packages\\keras\\engine\\training.py\", line 864, in train_step\n      return self.compute_metrics(x, y, y_pred, sample_weight)\n    File \"C:\\Users\\DELL\\anaconda6\\lib\\site-packages\\keras\\engine\\training.py\", line 957, in compute_metrics\n      self.compiled_metrics.update_state(y, y_pred, sample_weight)\n    File \"C:\\Users\\DELL\\anaconda6\\lib\\site-packages\\keras\\engine\\compile_utils.py\", line 459, in update_state\n      metric_obj.update_state(y_t, y_p, sample_weight=mask)\n    File \"C:\\Users\\DELL\\anaconda6\\lib\\site-packages\\keras\\utils\\metrics_utils.py\", line 70, in decorated\n      update_op = update_state_fn(*args, **kwargs)\n    File \"C:\\Users\\DELL\\anaconda6\\lib\\site-packages\\keras\\metrics.py\", line 178, in update_state_fn\n      return ag_update_state(*args, **kwargs)\n    File \"C:\\Users\\DELL\\anaconda6\\lib\\site-packages\\keras\\metrics.py\", line 720, in update_state\n      y_true = tf.cast(y_true, self._dtype)\nNode: 'Cast_1'\nCast string to float is not supported\n\t [[{{node Cast_1}}]] [Op:__inference_train_function_22633]"
     ]
    }
   ],
   "source": [
    "# Check how the LSTM Model perform with the cleansed data\n",
    "lstmModelRawData = LstmModel()\n",
    "lstmModelRawData_history, model = lstmModelRawData.train(df_inc_sample,100,epochs)\n",
    "rawData_accuracy = lstmModelRawData.prediction()"
   ]
  },
  {
   "cell_type": "code",
   "execution_count": 206,
   "metadata": {},
   "outputs": [
    {
     "data": {
      "text/html": [
       "<div>\n",
       "<style scoped>\n",
       "    .dataframe tbody tr th:only-of-type {\n",
       "        vertical-align: middle;\n",
       "    }\n",
       "\n",
       "    .dataframe tbody tr th {\n",
       "        vertical-align: top;\n",
       "    }\n",
       "\n",
       "    .dataframe thead th {\n",
       "        text-align: right;\n",
       "    }\n",
       "</style>\n",
       "<table border=\"1\" class=\"dataframe\">\n",
       "  <thead>\n",
       "    <tr style=\"text-align: right;\">\n",
       "      <th></th>\n",
       "      <th>Short description</th>\n",
       "      <th>Caller</th>\n",
       "      <th>Assignment group</th>\n",
       "      <th>RawDescription</th>\n",
       "      <th>English_Description</th>\n",
       "      <th>RawWordCount</th>\n",
       "      <th>cleaned_description</th>\n",
       "      <th>number_of_words</th>\n",
       "      <th>words</th>\n",
       "      <th>word_count</th>\n",
       "      <th>char_counts</th>\n",
       "      <th>Digits_count</th>\n",
       "      <th>Avg_word_Count</th>\n",
       "      <th>token_desc</th>\n",
       "    </tr>\n",
       "  </thead>\n",
       "  <tbody>\n",
       "    <tr>\n",
       "      <th>2353</th>\n",
       "      <td>locked out of poruxnwb yfaqhceo</td>\n",
       "      <td>hwbukcsm hwobikcv</td>\n",
       "      <td>Others</td>\n",
       "      <td>_x000D_ hi there,_x000D_ _x000D_ i tried chan...</td>\n",
       "      <td>received from hwbukcsmhwobikcvgmailcom_x000D__...</td>\n",
       "      <td>84</td>\n",
       "      <td>hwbukcsmhwobikcvgmailcom d d there d d tried ...</td>\n",
       "      <td>50</td>\n",
       "      <td>[there, tried, changing, password, poruxnwb, y...</td>\n",
       "      <td>50</td>\n",
       "      <td>256</td>\n",
       "      <td>0</td>\n",
       "      <td>0.195312</td>\n",
       "      <td>hwbukcsmhwobikcvgmailcom d d there d d tried c...</td>\n",
       "    </tr>\n",
       "    <tr>\n",
       "      <th>5181</th>\n",
       "      <td>account unlock</td>\n",
       "      <td>pdvjanwx oprdiygs</td>\n",
       "      <td>GRP_0</td>\n",
       "      <td>account unlock</td>\n",
       "      <td>account unlock</td>\n",
       "      <td>2</td>\n",
       "      <td>account unlock</td>\n",
       "      <td>2</td>\n",
       "      <td>[account, unlock]</td>\n",
       "      <td>2</td>\n",
       "      <td>13</td>\n",
       "      <td>0</td>\n",
       "      <td>0.153846</td>\n",
       "      <td>account unlock</td>\n",
       "    </tr>\n",
       "    <tr>\n",
       "      <th>5713</th>\n",
       "      <td>windows user id</td>\n",
       "      <td>ilbkhgxd hirsqytd</td>\n",
       "      <td>GRP_0</td>\n",
       "      <td>help desk please provide the windows user id...</td>\n",
       "      <td>received from ilbkhgxdhirsqytdgmailcomhelp des...</td>\n",
       "      <td>18</td>\n",
       "      <td>ilbkhgxdrsqytdgmailcomhelp desk provide windo...</td>\n",
       "      <td>9</td>\n",
       "      <td>[desk, provide, windows, user, useruser, gb, y...</td>\n",
       "      <td>9</td>\n",
       "      <td>72</td>\n",
       "      <td>0</td>\n",
       "      <td>0.125000</td>\n",
       "      <td>ilbkhgxdrsqytdgmailcomhelp desk provide window...</td>\n",
       "    </tr>\n",
       "    <tr>\n",
       "      <th>8061</th>\n",
       "      <td>my symantec management agent is disabled</td>\n",
       "      <td>yvjdluhk hmcpvtdj</td>\n",
       "      <td>Others</td>\n",
       "      <td>my symantec management agent is disabled</td>\n",
       "      <td>my symantec management agent is disabled</td>\n",
       "      <td>6</td>\n",
       "      <td>symantec management agent disabled</td>\n",
       "      <td>4</td>\n",
       "      <td>[symantec, management, agent, disabled]</td>\n",
       "      <td>4</td>\n",
       "      <td>31</td>\n",
       "      <td>0</td>\n",
       "      <td>0.129032</td>\n",
       "      <td>symantec management agent disabled</td>\n",
       "    </tr>\n",
       "    <tr>\n",
       "      <th>7247</th>\n",
       "      <td>erp logon not possible after the error , multi...</td>\n",
       "      <td>mcytlpva jutxbdor</td>\n",
       "      <td>GRP_0</td>\n",
       "      <td>please see the error message attached</td>\n",
       "      <td>please see the error message attached</td>\n",
       "      <td>7</td>\n",
       "      <td>error message attached</td>\n",
       "      <td>3</td>\n",
       "      <td>[error, message, attached]</td>\n",
       "      <td>3</td>\n",
       "      <td>20</td>\n",
       "      <td>0</td>\n",
       "      <td>0.150000</td>\n",
       "      <td>error message attached</td>\n",
       "    </tr>\n",
       "  </tbody>\n",
       "</table>\n",
       "</div>"
      ],
      "text/plain": [
       "                                      Short description             Caller  \\\n",
       "2353                    locked out of poruxnwb yfaqhceo  hwbukcsm hwobikcv   \n",
       "5181                                     account unlock  pdvjanwx oprdiygs   \n",
       "5713                                    windows user id  ilbkhgxd hirsqytd   \n",
       "8061           my symantec management agent is disabled  yvjdluhk hmcpvtdj   \n",
       "7247  erp logon not possible after the error , multi...  mcytlpva jutxbdor   \n",
       "\n",
       "     Assignment group                                     RawDescription  \\\n",
       "2353           Others   _x000D_ hi there,_x000D_ _x000D_ i tried chan...   \n",
       "5181            GRP_0                                     account unlock   \n",
       "5713            GRP_0    help desk please provide the windows user id...   \n",
       "8061           Others           my symantec management agent is disabled   \n",
       "7247            GRP_0             please see the error message attached    \n",
       "\n",
       "                                    English_Description  RawWordCount  \\\n",
       "2353  received from hwbukcsmhwobikcvgmailcom_x000D__...            84   \n",
       "5181                                     account unlock             2   \n",
       "5713  received from ilbkhgxdhirsqytdgmailcomhelp des...            18   \n",
       "8061           my symantec management agent is disabled             6   \n",
       "7247             please see the error message attached              7   \n",
       "\n",
       "                                    cleaned_description  number_of_words  \\\n",
       "2353   hwbukcsmhwobikcvgmailcom d d there d d tried ...               50   \n",
       "5181                                     account unlock                2   \n",
       "5713   ilbkhgxdrsqytdgmailcomhelp desk provide windo...                9   \n",
       "8061                 symantec management agent disabled                4   \n",
       "7247                             error message attached                3   \n",
       "\n",
       "                                                  words  word_count  \\\n",
       "2353  [there, tried, changing, password, poruxnwb, y...          50   \n",
       "5181                                  [account, unlock]           2   \n",
       "5713  [desk, provide, windows, user, useruser, gb, y...           9   \n",
       "8061            [symantec, management, agent, disabled]           4   \n",
       "7247                         [error, message, attached]           3   \n",
       "\n",
       "      char_counts  Digits_count  Avg_word_Count  \\\n",
       "2353          256             0        0.195312   \n",
       "5181           13             0        0.153846   \n",
       "5713           72             0        0.125000   \n",
       "8061           31             0        0.129032   \n",
       "7247           20             0        0.150000   \n",
       "\n",
       "                                             token_desc  \n",
       "2353  hwbukcsmhwobikcvgmailcom d d there d d tried c...  \n",
       "5181                                     account unlock  \n",
       "5713  ilbkhgxdrsqytdgmailcomhelp desk provide window...  \n",
       "8061                 symantec management agent disabled  \n",
       "7247                             error message attached  "
      ]
     },
     "execution_count": 206,
     "metadata": {},
     "output_type": "execute_result"
    }
   ],
   "source": [
    "new_df.sample(5)"
   ]
  },
  {
   "cell_type": "code",
   "execution_count": 214,
   "metadata": {},
   "outputs": [],
   "source": [
    "vocab_size = 10000\n",
    "batch_size = 32\n",
    "epochs = 4\n",
    "max_len = 25\n",
    "\n",
    "#train_df = pd.read_csv('train.csv')\n",
    "#test_df = pd.read_csv('test.csv')\n",
    "\n",
    "def clean_text(text):\n",
    "    text = re.sub(r'https?://\\S+|www.\\S+', '', text)\n",
    "    text = re.sub(r'[^a-zA-Z]', ' ', text)\n",
    "    #text = text.lower()\n",
    "    text = text.split()\n",
    "    text = [word for word in text if not word in set(nltk.corpus.stopwords.words('english'))]\n",
    "    text = ' '.join(text)\n",
    "    return text\n",
    "\n",
    "new_df['Cleaned_Description'] = new_df['cleaned_description'].apply(lambda x: clean_text(x))\n",
    "\n"
   ]
  },
  {
   "cell_type": "code",
   "execution_count": 216,
   "metadata": {},
   "outputs": [
    {
     "data": {
      "text/plain": [
       "<bound method DataFrame.info of                                       Short description             Caller  \\\n",
       "0                                           login issue  spxjnwir pjlcoqds   \n",
       "1                                               outlook  hmjdrvpb komuaywn   \n",
       "2                                    cant log in to vpn  eylqgodm ybqkwiam   \n",
       "3                         unable to access hr_tool page  xbkucsvz gcpydteq   \n",
       "4                                          skype error   owlgqjme qhcozdfx   \n",
       "...                                                 ...                ...   \n",
       "8495                  emails not coming in from zz mail  avglmrts vhqmtiua   \n",
       "8496                           telephony_software issue  rbozivdq gmlhrtvp   \n",
       "8497  vip2: windows password reset for tifpdchb pedx...  oybwdsgx oxyhwrfz   \n",
       "8498                     machine nÃ£o estÃ¡ funcionando  ufawcgob aowhxjky   \n",
       "8499  an mehreren pc`s lassen sich verschiedene prgr...  kqvbrspl jyzoklfx   \n",
       "\n",
       "     Assignment group                                     RawDescription  \\\n",
       "0               GRP_0  -verified user details.(employee# & manager na...   \n",
       "1               GRP_0  _x000D_ _x000D_  _x000D_ hello team,_x000D_ _x...   \n",
       "2               GRP_0  _x000D_ _x000D_  _x000D_ hi_x000D_ _x000D_ i c...   \n",
       "3               GRP_0                      unable to access hr_tool page   \n",
       "4               GRP_0                                       skype error    \n",
       "...               ...                                                ...   \n",
       "8495           GRP_29  _x000D_ _x000D_  _x000D_ good afternoon,_x000D...   \n",
       "8496            GRP_0                           telephony_software issue   \n",
       "8497            GRP_0  vip2: windows password reset for tifpdchb pedx...   \n",
       "8498           Others  i am unable to access the machine utilities to...   \n",
       "8499           Others  an mehreren pc`s lassen sich verschiedene prgr...   \n",
       "\n",
       "                                    English_Description  RawWordCount  \\\n",
       "0     verified user detailsemployee manager name_x00...            29   \n",
       "1     _x000D__x000D_received from hmjdrvpbkomuaywngm...            23   \n",
       "2     _x000D__x000D_received from eylqgodmybqkwiamgm...             9   \n",
       "3                         unable to access hr_tool page             5   \n",
       "4                                          skype error              3   \n",
       "...                                                 ...           ...   \n",
       "8495  _x000D__x000D_received from avglmrtsvhqmtiuagm...            16   \n",
       "8496                           telephony_software issue             2   \n",
       "8497  vip2 windows password reset for tifpdchb pedxruyf             7   \n",
       "8498  i am unable to access the machine utilities to...            16   \n",
       "8499  an mehreren pcs lassen sich verschiedene prgra...            11   \n",
       "\n",
       "                                    cleaned_description  number_of_words  \\\n",
       "0     verified user detailsemployee manager name d c...               23   \n",
       "1      d d hmjdrvpbkomuaywngmailcom d d team d d mee...               19   \n",
       "2      d d eylqgodmybqkwiamgmailcom d d d d log vpn ...               11   \n",
       "3                               unable access tool page                4   \n",
       "4                                           skype error                2   \n",
       "...                                                 ...              ...   \n",
       "8495   d d avglmrtsvhqmtiuagmailcom d d good afterno...               16   \n",
       "8496                           telephony software issue                3   \n",
       "8497       vip windows password reset tifpdchb pedxruyf                6   \n",
       "8498  unable access macne utilities finish drawers a...               10   \n",
       "8499  mehreren pcs lassen sich verscedene prgramdnty...               10   \n",
       "\n",
       "                                                  words  word_count  \\\n",
       "0     [verified, user, detailsemployee_manager, name...          23   \n",
       "1     [team, meetingsskype, meetings, etc, appearing...          19   \n",
       "2                                            [log, vpn]          11   \n",
       "3                          [unable, access, tool, page]           4   \n",
       "4                                        [skype, error]           2   \n",
       "...                                                 ...         ...   \n",
       "8495  [good_afternoon, receiving, emails, sent, mail...          16   \n",
       "8496                        [telephony_software, issue]           3   \n",
       "8497  [vip, windows, password, reset, tifpdchb, pedx...           6   \n",
       "8498  [unable, access, macne, utilities, finish, dra...          10   \n",
       "8499  [mehreren, pcs, lassen_sich, verscedene, prgra...          10   \n",
       "\n",
       "      char_counts  Digits_count  Avg_word_Count  \\\n",
       "0             124             0        0.185484   \n",
       "1             105             0        0.180952   \n",
       "2              38             0        0.289474   \n",
       "3              20             0        0.200000   \n",
       "4              10             0        0.200000   \n",
       "...           ...           ...             ...   \n",
       "8495           74             0        0.216216   \n",
       "8496           22             0        0.136364   \n",
       "8497           39             0        0.153846   \n",
       "8498           65             0        0.153846   \n",
       "8499           63             0        0.158730   \n",
       "\n",
       "                                             token_desc  \\\n",
       "0     verified user detailsemployee manager name d c...   \n",
       "1     d d hmjdrvpbkomuaywngmailcom d d team d d meet...   \n",
       "2      d d eylqgodmybqkwiamgmailcom d d d d log vpn d d   \n",
       "3                               unable access tool page   \n",
       "4                                           skype error   \n",
       "...                                                 ...   \n",
       "8495  d d avglmrtsvhqmtiuagmailcom d d good afternoo...   \n",
       "8496                           telephony software issue   \n",
       "8497       vip windows password reset tifpdchb pedxruyf   \n",
       "8498  unable access macne utilities finish drawers a...   \n",
       "8499  mehreren pcs lassen sich verscedene prgramdnty...   \n",
       "\n",
       "                                    Cleaned_Description  \n",
       "0     verified user detailsemployee manager name che...  \n",
       "1     hmjdrvpbkomuaywngmailcom team meetingsskype me...  \n",
       "2                      eylqgodmybqkwiamgmailcom log vpn  \n",
       "3                               unable access tool page  \n",
       "4                                           skype error  \n",
       "...                                                 ...  \n",
       "8495  avglmrtsvhqmtiuagmailcom good afternoon receiv...  \n",
       "8496                           telephony software issue  \n",
       "8497       vip windows password reset tifpdchb pedxruyf  \n",
       "8498  unable access macne utilities finish drawers a...  \n",
       "8499  mehreren pcs lassen sich verscedene prgramdnty...  \n",
       "\n",
       "[7354 rows x 15 columns]>"
      ]
     },
     "execution_count": 216,
     "metadata": {},
     "output_type": "execute_result"
    }
   ],
   "source": [
    "new_df.info"
   ]
  },
  {
   "cell_type": "code",
   "execution_count": 217,
   "metadata": {},
   "outputs": [
    {
     "name": "stdout",
     "output_type": "stream",
     "text": [
      "Epoch 1/4\n",
      "WARNING:tensorflow:Model was constructed with shape (None, None) for input KerasTensor(type_spec=TensorSpec(shape=(None, None), dtype=tf.float32, name='embedding_4_input'), name='embedding_4_input', description=\"created by layer 'embedding_4_input'\"), but it was called on an input with incompatible shape (None,).\n"
     ]
    },
    {
     "ename": "ValueError",
     "evalue": "in user code:\n\n    File \"C:\\Users\\DELL\\anaconda6\\lib\\site-packages\\keras\\engine\\training.py\", line 1021, in train_function  *\n        return step_function(self, iterator)\n    File \"C:\\Users\\DELL\\anaconda6\\lib\\site-packages\\keras\\engine\\training.py\", line 1010, in step_function  **\n        outputs = model.distribute_strategy.run(run_step, args=(data,))\n    File \"C:\\Users\\DELL\\anaconda6\\lib\\site-packages\\keras\\engine\\training.py\", line 1000, in run_step  **\n        outputs = model.train_step(data)\n    File \"C:\\Users\\DELL\\anaconda6\\lib\\site-packages\\keras\\engine\\training.py\", line 859, in train_step\n        y_pred = self(x, training=True)\n    File \"C:\\Users\\DELL\\anaconda6\\lib\\site-packages\\keras\\utils\\traceback_utils.py\", line 67, in error_handler\n        raise e.with_traceback(filtered_tb) from None\n    File \"C:\\Users\\DELL\\anaconda6\\lib\\site-packages\\keras\\engine\\input_spec.py\", line 214, in assert_input_compatibility\n        raise ValueError(f'Input {input_index} of layer \"{layer_name}\" '\n\n    ValueError: Exception encountered when calling layer \"sequential\" (type Sequential).\n    \n    Input 0 of layer \"lstm_4\" is incompatible with the layer: expected ndim=3, found ndim=2. Full shape received: (None, 128)\n    \n    Call arguments received:\n      • inputs=tf.Tensor(shape=(None,), dtype=string)\n      • training=True\n      • mask=None\n",
     "output_type": "error",
     "traceback": [
      "\u001b[1;31m---------------------------------------------------------------------------\u001b[0m",
      "\u001b[1;31mValueError\u001b[0m                                Traceback (most recent call last)",
      "Input \u001b[1;32mIn [217]\u001b[0m, in \u001b[0;36m<module>\u001b[1;34m\u001b[0m\n\u001b[0;32m     13\u001b[0m model\u001b[38;5;241m.\u001b[39madd(Dense(\u001b[38;5;241m1\u001b[39m, activation\u001b[38;5;241m=\u001b[39m\u001b[38;5;124m'\u001b[39m\u001b[38;5;124msigmoid\u001b[39m\u001b[38;5;124m'\u001b[39m))\n\u001b[0;32m     15\u001b[0m model\u001b[38;5;241m.\u001b[39mcompile(loss\u001b[38;5;241m=\u001b[39m\u001b[38;5;124m'\u001b[39m\u001b[38;5;124mbinary_crossentropy\u001b[39m\u001b[38;5;124m'\u001b[39m, optimizer \u001b[38;5;241m=\u001b[39m \u001b[38;5;124m'\u001b[39m\u001b[38;5;124mRMSprop\u001b[39m\u001b[38;5;124m'\u001b[39m, metrics\u001b[38;5;241m=\u001b[39m[\u001b[38;5;124m'\u001b[39m\u001b[38;5;124maccuracy\u001b[39m\u001b[38;5;124m'\u001b[39m])\n\u001b[1;32m---> 17\u001b[0m \u001b[43mmodel\u001b[49m\u001b[38;5;241;43m.\u001b[39;49m\u001b[43mfit\u001b[49m\u001b[43m(\u001b[49m\u001b[43mx_train\u001b[49m\u001b[43m,\u001b[49m\u001b[43m \u001b[49m\u001b[43my_train\u001b[49m\u001b[43m,\u001b[49m\u001b[43m \u001b[49m\u001b[43mbatch_size\u001b[49m\u001b[38;5;241;43m=\u001b[39;49m\u001b[43mbatch_size\u001b[49m\u001b[43m,\u001b[49m\u001b[43m \u001b[49m\u001b[43mepochs\u001b[49m\u001b[38;5;241;43m=\u001b[39;49m\u001b[43mepochs\u001b[49m\u001b[43m,\u001b[49m\u001b[43m \u001b[49m\u001b[43mverbose\u001b[49m\u001b[43m \u001b[49m\u001b[38;5;241;43m=\u001b[39;49m\u001b[43m \u001b[49m\u001b[38;5;241;43m1\u001b[39;49m\u001b[43m)\u001b[49m\n",
      "File \u001b[1;32m~\\anaconda6\\lib\\site-packages\\keras\\utils\\traceback_utils.py:67\u001b[0m, in \u001b[0;36mfilter_traceback.<locals>.error_handler\u001b[1;34m(*args, **kwargs)\u001b[0m\n\u001b[0;32m     65\u001b[0m \u001b[38;5;28;01mexcept\u001b[39;00m \u001b[38;5;167;01mException\u001b[39;00m \u001b[38;5;28;01mas\u001b[39;00m e:  \u001b[38;5;66;03m# pylint: disable=broad-except\u001b[39;00m\n\u001b[0;32m     66\u001b[0m   filtered_tb \u001b[38;5;241m=\u001b[39m _process_traceback_frames(e\u001b[38;5;241m.\u001b[39m__traceback__)\n\u001b[1;32m---> 67\u001b[0m   \u001b[38;5;28;01mraise\u001b[39;00m e\u001b[38;5;241m.\u001b[39mwith_traceback(filtered_tb) \u001b[38;5;28;01mfrom\u001b[39;00m \u001b[38;5;28mNone\u001b[39m\n\u001b[0;32m     68\u001b[0m \u001b[38;5;28;01mfinally\u001b[39;00m:\n\u001b[0;32m     69\u001b[0m   \u001b[38;5;28;01mdel\u001b[39;00m filtered_tb\n",
      "File \u001b[1;32m~\\anaconda6\\lib\\site-packages\\tensorflow\\python\\framework\\func_graph.py:1147\u001b[0m, in \u001b[0;36mfunc_graph_from_py_func.<locals>.autograph_handler\u001b[1;34m(*args, **kwargs)\u001b[0m\n\u001b[0;32m   1145\u001b[0m \u001b[38;5;28;01mexcept\u001b[39;00m \u001b[38;5;167;01mException\u001b[39;00m \u001b[38;5;28;01mas\u001b[39;00m e:  \u001b[38;5;66;03m# pylint:disable=broad-except\u001b[39;00m\n\u001b[0;32m   1146\u001b[0m   \u001b[38;5;28;01mif\u001b[39;00m \u001b[38;5;28mhasattr\u001b[39m(e, \u001b[38;5;124m\"\u001b[39m\u001b[38;5;124mag_error_metadata\u001b[39m\u001b[38;5;124m\"\u001b[39m):\n\u001b[1;32m-> 1147\u001b[0m     \u001b[38;5;28;01mraise\u001b[39;00m e\u001b[38;5;241m.\u001b[39mag_error_metadata\u001b[38;5;241m.\u001b[39mto_exception(e)\n\u001b[0;32m   1148\u001b[0m   \u001b[38;5;28;01melse\u001b[39;00m:\n\u001b[0;32m   1149\u001b[0m     \u001b[38;5;28;01mraise\u001b[39;00m\n",
      "\u001b[1;31mValueError\u001b[0m: in user code:\n\n    File \"C:\\Users\\DELL\\anaconda6\\lib\\site-packages\\keras\\engine\\training.py\", line 1021, in train_function  *\n        return step_function(self, iterator)\n    File \"C:\\Users\\DELL\\anaconda6\\lib\\site-packages\\keras\\engine\\training.py\", line 1010, in step_function  **\n        outputs = model.distribute_strategy.run(run_step, args=(data,))\n    File \"C:\\Users\\DELL\\anaconda6\\lib\\site-packages\\keras\\engine\\training.py\", line 1000, in run_step  **\n        outputs = model.train_step(data)\n    File \"C:\\Users\\DELL\\anaconda6\\lib\\site-packages\\keras\\engine\\training.py\", line 859, in train_step\n        y_pred = self(x, training=True)\n    File \"C:\\Users\\DELL\\anaconda6\\lib\\site-packages\\keras\\utils\\traceback_utils.py\", line 67, in error_handler\n        raise e.with_traceback(filtered_tb) from None\n    File \"C:\\Users\\DELL\\anaconda6\\lib\\site-packages\\keras\\engine\\input_spec.py\", line 214, in assert_input_compatibility\n        raise ValueError(f'Input {input_index} of layer \"{layer_name}\" '\n\n    ValueError: Exception encountered when calling layer \"sequential\" (type Sequential).\n    \n    Input 0 of layer \"lstm_4\" is incompatible with the layer: expected ndim=3, found ndim=2. Full shape received: (None, 128)\n    \n    Call arguments received:\n      • inputs=tf.Tensor(shape=(None,), dtype=string)\n      • training=True\n      • mask=None\n"
     ]
    }
   ],
   "source": [
    "x_train, y_train = new_df.iloc[:, 14].values, new_df.iloc[:, 2].values\n",
    "\n",
    "tokenizer = Tokenizer(num_words=vocab_size)\n",
    "\n",
    "tokenizer.fit_on_texts(x_train)\n",
    "sequences = tokenizer.texts_to_sequences(x_train)\n",
    "x_train_new = pad_sequences(sequences, maxlen=max_len)\n",
    "\n",
    "model = Sequential()\n",
    "model.add(Embedding(vocab_size, 128))\n",
    "model.add(LSTM(128, dropout=0.2))\n",
    "model.add(Dense(32, activation='relu'))\n",
    "model.add(Dense(1, activation='sigmoid'))\n",
    "\n",
    "model.compile(loss='binary_crossentropy', optimizer = 'RMSprop', metrics=['accuracy'])\n",
    "\n",
    "model.fit(x_train, y_train, batch_size=batch_size, epochs=epochs, verbose = 1)"
   ]
  },
  {
   "cell_type": "code",
   "execution_count": null,
   "metadata": {},
   "outputs": [],
   "source": [
    "\n",
    "#pip install pydot"
   ]
  },
  {
   "cell_type": "code",
   "execution_count": null,
   "metadata": {},
   "outputs": [],
   "source": [
    "vocab_size=20000\n",
    "embedding_dim=14\n",
    "max_length=200\n",
    "trunc_type=\"post\"\n",
    "pad_type=\"post\"\n",
    "oov_tok=\"<OOV>\""
   ]
  },
  {
   "cell_type": "code",
   "execution_count": null,
   "metadata": {},
   "outputs": [],
   "source": []
  },
  {
   "cell_type": "code",
   "execution_count": 2,
   "metadata": {},
   "outputs": [
    {
     "ename": "NameError",
     "evalue": "name 'np' is not defined",
     "output_type": "error",
     "traceback": [
      "\u001b[1;31m---------------------------------------------------------------------------\u001b[0m",
      "\u001b[1;31mNameError\u001b[0m                                 Traceback (most recent call last)",
      "Input \u001b[1;32mIn [2]\u001b[0m, in \u001b[0;36m<module>\u001b[1;34m\u001b[0m\n\u001b[1;32m----> 1\u001b[0m embeddings_matrix \u001b[38;5;241m=\u001b[39m \u001b[43mnp\u001b[49m\u001b[38;5;241m.\u001b[39mzeros((\u001b[38;5;28mlen\u001b[39m(data_words)\u001b[38;5;241m+\u001b[39m\u001b[38;5;241m1\u001b[39m, embedding_dim))\n\u001b[0;32m      2\u001b[0m \u001b[38;5;28;01mfor\u001b[39;00m word, i \u001b[38;5;129;01min\u001b[39;00m data_words\u001b[38;5;241m.\u001b[39mitems():\n\u001b[0;32m      3\u001b[0m     embedding_vector \u001b[38;5;241m=\u001b[39m embeddings_index\u001b[38;5;241m.\u001b[39mget(word)\n",
      "\u001b[1;31mNameError\u001b[0m: name 'np' is not defined"
     ]
    }
   ],
   "source": [
    "embeddings_matrix = np.zeros((len(data_words)+1, embedding_dim))\n",
    "for word, i in data_words.items():\n",
    "    embedding_vector = embeddings_index.get(word)\n",
    "    if embedding_vector is not None:\n",
    "        embeddings_matrix[i] = embedding_vector"
   ]
  },
  {
   "cell_type": "code",
   "execution_count": 3,
   "metadata": {},
   "outputs": [
    {
     "ename": "NameError",
     "evalue": "name 'Sequential' is not defined",
     "output_type": "error",
     "traceback": [
      "\u001b[1;31m---------------------------------------------------------------------------\u001b[0m",
      "\u001b[1;31mNameError\u001b[0m                                 Traceback (most recent call last)",
      "Input \u001b[1;32mIn [3]\u001b[0m, in \u001b[0;36m<module>\u001b[1;34m\u001b[0m\n\u001b[1;32m----> 1\u001b[0m model \u001b[38;5;241m=\u001b[39m \u001b[43mSequential\u001b[49m()\n\u001b[0;32m      2\u001b[0m model\u001b[38;5;241m.\u001b[39madd(Embedding(\u001b[38;5;241m7411\u001b[39m\u001b[38;5;241m+\u001b[39m\u001b[38;5;241m1\u001b[39m,embedding_dim, input_length\u001b[38;5;241m=\u001b[39mmax_length, weights\u001b[38;5;241m=\u001b[39m[embeddings_matrix]))\n\u001b[0;32m      3\u001b[0m model\u001b[38;5;241m.\u001b[39madd(SpatialDropout1D(\u001b[38;5;241m0.4\u001b[39m))\n",
      "\u001b[1;31mNameError\u001b[0m: name 'Sequential' is not defined"
     ]
    }
   ],
   "source": [
    "model = Sequential()\n",
    "model.add(Embedding(7411+1,embedding_dim, input_length=max_length, weights=[embeddings_matrix]))\n",
    "model.add(SpatialDropout1D(0.4))\n",
    "model.add(Bidirectional(LSTM(128,return_sequences=True,recurrent_dropout = 0.5,dropout = 0.5)))\n",
    "model.add(GlobalMaxPool1D())\n",
    "model.add(Dense(32,kernel_regularizer=regularizers.l2(0.01),activation='relu'))\n",
    "model.add(Dense(1, activation=\"sigmoid\"))\n",
    "\n",
    "model.compile(optimizer='adam',loss='binary_crossentropy',metrics=['acc'])\n",
    "model.summary()"
   ]
  },
  {
   "cell_type": "code",
   "execution_count": 4,
   "metadata": {},
   "outputs": [
    {
     "ename": "NameError",
     "evalue": "name 'Input' is not defined",
     "output_type": "error",
     "traceback": [
      "\u001b[1;31m---------------------------------------------------------------------------\u001b[0m",
      "\u001b[1;31mNameError\u001b[0m                                 Traceback (most recent call last)",
      "Input \u001b[1;32mIn [4]\u001b[0m, in \u001b[0;36m<module>\u001b[1;34m\u001b[0m\n\u001b[0;32m      1\u001b[0m max_len \u001b[38;5;241m=\u001b[39m \u001b[38;5;241m50\u001b[39m\n\u001b[1;32m----> 2\u001b[0m \u001b[38;5;28minput\u001b[39m \u001b[38;5;241m=\u001b[39m \u001b[43mInput\u001b[49m(shape\u001b[38;5;241m=\u001b[39m(max_len,)) \u001b[38;5;66;03m# Input layer\u001b[39;00m\n\u001b[0;32m      3\u001b[0m model \u001b[38;5;241m=\u001b[39m Embedding(input_dim \u001b[38;5;241m=\u001b[39m \u001b[38;5;241m1\u001b[39m,  input_length\u001b[38;5;241m=\u001b[39mmax_len)(\u001b[38;5;28minput\u001b[39m) \u001b[38;5;66;03m# Word embedding layer\u001b[39;00m\n\u001b[0;32m      4\u001b[0m model \u001b[38;5;241m=\u001b[39m Dropout(\u001b[38;5;241m0.1\u001b[39m)(model) \u001b[38;5;66;03m# Dropout\u001b[39;00m\n",
      "\u001b[1;31mNameError\u001b[0m: name 'Input' is not defined"
     ]
    }
   ],
   "source": [
    "max_len = 50\n",
    "input = Input(shape=(max_len,)) # Input layer\n",
    "model = Embedding(input_dim = 1,  input_length=max_len)(input) # Word embedding layer\n",
    "model = Dropout(0.1)(model) # Dropout\n",
    "model = Bidirectional(LSTM(units=100, return_sequences=True, recurrent_dropout=0.1))(model) # Bi-directional LSTM layer\n",
    "out = TimeDistributed(Dense(14, activation=\"softmax\"))(model)"
   ]
  },
  {
   "cell_type": "code",
   "execution_count": 5,
   "metadata": {},
   "outputs": [
    {
     "ename": "NameError",
     "evalue": "name 'Sequential' is not defined",
     "output_type": "error",
     "traceback": [
      "\u001b[1;31m---------------------------------------------------------------------------\u001b[0m",
      "\u001b[1;31mNameError\u001b[0m                                 Traceback (most recent call last)",
      "Input \u001b[1;32mIn [5]\u001b[0m, in \u001b[0;36m<module>\u001b[1;34m\u001b[0m\n\u001b[1;32m----> 1\u001b[0m model \u001b[38;5;241m=\u001b[39m \u001b[43mSequential\u001b[49m()\n\u001b[0;32m      2\u001b[0m model\u001b[38;5;241m.\u001b[39madd(Dense(\u001b[38;5;241m12\u001b[39m, input_dim\u001b[38;5;241m=\u001b[39m\u001b[38;5;241m1\u001b[39m, init\u001b[38;5;241m=\u001b[39m\u001b[38;5;124m'\u001b[39m\u001b[38;5;124muniform\u001b[39m\u001b[38;5;124m'\u001b[39m, activation\u001b[38;5;241m=\u001b[39m\u001b[38;5;124m'\u001b[39m\u001b[38;5;124mrelu\u001b[39m\u001b[38;5;124m'\u001b[39m))\n\u001b[0;32m      3\u001b[0m model\u001b[38;5;241m.\u001b[39madd(Dense(\u001b[38;5;241m8\u001b[39m, init\u001b[38;5;241m=\u001b[39m\u001b[38;5;124m'\u001b[39m\u001b[38;5;124muniform\u001b[39m\u001b[38;5;124m'\u001b[39m, activation\u001b[38;5;241m=\u001b[39m\u001b[38;5;124m'\u001b[39m\u001b[38;5;124mrelu\u001b[39m\u001b[38;5;124m'\u001b[39m))\n",
      "\u001b[1;31mNameError\u001b[0m: name 'Sequential' is not defined"
     ]
    }
   ],
   "source": [
    "model = Sequential()\n",
    "model.add(Dense(12, input_dim=1, init='uniform', activation='relu'))\n",
    "model.add(Dense(8, init='uniform', activation='relu'))\n",
    "model.add(Dense(1, init='uniform', activation='sigmoid'))"
   ]
  },
  {
   "cell_type": "code",
   "execution_count": 6,
   "metadata": {},
   "outputs": [
    {
     "ename": "NameError",
     "evalue": "name 'y' is not defined",
     "output_type": "error",
     "traceback": [
      "\u001b[1;31m---------------------------------------------------------------------------\u001b[0m",
      "\u001b[1;31mNameError\u001b[0m                                 Traceback (most recent call last)",
      "Input \u001b[1;32mIn [6]\u001b[0m, in \u001b[0;36m<module>\u001b[1;34m\u001b[0m\n\u001b[1;32m----> 1\u001b[0m \u001b[38;5;28mlen\u001b[39m(\u001b[43my\u001b[49m)\n",
      "\u001b[1;31mNameError\u001b[0m: name 'y' is not defined"
     ]
    }
   ],
   "source": [
    "len(y)"
   ]
  },
  {
   "cell_type": "code",
   "execution_count": 7,
   "metadata": {},
   "outputs": [
    {
     "ename": "NameError",
     "evalue": "name 'Model' is not defined",
     "output_type": "error",
     "traceback": [
      "\u001b[1;31m---------------------------------------------------------------------------\u001b[0m",
      "\u001b[1;31mNameError\u001b[0m                                 Traceback (most recent call last)",
      "Input \u001b[1;32mIn [7]\u001b[0m, in \u001b[0;36m<module>\u001b[1;34m\u001b[0m\n\u001b[1;32m----> 1\u001b[0m model \u001b[38;5;241m=\u001b[39m \u001b[43mModel\u001b[49m(\u001b[38;5;28minput\u001b[39m, out)\n",
      "\u001b[1;31mNameError\u001b[0m: name 'Model' is not defined"
     ]
    }
   ],
   "source": [
    "model = Model(input, out) # Complete model"
   ]
  },
  {
   "cell_type": "code",
   "execution_count": 8,
   "metadata": {},
   "outputs": [
    {
     "ename": "NameError",
     "evalue": "name 'y_train' is not defined",
     "output_type": "error",
     "traceback": [
      "\u001b[1;31m---------------------------------------------------------------------------\u001b[0m",
      "\u001b[1;31mNameError\u001b[0m                                 Traceback (most recent call last)",
      "Input \u001b[1;32mIn [8]\u001b[0m, in \u001b[0;36m<module>\u001b[1;34m\u001b[0m\n\u001b[1;32m----> 1\u001b[0m \u001b[43my_train\u001b[49m\u001b[38;5;241m.\u001b[39mshape\n",
      "\u001b[1;31mNameError\u001b[0m: name 'y_train' is not defined"
     ]
    }
   ],
   "source": [
    "y_train.shape"
   ]
  },
  {
   "cell_type": "code",
   "execution_count": null,
   "metadata": {},
   "outputs": [],
   "source": [
    "model.compile(optimizer=\"rmsprop\", loss=\"categorical_crossentropy\", metrics=[\"accuracy\"]) # Compile with an optimizer"
   ]
  },
  {
   "cell_type": "code",
   "execution_count": 9,
   "metadata": {},
   "outputs": [
    {
     "ename": "NameError",
     "evalue": "name 'model' is not defined",
     "output_type": "error",
     "traceback": [
      "\u001b[1;31m---------------------------------------------------------------------------\u001b[0m",
      "\u001b[1;31mNameError\u001b[0m                                 Traceback (most recent call last)",
      "Input \u001b[1;32mIn [9]\u001b[0m, in \u001b[0;36m<module>\u001b[1;34m\u001b[0m\n\u001b[1;32m----> 1\u001b[0m history \u001b[38;5;241m=\u001b[39m \u001b[43mmodel\u001b[49m\u001b[38;5;241m.\u001b[39mfit(X_train, np\u001b[38;5;241m.\u001b[39marray(y_train), batch_size\u001b[38;5;241m=\u001b[39m\u001b[38;5;241m32\u001b[39m, epochs\u001b[38;5;241m=\u001b[39m\u001b[38;5;241m3\u001b[39m, validation_split\u001b[38;5;241m=\u001b[39m\u001b[38;5;241m0.1\u001b[39m, verbose\u001b[38;5;241m=\u001b[39m\u001b[38;5;241m1\u001b[39m)\n",
      "\u001b[1;31mNameError\u001b[0m: name 'model' is not defined"
     ]
    }
   ],
   "source": [
    "history = model.fit(X_train, np.array(y_train), batch_size=32, epochs=3, validation_split=0.1, verbose=1) # Train"
   ]
  },
  {
   "cell_type": "code",
   "execution_count": 10,
   "metadata": {},
   "outputs": [
    {
     "ename": "NameError",
     "evalue": "name 'df_inc_sample' is not defined",
     "output_type": "error",
     "traceback": [
      "\u001b[1;31m---------------------------------------------------------------------------\u001b[0m",
      "\u001b[1;31mNameError\u001b[0m                                 Traceback (most recent call last)",
      "Input \u001b[1;32mIn [10]\u001b[0m, in \u001b[0;36m<module>\u001b[1;34m\u001b[0m\n\u001b[1;32m----> 1\u001b[0m X \u001b[38;5;241m=\u001b[39m \u001b[43mdf_inc_sample\u001b[49m[\u001b[38;5;124m'\u001b[39m\u001b[38;5;124mtoken_desc\u001b[39m\u001b[38;5;124m'\u001b[39m]\n\u001b[0;32m      2\u001b[0m y \u001b[38;5;241m=\u001b[39m df_inc_sample[\u001b[38;5;124m'\u001b[39m\u001b[38;5;124mAssignment group\u001b[39m\u001b[38;5;124m'\u001b[39m]\n",
      "\u001b[1;31mNameError\u001b[0m: name 'df_inc_sample' is not defined"
     ]
    }
   ],
   "source": [
    "X = df_inc_sample['token_desc']\n",
    "y = df_inc_sample['Assignment group']"
   ]
  },
  {
   "cell_type": "code",
   "execution_count": 11,
   "metadata": {},
   "outputs": [
    {
     "ename": "NameError",
     "evalue": "name 'nltk' is not defined",
     "output_type": "error",
     "traceback": [
      "\u001b[1;31m---------------------------------------------------------------------------\u001b[0m",
      "\u001b[1;31mNameError\u001b[0m                                 Traceback (most recent call last)",
      "Input \u001b[1;32mIn [11]\u001b[0m, in \u001b[0;36m<module>\u001b[1;34m\u001b[0m\n\u001b[0;32m      5\u001b[0m \u001b[38;5;66;03m# This is fixed.\u001b[39;00m\n\u001b[0;32m      6\u001b[0m EMBEDDING_DIM \u001b[38;5;241m=\u001b[39m \u001b[38;5;241m100\u001b[39m\n\u001b[1;32m----> 7\u001b[0m tokenizer \u001b[38;5;241m=\u001b[39m \u001b[43mnltk\u001b[49m\u001b[38;5;241m.\u001b[39mword_tokenize(num_words\u001b[38;5;241m=\u001b[39mMAX_NB_WORDS, filters\u001b[38;5;241m=\u001b[39m\u001b[38;5;124m'\u001b[39m\u001b[38;5;124m!\u001b[39m\u001b[38;5;124m\"\u001b[39m\u001b[38;5;124m#$\u001b[39m\u001b[38;5;124m%\u001b[39m\u001b[38;5;124m&()*+,-./:;<=>?@[\u001b[39m\u001b[38;5;124m\\\u001b[39m\u001b[38;5;124m]^_`\u001b[39m\u001b[38;5;124m{\u001b[39m\u001b[38;5;124m|}~\u001b[39m\u001b[38;5;124m'\u001b[39m, lower\u001b[38;5;241m=\u001b[39m\u001b[38;5;28;01mTrue\u001b[39;00m)\n\u001b[0;32m      8\u001b[0m tokenizer\u001b[38;5;241m.\u001b[39mfit_on_texts(df_inc_sample[\u001b[38;5;124m'\u001b[39m\u001b[38;5;124mtoken_desc\u001b[39m\u001b[38;5;124m'\u001b[39m]\u001b[38;5;241m.\u001b[39mvalues)\n\u001b[0;32m      9\u001b[0m word_index \u001b[38;5;241m=\u001b[39m tokenizer\u001b[38;5;241m.\u001b[39mword_index\n",
      "\u001b[1;31mNameError\u001b[0m: name 'nltk' is not defined"
     ]
    }
   ],
   "source": [
    "# The maximum number of words to be used. (most frequent)\n",
    "MAX_NB_WORDS = 50000\n",
    "# Max number of words in each complaint.\n",
    "MAX_SEQUENCE_LENGTH = 250\n",
    "# This is fixed.\n",
    "EMBEDDING_DIM = 100\n",
    "tokenizer = nltk.word_tokenize(num_words=MAX_NB_WORDS, filters='!\"#$%&()*+,-./:;<=>?@[\\]^_`{|}~', lower=True)\n",
    "tokenizer.fit_on_texts(df_inc_sample['token_desc'].values)\n",
    "word_index = tokenizer.word_index\n",
    "print('Found %s unique tokens.' % len(word_index))"
   ]
  },
  {
   "cell_type": "code",
   "execution_count": 12,
   "metadata": {},
   "outputs": [],
   "source": [
    "# The maximum number of words to be used. (most frequent)\n",
    "MAX_NB_WORDS = 50000\n",
    "# Max number of words in each complaint.\n",
    "MAX_SEQUENCE_LENGTH = 250\n",
    "# This is fixed.\n",
    "EMBEDDING_DIM = 100"
   ]
  },
  {
   "cell_type": "code",
   "execution_count": 13,
   "metadata": {},
   "outputs": [
    {
     "ename": "NameError",
     "evalue": "name 'model' is not defined",
     "output_type": "error",
     "traceback": [
      "\u001b[1;31m---------------------------------------------------------------------------\u001b[0m",
      "\u001b[1;31mNameError\u001b[0m                                 Traceback (most recent call last)",
      "Input \u001b[1;32mIn [13]\u001b[0m, in \u001b[0;36m<module>\u001b[1;34m\u001b[0m\n\u001b[0;32m      1\u001b[0m \u001b[38;5;66;03m#model = Sequential()\u001b[39;00m\n\u001b[1;32m----> 2\u001b[0m \u001b[43mmodel\u001b[49m\u001b[38;5;241m.\u001b[39madd(Embedding(MAX_NB_WORDS, EMBEDDING_DIM, input_length\u001b[38;5;241m=\u001b[39mX\u001b[38;5;241m.\u001b[39mshape[\u001b[38;5;241m1\u001b[39m]))\n\u001b[0;32m      3\u001b[0m model\u001b[38;5;241m.\u001b[39madd(SpatialDropout1D(\u001b[38;5;241m0.2\u001b[39m))\n\u001b[0;32m      4\u001b[0m model\u001b[38;5;241m.\u001b[39madd(LSTM(\u001b[38;5;241m100\u001b[39m, dropout\u001b[38;5;241m=\u001b[39m\u001b[38;5;241m0.2\u001b[39m, recurrent_dropout\u001b[38;5;241m=\u001b[39m\u001b[38;5;241m0.2\u001b[39m))\n",
      "\u001b[1;31mNameError\u001b[0m: name 'model' is not defined"
     ]
    }
   ],
   "source": [
    "\n",
    "#model = Sequential()\n",
    "model.add(Embedding(MAX_NB_WORDS, EMBEDDING_DIM, input_length=X.shape[1]))\n",
    "model.add(SpatialDropout1D(0.2))\n",
    "model.add(LSTM(100, dropout=0.2, recurrent_dropout=0.2))\n",
    "model.add(Dense(13, activation='softmax'))\n",
    "model.compile(loss='categorical_crossentropy', optimizer='adam', metrics=['accuracy'])"
   ]
  },
  {
   "cell_type": "markdown",
   "metadata": {},
   "source": [
    "# Ends Here"
   ]
  },
  {
   "cell_type": "code",
   "execution_count": 79,
   "metadata": {},
   "outputs": [],
   "source": [
    "# Creating a function for wordcloud\n",
    "def wordcloud_grp(f, x):\n",
    "    wordclouds_0=' '.join(map(str, f))\n",
    "\n",
    "    wc = WordCloud(width=480, height=480, max_font_size=20, min_font_size=10, max_words=50).generate(wordclouds_0)\n",
    "    plt.figure(figsize=(20,10))\n",
    "    plt.imshow(wc, interpolation=\"bilinear\")\n",
    "    plt.axis(\"off\")\n",
    "    plt.title(\"Most common 50 words of {}\".format(x))\n",
    "    plt.margins(x=0, y=0)\n",
    "    plt.show()"
   ]
  },
  {
   "cell_type": "code",
   "execution_count": 77,
   "metadata": {},
   "outputs": [],
   "source": [
    "#pip install plotly cufflinks\n",
    "import matplotlib.pyplot as plt\n",
    "import seaborn as sns\n",
    "import cufflinks as cf\n",
    "import plotly as py\n",
    "import plotly.graph_objs as go\n",
    "from plotly.offline import download_plotlyjs,init_notebook_mode,plot,iplot"
   ]
  },
  {
   "cell_type": "code",
   "execution_count": 78,
   "metadata": {},
   "outputs": [
    {
     "ename": "PlotlyRequestError",
     "evalue": "Authentication credentials were not provided.",
     "output_type": "error",
     "traceback": [
      "\u001b[1;31m---------------------------------------------------------------------------\u001b[0m",
      "\u001b[1;31mPlotlyRequestError\u001b[0m                        Traceback (most recent call last)",
      "Input \u001b[1;32mIn [78]\u001b[0m, in \u001b[0;36m<module>\u001b[1;34m\u001b[0m\n\u001b[1;32m----> 1\u001b[0m \u001b[43mdf\u001b[49m\u001b[43m[\u001b[49m\u001b[38;5;124;43m'\u001b[39;49m\u001b[38;5;124;43mAssignment group\u001b[39;49m\u001b[38;5;124;43m'\u001b[39;49m\u001b[43m]\u001b[49m\u001b[38;5;241;43m.\u001b[39;49m\u001b[43miplot\u001b[49m\u001b[43m(\u001b[49m\n\u001b[0;32m      2\u001b[0m \u001b[43m    \u001b[49m\u001b[43mkind\u001b[49m\u001b[38;5;241;43m=\u001b[39;49m\u001b[38;5;124;43m'\u001b[39;49m\u001b[38;5;124;43mhist\u001b[39;49m\u001b[38;5;124;43m'\u001b[39;49m\u001b[43m,\u001b[49m\n\u001b[0;32m      3\u001b[0m \u001b[43m    \u001b[49m\u001b[43mxTitle\u001b[49m\u001b[38;5;241;43m=\u001b[39;49m\u001b[38;5;124;43m'\u001b[39;49m\u001b[38;5;124;43mAssignment Group\u001b[39;49m\u001b[38;5;124;43m'\u001b[39;49m\u001b[43m,\u001b[49m\n\u001b[0;32m      4\u001b[0m \u001b[43m    \u001b[49m\u001b[43myTitle\u001b[49m\u001b[38;5;241;43m=\u001b[39;49m\u001b[38;5;124;43m'\u001b[39;49m\u001b[38;5;124;43mcount\u001b[39;49m\u001b[38;5;124;43m'\u001b[39;49m\u001b[43m,\u001b[49m\n\u001b[0;32m      5\u001b[0m \u001b[43m    \u001b[49m\u001b[43mtitle\u001b[49m\u001b[38;5;241;43m=\u001b[39;49m\u001b[38;5;124;43m'\u001b[39;49m\u001b[38;5;124;43mAssignment Group Distribution- Histogram (Fig-1)\u001b[39;49m\u001b[38;5;124;43m'\u001b[39;49m\u001b[43m)\u001b[49m\n",
      "File \u001b[1;32m~\\anaconda6\\lib\\site-packages\\cufflinks\\plotlytools.py:1216\u001b[0m, in \u001b[0;36m_iplot\u001b[1;34m(self, kind, data, layout, filename, sharing, title, xTitle, yTitle, zTitle, theme, colors, colorscale, fill, width, dash, mode, interpolation, symbol, size, barmode, sortbars, bargap, bargroupgap, bins, histnorm, histfunc, orientation, boxpoints, annotations, keys, bestfit, bestfit_colors, mean, mean_colors, categories, x, y, z, text, gridcolor, zerolinecolor, margin, labels, values, secondary_y, secondary_y_title, subplots, shape, error_x, error_y, error_type, locations, lon, lat, asFrame, asDates, asFigure, asImage, dimensions, asPlot, asUrl, online, **kwargs)\u001b[0m\n\u001b[0;32m   1214\u001b[0m \t\u001b[38;5;28;01mreturn\u001b[39;00m Figure(figure)\n\u001b[0;32m   1215\u001b[0m \u001b[38;5;28;01melse\u001b[39;00m:\n\u001b[1;32m-> 1216\u001b[0m \t\u001b[38;5;28;01mreturn\u001b[39;00m \u001b[43miplot\u001b[49m\u001b[43m(\u001b[49m\u001b[43mfigure\u001b[49m\u001b[43m,\u001b[49m\u001b[43mvalidate\u001b[49m\u001b[38;5;241;43m=\u001b[39;49m\u001b[43mvalidate\u001b[49m\u001b[43m,\u001b[49m\u001b[43msharing\u001b[49m\u001b[38;5;241;43m=\u001b[39;49m\u001b[43msharing\u001b[49m\u001b[43m,\u001b[49m\u001b[43mfilename\u001b[49m\u001b[38;5;241;43m=\u001b[39;49m\u001b[43mfilename\u001b[49m\u001b[43m,\u001b[49m\n\u001b[0;32m   1217\u001b[0m \u001b[43m\t\t \u001b[49m\u001b[43monline\u001b[49m\u001b[38;5;241;43m=\u001b[39;49m\u001b[43monline\u001b[49m\u001b[43m,\u001b[49m\u001b[43masImage\u001b[49m\u001b[38;5;241;43m=\u001b[39;49m\u001b[43masImage\u001b[49m\u001b[43m,\u001b[49m\u001b[43masUrl\u001b[49m\u001b[38;5;241;43m=\u001b[39;49m\u001b[43masUrl\u001b[49m\u001b[43m,\u001b[49m\u001b[43masPlot\u001b[49m\u001b[38;5;241;43m=\u001b[39;49m\u001b[43masPlot\u001b[49m\u001b[43m,\u001b[49m\n\u001b[0;32m   1218\u001b[0m \u001b[43m\t\t \u001b[49m\u001b[43mdimensions\u001b[49m\u001b[38;5;241;43m=\u001b[39;49m\u001b[43mdimensions\u001b[49m\u001b[43m,\u001b[49m\u001b[43mdisplay_image\u001b[49m\u001b[38;5;241;43m=\u001b[39;49m\u001b[43mkwargs\u001b[49m\u001b[38;5;241;43m.\u001b[39;49m\u001b[43mget\u001b[49m\u001b[43m(\u001b[49m\u001b[38;5;124;43m'\u001b[39;49m\u001b[38;5;124;43mdisplay_image\u001b[39;49m\u001b[38;5;124;43m'\u001b[39;49m\u001b[43m,\u001b[49m\u001b[38;5;28;43;01mTrue\u001b[39;49;00m\u001b[43m)\u001b[49m\u001b[43m)\u001b[49m\n",
      "File \u001b[1;32m~\\anaconda6\\lib\\site-packages\\cufflinks\\plotlytools.py:1470\u001b[0m, in \u001b[0;36miplot\u001b[1;34m(figure, validate, sharing, filename, online, asImage, asUrl, asPlot, dimensions, display_image, **kwargs)\u001b[0m\n\u001b[0;32m   1468\u001b[0m \t\u001b[38;5;28;01mreturn\u001b[39;00m offline\u001b[38;5;241m.\u001b[39mpy_offline\u001b[38;5;241m.\u001b[39miplot(figure, validate\u001b[38;5;241m=\u001b[39mvalidate, filename\u001b[38;5;241m=\u001b[39mfilename, show_link\u001b[38;5;241m=\u001b[39mshow_link, link_text\u001b[38;5;241m=\u001b[39mlink_text, config\u001b[38;5;241m=\u001b[39mconfig)\n\u001b[0;32m   1469\u001b[0m \u001b[38;5;28;01melse\u001b[39;00m:\t\t\n\u001b[1;32m-> 1470\u001b[0m \t\u001b[38;5;28;01mreturn\u001b[39;00m \u001b[43mpy\u001b[49m\u001b[38;5;241;43m.\u001b[39;49m\u001b[43miplot\u001b[49m\u001b[43m(\u001b[49m\u001b[43mfigure\u001b[49m\u001b[43m,\u001b[49m\u001b[43mvalidate\u001b[49m\u001b[38;5;241;43m=\u001b[39;49m\u001b[43mvalidate\u001b[49m\u001b[43m,\u001b[49m\u001b[43msharing\u001b[49m\u001b[38;5;241;43m=\u001b[39;49m\u001b[43msharing\u001b[49m\u001b[43m,\u001b[49m\n\u001b[0;32m   1471\u001b[0m \u001b[43m\t\t\t\t\t\u001b[49m\u001b[43mfilename\u001b[49m\u001b[38;5;241;43m=\u001b[39;49m\u001b[43mfilename\u001b[49m\u001b[43m)\u001b[49m\n",
      "File \u001b[1;32m~\\anaconda6\\lib\\site-packages\\chart_studio\\plotly\\plotly.py:135\u001b[0m, in \u001b[0;36miplot\u001b[1;34m(figure_or_data, **plot_options)\u001b[0m\n\u001b[0;32m    133\u001b[0m \u001b[38;5;28;01mif\u001b[39;00m \u001b[38;5;124m\"\u001b[39m\u001b[38;5;124mauto_open\u001b[39m\u001b[38;5;124m\"\u001b[39m \u001b[38;5;129;01mnot\u001b[39;00m \u001b[38;5;129;01min\u001b[39;00m plot_options:\n\u001b[0;32m    134\u001b[0m     plot_options[\u001b[38;5;124m\"\u001b[39m\u001b[38;5;124mauto_open\u001b[39m\u001b[38;5;124m\"\u001b[39m] \u001b[38;5;241m=\u001b[39m \u001b[38;5;28;01mFalse\u001b[39;00m\n\u001b[1;32m--> 135\u001b[0m url \u001b[38;5;241m=\u001b[39m plot(figure_or_data, \u001b[38;5;241m*\u001b[39m\u001b[38;5;241m*\u001b[39mplot_options)\n\u001b[0;32m    137\u001b[0m \u001b[38;5;28;01mif\u001b[39;00m \u001b[38;5;28misinstance\u001b[39m(figure_or_data, \u001b[38;5;28mdict\u001b[39m):\n\u001b[0;32m    138\u001b[0m     layout \u001b[38;5;241m=\u001b[39m figure_or_data\u001b[38;5;241m.\u001b[39mget(\u001b[38;5;124m\"\u001b[39m\u001b[38;5;124mlayout\u001b[39m\u001b[38;5;124m\"\u001b[39m, {})\n",
      "File \u001b[1;32m~\\anaconda6\\lib\\site-packages\\chart_studio\\plotly\\plotly.py:276\u001b[0m, in \u001b[0;36mplot\u001b[1;34m(figure_or_data, validate, **plot_options)\u001b[0m\n\u001b[0;32m    273\u001b[0m \u001b[38;5;28;01melse\u001b[39;00m:\n\u001b[0;32m    274\u001b[0m     grid_filename \u001b[38;5;241m=\u001b[39m filename \u001b[38;5;241m+\u001b[39m \u001b[38;5;124m\"\u001b[39m\u001b[38;5;124m_grid\u001b[39m\u001b[38;5;124m\"\u001b[39m\n\u001b[1;32m--> 276\u001b[0m \u001b[43mgrid_ops\u001b[49m\u001b[38;5;241;43m.\u001b[39;49m\u001b[43mupload\u001b[49m\u001b[43m(\u001b[49m\n\u001b[0;32m    277\u001b[0m \u001b[43m    \u001b[49m\u001b[43mgrid\u001b[49m\u001b[38;5;241;43m=\u001b[39;49m\u001b[43mgrid\u001b[49m\u001b[43m,\u001b[49m\n\u001b[0;32m    278\u001b[0m \u001b[43m    \u001b[49m\u001b[43mfilename\u001b[49m\u001b[38;5;241;43m=\u001b[39;49m\u001b[43mgrid_filename\u001b[49m\u001b[43m,\u001b[49m\n\u001b[0;32m    279\u001b[0m \u001b[43m    \u001b[49m\u001b[43mworld_readable\u001b[49m\u001b[38;5;241;43m=\u001b[39;49m\u001b[43mpayload\u001b[49m\u001b[43m[\u001b[49m\u001b[38;5;124;43m\"\u001b[39;49m\u001b[38;5;124;43mworld_readable\u001b[39;49m\u001b[38;5;124;43m\"\u001b[39;49m\u001b[43m]\u001b[49m\u001b[43m,\u001b[49m\n\u001b[0;32m    280\u001b[0m \u001b[43m    \u001b[49m\u001b[43mauto_open\u001b[49m\u001b[38;5;241;43m=\u001b[39;49m\u001b[38;5;28;43;01mFalse\u001b[39;49;00m\u001b[43m,\u001b[49m\n\u001b[0;32m    281\u001b[0m \u001b[43m\u001b[49m\u001b[43m)\u001b[49m\n\u001b[0;32m    283\u001b[0m _set_grid_column_references(figure, grid)\n\u001b[0;32m    284\u001b[0m payload[\u001b[38;5;124m\"\u001b[39m\u001b[38;5;124mfigure\u001b[39m\u001b[38;5;124m\"\u001b[39m] \u001b[38;5;241m=\u001b[39m figure\n",
      "File \u001b[1;32m~\\anaconda6\\lib\\site-packages\\chart_studio\\plotly\\plotly.py:1087\u001b[0m, in \u001b[0;36mgrid_ops.upload\u001b[1;34m(cls, grid, filename, world_readable, auto_open, meta)\u001b[0m\n\u001b[0;32m   1084\u001b[0m     \u001b[38;5;28;01mif\u001b[39;00m parent_path:\n\u001b[0;32m   1085\u001b[0m         payload[\u001b[38;5;124m\"\u001b[39m\u001b[38;5;124mparent_path\u001b[39m\u001b[38;5;124m\"\u001b[39m] \u001b[38;5;241m=\u001b[39m parent_path\n\u001b[1;32m-> 1087\u001b[0m file_info \u001b[38;5;241m=\u001b[39m \u001b[43m_create_or_overwrite_grid\u001b[49m\u001b[43m(\u001b[49m\u001b[43mpayload\u001b[49m\u001b[43m)\u001b[49m\n\u001b[0;32m   1089\u001b[0m cols \u001b[38;5;241m=\u001b[39m file_info[\u001b[38;5;124m\"\u001b[39m\u001b[38;5;124mcols\u001b[39m\u001b[38;5;124m\"\u001b[39m]\n\u001b[0;32m   1090\u001b[0m fid \u001b[38;5;241m=\u001b[39m file_info[\u001b[38;5;124m\"\u001b[39m\u001b[38;5;124mfid\u001b[39m\u001b[38;5;124m\"\u001b[39m]\n",
      "File \u001b[1;32m~\\anaconda6\\lib\\site-packages\\chart_studio\\plotly\\plotly.py:1550\u001b[0m, in \u001b[0;36m_create_or_overwrite_grid\u001b[1;34m(data, max_retries)\u001b[0m\n\u001b[0;32m   1548\u001b[0m \u001b[38;5;66;03m# Create file\u001b[39;00m\n\u001b[0;32m   1549\u001b[0m \u001b[38;5;28;01mtry\u001b[39;00m:\n\u001b[1;32m-> 1550\u001b[0m     res \u001b[38;5;241m=\u001b[39m \u001b[43mapi_module\u001b[49m\u001b[38;5;241;43m.\u001b[39;49m\u001b[43mcreate\u001b[49m\u001b[43m(\u001b[49m\u001b[43mdata\u001b[49m\u001b[43m)\u001b[49m\n\u001b[0;32m   1551\u001b[0m \u001b[38;5;28;01mexcept\u001b[39;00m exceptions\u001b[38;5;241m.\u001b[39mPlotlyRequestError \u001b[38;5;28;01mas\u001b[39;00m e:\n\u001b[0;32m   1552\u001b[0m     \u001b[38;5;28;01mif\u001b[39;00m max_retries \u001b[38;5;241m>\u001b[39m \u001b[38;5;241m0\u001b[39m \u001b[38;5;129;01mand\u001b[39;00m \u001b[38;5;124m\"\u001b[39m\u001b[38;5;124malready exists\u001b[39m\u001b[38;5;124m\"\u001b[39m \u001b[38;5;129;01min\u001b[39;00m e\u001b[38;5;241m.\u001b[39mmessage:\n\u001b[0;32m   1553\u001b[0m         \u001b[38;5;66;03m# Retry _create_or_overwrite\u001b[39;00m\n",
      "File \u001b[1;32m~\\anaconda6\\lib\\site-packages\\chart_studio\\api\\v2\\grids.py:18\u001b[0m, in \u001b[0;36mcreate\u001b[1;34m(body)\u001b[0m\n\u001b[0;32m     10\u001b[0m \u001b[38;5;124;03m\"\"\"\u001b[39;00m\n\u001b[0;32m     11\u001b[0m \u001b[38;5;124;03mCreate a new grid.\u001b[39;00m\n\u001b[0;32m     12\u001b[0m \n\u001b[1;32m   (...)\u001b[0m\n\u001b[0;32m     15\u001b[0m \n\u001b[0;32m     16\u001b[0m \u001b[38;5;124;03m\"\"\"\u001b[39;00m\n\u001b[0;32m     17\u001b[0m url \u001b[38;5;241m=\u001b[39m build_url(RESOURCE)\n\u001b[1;32m---> 18\u001b[0m \u001b[38;5;28;01mreturn\u001b[39;00m \u001b[43mrequest\u001b[49m\u001b[43m(\u001b[49m\u001b[38;5;124;43m\"\u001b[39;49m\u001b[38;5;124;43mpost\u001b[39;49m\u001b[38;5;124;43m\"\u001b[39;49m\u001b[43m,\u001b[49m\u001b[43m \u001b[49m\u001b[43murl\u001b[49m\u001b[43m,\u001b[49m\u001b[43m \u001b[49m\u001b[43mjson\u001b[49m\u001b[38;5;241;43m=\u001b[39;49m\u001b[43mbody\u001b[49m\u001b[43m)\u001b[49m\n",
      "File \u001b[1;32m~\\anaconda6\\lib\\site-packages\\retrying.py:49\u001b[0m, in \u001b[0;36mretry.<locals>.wrap.<locals>.wrapped_f\u001b[1;34m(*args, **kw)\u001b[0m\n\u001b[0;32m     47\u001b[0m \u001b[38;5;129m@six\u001b[39m\u001b[38;5;241m.\u001b[39mwraps(f)\n\u001b[0;32m     48\u001b[0m \u001b[38;5;28;01mdef\u001b[39;00m \u001b[38;5;21mwrapped_f\u001b[39m(\u001b[38;5;241m*\u001b[39margs, \u001b[38;5;241m*\u001b[39m\u001b[38;5;241m*\u001b[39mkw):\n\u001b[1;32m---> 49\u001b[0m     \u001b[38;5;28;01mreturn\u001b[39;00m Retrying(\u001b[38;5;241m*\u001b[39mdargs, \u001b[38;5;241m*\u001b[39m\u001b[38;5;241m*\u001b[39mdkw)\u001b[38;5;241m.\u001b[39mcall(f, \u001b[38;5;241m*\u001b[39margs, \u001b[38;5;241m*\u001b[39m\u001b[38;5;241m*\u001b[39mkw)\n",
      "File \u001b[1;32m~\\anaconda6\\lib\\site-packages\\retrying.py:206\u001b[0m, in \u001b[0;36mRetrying.call\u001b[1;34m(self, fn, *args, **kwargs)\u001b[0m\n\u001b[0;32m    203\u001b[0m     attempt \u001b[38;5;241m=\u001b[39m Attempt(tb, attempt_number, \u001b[38;5;28;01mTrue\u001b[39;00m)\n\u001b[0;32m    205\u001b[0m \u001b[38;5;28;01mif\u001b[39;00m \u001b[38;5;129;01mnot\u001b[39;00m \u001b[38;5;28mself\u001b[39m\u001b[38;5;241m.\u001b[39mshould_reject(attempt):\n\u001b[1;32m--> 206\u001b[0m     \u001b[38;5;28;01mreturn\u001b[39;00m \u001b[43mattempt\u001b[49m\u001b[38;5;241;43m.\u001b[39;49m\u001b[43mget\u001b[49m\u001b[43m(\u001b[49m\u001b[38;5;28;43mself\u001b[39;49m\u001b[38;5;241;43m.\u001b[39;49m\u001b[43m_wrap_exception\u001b[49m\u001b[43m)\u001b[49m\n\u001b[0;32m    208\u001b[0m delay_since_first_attempt_ms \u001b[38;5;241m=\u001b[39m \u001b[38;5;28mint\u001b[39m(\u001b[38;5;28mround\u001b[39m(time\u001b[38;5;241m.\u001b[39mtime() \u001b[38;5;241m*\u001b[39m \u001b[38;5;241m1000\u001b[39m)) \u001b[38;5;241m-\u001b[39m start_time\n\u001b[0;32m    209\u001b[0m \u001b[38;5;28;01mif\u001b[39;00m \u001b[38;5;28mself\u001b[39m\u001b[38;5;241m.\u001b[39mstop(attempt_number, delay_since_first_attempt_ms):\n",
      "File \u001b[1;32m~\\anaconda6\\lib\\site-packages\\retrying.py:247\u001b[0m, in \u001b[0;36mAttempt.get\u001b[1;34m(self, wrap_exception)\u001b[0m\n\u001b[0;32m    245\u001b[0m         \u001b[38;5;28;01mraise\u001b[39;00m RetryError(\u001b[38;5;28mself\u001b[39m)\n\u001b[0;32m    246\u001b[0m     \u001b[38;5;28;01melse\u001b[39;00m:\n\u001b[1;32m--> 247\u001b[0m         \u001b[43msix\u001b[49m\u001b[38;5;241;43m.\u001b[39;49m\u001b[43mreraise\u001b[49m\u001b[43m(\u001b[49m\u001b[38;5;28;43mself\u001b[39;49m\u001b[38;5;241;43m.\u001b[39;49m\u001b[43mvalue\u001b[49m\u001b[43m[\u001b[49m\u001b[38;5;241;43m0\u001b[39;49m\u001b[43m]\u001b[49m\u001b[43m,\u001b[49m\u001b[43m \u001b[49m\u001b[38;5;28;43mself\u001b[39;49m\u001b[38;5;241;43m.\u001b[39;49m\u001b[43mvalue\u001b[49m\u001b[43m[\u001b[49m\u001b[38;5;241;43m1\u001b[39;49m\u001b[43m]\u001b[49m\u001b[43m,\u001b[49m\u001b[43m \u001b[49m\u001b[38;5;28;43mself\u001b[39;49m\u001b[38;5;241;43m.\u001b[39;49m\u001b[43mvalue\u001b[49m\u001b[43m[\u001b[49m\u001b[38;5;241;43m2\u001b[39;49m\u001b[43m]\u001b[49m\u001b[43m)\u001b[49m\n\u001b[0;32m    248\u001b[0m \u001b[38;5;28;01melse\u001b[39;00m:\n\u001b[0;32m    249\u001b[0m     \u001b[38;5;28;01mreturn\u001b[39;00m \u001b[38;5;28mself\u001b[39m\u001b[38;5;241m.\u001b[39mvalue\n",
      "File \u001b[1;32m~\\AppData\\Roaming\\Python\\Python39\\site-packages\\six.py:719\u001b[0m, in \u001b[0;36mreraise\u001b[1;34m(tp, value, tb)\u001b[0m\n\u001b[0;32m    717\u001b[0m     \u001b[38;5;28;01mif\u001b[39;00m value\u001b[38;5;241m.\u001b[39m__traceback__ \u001b[38;5;129;01mis\u001b[39;00m \u001b[38;5;129;01mnot\u001b[39;00m tb:\n\u001b[0;32m    718\u001b[0m         \u001b[38;5;28;01mraise\u001b[39;00m value\u001b[38;5;241m.\u001b[39mwith_traceback(tb)\n\u001b[1;32m--> 719\u001b[0m     \u001b[38;5;28;01mraise\u001b[39;00m value\n\u001b[0;32m    720\u001b[0m \u001b[38;5;28;01mfinally\u001b[39;00m:\n\u001b[0;32m    721\u001b[0m     value \u001b[38;5;241m=\u001b[39m \u001b[38;5;28;01mNone\u001b[39;00m\n",
      "File \u001b[1;32m~\\anaconda6\\lib\\site-packages\\retrying.py:200\u001b[0m, in \u001b[0;36mRetrying.call\u001b[1;34m(self, fn, *args, **kwargs)\u001b[0m\n\u001b[0;32m    198\u001b[0m \u001b[38;5;28;01mwhile\u001b[39;00m \u001b[38;5;28;01mTrue\u001b[39;00m:\n\u001b[0;32m    199\u001b[0m     \u001b[38;5;28;01mtry\u001b[39;00m:\n\u001b[1;32m--> 200\u001b[0m         attempt \u001b[38;5;241m=\u001b[39m Attempt(fn(\u001b[38;5;241m*\u001b[39margs, \u001b[38;5;241m*\u001b[39m\u001b[38;5;241m*\u001b[39mkwargs), attempt_number, \u001b[38;5;28;01mFalse\u001b[39;00m)\n\u001b[0;32m    201\u001b[0m     \u001b[38;5;28;01mexcept\u001b[39;00m:\n\u001b[0;32m    202\u001b[0m         tb \u001b[38;5;241m=\u001b[39m sys\u001b[38;5;241m.\u001b[39mexc_info()\n",
      "File \u001b[1;32m~\\anaconda6\\lib\\site-packages\\chart_studio\\api\\v2\\utils.py:180\u001b[0m, in \u001b[0;36mrequest\u001b[1;34m(method, url, **kwargs)\u001b[0m\n\u001b[0;32m    178\u001b[0m     content \u001b[38;5;241m=\u001b[39m response\u001b[38;5;241m.\u001b[39mcontent \u001b[38;5;28;01mif\u001b[39;00m response \u001b[38;5;28;01melse\u001b[39;00m \u001b[38;5;124m\"\u001b[39m\u001b[38;5;124mNo content\u001b[39m\u001b[38;5;124m\"\u001b[39m\n\u001b[0;32m    179\u001b[0m     \u001b[38;5;28;01mraise\u001b[39;00m exceptions\u001b[38;5;241m.\u001b[39mPlotlyRequestError(message, status_code, content)\n\u001b[1;32m--> 180\u001b[0m \u001b[43mvalidate_response\u001b[49m\u001b[43m(\u001b[49m\u001b[43mresponse\u001b[49m\u001b[43m)\u001b[49m\n\u001b[0;32m    181\u001b[0m \u001b[38;5;28;01mreturn\u001b[39;00m response\n",
      "File \u001b[1;32m~\\anaconda6\\lib\\site-packages\\chart_studio\\api\\v2\\utils.py:82\u001b[0m, in \u001b[0;36mvalidate_response\u001b[1;34m(response)\u001b[0m\n\u001b[0;32m     79\u001b[0m \u001b[38;5;28;01mif\u001b[39;00m \u001b[38;5;129;01mnot\u001b[39;00m message:\n\u001b[0;32m     80\u001b[0m     message \u001b[38;5;241m=\u001b[39m content \u001b[38;5;28;01mif\u001b[39;00m content \u001b[38;5;28;01melse\u001b[39;00m \u001b[38;5;124m\"\u001b[39m\u001b[38;5;124mNo Content\u001b[39m\u001b[38;5;124m\"\u001b[39m\n\u001b[1;32m---> 82\u001b[0m \u001b[38;5;28;01mraise\u001b[39;00m exceptions\u001b[38;5;241m.\u001b[39mPlotlyRequestError(message, status_code, content)\n",
      "\u001b[1;31mPlotlyRequestError\u001b[0m: Authentication credentials were not provided."
     ]
    }
   ],
   "source": [
    "df['Assignment group'].iplot(\n",
    "    kind='hist',\n",
    "    xTitle='Assignment Group',\n",
    "    yTitle='count',\n",
    "    title='Assignment Group Distribution- Histogram (Fig-1)')"
   ]
  },
  {
   "cell_type": "code",
   "execution_count": null,
   "metadata": {},
   "outputs": [],
   "source": [
    "\n",
    "#pip install chart_studio"
   ]
  },
  {
   "cell_type": "code",
   "execution_count": 93,
   "metadata": {},
   "outputs": [
    {
     "name": "stderr",
     "output_type": "stream",
     "text": [
      "[nltk_data] Downloading package wordnet to\n",
      "[nltk_data]     C:\\Users\\DELL\\AppData\\Roaming\\nltk_data...\n",
      "[nltk_data]   Package wordnet is already up-to-date!\n",
      "[nltk_data] Downloading package punkt to\n",
      "[nltk_data]     C:\\Users\\DELL\\AppData\\Roaming\\nltk_data...\n",
      "[nltk_data]   Package punkt is already up-to-date!\n",
      "[nltk_data] Downloading package stopwords to\n",
      "[nltk_data]     C:\\Users\\DELL\\AppData\\Roaming\\nltk_data...\n",
      "[nltk_data]   Package stopwords is already up-to-date!\n",
      "[nltk_data] Downloading package averaged_perceptron_tagger to\n",
      "[nltk_data]     C:\\Users\\DELL\\AppData\\Roaming\\nltk_data...\n",
      "[nltk_data]   Package averaged_perceptron_tagger is already up-to-\n",
      "[nltk_data]       date!\n"
     ]
    },
    {
     "ename": "ModuleNotFoundError",
     "evalue": "No module named 'en_core_web_sm'",
     "output_type": "error",
     "traceback": [
      "\u001b[1;31m---------------------------------------------------------------------------\u001b[0m",
      "\u001b[1;31mModuleNotFoundError\u001b[0m                       Traceback (most recent call last)",
      "Input \u001b[1;32mIn [93]\u001b[0m, in \u001b[0;36m<module>\u001b[1;34m\u001b[0m\n\u001b[0;32m     10\u001b[0m   df[\u001b[38;5;124m'\u001b[39m\u001b[38;5;124mDescription\u001b[39m\u001b[38;5;124m'\u001b[39m][i]\u001b[38;5;241m=\u001b[39m\u001b[38;5;124m\"\u001b[39m\u001b[38;5;124m \u001b[39m\u001b[38;5;124m\"\u001b[39m\u001b[38;5;241m.\u001b[39mjoin(word \u001b[38;5;28;01mfor\u001b[39;00m word \u001b[38;5;129;01min\u001b[39;00m text\u001b[38;5;241m.\u001b[39msplit(\u001b[38;5;124m'\u001b[39m\u001b[38;5;124m \u001b[39m\u001b[38;5;124m'\u001b[39m) \u001b[38;5;28;01mif\u001b[39;00m word \u001b[38;5;129;01mnot\u001b[39;00m \u001b[38;5;129;01min\u001b[39;00m sr)\n\u001b[0;32m     13\u001b[0m \u001b[38;5;28;01mimport\u001b[39;00m \u001b[38;5;21;01mspacy\u001b[39;00m\n\u001b[1;32m---> 14\u001b[0m \u001b[38;5;28;01mimport\u001b[39;00m \u001b[38;5;21;01men_core_web_sm\u001b[39;00m\n\u001b[0;32m     16\u001b[0m spacy\u001b[38;5;241m.\u001b[39mprefer_gpu()\n\u001b[0;32m     17\u001b[0m nlp \u001b[38;5;241m=\u001b[39m en_core_web_sm\u001b[38;5;241m.\u001b[39mload()\n",
      "\u001b[1;31mModuleNotFoundError\u001b[0m: No module named 'en_core_web_sm'"
     ]
    }
   ],
   "source": [
    "from nltk.corpus import stopwords\n",
    "import nltk\n",
    "nltk.download('wordnet')\n",
    "nltk.download('punkt')\n",
    "nltk.download('stopwords')\n",
    "nltk.download('averaged_perceptron_tagger') \n",
    "\n",
    "sr = stopwords.words('english')\n",
    "for i,text in enumerate(df['Description']):\n",
    "  df['Description'][i]=\" \".join(word for word in text.split(' ') if word not in sr)\n",
    "\n",
    "\n",
    "import spacy\n",
    "import en_core_web_sm\n",
    "\n",
    "spacy.prefer_gpu()\n",
    "nlp = en_core_web_sm.load()\n",
    "\n",
    "#nlp = spacy.load('en', disable=['parser', 'ner'])\n",
    "allowed_postags=['NOUN', 'ADJ', 'VERB', 'ADV']\n",
    "def lemmatize_text(text):\n",
    "    doc = nlp(text)\n",
    "    return ' '.join([token.lemma_ for token in doc])\n",
    "\n",
    "df['Description'] = df['Description'].apply(lemmatize_text)\n"
   ]
  },
  {
   "cell_type": "code",
   "execution_count": 2,
   "metadata": {},
   "outputs": [
    {
     "ename": "OSError",
     "evalue": "[E050] Can't find model 'en_core_web_md'. It doesn't seem to be a Python package or a valid path to a data directory.",
     "output_type": "error",
     "traceback": [
      "\u001b[1;31m---------------------------------------------------------------------------\u001b[0m",
      "\u001b[1;31mOSError\u001b[0m                                   Traceback (most recent call last)",
      "Input \u001b[1;32mIn [2]\u001b[0m, in \u001b[0;36m<module>\u001b[1;34m\u001b[0m\n\u001b[0;32m      1\u001b[0m \u001b[38;5;28;01mimport\u001b[39;00m \u001b[38;5;21;01mspacy\u001b[39;00m\n\u001b[1;32m----> 2\u001b[0m nlp \u001b[38;5;241m=\u001b[39m \u001b[43mspacy\u001b[49m\u001b[38;5;241;43m.\u001b[39;49m\u001b[43mload\u001b[49m\u001b[43m(\u001b[49m\u001b[38;5;124;43m'\u001b[39;49m\u001b[38;5;124;43men_core_web_md\u001b[39;49m\u001b[38;5;124;43m'\u001b[39;49m\u001b[43m,\u001b[49m\u001b[43m \u001b[49m\u001b[43mdisable\u001b[49m\u001b[38;5;241;43m=\u001b[39;49m\u001b[43m[\u001b[49m\u001b[38;5;124;43m'\u001b[39;49m\u001b[38;5;124;43mparser\u001b[39;49m\u001b[38;5;124;43m'\u001b[39;49m\u001b[43m,\u001b[49m\u001b[43m \u001b[49m\u001b[38;5;124;43m'\u001b[39;49m\u001b[38;5;124;43mner\u001b[39;49m\u001b[38;5;124;43m'\u001b[39;49m\u001b[43m]\u001b[49m\u001b[43m)\u001b[49m\n\u001b[0;32m      4\u001b[0m \u001b[38;5;66;03m# Define a function to lemmatize the descriptions\u001b[39;00m\n\u001b[0;32m      5\u001b[0m \u001b[38;5;28;01mdef\u001b[39;00m \u001b[38;5;21mlemmatizer\u001b[39m(sentence):\n\u001b[0;32m      6\u001b[0m     \u001b[38;5;66;03m# Parse the sentence using the loaded 'en' model object `nlp`\u001b[39;00m\n",
      "File \u001b[1;32m~\\anaconda6\\lib\\site-packages\\spacy\\__init__.py:51\u001b[0m, in \u001b[0;36mload\u001b[1;34m(name, vocab, disable, exclude, config)\u001b[0m\n\u001b[0;32m     30\u001b[0m \u001b[38;5;28;01mdef\u001b[39;00m \u001b[38;5;21mload\u001b[39m(\n\u001b[0;32m     31\u001b[0m     name: Union[\u001b[38;5;28mstr\u001b[39m, Path],\n\u001b[0;32m     32\u001b[0m     \u001b[38;5;241m*\u001b[39m,\n\u001b[1;32m   (...)\u001b[0m\n\u001b[0;32m     36\u001b[0m     config: Union[Dict[\u001b[38;5;28mstr\u001b[39m, Any], Config] \u001b[38;5;241m=\u001b[39m util\u001b[38;5;241m.\u001b[39mSimpleFrozenDict(),\n\u001b[0;32m     37\u001b[0m ) \u001b[38;5;241m-\u001b[39m\u001b[38;5;241m>\u001b[39m Language:\n\u001b[0;32m     38\u001b[0m     \u001b[38;5;124;03m\"\"\"Load a spaCy model from an installed package or a local path.\u001b[39;00m\n\u001b[0;32m     39\u001b[0m \n\u001b[0;32m     40\u001b[0m \u001b[38;5;124;03m    name (str): Package name or model path.\u001b[39;00m\n\u001b[1;32m   (...)\u001b[0m\n\u001b[0;32m     49\u001b[0m \u001b[38;5;124;03m    RETURNS (Language): The loaded nlp object.\u001b[39;00m\n\u001b[0;32m     50\u001b[0m \u001b[38;5;124;03m    \"\"\"\u001b[39;00m\n\u001b[1;32m---> 51\u001b[0m     \u001b[38;5;28;01mreturn\u001b[39;00m \u001b[43mutil\u001b[49m\u001b[38;5;241;43m.\u001b[39;49m\u001b[43mload_model\u001b[49m\u001b[43m(\u001b[49m\n\u001b[0;32m     52\u001b[0m \u001b[43m        \u001b[49m\u001b[43mname\u001b[49m\u001b[43m,\u001b[49m\u001b[43m \u001b[49m\u001b[43mvocab\u001b[49m\u001b[38;5;241;43m=\u001b[39;49m\u001b[43mvocab\u001b[49m\u001b[43m,\u001b[49m\u001b[43m \u001b[49m\u001b[43mdisable\u001b[49m\u001b[38;5;241;43m=\u001b[39;49m\u001b[43mdisable\u001b[49m\u001b[43m,\u001b[49m\u001b[43m \u001b[49m\u001b[43mexclude\u001b[49m\u001b[38;5;241;43m=\u001b[39;49m\u001b[43mexclude\u001b[49m\u001b[43m,\u001b[49m\u001b[43m \u001b[49m\u001b[43mconfig\u001b[49m\u001b[38;5;241;43m=\u001b[39;49m\u001b[43mconfig\u001b[49m\n\u001b[0;32m     53\u001b[0m \u001b[43m    \u001b[49m\u001b[43m)\u001b[49m\n",
      "File \u001b[1;32m~\\anaconda6\\lib\\site-packages\\spacy\\util.py:427\u001b[0m, in \u001b[0;36mload_model\u001b[1;34m(name, vocab, disable, exclude, config)\u001b[0m\n\u001b[0;32m    425\u001b[0m \u001b[38;5;28;01mif\u001b[39;00m name \u001b[38;5;129;01min\u001b[39;00m OLD_MODEL_SHORTCUTS:\n\u001b[0;32m    426\u001b[0m     \u001b[38;5;28;01mraise\u001b[39;00m \u001b[38;5;167;01mIOError\u001b[39;00m(Errors\u001b[38;5;241m.\u001b[39mE941\u001b[38;5;241m.\u001b[39mformat(name\u001b[38;5;241m=\u001b[39mname, full\u001b[38;5;241m=\u001b[39mOLD_MODEL_SHORTCUTS[name]))  \u001b[38;5;66;03m# type: ignore[index]\u001b[39;00m\n\u001b[1;32m--> 427\u001b[0m \u001b[38;5;28;01mraise\u001b[39;00m \u001b[38;5;167;01mIOError\u001b[39;00m(Errors\u001b[38;5;241m.\u001b[39mE050\u001b[38;5;241m.\u001b[39mformat(name\u001b[38;5;241m=\u001b[39mname))\n",
      "\u001b[1;31mOSError\u001b[0m: [E050] Can't find model 'en_core_web_md'. It doesn't seem to be a Python package or a valid path to a data directory."
     ]
    }
   ],
   "source": [
    "import spacy\n",
    "nlp = spacy.load('en_core_web_md', disable=['parser', 'ner'])\n",
    "\n",
    "# Define a function to lemmatize the descriptions\n",
    "def lemmatizer(sentence):\n",
    "    # Parse the sentence using the loaded 'en' model object `nlp`\n",
    "    doc = nlp(sentence)\n",
    "    return \" \".join([token.lemma_ for token in doc if token.lemma_ !='-PRON-'])\n",
    "# Take an example of row# 43 Description and lemmatize it\n"
   ]
  },
  {
   "cell_type": "code",
   "execution_count": null,
   "metadata": {},
   "outputs": [],
   "source": []
  }
 ],
 "metadata": {
  "accelerator": "GPU",
  "colab": {
   "collapsed_sections": [],
   "name": "Capstone_final.ipynb",
   "provenance": []
  },
  "kernelspec": {
   "display_name": "Python 3 (ipykernel)",
   "language": "python",
   "name": "python3"
  },
  "language_info": {
   "codemirror_mode": {
    "name": "ipython",
    "version": 3
   },
   "file_extension": ".py",
   "mimetype": "text/x-python",
   "name": "python",
   "nbconvert_exporter": "python",
   "pygments_lexer": "ipython3",
   "version": "3.9.7"
  }
 },
 "nbformat": 4,
 "nbformat_minor": 1
}
